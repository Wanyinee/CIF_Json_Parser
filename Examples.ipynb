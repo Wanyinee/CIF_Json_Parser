{
 "cells": [
  {
   "cell_type": "code",
   "execution_count": 1,
   "metadata": {},
   "outputs": [
    {
     "data": {
      "text/html": [
       "        <script type=\"text/javascript\">\n",
       "        window.PlotlyConfig = {MathJaxConfig: 'local'};\n",
       "        if (window.MathJax) {MathJax.Hub.Config({SVG: {font: \"STIX-Web\"}});}\n",
       "        if (typeof require !== 'undefined') {\n",
       "        require.undef(\"plotly\");\n",
       "        requirejs.config({\n",
       "            paths: {\n",
       "                'plotly': ['https://cdn.plot.ly/plotly-latest.min']\n",
       "            }\n",
       "        });\n",
       "        require(['plotly'], function(Plotly) {\n",
       "            window._Plotly = Plotly;\n",
       "        });\n",
       "        }\n",
       "        </script>\n",
       "        "
      ]
     },
     "metadata": {},
     "output_type": "display_data"
    }
   ],
   "source": [
    "from cif_to_graph import CrystalGraph\n",
    "from graph_helper import to_networkx_graph, to_plotly_figure\n",
    "from plotly.offline import init_notebook_mode, iplot\n",
    "from glob import glob\n",
    "init_notebook_mode(connected=True)"
   ]
  },
  {
   "cell_type": "code",
   "execution_count": 2,
   "metadata": {
    "scrolled": false
   },
   "outputs": [
    {
     "data": {
      "application/vnd.plotly.v1+json": {
       "config": {
        "linkText": "Export to plot.ly",
        "plotlyServerURL": "https://plot.ly",
        "showLink": false
       },
       "data": [
        {
         "marker": {
          "color": [
           "white",
           "white",
           "white",
           "white",
           "red",
           "red",
           "red",
           "red",
           "red",
           "red",
           "red",
           "red",
           "orange",
           "orange"
          ],
          "line": {
           "color": "lightgray",
           "width": 2
          },
          "opacity": 0.8,
          "size": [
           9.200000000000001,
           9.200000000000001,
           9.200000000000001,
           9.200000000000001,
           27.200000000000003,
           27.200000000000003,
           27.200000000000003,
           27.200000000000003,
           27.200000000000003,
           27.200000000000003,
           27.200000000000003,
           27.200000000000003,
           42,
           42
          ],
          "symbol": "circle"
         },
         "mode": "markers",
         "text": [
          "H1",
          "H2",
          "H3",
          "H4",
          "O1",
          "O2",
          "O3",
          "O4",
          "O5",
          "O6",
          "O7",
          "O8",
          "P1",
          "P2"
         ],
         "type": "scatter3d",
         "x": [
          1.8826,
          -1.4828,
          -5.1145,
          -1.7545,
          1.5808,
          -0.5062,
          -0.3676,
          -0.5249,
          -4.8074,
          -2.8746,
          -2.7126,
          -2.7048,
          0,
          -3.2288
         ],
         "y": [
          1.0401,
          1.4273,
          -0.8314,
          -1.2343,
          0.2004,
          -0.466,
          -1.0843,
          1.4234,
          -0.006,
          1.27,
          0.6966,
          -1.2292,
          0,
          0.2011
         ],
         "z": [
          -0.3461,
          -0.8045,
          -2.1558,
          -1.6994,
          0.0487,
          1.3543,
          -1.0156,
          -0.4281,
          -2.575,
          -1.4633,
          -3.8409,
          -2.0923,
          0,
          -2.5016
         ]
        },
        {
         "hoverinfo": "none",
         "marker": {
          "color": "gray",
          "opacity": 0.1,
          "size": 3
         },
         "mode": "lines",
         "type": "scatter3d",
         "x": [
          1.8826,
          1.5808,
          null,
          1.5808,
          0,
          null,
          1.5808,
          1.8826,
          null,
          -1.4828,
          -0.5249,
          null,
          -1.4828,
          -2.8746,
          null,
          -0.5249,
          -1.4828,
          null,
          -0.5249,
          0,
          null,
          -5.1145,
          -4.8074,
          null,
          -4.8074,
          -5.1145,
          null,
          -4.8074,
          -3.2288,
          null,
          -1.7545,
          -0.3676,
          null,
          -1.7545,
          -2.7048,
          null,
          -2.7048,
          -3.2288,
          null,
          -2.7048,
          -1.7545,
          null,
          0,
          1.5808,
          null,
          0,
          -0.3676,
          null,
          0,
          -0.5249,
          null,
          0,
          -0.5062,
          null,
          -0.5062,
          0,
          null,
          -0.3676,
          0,
          null,
          -0.3676,
          -1.7545,
          null,
          -3.2288,
          -4.8074,
          null,
          -3.2288,
          -2.8746,
          null,
          -3.2288,
          -2.7048,
          null,
          -3.2288,
          -2.7126,
          null,
          -2.8746,
          -1.4828,
          null,
          -2.8746,
          -3.2288,
          null,
          -2.7126,
          -3.2288,
          null
         ],
         "y": [
          1.0401,
          0.2004,
          null,
          0.2004,
          0,
          null,
          0.2004,
          1.0401,
          null,
          1.4273,
          1.4234,
          null,
          1.4273,
          1.27,
          null,
          1.4234,
          1.4273,
          null,
          1.4234,
          0,
          null,
          -0.8314,
          -0.006,
          null,
          -0.006,
          -0.8314,
          null,
          -0.006,
          0.2011,
          null,
          -1.2343,
          -1.0843,
          null,
          -1.2343,
          -1.2292,
          null,
          -1.2292,
          0.2011,
          null,
          -1.2292,
          -1.2343,
          null,
          0,
          0.2004,
          null,
          0,
          -1.0843,
          null,
          0,
          1.4234,
          null,
          0,
          -0.466,
          null,
          -0.466,
          0,
          null,
          -1.0843,
          0,
          null,
          -1.0843,
          -1.2343,
          null,
          0.2011,
          -0.006,
          null,
          0.2011,
          1.27,
          null,
          0.2011,
          -1.2292,
          null,
          0.2011,
          0.6966,
          null,
          1.27,
          1.4273,
          null,
          1.27,
          0.2011,
          null,
          0.6966,
          0.2011,
          null
         ],
         "z": [
          -0.3461,
          0.0487,
          null,
          0.0487,
          0,
          null,
          0.0487,
          -0.3461,
          null,
          -0.8045,
          -0.4281,
          null,
          -0.8045,
          -1.4633,
          null,
          -0.4281,
          -0.8045,
          null,
          -0.4281,
          0,
          null,
          -2.1558,
          -2.575,
          null,
          -2.575,
          -2.1558,
          null,
          -2.575,
          -2.5016,
          null,
          -1.6994,
          -1.0156,
          null,
          -1.6994,
          -2.0923,
          null,
          -2.0923,
          -2.5016,
          null,
          -2.0923,
          -1.6994,
          null,
          0,
          0.0487,
          null,
          0,
          -1.0156,
          null,
          0,
          -0.4281,
          null,
          0,
          1.3543,
          null,
          1.3543,
          0,
          null,
          -1.0156,
          0,
          null,
          -1.0156,
          -1.6994,
          null,
          -2.5016,
          -2.575,
          null,
          -2.5016,
          -1.4633,
          null,
          -2.5016,
          -2.0923,
          null,
          -2.5016,
          -3.8409,
          null,
          -1.4633,
          -0.8045,
          null,
          -1.4633,
          -2.5016,
          null,
          -3.8409,
          -2.5016,
          null
         ]
        }
       ],
       "layout": {
        "margin": {
         "b": 0,
         "l": 0,
         "r": 0,
         "t": 0
        },
        "scene": {
         "annotations": [
          {
           "showarrow": false,
           "text": "H1",
           "x": 1.8826,
           "y": 1.0401,
           "yshift": 15,
           "z": -0.3461
          },
          {
           "showarrow": false,
           "text": "H2",
           "x": -1.4828,
           "y": 1.4273,
           "yshift": 15,
           "z": -0.8045
          },
          {
           "showarrow": false,
           "text": "H3",
           "x": -5.1145,
           "y": -0.8314,
           "yshift": 15,
           "z": -2.1558
          },
          {
           "showarrow": false,
           "text": "H4",
           "x": -1.7545,
           "y": -1.2343,
           "yshift": 15,
           "z": -1.6994
          },
          {
           "showarrow": false,
           "text": "O1",
           "x": 1.5808,
           "y": 0.2004,
           "yshift": 15,
           "z": 0.0487
          },
          {
           "showarrow": false,
           "text": "O2",
           "x": -0.5062,
           "y": -0.466,
           "yshift": 15,
           "z": 1.3543
          },
          {
           "showarrow": false,
           "text": "O3",
           "x": -0.3676,
           "y": -1.0843,
           "yshift": 15,
           "z": -1.0156
          },
          {
           "showarrow": false,
           "text": "O4",
           "x": -0.5249,
           "y": 1.4234,
           "yshift": 15,
           "z": -0.4281
          },
          {
           "showarrow": false,
           "text": "O5",
           "x": -4.8074,
           "y": -0.006,
           "yshift": 15,
           "z": -2.575
          },
          {
           "showarrow": false,
           "text": "O6",
           "x": -2.8746,
           "y": 1.27,
           "yshift": 15,
           "z": -1.4633
          },
          {
           "showarrow": false,
           "text": "O7",
           "x": -2.7126,
           "y": 0.6966,
           "yshift": 15,
           "z": -3.8409
          },
          {
           "showarrow": false,
           "text": "O8",
           "x": -2.7048,
           "y": -1.2292,
           "yshift": 15,
           "z": -2.0923
          },
          {
           "showarrow": false,
           "text": "P1",
           "x": 0,
           "y": 0,
           "yshift": 15,
           "z": 0
          },
          {
           "showarrow": false,
           "text": "P2",
           "x": -3.2288,
           "y": 0.2011,
           "yshift": 15,
           "z": -2.5016
          }
         ],
         "xaxis": {
          "showbackground": true,
          "showgrid": true,
          "showticklabels": true,
          "title": {
           "font": {
            "color": "white"
           }
          },
          "zeroline": true
         },
         "yaxis": {
          "showbackground": true,
          "showgrid": true,
          "showticklabels": true,
          "title": {
           "font": {
            "color": "white"
           }
          },
          "zeroline": true
         },
         "zaxis": {
          "showbackground": true,
          "showgrid": true,
          "showticklabels": true,
          "title": {
           "font": {
            "color": "white"
           }
          },
          "zeroline": true
         }
        },
        "showlegend": false,
        "template": {
         "data": {
          "bar": [
           {
            "error_x": {
             "color": "#2a3f5f"
            },
            "error_y": {
             "color": "#2a3f5f"
            },
            "marker": {
             "line": {
              "color": "#E5ECF6",
              "width": 0.5
             }
            },
            "type": "bar"
           }
          ],
          "barpolar": [
           {
            "marker": {
             "line": {
              "color": "#E5ECF6",
              "width": 0.5
             }
            },
            "type": "barpolar"
           }
          ],
          "carpet": [
           {
            "aaxis": {
             "endlinecolor": "#2a3f5f",
             "gridcolor": "white",
             "linecolor": "white",
             "minorgridcolor": "white",
             "startlinecolor": "#2a3f5f"
            },
            "baxis": {
             "endlinecolor": "#2a3f5f",
             "gridcolor": "white",
             "linecolor": "white",
             "minorgridcolor": "white",
             "startlinecolor": "#2a3f5f"
            },
            "type": "carpet"
           }
          ],
          "choropleth": [
           {
            "colorbar": {
             "outlinewidth": 0,
             "ticks": ""
            },
            "type": "choropleth"
           }
          ],
          "contour": [
           {
            "colorbar": {
             "outlinewidth": 0,
             "ticks": ""
            },
            "colorscale": [
             [
              0,
              "#0d0887"
             ],
             [
              0.1111111111111111,
              "#46039f"
             ],
             [
              0.2222222222222222,
              "#7201a8"
             ],
             [
              0.3333333333333333,
              "#9c179e"
             ],
             [
              0.4444444444444444,
              "#bd3786"
             ],
             [
              0.5555555555555556,
              "#d8576b"
             ],
             [
              0.6666666666666666,
              "#ed7953"
             ],
             [
              0.7777777777777778,
              "#fb9f3a"
             ],
             [
              0.8888888888888888,
              "#fdca26"
             ],
             [
              1,
              "#f0f921"
             ]
            ],
            "type": "contour"
           }
          ],
          "contourcarpet": [
           {
            "colorbar": {
             "outlinewidth": 0,
             "ticks": ""
            },
            "type": "contourcarpet"
           }
          ],
          "heatmap": [
           {
            "colorbar": {
             "outlinewidth": 0,
             "ticks": ""
            },
            "colorscale": [
             [
              0,
              "#0d0887"
             ],
             [
              0.1111111111111111,
              "#46039f"
             ],
             [
              0.2222222222222222,
              "#7201a8"
             ],
             [
              0.3333333333333333,
              "#9c179e"
             ],
             [
              0.4444444444444444,
              "#bd3786"
             ],
             [
              0.5555555555555556,
              "#d8576b"
             ],
             [
              0.6666666666666666,
              "#ed7953"
             ],
             [
              0.7777777777777778,
              "#fb9f3a"
             ],
             [
              0.8888888888888888,
              "#fdca26"
             ],
             [
              1,
              "#f0f921"
             ]
            ],
            "type": "heatmap"
           }
          ],
          "heatmapgl": [
           {
            "colorbar": {
             "outlinewidth": 0,
             "ticks": ""
            },
            "colorscale": [
             [
              0,
              "#0d0887"
             ],
             [
              0.1111111111111111,
              "#46039f"
             ],
             [
              0.2222222222222222,
              "#7201a8"
             ],
             [
              0.3333333333333333,
              "#9c179e"
             ],
             [
              0.4444444444444444,
              "#bd3786"
             ],
             [
              0.5555555555555556,
              "#d8576b"
             ],
             [
              0.6666666666666666,
              "#ed7953"
             ],
             [
              0.7777777777777778,
              "#fb9f3a"
             ],
             [
              0.8888888888888888,
              "#fdca26"
             ],
             [
              1,
              "#f0f921"
             ]
            ],
            "type": "heatmapgl"
           }
          ],
          "histogram": [
           {
            "marker": {
             "colorbar": {
              "outlinewidth": 0,
              "ticks": ""
             }
            },
            "type": "histogram"
           }
          ],
          "histogram2d": [
           {
            "colorbar": {
             "outlinewidth": 0,
             "ticks": ""
            },
            "colorscale": [
             [
              0,
              "#0d0887"
             ],
             [
              0.1111111111111111,
              "#46039f"
             ],
             [
              0.2222222222222222,
              "#7201a8"
             ],
             [
              0.3333333333333333,
              "#9c179e"
             ],
             [
              0.4444444444444444,
              "#bd3786"
             ],
             [
              0.5555555555555556,
              "#d8576b"
             ],
             [
              0.6666666666666666,
              "#ed7953"
             ],
             [
              0.7777777777777778,
              "#fb9f3a"
             ],
             [
              0.8888888888888888,
              "#fdca26"
             ],
             [
              1,
              "#f0f921"
             ]
            ],
            "type": "histogram2d"
           }
          ],
          "histogram2dcontour": [
           {
            "colorbar": {
             "outlinewidth": 0,
             "ticks": ""
            },
            "colorscale": [
             [
              0,
              "#0d0887"
             ],
             [
              0.1111111111111111,
              "#46039f"
             ],
             [
              0.2222222222222222,
              "#7201a8"
             ],
             [
              0.3333333333333333,
              "#9c179e"
             ],
             [
              0.4444444444444444,
              "#bd3786"
             ],
             [
              0.5555555555555556,
              "#d8576b"
             ],
             [
              0.6666666666666666,
              "#ed7953"
             ],
             [
              0.7777777777777778,
              "#fb9f3a"
             ],
             [
              0.8888888888888888,
              "#fdca26"
             ],
             [
              1,
              "#f0f921"
             ]
            ],
            "type": "histogram2dcontour"
           }
          ],
          "mesh3d": [
           {
            "colorbar": {
             "outlinewidth": 0,
             "ticks": ""
            },
            "type": "mesh3d"
           }
          ],
          "parcoords": [
           {
            "line": {
             "colorbar": {
              "outlinewidth": 0,
              "ticks": ""
             }
            },
            "type": "parcoords"
           }
          ],
          "pie": [
           {
            "automargin": true,
            "type": "pie"
           }
          ],
          "scatter": [
           {
            "marker": {
             "colorbar": {
              "outlinewidth": 0,
              "ticks": ""
             }
            },
            "type": "scatter"
           }
          ],
          "scatter3d": [
           {
            "line": {
             "colorbar": {
              "outlinewidth": 0,
              "ticks": ""
             }
            },
            "marker": {
             "colorbar": {
              "outlinewidth": 0,
              "ticks": ""
             }
            },
            "type": "scatter3d"
           }
          ],
          "scattercarpet": [
           {
            "marker": {
             "colorbar": {
              "outlinewidth": 0,
              "ticks": ""
             }
            },
            "type": "scattercarpet"
           }
          ],
          "scattergeo": [
           {
            "marker": {
             "colorbar": {
              "outlinewidth": 0,
              "ticks": ""
             }
            },
            "type": "scattergeo"
           }
          ],
          "scattergl": [
           {
            "marker": {
             "colorbar": {
              "outlinewidth": 0,
              "ticks": ""
             }
            },
            "type": "scattergl"
           }
          ],
          "scattermapbox": [
           {
            "marker": {
             "colorbar": {
              "outlinewidth": 0,
              "ticks": ""
             }
            },
            "type": "scattermapbox"
           }
          ],
          "scatterpolar": [
           {
            "marker": {
             "colorbar": {
              "outlinewidth": 0,
              "ticks": ""
             }
            },
            "type": "scatterpolar"
           }
          ],
          "scatterpolargl": [
           {
            "marker": {
             "colorbar": {
              "outlinewidth": 0,
              "ticks": ""
             }
            },
            "type": "scatterpolargl"
           }
          ],
          "scatterternary": [
           {
            "marker": {
             "colorbar": {
              "outlinewidth": 0,
              "ticks": ""
             }
            },
            "type": "scatterternary"
           }
          ],
          "surface": [
           {
            "colorbar": {
             "outlinewidth": 0,
             "ticks": ""
            },
            "colorscale": [
             [
              0,
              "#0d0887"
             ],
             [
              0.1111111111111111,
              "#46039f"
             ],
             [
              0.2222222222222222,
              "#7201a8"
             ],
             [
              0.3333333333333333,
              "#9c179e"
             ],
             [
              0.4444444444444444,
              "#bd3786"
             ],
             [
              0.5555555555555556,
              "#d8576b"
             ],
             [
              0.6666666666666666,
              "#ed7953"
             ],
             [
              0.7777777777777778,
              "#fb9f3a"
             ],
             [
              0.8888888888888888,
              "#fdca26"
             ],
             [
              1,
              "#f0f921"
             ]
            ],
            "type": "surface"
           }
          ],
          "table": [
           {
            "cells": {
             "fill": {
              "color": "#EBF0F8"
             },
             "line": {
              "color": "white"
             }
            },
            "header": {
             "fill": {
              "color": "#C8D4E3"
             },
             "line": {
              "color": "white"
             }
            },
            "type": "table"
           }
          ]
         },
         "layout": {
          "annotationdefaults": {
           "arrowcolor": "#2a3f5f",
           "arrowhead": 0,
           "arrowwidth": 1
          },
          "coloraxis": {
           "colorbar": {
            "outlinewidth": 0,
            "ticks": ""
           }
          },
          "colorscale": {
           "diverging": [
            [
             0,
             "#8e0152"
            ],
            [
             0.1,
             "#c51b7d"
            ],
            [
             0.2,
             "#de77ae"
            ],
            [
             0.3,
             "#f1b6da"
            ],
            [
             0.4,
             "#fde0ef"
            ],
            [
             0.5,
             "#f7f7f7"
            ],
            [
             0.6,
             "#e6f5d0"
            ],
            [
             0.7,
             "#b8e186"
            ],
            [
             0.8,
             "#7fbc41"
            ],
            [
             0.9,
             "#4d9221"
            ],
            [
             1,
             "#276419"
            ]
           ],
           "sequential": [
            [
             0,
             "#0d0887"
            ],
            [
             0.1111111111111111,
             "#46039f"
            ],
            [
             0.2222222222222222,
             "#7201a8"
            ],
            [
             0.3333333333333333,
             "#9c179e"
            ],
            [
             0.4444444444444444,
             "#bd3786"
            ],
            [
             0.5555555555555556,
             "#d8576b"
            ],
            [
             0.6666666666666666,
             "#ed7953"
            ],
            [
             0.7777777777777778,
             "#fb9f3a"
            ],
            [
             0.8888888888888888,
             "#fdca26"
            ],
            [
             1,
             "#f0f921"
            ]
           ],
           "sequentialminus": [
            [
             0,
             "#0d0887"
            ],
            [
             0.1111111111111111,
             "#46039f"
            ],
            [
             0.2222222222222222,
             "#7201a8"
            ],
            [
             0.3333333333333333,
             "#9c179e"
            ],
            [
             0.4444444444444444,
             "#bd3786"
            ],
            [
             0.5555555555555556,
             "#d8576b"
            ],
            [
             0.6666666666666666,
             "#ed7953"
            ],
            [
             0.7777777777777778,
             "#fb9f3a"
            ],
            [
             0.8888888888888888,
             "#fdca26"
            ],
            [
             1,
             "#f0f921"
            ]
           ]
          },
          "colorway": [
           "#636efa",
           "#EF553B",
           "#00cc96",
           "#ab63fa",
           "#FFA15A",
           "#19d3f3",
           "#FF6692",
           "#B6E880",
           "#FF97FF",
           "#FECB52"
          ],
          "font": {
           "color": "#2a3f5f"
          },
          "geo": {
           "bgcolor": "white",
           "lakecolor": "white",
           "landcolor": "#E5ECF6",
           "showlakes": true,
           "showland": true,
           "subunitcolor": "white"
          },
          "hoverlabel": {
           "align": "left"
          },
          "hovermode": "closest",
          "mapbox": {
           "style": "light"
          },
          "paper_bgcolor": "white",
          "plot_bgcolor": "#E5ECF6",
          "polar": {
           "angularaxis": {
            "gridcolor": "white",
            "linecolor": "white",
            "ticks": ""
           },
           "bgcolor": "#E5ECF6",
           "radialaxis": {
            "gridcolor": "white",
            "linecolor": "white",
            "ticks": ""
           }
          },
          "scene": {
           "xaxis": {
            "backgroundcolor": "#E5ECF6",
            "gridcolor": "white",
            "gridwidth": 2,
            "linecolor": "white",
            "showbackground": true,
            "ticks": "",
            "zerolinecolor": "white"
           },
           "yaxis": {
            "backgroundcolor": "#E5ECF6",
            "gridcolor": "white",
            "gridwidth": 2,
            "linecolor": "white",
            "showbackground": true,
            "ticks": "",
            "zerolinecolor": "white"
           },
           "zaxis": {
            "backgroundcolor": "#E5ECF6",
            "gridcolor": "white",
            "gridwidth": 2,
            "linecolor": "white",
            "showbackground": true,
            "ticks": "",
            "zerolinecolor": "white"
           }
          },
          "shapedefaults": {
           "line": {
            "color": "#2a3f5f"
           }
          },
          "ternary": {
           "aaxis": {
            "gridcolor": "white",
            "linecolor": "white",
            "ticks": ""
           },
           "baxis": {
            "gridcolor": "white",
            "linecolor": "white",
            "ticks": ""
           },
           "bgcolor": "#E5ECF6",
           "caxis": {
            "gridcolor": "white",
            "linecolor": "white",
            "ticks": ""
           }
          },
          "title": {
           "x": 0.05
          },
          "xaxis": {
           "automargin": true,
           "gridcolor": "white",
           "linecolor": "white",
           "ticks": "",
           "title": {
            "standoff": 15
           },
           "zerolinecolor": "white",
           "zerolinewidth": 2
          },
          "yaxis": {
           "automargin": true,
           "gridcolor": "white",
           "linecolor": "white",
           "ticks": "",
           "title": {
            "standoff": 15
           },
           "zerolinecolor": "white",
           "zerolinewidth": 2
          }
         }
        },
        "updatemenus": [
         {
          "buttons": [
           {
            "args": [
             {
              "scene.annotations": [
               {
                "showarrow": false,
                "text": "H1",
                "x": 1.8826,
                "y": 1.0401,
                "yshift": 15,
                "z": -0.3461
               },
               {
                "showarrow": false,
                "text": "H2",
                "x": -1.4828,
                "y": 1.4273,
                "yshift": 15,
                "z": -0.8045
               },
               {
                "showarrow": false,
                "text": "H3",
                "x": -5.1145,
                "y": -0.8314,
                "yshift": 15,
                "z": -2.1558
               },
               {
                "showarrow": false,
                "text": "H4",
                "x": -1.7545,
                "y": -1.2343,
                "yshift": 15,
                "z": -1.6994
               },
               {
                "showarrow": false,
                "text": "O1",
                "x": 1.5808,
                "y": 0.2004,
                "yshift": 15,
                "z": 0.0487
               },
               {
                "showarrow": false,
                "text": "O2",
                "x": -0.5062,
                "y": -0.466,
                "yshift": 15,
                "z": 1.3543
               },
               {
                "showarrow": false,
                "text": "O3",
                "x": -0.3676,
                "y": -1.0843,
                "yshift": 15,
                "z": -1.0156
               },
               {
                "showarrow": false,
                "text": "O4",
                "x": -0.5249,
                "y": 1.4234,
                "yshift": 15,
                "z": -0.4281
               },
               {
                "showarrow": false,
                "text": "O5",
                "x": -4.8074,
                "y": -0.006,
                "yshift": 15,
                "z": -2.575
               },
               {
                "showarrow": false,
                "text": "O6",
                "x": -2.8746,
                "y": 1.27,
                "yshift": 15,
                "z": -1.4633
               },
               {
                "showarrow": false,
                "text": "O7",
                "x": -2.7126,
                "y": 0.6966,
                "yshift": 15,
                "z": -3.8409
               },
               {
                "showarrow": false,
                "text": "O8",
                "x": -2.7048,
                "y": -1.2292,
                "yshift": 15,
                "z": -2.0923
               },
               {
                "showarrow": false,
                "text": "P1",
                "x": 0,
                "y": 0,
                "yshift": 15,
                "z": 0
               },
               {
                "showarrow": false,
                "text": "P2",
                "x": -3.2288,
                "y": 0.2011,
                "yshift": 15,
                "z": -2.5016
               }
              ]
             }
            ],
            "label": "Elements",
            "method": "relayout"
           },
           {
            "args": [
             {
              "scene.annotations": [
               {
                "showarrow": false,
                "text": "H1",
                "x": 1.8826,
                "y": 1.0401,
                "yshift": 15,
                "z": -0.3461
               },
               {
                "showarrow": false,
                "text": "H2",
                "x": -1.4828,
                "y": 1.4273,
                "yshift": 15,
                "z": -0.8045
               },
               {
                "showarrow": false,
                "text": "H3",
                "x": -5.1145,
                "y": -0.8314,
                "yshift": 15,
                "z": -2.1558
               },
               {
                "showarrow": false,
                "text": "H4",
                "x": -1.7545,
                "y": -1.2343,
                "yshift": 15,
                "z": -1.6994
               },
               {
                "showarrow": false,
                "text": "O1",
                "x": 1.5808,
                "y": 0.2004,
                "yshift": 15,
                "z": 0.0487
               },
               {
                "showarrow": false,
                "text": "O2",
                "x": -0.5062,
                "y": -0.466,
                "yshift": 15,
                "z": 1.3543
               },
               {
                "showarrow": false,
                "text": "O3",
                "x": -0.3676,
                "y": -1.0843,
                "yshift": 15,
                "z": -1.0156
               },
               {
                "showarrow": false,
                "text": "O4",
                "x": -0.5249,
                "y": 1.4234,
                "yshift": 15,
                "z": -0.4281
               },
               {
                "showarrow": false,
                "text": "O5",
                "x": -4.8074,
                "y": -0.006,
                "yshift": 15,
                "z": -2.575
               },
               {
                "showarrow": false,
                "text": "O6",
                "x": -2.8746,
                "y": 1.27,
                "yshift": 15,
                "z": -1.4633
               },
               {
                "showarrow": false,
                "text": "O7",
                "x": -2.7126,
                "y": 0.6966,
                "yshift": 15,
                "z": -3.8409
               },
               {
                "showarrow": false,
                "text": "O8",
                "x": -2.7048,
                "y": -1.2292,
                "yshift": 15,
                "z": -2.0923
               },
               {
                "showarrow": false,
                "text": "P1",
                "x": 0,
                "y": 0,
                "yshift": 15,
                "z": 0
               },
               {
                "showarrow": false,
                "text": "P2",
                "x": -3.2288,
                "y": 0.2011,
                "yshift": 15,
                "z": -2.5016
               },
               {
                "font": {
                 "color": "steelblue"
                },
                "showarrow": false,
                "text": "0.976",
                "x": 1.7317,
                "y": 0.62025,
                "yshift": 15,
                "z": -0.1487
               },
               {
                "font": {
                 "color": "steelblue"
                },
                "showarrow": false,
                "text": "1.029",
                "x": -1.00385,
                "y": 1.42535,
                "yshift": 15,
                "z": -0.6163
               },
               {
                "font": {
                 "color": "steelblue"
                },
                "showarrow": false,
                "text": "0.975",
                "x": -4.96095,
                "y": -0.4187,
                "yshift": 15,
                "z": -2.3654
               },
               {
                "font": {
                 "color": "steelblue"
                },
                "showarrow": false,
                "text": "1.028",
                "x": -2.22965,
                "y": -1.23175,
                "yshift": 15,
                "z": -1.8958499999999998
               },
               {
                "font": {
                 "color": "steelblue"
                },
                "showarrow": false,
                "text": "1.594",
                "x": 0.7904,
                "y": 0.1002,
                "yshift": 15,
                "z": 0.02435
               },
               {
                "font": {
                 "color": "steelblue"
                },
                "showarrow": false,
                "text": "1.519",
                "x": -0.2531,
                "y": -0.233,
                "yshift": 15,
                "z": 0.67715
               },
               {
                "font": {
                 "color": "steelblue"
                },
                "showarrow": false,
                "text": "1.530",
                "x": -0.1838,
                "y": -0.54215,
                "yshift": 15,
                "z": -0.5078
               },
               {
                "font": {
                 "color": "steelblue"
                },
                "showarrow": false,
                "text": "1.576",
                "x": -0.26245,
                "y": 0.7117,
                "yshift": 15,
                "z": -0.21405
               },
               {
                "font": {
                 "color": "steelblue"
                },
                "showarrow": false,
                "text": "1.594",
                "x": -4.0181000000000004,
                "y": 0.09755,
                "yshift": 15,
                "z": -2.5383
               },
               {
                "font": {
                 "color": "steelblue"
                },
                "showarrow": false,
                "text": "1.532",
                "x": -3.0517000000000003,
                "y": 0.73555,
                "yshift": 15,
                "z": -1.98245
               },
               {
                "font": {
                 "color": "steelblue"
                },
                "showarrow": false,
                "text": "1.519",
                "x": -2.9707,
                "y": 0.44884999999999997,
                "yshift": 15,
                "z": -3.1712499999999997
               },
               {
                "font": {
                 "color": "steelblue"
                },
                "showarrow": false,
                "text": "1.577",
                "x": -2.9668,
                "y": -0.51405,
                "yshift": 15,
                "z": -2.29695
               },
               {
                "font": {
                 "color": "steelblue"
                },
                "showarrow": false,
                "text": 1.548,
                "x": -2.1787,
                "y": 1.3486500000000001,
                "yshift": 15,
                "z": -1.1339000000000001
               },
               {
                "font": {
                 "color": "steelblue"
                },
                "showarrow": false,
                "text": 1.554,
                "x": -1.06105,
                "y": -1.1593,
                "yshift": 15,
                "z": -1.3575
               }
              ]
             }
            ],
            "label": "Element & Bond Lengths",
            "method": "relayout"
           },
           {
            "args": [
             {
              "scene.annotations": [
               {
                "showarrow": false,
                "text": 0,
                "x": 1.8826,
                "y": 1.0401,
                "yshift": 15,
                "z": -0.3461
               },
               {
                "showarrow": false,
                "text": 1,
                "x": -1.4828,
                "y": 1.4273,
                "yshift": 15,
                "z": -0.8045
               },
               {
                "showarrow": false,
                "text": 2,
                "x": -5.1145,
                "y": -0.8314,
                "yshift": 15,
                "z": -2.1558
               },
               {
                "showarrow": false,
                "text": 3,
                "x": -1.7545,
                "y": -1.2343,
                "yshift": 15,
                "z": -1.6994
               },
               {
                "showarrow": false,
                "text": 4,
                "x": 1.5808,
                "y": 0.2004,
                "yshift": 15,
                "z": 0.0487
               },
               {
                "showarrow": false,
                "text": 5,
                "x": -0.5062,
                "y": -0.466,
                "yshift": 15,
                "z": 1.3543
               },
               {
                "showarrow": false,
                "text": 6,
                "x": -0.3676,
                "y": -1.0843,
                "yshift": 15,
                "z": -1.0156
               },
               {
                "showarrow": false,
                "text": 7,
                "x": -0.5249,
                "y": 1.4234,
                "yshift": 15,
                "z": -0.4281
               },
               {
                "showarrow": false,
                "text": 8,
                "x": -4.8074,
                "y": -0.006,
                "yshift": 15,
                "z": -2.575
               },
               {
                "showarrow": false,
                "text": 9,
                "x": -2.8746,
                "y": 1.27,
                "yshift": 15,
                "z": -1.4633
               },
               {
                "showarrow": false,
                "text": 10,
                "x": -2.7126,
                "y": 0.6966,
                "yshift": 15,
                "z": -3.8409
               },
               {
                "showarrow": false,
                "text": 11,
                "x": -2.7048,
                "y": -1.2292,
                "yshift": 15,
                "z": -2.0923
               },
               {
                "showarrow": false,
                "text": 12,
                "x": 0,
                "y": 0,
                "yshift": 15,
                "z": 0
               },
               {
                "showarrow": false,
                "text": 13,
                "x": -3.2288,
                "y": 0.2011,
                "yshift": 15,
                "z": -2.5016
               }
              ]
             }
            ],
            "label": "Indices",
            "method": "relayout"
           },
           {
            "args": [
             {
              "scene.annotations": [
               {
                "showarrow": false,
                "text": 0,
                "x": 1.8826,
                "y": 1.0401,
                "yshift": 15,
                "z": -0.3461
               },
               {
                "showarrow": false,
                "text": 1,
                "x": -1.4828,
                "y": 1.4273,
                "yshift": 15,
                "z": -0.8045
               },
               {
                "showarrow": false,
                "text": 2,
                "x": -5.1145,
                "y": -0.8314,
                "yshift": 15,
                "z": -2.1558
               },
               {
                "showarrow": false,
                "text": 3,
                "x": -1.7545,
                "y": -1.2343,
                "yshift": 15,
                "z": -1.6994
               },
               {
                "showarrow": false,
                "text": 4,
                "x": 1.5808,
                "y": 0.2004,
                "yshift": 15,
                "z": 0.0487
               },
               {
                "showarrow": false,
                "text": 5,
                "x": -0.5062,
                "y": -0.466,
                "yshift": 15,
                "z": 1.3543
               },
               {
                "showarrow": false,
                "text": 6,
                "x": -0.3676,
                "y": -1.0843,
                "yshift": 15,
                "z": -1.0156
               },
               {
                "showarrow": false,
                "text": 7,
                "x": -0.5249,
                "y": 1.4234,
                "yshift": 15,
                "z": -0.4281
               },
               {
                "showarrow": false,
                "text": 8,
                "x": -4.8074,
                "y": -0.006,
                "yshift": 15,
                "z": -2.575
               },
               {
                "showarrow": false,
                "text": 9,
                "x": -2.8746,
                "y": 1.27,
                "yshift": 15,
                "z": -1.4633
               },
               {
                "showarrow": false,
                "text": 10,
                "x": -2.7126,
                "y": 0.6966,
                "yshift": 15,
                "z": -3.8409
               },
               {
                "showarrow": false,
                "text": 11,
                "x": -2.7048,
                "y": -1.2292,
                "yshift": 15,
                "z": -2.0923
               },
               {
                "showarrow": false,
                "text": 12,
                "x": 0,
                "y": 0,
                "yshift": 15,
                "z": 0
               },
               {
                "showarrow": false,
                "text": 13,
                "x": -3.2288,
                "y": 0.2011,
                "yshift": 15,
                "z": -2.5016
               },
               {
                "font": {
                 "color": "steelblue"
                },
                "showarrow": false,
                "text": "0.976",
                "x": 1.7317,
                "y": 0.62025,
                "yshift": 15,
                "z": -0.1487
               },
               {
                "font": {
                 "color": "steelblue"
                },
                "showarrow": false,
                "text": "1.029",
                "x": -1.00385,
                "y": 1.42535,
                "yshift": 15,
                "z": -0.6163
               },
               {
                "font": {
                 "color": "steelblue"
                },
                "showarrow": false,
                "text": "0.975",
                "x": -4.96095,
                "y": -0.4187,
                "yshift": 15,
                "z": -2.3654
               },
               {
                "font": {
                 "color": "steelblue"
                },
                "showarrow": false,
                "text": "1.028",
                "x": -2.22965,
                "y": -1.23175,
                "yshift": 15,
                "z": -1.8958499999999998
               },
               {
                "font": {
                 "color": "steelblue"
                },
                "showarrow": false,
                "text": "1.594",
                "x": 0.7904,
                "y": 0.1002,
                "yshift": 15,
                "z": 0.02435
               },
               {
                "font": {
                 "color": "steelblue"
                },
                "showarrow": false,
                "text": "1.519",
                "x": -0.2531,
                "y": -0.233,
                "yshift": 15,
                "z": 0.67715
               },
               {
                "font": {
                 "color": "steelblue"
                },
                "showarrow": false,
                "text": "1.530",
                "x": -0.1838,
                "y": -0.54215,
                "yshift": 15,
                "z": -0.5078
               },
               {
                "font": {
                 "color": "steelblue"
                },
                "showarrow": false,
                "text": "1.576",
                "x": -0.26245,
                "y": 0.7117,
                "yshift": 15,
                "z": -0.21405
               },
               {
                "font": {
                 "color": "steelblue"
                },
                "showarrow": false,
                "text": "1.594",
                "x": -4.0181000000000004,
                "y": 0.09755,
                "yshift": 15,
                "z": -2.5383
               },
               {
                "font": {
                 "color": "steelblue"
                },
                "showarrow": false,
                "text": "1.532",
                "x": -3.0517000000000003,
                "y": 0.73555,
                "yshift": 15,
                "z": -1.98245
               },
               {
                "font": {
                 "color": "steelblue"
                },
                "showarrow": false,
                "text": "1.519",
                "x": -2.9707,
                "y": 0.44884999999999997,
                "yshift": 15,
                "z": -3.1712499999999997
               },
               {
                "font": {
                 "color": "steelblue"
                },
                "showarrow": false,
                "text": "1.577",
                "x": -2.9668,
                "y": -0.51405,
                "yshift": 15,
                "z": -2.29695
               },
               {
                "font": {
                 "color": "steelblue"
                },
                "showarrow": false,
                "text": 1.548,
                "x": -2.1787,
                "y": 1.3486500000000001,
                "yshift": 15,
                "z": -1.1339000000000001
               },
               {
                "font": {
                 "color": "steelblue"
                },
                "showarrow": false,
                "text": 1.554,
                "x": -1.06105,
                "y": -1.1593,
                "yshift": 15,
                "z": -1.3575
               }
              ]
             }
            ],
            "label": "Indices & Bond Lengths",
            "method": "relayout"
           },
           {
            "args": [
             {
              "scene.annotations": [
               {
                "font": {
                 "color": "steelblue"
                },
                "showarrow": false,
                "text": "0.976",
                "x": 1.7317,
                "y": 0.62025,
                "yshift": 15,
                "z": -0.1487
               },
               {
                "font": {
                 "color": "steelblue"
                },
                "showarrow": false,
                "text": "1.029",
                "x": -1.00385,
                "y": 1.42535,
                "yshift": 15,
                "z": -0.6163
               },
               {
                "font": {
                 "color": "steelblue"
                },
                "showarrow": false,
                "text": "0.975",
                "x": -4.96095,
                "y": -0.4187,
                "yshift": 15,
                "z": -2.3654
               },
               {
                "font": {
                 "color": "steelblue"
                },
                "showarrow": false,
                "text": "1.028",
                "x": -2.22965,
                "y": -1.23175,
                "yshift": 15,
                "z": -1.8958499999999998
               },
               {
                "font": {
                 "color": "steelblue"
                },
                "showarrow": false,
                "text": "1.594",
                "x": 0.7904,
                "y": 0.1002,
                "yshift": 15,
                "z": 0.02435
               },
               {
                "font": {
                 "color": "steelblue"
                },
                "showarrow": false,
                "text": "1.519",
                "x": -0.2531,
                "y": -0.233,
                "yshift": 15,
                "z": 0.67715
               },
               {
                "font": {
                 "color": "steelblue"
                },
                "showarrow": false,
                "text": "1.530",
                "x": -0.1838,
                "y": -0.54215,
                "yshift": 15,
                "z": -0.5078
               },
               {
                "font": {
                 "color": "steelblue"
                },
                "showarrow": false,
                "text": "1.576",
                "x": -0.26245,
                "y": 0.7117,
                "yshift": 15,
                "z": -0.21405
               },
               {
                "font": {
                 "color": "steelblue"
                },
                "showarrow": false,
                "text": "1.594",
                "x": -4.0181000000000004,
                "y": 0.09755,
                "yshift": 15,
                "z": -2.5383
               },
               {
                "font": {
                 "color": "steelblue"
                },
                "showarrow": false,
                "text": "1.532",
                "x": -3.0517000000000003,
                "y": 0.73555,
                "yshift": 15,
                "z": -1.98245
               },
               {
                "font": {
                 "color": "steelblue"
                },
                "showarrow": false,
                "text": "1.519",
                "x": -2.9707,
                "y": 0.44884999999999997,
                "yshift": 15,
                "z": -3.1712499999999997
               },
               {
                "font": {
                 "color": "steelblue"
                },
                "showarrow": false,
                "text": "1.577",
                "x": -2.9668,
                "y": -0.51405,
                "yshift": 15,
                "z": -2.29695
               },
               {
                "font": {
                 "color": "steelblue"
                },
                "showarrow": false,
                "text": 1.548,
                "x": -2.1787,
                "y": 1.3486500000000001,
                "yshift": 15,
                "z": -1.1339000000000001
               },
               {
                "font": {
                 "color": "steelblue"
                },
                "showarrow": false,
                "text": 1.554,
                "x": -1.06105,
                "y": -1.1593,
                "yshift": 15,
                "z": -1.3575
               }
              ]
             }
            ],
            "label": "Bond Lengths",
            "method": "relayout"
           },
           {
            "args": [
             {}
            ],
            "label": "Hide All",
            "method": "relayout"
           }
          ],
          "direction": "down",
          "xanchor": "left",
          "yanchor": "top"
         }
        ]
       }
      },
      "text/html": [
       "<div>                            <div id=\"3b22208a-1453-4372-ae34-20291092557a\" class=\"plotly-graph-div\" style=\"height:525px; width:100%;\"></div>            <script type=\"text/javascript\">                require([\"plotly\"], function(Plotly) {                    window.PLOTLYENV=window.PLOTLYENV || {};                                    if (document.getElementById(\"3b22208a-1453-4372-ae34-20291092557a\")) {                    Plotly.newPlot(                        \"3b22208a-1453-4372-ae34-20291092557a\",                        [{\"marker\": {\"color\": [\"white\", \"white\", \"white\", \"white\", \"red\", \"red\", \"red\", \"red\", \"red\", \"red\", \"red\", \"red\", \"orange\", \"orange\"], \"line\": {\"color\": \"lightgray\", \"width\": 2}, \"opacity\": 0.8, \"size\": [9.200000000000001, 9.200000000000001, 9.200000000000001, 9.200000000000001, 27.200000000000003, 27.200000000000003, 27.200000000000003, 27.200000000000003, 27.200000000000003, 27.200000000000003, 27.200000000000003, 27.200000000000003, 42.0, 42.0], \"symbol\": \"circle\"}, \"mode\": \"markers\", \"text\": [\"H1\", \"H2\", \"H3\", \"H4\", \"O1\", \"O2\", \"O3\", \"O4\", \"O5\", \"O6\", \"O7\", \"O8\", \"P1\", \"P2\"], \"type\": \"scatter3d\", \"x\": [1.8826, -1.4828, -5.1145, -1.7545, 1.5808, -0.5062, -0.3676, -0.5249, -4.8074, -2.8746, -2.7126, -2.7048, 0, -3.2288], \"y\": [1.0401, 1.4273, -0.8314, -1.2343, 0.2004, -0.466, -1.0843, 1.4234, -0.006, 1.27, 0.6966, -1.2292, 0, 0.2011], \"z\": [-0.3461, -0.8045, -2.1558, -1.6994, 0.0487, 1.3543, -1.0156, -0.4281, -2.575, -1.4633, -3.8409, -2.0923, 0, -2.5016]}, {\"hoverinfo\": \"none\", \"marker\": {\"color\": \"gray\", \"opacity\": 0.1, \"size\": 3}, \"mode\": \"lines\", \"type\": \"scatter3d\", \"x\": [1.8826, 1.5808, null, 1.5808, 0, null, 1.5808, 1.8826, null, -1.4828, -0.5249, null, -1.4828, -2.8746, null, -0.5249, -1.4828, null, -0.5249, 0, null, -5.1145, -4.8074, null, -4.8074, -5.1145, null, -4.8074, -3.2288, null, -1.7545, -0.3676, null, -1.7545, -2.7048, null, -2.7048, -3.2288, null, -2.7048, -1.7545, null, 0, 1.5808, null, 0, -0.3676, null, 0, -0.5249, null, 0, -0.5062, null, -0.5062, 0, null, -0.3676, 0, null, -0.3676, -1.7545, null, -3.2288, -4.8074, null, -3.2288, -2.8746, null, -3.2288, -2.7048, null, -3.2288, -2.7126, null, -2.8746, -1.4828, null, -2.8746, -3.2288, null, -2.7126, -3.2288, null], \"y\": [1.0401, 0.2004, null, 0.2004, 0, null, 0.2004, 1.0401, null, 1.4273, 1.4234, null, 1.4273, 1.27, null, 1.4234, 1.4273, null, 1.4234, 0, null, -0.8314, -0.006, null, -0.006, -0.8314, null, -0.006, 0.2011, null, -1.2343, -1.0843, null, -1.2343, -1.2292, null, -1.2292, 0.2011, null, -1.2292, -1.2343, null, 0, 0.2004, null, 0, -1.0843, null, 0, 1.4234, null, 0, -0.466, null, -0.466, 0, null, -1.0843, 0, null, -1.0843, -1.2343, null, 0.2011, -0.006, null, 0.2011, 1.27, null, 0.2011, -1.2292, null, 0.2011, 0.6966, null, 1.27, 1.4273, null, 1.27, 0.2011, null, 0.6966, 0.2011, null], \"z\": [-0.3461, 0.0487, null, 0.0487, 0, null, 0.0487, -0.3461, null, -0.8045, -0.4281, null, -0.8045, -1.4633, null, -0.4281, -0.8045, null, -0.4281, 0, null, -2.1558, -2.575, null, -2.575, -2.1558, null, -2.575, -2.5016, null, -1.6994, -1.0156, null, -1.6994, -2.0923, null, -2.0923, -2.5016, null, -2.0923, -1.6994, null, 0, 0.0487, null, 0, -1.0156, null, 0, -0.4281, null, 0, 1.3543, null, 1.3543, 0, null, -1.0156, 0, null, -1.0156, -1.6994, null, -2.5016, -2.575, null, -2.5016, -1.4633, null, -2.5016, -2.0923, null, -2.5016, -3.8409, null, -1.4633, -0.8045, null, -1.4633, -2.5016, null, -3.8409, -2.5016, null]}],                        {\"margin\": {\"b\": 0, \"l\": 0, \"r\": 0, \"t\": 0}, \"scene\": {\"annotations\": [{\"showarrow\": false, \"text\": \"H1\", \"x\": 1.8826, \"y\": 1.0401, \"yshift\": 15, \"z\": -0.3461}, {\"showarrow\": false, \"text\": \"H2\", \"x\": -1.4828, \"y\": 1.4273, \"yshift\": 15, \"z\": -0.8045}, {\"showarrow\": false, \"text\": \"H3\", \"x\": -5.1145, \"y\": -0.8314, \"yshift\": 15, \"z\": -2.1558}, {\"showarrow\": false, \"text\": \"H4\", \"x\": -1.7545, \"y\": -1.2343, \"yshift\": 15, \"z\": -1.6994}, {\"showarrow\": false, \"text\": \"O1\", \"x\": 1.5808, \"y\": 0.2004, \"yshift\": 15, \"z\": 0.0487}, {\"showarrow\": false, \"text\": \"O2\", \"x\": -0.5062, \"y\": -0.466, \"yshift\": 15, \"z\": 1.3543}, {\"showarrow\": false, \"text\": \"O3\", \"x\": -0.3676, \"y\": -1.0843, \"yshift\": 15, \"z\": -1.0156}, {\"showarrow\": false, \"text\": \"O4\", \"x\": -0.5249, \"y\": 1.4234, \"yshift\": 15, \"z\": -0.4281}, {\"showarrow\": false, \"text\": \"O5\", \"x\": -4.8074, \"y\": -0.006, \"yshift\": 15, \"z\": -2.575}, {\"showarrow\": false, \"text\": \"O6\", \"x\": -2.8746, \"y\": 1.27, \"yshift\": 15, \"z\": -1.4633}, {\"showarrow\": false, \"text\": \"O7\", \"x\": -2.7126, \"y\": 0.6966, \"yshift\": 15, \"z\": -3.8409}, {\"showarrow\": false, \"text\": \"O8\", \"x\": -2.7048, \"y\": -1.2292, \"yshift\": 15, \"z\": -2.0923}, {\"showarrow\": false, \"text\": \"P1\", \"x\": 0, \"y\": 0, \"yshift\": 15, \"z\": 0}, {\"showarrow\": false, \"text\": \"P2\", \"x\": -3.2288, \"y\": 0.2011, \"yshift\": 15, \"z\": -2.5016}], \"xaxis\": {\"showbackground\": true, \"showgrid\": true, \"showticklabels\": true, \"title\": {\"font\": {\"color\": \"white\"}}, \"zeroline\": true}, \"yaxis\": {\"showbackground\": true, \"showgrid\": true, \"showticklabels\": true, \"title\": {\"font\": {\"color\": \"white\"}}, \"zeroline\": true}, \"zaxis\": {\"showbackground\": true, \"showgrid\": true, \"showticklabels\": true, \"title\": {\"font\": {\"color\": \"white\"}}, \"zeroline\": true}}, \"showlegend\": false, \"template\": {\"data\": {\"bar\": [{\"error_x\": {\"color\": \"#2a3f5f\"}, \"error_y\": {\"color\": \"#2a3f5f\"}, \"marker\": {\"line\": {\"color\": \"#E5ECF6\", \"width\": 0.5}}, \"type\": \"bar\"}], \"barpolar\": [{\"marker\": {\"line\": {\"color\": \"#E5ECF6\", \"width\": 0.5}}, \"type\": \"barpolar\"}], \"carpet\": [{\"aaxis\": {\"endlinecolor\": \"#2a3f5f\", \"gridcolor\": \"white\", \"linecolor\": \"white\", \"minorgridcolor\": \"white\", \"startlinecolor\": \"#2a3f5f\"}, \"baxis\": {\"endlinecolor\": \"#2a3f5f\", \"gridcolor\": \"white\", \"linecolor\": \"white\", \"minorgridcolor\": \"white\", \"startlinecolor\": \"#2a3f5f\"}, \"type\": \"carpet\"}], \"choropleth\": [{\"colorbar\": {\"outlinewidth\": 0, \"ticks\": \"\"}, \"type\": \"choropleth\"}], \"contour\": [{\"colorbar\": {\"outlinewidth\": 0, \"ticks\": \"\"}, \"colorscale\": [[0.0, \"#0d0887\"], [0.1111111111111111, \"#46039f\"], [0.2222222222222222, \"#7201a8\"], [0.3333333333333333, \"#9c179e\"], [0.4444444444444444, \"#bd3786\"], [0.5555555555555556, \"#d8576b\"], [0.6666666666666666, \"#ed7953\"], [0.7777777777777778, \"#fb9f3a\"], [0.8888888888888888, \"#fdca26\"], [1.0, \"#f0f921\"]], \"type\": \"contour\"}], \"contourcarpet\": [{\"colorbar\": {\"outlinewidth\": 0, \"ticks\": \"\"}, \"type\": \"contourcarpet\"}], \"heatmap\": [{\"colorbar\": {\"outlinewidth\": 0, \"ticks\": \"\"}, \"colorscale\": [[0.0, \"#0d0887\"], [0.1111111111111111, \"#46039f\"], [0.2222222222222222, \"#7201a8\"], [0.3333333333333333, \"#9c179e\"], [0.4444444444444444, \"#bd3786\"], [0.5555555555555556, \"#d8576b\"], [0.6666666666666666, \"#ed7953\"], [0.7777777777777778, \"#fb9f3a\"], [0.8888888888888888, \"#fdca26\"], [1.0, \"#f0f921\"]], \"type\": \"heatmap\"}], \"heatmapgl\": [{\"colorbar\": {\"outlinewidth\": 0, \"ticks\": \"\"}, \"colorscale\": [[0.0, \"#0d0887\"], [0.1111111111111111, \"#46039f\"], [0.2222222222222222, \"#7201a8\"], [0.3333333333333333, \"#9c179e\"], [0.4444444444444444, \"#bd3786\"], [0.5555555555555556, \"#d8576b\"], [0.6666666666666666, \"#ed7953\"], [0.7777777777777778, \"#fb9f3a\"], [0.8888888888888888, \"#fdca26\"], [1.0, \"#f0f921\"]], \"type\": \"heatmapgl\"}], \"histogram\": [{\"marker\": {\"colorbar\": {\"outlinewidth\": 0, \"ticks\": \"\"}}, \"type\": \"histogram\"}], \"histogram2d\": [{\"colorbar\": {\"outlinewidth\": 0, \"ticks\": \"\"}, \"colorscale\": [[0.0, \"#0d0887\"], [0.1111111111111111, \"#46039f\"], [0.2222222222222222, \"#7201a8\"], [0.3333333333333333, \"#9c179e\"], [0.4444444444444444, \"#bd3786\"], [0.5555555555555556, \"#d8576b\"], [0.6666666666666666, \"#ed7953\"], [0.7777777777777778, \"#fb9f3a\"], [0.8888888888888888, \"#fdca26\"], [1.0, \"#f0f921\"]], \"type\": \"histogram2d\"}], \"histogram2dcontour\": [{\"colorbar\": {\"outlinewidth\": 0, \"ticks\": \"\"}, \"colorscale\": [[0.0, \"#0d0887\"], [0.1111111111111111, \"#46039f\"], [0.2222222222222222, \"#7201a8\"], [0.3333333333333333, \"#9c179e\"], [0.4444444444444444, \"#bd3786\"], [0.5555555555555556, \"#d8576b\"], [0.6666666666666666, \"#ed7953\"], [0.7777777777777778, \"#fb9f3a\"], [0.8888888888888888, \"#fdca26\"], [1.0, \"#f0f921\"]], \"type\": \"histogram2dcontour\"}], \"mesh3d\": [{\"colorbar\": {\"outlinewidth\": 0, \"ticks\": \"\"}, \"type\": \"mesh3d\"}], \"parcoords\": [{\"line\": {\"colorbar\": {\"outlinewidth\": 0, \"ticks\": \"\"}}, \"type\": \"parcoords\"}], \"pie\": [{\"automargin\": true, \"type\": \"pie\"}], \"scatter\": [{\"marker\": {\"colorbar\": {\"outlinewidth\": 0, \"ticks\": \"\"}}, \"type\": \"scatter\"}], \"scatter3d\": [{\"line\": {\"colorbar\": {\"outlinewidth\": 0, \"ticks\": \"\"}}, \"marker\": {\"colorbar\": {\"outlinewidth\": 0, \"ticks\": \"\"}}, \"type\": \"scatter3d\"}], \"scattercarpet\": [{\"marker\": {\"colorbar\": {\"outlinewidth\": 0, \"ticks\": \"\"}}, \"type\": \"scattercarpet\"}], \"scattergeo\": [{\"marker\": {\"colorbar\": {\"outlinewidth\": 0, \"ticks\": \"\"}}, \"type\": \"scattergeo\"}], \"scattergl\": [{\"marker\": {\"colorbar\": {\"outlinewidth\": 0, \"ticks\": \"\"}}, \"type\": \"scattergl\"}], \"scattermapbox\": [{\"marker\": {\"colorbar\": {\"outlinewidth\": 0, \"ticks\": \"\"}}, \"type\": \"scattermapbox\"}], \"scatterpolar\": [{\"marker\": {\"colorbar\": {\"outlinewidth\": 0, \"ticks\": \"\"}}, \"type\": \"scatterpolar\"}], \"scatterpolargl\": [{\"marker\": {\"colorbar\": {\"outlinewidth\": 0, \"ticks\": \"\"}}, \"type\": \"scatterpolargl\"}], \"scatterternary\": [{\"marker\": {\"colorbar\": {\"outlinewidth\": 0, \"ticks\": \"\"}}, \"type\": \"scatterternary\"}], \"surface\": [{\"colorbar\": {\"outlinewidth\": 0, \"ticks\": \"\"}, \"colorscale\": [[0.0, \"#0d0887\"], [0.1111111111111111, \"#46039f\"], [0.2222222222222222, \"#7201a8\"], [0.3333333333333333, \"#9c179e\"], [0.4444444444444444, \"#bd3786\"], [0.5555555555555556, \"#d8576b\"], [0.6666666666666666, \"#ed7953\"], [0.7777777777777778, \"#fb9f3a\"], [0.8888888888888888, \"#fdca26\"], [1.0, \"#f0f921\"]], \"type\": \"surface\"}], \"table\": [{\"cells\": {\"fill\": {\"color\": \"#EBF0F8\"}, \"line\": {\"color\": \"white\"}}, \"header\": {\"fill\": {\"color\": \"#C8D4E3\"}, \"line\": {\"color\": \"white\"}}, \"type\": \"table\"}]}, \"layout\": {\"annotationdefaults\": {\"arrowcolor\": \"#2a3f5f\", \"arrowhead\": 0, \"arrowwidth\": 1}, \"coloraxis\": {\"colorbar\": {\"outlinewidth\": 0, \"ticks\": \"\"}}, \"colorscale\": {\"diverging\": [[0, \"#8e0152\"], [0.1, \"#c51b7d\"], [0.2, \"#de77ae\"], [0.3, \"#f1b6da\"], [0.4, \"#fde0ef\"], [0.5, \"#f7f7f7\"], [0.6, \"#e6f5d0\"], [0.7, \"#b8e186\"], [0.8, \"#7fbc41\"], [0.9, \"#4d9221\"], [1, \"#276419\"]], \"sequential\": [[0.0, \"#0d0887\"], [0.1111111111111111, \"#46039f\"], [0.2222222222222222, \"#7201a8\"], [0.3333333333333333, \"#9c179e\"], [0.4444444444444444, \"#bd3786\"], [0.5555555555555556, \"#d8576b\"], [0.6666666666666666, \"#ed7953\"], [0.7777777777777778, \"#fb9f3a\"], [0.8888888888888888, \"#fdca26\"], [1.0, \"#f0f921\"]], \"sequentialminus\": [[0.0, \"#0d0887\"], [0.1111111111111111, \"#46039f\"], [0.2222222222222222, \"#7201a8\"], [0.3333333333333333, \"#9c179e\"], [0.4444444444444444, \"#bd3786\"], [0.5555555555555556, \"#d8576b\"], [0.6666666666666666, \"#ed7953\"], [0.7777777777777778, \"#fb9f3a\"], [0.8888888888888888, \"#fdca26\"], [1.0, \"#f0f921\"]]}, \"colorway\": [\"#636efa\", \"#EF553B\", \"#00cc96\", \"#ab63fa\", \"#FFA15A\", \"#19d3f3\", \"#FF6692\", \"#B6E880\", \"#FF97FF\", \"#FECB52\"], \"font\": {\"color\": \"#2a3f5f\"}, \"geo\": {\"bgcolor\": \"white\", \"lakecolor\": \"white\", \"landcolor\": \"#E5ECF6\", \"showlakes\": true, \"showland\": true, \"subunitcolor\": \"white\"}, \"hoverlabel\": {\"align\": \"left\"}, \"hovermode\": \"closest\", \"mapbox\": {\"style\": \"light\"}, \"paper_bgcolor\": \"white\", \"plot_bgcolor\": \"#E5ECF6\", \"polar\": {\"angularaxis\": {\"gridcolor\": \"white\", \"linecolor\": \"white\", \"ticks\": \"\"}, \"bgcolor\": \"#E5ECF6\", \"radialaxis\": {\"gridcolor\": \"white\", \"linecolor\": \"white\", \"ticks\": \"\"}}, \"scene\": {\"xaxis\": {\"backgroundcolor\": \"#E5ECF6\", \"gridcolor\": \"white\", \"gridwidth\": 2, \"linecolor\": \"white\", \"showbackground\": true, \"ticks\": \"\", \"zerolinecolor\": \"white\"}, \"yaxis\": {\"backgroundcolor\": \"#E5ECF6\", \"gridcolor\": \"white\", \"gridwidth\": 2, \"linecolor\": \"white\", \"showbackground\": true, \"ticks\": \"\", \"zerolinecolor\": \"white\"}, \"zaxis\": {\"backgroundcolor\": \"#E5ECF6\", \"gridcolor\": \"white\", \"gridwidth\": 2, \"linecolor\": \"white\", \"showbackground\": true, \"ticks\": \"\", \"zerolinecolor\": \"white\"}}, \"shapedefaults\": {\"line\": {\"color\": \"#2a3f5f\"}}, \"ternary\": {\"aaxis\": {\"gridcolor\": \"white\", \"linecolor\": \"white\", \"ticks\": \"\"}, \"baxis\": {\"gridcolor\": \"white\", \"linecolor\": \"white\", \"ticks\": \"\"}, \"bgcolor\": \"#E5ECF6\", \"caxis\": {\"gridcolor\": \"white\", \"linecolor\": \"white\", \"ticks\": \"\"}}, \"title\": {\"x\": 0.05}, \"xaxis\": {\"automargin\": true, \"gridcolor\": \"white\", \"linecolor\": \"white\", \"ticks\": \"\", \"title\": {\"standoff\": 15}, \"zerolinecolor\": \"white\", \"zerolinewidth\": 2}, \"yaxis\": {\"automargin\": true, \"gridcolor\": \"white\", \"linecolor\": \"white\", \"ticks\": \"\", \"title\": {\"standoff\": 15}, \"zerolinecolor\": \"white\", \"zerolinewidth\": 2}}}, \"updatemenus\": [{\"buttons\": [{\"args\": [{\"scene.annotations\": [{\"showarrow\": false, \"text\": \"H1\", \"x\": 1.8826, \"y\": 1.0401, \"yshift\": 15, \"z\": -0.3461}, {\"showarrow\": false, \"text\": \"H2\", \"x\": -1.4828, \"y\": 1.4273, \"yshift\": 15, \"z\": -0.8045}, {\"showarrow\": false, \"text\": \"H3\", \"x\": -5.1145, \"y\": -0.8314, \"yshift\": 15, \"z\": -2.1558}, {\"showarrow\": false, \"text\": \"H4\", \"x\": -1.7545, \"y\": -1.2343, \"yshift\": 15, \"z\": -1.6994}, {\"showarrow\": false, \"text\": \"O1\", \"x\": 1.5808, \"y\": 0.2004, \"yshift\": 15, \"z\": 0.0487}, {\"showarrow\": false, \"text\": \"O2\", \"x\": -0.5062, \"y\": -0.466, \"yshift\": 15, \"z\": 1.3543}, {\"showarrow\": false, \"text\": \"O3\", \"x\": -0.3676, \"y\": -1.0843, \"yshift\": 15, \"z\": -1.0156}, {\"showarrow\": false, \"text\": \"O4\", \"x\": -0.5249, \"y\": 1.4234, \"yshift\": 15, \"z\": -0.4281}, {\"showarrow\": false, \"text\": \"O5\", \"x\": -4.8074, \"y\": -0.006, \"yshift\": 15, \"z\": -2.575}, {\"showarrow\": false, \"text\": \"O6\", \"x\": -2.8746, \"y\": 1.27, \"yshift\": 15, \"z\": -1.4633}, {\"showarrow\": false, \"text\": \"O7\", \"x\": -2.7126, \"y\": 0.6966, \"yshift\": 15, \"z\": -3.8409}, {\"showarrow\": false, \"text\": \"O8\", \"x\": -2.7048, \"y\": -1.2292, \"yshift\": 15, \"z\": -2.0923}, {\"showarrow\": false, \"text\": \"P1\", \"x\": 0, \"y\": 0, \"yshift\": 15, \"z\": 0}, {\"showarrow\": false, \"text\": \"P2\", \"x\": -3.2288, \"y\": 0.2011, \"yshift\": 15, \"z\": -2.5016}]}], \"label\": \"Elements\", \"method\": \"relayout\"}, {\"args\": [{\"scene.annotations\": [{\"showarrow\": false, \"text\": \"H1\", \"x\": 1.8826, \"y\": 1.0401, \"yshift\": 15, \"z\": -0.3461}, {\"showarrow\": false, \"text\": \"H2\", \"x\": -1.4828, \"y\": 1.4273, \"yshift\": 15, \"z\": -0.8045}, {\"showarrow\": false, \"text\": \"H3\", \"x\": -5.1145, \"y\": -0.8314, \"yshift\": 15, \"z\": -2.1558}, {\"showarrow\": false, \"text\": \"H4\", \"x\": -1.7545, \"y\": -1.2343, \"yshift\": 15, \"z\": -1.6994}, {\"showarrow\": false, \"text\": \"O1\", \"x\": 1.5808, \"y\": 0.2004, \"yshift\": 15, \"z\": 0.0487}, {\"showarrow\": false, \"text\": \"O2\", \"x\": -0.5062, \"y\": -0.466, \"yshift\": 15, \"z\": 1.3543}, {\"showarrow\": false, \"text\": \"O3\", \"x\": -0.3676, \"y\": -1.0843, \"yshift\": 15, \"z\": -1.0156}, {\"showarrow\": false, \"text\": \"O4\", \"x\": -0.5249, \"y\": 1.4234, \"yshift\": 15, \"z\": -0.4281}, {\"showarrow\": false, \"text\": \"O5\", \"x\": -4.8074, \"y\": -0.006, \"yshift\": 15, \"z\": -2.575}, {\"showarrow\": false, \"text\": \"O6\", \"x\": -2.8746, \"y\": 1.27, \"yshift\": 15, \"z\": -1.4633}, {\"showarrow\": false, \"text\": \"O7\", \"x\": -2.7126, \"y\": 0.6966, \"yshift\": 15, \"z\": -3.8409}, {\"showarrow\": false, \"text\": \"O8\", \"x\": -2.7048, \"y\": -1.2292, \"yshift\": 15, \"z\": -2.0923}, {\"showarrow\": false, \"text\": \"P1\", \"x\": 0, \"y\": 0, \"yshift\": 15, \"z\": 0}, {\"showarrow\": false, \"text\": \"P2\", \"x\": -3.2288, \"y\": 0.2011, \"yshift\": 15, \"z\": -2.5016}, {\"font\": {\"color\": \"steelblue\"}, \"showarrow\": false, \"text\": \"0.976\", \"x\": 1.7317, \"y\": 0.62025, \"yshift\": 15, \"z\": -0.1487}, {\"font\": {\"color\": \"steelblue\"}, \"showarrow\": false, \"text\": \"1.029\", \"x\": -1.00385, \"y\": 1.42535, \"yshift\": 15, \"z\": -0.6163}, {\"font\": {\"color\": \"steelblue\"}, \"showarrow\": false, \"text\": \"0.975\", \"x\": -4.96095, \"y\": -0.4187, \"yshift\": 15, \"z\": -2.3654}, {\"font\": {\"color\": \"steelblue\"}, \"showarrow\": false, \"text\": \"1.028\", \"x\": -2.22965, \"y\": -1.23175, \"yshift\": 15, \"z\": -1.8958499999999998}, {\"font\": {\"color\": \"steelblue\"}, \"showarrow\": false, \"text\": \"1.594\", \"x\": 0.7904, \"y\": 0.1002, \"yshift\": 15, \"z\": 0.02435}, {\"font\": {\"color\": \"steelblue\"}, \"showarrow\": false, \"text\": \"1.519\", \"x\": -0.2531, \"y\": -0.233, \"yshift\": 15, \"z\": 0.67715}, {\"font\": {\"color\": \"steelblue\"}, \"showarrow\": false, \"text\": \"1.530\", \"x\": -0.1838, \"y\": -0.54215, \"yshift\": 15, \"z\": -0.5078}, {\"font\": {\"color\": \"steelblue\"}, \"showarrow\": false, \"text\": \"1.576\", \"x\": -0.26245, \"y\": 0.7117, \"yshift\": 15, \"z\": -0.21405}, {\"font\": {\"color\": \"steelblue\"}, \"showarrow\": false, \"text\": \"1.594\", \"x\": -4.0181000000000004, \"y\": 0.09755, \"yshift\": 15, \"z\": -2.5383}, {\"font\": {\"color\": \"steelblue\"}, \"showarrow\": false, \"text\": \"1.532\", \"x\": -3.0517000000000003, \"y\": 0.73555, \"yshift\": 15, \"z\": -1.98245}, {\"font\": {\"color\": \"steelblue\"}, \"showarrow\": false, \"text\": \"1.519\", \"x\": -2.9707, \"y\": 0.44884999999999997, \"yshift\": 15, \"z\": -3.1712499999999997}, {\"font\": {\"color\": \"steelblue\"}, \"showarrow\": false, \"text\": \"1.577\", \"x\": -2.9668, \"y\": -0.51405, \"yshift\": 15, \"z\": -2.29695}, {\"font\": {\"color\": \"steelblue\"}, \"showarrow\": false, \"text\": 1.548, \"x\": -2.1787, \"y\": 1.3486500000000001, \"yshift\": 15, \"z\": -1.1339000000000001}, {\"font\": {\"color\": \"steelblue\"}, \"showarrow\": false, \"text\": 1.554, \"x\": -1.06105, \"y\": -1.1593, \"yshift\": 15, \"z\": -1.3575}]}], \"label\": \"Element & Bond Lengths\", \"method\": \"relayout\"}, {\"args\": [{\"scene.annotations\": [{\"showarrow\": false, \"text\": 0, \"x\": 1.8826, \"y\": 1.0401, \"yshift\": 15, \"z\": -0.3461}, {\"showarrow\": false, \"text\": 1, \"x\": -1.4828, \"y\": 1.4273, \"yshift\": 15, \"z\": -0.8045}, {\"showarrow\": false, \"text\": 2, \"x\": -5.1145, \"y\": -0.8314, \"yshift\": 15, \"z\": -2.1558}, {\"showarrow\": false, \"text\": 3, \"x\": -1.7545, \"y\": -1.2343, \"yshift\": 15, \"z\": -1.6994}, {\"showarrow\": false, \"text\": 4, \"x\": 1.5808, \"y\": 0.2004, \"yshift\": 15, \"z\": 0.0487}, {\"showarrow\": false, \"text\": 5, \"x\": -0.5062, \"y\": -0.466, \"yshift\": 15, \"z\": 1.3543}, {\"showarrow\": false, \"text\": 6, \"x\": -0.3676, \"y\": -1.0843, \"yshift\": 15, \"z\": -1.0156}, {\"showarrow\": false, \"text\": 7, \"x\": -0.5249, \"y\": 1.4234, \"yshift\": 15, \"z\": -0.4281}, {\"showarrow\": false, \"text\": 8, \"x\": -4.8074, \"y\": -0.006, \"yshift\": 15, \"z\": -2.575}, {\"showarrow\": false, \"text\": 9, \"x\": -2.8746, \"y\": 1.27, \"yshift\": 15, \"z\": -1.4633}, {\"showarrow\": false, \"text\": 10, \"x\": -2.7126, \"y\": 0.6966, \"yshift\": 15, \"z\": -3.8409}, {\"showarrow\": false, \"text\": 11, \"x\": -2.7048, \"y\": -1.2292, \"yshift\": 15, \"z\": -2.0923}, {\"showarrow\": false, \"text\": 12, \"x\": 0, \"y\": 0, \"yshift\": 15, \"z\": 0}, {\"showarrow\": false, \"text\": 13, \"x\": -3.2288, \"y\": 0.2011, \"yshift\": 15, \"z\": -2.5016}]}], \"label\": \"Indices\", \"method\": \"relayout\"}, {\"args\": [{\"scene.annotations\": [{\"showarrow\": false, \"text\": 0, \"x\": 1.8826, \"y\": 1.0401, \"yshift\": 15, \"z\": -0.3461}, {\"showarrow\": false, \"text\": 1, \"x\": -1.4828, \"y\": 1.4273, \"yshift\": 15, \"z\": -0.8045}, {\"showarrow\": false, \"text\": 2, \"x\": -5.1145, \"y\": -0.8314, \"yshift\": 15, \"z\": -2.1558}, {\"showarrow\": false, \"text\": 3, \"x\": -1.7545, \"y\": -1.2343, \"yshift\": 15, \"z\": -1.6994}, {\"showarrow\": false, \"text\": 4, \"x\": 1.5808, \"y\": 0.2004, \"yshift\": 15, \"z\": 0.0487}, {\"showarrow\": false, \"text\": 5, \"x\": -0.5062, \"y\": -0.466, \"yshift\": 15, \"z\": 1.3543}, {\"showarrow\": false, \"text\": 6, \"x\": -0.3676, \"y\": -1.0843, \"yshift\": 15, \"z\": -1.0156}, {\"showarrow\": false, \"text\": 7, \"x\": -0.5249, \"y\": 1.4234, \"yshift\": 15, \"z\": -0.4281}, {\"showarrow\": false, \"text\": 8, \"x\": -4.8074, \"y\": -0.006, \"yshift\": 15, \"z\": -2.575}, {\"showarrow\": false, \"text\": 9, \"x\": -2.8746, \"y\": 1.27, \"yshift\": 15, \"z\": -1.4633}, {\"showarrow\": false, \"text\": 10, \"x\": -2.7126, \"y\": 0.6966, \"yshift\": 15, \"z\": -3.8409}, {\"showarrow\": false, \"text\": 11, \"x\": -2.7048, \"y\": -1.2292, \"yshift\": 15, \"z\": -2.0923}, {\"showarrow\": false, \"text\": 12, \"x\": 0, \"y\": 0, \"yshift\": 15, \"z\": 0}, {\"showarrow\": false, \"text\": 13, \"x\": -3.2288, \"y\": 0.2011, \"yshift\": 15, \"z\": -2.5016}, {\"font\": {\"color\": \"steelblue\"}, \"showarrow\": false, \"text\": \"0.976\", \"x\": 1.7317, \"y\": 0.62025, \"yshift\": 15, \"z\": -0.1487}, {\"font\": {\"color\": \"steelblue\"}, \"showarrow\": false, \"text\": \"1.029\", \"x\": -1.00385, \"y\": 1.42535, \"yshift\": 15, \"z\": -0.6163}, {\"font\": {\"color\": \"steelblue\"}, \"showarrow\": false, \"text\": \"0.975\", \"x\": -4.96095, \"y\": -0.4187, \"yshift\": 15, \"z\": -2.3654}, {\"font\": {\"color\": \"steelblue\"}, \"showarrow\": false, \"text\": \"1.028\", \"x\": -2.22965, \"y\": -1.23175, \"yshift\": 15, \"z\": -1.8958499999999998}, {\"font\": {\"color\": \"steelblue\"}, \"showarrow\": false, \"text\": \"1.594\", \"x\": 0.7904, \"y\": 0.1002, \"yshift\": 15, \"z\": 0.02435}, {\"font\": {\"color\": \"steelblue\"}, \"showarrow\": false, \"text\": \"1.519\", \"x\": -0.2531, \"y\": -0.233, \"yshift\": 15, \"z\": 0.67715}, {\"font\": {\"color\": \"steelblue\"}, \"showarrow\": false, \"text\": \"1.530\", \"x\": -0.1838, \"y\": -0.54215, \"yshift\": 15, \"z\": -0.5078}, {\"font\": {\"color\": \"steelblue\"}, \"showarrow\": false, \"text\": \"1.576\", \"x\": -0.26245, \"y\": 0.7117, \"yshift\": 15, \"z\": -0.21405}, {\"font\": {\"color\": \"steelblue\"}, \"showarrow\": false, \"text\": \"1.594\", \"x\": -4.0181000000000004, \"y\": 0.09755, \"yshift\": 15, \"z\": -2.5383}, {\"font\": {\"color\": \"steelblue\"}, \"showarrow\": false, \"text\": \"1.532\", \"x\": -3.0517000000000003, \"y\": 0.73555, \"yshift\": 15, \"z\": -1.98245}, {\"font\": {\"color\": \"steelblue\"}, \"showarrow\": false, \"text\": \"1.519\", \"x\": -2.9707, \"y\": 0.44884999999999997, \"yshift\": 15, \"z\": -3.1712499999999997}, {\"font\": {\"color\": \"steelblue\"}, \"showarrow\": false, \"text\": \"1.577\", \"x\": -2.9668, \"y\": -0.51405, \"yshift\": 15, \"z\": -2.29695}, {\"font\": {\"color\": \"steelblue\"}, \"showarrow\": false, \"text\": 1.548, \"x\": -2.1787, \"y\": 1.3486500000000001, \"yshift\": 15, \"z\": -1.1339000000000001}, {\"font\": {\"color\": \"steelblue\"}, \"showarrow\": false, \"text\": 1.554, \"x\": -1.06105, \"y\": -1.1593, \"yshift\": 15, \"z\": -1.3575}]}], \"label\": \"Indices & Bond Lengths\", \"method\": \"relayout\"}, {\"args\": [{\"scene.annotations\": [{\"font\": {\"color\": \"steelblue\"}, \"showarrow\": false, \"text\": \"0.976\", \"x\": 1.7317, \"y\": 0.62025, \"yshift\": 15, \"z\": -0.1487}, {\"font\": {\"color\": \"steelblue\"}, \"showarrow\": false, \"text\": \"1.029\", \"x\": -1.00385, \"y\": 1.42535, \"yshift\": 15, \"z\": -0.6163}, {\"font\": {\"color\": \"steelblue\"}, \"showarrow\": false, \"text\": \"0.975\", \"x\": -4.96095, \"y\": -0.4187, \"yshift\": 15, \"z\": -2.3654}, {\"font\": {\"color\": \"steelblue\"}, \"showarrow\": false, \"text\": \"1.028\", \"x\": -2.22965, \"y\": -1.23175, \"yshift\": 15, \"z\": -1.8958499999999998}, {\"font\": {\"color\": \"steelblue\"}, \"showarrow\": false, \"text\": \"1.594\", \"x\": 0.7904, \"y\": 0.1002, \"yshift\": 15, \"z\": 0.02435}, {\"font\": {\"color\": \"steelblue\"}, \"showarrow\": false, \"text\": \"1.519\", \"x\": -0.2531, \"y\": -0.233, \"yshift\": 15, \"z\": 0.67715}, {\"font\": {\"color\": \"steelblue\"}, \"showarrow\": false, \"text\": \"1.530\", \"x\": -0.1838, \"y\": -0.54215, \"yshift\": 15, \"z\": -0.5078}, {\"font\": {\"color\": \"steelblue\"}, \"showarrow\": false, \"text\": \"1.576\", \"x\": -0.26245, \"y\": 0.7117, \"yshift\": 15, \"z\": -0.21405}, {\"font\": {\"color\": \"steelblue\"}, \"showarrow\": false, \"text\": \"1.594\", \"x\": -4.0181000000000004, \"y\": 0.09755, \"yshift\": 15, \"z\": -2.5383}, {\"font\": {\"color\": \"steelblue\"}, \"showarrow\": false, \"text\": \"1.532\", \"x\": -3.0517000000000003, \"y\": 0.73555, \"yshift\": 15, \"z\": -1.98245}, {\"font\": {\"color\": \"steelblue\"}, \"showarrow\": false, \"text\": \"1.519\", \"x\": -2.9707, \"y\": 0.44884999999999997, \"yshift\": 15, \"z\": -3.1712499999999997}, {\"font\": {\"color\": \"steelblue\"}, \"showarrow\": false, \"text\": \"1.577\", \"x\": -2.9668, \"y\": -0.51405, \"yshift\": 15, \"z\": -2.29695}, {\"font\": {\"color\": \"steelblue\"}, \"showarrow\": false, \"text\": 1.548, \"x\": -2.1787, \"y\": 1.3486500000000001, \"yshift\": 15, \"z\": -1.1339000000000001}, {\"font\": {\"color\": \"steelblue\"}, \"showarrow\": false, \"text\": 1.554, \"x\": -1.06105, \"y\": -1.1593, \"yshift\": 15, \"z\": -1.3575}]}], \"label\": \"Bond Lengths\", \"method\": \"relayout\"}, {\"args\": [{}], \"label\": \"Hide All\", \"method\": \"relayout\"}], \"direction\": \"down\", \"xanchor\": \"left\", \"yanchor\": \"top\"}]},                        {\"responsive\": true}                    ).then(function(){\n",
       "                            \n",
       "var gd = document.getElementById('3b22208a-1453-4372-ae34-20291092557a');\n",
       "var x = new MutationObserver(function (mutations, observer) {{\n",
       "        var display = window.getComputedStyle(gd).display;\n",
       "        if (!display || display === 'none') {{\n",
       "            console.log([gd, 'removed!']);\n",
       "            Plotly.purge(gd);\n",
       "            observer.disconnect();\n",
       "        }}\n",
       "}});\n",
       "\n",
       "// Listen for the removal of the full notebook cells\n",
       "var notebookContainer = gd.closest('#notebook-container');\n",
       "if (notebookContainer) {{\n",
       "    x.observe(notebookContainer, {childList: true});\n",
       "}}\n",
       "\n",
       "// Listen for the clearing of the current output cell\n",
       "var outputEl = gd.closest('.output');\n",
       "if (outputEl) {{\n",
       "    x.observe(outputEl, {childList: true});\n",
       "}}\n",
       "\n",
       "                        })                };                });            </script>        </div>"
      ]
     },
     "metadata": {},
     "output_type": "display_data"
    },
    {
     "data": {
      "application/vnd.plotly.v1+json": {
       "config": {
        "linkText": "Export to plot.ly",
        "plotlyServerURL": "https://plot.ly",
        "showLink": false
       },
       "data": [
        {
         "marker": {
          "color": [
           "red",
           "red",
           "red",
           "red",
           "orange",
           "white",
           "white",
           "orange",
           "red",
           "red",
           "red",
           "red",
           "white",
           "white"
          ],
          "line": {
           "color": "lightgray",
           "width": 2
          },
          "opacity": 0.8,
          "size": [
           27.200000000000003,
           27.200000000000003,
           27.200000000000003,
           27.200000000000003,
           42,
           9.200000000000001,
           9.200000000000001,
           42,
           27.200000000000003,
           27.200000000000003,
           27.200000000000003,
           27.200000000000003,
           9.200000000000001,
           9.200000000000001
          ],
          "symbol": "circle"
         },
         "mode": "markers",
         "text": [
          "O1",
          "O2",
          "O3",
          "O4",
          "P5",
          "H6",
          "H7",
          "P8",
          "O9",
          "O10",
          "O11",
          "O12",
          "H13",
          "H14"
         ],
         "type": "scatter3d",
         "x": [
          1.563941,
          -0.582215,
          -0.362658,
          -0.490231,
          0,
          1.930685,
          -1.420319,
          -3.267268,
          -4.830466,
          -2.907062,
          -2.688917,
          -2.771539,
          -5.197285,
          -1.843086
         ],
         "y": [
          0.209377,
          -0.501228,
          -1.069103,
          1.42448,
          0,
          0.913073,
          1.43503,
          0.143473,
          -0.070511,
          1.207375,
          0.652725,
          -1.281601,
          -0.767965,
          -1.290517
         ],
         "z": [
          0.168256,
          1.297535,
          -1.030027,
          -0.447613,
          0,
          -0.381538,
          -0.81542,
          -2.526067,
          -2.69516,
          -1.489698,
          -3.822069,
          -2.086191,
          -2.137629,
          -1.713505
         ]
        },
        {
         "hoverinfo": "none",
         "marker": {
          "color": "gray",
          "opacity": 0.1,
          "size": 3
         },
         "mode": "lines",
         "type": "scatter3d",
         "x": [
          1.563941,
          1.930685,
          null,
          1.563941,
          0,
          null,
          0,
          1.563941,
          null,
          0,
          -0.362658,
          null,
          0,
          -0.490231,
          null,
          0,
          -0.582215,
          null,
          1.930685,
          1.563941,
          null,
          -0.582215,
          0,
          null,
          -0.362658,
          0,
          null,
          -0.362658,
          -1.843086,
          null,
          -0.490231,
          0,
          null,
          -0.490231,
          -1.420319,
          null,
          -1.420319,
          -2.907062,
          null,
          -1.420319,
          -0.490231,
          null,
          -3.267268,
          -2.771539,
          null,
          -3.267268,
          -2.907062,
          null,
          -3.267268,
          -2.688917,
          null,
          -3.267268,
          -4.830466,
          null,
          -4.830466,
          -3.267268,
          null,
          -4.830466,
          -5.197285,
          null,
          -2.907062,
          -3.267268,
          null,
          -2.907062,
          -1.420319,
          null,
          -2.688917,
          -3.267268,
          null,
          -2.771539,
          -3.267268,
          null,
          -2.771539,
          -1.843086,
          null,
          -5.197285,
          -4.830466,
          null,
          -1.843086,
          -2.771539,
          null,
          -1.843086,
          -0.362658,
          null
         ],
         "y": [
          0.209377,
          0.913073,
          null,
          0.209377,
          0,
          null,
          0,
          0.209377,
          null,
          0,
          -1.069103,
          null,
          0,
          1.42448,
          null,
          0,
          -0.501228,
          null,
          0.913073,
          0.209377,
          null,
          -0.501228,
          0,
          null,
          -1.069103,
          0,
          null,
          -1.069103,
          -1.290517,
          null,
          1.42448,
          0,
          null,
          1.42448,
          1.43503,
          null,
          1.43503,
          1.207375,
          null,
          1.43503,
          1.42448,
          null,
          0.143473,
          -1.281601,
          null,
          0.143473,
          1.207375,
          null,
          0.143473,
          0.652725,
          null,
          0.143473,
          -0.070511,
          null,
          -0.070511,
          0.143473,
          null,
          -0.070511,
          -0.767965,
          null,
          1.207375,
          0.143473,
          null,
          1.207375,
          1.43503,
          null,
          0.652725,
          0.143473,
          null,
          -1.281601,
          0.143473,
          null,
          -1.281601,
          -1.290517,
          null,
          -0.767965,
          -0.070511,
          null,
          -1.290517,
          -1.281601,
          null,
          -1.290517,
          -1.069103,
          null
         ],
         "z": [
          0.168256,
          -0.381538,
          null,
          0.168256,
          0,
          null,
          0,
          0.168256,
          null,
          0,
          -1.030027,
          null,
          0,
          -0.447613,
          null,
          0,
          1.297535,
          null,
          -0.381538,
          0.168256,
          null,
          1.297535,
          0,
          null,
          -1.030027,
          0,
          null,
          -1.030027,
          -1.713505,
          null,
          -0.447613,
          0,
          null,
          -0.447613,
          -0.81542,
          null,
          -0.81542,
          -1.489698,
          null,
          -0.81542,
          -0.447613,
          null,
          -2.526067,
          -2.086191,
          null,
          -2.526067,
          -1.489698,
          null,
          -2.526067,
          -3.822069,
          null,
          -2.526067,
          -2.69516,
          null,
          -2.69516,
          -2.526067,
          null,
          -2.69516,
          -2.137629,
          null,
          -1.489698,
          -2.526067,
          null,
          -1.489698,
          -0.81542,
          null,
          -3.822069,
          -2.526067,
          null,
          -2.086191,
          -2.526067,
          null,
          -2.086191,
          -1.713505,
          null,
          -2.137629,
          -2.69516,
          null,
          -1.713505,
          -2.086191,
          null,
          -1.713505,
          -1.030027,
          null
         ]
        }
       ],
       "layout": {
        "margin": {
         "b": 0,
         "l": 0,
         "r": 0,
         "t": 0
        },
        "scene": {
         "annotations": [
          {
           "showarrow": false,
           "text": "O1",
           "x": 1.563941,
           "y": 0.209377,
           "yshift": 15,
           "z": 0.168256
          },
          {
           "showarrow": false,
           "text": "O2",
           "x": -0.582215,
           "y": -0.501228,
           "yshift": 15,
           "z": 1.297535
          },
          {
           "showarrow": false,
           "text": "O3",
           "x": -0.362658,
           "y": -1.069103,
           "yshift": 15,
           "z": -1.030027
          },
          {
           "showarrow": false,
           "text": "O4",
           "x": -0.490231,
           "y": 1.42448,
           "yshift": 15,
           "z": -0.447613
          },
          {
           "showarrow": false,
           "text": "P5",
           "x": 0,
           "y": 0,
           "yshift": 15,
           "z": 0
          },
          {
           "showarrow": false,
           "text": "H6",
           "x": 1.930685,
           "y": 0.913073,
           "yshift": 15,
           "z": -0.381538
          },
          {
           "showarrow": false,
           "text": "H7",
           "x": -1.420319,
           "y": 1.43503,
           "yshift": 15,
           "z": -0.81542
          },
          {
           "showarrow": false,
           "text": "P8",
           "x": -3.267268,
           "y": 0.143473,
           "yshift": 15,
           "z": -2.526067
          },
          {
           "showarrow": false,
           "text": "O9",
           "x": -4.830466,
           "y": -0.070511,
           "yshift": 15,
           "z": -2.69516
          },
          {
           "showarrow": false,
           "text": "O10",
           "x": -2.907062,
           "y": 1.207375,
           "yshift": 15,
           "z": -1.489698
          },
          {
           "showarrow": false,
           "text": "O11",
           "x": -2.688917,
           "y": 0.652725,
           "yshift": 15,
           "z": -3.822069
          },
          {
           "showarrow": false,
           "text": "O12",
           "x": -2.771539,
           "y": -1.281601,
           "yshift": 15,
           "z": -2.086191
          },
          {
           "showarrow": false,
           "text": "H13",
           "x": -5.197285,
           "y": -0.767965,
           "yshift": 15,
           "z": -2.137629
          },
          {
           "showarrow": false,
           "text": "H14",
           "x": -1.843086,
           "y": -1.290517,
           "yshift": 15,
           "z": -1.713505
          }
         ],
         "xaxis": {
          "showbackground": true,
          "showgrid": true,
          "showticklabels": true,
          "title": {
           "font": {
            "color": "white"
           }
          },
          "zeroline": true
         },
         "yaxis": {
          "showbackground": true,
          "showgrid": true,
          "showticklabels": true,
          "title": {
           "font": {
            "color": "white"
           }
          },
          "zeroline": true
         },
         "zaxis": {
          "showbackground": true,
          "showgrid": true,
          "showticklabels": true,
          "title": {
           "font": {
            "color": "white"
           }
          },
          "zeroline": true
         }
        },
        "showlegend": false,
        "template": {
         "data": {
          "bar": [
           {
            "error_x": {
             "color": "#2a3f5f"
            },
            "error_y": {
             "color": "#2a3f5f"
            },
            "marker": {
             "line": {
              "color": "#E5ECF6",
              "width": 0.5
             }
            },
            "type": "bar"
           }
          ],
          "barpolar": [
           {
            "marker": {
             "line": {
              "color": "#E5ECF6",
              "width": 0.5
             }
            },
            "type": "barpolar"
           }
          ],
          "carpet": [
           {
            "aaxis": {
             "endlinecolor": "#2a3f5f",
             "gridcolor": "white",
             "linecolor": "white",
             "minorgridcolor": "white",
             "startlinecolor": "#2a3f5f"
            },
            "baxis": {
             "endlinecolor": "#2a3f5f",
             "gridcolor": "white",
             "linecolor": "white",
             "minorgridcolor": "white",
             "startlinecolor": "#2a3f5f"
            },
            "type": "carpet"
           }
          ],
          "choropleth": [
           {
            "colorbar": {
             "outlinewidth": 0,
             "ticks": ""
            },
            "type": "choropleth"
           }
          ],
          "contour": [
           {
            "colorbar": {
             "outlinewidth": 0,
             "ticks": ""
            },
            "colorscale": [
             [
              0,
              "#0d0887"
             ],
             [
              0.1111111111111111,
              "#46039f"
             ],
             [
              0.2222222222222222,
              "#7201a8"
             ],
             [
              0.3333333333333333,
              "#9c179e"
             ],
             [
              0.4444444444444444,
              "#bd3786"
             ],
             [
              0.5555555555555556,
              "#d8576b"
             ],
             [
              0.6666666666666666,
              "#ed7953"
             ],
             [
              0.7777777777777778,
              "#fb9f3a"
             ],
             [
              0.8888888888888888,
              "#fdca26"
             ],
             [
              1,
              "#f0f921"
             ]
            ],
            "type": "contour"
           }
          ],
          "contourcarpet": [
           {
            "colorbar": {
             "outlinewidth": 0,
             "ticks": ""
            },
            "type": "contourcarpet"
           }
          ],
          "heatmap": [
           {
            "colorbar": {
             "outlinewidth": 0,
             "ticks": ""
            },
            "colorscale": [
             [
              0,
              "#0d0887"
             ],
             [
              0.1111111111111111,
              "#46039f"
             ],
             [
              0.2222222222222222,
              "#7201a8"
             ],
             [
              0.3333333333333333,
              "#9c179e"
             ],
             [
              0.4444444444444444,
              "#bd3786"
             ],
             [
              0.5555555555555556,
              "#d8576b"
             ],
             [
              0.6666666666666666,
              "#ed7953"
             ],
             [
              0.7777777777777778,
              "#fb9f3a"
             ],
             [
              0.8888888888888888,
              "#fdca26"
             ],
             [
              1,
              "#f0f921"
             ]
            ],
            "type": "heatmap"
           }
          ],
          "heatmapgl": [
           {
            "colorbar": {
             "outlinewidth": 0,
             "ticks": ""
            },
            "colorscale": [
             [
              0,
              "#0d0887"
             ],
             [
              0.1111111111111111,
              "#46039f"
             ],
             [
              0.2222222222222222,
              "#7201a8"
             ],
             [
              0.3333333333333333,
              "#9c179e"
             ],
             [
              0.4444444444444444,
              "#bd3786"
             ],
             [
              0.5555555555555556,
              "#d8576b"
             ],
             [
              0.6666666666666666,
              "#ed7953"
             ],
             [
              0.7777777777777778,
              "#fb9f3a"
             ],
             [
              0.8888888888888888,
              "#fdca26"
             ],
             [
              1,
              "#f0f921"
             ]
            ],
            "type": "heatmapgl"
           }
          ],
          "histogram": [
           {
            "marker": {
             "colorbar": {
              "outlinewidth": 0,
              "ticks": ""
             }
            },
            "type": "histogram"
           }
          ],
          "histogram2d": [
           {
            "colorbar": {
             "outlinewidth": 0,
             "ticks": ""
            },
            "colorscale": [
             [
              0,
              "#0d0887"
             ],
             [
              0.1111111111111111,
              "#46039f"
             ],
             [
              0.2222222222222222,
              "#7201a8"
             ],
             [
              0.3333333333333333,
              "#9c179e"
             ],
             [
              0.4444444444444444,
              "#bd3786"
             ],
             [
              0.5555555555555556,
              "#d8576b"
             ],
             [
              0.6666666666666666,
              "#ed7953"
             ],
             [
              0.7777777777777778,
              "#fb9f3a"
             ],
             [
              0.8888888888888888,
              "#fdca26"
             ],
             [
              1,
              "#f0f921"
             ]
            ],
            "type": "histogram2d"
           }
          ],
          "histogram2dcontour": [
           {
            "colorbar": {
             "outlinewidth": 0,
             "ticks": ""
            },
            "colorscale": [
             [
              0,
              "#0d0887"
             ],
             [
              0.1111111111111111,
              "#46039f"
             ],
             [
              0.2222222222222222,
              "#7201a8"
             ],
             [
              0.3333333333333333,
              "#9c179e"
             ],
             [
              0.4444444444444444,
              "#bd3786"
             ],
             [
              0.5555555555555556,
              "#d8576b"
             ],
             [
              0.6666666666666666,
              "#ed7953"
             ],
             [
              0.7777777777777778,
              "#fb9f3a"
             ],
             [
              0.8888888888888888,
              "#fdca26"
             ],
             [
              1,
              "#f0f921"
             ]
            ],
            "type": "histogram2dcontour"
           }
          ],
          "mesh3d": [
           {
            "colorbar": {
             "outlinewidth": 0,
             "ticks": ""
            },
            "type": "mesh3d"
           }
          ],
          "parcoords": [
           {
            "line": {
             "colorbar": {
              "outlinewidth": 0,
              "ticks": ""
             }
            },
            "type": "parcoords"
           }
          ],
          "pie": [
           {
            "automargin": true,
            "type": "pie"
           }
          ],
          "scatter": [
           {
            "marker": {
             "colorbar": {
              "outlinewidth": 0,
              "ticks": ""
             }
            },
            "type": "scatter"
           }
          ],
          "scatter3d": [
           {
            "line": {
             "colorbar": {
              "outlinewidth": 0,
              "ticks": ""
             }
            },
            "marker": {
             "colorbar": {
              "outlinewidth": 0,
              "ticks": ""
             }
            },
            "type": "scatter3d"
           }
          ],
          "scattercarpet": [
           {
            "marker": {
             "colorbar": {
              "outlinewidth": 0,
              "ticks": ""
             }
            },
            "type": "scattercarpet"
           }
          ],
          "scattergeo": [
           {
            "marker": {
             "colorbar": {
              "outlinewidth": 0,
              "ticks": ""
             }
            },
            "type": "scattergeo"
           }
          ],
          "scattergl": [
           {
            "marker": {
             "colorbar": {
              "outlinewidth": 0,
              "ticks": ""
             }
            },
            "type": "scattergl"
           }
          ],
          "scattermapbox": [
           {
            "marker": {
             "colorbar": {
              "outlinewidth": 0,
              "ticks": ""
             }
            },
            "type": "scattermapbox"
           }
          ],
          "scatterpolar": [
           {
            "marker": {
             "colorbar": {
              "outlinewidth": 0,
              "ticks": ""
             }
            },
            "type": "scatterpolar"
           }
          ],
          "scatterpolargl": [
           {
            "marker": {
             "colorbar": {
              "outlinewidth": 0,
              "ticks": ""
             }
            },
            "type": "scatterpolargl"
           }
          ],
          "scatterternary": [
           {
            "marker": {
             "colorbar": {
              "outlinewidth": 0,
              "ticks": ""
             }
            },
            "type": "scatterternary"
           }
          ],
          "surface": [
           {
            "colorbar": {
             "outlinewidth": 0,
             "ticks": ""
            },
            "colorscale": [
             [
              0,
              "#0d0887"
             ],
             [
              0.1111111111111111,
              "#46039f"
             ],
             [
              0.2222222222222222,
              "#7201a8"
             ],
             [
              0.3333333333333333,
              "#9c179e"
             ],
             [
              0.4444444444444444,
              "#bd3786"
             ],
             [
              0.5555555555555556,
              "#d8576b"
             ],
             [
              0.6666666666666666,
              "#ed7953"
             ],
             [
              0.7777777777777778,
              "#fb9f3a"
             ],
             [
              0.8888888888888888,
              "#fdca26"
             ],
             [
              1,
              "#f0f921"
             ]
            ],
            "type": "surface"
           }
          ],
          "table": [
           {
            "cells": {
             "fill": {
              "color": "#EBF0F8"
             },
             "line": {
              "color": "white"
             }
            },
            "header": {
             "fill": {
              "color": "#C8D4E3"
             },
             "line": {
              "color": "white"
             }
            },
            "type": "table"
           }
          ]
         },
         "layout": {
          "annotationdefaults": {
           "arrowcolor": "#2a3f5f",
           "arrowhead": 0,
           "arrowwidth": 1
          },
          "coloraxis": {
           "colorbar": {
            "outlinewidth": 0,
            "ticks": ""
           }
          },
          "colorscale": {
           "diverging": [
            [
             0,
             "#8e0152"
            ],
            [
             0.1,
             "#c51b7d"
            ],
            [
             0.2,
             "#de77ae"
            ],
            [
             0.3,
             "#f1b6da"
            ],
            [
             0.4,
             "#fde0ef"
            ],
            [
             0.5,
             "#f7f7f7"
            ],
            [
             0.6,
             "#e6f5d0"
            ],
            [
             0.7,
             "#b8e186"
            ],
            [
             0.8,
             "#7fbc41"
            ],
            [
             0.9,
             "#4d9221"
            ],
            [
             1,
             "#276419"
            ]
           ],
           "sequential": [
            [
             0,
             "#0d0887"
            ],
            [
             0.1111111111111111,
             "#46039f"
            ],
            [
             0.2222222222222222,
             "#7201a8"
            ],
            [
             0.3333333333333333,
             "#9c179e"
            ],
            [
             0.4444444444444444,
             "#bd3786"
            ],
            [
             0.5555555555555556,
             "#d8576b"
            ],
            [
             0.6666666666666666,
             "#ed7953"
            ],
            [
             0.7777777777777778,
             "#fb9f3a"
            ],
            [
             0.8888888888888888,
             "#fdca26"
            ],
            [
             1,
             "#f0f921"
            ]
           ],
           "sequentialminus": [
            [
             0,
             "#0d0887"
            ],
            [
             0.1111111111111111,
             "#46039f"
            ],
            [
             0.2222222222222222,
             "#7201a8"
            ],
            [
             0.3333333333333333,
             "#9c179e"
            ],
            [
             0.4444444444444444,
             "#bd3786"
            ],
            [
             0.5555555555555556,
             "#d8576b"
            ],
            [
             0.6666666666666666,
             "#ed7953"
            ],
            [
             0.7777777777777778,
             "#fb9f3a"
            ],
            [
             0.8888888888888888,
             "#fdca26"
            ],
            [
             1,
             "#f0f921"
            ]
           ]
          },
          "colorway": [
           "#636efa",
           "#EF553B",
           "#00cc96",
           "#ab63fa",
           "#FFA15A",
           "#19d3f3",
           "#FF6692",
           "#B6E880",
           "#FF97FF",
           "#FECB52"
          ],
          "font": {
           "color": "#2a3f5f"
          },
          "geo": {
           "bgcolor": "white",
           "lakecolor": "white",
           "landcolor": "#E5ECF6",
           "showlakes": true,
           "showland": true,
           "subunitcolor": "white"
          },
          "hoverlabel": {
           "align": "left"
          },
          "hovermode": "closest",
          "mapbox": {
           "style": "light"
          },
          "paper_bgcolor": "white",
          "plot_bgcolor": "#E5ECF6",
          "polar": {
           "angularaxis": {
            "gridcolor": "white",
            "linecolor": "white",
            "ticks": ""
           },
           "bgcolor": "#E5ECF6",
           "radialaxis": {
            "gridcolor": "white",
            "linecolor": "white",
            "ticks": ""
           }
          },
          "scene": {
           "xaxis": {
            "backgroundcolor": "#E5ECF6",
            "gridcolor": "white",
            "gridwidth": 2,
            "linecolor": "white",
            "showbackground": true,
            "ticks": "",
            "zerolinecolor": "white"
           },
           "yaxis": {
            "backgroundcolor": "#E5ECF6",
            "gridcolor": "white",
            "gridwidth": 2,
            "linecolor": "white",
            "showbackground": true,
            "ticks": "",
            "zerolinecolor": "white"
           },
           "zaxis": {
            "backgroundcolor": "#E5ECF6",
            "gridcolor": "white",
            "gridwidth": 2,
            "linecolor": "white",
            "showbackground": true,
            "ticks": "",
            "zerolinecolor": "white"
           }
          },
          "shapedefaults": {
           "line": {
            "color": "#2a3f5f"
           }
          },
          "ternary": {
           "aaxis": {
            "gridcolor": "white",
            "linecolor": "white",
            "ticks": ""
           },
           "baxis": {
            "gridcolor": "white",
            "linecolor": "white",
            "ticks": ""
           },
           "bgcolor": "#E5ECF6",
           "caxis": {
            "gridcolor": "white",
            "linecolor": "white",
            "ticks": ""
           }
          },
          "title": {
           "x": 0.05
          },
          "xaxis": {
           "automargin": true,
           "gridcolor": "white",
           "linecolor": "white",
           "ticks": "",
           "title": {
            "standoff": 15
           },
           "zerolinecolor": "white",
           "zerolinewidth": 2
          },
          "yaxis": {
           "automargin": true,
           "gridcolor": "white",
           "linecolor": "white",
           "ticks": "",
           "title": {
            "standoff": 15
           },
           "zerolinecolor": "white",
           "zerolinewidth": 2
          }
         }
        },
        "updatemenus": [
         {
          "buttons": [
           {
            "args": [
             {
              "scene.annotations": [
               {
                "showarrow": false,
                "text": "O1",
                "x": 1.563941,
                "y": 0.209377,
                "yshift": 15,
                "z": 0.168256
               },
               {
                "showarrow": false,
                "text": "O2",
                "x": -0.582215,
                "y": -0.501228,
                "yshift": 15,
                "z": 1.297535
               },
               {
                "showarrow": false,
                "text": "O3",
                "x": -0.362658,
                "y": -1.069103,
                "yshift": 15,
                "z": -1.030027
               },
               {
                "showarrow": false,
                "text": "O4",
                "x": -0.490231,
                "y": 1.42448,
                "yshift": 15,
                "z": -0.447613
               },
               {
                "showarrow": false,
                "text": "P5",
                "x": 0,
                "y": 0,
                "yshift": 15,
                "z": 0
               },
               {
                "showarrow": false,
                "text": "H6",
                "x": 1.930685,
                "y": 0.913073,
                "yshift": 15,
                "z": -0.381538
               },
               {
                "showarrow": false,
                "text": "H7",
                "x": -1.420319,
                "y": 1.43503,
                "yshift": 15,
                "z": -0.81542
               },
               {
                "showarrow": false,
                "text": "P8",
                "x": -3.267268,
                "y": 0.143473,
                "yshift": 15,
                "z": -2.526067
               },
               {
                "showarrow": false,
                "text": "O9",
                "x": -4.830466,
                "y": -0.070511,
                "yshift": 15,
                "z": -2.69516
               },
               {
                "showarrow": false,
                "text": "O10",
                "x": -2.907062,
                "y": 1.207375,
                "yshift": 15,
                "z": -1.489698
               },
               {
                "showarrow": false,
                "text": "O11",
                "x": -2.688917,
                "y": 0.652725,
                "yshift": 15,
                "z": -3.822069
               },
               {
                "showarrow": false,
                "text": "O12",
                "x": -2.771539,
                "y": -1.281601,
                "yshift": 15,
                "z": -2.086191
               },
               {
                "showarrow": false,
                "text": "H13",
                "x": -5.197285,
                "y": -0.767965,
                "yshift": 15,
                "z": -2.137629
               },
               {
                "showarrow": false,
                "text": "H14",
                "x": -1.843086,
                "y": -1.290517,
                "yshift": 15,
                "z": -1.713505
               }
              ]
             }
            ],
            "label": "Elements",
            "method": "relayout"
           },
           {
            "args": [
             {
              "scene.annotations": [
               {
                "showarrow": false,
                "text": "O1",
                "x": 1.563941,
                "y": 0.209377,
                "yshift": 15,
                "z": 0.168256
               },
               {
                "showarrow": false,
                "text": "O2",
                "x": -0.582215,
                "y": -0.501228,
                "yshift": 15,
                "z": 1.297535
               },
               {
                "showarrow": false,
                "text": "O3",
                "x": -0.362658,
                "y": -1.069103,
                "yshift": 15,
                "z": -1.030027
               },
               {
                "showarrow": false,
                "text": "O4",
                "x": -0.490231,
                "y": 1.42448,
                "yshift": 15,
                "z": -0.447613
               },
               {
                "showarrow": false,
                "text": "P5",
                "x": 0,
                "y": 0,
                "yshift": 15,
                "z": 0
               },
               {
                "showarrow": false,
                "text": "H6",
                "x": 1.930685,
                "y": 0.913073,
                "yshift": 15,
                "z": -0.381538
               },
               {
                "showarrow": false,
                "text": "H7",
                "x": -1.420319,
                "y": 1.43503,
                "yshift": 15,
                "z": -0.81542
               },
               {
                "showarrow": false,
                "text": "P8",
                "x": -3.267268,
                "y": 0.143473,
                "yshift": 15,
                "z": -2.526067
               },
               {
                "showarrow": false,
                "text": "O9",
                "x": -4.830466,
                "y": -0.070511,
                "yshift": 15,
                "z": -2.69516
               },
               {
                "showarrow": false,
                "text": "O10",
                "x": -2.907062,
                "y": 1.207375,
                "yshift": 15,
                "z": -1.489698
               },
               {
                "showarrow": false,
                "text": "O11",
                "x": -2.688917,
                "y": 0.652725,
                "yshift": 15,
                "z": -3.822069
               },
               {
                "showarrow": false,
                "text": "O12",
                "x": -2.771539,
                "y": -1.281601,
                "yshift": 15,
                "z": -2.086191
               },
               {
                "showarrow": false,
                "text": "H13",
                "x": -5.197285,
                "y": -0.767965,
                "yshift": 15,
                "z": -2.137629
               },
               {
                "showarrow": false,
                "text": "H14",
                "x": -1.843086,
                "y": -1.290517,
                "yshift": 15,
                "z": -1.713505
               },
               {
                "font": {
                 "color": "steelblue"
                },
                "showarrow": false,
                "text": "1.587",
                "x": 0.7819705,
                "y": 0.1046885,
                "yshift": 15,
                "z": 0.084128
               },
               {
                "font": {
                 "color": "steelblue"
                },
                "showarrow": false,
                "text": "0.965",
                "x": 1.7473130000000001,
                "y": 0.561225,
                "yshift": 15,
                "z": -0.106641
               },
               {
                "font": {
                 "color": "steelblue"
                },
                "showarrow": false,
                "text": "1.508",
                "x": -0.2911075,
                "y": -0.250614,
                "yshift": 15,
                "z": 0.6487675
               },
               {
                "font": {
                 "color": "steelblue"
                },
                "showarrow": false,
                "text": "1.528",
                "x": -0.181329,
                "y": -0.5345515,
                "yshift": 15,
                "z": -0.5150135
               },
               {
                "font": {
                 "color": "steelblue"
                },
                "showarrow": false,
                "text": "1.572",
                "x": -0.2451155,
                "y": 0.71224,
                "yshift": 15,
                "z": -0.2238065
               },
               {
                "font": {
                 "color": "steelblue"
                },
                "showarrow": false,
                "text": "1.000",
                "x": -0.9552750000000001,
                "y": 1.429755,
                "yshift": 15,
                "z": -0.6315165
               },
               {
                "font": {
                 "color": "steelblue"
                },
                "showarrow": false,
                "text": "1.587",
                "x": -4.048867,
                "y": 0.03648099999999999,
                "yshift": 15,
                "z": -2.6106135
               },
               {
                "font": {
                 "color": "steelblue"
                },
                "showarrow": false,
                "text": "1.528",
                "x": -3.0871649999999997,
                "y": 0.675424,
                "yshift": 15,
                "z": -2.0078825
               },
               {
                "font": {
                 "color": "steelblue"
                },
                "showarrow": false,
                "text": "1.508",
                "x": -2.9780925,
                "y": 0.398099,
                "yshift": 15,
                "z": -3.174068
               },
               {
                "font": {
                 "color": "steelblue"
                },
                "showarrow": false,
                "text": "1.572",
                "x": -3.0194035,
                "y": -0.569064,
                "yshift": 15,
                "z": -2.306129
               },
               {
                "font": {
                 "color": "steelblue"
                },
                "showarrow": false,
                "text": "0.965",
                "x": -5.0138755,
                "y": -0.419238,
                "yshift": 15,
                "z": -2.4163945
               },
               {
                "font": {
                 "color": "steelblue"
                },
                "showarrow": false,
                "text": "1.000",
                "x": -2.3073125,
                "y": -1.2860589999999998,
                "yshift": 15,
                "z": -1.899848
               },
               {
                "font": {
                 "color": "steelblue"
                },
                "showarrow": false,
                "text": 1.646,
                "x": -1.102872,
                "y": -1.1798099999999998,
                "yshift": 15,
                "z": -1.371766
               },
               {
                "font": {
                 "color": "steelblue"
                },
                "showarrow": false,
                "text": 1.648,
                "x": -2.1636905,
                "y": 1.3212025,
                "yshift": 15,
                "z": -1.1525590000000001
               }
              ]
             }
            ],
            "label": "Element & Bond Lengths",
            "method": "relayout"
           },
           {
            "args": [
             {
              "scene.annotations": [
               {
                "showarrow": false,
                "text": 0,
                "x": 1.563941,
                "y": 0.209377,
                "yshift": 15,
                "z": 0.168256
               },
               {
                "showarrow": false,
                "text": 1,
                "x": -0.582215,
                "y": -0.501228,
                "yshift": 15,
                "z": 1.297535
               },
               {
                "showarrow": false,
                "text": 2,
                "x": -0.362658,
                "y": -1.069103,
                "yshift": 15,
                "z": -1.030027
               },
               {
                "showarrow": false,
                "text": 3,
                "x": -0.490231,
                "y": 1.42448,
                "yshift": 15,
                "z": -0.447613
               },
               {
                "showarrow": false,
                "text": 4,
                "x": 0,
                "y": 0,
                "yshift": 15,
                "z": 0
               },
               {
                "showarrow": false,
                "text": 5,
                "x": 1.930685,
                "y": 0.913073,
                "yshift": 15,
                "z": -0.381538
               },
               {
                "showarrow": false,
                "text": 6,
                "x": -1.420319,
                "y": 1.43503,
                "yshift": 15,
                "z": -0.81542
               },
               {
                "showarrow": false,
                "text": 7,
                "x": -3.267268,
                "y": 0.143473,
                "yshift": 15,
                "z": -2.526067
               },
               {
                "showarrow": false,
                "text": 8,
                "x": -4.830466,
                "y": -0.070511,
                "yshift": 15,
                "z": -2.69516
               },
               {
                "showarrow": false,
                "text": 9,
                "x": -2.907062,
                "y": 1.207375,
                "yshift": 15,
                "z": -1.489698
               },
               {
                "showarrow": false,
                "text": 10,
                "x": -2.688917,
                "y": 0.652725,
                "yshift": 15,
                "z": -3.822069
               },
               {
                "showarrow": false,
                "text": 11,
                "x": -2.771539,
                "y": -1.281601,
                "yshift": 15,
                "z": -2.086191
               },
               {
                "showarrow": false,
                "text": 12,
                "x": -5.197285,
                "y": -0.767965,
                "yshift": 15,
                "z": -2.137629
               },
               {
                "showarrow": false,
                "text": 13,
                "x": -1.843086,
                "y": -1.290517,
                "yshift": 15,
                "z": -1.713505
               }
              ]
             }
            ],
            "label": "Indices",
            "method": "relayout"
           },
           {
            "args": [
             {
              "scene.annotations": [
               {
                "showarrow": false,
                "text": 0,
                "x": 1.563941,
                "y": 0.209377,
                "yshift": 15,
                "z": 0.168256
               },
               {
                "showarrow": false,
                "text": 1,
                "x": -0.582215,
                "y": -0.501228,
                "yshift": 15,
                "z": 1.297535
               },
               {
                "showarrow": false,
                "text": 2,
                "x": -0.362658,
                "y": -1.069103,
                "yshift": 15,
                "z": -1.030027
               },
               {
                "showarrow": false,
                "text": 3,
                "x": -0.490231,
                "y": 1.42448,
                "yshift": 15,
                "z": -0.447613
               },
               {
                "showarrow": false,
                "text": 4,
                "x": 0,
                "y": 0,
                "yshift": 15,
                "z": 0
               },
               {
                "showarrow": false,
                "text": 5,
                "x": 1.930685,
                "y": 0.913073,
                "yshift": 15,
                "z": -0.381538
               },
               {
                "showarrow": false,
                "text": 6,
                "x": -1.420319,
                "y": 1.43503,
                "yshift": 15,
                "z": -0.81542
               },
               {
                "showarrow": false,
                "text": 7,
                "x": -3.267268,
                "y": 0.143473,
                "yshift": 15,
                "z": -2.526067
               },
               {
                "showarrow": false,
                "text": 8,
                "x": -4.830466,
                "y": -0.070511,
                "yshift": 15,
                "z": -2.69516
               },
               {
                "showarrow": false,
                "text": 9,
                "x": -2.907062,
                "y": 1.207375,
                "yshift": 15,
                "z": -1.489698
               },
               {
                "showarrow": false,
                "text": 10,
                "x": -2.688917,
                "y": 0.652725,
                "yshift": 15,
                "z": -3.822069
               },
               {
                "showarrow": false,
                "text": 11,
                "x": -2.771539,
                "y": -1.281601,
                "yshift": 15,
                "z": -2.086191
               },
               {
                "showarrow": false,
                "text": 12,
                "x": -5.197285,
                "y": -0.767965,
                "yshift": 15,
                "z": -2.137629
               },
               {
                "showarrow": false,
                "text": 13,
                "x": -1.843086,
                "y": -1.290517,
                "yshift": 15,
                "z": -1.713505
               },
               {
                "font": {
                 "color": "steelblue"
                },
                "showarrow": false,
                "text": "1.587",
                "x": 0.7819705,
                "y": 0.1046885,
                "yshift": 15,
                "z": 0.084128
               },
               {
                "font": {
                 "color": "steelblue"
                },
                "showarrow": false,
                "text": "0.965",
                "x": 1.7473130000000001,
                "y": 0.561225,
                "yshift": 15,
                "z": -0.106641
               },
               {
                "font": {
                 "color": "steelblue"
                },
                "showarrow": false,
                "text": "1.508",
                "x": -0.2911075,
                "y": -0.250614,
                "yshift": 15,
                "z": 0.6487675
               },
               {
                "font": {
                 "color": "steelblue"
                },
                "showarrow": false,
                "text": "1.528",
                "x": -0.181329,
                "y": -0.5345515,
                "yshift": 15,
                "z": -0.5150135
               },
               {
                "font": {
                 "color": "steelblue"
                },
                "showarrow": false,
                "text": "1.572",
                "x": -0.2451155,
                "y": 0.71224,
                "yshift": 15,
                "z": -0.2238065
               },
               {
                "font": {
                 "color": "steelblue"
                },
                "showarrow": false,
                "text": "1.000",
                "x": -0.9552750000000001,
                "y": 1.429755,
                "yshift": 15,
                "z": -0.6315165
               },
               {
                "font": {
                 "color": "steelblue"
                },
                "showarrow": false,
                "text": "1.587",
                "x": -4.048867,
                "y": 0.03648099999999999,
                "yshift": 15,
                "z": -2.6106135
               },
               {
                "font": {
                 "color": "steelblue"
                },
                "showarrow": false,
                "text": "1.528",
                "x": -3.0871649999999997,
                "y": 0.675424,
                "yshift": 15,
                "z": -2.0078825
               },
               {
                "font": {
                 "color": "steelblue"
                },
                "showarrow": false,
                "text": "1.508",
                "x": -2.9780925,
                "y": 0.398099,
                "yshift": 15,
                "z": -3.174068
               },
               {
                "font": {
                 "color": "steelblue"
                },
                "showarrow": false,
                "text": "1.572",
                "x": -3.0194035,
                "y": -0.569064,
                "yshift": 15,
                "z": -2.306129
               },
               {
                "font": {
                 "color": "steelblue"
                },
                "showarrow": false,
                "text": "0.965",
                "x": -5.0138755,
                "y": -0.419238,
                "yshift": 15,
                "z": -2.4163945
               },
               {
                "font": {
                 "color": "steelblue"
                },
                "showarrow": false,
                "text": "1.000",
                "x": -2.3073125,
                "y": -1.2860589999999998,
                "yshift": 15,
                "z": -1.899848
               },
               {
                "font": {
                 "color": "steelblue"
                },
                "showarrow": false,
                "text": 1.646,
                "x": -1.102872,
                "y": -1.1798099999999998,
                "yshift": 15,
                "z": -1.371766
               },
               {
                "font": {
                 "color": "steelblue"
                },
                "showarrow": false,
                "text": 1.648,
                "x": -2.1636905,
                "y": 1.3212025,
                "yshift": 15,
                "z": -1.1525590000000001
               }
              ]
             }
            ],
            "label": "Indices & Bond Lengths",
            "method": "relayout"
           },
           {
            "args": [
             {
              "scene.annotations": [
               {
                "font": {
                 "color": "steelblue"
                },
                "showarrow": false,
                "text": "1.587",
                "x": 0.7819705,
                "y": 0.1046885,
                "yshift": 15,
                "z": 0.084128
               },
               {
                "font": {
                 "color": "steelblue"
                },
                "showarrow": false,
                "text": "0.965",
                "x": 1.7473130000000001,
                "y": 0.561225,
                "yshift": 15,
                "z": -0.106641
               },
               {
                "font": {
                 "color": "steelblue"
                },
                "showarrow": false,
                "text": "1.508",
                "x": -0.2911075,
                "y": -0.250614,
                "yshift": 15,
                "z": 0.6487675
               },
               {
                "font": {
                 "color": "steelblue"
                },
                "showarrow": false,
                "text": "1.528",
                "x": -0.181329,
                "y": -0.5345515,
                "yshift": 15,
                "z": -0.5150135
               },
               {
                "font": {
                 "color": "steelblue"
                },
                "showarrow": false,
                "text": "1.572",
                "x": -0.2451155,
                "y": 0.71224,
                "yshift": 15,
                "z": -0.2238065
               },
               {
                "font": {
                 "color": "steelblue"
                },
                "showarrow": false,
                "text": "1.000",
                "x": -0.9552750000000001,
                "y": 1.429755,
                "yshift": 15,
                "z": -0.6315165
               },
               {
                "font": {
                 "color": "steelblue"
                },
                "showarrow": false,
                "text": "1.587",
                "x": -4.048867,
                "y": 0.03648099999999999,
                "yshift": 15,
                "z": -2.6106135
               },
               {
                "font": {
                 "color": "steelblue"
                },
                "showarrow": false,
                "text": "1.528",
                "x": -3.0871649999999997,
                "y": 0.675424,
                "yshift": 15,
                "z": -2.0078825
               },
               {
                "font": {
                 "color": "steelblue"
                },
                "showarrow": false,
                "text": "1.508",
                "x": -2.9780925,
                "y": 0.398099,
                "yshift": 15,
                "z": -3.174068
               },
               {
                "font": {
                 "color": "steelblue"
                },
                "showarrow": false,
                "text": "1.572",
                "x": -3.0194035,
                "y": -0.569064,
                "yshift": 15,
                "z": -2.306129
               },
               {
                "font": {
                 "color": "steelblue"
                },
                "showarrow": false,
                "text": "0.965",
                "x": -5.0138755,
                "y": -0.419238,
                "yshift": 15,
                "z": -2.4163945
               },
               {
                "font": {
                 "color": "steelblue"
                },
                "showarrow": false,
                "text": "1.000",
                "x": -2.3073125,
                "y": -1.2860589999999998,
                "yshift": 15,
                "z": -1.899848
               },
               {
                "font": {
                 "color": "steelblue"
                },
                "showarrow": false,
                "text": 1.646,
                "x": -1.102872,
                "y": -1.1798099999999998,
                "yshift": 15,
                "z": -1.371766
               },
               {
                "font": {
                 "color": "steelblue"
                },
                "showarrow": false,
                "text": 1.648,
                "x": -2.1636905,
                "y": 1.3212025,
                "yshift": 15,
                "z": -1.1525590000000001
               }
              ]
             }
            ],
            "label": "Bond Lengths",
            "method": "relayout"
           },
           {
            "args": [
             {}
            ],
            "label": "Hide All",
            "method": "relayout"
           }
          ],
          "direction": "down",
          "xanchor": "left",
          "yanchor": "top"
         }
        ]
       }
      },
      "text/html": [
       "<div>                            <div id=\"a9fed83e-73bf-46ef-a239-8bf3c34587f3\" class=\"plotly-graph-div\" style=\"height:525px; width:100%;\"></div>            <script type=\"text/javascript\">                require([\"plotly\"], function(Plotly) {                    window.PLOTLYENV=window.PLOTLYENV || {};                                    if (document.getElementById(\"a9fed83e-73bf-46ef-a239-8bf3c34587f3\")) {                    Plotly.newPlot(                        \"a9fed83e-73bf-46ef-a239-8bf3c34587f3\",                        [{\"marker\": {\"color\": [\"red\", \"red\", \"red\", \"red\", \"orange\", \"white\", \"white\", \"orange\", \"red\", \"red\", \"red\", \"red\", \"white\", \"white\"], \"line\": {\"color\": \"lightgray\", \"width\": 2}, \"opacity\": 0.8, \"size\": [27.200000000000003, 27.200000000000003, 27.200000000000003, 27.200000000000003, 42.0, 9.200000000000001, 9.200000000000001, 42.0, 27.200000000000003, 27.200000000000003, 27.200000000000003, 27.200000000000003, 9.200000000000001, 9.200000000000001], \"symbol\": \"circle\"}, \"mode\": \"markers\", \"text\": [\"O1\", \"O2\", \"O3\", \"O4\", \"P5\", \"H6\", \"H7\", \"P8\", \"O9\", \"O10\", \"O11\", \"O12\", \"H13\", \"H14\"], \"type\": \"scatter3d\", \"x\": [1.563941, -0.582215, -0.362658, -0.490231, 0, 1.930685, -1.420319, -3.267268, -4.830466, -2.907062, -2.688917, -2.771539, -5.197285, -1.843086], \"y\": [0.209377, -0.501228, -1.069103, 1.42448, 0, 0.913073, 1.43503, 0.143473, -0.070511, 1.207375, 0.652725, -1.281601, -0.767965, -1.290517], \"z\": [0.168256, 1.297535, -1.030027, -0.447613, 0, -0.381538, -0.81542, -2.526067, -2.69516, -1.489698, -3.822069, -2.086191, -2.137629, -1.713505]}, {\"hoverinfo\": \"none\", \"marker\": {\"color\": \"gray\", \"opacity\": 0.1, \"size\": 3}, \"mode\": \"lines\", \"type\": \"scatter3d\", \"x\": [1.563941, 1.930685, null, 1.563941, 0, null, 0, 1.563941, null, 0, -0.362658, null, 0, -0.490231, null, 0, -0.582215, null, 1.930685, 1.563941, null, -0.582215, 0, null, -0.362658, 0, null, -0.362658, -1.843086, null, -0.490231, 0, null, -0.490231, -1.420319, null, -1.420319, -2.907062, null, -1.420319, -0.490231, null, -3.267268, -2.771539, null, -3.267268, -2.907062, null, -3.267268, -2.688917, null, -3.267268, -4.830466, null, -4.830466, -3.267268, null, -4.830466, -5.197285, null, -2.907062, -3.267268, null, -2.907062, -1.420319, null, -2.688917, -3.267268, null, -2.771539, -3.267268, null, -2.771539, -1.843086, null, -5.197285, -4.830466, null, -1.843086, -2.771539, null, -1.843086, -0.362658, null], \"y\": [0.209377, 0.913073, null, 0.209377, 0, null, 0, 0.209377, null, 0, -1.069103, null, 0, 1.42448, null, 0, -0.501228, null, 0.913073, 0.209377, null, -0.501228, 0, null, -1.069103, 0, null, -1.069103, -1.290517, null, 1.42448, 0, null, 1.42448, 1.43503, null, 1.43503, 1.207375, null, 1.43503, 1.42448, null, 0.143473, -1.281601, null, 0.143473, 1.207375, null, 0.143473, 0.652725, null, 0.143473, -0.070511, null, -0.070511, 0.143473, null, -0.070511, -0.767965, null, 1.207375, 0.143473, null, 1.207375, 1.43503, null, 0.652725, 0.143473, null, -1.281601, 0.143473, null, -1.281601, -1.290517, null, -0.767965, -0.070511, null, -1.290517, -1.281601, null, -1.290517, -1.069103, null], \"z\": [0.168256, -0.381538, null, 0.168256, 0, null, 0, 0.168256, null, 0, -1.030027, null, 0, -0.447613, null, 0, 1.297535, null, -0.381538, 0.168256, null, 1.297535, 0, null, -1.030027, 0, null, -1.030027, -1.713505, null, -0.447613, 0, null, -0.447613, -0.81542, null, -0.81542, -1.489698, null, -0.81542, -0.447613, null, -2.526067, -2.086191, null, -2.526067, -1.489698, null, -2.526067, -3.822069, null, -2.526067, -2.69516, null, -2.69516, -2.526067, null, -2.69516, -2.137629, null, -1.489698, -2.526067, null, -1.489698, -0.81542, null, -3.822069, -2.526067, null, -2.086191, -2.526067, null, -2.086191, -1.713505, null, -2.137629, -2.69516, null, -1.713505, -2.086191, null, -1.713505, -1.030027, null]}],                        {\"margin\": {\"b\": 0, \"l\": 0, \"r\": 0, \"t\": 0}, \"scene\": {\"annotations\": [{\"showarrow\": false, \"text\": \"O1\", \"x\": 1.563941, \"y\": 0.209377, \"yshift\": 15, \"z\": 0.168256}, {\"showarrow\": false, \"text\": \"O2\", \"x\": -0.582215, \"y\": -0.501228, \"yshift\": 15, \"z\": 1.297535}, {\"showarrow\": false, \"text\": \"O3\", \"x\": -0.362658, \"y\": -1.069103, \"yshift\": 15, \"z\": -1.030027}, {\"showarrow\": false, \"text\": \"O4\", \"x\": -0.490231, \"y\": 1.42448, \"yshift\": 15, \"z\": -0.447613}, {\"showarrow\": false, \"text\": \"P5\", \"x\": 0, \"y\": 0, \"yshift\": 15, \"z\": 0}, {\"showarrow\": false, \"text\": \"H6\", \"x\": 1.930685, \"y\": 0.913073, \"yshift\": 15, \"z\": -0.381538}, {\"showarrow\": false, \"text\": \"H7\", \"x\": -1.420319, \"y\": 1.43503, \"yshift\": 15, \"z\": -0.81542}, {\"showarrow\": false, \"text\": \"P8\", \"x\": -3.267268, \"y\": 0.143473, \"yshift\": 15, \"z\": -2.526067}, {\"showarrow\": false, \"text\": \"O9\", \"x\": -4.830466, \"y\": -0.070511, \"yshift\": 15, \"z\": -2.69516}, {\"showarrow\": false, \"text\": \"O10\", \"x\": -2.907062, \"y\": 1.207375, \"yshift\": 15, \"z\": -1.489698}, {\"showarrow\": false, \"text\": \"O11\", \"x\": -2.688917, \"y\": 0.652725, \"yshift\": 15, \"z\": -3.822069}, {\"showarrow\": false, \"text\": \"O12\", \"x\": -2.771539, \"y\": -1.281601, \"yshift\": 15, \"z\": -2.086191}, {\"showarrow\": false, \"text\": \"H13\", \"x\": -5.197285, \"y\": -0.767965, \"yshift\": 15, \"z\": -2.137629}, {\"showarrow\": false, \"text\": \"H14\", \"x\": -1.843086, \"y\": -1.290517, \"yshift\": 15, \"z\": -1.713505}], \"xaxis\": {\"showbackground\": true, \"showgrid\": true, \"showticklabels\": true, \"title\": {\"font\": {\"color\": \"white\"}}, \"zeroline\": true}, \"yaxis\": {\"showbackground\": true, \"showgrid\": true, \"showticklabels\": true, \"title\": {\"font\": {\"color\": \"white\"}}, \"zeroline\": true}, \"zaxis\": {\"showbackground\": true, \"showgrid\": true, \"showticklabels\": true, \"title\": {\"font\": {\"color\": \"white\"}}, \"zeroline\": true}}, \"showlegend\": false, \"template\": {\"data\": {\"bar\": [{\"error_x\": {\"color\": \"#2a3f5f\"}, \"error_y\": {\"color\": \"#2a3f5f\"}, \"marker\": {\"line\": {\"color\": \"#E5ECF6\", \"width\": 0.5}}, \"type\": \"bar\"}], \"barpolar\": [{\"marker\": {\"line\": {\"color\": \"#E5ECF6\", \"width\": 0.5}}, \"type\": \"barpolar\"}], \"carpet\": [{\"aaxis\": {\"endlinecolor\": \"#2a3f5f\", \"gridcolor\": \"white\", \"linecolor\": \"white\", \"minorgridcolor\": \"white\", \"startlinecolor\": \"#2a3f5f\"}, \"baxis\": {\"endlinecolor\": \"#2a3f5f\", \"gridcolor\": \"white\", \"linecolor\": \"white\", \"minorgridcolor\": \"white\", \"startlinecolor\": \"#2a3f5f\"}, \"type\": \"carpet\"}], \"choropleth\": [{\"colorbar\": {\"outlinewidth\": 0, \"ticks\": \"\"}, \"type\": \"choropleth\"}], \"contour\": [{\"colorbar\": {\"outlinewidth\": 0, \"ticks\": \"\"}, \"colorscale\": [[0.0, \"#0d0887\"], [0.1111111111111111, \"#46039f\"], [0.2222222222222222, \"#7201a8\"], [0.3333333333333333, \"#9c179e\"], [0.4444444444444444, \"#bd3786\"], [0.5555555555555556, \"#d8576b\"], [0.6666666666666666, \"#ed7953\"], [0.7777777777777778, \"#fb9f3a\"], [0.8888888888888888, \"#fdca26\"], [1.0, \"#f0f921\"]], \"type\": \"contour\"}], \"contourcarpet\": [{\"colorbar\": {\"outlinewidth\": 0, \"ticks\": \"\"}, \"type\": \"contourcarpet\"}], \"heatmap\": [{\"colorbar\": {\"outlinewidth\": 0, \"ticks\": \"\"}, \"colorscale\": [[0.0, \"#0d0887\"], [0.1111111111111111, \"#46039f\"], [0.2222222222222222, \"#7201a8\"], [0.3333333333333333, \"#9c179e\"], [0.4444444444444444, \"#bd3786\"], [0.5555555555555556, \"#d8576b\"], [0.6666666666666666, \"#ed7953\"], [0.7777777777777778, \"#fb9f3a\"], [0.8888888888888888, \"#fdca26\"], [1.0, \"#f0f921\"]], \"type\": \"heatmap\"}], \"heatmapgl\": [{\"colorbar\": {\"outlinewidth\": 0, \"ticks\": \"\"}, \"colorscale\": [[0.0, \"#0d0887\"], [0.1111111111111111, \"#46039f\"], [0.2222222222222222, \"#7201a8\"], [0.3333333333333333, \"#9c179e\"], [0.4444444444444444, \"#bd3786\"], [0.5555555555555556, \"#d8576b\"], [0.6666666666666666, \"#ed7953\"], [0.7777777777777778, \"#fb9f3a\"], [0.8888888888888888, \"#fdca26\"], [1.0, \"#f0f921\"]], \"type\": \"heatmapgl\"}], \"histogram\": [{\"marker\": {\"colorbar\": {\"outlinewidth\": 0, \"ticks\": \"\"}}, \"type\": \"histogram\"}], \"histogram2d\": [{\"colorbar\": {\"outlinewidth\": 0, \"ticks\": \"\"}, \"colorscale\": [[0.0, \"#0d0887\"], [0.1111111111111111, \"#46039f\"], [0.2222222222222222, \"#7201a8\"], [0.3333333333333333, \"#9c179e\"], [0.4444444444444444, \"#bd3786\"], [0.5555555555555556, \"#d8576b\"], [0.6666666666666666, \"#ed7953\"], [0.7777777777777778, \"#fb9f3a\"], [0.8888888888888888, \"#fdca26\"], [1.0, \"#f0f921\"]], \"type\": \"histogram2d\"}], \"histogram2dcontour\": [{\"colorbar\": {\"outlinewidth\": 0, \"ticks\": \"\"}, \"colorscale\": [[0.0, \"#0d0887\"], [0.1111111111111111, \"#46039f\"], [0.2222222222222222, \"#7201a8\"], [0.3333333333333333, \"#9c179e\"], [0.4444444444444444, \"#bd3786\"], [0.5555555555555556, \"#d8576b\"], [0.6666666666666666, \"#ed7953\"], [0.7777777777777778, \"#fb9f3a\"], [0.8888888888888888, \"#fdca26\"], [1.0, \"#f0f921\"]], \"type\": \"histogram2dcontour\"}], \"mesh3d\": [{\"colorbar\": {\"outlinewidth\": 0, \"ticks\": \"\"}, \"type\": \"mesh3d\"}], \"parcoords\": [{\"line\": {\"colorbar\": {\"outlinewidth\": 0, \"ticks\": \"\"}}, \"type\": \"parcoords\"}], \"pie\": [{\"automargin\": true, \"type\": \"pie\"}], \"scatter\": [{\"marker\": {\"colorbar\": {\"outlinewidth\": 0, \"ticks\": \"\"}}, \"type\": \"scatter\"}], \"scatter3d\": [{\"line\": {\"colorbar\": {\"outlinewidth\": 0, \"ticks\": \"\"}}, \"marker\": {\"colorbar\": {\"outlinewidth\": 0, \"ticks\": \"\"}}, \"type\": \"scatter3d\"}], \"scattercarpet\": [{\"marker\": {\"colorbar\": {\"outlinewidth\": 0, \"ticks\": \"\"}}, \"type\": \"scattercarpet\"}], \"scattergeo\": [{\"marker\": {\"colorbar\": {\"outlinewidth\": 0, \"ticks\": \"\"}}, \"type\": \"scattergeo\"}], \"scattergl\": [{\"marker\": {\"colorbar\": {\"outlinewidth\": 0, \"ticks\": \"\"}}, \"type\": \"scattergl\"}], \"scattermapbox\": [{\"marker\": {\"colorbar\": {\"outlinewidth\": 0, \"ticks\": \"\"}}, \"type\": \"scattermapbox\"}], \"scatterpolar\": [{\"marker\": {\"colorbar\": {\"outlinewidth\": 0, \"ticks\": \"\"}}, \"type\": \"scatterpolar\"}], \"scatterpolargl\": [{\"marker\": {\"colorbar\": {\"outlinewidth\": 0, \"ticks\": \"\"}}, \"type\": \"scatterpolargl\"}], \"scatterternary\": [{\"marker\": {\"colorbar\": {\"outlinewidth\": 0, \"ticks\": \"\"}}, \"type\": \"scatterternary\"}], \"surface\": [{\"colorbar\": {\"outlinewidth\": 0, \"ticks\": \"\"}, \"colorscale\": [[0.0, \"#0d0887\"], [0.1111111111111111, \"#46039f\"], [0.2222222222222222, \"#7201a8\"], [0.3333333333333333, \"#9c179e\"], [0.4444444444444444, \"#bd3786\"], [0.5555555555555556, \"#d8576b\"], [0.6666666666666666, \"#ed7953\"], [0.7777777777777778, \"#fb9f3a\"], [0.8888888888888888, \"#fdca26\"], [1.0, \"#f0f921\"]], \"type\": \"surface\"}], \"table\": [{\"cells\": {\"fill\": {\"color\": \"#EBF0F8\"}, \"line\": {\"color\": \"white\"}}, \"header\": {\"fill\": {\"color\": \"#C8D4E3\"}, \"line\": {\"color\": \"white\"}}, \"type\": \"table\"}]}, \"layout\": {\"annotationdefaults\": {\"arrowcolor\": \"#2a3f5f\", \"arrowhead\": 0, \"arrowwidth\": 1}, \"coloraxis\": {\"colorbar\": {\"outlinewidth\": 0, \"ticks\": \"\"}}, \"colorscale\": {\"diverging\": [[0, \"#8e0152\"], [0.1, \"#c51b7d\"], [0.2, \"#de77ae\"], [0.3, \"#f1b6da\"], [0.4, \"#fde0ef\"], [0.5, \"#f7f7f7\"], [0.6, \"#e6f5d0\"], [0.7, \"#b8e186\"], [0.8, \"#7fbc41\"], [0.9, \"#4d9221\"], [1, \"#276419\"]], \"sequential\": [[0.0, \"#0d0887\"], [0.1111111111111111, \"#46039f\"], [0.2222222222222222, \"#7201a8\"], [0.3333333333333333, \"#9c179e\"], [0.4444444444444444, \"#bd3786\"], [0.5555555555555556, \"#d8576b\"], [0.6666666666666666, \"#ed7953\"], [0.7777777777777778, \"#fb9f3a\"], [0.8888888888888888, \"#fdca26\"], [1.0, \"#f0f921\"]], \"sequentialminus\": [[0.0, \"#0d0887\"], [0.1111111111111111, \"#46039f\"], [0.2222222222222222, \"#7201a8\"], [0.3333333333333333, \"#9c179e\"], [0.4444444444444444, \"#bd3786\"], [0.5555555555555556, \"#d8576b\"], [0.6666666666666666, \"#ed7953\"], [0.7777777777777778, \"#fb9f3a\"], [0.8888888888888888, \"#fdca26\"], [1.0, \"#f0f921\"]]}, \"colorway\": [\"#636efa\", \"#EF553B\", \"#00cc96\", \"#ab63fa\", \"#FFA15A\", \"#19d3f3\", \"#FF6692\", \"#B6E880\", \"#FF97FF\", \"#FECB52\"], \"font\": {\"color\": \"#2a3f5f\"}, \"geo\": {\"bgcolor\": \"white\", \"lakecolor\": \"white\", \"landcolor\": \"#E5ECF6\", \"showlakes\": true, \"showland\": true, \"subunitcolor\": \"white\"}, \"hoverlabel\": {\"align\": \"left\"}, \"hovermode\": \"closest\", \"mapbox\": {\"style\": \"light\"}, \"paper_bgcolor\": \"white\", \"plot_bgcolor\": \"#E5ECF6\", \"polar\": {\"angularaxis\": {\"gridcolor\": \"white\", \"linecolor\": \"white\", \"ticks\": \"\"}, \"bgcolor\": \"#E5ECF6\", \"radialaxis\": {\"gridcolor\": \"white\", \"linecolor\": \"white\", \"ticks\": \"\"}}, \"scene\": {\"xaxis\": {\"backgroundcolor\": \"#E5ECF6\", \"gridcolor\": \"white\", \"gridwidth\": 2, \"linecolor\": \"white\", \"showbackground\": true, \"ticks\": \"\", \"zerolinecolor\": \"white\"}, \"yaxis\": {\"backgroundcolor\": \"#E5ECF6\", \"gridcolor\": \"white\", \"gridwidth\": 2, \"linecolor\": \"white\", \"showbackground\": true, \"ticks\": \"\", \"zerolinecolor\": \"white\"}, \"zaxis\": {\"backgroundcolor\": \"#E5ECF6\", \"gridcolor\": \"white\", \"gridwidth\": 2, \"linecolor\": \"white\", \"showbackground\": true, \"ticks\": \"\", \"zerolinecolor\": \"white\"}}, \"shapedefaults\": {\"line\": {\"color\": \"#2a3f5f\"}}, \"ternary\": {\"aaxis\": {\"gridcolor\": \"white\", \"linecolor\": \"white\", \"ticks\": \"\"}, \"baxis\": {\"gridcolor\": \"white\", \"linecolor\": \"white\", \"ticks\": \"\"}, \"bgcolor\": \"#E5ECF6\", \"caxis\": {\"gridcolor\": \"white\", \"linecolor\": \"white\", \"ticks\": \"\"}}, \"title\": {\"x\": 0.05}, \"xaxis\": {\"automargin\": true, \"gridcolor\": \"white\", \"linecolor\": \"white\", \"ticks\": \"\", \"title\": {\"standoff\": 15}, \"zerolinecolor\": \"white\", \"zerolinewidth\": 2}, \"yaxis\": {\"automargin\": true, \"gridcolor\": \"white\", \"linecolor\": \"white\", \"ticks\": \"\", \"title\": {\"standoff\": 15}, \"zerolinecolor\": \"white\", \"zerolinewidth\": 2}}}, \"updatemenus\": [{\"buttons\": [{\"args\": [{\"scene.annotations\": [{\"showarrow\": false, \"text\": \"O1\", \"x\": 1.563941, \"y\": 0.209377, \"yshift\": 15, \"z\": 0.168256}, {\"showarrow\": false, \"text\": \"O2\", \"x\": -0.582215, \"y\": -0.501228, \"yshift\": 15, \"z\": 1.297535}, {\"showarrow\": false, \"text\": \"O3\", \"x\": -0.362658, \"y\": -1.069103, \"yshift\": 15, \"z\": -1.030027}, {\"showarrow\": false, \"text\": \"O4\", \"x\": -0.490231, \"y\": 1.42448, \"yshift\": 15, \"z\": -0.447613}, {\"showarrow\": false, \"text\": \"P5\", \"x\": 0, \"y\": 0, \"yshift\": 15, \"z\": 0}, {\"showarrow\": false, \"text\": \"H6\", \"x\": 1.930685, \"y\": 0.913073, \"yshift\": 15, \"z\": -0.381538}, {\"showarrow\": false, \"text\": \"H7\", \"x\": -1.420319, \"y\": 1.43503, \"yshift\": 15, \"z\": -0.81542}, {\"showarrow\": false, \"text\": \"P8\", \"x\": -3.267268, \"y\": 0.143473, \"yshift\": 15, \"z\": -2.526067}, {\"showarrow\": false, \"text\": \"O9\", \"x\": -4.830466, \"y\": -0.070511, \"yshift\": 15, \"z\": -2.69516}, {\"showarrow\": false, \"text\": \"O10\", \"x\": -2.907062, \"y\": 1.207375, \"yshift\": 15, \"z\": -1.489698}, {\"showarrow\": false, \"text\": \"O11\", \"x\": -2.688917, \"y\": 0.652725, \"yshift\": 15, \"z\": -3.822069}, {\"showarrow\": false, \"text\": \"O12\", \"x\": -2.771539, \"y\": -1.281601, \"yshift\": 15, \"z\": -2.086191}, {\"showarrow\": false, \"text\": \"H13\", \"x\": -5.197285, \"y\": -0.767965, \"yshift\": 15, \"z\": -2.137629}, {\"showarrow\": false, \"text\": \"H14\", \"x\": -1.843086, \"y\": -1.290517, \"yshift\": 15, \"z\": -1.713505}]}], \"label\": \"Elements\", \"method\": \"relayout\"}, {\"args\": [{\"scene.annotations\": [{\"showarrow\": false, \"text\": \"O1\", \"x\": 1.563941, \"y\": 0.209377, \"yshift\": 15, \"z\": 0.168256}, {\"showarrow\": false, \"text\": \"O2\", \"x\": -0.582215, \"y\": -0.501228, \"yshift\": 15, \"z\": 1.297535}, {\"showarrow\": false, \"text\": \"O3\", \"x\": -0.362658, \"y\": -1.069103, \"yshift\": 15, \"z\": -1.030027}, {\"showarrow\": false, \"text\": \"O4\", \"x\": -0.490231, \"y\": 1.42448, \"yshift\": 15, \"z\": -0.447613}, {\"showarrow\": false, \"text\": \"P5\", \"x\": 0, \"y\": 0, \"yshift\": 15, \"z\": 0}, {\"showarrow\": false, \"text\": \"H6\", \"x\": 1.930685, \"y\": 0.913073, \"yshift\": 15, \"z\": -0.381538}, {\"showarrow\": false, \"text\": \"H7\", \"x\": -1.420319, \"y\": 1.43503, \"yshift\": 15, \"z\": -0.81542}, {\"showarrow\": false, \"text\": \"P8\", \"x\": -3.267268, \"y\": 0.143473, \"yshift\": 15, \"z\": -2.526067}, {\"showarrow\": false, \"text\": \"O9\", \"x\": -4.830466, \"y\": -0.070511, \"yshift\": 15, \"z\": -2.69516}, {\"showarrow\": false, \"text\": \"O10\", \"x\": -2.907062, \"y\": 1.207375, \"yshift\": 15, \"z\": -1.489698}, {\"showarrow\": false, \"text\": \"O11\", \"x\": -2.688917, \"y\": 0.652725, \"yshift\": 15, \"z\": -3.822069}, {\"showarrow\": false, \"text\": \"O12\", \"x\": -2.771539, \"y\": -1.281601, \"yshift\": 15, \"z\": -2.086191}, {\"showarrow\": false, \"text\": \"H13\", \"x\": -5.197285, \"y\": -0.767965, \"yshift\": 15, \"z\": -2.137629}, {\"showarrow\": false, \"text\": \"H14\", \"x\": -1.843086, \"y\": -1.290517, \"yshift\": 15, \"z\": -1.713505}, {\"font\": {\"color\": \"steelblue\"}, \"showarrow\": false, \"text\": \"1.587\", \"x\": 0.7819705, \"y\": 0.1046885, \"yshift\": 15, \"z\": 0.084128}, {\"font\": {\"color\": \"steelblue\"}, \"showarrow\": false, \"text\": \"0.965\", \"x\": 1.7473130000000001, \"y\": 0.561225, \"yshift\": 15, \"z\": -0.106641}, {\"font\": {\"color\": \"steelblue\"}, \"showarrow\": false, \"text\": \"1.508\", \"x\": -0.2911075, \"y\": -0.250614, \"yshift\": 15, \"z\": 0.6487675}, {\"font\": {\"color\": \"steelblue\"}, \"showarrow\": false, \"text\": \"1.528\", \"x\": -0.181329, \"y\": -0.5345515, \"yshift\": 15, \"z\": -0.5150135}, {\"font\": {\"color\": \"steelblue\"}, \"showarrow\": false, \"text\": \"1.572\", \"x\": -0.2451155, \"y\": 0.71224, \"yshift\": 15, \"z\": -0.2238065}, {\"font\": {\"color\": \"steelblue\"}, \"showarrow\": false, \"text\": \"1.000\", \"x\": -0.9552750000000001, \"y\": 1.429755, \"yshift\": 15, \"z\": -0.6315165}, {\"font\": {\"color\": \"steelblue\"}, \"showarrow\": false, \"text\": \"1.587\", \"x\": -4.048867, \"y\": 0.03648099999999999, \"yshift\": 15, \"z\": -2.6106135}, {\"font\": {\"color\": \"steelblue\"}, \"showarrow\": false, \"text\": \"1.528\", \"x\": -3.0871649999999997, \"y\": 0.675424, \"yshift\": 15, \"z\": -2.0078825}, {\"font\": {\"color\": \"steelblue\"}, \"showarrow\": false, \"text\": \"1.508\", \"x\": -2.9780925, \"y\": 0.398099, \"yshift\": 15, \"z\": -3.174068}, {\"font\": {\"color\": \"steelblue\"}, \"showarrow\": false, \"text\": \"1.572\", \"x\": -3.0194035, \"y\": -0.569064, \"yshift\": 15, \"z\": -2.306129}, {\"font\": {\"color\": \"steelblue\"}, \"showarrow\": false, \"text\": \"0.965\", \"x\": -5.0138755, \"y\": -0.419238, \"yshift\": 15, \"z\": -2.4163945}, {\"font\": {\"color\": \"steelblue\"}, \"showarrow\": false, \"text\": \"1.000\", \"x\": -2.3073125, \"y\": -1.2860589999999998, \"yshift\": 15, \"z\": -1.899848}, {\"font\": {\"color\": \"steelblue\"}, \"showarrow\": false, \"text\": 1.646, \"x\": -1.102872, \"y\": -1.1798099999999998, \"yshift\": 15, \"z\": -1.371766}, {\"font\": {\"color\": \"steelblue\"}, \"showarrow\": false, \"text\": 1.648, \"x\": -2.1636905, \"y\": 1.3212025, \"yshift\": 15, \"z\": -1.1525590000000001}]}], \"label\": \"Element & Bond Lengths\", \"method\": \"relayout\"}, {\"args\": [{\"scene.annotations\": [{\"showarrow\": false, \"text\": 0, \"x\": 1.563941, \"y\": 0.209377, \"yshift\": 15, \"z\": 0.168256}, {\"showarrow\": false, \"text\": 1, \"x\": -0.582215, \"y\": -0.501228, \"yshift\": 15, \"z\": 1.297535}, {\"showarrow\": false, \"text\": 2, \"x\": -0.362658, \"y\": -1.069103, \"yshift\": 15, \"z\": -1.030027}, {\"showarrow\": false, \"text\": 3, \"x\": -0.490231, \"y\": 1.42448, \"yshift\": 15, \"z\": -0.447613}, {\"showarrow\": false, \"text\": 4, \"x\": 0, \"y\": 0, \"yshift\": 15, \"z\": 0}, {\"showarrow\": false, \"text\": 5, \"x\": 1.930685, \"y\": 0.913073, \"yshift\": 15, \"z\": -0.381538}, {\"showarrow\": false, \"text\": 6, \"x\": -1.420319, \"y\": 1.43503, \"yshift\": 15, \"z\": -0.81542}, {\"showarrow\": false, \"text\": 7, \"x\": -3.267268, \"y\": 0.143473, \"yshift\": 15, \"z\": -2.526067}, {\"showarrow\": false, \"text\": 8, \"x\": -4.830466, \"y\": -0.070511, \"yshift\": 15, \"z\": -2.69516}, {\"showarrow\": false, \"text\": 9, \"x\": -2.907062, \"y\": 1.207375, \"yshift\": 15, \"z\": -1.489698}, {\"showarrow\": false, \"text\": 10, \"x\": -2.688917, \"y\": 0.652725, \"yshift\": 15, \"z\": -3.822069}, {\"showarrow\": false, \"text\": 11, \"x\": -2.771539, \"y\": -1.281601, \"yshift\": 15, \"z\": -2.086191}, {\"showarrow\": false, \"text\": 12, \"x\": -5.197285, \"y\": -0.767965, \"yshift\": 15, \"z\": -2.137629}, {\"showarrow\": false, \"text\": 13, \"x\": -1.843086, \"y\": -1.290517, \"yshift\": 15, \"z\": -1.713505}]}], \"label\": \"Indices\", \"method\": \"relayout\"}, {\"args\": [{\"scene.annotations\": [{\"showarrow\": false, \"text\": 0, \"x\": 1.563941, \"y\": 0.209377, \"yshift\": 15, \"z\": 0.168256}, {\"showarrow\": false, \"text\": 1, \"x\": -0.582215, \"y\": -0.501228, \"yshift\": 15, \"z\": 1.297535}, {\"showarrow\": false, \"text\": 2, \"x\": -0.362658, \"y\": -1.069103, \"yshift\": 15, \"z\": -1.030027}, {\"showarrow\": false, \"text\": 3, \"x\": -0.490231, \"y\": 1.42448, \"yshift\": 15, \"z\": -0.447613}, {\"showarrow\": false, \"text\": 4, \"x\": 0, \"y\": 0, \"yshift\": 15, \"z\": 0}, {\"showarrow\": false, \"text\": 5, \"x\": 1.930685, \"y\": 0.913073, \"yshift\": 15, \"z\": -0.381538}, {\"showarrow\": false, \"text\": 6, \"x\": -1.420319, \"y\": 1.43503, \"yshift\": 15, \"z\": -0.81542}, {\"showarrow\": false, \"text\": 7, \"x\": -3.267268, \"y\": 0.143473, \"yshift\": 15, \"z\": -2.526067}, {\"showarrow\": false, \"text\": 8, \"x\": -4.830466, \"y\": -0.070511, \"yshift\": 15, \"z\": -2.69516}, {\"showarrow\": false, \"text\": 9, \"x\": -2.907062, \"y\": 1.207375, \"yshift\": 15, \"z\": -1.489698}, {\"showarrow\": false, \"text\": 10, \"x\": -2.688917, \"y\": 0.652725, \"yshift\": 15, \"z\": -3.822069}, {\"showarrow\": false, \"text\": 11, \"x\": -2.771539, \"y\": -1.281601, \"yshift\": 15, \"z\": -2.086191}, {\"showarrow\": false, \"text\": 12, \"x\": -5.197285, \"y\": -0.767965, \"yshift\": 15, \"z\": -2.137629}, {\"showarrow\": false, \"text\": 13, \"x\": -1.843086, \"y\": -1.290517, \"yshift\": 15, \"z\": -1.713505}, {\"font\": {\"color\": \"steelblue\"}, \"showarrow\": false, \"text\": \"1.587\", \"x\": 0.7819705, \"y\": 0.1046885, \"yshift\": 15, \"z\": 0.084128}, {\"font\": {\"color\": \"steelblue\"}, \"showarrow\": false, \"text\": \"0.965\", \"x\": 1.7473130000000001, \"y\": 0.561225, \"yshift\": 15, \"z\": -0.106641}, {\"font\": {\"color\": \"steelblue\"}, \"showarrow\": false, \"text\": \"1.508\", \"x\": -0.2911075, \"y\": -0.250614, \"yshift\": 15, \"z\": 0.6487675}, {\"font\": {\"color\": \"steelblue\"}, \"showarrow\": false, \"text\": \"1.528\", \"x\": -0.181329, \"y\": -0.5345515, \"yshift\": 15, \"z\": -0.5150135}, {\"font\": {\"color\": \"steelblue\"}, \"showarrow\": false, \"text\": \"1.572\", \"x\": -0.2451155, \"y\": 0.71224, \"yshift\": 15, \"z\": -0.2238065}, {\"font\": {\"color\": \"steelblue\"}, \"showarrow\": false, \"text\": \"1.000\", \"x\": -0.9552750000000001, \"y\": 1.429755, \"yshift\": 15, \"z\": -0.6315165}, {\"font\": {\"color\": \"steelblue\"}, \"showarrow\": false, \"text\": \"1.587\", \"x\": -4.048867, \"y\": 0.03648099999999999, \"yshift\": 15, \"z\": -2.6106135}, {\"font\": {\"color\": \"steelblue\"}, \"showarrow\": false, \"text\": \"1.528\", \"x\": -3.0871649999999997, \"y\": 0.675424, \"yshift\": 15, \"z\": -2.0078825}, {\"font\": {\"color\": \"steelblue\"}, \"showarrow\": false, \"text\": \"1.508\", \"x\": -2.9780925, \"y\": 0.398099, \"yshift\": 15, \"z\": -3.174068}, {\"font\": {\"color\": \"steelblue\"}, \"showarrow\": false, \"text\": \"1.572\", \"x\": -3.0194035, \"y\": -0.569064, \"yshift\": 15, \"z\": -2.306129}, {\"font\": {\"color\": \"steelblue\"}, \"showarrow\": false, \"text\": \"0.965\", \"x\": -5.0138755, \"y\": -0.419238, \"yshift\": 15, \"z\": -2.4163945}, {\"font\": {\"color\": \"steelblue\"}, \"showarrow\": false, \"text\": \"1.000\", \"x\": -2.3073125, \"y\": -1.2860589999999998, \"yshift\": 15, \"z\": -1.899848}, {\"font\": {\"color\": \"steelblue\"}, \"showarrow\": false, \"text\": 1.646, \"x\": -1.102872, \"y\": -1.1798099999999998, \"yshift\": 15, \"z\": -1.371766}, {\"font\": {\"color\": \"steelblue\"}, \"showarrow\": false, \"text\": 1.648, \"x\": -2.1636905, \"y\": 1.3212025, \"yshift\": 15, \"z\": -1.1525590000000001}]}], \"label\": \"Indices & Bond Lengths\", \"method\": \"relayout\"}, {\"args\": [{\"scene.annotations\": [{\"font\": {\"color\": \"steelblue\"}, \"showarrow\": false, \"text\": \"1.587\", \"x\": 0.7819705, \"y\": 0.1046885, \"yshift\": 15, \"z\": 0.084128}, {\"font\": {\"color\": \"steelblue\"}, \"showarrow\": false, \"text\": \"0.965\", \"x\": 1.7473130000000001, \"y\": 0.561225, \"yshift\": 15, \"z\": -0.106641}, {\"font\": {\"color\": \"steelblue\"}, \"showarrow\": false, \"text\": \"1.508\", \"x\": -0.2911075, \"y\": -0.250614, \"yshift\": 15, \"z\": 0.6487675}, {\"font\": {\"color\": \"steelblue\"}, \"showarrow\": false, \"text\": \"1.528\", \"x\": -0.181329, \"y\": -0.5345515, \"yshift\": 15, \"z\": -0.5150135}, {\"font\": {\"color\": \"steelblue\"}, \"showarrow\": false, \"text\": \"1.572\", \"x\": -0.2451155, \"y\": 0.71224, \"yshift\": 15, \"z\": -0.2238065}, {\"font\": {\"color\": \"steelblue\"}, \"showarrow\": false, \"text\": \"1.000\", \"x\": -0.9552750000000001, \"y\": 1.429755, \"yshift\": 15, \"z\": -0.6315165}, {\"font\": {\"color\": \"steelblue\"}, \"showarrow\": false, \"text\": \"1.587\", \"x\": -4.048867, \"y\": 0.03648099999999999, \"yshift\": 15, \"z\": -2.6106135}, {\"font\": {\"color\": \"steelblue\"}, \"showarrow\": false, \"text\": \"1.528\", \"x\": -3.0871649999999997, \"y\": 0.675424, \"yshift\": 15, \"z\": -2.0078825}, {\"font\": {\"color\": \"steelblue\"}, \"showarrow\": false, \"text\": \"1.508\", \"x\": -2.9780925, \"y\": 0.398099, \"yshift\": 15, \"z\": -3.174068}, {\"font\": {\"color\": \"steelblue\"}, \"showarrow\": false, \"text\": \"1.572\", \"x\": -3.0194035, \"y\": -0.569064, \"yshift\": 15, \"z\": -2.306129}, {\"font\": {\"color\": \"steelblue\"}, \"showarrow\": false, \"text\": \"0.965\", \"x\": -5.0138755, \"y\": -0.419238, \"yshift\": 15, \"z\": -2.4163945}, {\"font\": {\"color\": \"steelblue\"}, \"showarrow\": false, \"text\": \"1.000\", \"x\": -2.3073125, \"y\": -1.2860589999999998, \"yshift\": 15, \"z\": -1.899848}, {\"font\": {\"color\": \"steelblue\"}, \"showarrow\": false, \"text\": 1.646, \"x\": -1.102872, \"y\": -1.1798099999999998, \"yshift\": 15, \"z\": -1.371766}, {\"font\": {\"color\": \"steelblue\"}, \"showarrow\": false, \"text\": 1.648, \"x\": -2.1636905, \"y\": 1.3212025, \"yshift\": 15, \"z\": -1.1525590000000001}]}], \"label\": \"Bond Lengths\", \"method\": \"relayout\"}, {\"args\": [{}], \"label\": \"Hide All\", \"method\": \"relayout\"}], \"direction\": \"down\", \"xanchor\": \"left\", \"yanchor\": \"top\"}]},                        {\"responsive\": true}                    ).then(function(){\n",
       "                            \n",
       "var gd = document.getElementById('a9fed83e-73bf-46ef-a239-8bf3c34587f3');\n",
       "var x = new MutationObserver(function (mutations, observer) {{\n",
       "        var display = window.getComputedStyle(gd).display;\n",
       "        if (!display || display === 'none') {{\n",
       "            console.log([gd, 'removed!']);\n",
       "            Plotly.purge(gd);\n",
       "            observer.disconnect();\n",
       "        }}\n",
       "}});\n",
       "\n",
       "// Listen for the removal of the full notebook cells\n",
       "var notebookContainer = gd.closest('#notebook-container');\n",
       "if (notebookContainer) {{\n",
       "    x.observe(notebookContainer, {childList: true});\n",
       "}}\n",
       "\n",
       "// Listen for the clearing of the current output cell\n",
       "var outputEl = gd.closest('.output');\n",
       "if (outputEl) {{\n",
       "    x.observe(outputEl, {childList: true});\n",
       "}}\n",
       "\n",
       "                        })                };                });            </script>        </div>"
      ]
     },
     "metadata": {},
     "output_type": "display_data"
    },
    {
     "data": {
      "application/vnd.plotly.v1+json": {
       "config": {
        "linkText": "Export to plot.ly",
        "plotlyServerURL": "https://plot.ly",
        "showLink": false
       },
       "data": [
        {
         "marker": {
          "color": [
           "white",
           "white",
           "white",
           "red",
           "red",
           "red",
           "red",
           "red",
           "red",
           "red",
           "red",
           "orange",
           "orange"
          ],
          "line": {
           "color": "lightgray",
           "width": 2
          },
          "opacity": 0.8,
          "size": [
           9.200000000000001,
           9.200000000000001,
           9.200000000000001,
           27.200000000000003,
           27.200000000000003,
           27.200000000000003,
           27.200000000000003,
           27.200000000000003,
           27.200000000000003,
           27.200000000000003,
           27.200000000000003,
           42,
           42
          ],
          "symbol": "circle"
         },
         "mode": "markers",
         "text": [
          "H1",
          "H2",
          "H3",
          "O1",
          "O2",
          "O3",
          "O4",
          "O5",
          "O6",
          "O7",
          "O8",
          "P1",
          "P2"
         ],
         "type": "scatter3d",
         "x": [
          0.1255,
          -2.0667,
          1.2013,
          0.6879,
          0.2158,
          0.5961,
          -1.5385,
          1.5101,
          1.5631,
          -0.2169,
          -0.4692,
          0,
          0.6723
         ],
         "y": [
          2.071,
          -0.2862,
          -2.0772,
          1.3582,
          -0.8326,
          -0.7076,
          0.3641,
          -2.9453,
          -3.5159,
          -4.5675,
          -2.161,
          0,
          -3.3689
         ],
         "z": [
          0.7423,
          -0.6226,
          -0.7534,
          0.3814,
          1.3941,
          -1.1616,
          -0.1236,
          -0.2866,
          2.1843,
          0.7419,
          1.1593,
          0,
          0.9743
         ]
        },
        {
         "hoverinfo": "none",
         "marker": {
          "color": "gray",
          "opacity": 0.1,
          "size": 3
         },
         "mode": "lines",
         "type": "scatter3d",
         "x": [
          0.1255,
          0.6879,
          null,
          0.6879,
          0,
          null,
          0.6879,
          0.1255,
          null,
          -2.0667,
          -1.5385,
          null,
          -1.5385,
          -2.0667,
          null,
          -1.5385,
          0,
          null,
          1.2013,
          1.5101,
          null,
          1.2013,
          0.5961,
          null,
          1.5101,
          1.2013,
          null,
          1.5101,
          0.6723,
          null,
          0,
          0.6879,
          null,
          0,
          0.5961,
          null,
          0,
          -1.5385,
          null,
          0,
          0.2158,
          null,
          0.2158,
          0,
          null,
          0.5961,
          1.2013,
          null,
          0.5961,
          0,
          null,
          0.6723,
          1.5101,
          null,
          0.6723,
          1.5631,
          null,
          0.6723,
          -0.4692,
          null,
          0.6723,
          -0.2169,
          null,
          1.5631,
          0.6723,
          null,
          -0.2169,
          0.6723,
          null,
          -0.4692,
          0.6723,
          null
         ],
         "y": [
          2.071,
          1.3582,
          null,
          1.3582,
          0,
          null,
          1.3582,
          2.071,
          null,
          -0.2862,
          0.3641,
          null,
          0.3641,
          -0.2862,
          null,
          0.3641,
          0,
          null,
          -2.0772,
          -2.9453,
          null,
          -2.0772,
          -0.7076,
          null,
          -2.9453,
          -2.0772,
          null,
          -2.9453,
          -3.3689,
          null,
          0,
          1.3582,
          null,
          0,
          -0.7076,
          null,
          0,
          0.3641,
          null,
          0,
          -0.8326,
          null,
          -0.8326,
          0,
          null,
          -0.7076,
          -2.0772,
          null,
          -0.7076,
          0,
          null,
          -3.3689,
          -2.9453,
          null,
          -3.3689,
          -3.5159,
          null,
          -3.3689,
          -2.161,
          null,
          -3.3689,
          -4.5675,
          null,
          -3.5159,
          -3.3689,
          null,
          -4.5675,
          -3.3689,
          null,
          -2.161,
          -3.3689,
          null
         ],
         "z": [
          0.7423,
          0.3814,
          null,
          0.3814,
          0,
          null,
          0.3814,
          0.7423,
          null,
          -0.6226,
          -0.1236,
          null,
          -0.1236,
          -0.6226,
          null,
          -0.1236,
          0,
          null,
          -0.7534,
          -0.2866,
          null,
          -0.7534,
          -1.1616,
          null,
          -0.2866,
          -0.7534,
          null,
          -0.2866,
          0.9743,
          null,
          0,
          0.3814,
          null,
          0,
          -1.1616,
          null,
          0,
          -0.1236,
          null,
          0,
          1.3941,
          null,
          1.3941,
          0,
          null,
          -1.1616,
          -0.7534,
          null,
          -1.1616,
          0,
          null,
          0.9743,
          -0.2866,
          null,
          0.9743,
          2.1843,
          null,
          0.9743,
          1.1593,
          null,
          0.9743,
          0.7419,
          null,
          2.1843,
          0.9743,
          null,
          0.7419,
          0.9743,
          null,
          1.1593,
          0.9743,
          null
         ]
        }
       ],
       "layout": {
        "margin": {
         "b": 0,
         "l": 0,
         "r": 0,
         "t": 0
        },
        "scene": {
         "annotations": [
          {
           "showarrow": false,
           "text": "H1",
           "x": 0.1255,
           "y": 2.071,
           "yshift": 15,
           "z": 0.7423
          },
          {
           "showarrow": false,
           "text": "H2",
           "x": -2.0667,
           "y": -0.2862,
           "yshift": 15,
           "z": -0.6226
          },
          {
           "showarrow": false,
           "text": "H3",
           "x": 1.2013,
           "y": -2.0772,
           "yshift": 15,
           "z": -0.7534
          },
          {
           "showarrow": false,
           "text": "O1",
           "x": 0.6879,
           "y": 1.3582,
           "yshift": 15,
           "z": 0.3814
          },
          {
           "showarrow": false,
           "text": "O2",
           "x": 0.2158,
           "y": -0.8326,
           "yshift": 15,
           "z": 1.3941
          },
          {
           "showarrow": false,
           "text": "O3",
           "x": 0.5961,
           "y": -0.7076,
           "yshift": 15,
           "z": -1.1616
          },
          {
           "showarrow": false,
           "text": "O4",
           "x": -1.5385,
           "y": 0.3641,
           "yshift": 15,
           "z": -0.1236
          },
          {
           "showarrow": false,
           "text": "O5",
           "x": 1.5101,
           "y": -2.9453,
           "yshift": 15,
           "z": -0.2866
          },
          {
           "showarrow": false,
           "text": "O6",
           "x": 1.5631,
           "y": -3.5159,
           "yshift": 15,
           "z": 2.1843
          },
          {
           "showarrow": false,
           "text": "O7",
           "x": -0.2169,
           "y": -4.5675,
           "yshift": 15,
           "z": 0.7419
          },
          {
           "showarrow": false,
           "text": "O8",
           "x": -0.4692,
           "y": -2.161,
           "yshift": 15,
           "z": 1.1593
          },
          {
           "showarrow": false,
           "text": "P1",
           "x": 0,
           "y": 0,
           "yshift": 15,
           "z": 0
          },
          {
           "showarrow": false,
           "text": "P2",
           "x": 0.6723,
           "y": -3.3689,
           "yshift": 15,
           "z": 0.9743
          }
         ],
         "xaxis": {
          "showbackground": true,
          "showgrid": true,
          "showticklabels": true,
          "title": {
           "font": {
            "color": "white"
           }
          },
          "zeroline": true
         },
         "yaxis": {
          "showbackground": true,
          "showgrid": true,
          "showticklabels": true,
          "title": {
           "font": {
            "color": "white"
           }
          },
          "zeroline": true
         },
         "zaxis": {
          "showbackground": true,
          "showgrid": true,
          "showticklabels": true,
          "title": {
           "font": {
            "color": "white"
           }
          },
          "zeroline": true
         }
        },
        "showlegend": false,
        "template": {
         "data": {
          "bar": [
           {
            "error_x": {
             "color": "#2a3f5f"
            },
            "error_y": {
             "color": "#2a3f5f"
            },
            "marker": {
             "line": {
              "color": "#E5ECF6",
              "width": 0.5
             }
            },
            "type": "bar"
           }
          ],
          "barpolar": [
           {
            "marker": {
             "line": {
              "color": "#E5ECF6",
              "width": 0.5
             }
            },
            "type": "barpolar"
           }
          ],
          "carpet": [
           {
            "aaxis": {
             "endlinecolor": "#2a3f5f",
             "gridcolor": "white",
             "linecolor": "white",
             "minorgridcolor": "white",
             "startlinecolor": "#2a3f5f"
            },
            "baxis": {
             "endlinecolor": "#2a3f5f",
             "gridcolor": "white",
             "linecolor": "white",
             "minorgridcolor": "white",
             "startlinecolor": "#2a3f5f"
            },
            "type": "carpet"
           }
          ],
          "choropleth": [
           {
            "colorbar": {
             "outlinewidth": 0,
             "ticks": ""
            },
            "type": "choropleth"
           }
          ],
          "contour": [
           {
            "colorbar": {
             "outlinewidth": 0,
             "ticks": ""
            },
            "colorscale": [
             [
              0,
              "#0d0887"
             ],
             [
              0.1111111111111111,
              "#46039f"
             ],
             [
              0.2222222222222222,
              "#7201a8"
             ],
             [
              0.3333333333333333,
              "#9c179e"
             ],
             [
              0.4444444444444444,
              "#bd3786"
             ],
             [
              0.5555555555555556,
              "#d8576b"
             ],
             [
              0.6666666666666666,
              "#ed7953"
             ],
             [
              0.7777777777777778,
              "#fb9f3a"
             ],
             [
              0.8888888888888888,
              "#fdca26"
             ],
             [
              1,
              "#f0f921"
             ]
            ],
            "type": "contour"
           }
          ],
          "contourcarpet": [
           {
            "colorbar": {
             "outlinewidth": 0,
             "ticks": ""
            },
            "type": "contourcarpet"
           }
          ],
          "heatmap": [
           {
            "colorbar": {
             "outlinewidth": 0,
             "ticks": ""
            },
            "colorscale": [
             [
              0,
              "#0d0887"
             ],
             [
              0.1111111111111111,
              "#46039f"
             ],
             [
              0.2222222222222222,
              "#7201a8"
             ],
             [
              0.3333333333333333,
              "#9c179e"
             ],
             [
              0.4444444444444444,
              "#bd3786"
             ],
             [
              0.5555555555555556,
              "#d8576b"
             ],
             [
              0.6666666666666666,
              "#ed7953"
             ],
             [
              0.7777777777777778,
              "#fb9f3a"
             ],
             [
              0.8888888888888888,
              "#fdca26"
             ],
             [
              1,
              "#f0f921"
             ]
            ],
            "type": "heatmap"
           }
          ],
          "heatmapgl": [
           {
            "colorbar": {
             "outlinewidth": 0,
             "ticks": ""
            },
            "colorscale": [
             [
              0,
              "#0d0887"
             ],
             [
              0.1111111111111111,
              "#46039f"
             ],
             [
              0.2222222222222222,
              "#7201a8"
             ],
             [
              0.3333333333333333,
              "#9c179e"
             ],
             [
              0.4444444444444444,
              "#bd3786"
             ],
             [
              0.5555555555555556,
              "#d8576b"
             ],
             [
              0.6666666666666666,
              "#ed7953"
             ],
             [
              0.7777777777777778,
              "#fb9f3a"
             ],
             [
              0.8888888888888888,
              "#fdca26"
             ],
             [
              1,
              "#f0f921"
             ]
            ],
            "type": "heatmapgl"
           }
          ],
          "histogram": [
           {
            "marker": {
             "colorbar": {
              "outlinewidth": 0,
              "ticks": ""
             }
            },
            "type": "histogram"
           }
          ],
          "histogram2d": [
           {
            "colorbar": {
             "outlinewidth": 0,
             "ticks": ""
            },
            "colorscale": [
             [
              0,
              "#0d0887"
             ],
             [
              0.1111111111111111,
              "#46039f"
             ],
             [
              0.2222222222222222,
              "#7201a8"
             ],
             [
              0.3333333333333333,
              "#9c179e"
             ],
             [
              0.4444444444444444,
              "#bd3786"
             ],
             [
              0.5555555555555556,
              "#d8576b"
             ],
             [
              0.6666666666666666,
              "#ed7953"
             ],
             [
              0.7777777777777778,
              "#fb9f3a"
             ],
             [
              0.8888888888888888,
              "#fdca26"
             ],
             [
              1,
              "#f0f921"
             ]
            ],
            "type": "histogram2d"
           }
          ],
          "histogram2dcontour": [
           {
            "colorbar": {
             "outlinewidth": 0,
             "ticks": ""
            },
            "colorscale": [
             [
              0,
              "#0d0887"
             ],
             [
              0.1111111111111111,
              "#46039f"
             ],
             [
              0.2222222222222222,
              "#7201a8"
             ],
             [
              0.3333333333333333,
              "#9c179e"
             ],
             [
              0.4444444444444444,
              "#bd3786"
             ],
             [
              0.5555555555555556,
              "#d8576b"
             ],
             [
              0.6666666666666666,
              "#ed7953"
             ],
             [
              0.7777777777777778,
              "#fb9f3a"
             ],
             [
              0.8888888888888888,
              "#fdca26"
             ],
             [
              1,
              "#f0f921"
             ]
            ],
            "type": "histogram2dcontour"
           }
          ],
          "mesh3d": [
           {
            "colorbar": {
             "outlinewidth": 0,
             "ticks": ""
            },
            "type": "mesh3d"
           }
          ],
          "parcoords": [
           {
            "line": {
             "colorbar": {
              "outlinewidth": 0,
              "ticks": ""
             }
            },
            "type": "parcoords"
           }
          ],
          "pie": [
           {
            "automargin": true,
            "type": "pie"
           }
          ],
          "scatter": [
           {
            "marker": {
             "colorbar": {
              "outlinewidth": 0,
              "ticks": ""
             }
            },
            "type": "scatter"
           }
          ],
          "scatter3d": [
           {
            "line": {
             "colorbar": {
              "outlinewidth": 0,
              "ticks": ""
             }
            },
            "marker": {
             "colorbar": {
              "outlinewidth": 0,
              "ticks": ""
             }
            },
            "type": "scatter3d"
           }
          ],
          "scattercarpet": [
           {
            "marker": {
             "colorbar": {
              "outlinewidth": 0,
              "ticks": ""
             }
            },
            "type": "scattercarpet"
           }
          ],
          "scattergeo": [
           {
            "marker": {
             "colorbar": {
              "outlinewidth": 0,
              "ticks": ""
             }
            },
            "type": "scattergeo"
           }
          ],
          "scattergl": [
           {
            "marker": {
             "colorbar": {
              "outlinewidth": 0,
              "ticks": ""
             }
            },
            "type": "scattergl"
           }
          ],
          "scattermapbox": [
           {
            "marker": {
             "colorbar": {
              "outlinewidth": 0,
              "ticks": ""
             }
            },
            "type": "scattermapbox"
           }
          ],
          "scatterpolar": [
           {
            "marker": {
             "colorbar": {
              "outlinewidth": 0,
              "ticks": ""
             }
            },
            "type": "scatterpolar"
           }
          ],
          "scatterpolargl": [
           {
            "marker": {
             "colorbar": {
              "outlinewidth": 0,
              "ticks": ""
             }
            },
            "type": "scatterpolargl"
           }
          ],
          "scatterternary": [
           {
            "marker": {
             "colorbar": {
              "outlinewidth": 0,
              "ticks": ""
             }
            },
            "type": "scatterternary"
           }
          ],
          "surface": [
           {
            "colorbar": {
             "outlinewidth": 0,
             "ticks": ""
            },
            "colorscale": [
             [
              0,
              "#0d0887"
             ],
             [
              0.1111111111111111,
              "#46039f"
             ],
             [
              0.2222222222222222,
              "#7201a8"
             ],
             [
              0.3333333333333333,
              "#9c179e"
             ],
             [
              0.4444444444444444,
              "#bd3786"
             ],
             [
              0.5555555555555556,
              "#d8576b"
             ],
             [
              0.6666666666666666,
              "#ed7953"
             ],
             [
              0.7777777777777778,
              "#fb9f3a"
             ],
             [
              0.8888888888888888,
              "#fdca26"
             ],
             [
              1,
              "#f0f921"
             ]
            ],
            "type": "surface"
           }
          ],
          "table": [
           {
            "cells": {
             "fill": {
              "color": "#EBF0F8"
             },
             "line": {
              "color": "white"
             }
            },
            "header": {
             "fill": {
              "color": "#C8D4E3"
             },
             "line": {
              "color": "white"
             }
            },
            "type": "table"
           }
          ]
         },
         "layout": {
          "annotationdefaults": {
           "arrowcolor": "#2a3f5f",
           "arrowhead": 0,
           "arrowwidth": 1
          },
          "coloraxis": {
           "colorbar": {
            "outlinewidth": 0,
            "ticks": ""
           }
          },
          "colorscale": {
           "diverging": [
            [
             0,
             "#8e0152"
            ],
            [
             0.1,
             "#c51b7d"
            ],
            [
             0.2,
             "#de77ae"
            ],
            [
             0.3,
             "#f1b6da"
            ],
            [
             0.4,
             "#fde0ef"
            ],
            [
             0.5,
             "#f7f7f7"
            ],
            [
             0.6,
             "#e6f5d0"
            ],
            [
             0.7,
             "#b8e186"
            ],
            [
             0.8,
             "#7fbc41"
            ],
            [
             0.9,
             "#4d9221"
            ],
            [
             1,
             "#276419"
            ]
           ],
           "sequential": [
            [
             0,
             "#0d0887"
            ],
            [
             0.1111111111111111,
             "#46039f"
            ],
            [
             0.2222222222222222,
             "#7201a8"
            ],
            [
             0.3333333333333333,
             "#9c179e"
            ],
            [
             0.4444444444444444,
             "#bd3786"
            ],
            [
             0.5555555555555556,
             "#d8576b"
            ],
            [
             0.6666666666666666,
             "#ed7953"
            ],
            [
             0.7777777777777778,
             "#fb9f3a"
            ],
            [
             0.8888888888888888,
             "#fdca26"
            ],
            [
             1,
             "#f0f921"
            ]
           ],
           "sequentialminus": [
            [
             0,
             "#0d0887"
            ],
            [
             0.1111111111111111,
             "#46039f"
            ],
            [
             0.2222222222222222,
             "#7201a8"
            ],
            [
             0.3333333333333333,
             "#9c179e"
            ],
            [
             0.4444444444444444,
             "#bd3786"
            ],
            [
             0.5555555555555556,
             "#d8576b"
            ],
            [
             0.6666666666666666,
             "#ed7953"
            ],
            [
             0.7777777777777778,
             "#fb9f3a"
            ],
            [
             0.8888888888888888,
             "#fdca26"
            ],
            [
             1,
             "#f0f921"
            ]
           ]
          },
          "colorway": [
           "#636efa",
           "#EF553B",
           "#00cc96",
           "#ab63fa",
           "#FFA15A",
           "#19d3f3",
           "#FF6692",
           "#B6E880",
           "#FF97FF",
           "#FECB52"
          ],
          "font": {
           "color": "#2a3f5f"
          },
          "geo": {
           "bgcolor": "white",
           "lakecolor": "white",
           "landcolor": "#E5ECF6",
           "showlakes": true,
           "showland": true,
           "subunitcolor": "white"
          },
          "hoverlabel": {
           "align": "left"
          },
          "hovermode": "closest",
          "mapbox": {
           "style": "light"
          },
          "paper_bgcolor": "white",
          "plot_bgcolor": "#E5ECF6",
          "polar": {
           "angularaxis": {
            "gridcolor": "white",
            "linecolor": "white",
            "ticks": ""
           },
           "bgcolor": "#E5ECF6",
           "radialaxis": {
            "gridcolor": "white",
            "linecolor": "white",
            "ticks": ""
           }
          },
          "scene": {
           "xaxis": {
            "backgroundcolor": "#E5ECF6",
            "gridcolor": "white",
            "gridwidth": 2,
            "linecolor": "white",
            "showbackground": true,
            "ticks": "",
            "zerolinecolor": "white"
           },
           "yaxis": {
            "backgroundcolor": "#E5ECF6",
            "gridcolor": "white",
            "gridwidth": 2,
            "linecolor": "white",
            "showbackground": true,
            "ticks": "",
            "zerolinecolor": "white"
           },
           "zaxis": {
            "backgroundcolor": "#E5ECF6",
            "gridcolor": "white",
            "gridwidth": 2,
            "linecolor": "white",
            "showbackground": true,
            "ticks": "",
            "zerolinecolor": "white"
           }
          },
          "shapedefaults": {
           "line": {
            "color": "#2a3f5f"
           }
          },
          "ternary": {
           "aaxis": {
            "gridcolor": "white",
            "linecolor": "white",
            "ticks": ""
           },
           "baxis": {
            "gridcolor": "white",
            "linecolor": "white",
            "ticks": ""
           },
           "bgcolor": "#E5ECF6",
           "caxis": {
            "gridcolor": "white",
            "linecolor": "white",
            "ticks": ""
           }
          },
          "title": {
           "x": 0.05
          },
          "xaxis": {
           "automargin": true,
           "gridcolor": "white",
           "linecolor": "white",
           "ticks": "",
           "title": {
            "standoff": 15
           },
           "zerolinecolor": "white",
           "zerolinewidth": 2
          },
          "yaxis": {
           "automargin": true,
           "gridcolor": "white",
           "linecolor": "white",
           "ticks": "",
           "title": {
            "standoff": 15
           },
           "zerolinecolor": "white",
           "zerolinewidth": 2
          }
         }
        },
        "updatemenus": [
         {
          "buttons": [
           {
            "args": [
             {
              "scene.annotations": [
               {
                "showarrow": false,
                "text": "H1",
                "x": 0.1255,
                "y": 2.071,
                "yshift": 15,
                "z": 0.7423
               },
               {
                "showarrow": false,
                "text": "H2",
                "x": -2.0667,
                "y": -0.2862,
                "yshift": 15,
                "z": -0.6226
               },
               {
                "showarrow": false,
                "text": "H3",
                "x": 1.2013,
                "y": -2.0772,
                "yshift": 15,
                "z": -0.7534
               },
               {
                "showarrow": false,
                "text": "O1",
                "x": 0.6879,
                "y": 1.3582,
                "yshift": 15,
                "z": 0.3814
               },
               {
                "showarrow": false,
                "text": "O2",
                "x": 0.2158,
                "y": -0.8326,
                "yshift": 15,
                "z": 1.3941
               },
               {
                "showarrow": false,
                "text": "O3",
                "x": 0.5961,
                "y": -0.7076,
                "yshift": 15,
                "z": -1.1616
               },
               {
                "showarrow": false,
                "text": "O4",
                "x": -1.5385,
                "y": 0.3641,
                "yshift": 15,
                "z": -0.1236
               },
               {
                "showarrow": false,
                "text": "O5",
                "x": 1.5101,
                "y": -2.9453,
                "yshift": 15,
                "z": -0.2866
               },
               {
                "showarrow": false,
                "text": "O6",
                "x": 1.5631,
                "y": -3.5159,
                "yshift": 15,
                "z": 2.1843
               },
               {
                "showarrow": false,
                "text": "O7",
                "x": -0.2169,
                "y": -4.5675,
                "yshift": 15,
                "z": 0.7419
               },
               {
                "showarrow": false,
                "text": "O8",
                "x": -0.4692,
                "y": -2.161,
                "yshift": 15,
                "z": 1.1593
               },
               {
                "showarrow": false,
                "text": "P1",
                "x": 0,
                "y": 0,
                "yshift": 15,
                "z": 0
               },
               {
                "showarrow": false,
                "text": "P2",
                "x": 0.6723,
                "y": -3.3689,
                "yshift": 15,
                "z": 0.9743
               }
              ]
             }
            ],
            "label": "Elements",
            "method": "relayout"
           },
           {
            "args": [
             {
              "scene.annotations": [
               {
                "showarrow": false,
                "text": "H1",
                "x": 0.1255,
                "y": 2.071,
                "yshift": 15,
                "z": 0.7423
               },
               {
                "showarrow": false,
                "text": "H2",
                "x": -2.0667,
                "y": -0.2862,
                "yshift": 15,
                "z": -0.6226
               },
               {
                "showarrow": false,
                "text": "H3",
                "x": 1.2013,
                "y": -2.0772,
                "yshift": 15,
                "z": -0.7534
               },
               {
                "showarrow": false,
                "text": "O1",
                "x": 0.6879,
                "y": 1.3582,
                "yshift": 15,
                "z": 0.3814
               },
               {
                "showarrow": false,
                "text": "O2",
                "x": 0.2158,
                "y": -0.8326,
                "yshift": 15,
                "z": 1.3941
               },
               {
                "showarrow": false,
                "text": "O3",
                "x": 0.5961,
                "y": -0.7076,
                "yshift": 15,
                "z": -1.1616
               },
               {
                "showarrow": false,
                "text": "O4",
                "x": -1.5385,
                "y": 0.3641,
                "yshift": 15,
                "z": -0.1236
               },
               {
                "showarrow": false,
                "text": "O5",
                "x": 1.5101,
                "y": -2.9453,
                "yshift": 15,
                "z": -0.2866
               },
               {
                "showarrow": false,
                "text": "O6",
                "x": 1.5631,
                "y": -3.5159,
                "yshift": 15,
                "z": 2.1843
               },
               {
                "showarrow": false,
                "text": "O7",
                "x": -0.2169,
                "y": -4.5675,
                "yshift": 15,
                "z": 0.7419
               },
               {
                "showarrow": false,
                "text": "O8",
                "x": -0.4692,
                "y": -2.161,
                "yshift": 15,
                "z": 1.1593
               },
               {
                "showarrow": false,
                "text": "P1",
                "x": 0,
                "y": 0,
                "yshift": 15,
                "z": 0
               },
               {
                "showarrow": false,
                "text": "P2",
                "x": 0.6723,
                "y": -3.3689,
                "yshift": 15,
                "z": 0.9743
               },
               {
                "font": {
                 "color": "steelblue"
                },
                "showarrow": false,
                "text": "0.977",
                "x": 0.40669999999999995,
                "y": 1.7146000000000001,
                "yshift": 15,
                "z": 0.56185
               },
               {
                "font": {
                 "color": "steelblue"
                },
                "showarrow": false,
                "text": "0.975",
                "x": -1.8026,
                "y": 0.038949999999999985,
                "yshift": 15,
                "z": -0.37310000000000004
               },
               {
                "font": {
                 "color": "steelblue"
                },
                "showarrow": false,
                "text": "1.033",
                "x": 1.3557000000000001,
                "y": -2.51125,
                "yshift": 15,
                "z": -0.52
               },
               {
                "font": {
                 "color": "steelblue"
                },
                "showarrow": false,
                "text": "1.569",
                "x": 0.34395,
                "y": 0.6791,
                "yshift": 15,
                "z": 0.1907
               },
               {
                "font": {
                 "color": "steelblue"
                },
                "showarrow": false,
                "text": "1.638",
                "x": 0.1079,
                "y": -0.4163,
                "yshift": 15,
                "z": 0.69705
               },
               {
                "font": {
                 "color": "steelblue"
                },
                "showarrow": false,
                "text": "1.485",
                "x": 0.29805,
                "y": -0.3538,
                "yshift": 15,
                "z": -0.5808
               },
               {
                "font": {
                 "color": "steelblue"
                },
                "showarrow": false,
                "text": "1.586",
                "x": -0.76925,
                "y": 0.18205,
                "yshift": 15,
                "z": -0.0618
               },
               {
                "font": {
                 "color": "steelblue"
                },
                "showarrow": false,
                "text": "1.572",
                "x": 1.0912,
                "y": -3.1571,
                "yshift": 15,
                "z": 0.34385
               },
               {
                "font": {
                 "color": "steelblue"
                },
                "showarrow": false,
                "text": "1.510",
                "x": 1.1177,
                "y": -3.4424,
                "yshift": 15,
                "z": 1.5793
               },
               {
                "font": {
                 "color": "steelblue"
                },
                "showarrow": false,
                "text": "1.510",
                "x": 0.2277,
                "y": -3.9682,
                "yshift": 15,
                "z": 0.8581000000000001
               },
               {
                "font": {
                 "color": "steelblue"
                },
                "showarrow": false,
                "text": "1.672",
                "x": 0.10155,
                "y": -2.76495,
                "yshift": 15,
                "z": 1.0668
               },
               {
                "font": {
                 "color": "steelblue"
                },
                "showarrow": false,
                "text": 1.552,
                "x": 0.8987,
                "y": -1.3923999999999999,
                "yshift": 15,
                "z": -0.9575
               }
              ]
             }
            ],
            "label": "Element & Bond Lengths",
            "method": "relayout"
           },
           {
            "args": [
             {
              "scene.annotations": [
               {
                "showarrow": false,
                "text": 0,
                "x": 0.1255,
                "y": 2.071,
                "yshift": 15,
                "z": 0.7423
               },
               {
                "showarrow": false,
                "text": 1,
                "x": -2.0667,
                "y": -0.2862,
                "yshift": 15,
                "z": -0.6226
               },
               {
                "showarrow": false,
                "text": 2,
                "x": 1.2013,
                "y": -2.0772,
                "yshift": 15,
                "z": -0.7534
               },
               {
                "showarrow": false,
                "text": 3,
                "x": 0.6879,
                "y": 1.3582,
                "yshift": 15,
                "z": 0.3814
               },
               {
                "showarrow": false,
                "text": 4,
                "x": 0.2158,
                "y": -0.8326,
                "yshift": 15,
                "z": 1.3941
               },
               {
                "showarrow": false,
                "text": 5,
                "x": 0.5961,
                "y": -0.7076,
                "yshift": 15,
                "z": -1.1616
               },
               {
                "showarrow": false,
                "text": 6,
                "x": -1.5385,
                "y": 0.3641,
                "yshift": 15,
                "z": -0.1236
               },
               {
                "showarrow": false,
                "text": 7,
                "x": 1.5101,
                "y": -2.9453,
                "yshift": 15,
                "z": -0.2866
               },
               {
                "showarrow": false,
                "text": 8,
                "x": 1.5631,
                "y": -3.5159,
                "yshift": 15,
                "z": 2.1843
               },
               {
                "showarrow": false,
                "text": 9,
                "x": -0.2169,
                "y": -4.5675,
                "yshift": 15,
                "z": 0.7419
               },
               {
                "showarrow": false,
                "text": 10,
                "x": -0.4692,
                "y": -2.161,
                "yshift": 15,
                "z": 1.1593
               },
               {
                "showarrow": false,
                "text": 11,
                "x": 0,
                "y": 0,
                "yshift": 15,
                "z": 0
               },
               {
                "showarrow": false,
                "text": 12,
                "x": 0.6723,
                "y": -3.3689,
                "yshift": 15,
                "z": 0.9743
               }
              ]
             }
            ],
            "label": "Indices",
            "method": "relayout"
           },
           {
            "args": [
             {
              "scene.annotations": [
               {
                "showarrow": false,
                "text": 0,
                "x": 0.1255,
                "y": 2.071,
                "yshift": 15,
                "z": 0.7423
               },
               {
                "showarrow": false,
                "text": 1,
                "x": -2.0667,
                "y": -0.2862,
                "yshift": 15,
                "z": -0.6226
               },
               {
                "showarrow": false,
                "text": 2,
                "x": 1.2013,
                "y": -2.0772,
                "yshift": 15,
                "z": -0.7534
               },
               {
                "showarrow": false,
                "text": 3,
                "x": 0.6879,
                "y": 1.3582,
                "yshift": 15,
                "z": 0.3814
               },
               {
                "showarrow": false,
                "text": 4,
                "x": 0.2158,
                "y": -0.8326,
                "yshift": 15,
                "z": 1.3941
               },
               {
                "showarrow": false,
                "text": 5,
                "x": 0.5961,
                "y": -0.7076,
                "yshift": 15,
                "z": -1.1616
               },
               {
                "showarrow": false,
                "text": 6,
                "x": -1.5385,
                "y": 0.3641,
                "yshift": 15,
                "z": -0.1236
               },
               {
                "showarrow": false,
                "text": 7,
                "x": 1.5101,
                "y": -2.9453,
                "yshift": 15,
                "z": -0.2866
               },
               {
                "showarrow": false,
                "text": 8,
                "x": 1.5631,
                "y": -3.5159,
                "yshift": 15,
                "z": 2.1843
               },
               {
                "showarrow": false,
                "text": 9,
                "x": -0.2169,
                "y": -4.5675,
                "yshift": 15,
                "z": 0.7419
               },
               {
                "showarrow": false,
                "text": 10,
                "x": -0.4692,
                "y": -2.161,
                "yshift": 15,
                "z": 1.1593
               },
               {
                "showarrow": false,
                "text": 11,
                "x": 0,
                "y": 0,
                "yshift": 15,
                "z": 0
               },
               {
                "showarrow": false,
                "text": 12,
                "x": 0.6723,
                "y": -3.3689,
                "yshift": 15,
                "z": 0.9743
               },
               {
                "font": {
                 "color": "steelblue"
                },
                "showarrow": false,
                "text": "0.977",
                "x": 0.40669999999999995,
                "y": 1.7146000000000001,
                "yshift": 15,
                "z": 0.56185
               },
               {
                "font": {
                 "color": "steelblue"
                },
                "showarrow": false,
                "text": "0.975",
                "x": -1.8026,
                "y": 0.038949999999999985,
                "yshift": 15,
                "z": -0.37310000000000004
               },
               {
                "font": {
                 "color": "steelblue"
                },
                "showarrow": false,
                "text": "1.033",
                "x": 1.3557000000000001,
                "y": -2.51125,
                "yshift": 15,
                "z": -0.52
               },
               {
                "font": {
                 "color": "steelblue"
                },
                "showarrow": false,
                "text": "1.569",
                "x": 0.34395,
                "y": 0.6791,
                "yshift": 15,
                "z": 0.1907
               },
               {
                "font": {
                 "color": "steelblue"
                },
                "showarrow": false,
                "text": "1.638",
                "x": 0.1079,
                "y": -0.4163,
                "yshift": 15,
                "z": 0.69705
               },
               {
                "font": {
                 "color": "steelblue"
                },
                "showarrow": false,
                "text": "1.485",
                "x": 0.29805,
                "y": -0.3538,
                "yshift": 15,
                "z": -0.5808
               },
               {
                "font": {
                 "color": "steelblue"
                },
                "showarrow": false,
                "text": "1.586",
                "x": -0.76925,
                "y": 0.18205,
                "yshift": 15,
                "z": -0.0618
               },
               {
                "font": {
                 "color": "steelblue"
                },
                "showarrow": false,
                "text": "1.572",
                "x": 1.0912,
                "y": -3.1571,
                "yshift": 15,
                "z": 0.34385
               },
               {
                "font": {
                 "color": "steelblue"
                },
                "showarrow": false,
                "text": "1.510",
                "x": 1.1177,
                "y": -3.4424,
                "yshift": 15,
                "z": 1.5793
               },
               {
                "font": {
                 "color": "steelblue"
                },
                "showarrow": false,
                "text": "1.510",
                "x": 0.2277,
                "y": -3.9682,
                "yshift": 15,
                "z": 0.8581000000000001
               },
               {
                "font": {
                 "color": "steelblue"
                },
                "showarrow": false,
                "text": "1.672",
                "x": 0.10155,
                "y": -2.76495,
                "yshift": 15,
                "z": 1.0668
               },
               {
                "font": {
                 "color": "steelblue"
                },
                "showarrow": false,
                "text": 1.552,
                "x": 0.8987,
                "y": -1.3923999999999999,
                "yshift": 15,
                "z": -0.9575
               }
              ]
             }
            ],
            "label": "Indices & Bond Lengths",
            "method": "relayout"
           },
           {
            "args": [
             {
              "scene.annotations": [
               {
                "font": {
                 "color": "steelblue"
                },
                "showarrow": false,
                "text": "0.977",
                "x": 0.40669999999999995,
                "y": 1.7146000000000001,
                "yshift": 15,
                "z": 0.56185
               },
               {
                "font": {
                 "color": "steelblue"
                },
                "showarrow": false,
                "text": "0.975",
                "x": -1.8026,
                "y": 0.038949999999999985,
                "yshift": 15,
                "z": -0.37310000000000004
               },
               {
                "font": {
                 "color": "steelblue"
                },
                "showarrow": false,
                "text": "1.033",
                "x": 1.3557000000000001,
                "y": -2.51125,
                "yshift": 15,
                "z": -0.52
               },
               {
                "font": {
                 "color": "steelblue"
                },
                "showarrow": false,
                "text": "1.569",
                "x": 0.34395,
                "y": 0.6791,
                "yshift": 15,
                "z": 0.1907
               },
               {
                "font": {
                 "color": "steelblue"
                },
                "showarrow": false,
                "text": "1.638",
                "x": 0.1079,
                "y": -0.4163,
                "yshift": 15,
                "z": 0.69705
               },
               {
                "font": {
                 "color": "steelblue"
                },
                "showarrow": false,
                "text": "1.485",
                "x": 0.29805,
                "y": -0.3538,
                "yshift": 15,
                "z": -0.5808
               },
               {
                "font": {
                 "color": "steelblue"
                },
                "showarrow": false,
                "text": "1.586",
                "x": -0.76925,
                "y": 0.18205,
                "yshift": 15,
                "z": -0.0618
               },
               {
                "font": {
                 "color": "steelblue"
                },
                "showarrow": false,
                "text": "1.572",
                "x": 1.0912,
                "y": -3.1571,
                "yshift": 15,
                "z": 0.34385
               },
               {
                "font": {
                 "color": "steelblue"
                },
                "showarrow": false,
                "text": "1.510",
                "x": 1.1177,
                "y": -3.4424,
                "yshift": 15,
                "z": 1.5793
               },
               {
                "font": {
                 "color": "steelblue"
                },
                "showarrow": false,
                "text": "1.510",
                "x": 0.2277,
                "y": -3.9682,
                "yshift": 15,
                "z": 0.8581000000000001
               },
               {
                "font": {
                 "color": "steelblue"
                },
                "showarrow": false,
                "text": "1.672",
                "x": 0.10155,
                "y": -2.76495,
                "yshift": 15,
                "z": 1.0668
               },
               {
                "font": {
                 "color": "steelblue"
                },
                "showarrow": false,
                "text": 1.552,
                "x": 0.8987,
                "y": -1.3923999999999999,
                "yshift": 15,
                "z": -0.9575
               }
              ]
             }
            ],
            "label": "Bond Lengths",
            "method": "relayout"
           },
           {
            "args": [
             {}
            ],
            "label": "Hide All",
            "method": "relayout"
           }
          ],
          "direction": "down",
          "xanchor": "left",
          "yanchor": "top"
         }
        ]
       }
      },
      "text/html": [
       "<div>                            <div id=\"44ae34c2-1a6b-4a06-8b59-3523e9c6218d\" class=\"plotly-graph-div\" style=\"height:525px; width:100%;\"></div>            <script type=\"text/javascript\">                require([\"plotly\"], function(Plotly) {                    window.PLOTLYENV=window.PLOTLYENV || {};                                    if (document.getElementById(\"44ae34c2-1a6b-4a06-8b59-3523e9c6218d\")) {                    Plotly.newPlot(                        \"44ae34c2-1a6b-4a06-8b59-3523e9c6218d\",                        [{\"marker\": {\"color\": [\"white\", \"white\", \"white\", \"red\", \"red\", \"red\", \"red\", \"red\", \"red\", \"red\", \"red\", \"orange\", \"orange\"], \"line\": {\"color\": \"lightgray\", \"width\": 2}, \"opacity\": 0.8, \"size\": [9.200000000000001, 9.200000000000001, 9.200000000000001, 27.200000000000003, 27.200000000000003, 27.200000000000003, 27.200000000000003, 27.200000000000003, 27.200000000000003, 27.200000000000003, 27.200000000000003, 42.0, 42.0], \"symbol\": \"circle\"}, \"mode\": \"markers\", \"text\": [\"H1\", \"H2\", \"H3\", \"O1\", \"O2\", \"O3\", \"O4\", \"O5\", \"O6\", \"O7\", \"O8\", \"P1\", \"P2\"], \"type\": \"scatter3d\", \"x\": [0.1255, -2.0667, 1.2013, 0.6879, 0.2158, 0.5961, -1.5385, 1.5101, 1.5631, -0.2169, -0.4692, 0.0, 0.6723], \"y\": [2.071, -0.2862, -2.0772, 1.3582, -0.8326, -0.7076, 0.3641, -2.9453, -3.5159, -4.5675, -2.161, 0.0, -3.3689], \"z\": [0.7423, -0.6226, -0.7534, 0.3814, 1.3941, -1.1616, -0.1236, -0.2866, 2.1843, 0.7419, 1.1593, 0.0, 0.9743]}, {\"hoverinfo\": \"none\", \"marker\": {\"color\": \"gray\", \"opacity\": 0.1, \"size\": 3}, \"mode\": \"lines\", \"type\": \"scatter3d\", \"x\": [0.1255, 0.6879, null, 0.6879, 0.0, null, 0.6879, 0.1255, null, -2.0667, -1.5385, null, -1.5385, -2.0667, null, -1.5385, 0.0, null, 1.2013, 1.5101, null, 1.2013, 0.5961, null, 1.5101, 1.2013, null, 1.5101, 0.6723, null, 0.0, 0.6879, null, 0.0, 0.5961, null, 0.0, -1.5385, null, 0.0, 0.2158, null, 0.2158, 0.0, null, 0.5961, 1.2013, null, 0.5961, 0.0, null, 0.6723, 1.5101, null, 0.6723, 1.5631, null, 0.6723, -0.4692, null, 0.6723, -0.2169, null, 1.5631, 0.6723, null, -0.2169, 0.6723, null, -0.4692, 0.6723, null], \"y\": [2.071, 1.3582, null, 1.3582, 0.0, null, 1.3582, 2.071, null, -0.2862, 0.3641, null, 0.3641, -0.2862, null, 0.3641, 0.0, null, -2.0772, -2.9453, null, -2.0772, -0.7076, null, -2.9453, -2.0772, null, -2.9453, -3.3689, null, 0.0, 1.3582, null, 0.0, -0.7076, null, 0.0, 0.3641, null, 0.0, -0.8326, null, -0.8326, 0.0, null, -0.7076, -2.0772, null, -0.7076, 0.0, null, -3.3689, -2.9453, null, -3.3689, -3.5159, null, -3.3689, -2.161, null, -3.3689, -4.5675, null, -3.5159, -3.3689, null, -4.5675, -3.3689, null, -2.161, -3.3689, null], \"z\": [0.7423, 0.3814, null, 0.3814, 0.0, null, 0.3814, 0.7423, null, -0.6226, -0.1236, null, -0.1236, -0.6226, null, -0.1236, 0.0, null, -0.7534, -0.2866, null, -0.7534, -1.1616, null, -0.2866, -0.7534, null, -0.2866, 0.9743, null, 0.0, 0.3814, null, 0.0, -1.1616, null, 0.0, -0.1236, null, 0.0, 1.3941, null, 1.3941, 0.0, null, -1.1616, -0.7534, null, -1.1616, 0.0, null, 0.9743, -0.2866, null, 0.9743, 2.1843, null, 0.9743, 1.1593, null, 0.9743, 0.7419, null, 2.1843, 0.9743, null, 0.7419, 0.9743, null, 1.1593, 0.9743, null]}],                        {\"margin\": {\"b\": 0, \"l\": 0, \"r\": 0, \"t\": 0}, \"scene\": {\"annotations\": [{\"showarrow\": false, \"text\": \"H1\", \"x\": 0.1255, \"y\": 2.071, \"yshift\": 15, \"z\": 0.7423}, {\"showarrow\": false, \"text\": \"H2\", \"x\": -2.0667, \"y\": -0.2862, \"yshift\": 15, \"z\": -0.6226}, {\"showarrow\": false, \"text\": \"H3\", \"x\": 1.2013, \"y\": -2.0772, \"yshift\": 15, \"z\": -0.7534}, {\"showarrow\": false, \"text\": \"O1\", \"x\": 0.6879, \"y\": 1.3582, \"yshift\": 15, \"z\": 0.3814}, {\"showarrow\": false, \"text\": \"O2\", \"x\": 0.2158, \"y\": -0.8326, \"yshift\": 15, \"z\": 1.3941}, {\"showarrow\": false, \"text\": \"O3\", \"x\": 0.5961, \"y\": -0.7076, \"yshift\": 15, \"z\": -1.1616}, {\"showarrow\": false, \"text\": \"O4\", \"x\": -1.5385, \"y\": 0.3641, \"yshift\": 15, \"z\": -0.1236}, {\"showarrow\": false, \"text\": \"O5\", \"x\": 1.5101, \"y\": -2.9453, \"yshift\": 15, \"z\": -0.2866}, {\"showarrow\": false, \"text\": \"O6\", \"x\": 1.5631, \"y\": -3.5159, \"yshift\": 15, \"z\": 2.1843}, {\"showarrow\": false, \"text\": \"O7\", \"x\": -0.2169, \"y\": -4.5675, \"yshift\": 15, \"z\": 0.7419}, {\"showarrow\": false, \"text\": \"O8\", \"x\": -0.4692, \"y\": -2.161, \"yshift\": 15, \"z\": 1.1593}, {\"showarrow\": false, \"text\": \"P1\", \"x\": 0.0, \"y\": 0.0, \"yshift\": 15, \"z\": 0.0}, {\"showarrow\": false, \"text\": \"P2\", \"x\": 0.6723, \"y\": -3.3689, \"yshift\": 15, \"z\": 0.9743}], \"xaxis\": {\"showbackground\": true, \"showgrid\": true, \"showticklabels\": true, \"title\": {\"font\": {\"color\": \"white\"}}, \"zeroline\": true}, \"yaxis\": {\"showbackground\": true, \"showgrid\": true, \"showticklabels\": true, \"title\": {\"font\": {\"color\": \"white\"}}, \"zeroline\": true}, \"zaxis\": {\"showbackground\": true, \"showgrid\": true, \"showticklabels\": true, \"title\": {\"font\": {\"color\": \"white\"}}, \"zeroline\": true}}, \"showlegend\": false, \"template\": {\"data\": {\"bar\": [{\"error_x\": {\"color\": \"#2a3f5f\"}, \"error_y\": {\"color\": \"#2a3f5f\"}, \"marker\": {\"line\": {\"color\": \"#E5ECF6\", \"width\": 0.5}}, \"type\": \"bar\"}], \"barpolar\": [{\"marker\": {\"line\": {\"color\": \"#E5ECF6\", \"width\": 0.5}}, \"type\": \"barpolar\"}], \"carpet\": [{\"aaxis\": {\"endlinecolor\": \"#2a3f5f\", \"gridcolor\": \"white\", \"linecolor\": \"white\", \"minorgridcolor\": \"white\", \"startlinecolor\": \"#2a3f5f\"}, \"baxis\": {\"endlinecolor\": \"#2a3f5f\", \"gridcolor\": \"white\", \"linecolor\": \"white\", \"minorgridcolor\": \"white\", \"startlinecolor\": \"#2a3f5f\"}, \"type\": \"carpet\"}], \"choropleth\": [{\"colorbar\": {\"outlinewidth\": 0, \"ticks\": \"\"}, \"type\": \"choropleth\"}], \"contour\": [{\"colorbar\": {\"outlinewidth\": 0, \"ticks\": \"\"}, \"colorscale\": [[0.0, \"#0d0887\"], [0.1111111111111111, \"#46039f\"], [0.2222222222222222, \"#7201a8\"], [0.3333333333333333, \"#9c179e\"], [0.4444444444444444, \"#bd3786\"], [0.5555555555555556, \"#d8576b\"], [0.6666666666666666, \"#ed7953\"], [0.7777777777777778, \"#fb9f3a\"], [0.8888888888888888, \"#fdca26\"], [1.0, \"#f0f921\"]], \"type\": \"contour\"}], \"contourcarpet\": [{\"colorbar\": {\"outlinewidth\": 0, \"ticks\": \"\"}, \"type\": \"contourcarpet\"}], \"heatmap\": [{\"colorbar\": {\"outlinewidth\": 0, \"ticks\": \"\"}, \"colorscale\": [[0.0, \"#0d0887\"], [0.1111111111111111, \"#46039f\"], [0.2222222222222222, \"#7201a8\"], [0.3333333333333333, \"#9c179e\"], [0.4444444444444444, \"#bd3786\"], [0.5555555555555556, \"#d8576b\"], [0.6666666666666666, \"#ed7953\"], [0.7777777777777778, \"#fb9f3a\"], [0.8888888888888888, \"#fdca26\"], [1.0, \"#f0f921\"]], \"type\": \"heatmap\"}], \"heatmapgl\": [{\"colorbar\": {\"outlinewidth\": 0, \"ticks\": \"\"}, \"colorscale\": [[0.0, \"#0d0887\"], [0.1111111111111111, \"#46039f\"], [0.2222222222222222, \"#7201a8\"], [0.3333333333333333, \"#9c179e\"], [0.4444444444444444, \"#bd3786\"], [0.5555555555555556, \"#d8576b\"], [0.6666666666666666, \"#ed7953\"], [0.7777777777777778, \"#fb9f3a\"], [0.8888888888888888, \"#fdca26\"], [1.0, \"#f0f921\"]], \"type\": \"heatmapgl\"}], \"histogram\": [{\"marker\": {\"colorbar\": {\"outlinewidth\": 0, \"ticks\": \"\"}}, \"type\": \"histogram\"}], \"histogram2d\": [{\"colorbar\": {\"outlinewidth\": 0, \"ticks\": \"\"}, \"colorscale\": [[0.0, \"#0d0887\"], [0.1111111111111111, \"#46039f\"], [0.2222222222222222, \"#7201a8\"], [0.3333333333333333, \"#9c179e\"], [0.4444444444444444, \"#bd3786\"], [0.5555555555555556, \"#d8576b\"], [0.6666666666666666, \"#ed7953\"], [0.7777777777777778, \"#fb9f3a\"], [0.8888888888888888, \"#fdca26\"], [1.0, \"#f0f921\"]], \"type\": \"histogram2d\"}], \"histogram2dcontour\": [{\"colorbar\": {\"outlinewidth\": 0, \"ticks\": \"\"}, \"colorscale\": [[0.0, \"#0d0887\"], [0.1111111111111111, \"#46039f\"], [0.2222222222222222, \"#7201a8\"], [0.3333333333333333, \"#9c179e\"], [0.4444444444444444, \"#bd3786\"], [0.5555555555555556, \"#d8576b\"], [0.6666666666666666, \"#ed7953\"], [0.7777777777777778, \"#fb9f3a\"], [0.8888888888888888, \"#fdca26\"], [1.0, \"#f0f921\"]], \"type\": \"histogram2dcontour\"}], \"mesh3d\": [{\"colorbar\": {\"outlinewidth\": 0, \"ticks\": \"\"}, \"type\": \"mesh3d\"}], \"parcoords\": [{\"line\": {\"colorbar\": {\"outlinewidth\": 0, \"ticks\": \"\"}}, \"type\": \"parcoords\"}], \"pie\": [{\"automargin\": true, \"type\": \"pie\"}], \"scatter\": [{\"marker\": {\"colorbar\": {\"outlinewidth\": 0, \"ticks\": \"\"}}, \"type\": \"scatter\"}], \"scatter3d\": [{\"line\": {\"colorbar\": {\"outlinewidth\": 0, \"ticks\": \"\"}}, \"marker\": {\"colorbar\": {\"outlinewidth\": 0, \"ticks\": \"\"}}, \"type\": \"scatter3d\"}], \"scattercarpet\": [{\"marker\": {\"colorbar\": {\"outlinewidth\": 0, \"ticks\": \"\"}}, \"type\": \"scattercarpet\"}], \"scattergeo\": [{\"marker\": {\"colorbar\": {\"outlinewidth\": 0, \"ticks\": \"\"}}, \"type\": \"scattergeo\"}], \"scattergl\": [{\"marker\": {\"colorbar\": {\"outlinewidth\": 0, \"ticks\": \"\"}}, \"type\": \"scattergl\"}], \"scattermapbox\": [{\"marker\": {\"colorbar\": {\"outlinewidth\": 0, \"ticks\": \"\"}}, \"type\": \"scattermapbox\"}], \"scatterpolar\": [{\"marker\": {\"colorbar\": {\"outlinewidth\": 0, \"ticks\": \"\"}}, \"type\": \"scatterpolar\"}], \"scatterpolargl\": [{\"marker\": {\"colorbar\": {\"outlinewidth\": 0, \"ticks\": \"\"}}, \"type\": \"scatterpolargl\"}], \"scatterternary\": [{\"marker\": {\"colorbar\": {\"outlinewidth\": 0, \"ticks\": \"\"}}, \"type\": \"scatterternary\"}], \"surface\": [{\"colorbar\": {\"outlinewidth\": 0, \"ticks\": \"\"}, \"colorscale\": [[0.0, \"#0d0887\"], [0.1111111111111111, \"#46039f\"], [0.2222222222222222, \"#7201a8\"], [0.3333333333333333, \"#9c179e\"], [0.4444444444444444, \"#bd3786\"], [0.5555555555555556, \"#d8576b\"], [0.6666666666666666, \"#ed7953\"], [0.7777777777777778, \"#fb9f3a\"], [0.8888888888888888, \"#fdca26\"], [1.0, \"#f0f921\"]], \"type\": \"surface\"}], \"table\": [{\"cells\": {\"fill\": {\"color\": \"#EBF0F8\"}, \"line\": {\"color\": \"white\"}}, \"header\": {\"fill\": {\"color\": \"#C8D4E3\"}, \"line\": {\"color\": \"white\"}}, \"type\": \"table\"}]}, \"layout\": {\"annotationdefaults\": {\"arrowcolor\": \"#2a3f5f\", \"arrowhead\": 0, \"arrowwidth\": 1}, \"coloraxis\": {\"colorbar\": {\"outlinewidth\": 0, \"ticks\": \"\"}}, \"colorscale\": {\"diverging\": [[0, \"#8e0152\"], [0.1, \"#c51b7d\"], [0.2, \"#de77ae\"], [0.3, \"#f1b6da\"], [0.4, \"#fde0ef\"], [0.5, \"#f7f7f7\"], [0.6, \"#e6f5d0\"], [0.7, \"#b8e186\"], [0.8, \"#7fbc41\"], [0.9, \"#4d9221\"], [1, \"#276419\"]], \"sequential\": [[0.0, \"#0d0887\"], [0.1111111111111111, \"#46039f\"], [0.2222222222222222, \"#7201a8\"], [0.3333333333333333, \"#9c179e\"], [0.4444444444444444, \"#bd3786\"], [0.5555555555555556, \"#d8576b\"], [0.6666666666666666, \"#ed7953\"], [0.7777777777777778, \"#fb9f3a\"], [0.8888888888888888, \"#fdca26\"], [1.0, \"#f0f921\"]], \"sequentialminus\": [[0.0, \"#0d0887\"], [0.1111111111111111, \"#46039f\"], [0.2222222222222222, \"#7201a8\"], [0.3333333333333333, \"#9c179e\"], [0.4444444444444444, \"#bd3786\"], [0.5555555555555556, \"#d8576b\"], [0.6666666666666666, \"#ed7953\"], [0.7777777777777778, \"#fb9f3a\"], [0.8888888888888888, \"#fdca26\"], [1.0, \"#f0f921\"]]}, \"colorway\": [\"#636efa\", \"#EF553B\", \"#00cc96\", \"#ab63fa\", \"#FFA15A\", \"#19d3f3\", \"#FF6692\", \"#B6E880\", \"#FF97FF\", \"#FECB52\"], \"font\": {\"color\": \"#2a3f5f\"}, \"geo\": {\"bgcolor\": \"white\", \"lakecolor\": \"white\", \"landcolor\": \"#E5ECF6\", \"showlakes\": true, \"showland\": true, \"subunitcolor\": \"white\"}, \"hoverlabel\": {\"align\": \"left\"}, \"hovermode\": \"closest\", \"mapbox\": {\"style\": \"light\"}, \"paper_bgcolor\": \"white\", \"plot_bgcolor\": \"#E5ECF6\", \"polar\": {\"angularaxis\": {\"gridcolor\": \"white\", \"linecolor\": \"white\", \"ticks\": \"\"}, \"bgcolor\": \"#E5ECF6\", \"radialaxis\": {\"gridcolor\": \"white\", \"linecolor\": \"white\", \"ticks\": \"\"}}, \"scene\": {\"xaxis\": {\"backgroundcolor\": \"#E5ECF6\", \"gridcolor\": \"white\", \"gridwidth\": 2, \"linecolor\": \"white\", \"showbackground\": true, \"ticks\": \"\", \"zerolinecolor\": \"white\"}, \"yaxis\": {\"backgroundcolor\": \"#E5ECF6\", \"gridcolor\": \"white\", \"gridwidth\": 2, \"linecolor\": \"white\", \"showbackground\": true, \"ticks\": \"\", \"zerolinecolor\": \"white\"}, \"zaxis\": {\"backgroundcolor\": \"#E5ECF6\", \"gridcolor\": \"white\", \"gridwidth\": 2, \"linecolor\": \"white\", \"showbackground\": true, \"ticks\": \"\", \"zerolinecolor\": \"white\"}}, \"shapedefaults\": {\"line\": {\"color\": \"#2a3f5f\"}}, \"ternary\": {\"aaxis\": {\"gridcolor\": \"white\", \"linecolor\": \"white\", \"ticks\": \"\"}, \"baxis\": {\"gridcolor\": \"white\", \"linecolor\": \"white\", \"ticks\": \"\"}, \"bgcolor\": \"#E5ECF6\", \"caxis\": {\"gridcolor\": \"white\", \"linecolor\": \"white\", \"ticks\": \"\"}}, \"title\": {\"x\": 0.05}, \"xaxis\": {\"automargin\": true, \"gridcolor\": \"white\", \"linecolor\": \"white\", \"ticks\": \"\", \"title\": {\"standoff\": 15}, \"zerolinecolor\": \"white\", \"zerolinewidth\": 2}, \"yaxis\": {\"automargin\": true, \"gridcolor\": \"white\", \"linecolor\": \"white\", \"ticks\": \"\", \"title\": {\"standoff\": 15}, \"zerolinecolor\": \"white\", \"zerolinewidth\": 2}}}, \"updatemenus\": [{\"buttons\": [{\"args\": [{\"scene.annotations\": [{\"showarrow\": false, \"text\": \"H1\", \"x\": 0.1255, \"y\": 2.071, \"yshift\": 15, \"z\": 0.7423}, {\"showarrow\": false, \"text\": \"H2\", \"x\": -2.0667, \"y\": -0.2862, \"yshift\": 15, \"z\": -0.6226}, {\"showarrow\": false, \"text\": \"H3\", \"x\": 1.2013, \"y\": -2.0772, \"yshift\": 15, \"z\": -0.7534}, {\"showarrow\": false, \"text\": \"O1\", \"x\": 0.6879, \"y\": 1.3582, \"yshift\": 15, \"z\": 0.3814}, {\"showarrow\": false, \"text\": \"O2\", \"x\": 0.2158, \"y\": -0.8326, \"yshift\": 15, \"z\": 1.3941}, {\"showarrow\": false, \"text\": \"O3\", \"x\": 0.5961, \"y\": -0.7076, \"yshift\": 15, \"z\": -1.1616}, {\"showarrow\": false, \"text\": \"O4\", \"x\": -1.5385, \"y\": 0.3641, \"yshift\": 15, \"z\": -0.1236}, {\"showarrow\": false, \"text\": \"O5\", \"x\": 1.5101, \"y\": -2.9453, \"yshift\": 15, \"z\": -0.2866}, {\"showarrow\": false, \"text\": \"O6\", \"x\": 1.5631, \"y\": -3.5159, \"yshift\": 15, \"z\": 2.1843}, {\"showarrow\": false, \"text\": \"O7\", \"x\": -0.2169, \"y\": -4.5675, \"yshift\": 15, \"z\": 0.7419}, {\"showarrow\": false, \"text\": \"O8\", \"x\": -0.4692, \"y\": -2.161, \"yshift\": 15, \"z\": 1.1593}, {\"showarrow\": false, \"text\": \"P1\", \"x\": 0.0, \"y\": 0.0, \"yshift\": 15, \"z\": 0.0}, {\"showarrow\": false, \"text\": \"P2\", \"x\": 0.6723, \"y\": -3.3689, \"yshift\": 15, \"z\": 0.9743}]}], \"label\": \"Elements\", \"method\": \"relayout\"}, {\"args\": [{\"scene.annotations\": [{\"showarrow\": false, \"text\": \"H1\", \"x\": 0.1255, \"y\": 2.071, \"yshift\": 15, \"z\": 0.7423}, {\"showarrow\": false, \"text\": \"H2\", \"x\": -2.0667, \"y\": -0.2862, \"yshift\": 15, \"z\": -0.6226}, {\"showarrow\": false, \"text\": \"H3\", \"x\": 1.2013, \"y\": -2.0772, \"yshift\": 15, \"z\": -0.7534}, {\"showarrow\": false, \"text\": \"O1\", \"x\": 0.6879, \"y\": 1.3582, \"yshift\": 15, \"z\": 0.3814}, {\"showarrow\": false, \"text\": \"O2\", \"x\": 0.2158, \"y\": -0.8326, \"yshift\": 15, \"z\": 1.3941}, {\"showarrow\": false, \"text\": \"O3\", \"x\": 0.5961, \"y\": -0.7076, \"yshift\": 15, \"z\": -1.1616}, {\"showarrow\": false, \"text\": \"O4\", \"x\": -1.5385, \"y\": 0.3641, \"yshift\": 15, \"z\": -0.1236}, {\"showarrow\": false, \"text\": \"O5\", \"x\": 1.5101, \"y\": -2.9453, \"yshift\": 15, \"z\": -0.2866}, {\"showarrow\": false, \"text\": \"O6\", \"x\": 1.5631, \"y\": -3.5159, \"yshift\": 15, \"z\": 2.1843}, {\"showarrow\": false, \"text\": \"O7\", \"x\": -0.2169, \"y\": -4.5675, \"yshift\": 15, \"z\": 0.7419}, {\"showarrow\": false, \"text\": \"O8\", \"x\": -0.4692, \"y\": -2.161, \"yshift\": 15, \"z\": 1.1593}, {\"showarrow\": false, \"text\": \"P1\", \"x\": 0.0, \"y\": 0.0, \"yshift\": 15, \"z\": 0.0}, {\"showarrow\": false, \"text\": \"P2\", \"x\": 0.6723, \"y\": -3.3689, \"yshift\": 15, \"z\": 0.9743}, {\"font\": {\"color\": \"steelblue\"}, \"showarrow\": false, \"text\": \"0.977\", \"x\": 0.40669999999999995, \"y\": 1.7146000000000001, \"yshift\": 15, \"z\": 0.56185}, {\"font\": {\"color\": \"steelblue\"}, \"showarrow\": false, \"text\": \"0.975\", \"x\": -1.8026, \"y\": 0.038949999999999985, \"yshift\": 15, \"z\": -0.37310000000000004}, {\"font\": {\"color\": \"steelblue\"}, \"showarrow\": false, \"text\": \"1.033\", \"x\": 1.3557000000000001, \"y\": -2.51125, \"yshift\": 15, \"z\": -0.52}, {\"font\": {\"color\": \"steelblue\"}, \"showarrow\": false, \"text\": \"1.569\", \"x\": 0.34395, \"y\": 0.6791, \"yshift\": 15, \"z\": 0.1907}, {\"font\": {\"color\": \"steelblue\"}, \"showarrow\": false, \"text\": \"1.638\", \"x\": 0.1079, \"y\": -0.4163, \"yshift\": 15, \"z\": 0.69705}, {\"font\": {\"color\": \"steelblue\"}, \"showarrow\": false, \"text\": \"1.485\", \"x\": 0.29805, \"y\": -0.3538, \"yshift\": 15, \"z\": -0.5808}, {\"font\": {\"color\": \"steelblue\"}, \"showarrow\": false, \"text\": \"1.586\", \"x\": -0.76925, \"y\": 0.18205, \"yshift\": 15, \"z\": -0.0618}, {\"font\": {\"color\": \"steelblue\"}, \"showarrow\": false, \"text\": \"1.572\", \"x\": 1.0912, \"y\": -3.1571, \"yshift\": 15, \"z\": 0.34385}, {\"font\": {\"color\": \"steelblue\"}, \"showarrow\": false, \"text\": \"1.510\", \"x\": 1.1177, \"y\": -3.4424, \"yshift\": 15, \"z\": 1.5793}, {\"font\": {\"color\": \"steelblue\"}, \"showarrow\": false, \"text\": \"1.510\", \"x\": 0.2277, \"y\": -3.9682, \"yshift\": 15, \"z\": 0.8581000000000001}, {\"font\": {\"color\": \"steelblue\"}, \"showarrow\": false, \"text\": \"1.672\", \"x\": 0.10155, \"y\": -2.76495, \"yshift\": 15, \"z\": 1.0668}, {\"font\": {\"color\": \"steelblue\"}, \"showarrow\": false, \"text\": 1.552, \"x\": 0.8987, \"y\": -1.3923999999999999, \"yshift\": 15, \"z\": -0.9575}]}], \"label\": \"Element & Bond Lengths\", \"method\": \"relayout\"}, {\"args\": [{\"scene.annotations\": [{\"showarrow\": false, \"text\": 0, \"x\": 0.1255, \"y\": 2.071, \"yshift\": 15, \"z\": 0.7423}, {\"showarrow\": false, \"text\": 1, \"x\": -2.0667, \"y\": -0.2862, \"yshift\": 15, \"z\": -0.6226}, {\"showarrow\": false, \"text\": 2, \"x\": 1.2013, \"y\": -2.0772, \"yshift\": 15, \"z\": -0.7534}, {\"showarrow\": false, \"text\": 3, \"x\": 0.6879, \"y\": 1.3582, \"yshift\": 15, \"z\": 0.3814}, {\"showarrow\": false, \"text\": 4, \"x\": 0.2158, \"y\": -0.8326, \"yshift\": 15, \"z\": 1.3941}, {\"showarrow\": false, \"text\": 5, \"x\": 0.5961, \"y\": -0.7076, \"yshift\": 15, \"z\": -1.1616}, {\"showarrow\": false, \"text\": 6, \"x\": -1.5385, \"y\": 0.3641, \"yshift\": 15, \"z\": -0.1236}, {\"showarrow\": false, \"text\": 7, \"x\": 1.5101, \"y\": -2.9453, \"yshift\": 15, \"z\": -0.2866}, {\"showarrow\": false, \"text\": 8, \"x\": 1.5631, \"y\": -3.5159, \"yshift\": 15, \"z\": 2.1843}, {\"showarrow\": false, \"text\": 9, \"x\": -0.2169, \"y\": -4.5675, \"yshift\": 15, \"z\": 0.7419}, {\"showarrow\": false, \"text\": 10, \"x\": -0.4692, \"y\": -2.161, \"yshift\": 15, \"z\": 1.1593}, {\"showarrow\": false, \"text\": 11, \"x\": 0.0, \"y\": 0.0, \"yshift\": 15, \"z\": 0.0}, {\"showarrow\": false, \"text\": 12, \"x\": 0.6723, \"y\": -3.3689, \"yshift\": 15, \"z\": 0.9743}]}], \"label\": \"Indices\", \"method\": \"relayout\"}, {\"args\": [{\"scene.annotations\": [{\"showarrow\": false, \"text\": 0, \"x\": 0.1255, \"y\": 2.071, \"yshift\": 15, \"z\": 0.7423}, {\"showarrow\": false, \"text\": 1, \"x\": -2.0667, \"y\": -0.2862, \"yshift\": 15, \"z\": -0.6226}, {\"showarrow\": false, \"text\": 2, \"x\": 1.2013, \"y\": -2.0772, \"yshift\": 15, \"z\": -0.7534}, {\"showarrow\": false, \"text\": 3, \"x\": 0.6879, \"y\": 1.3582, \"yshift\": 15, \"z\": 0.3814}, {\"showarrow\": false, \"text\": 4, \"x\": 0.2158, \"y\": -0.8326, \"yshift\": 15, \"z\": 1.3941}, {\"showarrow\": false, \"text\": 5, \"x\": 0.5961, \"y\": -0.7076, \"yshift\": 15, \"z\": -1.1616}, {\"showarrow\": false, \"text\": 6, \"x\": -1.5385, \"y\": 0.3641, \"yshift\": 15, \"z\": -0.1236}, {\"showarrow\": false, \"text\": 7, \"x\": 1.5101, \"y\": -2.9453, \"yshift\": 15, \"z\": -0.2866}, {\"showarrow\": false, \"text\": 8, \"x\": 1.5631, \"y\": -3.5159, \"yshift\": 15, \"z\": 2.1843}, {\"showarrow\": false, \"text\": 9, \"x\": -0.2169, \"y\": -4.5675, \"yshift\": 15, \"z\": 0.7419}, {\"showarrow\": false, \"text\": 10, \"x\": -0.4692, \"y\": -2.161, \"yshift\": 15, \"z\": 1.1593}, {\"showarrow\": false, \"text\": 11, \"x\": 0.0, \"y\": 0.0, \"yshift\": 15, \"z\": 0.0}, {\"showarrow\": false, \"text\": 12, \"x\": 0.6723, \"y\": -3.3689, \"yshift\": 15, \"z\": 0.9743}, {\"font\": {\"color\": \"steelblue\"}, \"showarrow\": false, \"text\": \"0.977\", \"x\": 0.40669999999999995, \"y\": 1.7146000000000001, \"yshift\": 15, \"z\": 0.56185}, {\"font\": {\"color\": \"steelblue\"}, \"showarrow\": false, \"text\": \"0.975\", \"x\": -1.8026, \"y\": 0.038949999999999985, \"yshift\": 15, \"z\": -0.37310000000000004}, {\"font\": {\"color\": \"steelblue\"}, \"showarrow\": false, \"text\": \"1.033\", \"x\": 1.3557000000000001, \"y\": -2.51125, \"yshift\": 15, \"z\": -0.52}, {\"font\": {\"color\": \"steelblue\"}, \"showarrow\": false, \"text\": \"1.569\", \"x\": 0.34395, \"y\": 0.6791, \"yshift\": 15, \"z\": 0.1907}, {\"font\": {\"color\": \"steelblue\"}, \"showarrow\": false, \"text\": \"1.638\", \"x\": 0.1079, \"y\": -0.4163, \"yshift\": 15, \"z\": 0.69705}, {\"font\": {\"color\": \"steelblue\"}, \"showarrow\": false, \"text\": \"1.485\", \"x\": 0.29805, \"y\": -0.3538, \"yshift\": 15, \"z\": -0.5808}, {\"font\": {\"color\": \"steelblue\"}, \"showarrow\": false, \"text\": \"1.586\", \"x\": -0.76925, \"y\": 0.18205, \"yshift\": 15, \"z\": -0.0618}, {\"font\": {\"color\": \"steelblue\"}, \"showarrow\": false, \"text\": \"1.572\", \"x\": 1.0912, \"y\": -3.1571, \"yshift\": 15, \"z\": 0.34385}, {\"font\": {\"color\": \"steelblue\"}, \"showarrow\": false, \"text\": \"1.510\", \"x\": 1.1177, \"y\": -3.4424, \"yshift\": 15, \"z\": 1.5793}, {\"font\": {\"color\": \"steelblue\"}, \"showarrow\": false, \"text\": \"1.510\", \"x\": 0.2277, \"y\": -3.9682, \"yshift\": 15, \"z\": 0.8581000000000001}, {\"font\": {\"color\": \"steelblue\"}, \"showarrow\": false, \"text\": \"1.672\", \"x\": 0.10155, \"y\": -2.76495, \"yshift\": 15, \"z\": 1.0668}, {\"font\": {\"color\": \"steelblue\"}, \"showarrow\": false, \"text\": 1.552, \"x\": 0.8987, \"y\": -1.3923999999999999, \"yshift\": 15, \"z\": -0.9575}]}], \"label\": \"Indices & Bond Lengths\", \"method\": \"relayout\"}, {\"args\": [{\"scene.annotations\": [{\"font\": {\"color\": \"steelblue\"}, \"showarrow\": false, \"text\": \"0.977\", \"x\": 0.40669999999999995, \"y\": 1.7146000000000001, \"yshift\": 15, \"z\": 0.56185}, {\"font\": {\"color\": \"steelblue\"}, \"showarrow\": false, \"text\": \"0.975\", \"x\": -1.8026, \"y\": 0.038949999999999985, \"yshift\": 15, \"z\": -0.37310000000000004}, {\"font\": {\"color\": \"steelblue\"}, \"showarrow\": false, \"text\": \"1.033\", \"x\": 1.3557000000000001, \"y\": -2.51125, \"yshift\": 15, \"z\": -0.52}, {\"font\": {\"color\": \"steelblue\"}, \"showarrow\": false, \"text\": \"1.569\", \"x\": 0.34395, \"y\": 0.6791, \"yshift\": 15, \"z\": 0.1907}, {\"font\": {\"color\": \"steelblue\"}, \"showarrow\": false, \"text\": \"1.638\", \"x\": 0.1079, \"y\": -0.4163, \"yshift\": 15, \"z\": 0.69705}, {\"font\": {\"color\": \"steelblue\"}, \"showarrow\": false, \"text\": \"1.485\", \"x\": 0.29805, \"y\": -0.3538, \"yshift\": 15, \"z\": -0.5808}, {\"font\": {\"color\": \"steelblue\"}, \"showarrow\": false, \"text\": \"1.586\", \"x\": -0.76925, \"y\": 0.18205, \"yshift\": 15, \"z\": -0.0618}, {\"font\": {\"color\": \"steelblue\"}, \"showarrow\": false, \"text\": \"1.572\", \"x\": 1.0912, \"y\": -3.1571, \"yshift\": 15, \"z\": 0.34385}, {\"font\": {\"color\": \"steelblue\"}, \"showarrow\": false, \"text\": \"1.510\", \"x\": 1.1177, \"y\": -3.4424, \"yshift\": 15, \"z\": 1.5793}, {\"font\": {\"color\": \"steelblue\"}, \"showarrow\": false, \"text\": \"1.510\", \"x\": 0.2277, \"y\": -3.9682, \"yshift\": 15, \"z\": 0.8581000000000001}, {\"font\": {\"color\": \"steelblue\"}, \"showarrow\": false, \"text\": \"1.672\", \"x\": 0.10155, \"y\": -2.76495, \"yshift\": 15, \"z\": 1.0668}, {\"font\": {\"color\": \"steelblue\"}, \"showarrow\": false, \"text\": 1.552, \"x\": 0.8987, \"y\": -1.3923999999999999, \"yshift\": 15, \"z\": -0.9575}]}], \"label\": \"Bond Lengths\", \"method\": \"relayout\"}, {\"args\": [{}], \"label\": \"Hide All\", \"method\": \"relayout\"}], \"direction\": \"down\", \"xanchor\": \"left\", \"yanchor\": \"top\"}]},                        {\"responsive\": true}                    ).then(function(){\n",
       "                            \n",
       "var gd = document.getElementById('44ae34c2-1a6b-4a06-8b59-3523e9c6218d');\n",
       "var x = new MutationObserver(function (mutations, observer) {{\n",
       "        var display = window.getComputedStyle(gd).display;\n",
       "        if (!display || display === 'none') {{\n",
       "            console.log([gd, 'removed!']);\n",
       "            Plotly.purge(gd);\n",
       "            observer.disconnect();\n",
       "        }}\n",
       "}});\n",
       "\n",
       "// Listen for the removal of the full notebook cells\n",
       "var notebookContainer = gd.closest('#notebook-container');\n",
       "if (notebookContainer) {{\n",
       "    x.observe(notebookContainer, {childList: true});\n",
       "}}\n",
       "\n",
       "// Listen for the clearing of the current output cell\n",
       "var outputEl = gd.closest('.output');\n",
       "if (outputEl) {{\n",
       "    x.observe(outputEl, {childList: true});\n",
       "}}\n",
       "\n",
       "                        })                };                });            </script>        </div>"
      ]
     },
     "metadata": {},
     "output_type": "display_data"
    },
    {
     "data": {
      "application/vnd.plotly.v1+json": {
       "config": {
        "linkText": "Export to plot.ly",
        "plotlyServerURL": "https://plot.ly",
        "showLink": false
       },
       "data": [
        {
         "marker": {
          "color": [
           "red",
           "red",
           "red",
           "red",
           "orange",
           "white",
           "white",
           "orange",
           "red",
           "red",
           "red",
           "red",
           "white"
          ],
          "line": {
           "color": "lightgray",
           "width": 2
          },
          "opacity": 0.8,
          "size": [
           27.200000000000003,
           27.200000000000003,
           27.200000000000003,
           27.200000000000003,
           42,
           9.200000000000001,
           9.200000000000001,
           42,
           27.200000000000003,
           27.200000000000003,
           27.200000000000003,
           27.200000000000003,
           9.200000000000001
          ],
          "symbol": "circle"
         },
         "mode": "markers",
         "text": [
          "O1",
          "O2",
          "O3",
          "O4",
          "P5",
          "H6",
          "H7",
          "P8",
          "O9",
          "O10",
          "O11",
          "O12",
          "H13"
         ],
         "type": "scatter3d",
         "x": [
          -0.7305,
          -0.2673,
          -0.4951,
          1.5399,
          0,
          -0.2661,
          2.1157,
          -0.6322,
          -1.5378,
          -1.4337,
          0.2403,
          0.4632,
          -1.2298
         ],
         "y": [
          -1.3425,
          0.8654,
          0.6968,
          -0.3894,
          0,
          -1.9249,
          0.2906,
          3.3868,
          3.0034,
          3.567,
          4.5945,
          2.1305,
          2.2378
         ],
         "z": [
          -0.3566,
          -1.3725,
          1.1945,
          -0.0203,
          0,
          -0.9715,
          0.3555,
          -1.0763,
          0.1509,
          -2.3358,
          -0.8622,
          -1.1916,
          0.704
         ]
        },
        {
         "hoverinfo": "none",
         "marker": {
          "color": "gray",
          "opacity": 0.1,
          "size": 3
         },
         "mode": "lines",
         "type": "scatter3d",
         "x": [
          -0.7305,
          -0.2661,
          null,
          -0.7305,
          0,
          null,
          0,
          -0.7305,
          null,
          0,
          -0.4951,
          null,
          0,
          1.5399,
          null,
          0,
          -0.2673,
          null,
          -0.2661,
          -0.7305,
          null,
          -0.2673,
          0,
          null,
          -0.4951,
          0,
          null,
          -0.4951,
          -1.2298,
          null,
          1.5399,
          0,
          null,
          1.5399,
          2.1157,
          null,
          2.1157,
          1.5399,
          null,
          -0.6322,
          0.4632,
          null,
          -0.6322,
          -1.4337,
          null,
          -0.6322,
          0.2403,
          null,
          -0.6322,
          -1.5378,
          null,
          -1.5378,
          -0.6322,
          null,
          -1.5378,
          -1.2298,
          null,
          -1.4337,
          -0.6322,
          null,
          0.2403,
          -0.6322,
          null,
          0.4632,
          -0.6322,
          null,
          -1.2298,
          -0.4951,
          null,
          -1.2298,
          -1.5378,
          null
         ],
         "y": [
          -1.3425,
          -1.9249,
          null,
          -1.3425,
          0,
          null,
          0,
          -1.3425,
          null,
          0,
          0.6968,
          null,
          0,
          -0.3894,
          null,
          0,
          0.8654,
          null,
          -1.9249,
          -1.3425,
          null,
          0.8654,
          0,
          null,
          0.6968,
          0,
          null,
          0.6968,
          2.2378,
          null,
          -0.3894,
          0,
          null,
          -0.3894,
          0.2906,
          null,
          0.2906,
          -0.3894,
          null,
          3.3868,
          2.1305,
          null,
          3.3868,
          3.567,
          null,
          3.3868,
          4.5945,
          null,
          3.3868,
          3.0034,
          null,
          3.0034,
          3.3868,
          null,
          3.0034,
          2.2378,
          null,
          3.567,
          3.3868,
          null,
          4.5945,
          3.3868,
          null,
          2.1305,
          3.3868,
          null,
          2.2378,
          0.6968,
          null,
          2.2378,
          3.0034,
          null
         ],
         "z": [
          -0.3566,
          -0.9715,
          null,
          -0.3566,
          0,
          null,
          0,
          -0.3566,
          null,
          0,
          1.1945,
          null,
          0,
          -0.0203,
          null,
          0,
          -1.3725,
          null,
          -0.9715,
          -0.3566,
          null,
          -1.3725,
          0,
          null,
          1.1945,
          0,
          null,
          1.1945,
          0.704,
          null,
          -0.0203,
          0,
          null,
          -0.0203,
          0.3555,
          null,
          0.3555,
          -0.0203,
          null,
          -1.0763,
          -1.1916,
          null,
          -1.0763,
          -2.3358,
          null,
          -1.0763,
          -0.8622,
          null,
          -1.0763,
          0.1509,
          null,
          0.1509,
          -1.0763,
          null,
          0.1509,
          0.704,
          null,
          -2.3358,
          -1.0763,
          null,
          -0.8622,
          -1.0763,
          null,
          -1.1916,
          -1.0763,
          null,
          0.704,
          1.1945,
          null,
          0.704,
          0.1509,
          null
         ]
        }
       ],
       "layout": {
        "margin": {
         "b": 0,
         "l": 0,
         "r": 0,
         "t": 0
        },
        "scene": {
         "annotations": [
          {
           "showarrow": false,
           "text": "O1",
           "x": -0.7305,
           "y": -1.3425,
           "yshift": 15,
           "z": -0.3566
          },
          {
           "showarrow": false,
           "text": "O2",
           "x": -0.2673,
           "y": 0.8654,
           "yshift": 15,
           "z": -1.3725
          },
          {
           "showarrow": false,
           "text": "O3",
           "x": -0.4951,
           "y": 0.6968,
           "yshift": 15,
           "z": 1.1945
          },
          {
           "showarrow": false,
           "text": "O4",
           "x": 1.5399,
           "y": -0.3894,
           "yshift": 15,
           "z": -0.0203
          },
          {
           "showarrow": false,
           "text": "P5",
           "x": 0,
           "y": 0,
           "yshift": 15,
           "z": 0
          },
          {
           "showarrow": false,
           "text": "H6",
           "x": -0.2661,
           "y": -1.9249,
           "yshift": 15,
           "z": -0.9715
          },
          {
           "showarrow": false,
           "text": "H7",
           "x": 2.1157,
           "y": 0.2906,
           "yshift": 15,
           "z": 0.3555
          },
          {
           "showarrow": false,
           "text": "P8",
           "x": -0.6322,
           "y": 3.3868,
           "yshift": 15,
           "z": -1.0763
          },
          {
           "showarrow": false,
           "text": "O9",
           "x": -1.5378,
           "y": 3.0034,
           "yshift": 15,
           "z": 0.1509
          },
          {
           "showarrow": false,
           "text": "O10",
           "x": -1.4337,
           "y": 3.567,
           "yshift": 15,
           "z": -2.3358
          },
          {
           "showarrow": false,
           "text": "O11",
           "x": 0.2403,
           "y": 4.5945,
           "yshift": 15,
           "z": -0.8622
          },
          {
           "showarrow": false,
           "text": "O12",
           "x": 0.4632,
           "y": 2.1305,
           "yshift": 15,
           "z": -1.1916
          },
          {
           "showarrow": false,
           "text": "H13",
           "x": -1.2298,
           "y": 2.2378,
           "yshift": 15,
           "z": 0.704
          }
         ],
         "xaxis": {
          "showbackground": true,
          "showgrid": true,
          "showticklabels": true,
          "title": {
           "font": {
            "color": "white"
           }
          },
          "zeroline": true
         },
         "yaxis": {
          "showbackground": true,
          "showgrid": true,
          "showticklabels": true,
          "title": {
           "font": {
            "color": "white"
           }
          },
          "zeroline": true
         },
         "zaxis": {
          "showbackground": true,
          "showgrid": true,
          "showticklabels": true,
          "title": {
           "font": {
            "color": "white"
           }
          },
          "zeroline": true
         }
        },
        "showlegend": false,
        "template": {
         "data": {
          "bar": [
           {
            "error_x": {
             "color": "#2a3f5f"
            },
            "error_y": {
             "color": "#2a3f5f"
            },
            "marker": {
             "line": {
              "color": "#E5ECF6",
              "width": 0.5
             }
            },
            "type": "bar"
           }
          ],
          "barpolar": [
           {
            "marker": {
             "line": {
              "color": "#E5ECF6",
              "width": 0.5
             }
            },
            "type": "barpolar"
           }
          ],
          "carpet": [
           {
            "aaxis": {
             "endlinecolor": "#2a3f5f",
             "gridcolor": "white",
             "linecolor": "white",
             "minorgridcolor": "white",
             "startlinecolor": "#2a3f5f"
            },
            "baxis": {
             "endlinecolor": "#2a3f5f",
             "gridcolor": "white",
             "linecolor": "white",
             "minorgridcolor": "white",
             "startlinecolor": "#2a3f5f"
            },
            "type": "carpet"
           }
          ],
          "choropleth": [
           {
            "colorbar": {
             "outlinewidth": 0,
             "ticks": ""
            },
            "type": "choropleth"
           }
          ],
          "contour": [
           {
            "colorbar": {
             "outlinewidth": 0,
             "ticks": ""
            },
            "colorscale": [
             [
              0,
              "#0d0887"
             ],
             [
              0.1111111111111111,
              "#46039f"
             ],
             [
              0.2222222222222222,
              "#7201a8"
             ],
             [
              0.3333333333333333,
              "#9c179e"
             ],
             [
              0.4444444444444444,
              "#bd3786"
             ],
             [
              0.5555555555555556,
              "#d8576b"
             ],
             [
              0.6666666666666666,
              "#ed7953"
             ],
             [
              0.7777777777777778,
              "#fb9f3a"
             ],
             [
              0.8888888888888888,
              "#fdca26"
             ],
             [
              1,
              "#f0f921"
             ]
            ],
            "type": "contour"
           }
          ],
          "contourcarpet": [
           {
            "colorbar": {
             "outlinewidth": 0,
             "ticks": ""
            },
            "type": "contourcarpet"
           }
          ],
          "heatmap": [
           {
            "colorbar": {
             "outlinewidth": 0,
             "ticks": ""
            },
            "colorscale": [
             [
              0,
              "#0d0887"
             ],
             [
              0.1111111111111111,
              "#46039f"
             ],
             [
              0.2222222222222222,
              "#7201a8"
             ],
             [
              0.3333333333333333,
              "#9c179e"
             ],
             [
              0.4444444444444444,
              "#bd3786"
             ],
             [
              0.5555555555555556,
              "#d8576b"
             ],
             [
              0.6666666666666666,
              "#ed7953"
             ],
             [
              0.7777777777777778,
              "#fb9f3a"
             ],
             [
              0.8888888888888888,
              "#fdca26"
             ],
             [
              1,
              "#f0f921"
             ]
            ],
            "type": "heatmap"
           }
          ],
          "heatmapgl": [
           {
            "colorbar": {
             "outlinewidth": 0,
             "ticks": ""
            },
            "colorscale": [
             [
              0,
              "#0d0887"
             ],
             [
              0.1111111111111111,
              "#46039f"
             ],
             [
              0.2222222222222222,
              "#7201a8"
             ],
             [
              0.3333333333333333,
              "#9c179e"
             ],
             [
              0.4444444444444444,
              "#bd3786"
             ],
             [
              0.5555555555555556,
              "#d8576b"
             ],
             [
              0.6666666666666666,
              "#ed7953"
             ],
             [
              0.7777777777777778,
              "#fb9f3a"
             ],
             [
              0.8888888888888888,
              "#fdca26"
             ],
             [
              1,
              "#f0f921"
             ]
            ],
            "type": "heatmapgl"
           }
          ],
          "histogram": [
           {
            "marker": {
             "colorbar": {
              "outlinewidth": 0,
              "ticks": ""
             }
            },
            "type": "histogram"
           }
          ],
          "histogram2d": [
           {
            "colorbar": {
             "outlinewidth": 0,
             "ticks": ""
            },
            "colorscale": [
             [
              0,
              "#0d0887"
             ],
             [
              0.1111111111111111,
              "#46039f"
             ],
             [
              0.2222222222222222,
              "#7201a8"
             ],
             [
              0.3333333333333333,
              "#9c179e"
             ],
             [
              0.4444444444444444,
              "#bd3786"
             ],
             [
              0.5555555555555556,
              "#d8576b"
             ],
             [
              0.6666666666666666,
              "#ed7953"
             ],
             [
              0.7777777777777778,
              "#fb9f3a"
             ],
             [
              0.8888888888888888,
              "#fdca26"
             ],
             [
              1,
              "#f0f921"
             ]
            ],
            "type": "histogram2d"
           }
          ],
          "histogram2dcontour": [
           {
            "colorbar": {
             "outlinewidth": 0,
             "ticks": ""
            },
            "colorscale": [
             [
              0,
              "#0d0887"
             ],
             [
              0.1111111111111111,
              "#46039f"
             ],
             [
              0.2222222222222222,
              "#7201a8"
             ],
             [
              0.3333333333333333,
              "#9c179e"
             ],
             [
              0.4444444444444444,
              "#bd3786"
             ],
             [
              0.5555555555555556,
              "#d8576b"
             ],
             [
              0.6666666666666666,
              "#ed7953"
             ],
             [
              0.7777777777777778,
              "#fb9f3a"
             ],
             [
              0.8888888888888888,
              "#fdca26"
             ],
             [
              1,
              "#f0f921"
             ]
            ],
            "type": "histogram2dcontour"
           }
          ],
          "mesh3d": [
           {
            "colorbar": {
             "outlinewidth": 0,
             "ticks": ""
            },
            "type": "mesh3d"
           }
          ],
          "parcoords": [
           {
            "line": {
             "colorbar": {
              "outlinewidth": 0,
              "ticks": ""
             }
            },
            "type": "parcoords"
           }
          ],
          "pie": [
           {
            "automargin": true,
            "type": "pie"
           }
          ],
          "scatter": [
           {
            "marker": {
             "colorbar": {
              "outlinewidth": 0,
              "ticks": ""
             }
            },
            "type": "scatter"
           }
          ],
          "scatter3d": [
           {
            "line": {
             "colorbar": {
              "outlinewidth": 0,
              "ticks": ""
             }
            },
            "marker": {
             "colorbar": {
              "outlinewidth": 0,
              "ticks": ""
             }
            },
            "type": "scatter3d"
           }
          ],
          "scattercarpet": [
           {
            "marker": {
             "colorbar": {
              "outlinewidth": 0,
              "ticks": ""
             }
            },
            "type": "scattercarpet"
           }
          ],
          "scattergeo": [
           {
            "marker": {
             "colorbar": {
              "outlinewidth": 0,
              "ticks": ""
             }
            },
            "type": "scattergeo"
           }
          ],
          "scattergl": [
           {
            "marker": {
             "colorbar": {
              "outlinewidth": 0,
              "ticks": ""
             }
            },
            "type": "scattergl"
           }
          ],
          "scattermapbox": [
           {
            "marker": {
             "colorbar": {
              "outlinewidth": 0,
              "ticks": ""
             }
            },
            "type": "scattermapbox"
           }
          ],
          "scatterpolar": [
           {
            "marker": {
             "colorbar": {
              "outlinewidth": 0,
              "ticks": ""
             }
            },
            "type": "scatterpolar"
           }
          ],
          "scatterpolargl": [
           {
            "marker": {
             "colorbar": {
              "outlinewidth": 0,
              "ticks": ""
             }
            },
            "type": "scatterpolargl"
           }
          ],
          "scatterternary": [
           {
            "marker": {
             "colorbar": {
              "outlinewidth": 0,
              "ticks": ""
             }
            },
            "type": "scatterternary"
           }
          ],
          "surface": [
           {
            "colorbar": {
             "outlinewidth": 0,
             "ticks": ""
            },
            "colorscale": [
             [
              0,
              "#0d0887"
             ],
             [
              0.1111111111111111,
              "#46039f"
             ],
             [
              0.2222222222222222,
              "#7201a8"
             ],
             [
              0.3333333333333333,
              "#9c179e"
             ],
             [
              0.4444444444444444,
              "#bd3786"
             ],
             [
              0.5555555555555556,
              "#d8576b"
             ],
             [
              0.6666666666666666,
              "#ed7953"
             ],
             [
              0.7777777777777778,
              "#fb9f3a"
             ],
             [
              0.8888888888888888,
              "#fdca26"
             ],
             [
              1,
              "#f0f921"
             ]
            ],
            "type": "surface"
           }
          ],
          "table": [
           {
            "cells": {
             "fill": {
              "color": "#EBF0F8"
             },
             "line": {
              "color": "white"
             }
            },
            "header": {
             "fill": {
              "color": "#C8D4E3"
             },
             "line": {
              "color": "white"
             }
            },
            "type": "table"
           }
          ]
         },
         "layout": {
          "annotationdefaults": {
           "arrowcolor": "#2a3f5f",
           "arrowhead": 0,
           "arrowwidth": 1
          },
          "coloraxis": {
           "colorbar": {
            "outlinewidth": 0,
            "ticks": ""
           }
          },
          "colorscale": {
           "diverging": [
            [
             0,
             "#8e0152"
            ],
            [
             0.1,
             "#c51b7d"
            ],
            [
             0.2,
             "#de77ae"
            ],
            [
             0.3,
             "#f1b6da"
            ],
            [
             0.4,
             "#fde0ef"
            ],
            [
             0.5,
             "#f7f7f7"
            ],
            [
             0.6,
             "#e6f5d0"
            ],
            [
             0.7,
             "#b8e186"
            ],
            [
             0.8,
             "#7fbc41"
            ],
            [
             0.9,
             "#4d9221"
            ],
            [
             1,
             "#276419"
            ]
           ],
           "sequential": [
            [
             0,
             "#0d0887"
            ],
            [
             0.1111111111111111,
             "#46039f"
            ],
            [
             0.2222222222222222,
             "#7201a8"
            ],
            [
             0.3333333333333333,
             "#9c179e"
            ],
            [
             0.4444444444444444,
             "#bd3786"
            ],
            [
             0.5555555555555556,
             "#d8576b"
            ],
            [
             0.6666666666666666,
             "#ed7953"
            ],
            [
             0.7777777777777778,
             "#fb9f3a"
            ],
            [
             0.8888888888888888,
             "#fdca26"
            ],
            [
             1,
             "#f0f921"
            ]
           ],
           "sequentialminus": [
            [
             0,
             "#0d0887"
            ],
            [
             0.1111111111111111,
             "#46039f"
            ],
            [
             0.2222222222222222,
             "#7201a8"
            ],
            [
             0.3333333333333333,
             "#9c179e"
            ],
            [
             0.4444444444444444,
             "#bd3786"
            ],
            [
             0.5555555555555556,
             "#d8576b"
            ],
            [
             0.6666666666666666,
             "#ed7953"
            ],
            [
             0.7777777777777778,
             "#fb9f3a"
            ],
            [
             0.8888888888888888,
             "#fdca26"
            ],
            [
             1,
             "#f0f921"
            ]
           ]
          },
          "colorway": [
           "#636efa",
           "#EF553B",
           "#00cc96",
           "#ab63fa",
           "#FFA15A",
           "#19d3f3",
           "#FF6692",
           "#B6E880",
           "#FF97FF",
           "#FECB52"
          ],
          "font": {
           "color": "#2a3f5f"
          },
          "geo": {
           "bgcolor": "white",
           "lakecolor": "white",
           "landcolor": "#E5ECF6",
           "showlakes": true,
           "showland": true,
           "subunitcolor": "white"
          },
          "hoverlabel": {
           "align": "left"
          },
          "hovermode": "closest",
          "mapbox": {
           "style": "light"
          },
          "paper_bgcolor": "white",
          "plot_bgcolor": "#E5ECF6",
          "polar": {
           "angularaxis": {
            "gridcolor": "white",
            "linecolor": "white",
            "ticks": ""
           },
           "bgcolor": "#E5ECF6",
           "radialaxis": {
            "gridcolor": "white",
            "linecolor": "white",
            "ticks": ""
           }
          },
          "scene": {
           "xaxis": {
            "backgroundcolor": "#E5ECF6",
            "gridcolor": "white",
            "gridwidth": 2,
            "linecolor": "white",
            "showbackground": true,
            "ticks": "",
            "zerolinecolor": "white"
           },
           "yaxis": {
            "backgroundcolor": "#E5ECF6",
            "gridcolor": "white",
            "gridwidth": 2,
            "linecolor": "white",
            "showbackground": true,
            "ticks": "",
            "zerolinecolor": "white"
           },
           "zaxis": {
            "backgroundcolor": "#E5ECF6",
            "gridcolor": "white",
            "gridwidth": 2,
            "linecolor": "white",
            "showbackground": true,
            "ticks": "",
            "zerolinecolor": "white"
           }
          },
          "shapedefaults": {
           "line": {
            "color": "#2a3f5f"
           }
          },
          "ternary": {
           "aaxis": {
            "gridcolor": "white",
            "linecolor": "white",
            "ticks": ""
           },
           "baxis": {
            "gridcolor": "white",
            "linecolor": "white",
            "ticks": ""
           },
           "bgcolor": "#E5ECF6",
           "caxis": {
            "gridcolor": "white",
            "linecolor": "white",
            "ticks": ""
           }
          },
          "title": {
           "x": 0.05
          },
          "xaxis": {
           "automargin": true,
           "gridcolor": "white",
           "linecolor": "white",
           "ticks": "",
           "title": {
            "standoff": 15
           },
           "zerolinecolor": "white",
           "zerolinewidth": 2
          },
          "yaxis": {
           "automargin": true,
           "gridcolor": "white",
           "linecolor": "white",
           "ticks": "",
           "title": {
            "standoff": 15
           },
           "zerolinecolor": "white",
           "zerolinewidth": 2
          }
         }
        },
        "updatemenus": [
         {
          "buttons": [
           {
            "args": [
             {
              "scene.annotations": [
               {
                "showarrow": false,
                "text": "O1",
                "x": -0.7305,
                "y": -1.3425,
                "yshift": 15,
                "z": -0.3566
               },
               {
                "showarrow": false,
                "text": "O2",
                "x": -0.2673,
                "y": 0.8654,
                "yshift": 15,
                "z": -1.3725
               },
               {
                "showarrow": false,
                "text": "O3",
                "x": -0.4951,
                "y": 0.6968,
                "yshift": 15,
                "z": 1.1945
               },
               {
                "showarrow": false,
                "text": "O4",
                "x": 1.5399,
                "y": -0.3894,
                "yshift": 15,
                "z": -0.0203
               },
               {
                "showarrow": false,
                "text": "P5",
                "x": 0,
                "y": 0,
                "yshift": 15,
                "z": 0
               },
               {
                "showarrow": false,
                "text": "H6",
                "x": -0.2661,
                "y": -1.9249,
                "yshift": 15,
                "z": -0.9715
               },
               {
                "showarrow": false,
                "text": "H7",
                "x": 2.1157,
                "y": 0.2906,
                "yshift": 15,
                "z": 0.3555
               },
               {
                "showarrow": false,
                "text": "P8",
                "x": -0.6322,
                "y": 3.3868,
                "yshift": 15,
                "z": -1.0763
               },
               {
                "showarrow": false,
                "text": "O9",
                "x": -1.5378,
                "y": 3.0034,
                "yshift": 15,
                "z": 0.1509
               },
               {
                "showarrow": false,
                "text": "O10",
                "x": -1.4337,
                "y": 3.567,
                "yshift": 15,
                "z": -2.3358
               },
               {
                "showarrow": false,
                "text": "O11",
                "x": 0.2403,
                "y": 4.5945,
                "yshift": 15,
                "z": -0.8622
               },
               {
                "showarrow": false,
                "text": "O12",
                "x": 0.4632,
                "y": 2.1305,
                "yshift": 15,
                "z": -1.1916
               },
               {
                "showarrow": false,
                "text": "H13",
                "x": -1.2298,
                "y": 2.2378,
                "yshift": 15,
                "z": 0.704
               }
              ]
             }
            ],
            "label": "Elements",
            "method": "relayout"
           },
           {
            "args": [
             {
              "scene.annotations": [
               {
                "showarrow": false,
                "text": "O1",
                "x": -0.7305,
                "y": -1.3425,
                "yshift": 15,
                "z": -0.3566
               },
               {
                "showarrow": false,
                "text": "O2",
                "x": -0.2673,
                "y": 0.8654,
                "yshift": 15,
                "z": -1.3725
               },
               {
                "showarrow": false,
                "text": "O3",
                "x": -0.4951,
                "y": 0.6968,
                "yshift": 15,
                "z": 1.1945
               },
               {
                "showarrow": false,
                "text": "O4",
                "x": 1.5399,
                "y": -0.3894,
                "yshift": 15,
                "z": -0.0203
               },
               {
                "showarrow": false,
                "text": "P5",
                "x": 0,
                "y": 0,
                "yshift": 15,
                "z": 0
               },
               {
                "showarrow": false,
                "text": "H6",
                "x": -0.2661,
                "y": -1.9249,
                "yshift": 15,
                "z": -0.9715
               },
               {
                "showarrow": false,
                "text": "H7",
                "x": 2.1157,
                "y": 0.2906,
                "yshift": 15,
                "z": 0.3555
               },
               {
                "showarrow": false,
                "text": "P8",
                "x": -0.6322,
                "y": 3.3868,
                "yshift": 15,
                "z": -1.0763
               },
               {
                "showarrow": false,
                "text": "O9",
                "x": -1.5378,
                "y": 3.0034,
                "yshift": 15,
                "z": 0.1509
               },
               {
                "showarrow": false,
                "text": "O10",
                "x": -1.4337,
                "y": 3.567,
                "yshift": 15,
                "z": -2.3358
               },
               {
                "showarrow": false,
                "text": "O11",
                "x": 0.2403,
                "y": 4.5945,
                "yshift": 15,
                "z": -0.8622
               },
               {
                "showarrow": false,
                "text": "O12",
                "x": 0.4632,
                "y": 2.1305,
                "yshift": 15,
                "z": -1.1916
               },
               {
                "showarrow": false,
                "text": "H13",
                "x": -1.2298,
                "y": 2.2378,
                "yshift": 15,
                "z": 0.704
               },
               {
                "font": {
                 "color": "steelblue"
                },
                "showarrow": false,
                "text": "1.569",
                "x": -0.36525,
                "y": -0.67125,
                "yshift": 15,
                "z": -0.1783
               },
               {
                "font": {
                 "color": "steelblue"
                },
                "showarrow": false,
                "text": "0.966",
                "x": -0.4983,
                "y": -1.6337000000000002,
                "yshift": 15,
                "z": -0.66405
               },
               {
                "font": {
                 "color": "steelblue"
                },
                "showarrow": false,
                "text": "1.644",
                "x": -0.13365,
                "y": 0.4327,
                "yshift": 15,
                "z": -0.68625
               },
               {
                "font": {
                 "color": "steelblue"
                },
                "showarrow": false,
                "text": "1.469",
                "x": -0.24755,
                "y": 0.3484,
                "yshift": 15,
                "z": 0.59725
               },
               {
                "font": {
                 "color": "steelblue"
                },
                "showarrow": false,
                "text": "1.589",
                "x": 0.76995,
                "y": -0.1947,
                "yshift": 15,
                "z": -0.01015
               },
               {
                "font": {
                 "color": "steelblue"
                },
                "showarrow": false,
                "text": "0.967",
                "x": 1.8277999999999999,
                "y": -0.0494,
                "yshift": 15,
                "z": 0.1676
               },
               {
                "font": {
                 "color": "steelblue"
                },
                "showarrow": false,
                "text": "1.573",
                "x": -1.085,
                "y": 3.1951,
                "yshift": 15,
                "z": -0.4627
               },
               {
                "font": {
                 "color": "steelblue"
                },
                "showarrow": false,
                "text": "1.504",
                "x": -1.03295,
                "y": 3.4769,
                "yshift": 15,
                "z": -1.7060499999999998
               },
               {
                "font": {
                 "color": "steelblue"
                },
                "showarrow": false,
                "text": "1.505",
                "x": -0.19594999999999999,
                "y": 3.99065,
                "yshift": 15,
                "z": -0.96925
               },
               {
                "font": {
                 "color": "steelblue"
                },
                "showarrow": false,
                "text": "1.671",
                "x": -0.08449999999999999,
                "y": 2.7586500000000003,
                "yshift": 15,
                "z": -1.13395
               },
               {
                "font": {
                 "color": "steelblue"
                },
                "showarrow": false,
                "text": "0.993",
                "x": -1.3838,
                "y": 2.6206,
                "yshift": 15,
                "z": 0.42745
               },
               {
                "font": {
                 "color": "steelblue"
                },
                "showarrow": false,
                "text": 1.776,
                "x": -0.8624499999999999,
                "y": 1.4673,
                "yshift": 15,
                "z": 0.9492499999999999
               }
              ]
             }
            ],
            "label": "Element & Bond Lengths",
            "method": "relayout"
           },
           {
            "args": [
             {
              "scene.annotations": [
               {
                "showarrow": false,
                "text": 0,
                "x": -0.7305,
                "y": -1.3425,
                "yshift": 15,
                "z": -0.3566
               },
               {
                "showarrow": false,
                "text": 1,
                "x": -0.2673,
                "y": 0.8654,
                "yshift": 15,
                "z": -1.3725
               },
               {
                "showarrow": false,
                "text": 2,
                "x": -0.4951,
                "y": 0.6968,
                "yshift": 15,
                "z": 1.1945
               },
               {
                "showarrow": false,
                "text": 3,
                "x": 1.5399,
                "y": -0.3894,
                "yshift": 15,
                "z": -0.0203
               },
               {
                "showarrow": false,
                "text": 4,
                "x": 0,
                "y": 0,
                "yshift": 15,
                "z": 0
               },
               {
                "showarrow": false,
                "text": 5,
                "x": -0.2661,
                "y": -1.9249,
                "yshift": 15,
                "z": -0.9715
               },
               {
                "showarrow": false,
                "text": 6,
                "x": 2.1157,
                "y": 0.2906,
                "yshift": 15,
                "z": 0.3555
               },
               {
                "showarrow": false,
                "text": 7,
                "x": -0.6322,
                "y": 3.3868,
                "yshift": 15,
                "z": -1.0763
               },
               {
                "showarrow": false,
                "text": 8,
                "x": -1.5378,
                "y": 3.0034,
                "yshift": 15,
                "z": 0.1509
               },
               {
                "showarrow": false,
                "text": 9,
                "x": -1.4337,
                "y": 3.567,
                "yshift": 15,
                "z": -2.3358
               },
               {
                "showarrow": false,
                "text": 10,
                "x": 0.2403,
                "y": 4.5945,
                "yshift": 15,
                "z": -0.8622
               },
               {
                "showarrow": false,
                "text": 11,
                "x": 0.4632,
                "y": 2.1305,
                "yshift": 15,
                "z": -1.1916
               },
               {
                "showarrow": false,
                "text": 12,
                "x": -1.2298,
                "y": 2.2378,
                "yshift": 15,
                "z": 0.704
               }
              ]
             }
            ],
            "label": "Indices",
            "method": "relayout"
           },
           {
            "args": [
             {
              "scene.annotations": [
               {
                "showarrow": false,
                "text": 0,
                "x": -0.7305,
                "y": -1.3425,
                "yshift": 15,
                "z": -0.3566
               },
               {
                "showarrow": false,
                "text": 1,
                "x": -0.2673,
                "y": 0.8654,
                "yshift": 15,
                "z": -1.3725
               },
               {
                "showarrow": false,
                "text": 2,
                "x": -0.4951,
                "y": 0.6968,
                "yshift": 15,
                "z": 1.1945
               },
               {
                "showarrow": false,
                "text": 3,
                "x": 1.5399,
                "y": -0.3894,
                "yshift": 15,
                "z": -0.0203
               },
               {
                "showarrow": false,
                "text": 4,
                "x": 0,
                "y": 0,
                "yshift": 15,
                "z": 0
               },
               {
                "showarrow": false,
                "text": 5,
                "x": -0.2661,
                "y": -1.9249,
                "yshift": 15,
                "z": -0.9715
               },
               {
                "showarrow": false,
                "text": 6,
                "x": 2.1157,
                "y": 0.2906,
                "yshift": 15,
                "z": 0.3555
               },
               {
                "showarrow": false,
                "text": 7,
                "x": -0.6322,
                "y": 3.3868,
                "yshift": 15,
                "z": -1.0763
               },
               {
                "showarrow": false,
                "text": 8,
                "x": -1.5378,
                "y": 3.0034,
                "yshift": 15,
                "z": 0.1509
               },
               {
                "showarrow": false,
                "text": 9,
                "x": -1.4337,
                "y": 3.567,
                "yshift": 15,
                "z": -2.3358
               },
               {
                "showarrow": false,
                "text": 10,
                "x": 0.2403,
                "y": 4.5945,
                "yshift": 15,
                "z": -0.8622
               },
               {
                "showarrow": false,
                "text": 11,
                "x": 0.4632,
                "y": 2.1305,
                "yshift": 15,
                "z": -1.1916
               },
               {
                "showarrow": false,
                "text": 12,
                "x": -1.2298,
                "y": 2.2378,
                "yshift": 15,
                "z": 0.704
               },
               {
                "font": {
                 "color": "steelblue"
                },
                "showarrow": false,
                "text": "1.569",
                "x": -0.36525,
                "y": -0.67125,
                "yshift": 15,
                "z": -0.1783
               },
               {
                "font": {
                 "color": "steelblue"
                },
                "showarrow": false,
                "text": "0.966",
                "x": -0.4983,
                "y": -1.6337000000000002,
                "yshift": 15,
                "z": -0.66405
               },
               {
                "font": {
                 "color": "steelblue"
                },
                "showarrow": false,
                "text": "1.644",
                "x": -0.13365,
                "y": 0.4327,
                "yshift": 15,
                "z": -0.68625
               },
               {
                "font": {
                 "color": "steelblue"
                },
                "showarrow": false,
                "text": "1.469",
                "x": -0.24755,
                "y": 0.3484,
                "yshift": 15,
                "z": 0.59725
               },
               {
                "font": {
                 "color": "steelblue"
                },
                "showarrow": false,
                "text": "1.589",
                "x": 0.76995,
                "y": -0.1947,
                "yshift": 15,
                "z": -0.01015
               },
               {
                "font": {
                 "color": "steelblue"
                },
                "showarrow": false,
                "text": "0.967",
                "x": 1.8277999999999999,
                "y": -0.0494,
                "yshift": 15,
                "z": 0.1676
               },
               {
                "font": {
                 "color": "steelblue"
                },
                "showarrow": false,
                "text": "1.573",
                "x": -1.085,
                "y": 3.1951,
                "yshift": 15,
                "z": -0.4627
               },
               {
                "font": {
                 "color": "steelblue"
                },
                "showarrow": false,
                "text": "1.504",
                "x": -1.03295,
                "y": 3.4769,
                "yshift": 15,
                "z": -1.7060499999999998
               },
               {
                "font": {
                 "color": "steelblue"
                },
                "showarrow": false,
                "text": "1.505",
                "x": -0.19594999999999999,
                "y": 3.99065,
                "yshift": 15,
                "z": -0.96925
               },
               {
                "font": {
                 "color": "steelblue"
                },
                "showarrow": false,
                "text": "1.671",
                "x": -0.08449999999999999,
                "y": 2.7586500000000003,
                "yshift": 15,
                "z": -1.13395
               },
               {
                "font": {
                 "color": "steelblue"
                },
                "showarrow": false,
                "text": "0.993",
                "x": -1.3838,
                "y": 2.6206,
                "yshift": 15,
                "z": 0.42745
               },
               {
                "font": {
                 "color": "steelblue"
                },
                "showarrow": false,
                "text": 1.776,
                "x": -0.8624499999999999,
                "y": 1.4673,
                "yshift": 15,
                "z": 0.9492499999999999
               }
              ]
             }
            ],
            "label": "Indices & Bond Lengths",
            "method": "relayout"
           },
           {
            "args": [
             {
              "scene.annotations": [
               {
                "font": {
                 "color": "steelblue"
                },
                "showarrow": false,
                "text": "1.569",
                "x": -0.36525,
                "y": -0.67125,
                "yshift": 15,
                "z": -0.1783
               },
               {
                "font": {
                 "color": "steelblue"
                },
                "showarrow": false,
                "text": "0.966",
                "x": -0.4983,
                "y": -1.6337000000000002,
                "yshift": 15,
                "z": -0.66405
               },
               {
                "font": {
                 "color": "steelblue"
                },
                "showarrow": false,
                "text": "1.644",
                "x": -0.13365,
                "y": 0.4327,
                "yshift": 15,
                "z": -0.68625
               },
               {
                "font": {
                 "color": "steelblue"
                },
                "showarrow": false,
                "text": "1.469",
                "x": -0.24755,
                "y": 0.3484,
                "yshift": 15,
                "z": 0.59725
               },
               {
                "font": {
                 "color": "steelblue"
                },
                "showarrow": false,
                "text": "1.589",
                "x": 0.76995,
                "y": -0.1947,
                "yshift": 15,
                "z": -0.01015
               },
               {
                "font": {
                 "color": "steelblue"
                },
                "showarrow": false,
                "text": "0.967",
                "x": 1.8277999999999999,
                "y": -0.0494,
                "yshift": 15,
                "z": 0.1676
               },
               {
                "font": {
                 "color": "steelblue"
                },
                "showarrow": false,
                "text": "1.573",
                "x": -1.085,
                "y": 3.1951,
                "yshift": 15,
                "z": -0.4627
               },
               {
                "font": {
                 "color": "steelblue"
                },
                "showarrow": false,
                "text": "1.504",
                "x": -1.03295,
                "y": 3.4769,
                "yshift": 15,
                "z": -1.7060499999999998
               },
               {
                "font": {
                 "color": "steelblue"
                },
                "showarrow": false,
                "text": "1.505",
                "x": -0.19594999999999999,
                "y": 3.99065,
                "yshift": 15,
                "z": -0.96925
               },
               {
                "font": {
                 "color": "steelblue"
                },
                "showarrow": false,
                "text": "1.671",
                "x": -0.08449999999999999,
                "y": 2.7586500000000003,
                "yshift": 15,
                "z": -1.13395
               },
               {
                "font": {
                 "color": "steelblue"
                },
                "showarrow": false,
                "text": "0.993",
                "x": -1.3838,
                "y": 2.6206,
                "yshift": 15,
                "z": 0.42745
               },
               {
                "font": {
                 "color": "steelblue"
                },
                "showarrow": false,
                "text": 1.776,
                "x": -0.8624499999999999,
                "y": 1.4673,
                "yshift": 15,
                "z": 0.9492499999999999
               }
              ]
             }
            ],
            "label": "Bond Lengths",
            "method": "relayout"
           },
           {
            "args": [
             {}
            ],
            "label": "Hide All",
            "method": "relayout"
           }
          ],
          "direction": "down",
          "xanchor": "left",
          "yanchor": "top"
         }
        ]
       }
      },
      "text/html": [
       "<div>                            <div id=\"c6157b0b-edd3-4b8d-be69-4186113ee9ea\" class=\"plotly-graph-div\" style=\"height:525px; width:100%;\"></div>            <script type=\"text/javascript\">                require([\"plotly\"], function(Plotly) {                    window.PLOTLYENV=window.PLOTLYENV || {};                                    if (document.getElementById(\"c6157b0b-edd3-4b8d-be69-4186113ee9ea\")) {                    Plotly.newPlot(                        \"c6157b0b-edd3-4b8d-be69-4186113ee9ea\",                        [{\"marker\": {\"color\": [\"red\", \"red\", \"red\", \"red\", \"orange\", \"white\", \"white\", \"orange\", \"red\", \"red\", \"red\", \"red\", \"white\"], \"line\": {\"color\": \"lightgray\", \"width\": 2}, \"opacity\": 0.8, \"size\": [27.200000000000003, 27.200000000000003, 27.200000000000003, 27.200000000000003, 42.0, 9.200000000000001, 9.200000000000001, 42.0, 27.200000000000003, 27.200000000000003, 27.200000000000003, 27.200000000000003, 9.200000000000001], \"symbol\": \"circle\"}, \"mode\": \"markers\", \"text\": [\"O1\", \"O2\", \"O3\", \"O4\", \"P5\", \"H6\", \"H7\", \"P8\", \"O9\", \"O10\", \"O11\", \"O12\", \"H13\"], \"type\": \"scatter3d\", \"x\": [-0.7305, -0.2673, -0.4951, 1.5399, 0.0, -0.2661, 2.1157, -0.6322, -1.5378, -1.4337, 0.2403, 0.4632, -1.2298], \"y\": [-1.3425, 0.8654, 0.6968, -0.3894, 0.0, -1.9249, 0.2906, 3.3868, 3.0034, 3.567, 4.5945, 2.1305, 2.2378], \"z\": [-0.3566, -1.3725, 1.1945, -0.0203, 0.0, -0.9715, 0.3555, -1.0763, 0.1509, -2.3358, -0.8622, -1.1916, 0.704]}, {\"hoverinfo\": \"none\", \"marker\": {\"color\": \"gray\", \"opacity\": 0.1, \"size\": 3}, \"mode\": \"lines\", \"type\": \"scatter3d\", \"x\": [-0.7305, -0.2661, null, -0.7305, 0.0, null, 0.0, -0.7305, null, 0.0, -0.4951, null, 0.0, 1.5399, null, 0.0, -0.2673, null, -0.2661, -0.7305, null, -0.2673, 0.0, null, -0.4951, 0.0, null, -0.4951, -1.2298, null, 1.5399, 0.0, null, 1.5399, 2.1157, null, 2.1157, 1.5399, null, -0.6322, 0.4632, null, -0.6322, -1.4337, null, -0.6322, 0.2403, null, -0.6322, -1.5378, null, -1.5378, -0.6322, null, -1.5378, -1.2298, null, -1.4337, -0.6322, null, 0.2403, -0.6322, null, 0.4632, -0.6322, null, -1.2298, -0.4951, null, -1.2298, -1.5378, null], \"y\": [-1.3425, -1.9249, null, -1.3425, 0.0, null, 0.0, -1.3425, null, 0.0, 0.6968, null, 0.0, -0.3894, null, 0.0, 0.8654, null, -1.9249, -1.3425, null, 0.8654, 0.0, null, 0.6968, 0.0, null, 0.6968, 2.2378, null, -0.3894, 0.0, null, -0.3894, 0.2906, null, 0.2906, -0.3894, null, 3.3868, 2.1305, null, 3.3868, 3.567, null, 3.3868, 4.5945, null, 3.3868, 3.0034, null, 3.0034, 3.3868, null, 3.0034, 2.2378, null, 3.567, 3.3868, null, 4.5945, 3.3868, null, 2.1305, 3.3868, null, 2.2378, 0.6968, null, 2.2378, 3.0034, null], \"z\": [-0.3566, -0.9715, null, -0.3566, 0.0, null, 0.0, -0.3566, null, 0.0, 1.1945, null, 0.0, -0.0203, null, 0.0, -1.3725, null, -0.9715, -0.3566, null, -1.3725, 0.0, null, 1.1945, 0.0, null, 1.1945, 0.704, null, -0.0203, 0.0, null, -0.0203, 0.3555, null, 0.3555, -0.0203, null, -1.0763, -1.1916, null, -1.0763, -2.3358, null, -1.0763, -0.8622, null, -1.0763, 0.1509, null, 0.1509, -1.0763, null, 0.1509, 0.704, null, -2.3358, -1.0763, null, -0.8622, -1.0763, null, -1.1916, -1.0763, null, 0.704, 1.1945, null, 0.704, 0.1509, null]}],                        {\"margin\": {\"b\": 0, \"l\": 0, \"r\": 0, \"t\": 0}, \"scene\": {\"annotations\": [{\"showarrow\": false, \"text\": \"O1\", \"x\": -0.7305, \"y\": -1.3425, \"yshift\": 15, \"z\": -0.3566}, {\"showarrow\": false, \"text\": \"O2\", \"x\": -0.2673, \"y\": 0.8654, \"yshift\": 15, \"z\": -1.3725}, {\"showarrow\": false, \"text\": \"O3\", \"x\": -0.4951, \"y\": 0.6968, \"yshift\": 15, \"z\": 1.1945}, {\"showarrow\": false, \"text\": \"O4\", \"x\": 1.5399, \"y\": -0.3894, \"yshift\": 15, \"z\": -0.0203}, {\"showarrow\": false, \"text\": \"P5\", \"x\": 0.0, \"y\": 0.0, \"yshift\": 15, \"z\": 0.0}, {\"showarrow\": false, \"text\": \"H6\", \"x\": -0.2661, \"y\": -1.9249, \"yshift\": 15, \"z\": -0.9715}, {\"showarrow\": false, \"text\": \"H7\", \"x\": 2.1157, \"y\": 0.2906, \"yshift\": 15, \"z\": 0.3555}, {\"showarrow\": false, \"text\": \"P8\", \"x\": -0.6322, \"y\": 3.3868, \"yshift\": 15, \"z\": -1.0763}, {\"showarrow\": false, \"text\": \"O9\", \"x\": -1.5378, \"y\": 3.0034, \"yshift\": 15, \"z\": 0.1509}, {\"showarrow\": false, \"text\": \"O10\", \"x\": -1.4337, \"y\": 3.567, \"yshift\": 15, \"z\": -2.3358}, {\"showarrow\": false, \"text\": \"O11\", \"x\": 0.2403, \"y\": 4.5945, \"yshift\": 15, \"z\": -0.8622}, {\"showarrow\": false, \"text\": \"O12\", \"x\": 0.4632, \"y\": 2.1305, \"yshift\": 15, \"z\": -1.1916}, {\"showarrow\": false, \"text\": \"H13\", \"x\": -1.2298, \"y\": 2.2378, \"yshift\": 15, \"z\": 0.704}], \"xaxis\": {\"showbackground\": true, \"showgrid\": true, \"showticklabels\": true, \"title\": {\"font\": {\"color\": \"white\"}}, \"zeroline\": true}, \"yaxis\": {\"showbackground\": true, \"showgrid\": true, \"showticklabels\": true, \"title\": {\"font\": {\"color\": \"white\"}}, \"zeroline\": true}, \"zaxis\": {\"showbackground\": true, \"showgrid\": true, \"showticklabels\": true, \"title\": {\"font\": {\"color\": \"white\"}}, \"zeroline\": true}}, \"showlegend\": false, \"template\": {\"data\": {\"bar\": [{\"error_x\": {\"color\": \"#2a3f5f\"}, \"error_y\": {\"color\": \"#2a3f5f\"}, \"marker\": {\"line\": {\"color\": \"#E5ECF6\", \"width\": 0.5}}, \"type\": \"bar\"}], \"barpolar\": [{\"marker\": {\"line\": {\"color\": \"#E5ECF6\", \"width\": 0.5}}, \"type\": \"barpolar\"}], \"carpet\": [{\"aaxis\": {\"endlinecolor\": \"#2a3f5f\", \"gridcolor\": \"white\", \"linecolor\": \"white\", \"minorgridcolor\": \"white\", \"startlinecolor\": \"#2a3f5f\"}, \"baxis\": {\"endlinecolor\": \"#2a3f5f\", \"gridcolor\": \"white\", \"linecolor\": \"white\", \"minorgridcolor\": \"white\", \"startlinecolor\": \"#2a3f5f\"}, \"type\": \"carpet\"}], \"choropleth\": [{\"colorbar\": {\"outlinewidth\": 0, \"ticks\": \"\"}, \"type\": \"choropleth\"}], \"contour\": [{\"colorbar\": {\"outlinewidth\": 0, \"ticks\": \"\"}, \"colorscale\": [[0.0, \"#0d0887\"], [0.1111111111111111, \"#46039f\"], [0.2222222222222222, \"#7201a8\"], [0.3333333333333333, \"#9c179e\"], [0.4444444444444444, \"#bd3786\"], [0.5555555555555556, \"#d8576b\"], [0.6666666666666666, \"#ed7953\"], [0.7777777777777778, \"#fb9f3a\"], [0.8888888888888888, \"#fdca26\"], [1.0, \"#f0f921\"]], \"type\": \"contour\"}], \"contourcarpet\": [{\"colorbar\": {\"outlinewidth\": 0, \"ticks\": \"\"}, \"type\": \"contourcarpet\"}], \"heatmap\": [{\"colorbar\": {\"outlinewidth\": 0, \"ticks\": \"\"}, \"colorscale\": [[0.0, \"#0d0887\"], [0.1111111111111111, \"#46039f\"], [0.2222222222222222, \"#7201a8\"], [0.3333333333333333, \"#9c179e\"], [0.4444444444444444, \"#bd3786\"], [0.5555555555555556, \"#d8576b\"], [0.6666666666666666, \"#ed7953\"], [0.7777777777777778, \"#fb9f3a\"], [0.8888888888888888, \"#fdca26\"], [1.0, \"#f0f921\"]], \"type\": \"heatmap\"}], \"heatmapgl\": [{\"colorbar\": {\"outlinewidth\": 0, \"ticks\": \"\"}, \"colorscale\": [[0.0, \"#0d0887\"], [0.1111111111111111, \"#46039f\"], [0.2222222222222222, \"#7201a8\"], [0.3333333333333333, \"#9c179e\"], [0.4444444444444444, \"#bd3786\"], [0.5555555555555556, \"#d8576b\"], [0.6666666666666666, \"#ed7953\"], [0.7777777777777778, \"#fb9f3a\"], [0.8888888888888888, \"#fdca26\"], [1.0, \"#f0f921\"]], \"type\": \"heatmapgl\"}], \"histogram\": [{\"marker\": {\"colorbar\": {\"outlinewidth\": 0, \"ticks\": \"\"}}, \"type\": \"histogram\"}], \"histogram2d\": [{\"colorbar\": {\"outlinewidth\": 0, \"ticks\": \"\"}, \"colorscale\": [[0.0, \"#0d0887\"], [0.1111111111111111, \"#46039f\"], [0.2222222222222222, \"#7201a8\"], [0.3333333333333333, \"#9c179e\"], [0.4444444444444444, \"#bd3786\"], [0.5555555555555556, \"#d8576b\"], [0.6666666666666666, \"#ed7953\"], [0.7777777777777778, \"#fb9f3a\"], [0.8888888888888888, \"#fdca26\"], [1.0, \"#f0f921\"]], \"type\": \"histogram2d\"}], \"histogram2dcontour\": [{\"colorbar\": {\"outlinewidth\": 0, \"ticks\": \"\"}, \"colorscale\": [[0.0, \"#0d0887\"], [0.1111111111111111, \"#46039f\"], [0.2222222222222222, \"#7201a8\"], [0.3333333333333333, \"#9c179e\"], [0.4444444444444444, \"#bd3786\"], [0.5555555555555556, \"#d8576b\"], [0.6666666666666666, \"#ed7953\"], [0.7777777777777778, \"#fb9f3a\"], [0.8888888888888888, \"#fdca26\"], [1.0, \"#f0f921\"]], \"type\": \"histogram2dcontour\"}], \"mesh3d\": [{\"colorbar\": {\"outlinewidth\": 0, \"ticks\": \"\"}, \"type\": \"mesh3d\"}], \"parcoords\": [{\"line\": {\"colorbar\": {\"outlinewidth\": 0, \"ticks\": \"\"}}, \"type\": \"parcoords\"}], \"pie\": [{\"automargin\": true, \"type\": \"pie\"}], \"scatter\": [{\"marker\": {\"colorbar\": {\"outlinewidth\": 0, \"ticks\": \"\"}}, \"type\": \"scatter\"}], \"scatter3d\": [{\"line\": {\"colorbar\": {\"outlinewidth\": 0, \"ticks\": \"\"}}, \"marker\": {\"colorbar\": {\"outlinewidth\": 0, \"ticks\": \"\"}}, \"type\": \"scatter3d\"}], \"scattercarpet\": [{\"marker\": {\"colorbar\": {\"outlinewidth\": 0, \"ticks\": \"\"}}, \"type\": \"scattercarpet\"}], \"scattergeo\": [{\"marker\": {\"colorbar\": {\"outlinewidth\": 0, \"ticks\": \"\"}}, \"type\": \"scattergeo\"}], \"scattergl\": [{\"marker\": {\"colorbar\": {\"outlinewidth\": 0, \"ticks\": \"\"}}, \"type\": \"scattergl\"}], \"scattermapbox\": [{\"marker\": {\"colorbar\": {\"outlinewidth\": 0, \"ticks\": \"\"}}, \"type\": \"scattermapbox\"}], \"scatterpolar\": [{\"marker\": {\"colorbar\": {\"outlinewidth\": 0, \"ticks\": \"\"}}, \"type\": \"scatterpolar\"}], \"scatterpolargl\": [{\"marker\": {\"colorbar\": {\"outlinewidth\": 0, \"ticks\": \"\"}}, \"type\": \"scatterpolargl\"}], \"scatterternary\": [{\"marker\": {\"colorbar\": {\"outlinewidth\": 0, \"ticks\": \"\"}}, \"type\": \"scatterternary\"}], \"surface\": [{\"colorbar\": {\"outlinewidth\": 0, \"ticks\": \"\"}, \"colorscale\": [[0.0, \"#0d0887\"], [0.1111111111111111, \"#46039f\"], [0.2222222222222222, \"#7201a8\"], [0.3333333333333333, \"#9c179e\"], [0.4444444444444444, \"#bd3786\"], [0.5555555555555556, \"#d8576b\"], [0.6666666666666666, \"#ed7953\"], [0.7777777777777778, \"#fb9f3a\"], [0.8888888888888888, \"#fdca26\"], [1.0, \"#f0f921\"]], \"type\": \"surface\"}], \"table\": [{\"cells\": {\"fill\": {\"color\": \"#EBF0F8\"}, \"line\": {\"color\": \"white\"}}, \"header\": {\"fill\": {\"color\": \"#C8D4E3\"}, \"line\": {\"color\": \"white\"}}, \"type\": \"table\"}]}, \"layout\": {\"annotationdefaults\": {\"arrowcolor\": \"#2a3f5f\", \"arrowhead\": 0, \"arrowwidth\": 1}, \"coloraxis\": {\"colorbar\": {\"outlinewidth\": 0, \"ticks\": \"\"}}, \"colorscale\": {\"diverging\": [[0, \"#8e0152\"], [0.1, \"#c51b7d\"], [0.2, \"#de77ae\"], [0.3, \"#f1b6da\"], [0.4, \"#fde0ef\"], [0.5, \"#f7f7f7\"], [0.6, \"#e6f5d0\"], [0.7, \"#b8e186\"], [0.8, \"#7fbc41\"], [0.9, \"#4d9221\"], [1, \"#276419\"]], \"sequential\": [[0.0, \"#0d0887\"], [0.1111111111111111, \"#46039f\"], [0.2222222222222222, \"#7201a8\"], [0.3333333333333333, \"#9c179e\"], [0.4444444444444444, \"#bd3786\"], [0.5555555555555556, \"#d8576b\"], [0.6666666666666666, \"#ed7953\"], [0.7777777777777778, \"#fb9f3a\"], [0.8888888888888888, \"#fdca26\"], [1.0, \"#f0f921\"]], \"sequentialminus\": [[0.0, \"#0d0887\"], [0.1111111111111111, \"#46039f\"], [0.2222222222222222, \"#7201a8\"], [0.3333333333333333, \"#9c179e\"], [0.4444444444444444, \"#bd3786\"], [0.5555555555555556, \"#d8576b\"], [0.6666666666666666, \"#ed7953\"], [0.7777777777777778, \"#fb9f3a\"], [0.8888888888888888, \"#fdca26\"], [1.0, \"#f0f921\"]]}, \"colorway\": [\"#636efa\", \"#EF553B\", \"#00cc96\", \"#ab63fa\", \"#FFA15A\", \"#19d3f3\", \"#FF6692\", \"#B6E880\", \"#FF97FF\", \"#FECB52\"], \"font\": {\"color\": \"#2a3f5f\"}, \"geo\": {\"bgcolor\": \"white\", \"lakecolor\": \"white\", \"landcolor\": \"#E5ECF6\", \"showlakes\": true, \"showland\": true, \"subunitcolor\": \"white\"}, \"hoverlabel\": {\"align\": \"left\"}, \"hovermode\": \"closest\", \"mapbox\": {\"style\": \"light\"}, \"paper_bgcolor\": \"white\", \"plot_bgcolor\": \"#E5ECF6\", \"polar\": {\"angularaxis\": {\"gridcolor\": \"white\", \"linecolor\": \"white\", \"ticks\": \"\"}, \"bgcolor\": \"#E5ECF6\", \"radialaxis\": {\"gridcolor\": \"white\", \"linecolor\": \"white\", \"ticks\": \"\"}}, \"scene\": {\"xaxis\": {\"backgroundcolor\": \"#E5ECF6\", \"gridcolor\": \"white\", \"gridwidth\": 2, \"linecolor\": \"white\", \"showbackground\": true, \"ticks\": \"\", \"zerolinecolor\": \"white\"}, \"yaxis\": {\"backgroundcolor\": \"#E5ECF6\", \"gridcolor\": \"white\", \"gridwidth\": 2, \"linecolor\": \"white\", \"showbackground\": true, \"ticks\": \"\", \"zerolinecolor\": \"white\"}, \"zaxis\": {\"backgroundcolor\": \"#E5ECF6\", \"gridcolor\": \"white\", \"gridwidth\": 2, \"linecolor\": \"white\", \"showbackground\": true, \"ticks\": \"\", \"zerolinecolor\": \"white\"}}, \"shapedefaults\": {\"line\": {\"color\": \"#2a3f5f\"}}, \"ternary\": {\"aaxis\": {\"gridcolor\": \"white\", \"linecolor\": \"white\", \"ticks\": \"\"}, \"baxis\": {\"gridcolor\": \"white\", \"linecolor\": \"white\", \"ticks\": \"\"}, \"bgcolor\": \"#E5ECF6\", \"caxis\": {\"gridcolor\": \"white\", \"linecolor\": \"white\", \"ticks\": \"\"}}, \"title\": {\"x\": 0.05}, \"xaxis\": {\"automargin\": true, \"gridcolor\": \"white\", \"linecolor\": \"white\", \"ticks\": \"\", \"title\": {\"standoff\": 15}, \"zerolinecolor\": \"white\", \"zerolinewidth\": 2}, \"yaxis\": {\"automargin\": true, \"gridcolor\": \"white\", \"linecolor\": \"white\", \"ticks\": \"\", \"title\": {\"standoff\": 15}, \"zerolinecolor\": \"white\", \"zerolinewidth\": 2}}}, \"updatemenus\": [{\"buttons\": [{\"args\": [{\"scene.annotations\": [{\"showarrow\": false, \"text\": \"O1\", \"x\": -0.7305, \"y\": -1.3425, \"yshift\": 15, \"z\": -0.3566}, {\"showarrow\": false, \"text\": \"O2\", \"x\": -0.2673, \"y\": 0.8654, \"yshift\": 15, \"z\": -1.3725}, {\"showarrow\": false, \"text\": \"O3\", \"x\": -0.4951, \"y\": 0.6968, \"yshift\": 15, \"z\": 1.1945}, {\"showarrow\": false, \"text\": \"O4\", \"x\": 1.5399, \"y\": -0.3894, \"yshift\": 15, \"z\": -0.0203}, {\"showarrow\": false, \"text\": \"P5\", \"x\": 0.0, \"y\": 0.0, \"yshift\": 15, \"z\": 0.0}, {\"showarrow\": false, \"text\": \"H6\", \"x\": -0.2661, \"y\": -1.9249, \"yshift\": 15, \"z\": -0.9715}, {\"showarrow\": false, \"text\": \"H7\", \"x\": 2.1157, \"y\": 0.2906, \"yshift\": 15, \"z\": 0.3555}, {\"showarrow\": false, \"text\": \"P8\", \"x\": -0.6322, \"y\": 3.3868, \"yshift\": 15, \"z\": -1.0763}, {\"showarrow\": false, \"text\": \"O9\", \"x\": -1.5378, \"y\": 3.0034, \"yshift\": 15, \"z\": 0.1509}, {\"showarrow\": false, \"text\": \"O10\", \"x\": -1.4337, \"y\": 3.567, \"yshift\": 15, \"z\": -2.3358}, {\"showarrow\": false, \"text\": \"O11\", \"x\": 0.2403, \"y\": 4.5945, \"yshift\": 15, \"z\": -0.8622}, {\"showarrow\": false, \"text\": \"O12\", \"x\": 0.4632, \"y\": 2.1305, \"yshift\": 15, \"z\": -1.1916}, {\"showarrow\": false, \"text\": \"H13\", \"x\": -1.2298, \"y\": 2.2378, \"yshift\": 15, \"z\": 0.704}]}], \"label\": \"Elements\", \"method\": \"relayout\"}, {\"args\": [{\"scene.annotations\": [{\"showarrow\": false, \"text\": \"O1\", \"x\": -0.7305, \"y\": -1.3425, \"yshift\": 15, \"z\": -0.3566}, {\"showarrow\": false, \"text\": \"O2\", \"x\": -0.2673, \"y\": 0.8654, \"yshift\": 15, \"z\": -1.3725}, {\"showarrow\": false, \"text\": \"O3\", \"x\": -0.4951, \"y\": 0.6968, \"yshift\": 15, \"z\": 1.1945}, {\"showarrow\": false, \"text\": \"O4\", \"x\": 1.5399, \"y\": -0.3894, \"yshift\": 15, \"z\": -0.0203}, {\"showarrow\": false, \"text\": \"P5\", \"x\": 0.0, \"y\": 0.0, \"yshift\": 15, \"z\": 0.0}, {\"showarrow\": false, \"text\": \"H6\", \"x\": -0.2661, \"y\": -1.9249, \"yshift\": 15, \"z\": -0.9715}, {\"showarrow\": false, \"text\": \"H7\", \"x\": 2.1157, \"y\": 0.2906, \"yshift\": 15, \"z\": 0.3555}, {\"showarrow\": false, \"text\": \"P8\", \"x\": -0.6322, \"y\": 3.3868, \"yshift\": 15, \"z\": -1.0763}, {\"showarrow\": false, \"text\": \"O9\", \"x\": -1.5378, \"y\": 3.0034, \"yshift\": 15, \"z\": 0.1509}, {\"showarrow\": false, \"text\": \"O10\", \"x\": -1.4337, \"y\": 3.567, \"yshift\": 15, \"z\": -2.3358}, {\"showarrow\": false, \"text\": \"O11\", \"x\": 0.2403, \"y\": 4.5945, \"yshift\": 15, \"z\": -0.8622}, {\"showarrow\": false, \"text\": \"O12\", \"x\": 0.4632, \"y\": 2.1305, \"yshift\": 15, \"z\": -1.1916}, {\"showarrow\": false, \"text\": \"H13\", \"x\": -1.2298, \"y\": 2.2378, \"yshift\": 15, \"z\": 0.704}, {\"font\": {\"color\": \"steelblue\"}, \"showarrow\": false, \"text\": \"1.569\", \"x\": -0.36525, \"y\": -0.67125, \"yshift\": 15, \"z\": -0.1783}, {\"font\": {\"color\": \"steelblue\"}, \"showarrow\": false, \"text\": \"0.966\", \"x\": -0.4983, \"y\": -1.6337000000000002, \"yshift\": 15, \"z\": -0.66405}, {\"font\": {\"color\": \"steelblue\"}, \"showarrow\": false, \"text\": \"1.644\", \"x\": -0.13365, \"y\": 0.4327, \"yshift\": 15, \"z\": -0.68625}, {\"font\": {\"color\": \"steelblue\"}, \"showarrow\": false, \"text\": \"1.469\", \"x\": -0.24755, \"y\": 0.3484, \"yshift\": 15, \"z\": 0.59725}, {\"font\": {\"color\": \"steelblue\"}, \"showarrow\": false, \"text\": \"1.589\", \"x\": 0.76995, \"y\": -0.1947, \"yshift\": 15, \"z\": -0.01015}, {\"font\": {\"color\": \"steelblue\"}, \"showarrow\": false, \"text\": \"0.967\", \"x\": 1.8277999999999999, \"y\": -0.0494, \"yshift\": 15, \"z\": 0.1676}, {\"font\": {\"color\": \"steelblue\"}, \"showarrow\": false, \"text\": \"1.573\", \"x\": -1.085, \"y\": 3.1951, \"yshift\": 15, \"z\": -0.4627}, {\"font\": {\"color\": \"steelblue\"}, \"showarrow\": false, \"text\": \"1.504\", \"x\": -1.03295, \"y\": 3.4769, \"yshift\": 15, \"z\": -1.7060499999999998}, {\"font\": {\"color\": \"steelblue\"}, \"showarrow\": false, \"text\": \"1.505\", \"x\": -0.19594999999999999, \"y\": 3.99065, \"yshift\": 15, \"z\": -0.96925}, {\"font\": {\"color\": \"steelblue\"}, \"showarrow\": false, \"text\": \"1.671\", \"x\": -0.08449999999999999, \"y\": 2.7586500000000003, \"yshift\": 15, \"z\": -1.13395}, {\"font\": {\"color\": \"steelblue\"}, \"showarrow\": false, \"text\": \"0.993\", \"x\": -1.3838, \"y\": 2.6206, \"yshift\": 15, \"z\": 0.42745}, {\"font\": {\"color\": \"steelblue\"}, \"showarrow\": false, \"text\": 1.776, \"x\": -0.8624499999999999, \"y\": 1.4673, \"yshift\": 15, \"z\": 0.9492499999999999}]}], \"label\": \"Element & Bond Lengths\", \"method\": \"relayout\"}, {\"args\": [{\"scene.annotations\": [{\"showarrow\": false, \"text\": 0, \"x\": -0.7305, \"y\": -1.3425, \"yshift\": 15, \"z\": -0.3566}, {\"showarrow\": false, \"text\": 1, \"x\": -0.2673, \"y\": 0.8654, \"yshift\": 15, \"z\": -1.3725}, {\"showarrow\": false, \"text\": 2, \"x\": -0.4951, \"y\": 0.6968, \"yshift\": 15, \"z\": 1.1945}, {\"showarrow\": false, \"text\": 3, \"x\": 1.5399, \"y\": -0.3894, \"yshift\": 15, \"z\": -0.0203}, {\"showarrow\": false, \"text\": 4, \"x\": 0.0, \"y\": 0.0, \"yshift\": 15, \"z\": 0.0}, {\"showarrow\": false, \"text\": 5, \"x\": -0.2661, \"y\": -1.9249, \"yshift\": 15, \"z\": -0.9715}, {\"showarrow\": false, \"text\": 6, \"x\": 2.1157, \"y\": 0.2906, \"yshift\": 15, \"z\": 0.3555}, {\"showarrow\": false, \"text\": 7, \"x\": -0.6322, \"y\": 3.3868, \"yshift\": 15, \"z\": -1.0763}, {\"showarrow\": false, \"text\": 8, \"x\": -1.5378, \"y\": 3.0034, \"yshift\": 15, \"z\": 0.1509}, {\"showarrow\": false, \"text\": 9, \"x\": -1.4337, \"y\": 3.567, \"yshift\": 15, \"z\": -2.3358}, {\"showarrow\": false, \"text\": 10, \"x\": 0.2403, \"y\": 4.5945, \"yshift\": 15, \"z\": -0.8622}, {\"showarrow\": false, \"text\": 11, \"x\": 0.4632, \"y\": 2.1305, \"yshift\": 15, \"z\": -1.1916}, {\"showarrow\": false, \"text\": 12, \"x\": -1.2298, \"y\": 2.2378, \"yshift\": 15, \"z\": 0.704}]}], \"label\": \"Indices\", \"method\": \"relayout\"}, {\"args\": [{\"scene.annotations\": [{\"showarrow\": false, \"text\": 0, \"x\": -0.7305, \"y\": -1.3425, \"yshift\": 15, \"z\": -0.3566}, {\"showarrow\": false, \"text\": 1, \"x\": -0.2673, \"y\": 0.8654, \"yshift\": 15, \"z\": -1.3725}, {\"showarrow\": false, \"text\": 2, \"x\": -0.4951, \"y\": 0.6968, \"yshift\": 15, \"z\": 1.1945}, {\"showarrow\": false, \"text\": 3, \"x\": 1.5399, \"y\": -0.3894, \"yshift\": 15, \"z\": -0.0203}, {\"showarrow\": false, \"text\": 4, \"x\": 0.0, \"y\": 0.0, \"yshift\": 15, \"z\": 0.0}, {\"showarrow\": false, \"text\": 5, \"x\": -0.2661, \"y\": -1.9249, \"yshift\": 15, \"z\": -0.9715}, {\"showarrow\": false, \"text\": 6, \"x\": 2.1157, \"y\": 0.2906, \"yshift\": 15, \"z\": 0.3555}, {\"showarrow\": false, \"text\": 7, \"x\": -0.6322, \"y\": 3.3868, \"yshift\": 15, \"z\": -1.0763}, {\"showarrow\": false, \"text\": 8, \"x\": -1.5378, \"y\": 3.0034, \"yshift\": 15, \"z\": 0.1509}, {\"showarrow\": false, \"text\": 9, \"x\": -1.4337, \"y\": 3.567, \"yshift\": 15, \"z\": -2.3358}, {\"showarrow\": false, \"text\": 10, \"x\": 0.2403, \"y\": 4.5945, \"yshift\": 15, \"z\": -0.8622}, {\"showarrow\": false, \"text\": 11, \"x\": 0.4632, \"y\": 2.1305, \"yshift\": 15, \"z\": -1.1916}, {\"showarrow\": false, \"text\": 12, \"x\": -1.2298, \"y\": 2.2378, \"yshift\": 15, \"z\": 0.704}, {\"font\": {\"color\": \"steelblue\"}, \"showarrow\": false, \"text\": \"1.569\", \"x\": -0.36525, \"y\": -0.67125, \"yshift\": 15, \"z\": -0.1783}, {\"font\": {\"color\": \"steelblue\"}, \"showarrow\": false, \"text\": \"0.966\", \"x\": -0.4983, \"y\": -1.6337000000000002, \"yshift\": 15, \"z\": -0.66405}, {\"font\": {\"color\": \"steelblue\"}, \"showarrow\": false, \"text\": \"1.644\", \"x\": -0.13365, \"y\": 0.4327, \"yshift\": 15, \"z\": -0.68625}, {\"font\": {\"color\": \"steelblue\"}, \"showarrow\": false, \"text\": \"1.469\", \"x\": -0.24755, \"y\": 0.3484, \"yshift\": 15, \"z\": 0.59725}, {\"font\": {\"color\": \"steelblue\"}, \"showarrow\": false, \"text\": \"1.589\", \"x\": 0.76995, \"y\": -0.1947, \"yshift\": 15, \"z\": -0.01015}, {\"font\": {\"color\": \"steelblue\"}, \"showarrow\": false, \"text\": \"0.967\", \"x\": 1.8277999999999999, \"y\": -0.0494, \"yshift\": 15, \"z\": 0.1676}, {\"font\": {\"color\": \"steelblue\"}, \"showarrow\": false, \"text\": \"1.573\", \"x\": -1.085, \"y\": 3.1951, \"yshift\": 15, \"z\": -0.4627}, {\"font\": {\"color\": \"steelblue\"}, \"showarrow\": false, \"text\": \"1.504\", \"x\": -1.03295, \"y\": 3.4769, \"yshift\": 15, \"z\": -1.7060499999999998}, {\"font\": {\"color\": \"steelblue\"}, \"showarrow\": false, \"text\": \"1.505\", \"x\": -0.19594999999999999, \"y\": 3.99065, \"yshift\": 15, \"z\": -0.96925}, {\"font\": {\"color\": \"steelblue\"}, \"showarrow\": false, \"text\": \"1.671\", \"x\": -0.08449999999999999, \"y\": 2.7586500000000003, \"yshift\": 15, \"z\": -1.13395}, {\"font\": {\"color\": \"steelblue\"}, \"showarrow\": false, \"text\": \"0.993\", \"x\": -1.3838, \"y\": 2.6206, \"yshift\": 15, \"z\": 0.42745}, {\"font\": {\"color\": \"steelblue\"}, \"showarrow\": false, \"text\": 1.776, \"x\": -0.8624499999999999, \"y\": 1.4673, \"yshift\": 15, \"z\": 0.9492499999999999}]}], \"label\": \"Indices & Bond Lengths\", \"method\": \"relayout\"}, {\"args\": [{\"scene.annotations\": [{\"font\": {\"color\": \"steelblue\"}, \"showarrow\": false, \"text\": \"1.569\", \"x\": -0.36525, \"y\": -0.67125, \"yshift\": 15, \"z\": -0.1783}, {\"font\": {\"color\": \"steelblue\"}, \"showarrow\": false, \"text\": \"0.966\", \"x\": -0.4983, \"y\": -1.6337000000000002, \"yshift\": 15, \"z\": -0.66405}, {\"font\": {\"color\": \"steelblue\"}, \"showarrow\": false, \"text\": \"1.644\", \"x\": -0.13365, \"y\": 0.4327, \"yshift\": 15, \"z\": -0.68625}, {\"font\": {\"color\": \"steelblue\"}, \"showarrow\": false, \"text\": \"1.469\", \"x\": -0.24755, \"y\": 0.3484, \"yshift\": 15, \"z\": 0.59725}, {\"font\": {\"color\": \"steelblue\"}, \"showarrow\": false, \"text\": \"1.589\", \"x\": 0.76995, \"y\": -0.1947, \"yshift\": 15, \"z\": -0.01015}, {\"font\": {\"color\": \"steelblue\"}, \"showarrow\": false, \"text\": \"0.967\", \"x\": 1.8277999999999999, \"y\": -0.0494, \"yshift\": 15, \"z\": 0.1676}, {\"font\": {\"color\": \"steelblue\"}, \"showarrow\": false, \"text\": \"1.573\", \"x\": -1.085, \"y\": 3.1951, \"yshift\": 15, \"z\": -0.4627}, {\"font\": {\"color\": \"steelblue\"}, \"showarrow\": false, \"text\": \"1.504\", \"x\": -1.03295, \"y\": 3.4769, \"yshift\": 15, \"z\": -1.7060499999999998}, {\"font\": {\"color\": \"steelblue\"}, \"showarrow\": false, \"text\": \"1.505\", \"x\": -0.19594999999999999, \"y\": 3.99065, \"yshift\": 15, \"z\": -0.96925}, {\"font\": {\"color\": \"steelblue\"}, \"showarrow\": false, \"text\": \"1.671\", \"x\": -0.08449999999999999, \"y\": 2.7586500000000003, \"yshift\": 15, \"z\": -1.13395}, {\"font\": {\"color\": \"steelblue\"}, \"showarrow\": false, \"text\": \"0.993\", \"x\": -1.3838, \"y\": 2.6206, \"yshift\": 15, \"z\": 0.42745}, {\"font\": {\"color\": \"steelblue\"}, \"showarrow\": false, \"text\": 1.776, \"x\": -0.8624499999999999, \"y\": 1.4673, \"yshift\": 15, \"z\": 0.9492499999999999}]}], \"label\": \"Bond Lengths\", \"method\": \"relayout\"}, {\"args\": [{}], \"label\": \"Hide All\", \"method\": \"relayout\"}], \"direction\": \"down\", \"xanchor\": \"left\", \"yanchor\": \"top\"}]},                        {\"responsive\": true}                    ).then(function(){\n",
       "                            \n",
       "var gd = document.getElementById('c6157b0b-edd3-4b8d-be69-4186113ee9ea');\n",
       "var x = new MutationObserver(function (mutations, observer) {{\n",
       "        var display = window.getComputedStyle(gd).display;\n",
       "        if (!display || display === 'none') {{\n",
       "            console.log([gd, 'removed!']);\n",
       "            Plotly.purge(gd);\n",
       "            observer.disconnect();\n",
       "        }}\n",
       "}});\n",
       "\n",
       "// Listen for the removal of the full notebook cells\n",
       "var notebookContainer = gd.closest('#notebook-container');\n",
       "if (notebookContainer) {{\n",
       "    x.observe(notebookContainer, {childList: true});\n",
       "}}\n",
       "\n",
       "// Listen for the clearing of the current output cell\n",
       "var outputEl = gd.closest('.output');\n",
       "if (outputEl) {{\n",
       "    x.observe(outputEl, {childList: true});\n",
       "}}\n",
       "\n",
       "                        })                };                });            </script>        </div>"
      ]
     },
     "metadata": {},
     "output_type": "display_data"
    },
    {
     "data": {
      "application/vnd.plotly.v1+json": {
       "config": {
        "linkText": "Export to plot.ly",
        "plotlyServerURL": "https://plot.ly",
        "showLink": false
       },
       "data": [
        {
         "marker": {
          "color": [
           "white",
           "white",
           "white",
           "red",
           "red",
           "red",
           "red",
           "red",
           "red",
           "red",
           "red",
           "orange",
           "orange"
          ],
          "line": {
           "color": "lightgray",
           "width": 2
          },
          "opacity": 0.8,
          "size": [
           9.200000000000001,
           9.200000000000001,
           9.200000000000001,
           27.200000000000003,
           27.200000000000003,
           27.200000000000003,
           27.200000000000003,
           27.200000000000003,
           27.200000000000003,
           27.200000000000003,
           27.200000000000003,
           42,
           42
          ],
          "symbol": "circle"
         },
         "mode": "markers",
         "text": [
          "H1",
          "H2",
          "H3",
          "O1",
          "O2",
          "O3",
          "O4",
          "O5",
          "O6",
          "O7",
          "O8",
          "P1",
          "P2"
         ],
         "type": "scatter3d",
         "x": [
          2.111,
          -1.3077,
          -2.0452,
          1.2665,
          0.2134,
          -1.0685,
          -0.3471,
          -5.0255,
          -2.7575,
          -5.321,
          -3.507,
          0,
          -3.8118
         ],
         "y": [
          -0.3079,
          1.5197,
          -0.8426,
          -0.7423,
          0.6007,
          -1.1431,
          1.1327,
          1.8589,
          1.973,
          1.2985,
          -0.2891,
          0,
          1.0869
         ],
         "z": [
          -0.3703,
          -0.9974,
          0.0591,
          -0.5914,
          1.369,
          -0.0412,
          -1.0365,
          0.4049,
          -0.9575,
          -1.002,
          0.102,
          0,
          -0.384
         ]
        },
        {
         "hoverinfo": "none",
         "marker": {
          "color": "gray",
          "opacity": 0.1,
          "size": 3
         },
         "mode": "lines",
         "type": "scatter3d",
         "x": [
          2.111,
          1.2665,
          null,
          1.2665,
          0,
          null,
          1.2665,
          2.111,
          null,
          -1.3077,
          -0.3471,
          null,
          -1.3077,
          -2.7575,
          null,
          -0.3471,
          -1.3077,
          null,
          -0.3471,
          0,
          null,
          -2.0452,
          -1.0685,
          null,
          -2.0452,
          -3.507,
          null,
          -1.0685,
          -2.0452,
          null,
          -1.0685,
          0,
          null,
          0,
          1.2665,
          null,
          0,
          -1.0685,
          null,
          0,
          -0.3471,
          null,
          0,
          0.2134,
          null,
          0.2134,
          0,
          null,
          -5.0255,
          -3.8118,
          null,
          -3.8118,
          -5.0255,
          null,
          -3.8118,
          -2.7575,
          null,
          -3.8118,
          -3.507,
          null,
          -3.8118,
          -5.321,
          null,
          -2.7575,
          -1.3077,
          null,
          -2.7575,
          -3.8118,
          null,
          -5.321,
          -3.8118,
          null,
          -3.507,
          -2.0452,
          null,
          -3.507,
          -3.8118,
          null
         ],
         "y": [
          -0.3079,
          -0.7423,
          null,
          -0.7423,
          0,
          null,
          -0.7423,
          -0.3079,
          null,
          1.5197,
          1.1327,
          null,
          1.5197,
          1.973,
          null,
          1.1327,
          1.5197,
          null,
          1.1327,
          0,
          null,
          -0.8426,
          -1.1431,
          null,
          -0.8426,
          -0.2891,
          null,
          -1.1431,
          -0.8426,
          null,
          -1.1431,
          0,
          null,
          0,
          -0.7423,
          null,
          0,
          -1.1431,
          null,
          0,
          1.1327,
          null,
          0,
          0.6007,
          null,
          0.6007,
          0,
          null,
          1.8589,
          1.0869,
          null,
          1.0869,
          1.8589,
          null,
          1.0869,
          1.973,
          null,
          1.0869,
          -0.2891,
          null,
          1.0869,
          1.2985,
          null,
          1.973,
          1.5197,
          null,
          1.973,
          1.0869,
          null,
          1.2985,
          1.0869,
          null,
          -0.2891,
          -0.8426,
          null,
          -0.2891,
          1.0869,
          null
         ],
         "z": [
          -0.3703,
          -0.5914,
          null,
          -0.5914,
          0,
          null,
          -0.5914,
          -0.3703,
          null,
          -0.9974,
          -1.0365,
          null,
          -0.9974,
          -0.9575,
          null,
          -1.0365,
          -0.9974,
          null,
          -1.0365,
          0,
          null,
          0.0591,
          -0.0412,
          null,
          0.0591,
          0.102,
          null,
          -0.0412,
          0.0591,
          null,
          -0.0412,
          0,
          null,
          0,
          -0.5914,
          null,
          0,
          -0.0412,
          null,
          0,
          -1.0365,
          null,
          0,
          1.369,
          null,
          1.369,
          0,
          null,
          0.4049,
          -0.384,
          null,
          -0.384,
          0.4049,
          null,
          -0.384,
          -0.9575,
          null,
          -0.384,
          0.102,
          null,
          -0.384,
          -1.002,
          null,
          -0.9575,
          -0.9974,
          null,
          -0.9575,
          -0.384,
          null,
          -1.002,
          -0.384,
          null,
          0.102,
          0.0591,
          null,
          0.102,
          -0.384,
          null
         ]
        }
       ],
       "layout": {
        "margin": {
         "b": 0,
         "l": 0,
         "r": 0,
         "t": 0
        },
        "scene": {
         "annotations": [
          {
           "showarrow": false,
           "text": "H1",
           "x": 2.111,
           "y": -0.3079,
           "yshift": 15,
           "z": -0.3703
          },
          {
           "showarrow": false,
           "text": "H2",
           "x": -1.3077,
           "y": 1.5197,
           "yshift": 15,
           "z": -0.9974
          },
          {
           "showarrow": false,
           "text": "H3",
           "x": -2.0452,
           "y": -0.8426,
           "yshift": 15,
           "z": 0.0591
          },
          {
           "showarrow": false,
           "text": "O1",
           "x": 1.2665,
           "y": -0.7423,
           "yshift": 15,
           "z": -0.5914
          },
          {
           "showarrow": false,
           "text": "O2",
           "x": 0.2134,
           "y": 0.6007,
           "yshift": 15,
           "z": 1.369
          },
          {
           "showarrow": false,
           "text": "O3",
           "x": -1.0685,
           "y": -1.1431,
           "yshift": 15,
           "z": -0.0412
          },
          {
           "showarrow": false,
           "text": "O4",
           "x": -0.3471,
           "y": 1.1327,
           "yshift": 15,
           "z": -1.0365
          },
          {
           "showarrow": false,
           "text": "O5",
           "x": -5.0255,
           "y": 1.8589,
           "yshift": 15,
           "z": 0.4049
          },
          {
           "showarrow": false,
           "text": "O6",
           "x": -2.7575,
           "y": 1.973,
           "yshift": 15,
           "z": -0.9575
          },
          {
           "showarrow": false,
           "text": "O7",
           "x": -5.321,
           "y": 1.2985,
           "yshift": 15,
           "z": -1.002
          },
          {
           "showarrow": false,
           "text": "O8",
           "x": -3.507,
           "y": -0.2891,
           "yshift": 15,
           "z": 0.102
          },
          {
           "showarrow": false,
           "text": "P1",
           "x": 0,
           "y": 0,
           "yshift": 15,
           "z": 0
          },
          {
           "showarrow": false,
           "text": "P2",
           "x": -3.8118,
           "y": 1.0869,
           "yshift": 15,
           "z": -0.384
          }
         ],
         "xaxis": {
          "showbackground": true,
          "showgrid": true,
          "showticklabels": true,
          "title": {
           "font": {
            "color": "white"
           }
          },
          "zeroline": true
         },
         "yaxis": {
          "showbackground": true,
          "showgrid": true,
          "showticklabels": true,
          "title": {
           "font": {
            "color": "white"
           }
          },
          "zeroline": true
         },
         "zaxis": {
          "showbackground": true,
          "showgrid": true,
          "showticklabels": true,
          "title": {
           "font": {
            "color": "white"
           }
          },
          "zeroline": true
         }
        },
        "showlegend": false,
        "template": {
         "data": {
          "bar": [
           {
            "error_x": {
             "color": "#2a3f5f"
            },
            "error_y": {
             "color": "#2a3f5f"
            },
            "marker": {
             "line": {
              "color": "#E5ECF6",
              "width": 0.5
             }
            },
            "type": "bar"
           }
          ],
          "barpolar": [
           {
            "marker": {
             "line": {
              "color": "#E5ECF6",
              "width": 0.5
             }
            },
            "type": "barpolar"
           }
          ],
          "carpet": [
           {
            "aaxis": {
             "endlinecolor": "#2a3f5f",
             "gridcolor": "white",
             "linecolor": "white",
             "minorgridcolor": "white",
             "startlinecolor": "#2a3f5f"
            },
            "baxis": {
             "endlinecolor": "#2a3f5f",
             "gridcolor": "white",
             "linecolor": "white",
             "minorgridcolor": "white",
             "startlinecolor": "#2a3f5f"
            },
            "type": "carpet"
           }
          ],
          "choropleth": [
           {
            "colorbar": {
             "outlinewidth": 0,
             "ticks": ""
            },
            "type": "choropleth"
           }
          ],
          "contour": [
           {
            "colorbar": {
             "outlinewidth": 0,
             "ticks": ""
            },
            "colorscale": [
             [
              0,
              "#0d0887"
             ],
             [
              0.1111111111111111,
              "#46039f"
             ],
             [
              0.2222222222222222,
              "#7201a8"
             ],
             [
              0.3333333333333333,
              "#9c179e"
             ],
             [
              0.4444444444444444,
              "#bd3786"
             ],
             [
              0.5555555555555556,
              "#d8576b"
             ],
             [
              0.6666666666666666,
              "#ed7953"
             ],
             [
              0.7777777777777778,
              "#fb9f3a"
             ],
             [
              0.8888888888888888,
              "#fdca26"
             ],
             [
              1,
              "#f0f921"
             ]
            ],
            "type": "contour"
           }
          ],
          "contourcarpet": [
           {
            "colorbar": {
             "outlinewidth": 0,
             "ticks": ""
            },
            "type": "contourcarpet"
           }
          ],
          "heatmap": [
           {
            "colorbar": {
             "outlinewidth": 0,
             "ticks": ""
            },
            "colorscale": [
             [
              0,
              "#0d0887"
             ],
             [
              0.1111111111111111,
              "#46039f"
             ],
             [
              0.2222222222222222,
              "#7201a8"
             ],
             [
              0.3333333333333333,
              "#9c179e"
             ],
             [
              0.4444444444444444,
              "#bd3786"
             ],
             [
              0.5555555555555556,
              "#d8576b"
             ],
             [
              0.6666666666666666,
              "#ed7953"
             ],
             [
              0.7777777777777778,
              "#fb9f3a"
             ],
             [
              0.8888888888888888,
              "#fdca26"
             ],
             [
              1,
              "#f0f921"
             ]
            ],
            "type": "heatmap"
           }
          ],
          "heatmapgl": [
           {
            "colorbar": {
             "outlinewidth": 0,
             "ticks": ""
            },
            "colorscale": [
             [
              0,
              "#0d0887"
             ],
             [
              0.1111111111111111,
              "#46039f"
             ],
             [
              0.2222222222222222,
              "#7201a8"
             ],
             [
              0.3333333333333333,
              "#9c179e"
             ],
             [
              0.4444444444444444,
              "#bd3786"
             ],
             [
              0.5555555555555556,
              "#d8576b"
             ],
             [
              0.6666666666666666,
              "#ed7953"
             ],
             [
              0.7777777777777778,
              "#fb9f3a"
             ],
             [
              0.8888888888888888,
              "#fdca26"
             ],
             [
              1,
              "#f0f921"
             ]
            ],
            "type": "heatmapgl"
           }
          ],
          "histogram": [
           {
            "marker": {
             "colorbar": {
              "outlinewidth": 0,
              "ticks": ""
             }
            },
            "type": "histogram"
           }
          ],
          "histogram2d": [
           {
            "colorbar": {
             "outlinewidth": 0,
             "ticks": ""
            },
            "colorscale": [
             [
              0,
              "#0d0887"
             ],
             [
              0.1111111111111111,
              "#46039f"
             ],
             [
              0.2222222222222222,
              "#7201a8"
             ],
             [
              0.3333333333333333,
              "#9c179e"
             ],
             [
              0.4444444444444444,
              "#bd3786"
             ],
             [
              0.5555555555555556,
              "#d8576b"
             ],
             [
              0.6666666666666666,
              "#ed7953"
             ],
             [
              0.7777777777777778,
              "#fb9f3a"
             ],
             [
              0.8888888888888888,
              "#fdca26"
             ],
             [
              1,
              "#f0f921"
             ]
            ],
            "type": "histogram2d"
           }
          ],
          "histogram2dcontour": [
           {
            "colorbar": {
             "outlinewidth": 0,
             "ticks": ""
            },
            "colorscale": [
             [
              0,
              "#0d0887"
             ],
             [
              0.1111111111111111,
              "#46039f"
             ],
             [
              0.2222222222222222,
              "#7201a8"
             ],
             [
              0.3333333333333333,
              "#9c179e"
             ],
             [
              0.4444444444444444,
              "#bd3786"
             ],
             [
              0.5555555555555556,
              "#d8576b"
             ],
             [
              0.6666666666666666,
              "#ed7953"
             ],
             [
              0.7777777777777778,
              "#fb9f3a"
             ],
             [
              0.8888888888888888,
              "#fdca26"
             ],
             [
              1,
              "#f0f921"
             ]
            ],
            "type": "histogram2dcontour"
           }
          ],
          "mesh3d": [
           {
            "colorbar": {
             "outlinewidth": 0,
             "ticks": ""
            },
            "type": "mesh3d"
           }
          ],
          "parcoords": [
           {
            "line": {
             "colorbar": {
              "outlinewidth": 0,
              "ticks": ""
             }
            },
            "type": "parcoords"
           }
          ],
          "pie": [
           {
            "automargin": true,
            "type": "pie"
           }
          ],
          "scatter": [
           {
            "marker": {
             "colorbar": {
              "outlinewidth": 0,
              "ticks": ""
             }
            },
            "type": "scatter"
           }
          ],
          "scatter3d": [
           {
            "line": {
             "colorbar": {
              "outlinewidth": 0,
              "ticks": ""
             }
            },
            "marker": {
             "colorbar": {
              "outlinewidth": 0,
              "ticks": ""
             }
            },
            "type": "scatter3d"
           }
          ],
          "scattercarpet": [
           {
            "marker": {
             "colorbar": {
              "outlinewidth": 0,
              "ticks": ""
             }
            },
            "type": "scattercarpet"
           }
          ],
          "scattergeo": [
           {
            "marker": {
             "colorbar": {
              "outlinewidth": 0,
              "ticks": ""
             }
            },
            "type": "scattergeo"
           }
          ],
          "scattergl": [
           {
            "marker": {
             "colorbar": {
              "outlinewidth": 0,
              "ticks": ""
             }
            },
            "type": "scattergl"
           }
          ],
          "scattermapbox": [
           {
            "marker": {
             "colorbar": {
              "outlinewidth": 0,
              "ticks": ""
             }
            },
            "type": "scattermapbox"
           }
          ],
          "scatterpolar": [
           {
            "marker": {
             "colorbar": {
              "outlinewidth": 0,
              "ticks": ""
             }
            },
            "type": "scatterpolar"
           }
          ],
          "scatterpolargl": [
           {
            "marker": {
             "colorbar": {
              "outlinewidth": 0,
              "ticks": ""
             }
            },
            "type": "scatterpolargl"
           }
          ],
          "scatterternary": [
           {
            "marker": {
             "colorbar": {
              "outlinewidth": 0,
              "ticks": ""
             }
            },
            "type": "scatterternary"
           }
          ],
          "surface": [
           {
            "colorbar": {
             "outlinewidth": 0,
             "ticks": ""
            },
            "colorscale": [
             [
              0,
              "#0d0887"
             ],
             [
              0.1111111111111111,
              "#46039f"
             ],
             [
              0.2222222222222222,
              "#7201a8"
             ],
             [
              0.3333333333333333,
              "#9c179e"
             ],
             [
              0.4444444444444444,
              "#bd3786"
             ],
             [
              0.5555555555555556,
              "#d8576b"
             ],
             [
              0.6666666666666666,
              "#ed7953"
             ],
             [
              0.7777777777777778,
              "#fb9f3a"
             ],
             [
              0.8888888888888888,
              "#fdca26"
             ],
             [
              1,
              "#f0f921"
             ]
            ],
            "type": "surface"
           }
          ],
          "table": [
           {
            "cells": {
             "fill": {
              "color": "#EBF0F8"
             },
             "line": {
              "color": "white"
             }
            },
            "header": {
             "fill": {
              "color": "#C8D4E3"
             },
             "line": {
              "color": "white"
             }
            },
            "type": "table"
           }
          ]
         },
         "layout": {
          "annotationdefaults": {
           "arrowcolor": "#2a3f5f",
           "arrowhead": 0,
           "arrowwidth": 1
          },
          "coloraxis": {
           "colorbar": {
            "outlinewidth": 0,
            "ticks": ""
           }
          },
          "colorscale": {
           "diverging": [
            [
             0,
             "#8e0152"
            ],
            [
             0.1,
             "#c51b7d"
            ],
            [
             0.2,
             "#de77ae"
            ],
            [
             0.3,
             "#f1b6da"
            ],
            [
             0.4,
             "#fde0ef"
            ],
            [
             0.5,
             "#f7f7f7"
            ],
            [
             0.6,
             "#e6f5d0"
            ],
            [
             0.7,
             "#b8e186"
            ],
            [
             0.8,
             "#7fbc41"
            ],
            [
             0.9,
             "#4d9221"
            ],
            [
             1,
             "#276419"
            ]
           ],
           "sequential": [
            [
             0,
             "#0d0887"
            ],
            [
             0.1111111111111111,
             "#46039f"
            ],
            [
             0.2222222222222222,
             "#7201a8"
            ],
            [
             0.3333333333333333,
             "#9c179e"
            ],
            [
             0.4444444444444444,
             "#bd3786"
            ],
            [
             0.5555555555555556,
             "#d8576b"
            ],
            [
             0.6666666666666666,
             "#ed7953"
            ],
            [
             0.7777777777777778,
             "#fb9f3a"
            ],
            [
             0.8888888888888888,
             "#fdca26"
            ],
            [
             1,
             "#f0f921"
            ]
           ],
           "sequentialminus": [
            [
             0,
             "#0d0887"
            ],
            [
             0.1111111111111111,
             "#46039f"
            ],
            [
             0.2222222222222222,
             "#7201a8"
            ],
            [
             0.3333333333333333,
             "#9c179e"
            ],
            [
             0.4444444444444444,
             "#bd3786"
            ],
            [
             0.5555555555555556,
             "#d8576b"
            ],
            [
             0.6666666666666666,
             "#ed7953"
            ],
            [
             0.7777777777777778,
             "#fb9f3a"
            ],
            [
             0.8888888888888888,
             "#fdca26"
            ],
            [
             1,
             "#f0f921"
            ]
           ]
          },
          "colorway": [
           "#636efa",
           "#EF553B",
           "#00cc96",
           "#ab63fa",
           "#FFA15A",
           "#19d3f3",
           "#FF6692",
           "#B6E880",
           "#FF97FF",
           "#FECB52"
          ],
          "font": {
           "color": "#2a3f5f"
          },
          "geo": {
           "bgcolor": "white",
           "lakecolor": "white",
           "landcolor": "#E5ECF6",
           "showlakes": true,
           "showland": true,
           "subunitcolor": "white"
          },
          "hoverlabel": {
           "align": "left"
          },
          "hovermode": "closest",
          "mapbox": {
           "style": "light"
          },
          "paper_bgcolor": "white",
          "plot_bgcolor": "#E5ECF6",
          "polar": {
           "angularaxis": {
            "gridcolor": "white",
            "linecolor": "white",
            "ticks": ""
           },
           "bgcolor": "#E5ECF6",
           "radialaxis": {
            "gridcolor": "white",
            "linecolor": "white",
            "ticks": ""
           }
          },
          "scene": {
           "xaxis": {
            "backgroundcolor": "#E5ECF6",
            "gridcolor": "white",
            "gridwidth": 2,
            "linecolor": "white",
            "showbackground": true,
            "ticks": "",
            "zerolinecolor": "white"
           },
           "yaxis": {
            "backgroundcolor": "#E5ECF6",
            "gridcolor": "white",
            "gridwidth": 2,
            "linecolor": "white",
            "showbackground": true,
            "ticks": "",
            "zerolinecolor": "white"
           },
           "zaxis": {
            "backgroundcolor": "#E5ECF6",
            "gridcolor": "white",
            "gridwidth": 2,
            "linecolor": "white",
            "showbackground": true,
            "ticks": "",
            "zerolinecolor": "white"
           }
          },
          "shapedefaults": {
           "line": {
            "color": "#2a3f5f"
           }
          },
          "ternary": {
           "aaxis": {
            "gridcolor": "white",
            "linecolor": "white",
            "ticks": ""
           },
           "baxis": {
            "gridcolor": "white",
            "linecolor": "white",
            "ticks": ""
           },
           "bgcolor": "#E5ECF6",
           "caxis": {
            "gridcolor": "white",
            "linecolor": "white",
            "ticks": ""
           }
          },
          "title": {
           "x": 0.05
          },
          "xaxis": {
           "automargin": true,
           "gridcolor": "white",
           "linecolor": "white",
           "ticks": "",
           "title": {
            "standoff": 15
           },
           "zerolinecolor": "white",
           "zerolinewidth": 2
          },
          "yaxis": {
           "automargin": true,
           "gridcolor": "white",
           "linecolor": "white",
           "ticks": "",
           "title": {
            "standoff": 15
           },
           "zerolinecolor": "white",
           "zerolinewidth": 2
          }
         }
        },
        "updatemenus": [
         {
          "buttons": [
           {
            "args": [
             {
              "scene.annotations": [
               {
                "showarrow": false,
                "text": "H1",
                "x": 2.111,
                "y": -0.3079,
                "yshift": 15,
                "z": -0.3703
               },
               {
                "showarrow": false,
                "text": "H2",
                "x": -1.3077,
                "y": 1.5197,
                "yshift": 15,
                "z": -0.9974
               },
               {
                "showarrow": false,
                "text": "H3",
                "x": -2.0452,
                "y": -0.8426,
                "yshift": 15,
                "z": 0.0591
               },
               {
                "showarrow": false,
                "text": "O1",
                "x": 1.2665,
                "y": -0.7423,
                "yshift": 15,
                "z": -0.5914
               },
               {
                "showarrow": false,
                "text": "O2",
                "x": 0.2134,
                "y": 0.6007,
                "yshift": 15,
                "z": 1.369
               },
               {
                "showarrow": false,
                "text": "O3",
                "x": -1.0685,
                "y": -1.1431,
                "yshift": 15,
                "z": -0.0412
               },
               {
                "showarrow": false,
                "text": "O4",
                "x": -0.3471,
                "y": 1.1327,
                "yshift": 15,
                "z": -1.0365
               },
               {
                "showarrow": false,
                "text": "O5",
                "x": -5.0255,
                "y": 1.8589,
                "yshift": 15,
                "z": 0.4049
               },
               {
                "showarrow": false,
                "text": "O6",
                "x": -2.7575,
                "y": 1.973,
                "yshift": 15,
                "z": -0.9575
               },
               {
                "showarrow": false,
                "text": "O7",
                "x": -5.321,
                "y": 1.2985,
                "yshift": 15,
                "z": -1.002
               },
               {
                "showarrow": false,
                "text": "O8",
                "x": -3.507,
                "y": -0.2891,
                "yshift": 15,
                "z": 0.102
               },
               {
                "showarrow": false,
                "text": "P1",
                "x": 0,
                "y": 0,
                "yshift": 15,
                "z": 0
               },
               {
                "showarrow": false,
                "text": "P2",
                "x": -3.8118,
                "y": 1.0869,
                "yshift": 15,
                "z": -0.384
               }
              ]
             }
            ],
            "label": "Elements",
            "method": "relayout"
           },
           {
            "args": [
             {
              "scene.annotations": [
               {
                "showarrow": false,
                "text": "H1",
                "x": 2.111,
                "y": -0.3079,
                "yshift": 15,
                "z": -0.3703
               },
               {
                "showarrow": false,
                "text": "H2",
                "x": -1.3077,
                "y": 1.5197,
                "yshift": 15,
                "z": -0.9974
               },
               {
                "showarrow": false,
                "text": "H3",
                "x": -2.0452,
                "y": -0.8426,
                "yshift": 15,
                "z": 0.0591
               },
               {
                "showarrow": false,
                "text": "O1",
                "x": 1.2665,
                "y": -0.7423,
                "yshift": 15,
                "z": -0.5914
               },
               {
                "showarrow": false,
                "text": "O2",
                "x": 0.2134,
                "y": 0.6007,
                "yshift": 15,
                "z": 1.369
               },
               {
                "showarrow": false,
                "text": "O3",
                "x": -1.0685,
                "y": -1.1431,
                "yshift": 15,
                "z": -0.0412
               },
               {
                "showarrow": false,
                "text": "O4",
                "x": -0.3471,
                "y": 1.1327,
                "yshift": 15,
                "z": -1.0365
               },
               {
                "showarrow": false,
                "text": "O5",
                "x": -5.0255,
                "y": 1.8589,
                "yshift": 15,
                "z": 0.4049
               },
               {
                "showarrow": false,
                "text": "O6",
                "x": -2.7575,
                "y": 1.973,
                "yshift": 15,
                "z": -0.9575
               },
               {
                "showarrow": false,
                "text": "O7",
                "x": -5.321,
                "y": 1.2985,
                "yshift": 15,
                "z": -1.002
               },
               {
                "showarrow": false,
                "text": "O8",
                "x": -3.507,
                "y": -0.2891,
                "yshift": 15,
                "z": 0.102
               },
               {
                "showarrow": false,
                "text": "P1",
                "x": 0,
                "y": 0,
                "yshift": 15,
                "z": 0
               },
               {
                "showarrow": false,
                "text": "P2",
                "x": -3.8118,
                "y": 1.0869,
                "yshift": 15,
                "z": -0.384
               },
               {
                "font": {
                 "color": "steelblue"
                },
                "showarrow": false,
                "text": "0.975",
                "x": 1.6887500000000002,
                "y": -0.5251,
                "yshift": 15,
                "z": -0.48085
               },
               {
                "font": {
                 "color": "steelblue"
                },
                "showarrow": false,
                "text": "1.036",
                "x": -0.8274,
                "y": 1.3262,
                "yshift": 15,
                "z": -1.01695
               },
               {
                "font": {
                 "color": "steelblue"
                },
                "showarrow": false,
                "text": "1.027",
                "x": -1.5568499999999998,
                "y": -0.99285,
                "yshift": 15,
                "z": 0.00895
               },
               {
                "font": {
                 "color": "steelblue"
                },
                "showarrow": false,
                "text": "1.583",
                "x": 0.63325,
                "y": -0.37115,
                "yshift": 15,
                "z": -0.2957
               },
               {
                "font": {
                 "color": "steelblue"
                },
                "showarrow": false,
                "text": "1.510",
                "x": 0.1067,
                "y": 0.30035,
                "yshift": 15,
                "z": 0.6845
               },
               {
                "font": {
                 "color": "steelblue"
                },
                "showarrow": false,
                "text": "1.565",
                "x": -0.53425,
                "y": -0.57155,
                "yshift": 15,
                "z": -0.0206
               },
               {
                "font": {
                 "color": "steelblue"
                },
                "showarrow": false,
                "text": "1.574",
                "x": -0.17355,
                "y": 0.56635,
                "yshift": 15,
                "z": -0.51825
               },
               {
                "font": {
                 "color": "steelblue"
                },
                "showarrow": false,
                "text": "1.641",
                "x": -4.4186499999999995,
                "y": 1.4729,
                "yshift": 15,
                "z": 0.010449999999999987
               },
               {
                "font": {
                 "color": "steelblue"
                },
                "showarrow": false,
                "text": "1.492",
                "x": -3.28465,
                "y": 1.52995,
                "yshift": 15,
                "z": -0.67075
               },
               {
                "font": {
                 "color": "steelblue"
                },
                "showarrow": false,
                "text": "1.645",
                "x": -4.5664,
                "y": 1.1926999999999999,
                "yshift": 15,
                "z": -0.6930000000000001
               },
               {
                "font": {
                 "color": "steelblue"
                },
                "showarrow": false,
                "text": "1.491",
                "x": -3.6593999999999998,
                "y": 0.3989,
                "yshift": 15,
                "z": -0.14100000000000001
               },
               {
                "font": {
                 "color": "steelblue"
                },
                "showarrow": false,
                "text": 1.52,
                "x": -2.0326,
                "y": 1.74635,
                "yshift": 15,
                "z": -0.9774499999999999
               },
               {
                "font": {
                 "color": "steelblue"
                },
                "showarrow": false,
                "text": 1.564,
                "x": -2.7761,
                "y": -0.56585,
                "yshift": 15,
                "z": 0.08055
               }
              ]
             }
            ],
            "label": "Element & Bond Lengths",
            "method": "relayout"
           },
           {
            "args": [
             {
              "scene.annotations": [
               {
                "showarrow": false,
                "text": 0,
                "x": 2.111,
                "y": -0.3079,
                "yshift": 15,
                "z": -0.3703
               },
               {
                "showarrow": false,
                "text": 1,
                "x": -1.3077,
                "y": 1.5197,
                "yshift": 15,
                "z": -0.9974
               },
               {
                "showarrow": false,
                "text": 2,
                "x": -2.0452,
                "y": -0.8426,
                "yshift": 15,
                "z": 0.0591
               },
               {
                "showarrow": false,
                "text": 3,
                "x": 1.2665,
                "y": -0.7423,
                "yshift": 15,
                "z": -0.5914
               },
               {
                "showarrow": false,
                "text": 4,
                "x": 0.2134,
                "y": 0.6007,
                "yshift": 15,
                "z": 1.369
               },
               {
                "showarrow": false,
                "text": 5,
                "x": -1.0685,
                "y": -1.1431,
                "yshift": 15,
                "z": -0.0412
               },
               {
                "showarrow": false,
                "text": 6,
                "x": -0.3471,
                "y": 1.1327,
                "yshift": 15,
                "z": -1.0365
               },
               {
                "showarrow": false,
                "text": 7,
                "x": -5.0255,
                "y": 1.8589,
                "yshift": 15,
                "z": 0.4049
               },
               {
                "showarrow": false,
                "text": 8,
                "x": -2.7575,
                "y": 1.973,
                "yshift": 15,
                "z": -0.9575
               },
               {
                "showarrow": false,
                "text": 9,
                "x": -5.321,
                "y": 1.2985,
                "yshift": 15,
                "z": -1.002
               },
               {
                "showarrow": false,
                "text": 10,
                "x": -3.507,
                "y": -0.2891,
                "yshift": 15,
                "z": 0.102
               },
               {
                "showarrow": false,
                "text": 11,
                "x": 0,
                "y": 0,
                "yshift": 15,
                "z": 0
               },
               {
                "showarrow": false,
                "text": 12,
                "x": -3.8118,
                "y": 1.0869,
                "yshift": 15,
                "z": -0.384
               }
              ]
             }
            ],
            "label": "Indices",
            "method": "relayout"
           },
           {
            "args": [
             {
              "scene.annotations": [
               {
                "showarrow": false,
                "text": 0,
                "x": 2.111,
                "y": -0.3079,
                "yshift": 15,
                "z": -0.3703
               },
               {
                "showarrow": false,
                "text": 1,
                "x": -1.3077,
                "y": 1.5197,
                "yshift": 15,
                "z": -0.9974
               },
               {
                "showarrow": false,
                "text": 2,
                "x": -2.0452,
                "y": -0.8426,
                "yshift": 15,
                "z": 0.0591
               },
               {
                "showarrow": false,
                "text": 3,
                "x": 1.2665,
                "y": -0.7423,
                "yshift": 15,
                "z": -0.5914
               },
               {
                "showarrow": false,
                "text": 4,
                "x": 0.2134,
                "y": 0.6007,
                "yshift": 15,
                "z": 1.369
               },
               {
                "showarrow": false,
                "text": 5,
                "x": -1.0685,
                "y": -1.1431,
                "yshift": 15,
                "z": -0.0412
               },
               {
                "showarrow": false,
                "text": 6,
                "x": -0.3471,
                "y": 1.1327,
                "yshift": 15,
                "z": -1.0365
               },
               {
                "showarrow": false,
                "text": 7,
                "x": -5.0255,
                "y": 1.8589,
                "yshift": 15,
                "z": 0.4049
               },
               {
                "showarrow": false,
                "text": 8,
                "x": -2.7575,
                "y": 1.973,
                "yshift": 15,
                "z": -0.9575
               },
               {
                "showarrow": false,
                "text": 9,
                "x": -5.321,
                "y": 1.2985,
                "yshift": 15,
                "z": -1.002
               },
               {
                "showarrow": false,
                "text": 10,
                "x": -3.507,
                "y": -0.2891,
                "yshift": 15,
                "z": 0.102
               },
               {
                "showarrow": false,
                "text": 11,
                "x": 0,
                "y": 0,
                "yshift": 15,
                "z": 0
               },
               {
                "showarrow": false,
                "text": 12,
                "x": -3.8118,
                "y": 1.0869,
                "yshift": 15,
                "z": -0.384
               },
               {
                "font": {
                 "color": "steelblue"
                },
                "showarrow": false,
                "text": "0.975",
                "x": 1.6887500000000002,
                "y": -0.5251,
                "yshift": 15,
                "z": -0.48085
               },
               {
                "font": {
                 "color": "steelblue"
                },
                "showarrow": false,
                "text": "1.036",
                "x": -0.8274,
                "y": 1.3262,
                "yshift": 15,
                "z": -1.01695
               },
               {
                "font": {
                 "color": "steelblue"
                },
                "showarrow": false,
                "text": "1.027",
                "x": -1.5568499999999998,
                "y": -0.99285,
                "yshift": 15,
                "z": 0.00895
               },
               {
                "font": {
                 "color": "steelblue"
                },
                "showarrow": false,
                "text": "1.583",
                "x": 0.63325,
                "y": -0.37115,
                "yshift": 15,
                "z": -0.2957
               },
               {
                "font": {
                 "color": "steelblue"
                },
                "showarrow": false,
                "text": "1.510",
                "x": 0.1067,
                "y": 0.30035,
                "yshift": 15,
                "z": 0.6845
               },
               {
                "font": {
                 "color": "steelblue"
                },
                "showarrow": false,
                "text": "1.565",
                "x": -0.53425,
                "y": -0.57155,
                "yshift": 15,
                "z": -0.0206
               },
               {
                "font": {
                 "color": "steelblue"
                },
                "showarrow": false,
                "text": "1.574",
                "x": -0.17355,
                "y": 0.56635,
                "yshift": 15,
                "z": -0.51825
               },
               {
                "font": {
                 "color": "steelblue"
                },
                "showarrow": false,
                "text": "1.641",
                "x": -4.4186499999999995,
                "y": 1.4729,
                "yshift": 15,
                "z": 0.010449999999999987
               },
               {
                "font": {
                 "color": "steelblue"
                },
                "showarrow": false,
                "text": "1.492",
                "x": -3.28465,
                "y": 1.52995,
                "yshift": 15,
                "z": -0.67075
               },
               {
                "font": {
                 "color": "steelblue"
                },
                "showarrow": false,
                "text": "1.645",
                "x": -4.5664,
                "y": 1.1926999999999999,
                "yshift": 15,
                "z": -0.6930000000000001
               },
               {
                "font": {
                 "color": "steelblue"
                },
                "showarrow": false,
                "text": "1.491",
                "x": -3.6593999999999998,
                "y": 0.3989,
                "yshift": 15,
                "z": -0.14100000000000001
               },
               {
                "font": {
                 "color": "steelblue"
                },
                "showarrow": false,
                "text": 1.52,
                "x": -2.0326,
                "y": 1.74635,
                "yshift": 15,
                "z": -0.9774499999999999
               },
               {
                "font": {
                 "color": "steelblue"
                },
                "showarrow": false,
                "text": 1.564,
                "x": -2.7761,
                "y": -0.56585,
                "yshift": 15,
                "z": 0.08055
               }
              ]
             }
            ],
            "label": "Indices & Bond Lengths",
            "method": "relayout"
           },
           {
            "args": [
             {
              "scene.annotations": [
               {
                "font": {
                 "color": "steelblue"
                },
                "showarrow": false,
                "text": "0.975",
                "x": 1.6887500000000002,
                "y": -0.5251,
                "yshift": 15,
                "z": -0.48085
               },
               {
                "font": {
                 "color": "steelblue"
                },
                "showarrow": false,
                "text": "1.036",
                "x": -0.8274,
                "y": 1.3262,
                "yshift": 15,
                "z": -1.01695
               },
               {
                "font": {
                 "color": "steelblue"
                },
                "showarrow": false,
                "text": "1.027",
                "x": -1.5568499999999998,
                "y": -0.99285,
                "yshift": 15,
                "z": 0.00895
               },
               {
                "font": {
                 "color": "steelblue"
                },
                "showarrow": false,
                "text": "1.583",
                "x": 0.63325,
                "y": -0.37115,
                "yshift": 15,
                "z": -0.2957
               },
               {
                "font": {
                 "color": "steelblue"
                },
                "showarrow": false,
                "text": "1.510",
                "x": 0.1067,
                "y": 0.30035,
                "yshift": 15,
                "z": 0.6845
               },
               {
                "font": {
                 "color": "steelblue"
                },
                "showarrow": false,
                "text": "1.565",
                "x": -0.53425,
                "y": -0.57155,
                "yshift": 15,
                "z": -0.0206
               },
               {
                "font": {
                 "color": "steelblue"
                },
                "showarrow": false,
                "text": "1.574",
                "x": -0.17355,
                "y": 0.56635,
                "yshift": 15,
                "z": -0.51825
               },
               {
                "font": {
                 "color": "steelblue"
                },
                "showarrow": false,
                "text": "1.641",
                "x": -4.4186499999999995,
                "y": 1.4729,
                "yshift": 15,
                "z": 0.010449999999999987
               },
               {
                "font": {
                 "color": "steelblue"
                },
                "showarrow": false,
                "text": "1.492",
                "x": -3.28465,
                "y": 1.52995,
                "yshift": 15,
                "z": -0.67075
               },
               {
                "font": {
                 "color": "steelblue"
                },
                "showarrow": false,
                "text": "1.645",
                "x": -4.5664,
                "y": 1.1926999999999999,
                "yshift": 15,
                "z": -0.6930000000000001
               },
               {
                "font": {
                 "color": "steelblue"
                },
                "showarrow": false,
                "text": "1.491",
                "x": -3.6593999999999998,
                "y": 0.3989,
                "yshift": 15,
                "z": -0.14100000000000001
               },
               {
                "font": {
                 "color": "steelblue"
                },
                "showarrow": false,
                "text": 1.52,
                "x": -2.0326,
                "y": 1.74635,
                "yshift": 15,
                "z": -0.9774499999999999
               },
               {
                "font": {
                 "color": "steelblue"
                },
                "showarrow": false,
                "text": 1.564,
                "x": -2.7761,
                "y": -0.56585,
                "yshift": 15,
                "z": 0.08055
               }
              ]
             }
            ],
            "label": "Bond Lengths",
            "method": "relayout"
           },
           {
            "args": [
             {}
            ],
            "label": "Hide All",
            "method": "relayout"
           }
          ],
          "direction": "down",
          "xanchor": "left",
          "yanchor": "top"
         }
        ]
       }
      },
      "text/html": [
       "<div>                            <div id=\"856e2d1e-5924-48e2-a92b-b11352db3432\" class=\"plotly-graph-div\" style=\"height:525px; width:100%;\"></div>            <script type=\"text/javascript\">                require([\"plotly\"], function(Plotly) {                    window.PLOTLYENV=window.PLOTLYENV || {};                                    if (document.getElementById(\"856e2d1e-5924-48e2-a92b-b11352db3432\")) {                    Plotly.newPlot(                        \"856e2d1e-5924-48e2-a92b-b11352db3432\",                        [{\"marker\": {\"color\": [\"white\", \"white\", \"white\", \"red\", \"red\", \"red\", \"red\", \"red\", \"red\", \"red\", \"red\", \"orange\", \"orange\"], \"line\": {\"color\": \"lightgray\", \"width\": 2}, \"opacity\": 0.8, \"size\": [9.200000000000001, 9.200000000000001, 9.200000000000001, 27.200000000000003, 27.200000000000003, 27.200000000000003, 27.200000000000003, 27.200000000000003, 27.200000000000003, 27.200000000000003, 27.200000000000003, 42.0, 42.0], \"symbol\": \"circle\"}, \"mode\": \"markers\", \"text\": [\"H1\", \"H2\", \"H3\", \"O1\", \"O2\", \"O3\", \"O4\", \"O5\", \"O6\", \"O7\", \"O8\", \"P1\", \"P2\"], \"type\": \"scatter3d\", \"x\": [2.111, -1.3077, -2.0452, 1.2665, 0.2134, -1.0685, -0.3471, -5.0255, -2.7575, -5.321, -3.507, 0, -3.8118], \"y\": [-0.3079, 1.5197, -0.8426, -0.7423, 0.6007, -1.1431, 1.1327, 1.8589, 1.973, 1.2985, -0.2891, 0, 1.0869], \"z\": [-0.3703, -0.9974, 0.0591, -0.5914, 1.369, -0.0412, -1.0365, 0.4049, -0.9575, -1.002, 0.102, 0, -0.384]}, {\"hoverinfo\": \"none\", \"marker\": {\"color\": \"gray\", \"opacity\": 0.1, \"size\": 3}, \"mode\": \"lines\", \"type\": \"scatter3d\", \"x\": [2.111, 1.2665, null, 1.2665, 0, null, 1.2665, 2.111, null, -1.3077, -0.3471, null, -1.3077, -2.7575, null, -0.3471, -1.3077, null, -0.3471, 0, null, -2.0452, -1.0685, null, -2.0452, -3.507, null, -1.0685, -2.0452, null, -1.0685, 0, null, 0, 1.2665, null, 0, -1.0685, null, 0, -0.3471, null, 0, 0.2134, null, 0.2134, 0, null, -5.0255, -3.8118, null, -3.8118, -5.0255, null, -3.8118, -2.7575, null, -3.8118, -3.507, null, -3.8118, -5.321, null, -2.7575, -1.3077, null, -2.7575, -3.8118, null, -5.321, -3.8118, null, -3.507, -2.0452, null, -3.507, -3.8118, null], \"y\": [-0.3079, -0.7423, null, -0.7423, 0, null, -0.7423, -0.3079, null, 1.5197, 1.1327, null, 1.5197, 1.973, null, 1.1327, 1.5197, null, 1.1327, 0, null, -0.8426, -1.1431, null, -0.8426, -0.2891, null, -1.1431, -0.8426, null, -1.1431, 0, null, 0, -0.7423, null, 0, -1.1431, null, 0, 1.1327, null, 0, 0.6007, null, 0.6007, 0, null, 1.8589, 1.0869, null, 1.0869, 1.8589, null, 1.0869, 1.973, null, 1.0869, -0.2891, null, 1.0869, 1.2985, null, 1.973, 1.5197, null, 1.973, 1.0869, null, 1.2985, 1.0869, null, -0.2891, -0.8426, null, -0.2891, 1.0869, null], \"z\": [-0.3703, -0.5914, null, -0.5914, 0, null, -0.5914, -0.3703, null, -0.9974, -1.0365, null, -0.9974, -0.9575, null, -1.0365, -0.9974, null, -1.0365, 0, null, 0.0591, -0.0412, null, 0.0591, 0.102, null, -0.0412, 0.0591, null, -0.0412, 0, null, 0, -0.5914, null, 0, -0.0412, null, 0, -1.0365, null, 0, 1.369, null, 1.369, 0, null, 0.4049, -0.384, null, -0.384, 0.4049, null, -0.384, -0.9575, null, -0.384, 0.102, null, -0.384, -1.002, null, -0.9575, -0.9974, null, -0.9575, -0.384, null, -1.002, -0.384, null, 0.102, 0.0591, null, 0.102, -0.384, null]}],                        {\"margin\": {\"b\": 0, \"l\": 0, \"r\": 0, \"t\": 0}, \"scene\": {\"annotations\": [{\"showarrow\": false, \"text\": \"H1\", \"x\": 2.111, \"y\": -0.3079, \"yshift\": 15, \"z\": -0.3703}, {\"showarrow\": false, \"text\": \"H2\", \"x\": -1.3077, \"y\": 1.5197, \"yshift\": 15, \"z\": -0.9974}, {\"showarrow\": false, \"text\": \"H3\", \"x\": -2.0452, \"y\": -0.8426, \"yshift\": 15, \"z\": 0.0591}, {\"showarrow\": false, \"text\": \"O1\", \"x\": 1.2665, \"y\": -0.7423, \"yshift\": 15, \"z\": -0.5914}, {\"showarrow\": false, \"text\": \"O2\", \"x\": 0.2134, \"y\": 0.6007, \"yshift\": 15, \"z\": 1.369}, {\"showarrow\": false, \"text\": \"O3\", \"x\": -1.0685, \"y\": -1.1431, \"yshift\": 15, \"z\": -0.0412}, {\"showarrow\": false, \"text\": \"O4\", \"x\": -0.3471, \"y\": 1.1327, \"yshift\": 15, \"z\": -1.0365}, {\"showarrow\": false, \"text\": \"O5\", \"x\": -5.0255, \"y\": 1.8589, \"yshift\": 15, \"z\": 0.4049}, {\"showarrow\": false, \"text\": \"O6\", \"x\": -2.7575, \"y\": 1.973, \"yshift\": 15, \"z\": -0.9575}, {\"showarrow\": false, \"text\": \"O7\", \"x\": -5.321, \"y\": 1.2985, \"yshift\": 15, \"z\": -1.002}, {\"showarrow\": false, \"text\": \"O8\", \"x\": -3.507, \"y\": -0.2891, \"yshift\": 15, \"z\": 0.102}, {\"showarrow\": false, \"text\": \"P1\", \"x\": 0, \"y\": 0, \"yshift\": 15, \"z\": 0}, {\"showarrow\": false, \"text\": \"P2\", \"x\": -3.8118, \"y\": 1.0869, \"yshift\": 15, \"z\": -0.384}], \"xaxis\": {\"showbackground\": true, \"showgrid\": true, \"showticklabels\": true, \"title\": {\"font\": {\"color\": \"white\"}}, \"zeroline\": true}, \"yaxis\": {\"showbackground\": true, \"showgrid\": true, \"showticklabels\": true, \"title\": {\"font\": {\"color\": \"white\"}}, \"zeroline\": true}, \"zaxis\": {\"showbackground\": true, \"showgrid\": true, \"showticklabels\": true, \"title\": {\"font\": {\"color\": \"white\"}}, \"zeroline\": true}}, \"showlegend\": false, \"template\": {\"data\": {\"bar\": [{\"error_x\": {\"color\": \"#2a3f5f\"}, \"error_y\": {\"color\": \"#2a3f5f\"}, \"marker\": {\"line\": {\"color\": \"#E5ECF6\", \"width\": 0.5}}, \"type\": \"bar\"}], \"barpolar\": [{\"marker\": {\"line\": {\"color\": \"#E5ECF6\", \"width\": 0.5}}, \"type\": \"barpolar\"}], \"carpet\": [{\"aaxis\": {\"endlinecolor\": \"#2a3f5f\", \"gridcolor\": \"white\", \"linecolor\": \"white\", \"minorgridcolor\": \"white\", \"startlinecolor\": \"#2a3f5f\"}, \"baxis\": {\"endlinecolor\": \"#2a3f5f\", \"gridcolor\": \"white\", \"linecolor\": \"white\", \"minorgridcolor\": \"white\", \"startlinecolor\": \"#2a3f5f\"}, \"type\": \"carpet\"}], \"choropleth\": [{\"colorbar\": {\"outlinewidth\": 0, \"ticks\": \"\"}, \"type\": \"choropleth\"}], \"contour\": [{\"colorbar\": {\"outlinewidth\": 0, \"ticks\": \"\"}, \"colorscale\": [[0.0, \"#0d0887\"], [0.1111111111111111, \"#46039f\"], [0.2222222222222222, \"#7201a8\"], [0.3333333333333333, \"#9c179e\"], [0.4444444444444444, \"#bd3786\"], [0.5555555555555556, \"#d8576b\"], [0.6666666666666666, \"#ed7953\"], [0.7777777777777778, \"#fb9f3a\"], [0.8888888888888888, \"#fdca26\"], [1.0, \"#f0f921\"]], \"type\": \"contour\"}], \"contourcarpet\": [{\"colorbar\": {\"outlinewidth\": 0, \"ticks\": \"\"}, \"type\": \"contourcarpet\"}], \"heatmap\": [{\"colorbar\": {\"outlinewidth\": 0, \"ticks\": \"\"}, \"colorscale\": [[0.0, \"#0d0887\"], [0.1111111111111111, \"#46039f\"], [0.2222222222222222, \"#7201a8\"], [0.3333333333333333, \"#9c179e\"], [0.4444444444444444, \"#bd3786\"], [0.5555555555555556, \"#d8576b\"], [0.6666666666666666, \"#ed7953\"], [0.7777777777777778, \"#fb9f3a\"], [0.8888888888888888, \"#fdca26\"], [1.0, \"#f0f921\"]], \"type\": \"heatmap\"}], \"heatmapgl\": [{\"colorbar\": {\"outlinewidth\": 0, \"ticks\": \"\"}, \"colorscale\": [[0.0, \"#0d0887\"], [0.1111111111111111, \"#46039f\"], [0.2222222222222222, \"#7201a8\"], [0.3333333333333333, \"#9c179e\"], [0.4444444444444444, \"#bd3786\"], [0.5555555555555556, \"#d8576b\"], [0.6666666666666666, \"#ed7953\"], [0.7777777777777778, \"#fb9f3a\"], [0.8888888888888888, \"#fdca26\"], [1.0, \"#f0f921\"]], \"type\": \"heatmapgl\"}], \"histogram\": [{\"marker\": {\"colorbar\": {\"outlinewidth\": 0, \"ticks\": \"\"}}, \"type\": \"histogram\"}], \"histogram2d\": [{\"colorbar\": {\"outlinewidth\": 0, \"ticks\": \"\"}, \"colorscale\": [[0.0, \"#0d0887\"], [0.1111111111111111, \"#46039f\"], [0.2222222222222222, \"#7201a8\"], [0.3333333333333333, \"#9c179e\"], [0.4444444444444444, \"#bd3786\"], [0.5555555555555556, \"#d8576b\"], [0.6666666666666666, \"#ed7953\"], [0.7777777777777778, \"#fb9f3a\"], [0.8888888888888888, \"#fdca26\"], [1.0, \"#f0f921\"]], \"type\": \"histogram2d\"}], \"histogram2dcontour\": [{\"colorbar\": {\"outlinewidth\": 0, \"ticks\": \"\"}, \"colorscale\": [[0.0, \"#0d0887\"], [0.1111111111111111, \"#46039f\"], [0.2222222222222222, \"#7201a8\"], [0.3333333333333333, \"#9c179e\"], [0.4444444444444444, \"#bd3786\"], [0.5555555555555556, \"#d8576b\"], [0.6666666666666666, \"#ed7953\"], [0.7777777777777778, \"#fb9f3a\"], [0.8888888888888888, \"#fdca26\"], [1.0, \"#f0f921\"]], \"type\": \"histogram2dcontour\"}], \"mesh3d\": [{\"colorbar\": {\"outlinewidth\": 0, \"ticks\": \"\"}, \"type\": \"mesh3d\"}], \"parcoords\": [{\"line\": {\"colorbar\": {\"outlinewidth\": 0, \"ticks\": \"\"}}, \"type\": \"parcoords\"}], \"pie\": [{\"automargin\": true, \"type\": \"pie\"}], \"scatter\": [{\"marker\": {\"colorbar\": {\"outlinewidth\": 0, \"ticks\": \"\"}}, \"type\": \"scatter\"}], \"scatter3d\": [{\"line\": {\"colorbar\": {\"outlinewidth\": 0, \"ticks\": \"\"}}, \"marker\": {\"colorbar\": {\"outlinewidth\": 0, \"ticks\": \"\"}}, \"type\": \"scatter3d\"}], \"scattercarpet\": [{\"marker\": {\"colorbar\": {\"outlinewidth\": 0, \"ticks\": \"\"}}, \"type\": \"scattercarpet\"}], \"scattergeo\": [{\"marker\": {\"colorbar\": {\"outlinewidth\": 0, \"ticks\": \"\"}}, \"type\": \"scattergeo\"}], \"scattergl\": [{\"marker\": {\"colorbar\": {\"outlinewidth\": 0, \"ticks\": \"\"}}, \"type\": \"scattergl\"}], \"scattermapbox\": [{\"marker\": {\"colorbar\": {\"outlinewidth\": 0, \"ticks\": \"\"}}, \"type\": \"scattermapbox\"}], \"scatterpolar\": [{\"marker\": {\"colorbar\": {\"outlinewidth\": 0, \"ticks\": \"\"}}, \"type\": \"scatterpolar\"}], \"scatterpolargl\": [{\"marker\": {\"colorbar\": {\"outlinewidth\": 0, \"ticks\": \"\"}}, \"type\": \"scatterpolargl\"}], \"scatterternary\": [{\"marker\": {\"colorbar\": {\"outlinewidth\": 0, \"ticks\": \"\"}}, \"type\": \"scatterternary\"}], \"surface\": [{\"colorbar\": {\"outlinewidth\": 0, \"ticks\": \"\"}, \"colorscale\": [[0.0, \"#0d0887\"], [0.1111111111111111, \"#46039f\"], [0.2222222222222222, \"#7201a8\"], [0.3333333333333333, \"#9c179e\"], [0.4444444444444444, \"#bd3786\"], [0.5555555555555556, \"#d8576b\"], [0.6666666666666666, \"#ed7953\"], [0.7777777777777778, \"#fb9f3a\"], [0.8888888888888888, \"#fdca26\"], [1.0, \"#f0f921\"]], \"type\": \"surface\"}], \"table\": [{\"cells\": {\"fill\": {\"color\": \"#EBF0F8\"}, \"line\": {\"color\": \"white\"}}, \"header\": {\"fill\": {\"color\": \"#C8D4E3\"}, \"line\": {\"color\": \"white\"}}, \"type\": \"table\"}]}, \"layout\": {\"annotationdefaults\": {\"arrowcolor\": \"#2a3f5f\", \"arrowhead\": 0, \"arrowwidth\": 1}, \"coloraxis\": {\"colorbar\": {\"outlinewidth\": 0, \"ticks\": \"\"}}, \"colorscale\": {\"diverging\": [[0, \"#8e0152\"], [0.1, \"#c51b7d\"], [0.2, \"#de77ae\"], [0.3, \"#f1b6da\"], [0.4, \"#fde0ef\"], [0.5, \"#f7f7f7\"], [0.6, \"#e6f5d0\"], [0.7, \"#b8e186\"], [0.8, \"#7fbc41\"], [0.9, \"#4d9221\"], [1, \"#276419\"]], \"sequential\": [[0.0, \"#0d0887\"], [0.1111111111111111, \"#46039f\"], [0.2222222222222222, \"#7201a8\"], [0.3333333333333333, \"#9c179e\"], [0.4444444444444444, \"#bd3786\"], [0.5555555555555556, \"#d8576b\"], [0.6666666666666666, \"#ed7953\"], [0.7777777777777778, \"#fb9f3a\"], [0.8888888888888888, \"#fdca26\"], [1.0, \"#f0f921\"]], \"sequentialminus\": [[0.0, \"#0d0887\"], [0.1111111111111111, \"#46039f\"], [0.2222222222222222, \"#7201a8\"], [0.3333333333333333, \"#9c179e\"], [0.4444444444444444, \"#bd3786\"], [0.5555555555555556, \"#d8576b\"], [0.6666666666666666, \"#ed7953\"], [0.7777777777777778, \"#fb9f3a\"], [0.8888888888888888, \"#fdca26\"], [1.0, \"#f0f921\"]]}, \"colorway\": [\"#636efa\", \"#EF553B\", \"#00cc96\", \"#ab63fa\", \"#FFA15A\", \"#19d3f3\", \"#FF6692\", \"#B6E880\", \"#FF97FF\", \"#FECB52\"], \"font\": {\"color\": \"#2a3f5f\"}, \"geo\": {\"bgcolor\": \"white\", \"lakecolor\": \"white\", \"landcolor\": \"#E5ECF6\", \"showlakes\": true, \"showland\": true, \"subunitcolor\": \"white\"}, \"hoverlabel\": {\"align\": \"left\"}, \"hovermode\": \"closest\", \"mapbox\": {\"style\": \"light\"}, \"paper_bgcolor\": \"white\", \"plot_bgcolor\": \"#E5ECF6\", \"polar\": {\"angularaxis\": {\"gridcolor\": \"white\", \"linecolor\": \"white\", \"ticks\": \"\"}, \"bgcolor\": \"#E5ECF6\", \"radialaxis\": {\"gridcolor\": \"white\", \"linecolor\": \"white\", \"ticks\": \"\"}}, \"scene\": {\"xaxis\": {\"backgroundcolor\": \"#E5ECF6\", \"gridcolor\": \"white\", \"gridwidth\": 2, \"linecolor\": \"white\", \"showbackground\": true, \"ticks\": \"\", \"zerolinecolor\": \"white\"}, \"yaxis\": {\"backgroundcolor\": \"#E5ECF6\", \"gridcolor\": \"white\", \"gridwidth\": 2, \"linecolor\": \"white\", \"showbackground\": true, \"ticks\": \"\", \"zerolinecolor\": \"white\"}, \"zaxis\": {\"backgroundcolor\": \"#E5ECF6\", \"gridcolor\": \"white\", \"gridwidth\": 2, \"linecolor\": \"white\", \"showbackground\": true, \"ticks\": \"\", \"zerolinecolor\": \"white\"}}, \"shapedefaults\": {\"line\": {\"color\": \"#2a3f5f\"}}, \"ternary\": {\"aaxis\": {\"gridcolor\": \"white\", \"linecolor\": \"white\", \"ticks\": \"\"}, \"baxis\": {\"gridcolor\": \"white\", \"linecolor\": \"white\", \"ticks\": \"\"}, \"bgcolor\": \"#E5ECF6\", \"caxis\": {\"gridcolor\": \"white\", \"linecolor\": \"white\", \"ticks\": \"\"}}, \"title\": {\"x\": 0.05}, \"xaxis\": {\"automargin\": true, \"gridcolor\": \"white\", \"linecolor\": \"white\", \"ticks\": \"\", \"title\": {\"standoff\": 15}, \"zerolinecolor\": \"white\", \"zerolinewidth\": 2}, \"yaxis\": {\"automargin\": true, \"gridcolor\": \"white\", \"linecolor\": \"white\", \"ticks\": \"\", \"title\": {\"standoff\": 15}, \"zerolinecolor\": \"white\", \"zerolinewidth\": 2}}}, \"updatemenus\": [{\"buttons\": [{\"args\": [{\"scene.annotations\": [{\"showarrow\": false, \"text\": \"H1\", \"x\": 2.111, \"y\": -0.3079, \"yshift\": 15, \"z\": -0.3703}, {\"showarrow\": false, \"text\": \"H2\", \"x\": -1.3077, \"y\": 1.5197, \"yshift\": 15, \"z\": -0.9974}, {\"showarrow\": false, \"text\": \"H3\", \"x\": -2.0452, \"y\": -0.8426, \"yshift\": 15, \"z\": 0.0591}, {\"showarrow\": false, \"text\": \"O1\", \"x\": 1.2665, \"y\": -0.7423, \"yshift\": 15, \"z\": -0.5914}, {\"showarrow\": false, \"text\": \"O2\", \"x\": 0.2134, \"y\": 0.6007, \"yshift\": 15, \"z\": 1.369}, {\"showarrow\": false, \"text\": \"O3\", \"x\": -1.0685, \"y\": -1.1431, \"yshift\": 15, \"z\": -0.0412}, {\"showarrow\": false, \"text\": \"O4\", \"x\": -0.3471, \"y\": 1.1327, \"yshift\": 15, \"z\": -1.0365}, {\"showarrow\": false, \"text\": \"O5\", \"x\": -5.0255, \"y\": 1.8589, \"yshift\": 15, \"z\": 0.4049}, {\"showarrow\": false, \"text\": \"O6\", \"x\": -2.7575, \"y\": 1.973, \"yshift\": 15, \"z\": -0.9575}, {\"showarrow\": false, \"text\": \"O7\", \"x\": -5.321, \"y\": 1.2985, \"yshift\": 15, \"z\": -1.002}, {\"showarrow\": false, \"text\": \"O8\", \"x\": -3.507, \"y\": -0.2891, \"yshift\": 15, \"z\": 0.102}, {\"showarrow\": false, \"text\": \"P1\", \"x\": 0, \"y\": 0, \"yshift\": 15, \"z\": 0}, {\"showarrow\": false, \"text\": \"P2\", \"x\": -3.8118, \"y\": 1.0869, \"yshift\": 15, \"z\": -0.384}]}], \"label\": \"Elements\", \"method\": \"relayout\"}, {\"args\": [{\"scene.annotations\": [{\"showarrow\": false, \"text\": \"H1\", \"x\": 2.111, \"y\": -0.3079, \"yshift\": 15, \"z\": -0.3703}, {\"showarrow\": false, \"text\": \"H2\", \"x\": -1.3077, \"y\": 1.5197, \"yshift\": 15, \"z\": -0.9974}, {\"showarrow\": false, \"text\": \"H3\", \"x\": -2.0452, \"y\": -0.8426, \"yshift\": 15, \"z\": 0.0591}, {\"showarrow\": false, \"text\": \"O1\", \"x\": 1.2665, \"y\": -0.7423, \"yshift\": 15, \"z\": -0.5914}, {\"showarrow\": false, \"text\": \"O2\", \"x\": 0.2134, \"y\": 0.6007, \"yshift\": 15, \"z\": 1.369}, {\"showarrow\": false, \"text\": \"O3\", \"x\": -1.0685, \"y\": -1.1431, \"yshift\": 15, \"z\": -0.0412}, {\"showarrow\": false, \"text\": \"O4\", \"x\": -0.3471, \"y\": 1.1327, \"yshift\": 15, \"z\": -1.0365}, {\"showarrow\": false, \"text\": \"O5\", \"x\": -5.0255, \"y\": 1.8589, \"yshift\": 15, \"z\": 0.4049}, {\"showarrow\": false, \"text\": \"O6\", \"x\": -2.7575, \"y\": 1.973, \"yshift\": 15, \"z\": -0.9575}, {\"showarrow\": false, \"text\": \"O7\", \"x\": -5.321, \"y\": 1.2985, \"yshift\": 15, \"z\": -1.002}, {\"showarrow\": false, \"text\": \"O8\", \"x\": -3.507, \"y\": -0.2891, \"yshift\": 15, \"z\": 0.102}, {\"showarrow\": false, \"text\": \"P1\", \"x\": 0, \"y\": 0, \"yshift\": 15, \"z\": 0}, {\"showarrow\": false, \"text\": \"P2\", \"x\": -3.8118, \"y\": 1.0869, \"yshift\": 15, \"z\": -0.384}, {\"font\": {\"color\": \"steelblue\"}, \"showarrow\": false, \"text\": \"0.975\", \"x\": 1.6887500000000002, \"y\": -0.5251, \"yshift\": 15, \"z\": -0.48085}, {\"font\": {\"color\": \"steelblue\"}, \"showarrow\": false, \"text\": \"1.036\", \"x\": -0.8274, \"y\": 1.3262, \"yshift\": 15, \"z\": -1.01695}, {\"font\": {\"color\": \"steelblue\"}, \"showarrow\": false, \"text\": \"1.027\", \"x\": -1.5568499999999998, \"y\": -0.99285, \"yshift\": 15, \"z\": 0.00895}, {\"font\": {\"color\": \"steelblue\"}, \"showarrow\": false, \"text\": \"1.583\", \"x\": 0.63325, \"y\": -0.37115, \"yshift\": 15, \"z\": -0.2957}, {\"font\": {\"color\": \"steelblue\"}, \"showarrow\": false, \"text\": \"1.510\", \"x\": 0.1067, \"y\": 0.30035, \"yshift\": 15, \"z\": 0.6845}, {\"font\": {\"color\": \"steelblue\"}, \"showarrow\": false, \"text\": \"1.565\", \"x\": -0.53425, \"y\": -0.57155, \"yshift\": 15, \"z\": -0.0206}, {\"font\": {\"color\": \"steelblue\"}, \"showarrow\": false, \"text\": \"1.574\", \"x\": -0.17355, \"y\": 0.56635, \"yshift\": 15, \"z\": -0.51825}, {\"font\": {\"color\": \"steelblue\"}, \"showarrow\": false, \"text\": \"1.641\", \"x\": -4.4186499999999995, \"y\": 1.4729, \"yshift\": 15, \"z\": 0.010449999999999987}, {\"font\": {\"color\": \"steelblue\"}, \"showarrow\": false, \"text\": \"1.492\", \"x\": -3.28465, \"y\": 1.52995, \"yshift\": 15, \"z\": -0.67075}, {\"font\": {\"color\": \"steelblue\"}, \"showarrow\": false, \"text\": \"1.645\", \"x\": -4.5664, \"y\": 1.1926999999999999, \"yshift\": 15, \"z\": -0.6930000000000001}, {\"font\": {\"color\": \"steelblue\"}, \"showarrow\": false, \"text\": \"1.491\", \"x\": -3.6593999999999998, \"y\": 0.3989, \"yshift\": 15, \"z\": -0.14100000000000001}, {\"font\": {\"color\": \"steelblue\"}, \"showarrow\": false, \"text\": 1.52, \"x\": -2.0326, \"y\": 1.74635, \"yshift\": 15, \"z\": -0.9774499999999999}, {\"font\": {\"color\": \"steelblue\"}, \"showarrow\": false, \"text\": 1.564, \"x\": -2.7761, \"y\": -0.56585, \"yshift\": 15, \"z\": 0.08055}]}], \"label\": \"Element & Bond Lengths\", \"method\": \"relayout\"}, {\"args\": [{\"scene.annotations\": [{\"showarrow\": false, \"text\": 0, \"x\": 2.111, \"y\": -0.3079, \"yshift\": 15, \"z\": -0.3703}, {\"showarrow\": false, \"text\": 1, \"x\": -1.3077, \"y\": 1.5197, \"yshift\": 15, \"z\": -0.9974}, {\"showarrow\": false, \"text\": 2, \"x\": -2.0452, \"y\": -0.8426, \"yshift\": 15, \"z\": 0.0591}, {\"showarrow\": false, \"text\": 3, \"x\": 1.2665, \"y\": -0.7423, \"yshift\": 15, \"z\": -0.5914}, {\"showarrow\": false, \"text\": 4, \"x\": 0.2134, \"y\": 0.6007, \"yshift\": 15, \"z\": 1.369}, {\"showarrow\": false, \"text\": 5, \"x\": -1.0685, \"y\": -1.1431, \"yshift\": 15, \"z\": -0.0412}, {\"showarrow\": false, \"text\": 6, \"x\": -0.3471, \"y\": 1.1327, \"yshift\": 15, \"z\": -1.0365}, {\"showarrow\": false, \"text\": 7, \"x\": -5.0255, \"y\": 1.8589, \"yshift\": 15, \"z\": 0.4049}, {\"showarrow\": false, \"text\": 8, \"x\": -2.7575, \"y\": 1.973, \"yshift\": 15, \"z\": -0.9575}, {\"showarrow\": false, \"text\": 9, \"x\": -5.321, \"y\": 1.2985, \"yshift\": 15, \"z\": -1.002}, {\"showarrow\": false, \"text\": 10, \"x\": -3.507, \"y\": -0.2891, \"yshift\": 15, \"z\": 0.102}, {\"showarrow\": false, \"text\": 11, \"x\": 0, \"y\": 0, \"yshift\": 15, \"z\": 0}, {\"showarrow\": false, \"text\": 12, \"x\": -3.8118, \"y\": 1.0869, \"yshift\": 15, \"z\": -0.384}]}], \"label\": \"Indices\", \"method\": \"relayout\"}, {\"args\": [{\"scene.annotations\": [{\"showarrow\": false, \"text\": 0, \"x\": 2.111, \"y\": -0.3079, \"yshift\": 15, \"z\": -0.3703}, {\"showarrow\": false, \"text\": 1, \"x\": -1.3077, \"y\": 1.5197, \"yshift\": 15, \"z\": -0.9974}, {\"showarrow\": false, \"text\": 2, \"x\": -2.0452, \"y\": -0.8426, \"yshift\": 15, \"z\": 0.0591}, {\"showarrow\": false, \"text\": 3, \"x\": 1.2665, \"y\": -0.7423, \"yshift\": 15, \"z\": -0.5914}, {\"showarrow\": false, \"text\": 4, \"x\": 0.2134, \"y\": 0.6007, \"yshift\": 15, \"z\": 1.369}, {\"showarrow\": false, \"text\": 5, \"x\": -1.0685, \"y\": -1.1431, \"yshift\": 15, \"z\": -0.0412}, {\"showarrow\": false, \"text\": 6, \"x\": -0.3471, \"y\": 1.1327, \"yshift\": 15, \"z\": -1.0365}, {\"showarrow\": false, \"text\": 7, \"x\": -5.0255, \"y\": 1.8589, \"yshift\": 15, \"z\": 0.4049}, {\"showarrow\": false, \"text\": 8, \"x\": -2.7575, \"y\": 1.973, \"yshift\": 15, \"z\": -0.9575}, {\"showarrow\": false, \"text\": 9, \"x\": -5.321, \"y\": 1.2985, \"yshift\": 15, \"z\": -1.002}, {\"showarrow\": false, \"text\": 10, \"x\": -3.507, \"y\": -0.2891, \"yshift\": 15, \"z\": 0.102}, {\"showarrow\": false, \"text\": 11, \"x\": 0, \"y\": 0, \"yshift\": 15, \"z\": 0}, {\"showarrow\": false, \"text\": 12, \"x\": -3.8118, \"y\": 1.0869, \"yshift\": 15, \"z\": -0.384}, {\"font\": {\"color\": \"steelblue\"}, \"showarrow\": false, \"text\": \"0.975\", \"x\": 1.6887500000000002, \"y\": -0.5251, \"yshift\": 15, \"z\": -0.48085}, {\"font\": {\"color\": \"steelblue\"}, \"showarrow\": false, \"text\": \"1.036\", \"x\": -0.8274, \"y\": 1.3262, \"yshift\": 15, \"z\": -1.01695}, {\"font\": {\"color\": \"steelblue\"}, \"showarrow\": false, \"text\": \"1.027\", \"x\": -1.5568499999999998, \"y\": -0.99285, \"yshift\": 15, \"z\": 0.00895}, {\"font\": {\"color\": \"steelblue\"}, \"showarrow\": false, \"text\": \"1.583\", \"x\": 0.63325, \"y\": -0.37115, \"yshift\": 15, \"z\": -0.2957}, {\"font\": {\"color\": \"steelblue\"}, \"showarrow\": false, \"text\": \"1.510\", \"x\": 0.1067, \"y\": 0.30035, \"yshift\": 15, \"z\": 0.6845}, {\"font\": {\"color\": \"steelblue\"}, \"showarrow\": false, \"text\": \"1.565\", \"x\": -0.53425, \"y\": -0.57155, \"yshift\": 15, \"z\": -0.0206}, {\"font\": {\"color\": \"steelblue\"}, \"showarrow\": false, \"text\": \"1.574\", \"x\": -0.17355, \"y\": 0.56635, \"yshift\": 15, \"z\": -0.51825}, {\"font\": {\"color\": \"steelblue\"}, \"showarrow\": false, \"text\": \"1.641\", \"x\": -4.4186499999999995, \"y\": 1.4729, \"yshift\": 15, \"z\": 0.010449999999999987}, {\"font\": {\"color\": \"steelblue\"}, \"showarrow\": false, \"text\": \"1.492\", \"x\": -3.28465, \"y\": 1.52995, \"yshift\": 15, \"z\": -0.67075}, {\"font\": {\"color\": \"steelblue\"}, \"showarrow\": false, \"text\": \"1.645\", \"x\": -4.5664, \"y\": 1.1926999999999999, \"yshift\": 15, \"z\": -0.6930000000000001}, {\"font\": {\"color\": \"steelblue\"}, \"showarrow\": false, \"text\": \"1.491\", \"x\": -3.6593999999999998, \"y\": 0.3989, \"yshift\": 15, \"z\": -0.14100000000000001}, {\"font\": {\"color\": \"steelblue\"}, \"showarrow\": false, \"text\": 1.52, \"x\": -2.0326, \"y\": 1.74635, \"yshift\": 15, \"z\": -0.9774499999999999}, {\"font\": {\"color\": \"steelblue\"}, \"showarrow\": false, \"text\": 1.564, \"x\": -2.7761, \"y\": -0.56585, \"yshift\": 15, \"z\": 0.08055}]}], \"label\": \"Indices & Bond Lengths\", \"method\": \"relayout\"}, {\"args\": [{\"scene.annotations\": [{\"font\": {\"color\": \"steelblue\"}, \"showarrow\": false, \"text\": \"0.975\", \"x\": 1.6887500000000002, \"y\": -0.5251, \"yshift\": 15, \"z\": -0.48085}, {\"font\": {\"color\": \"steelblue\"}, \"showarrow\": false, \"text\": \"1.036\", \"x\": -0.8274, \"y\": 1.3262, \"yshift\": 15, \"z\": -1.01695}, {\"font\": {\"color\": \"steelblue\"}, \"showarrow\": false, \"text\": \"1.027\", \"x\": -1.5568499999999998, \"y\": -0.99285, \"yshift\": 15, \"z\": 0.00895}, {\"font\": {\"color\": \"steelblue\"}, \"showarrow\": false, \"text\": \"1.583\", \"x\": 0.63325, \"y\": -0.37115, \"yshift\": 15, \"z\": -0.2957}, {\"font\": {\"color\": \"steelblue\"}, \"showarrow\": false, \"text\": \"1.510\", \"x\": 0.1067, \"y\": 0.30035, \"yshift\": 15, \"z\": 0.6845}, {\"font\": {\"color\": \"steelblue\"}, \"showarrow\": false, \"text\": \"1.565\", \"x\": -0.53425, \"y\": -0.57155, \"yshift\": 15, \"z\": -0.0206}, {\"font\": {\"color\": \"steelblue\"}, \"showarrow\": false, \"text\": \"1.574\", \"x\": -0.17355, \"y\": 0.56635, \"yshift\": 15, \"z\": -0.51825}, {\"font\": {\"color\": \"steelblue\"}, \"showarrow\": false, \"text\": \"1.641\", \"x\": -4.4186499999999995, \"y\": 1.4729, \"yshift\": 15, \"z\": 0.010449999999999987}, {\"font\": {\"color\": \"steelblue\"}, \"showarrow\": false, \"text\": \"1.492\", \"x\": -3.28465, \"y\": 1.52995, \"yshift\": 15, \"z\": -0.67075}, {\"font\": {\"color\": \"steelblue\"}, \"showarrow\": false, \"text\": \"1.645\", \"x\": -4.5664, \"y\": 1.1926999999999999, \"yshift\": 15, \"z\": -0.6930000000000001}, {\"font\": {\"color\": \"steelblue\"}, \"showarrow\": false, \"text\": \"1.491\", \"x\": -3.6593999999999998, \"y\": 0.3989, \"yshift\": 15, \"z\": -0.14100000000000001}, {\"font\": {\"color\": \"steelblue\"}, \"showarrow\": false, \"text\": 1.52, \"x\": -2.0326, \"y\": 1.74635, \"yshift\": 15, \"z\": -0.9774499999999999}, {\"font\": {\"color\": \"steelblue\"}, \"showarrow\": false, \"text\": 1.564, \"x\": -2.7761, \"y\": -0.56585, \"yshift\": 15, \"z\": 0.08055}]}], \"label\": \"Bond Lengths\", \"method\": \"relayout\"}, {\"args\": [{}], \"label\": \"Hide All\", \"method\": \"relayout\"}], \"direction\": \"down\", \"xanchor\": \"left\", \"yanchor\": \"top\"}]},                        {\"responsive\": true}                    ).then(function(){\n",
       "                            \n",
       "var gd = document.getElementById('856e2d1e-5924-48e2-a92b-b11352db3432');\n",
       "var x = new MutationObserver(function (mutations, observer) {{\n",
       "        var display = window.getComputedStyle(gd).display;\n",
       "        if (!display || display === 'none') {{\n",
       "            console.log([gd, 'removed!']);\n",
       "            Plotly.purge(gd);\n",
       "            observer.disconnect();\n",
       "        }}\n",
       "}});\n",
       "\n",
       "// Listen for the removal of the full notebook cells\n",
       "var notebookContainer = gd.closest('#notebook-container');\n",
       "if (notebookContainer) {{\n",
       "    x.observe(notebookContainer, {childList: true});\n",
       "}}\n",
       "\n",
       "// Listen for the clearing of the current output cell\n",
       "var outputEl = gd.closest('.output');\n",
       "if (outputEl) {{\n",
       "    x.observe(outputEl, {childList: true});\n",
       "}}\n",
       "\n",
       "                        })                };                });            </script>        </div>"
      ]
     },
     "metadata": {},
     "output_type": "display_data"
    },
    {
     "data": {
      "application/vnd.plotly.v1+json": {
       "config": {
        "linkText": "Export to plot.ly",
        "plotlyServerURL": "https://plot.ly",
        "showLink": false
       },
       "data": [
        {
         "marker": {
          "color": [
           "red",
           "red",
           "red",
           "red",
           "orange",
           "white",
           "white",
           "orange",
           "red",
           "red",
           "red",
           "red",
           "white"
          ],
          "line": {
           "color": "lightgray",
           "width": 2
          },
          "opacity": 0.8,
          "size": [
           27.200000000000003,
           27.200000000000003,
           27.200000000000003,
           27.200000000000003,
           42,
           9.200000000000001,
           9.200000000000001,
           42,
           27.200000000000003,
           27.200000000000003,
           27.200000000000003,
           27.200000000000003,
           9.200000000000001
          ],
          "symbol": "circle"
         },
         "mode": "markers",
         "text": [
          "O1",
          "O2",
          "O3",
          "O4",
          "P5",
          "H6",
          "H7",
          "P8",
          "O9",
          "O10",
          "O11",
          "O12",
          "H13"
         ],
         "type": "scatter3d",
         "x": [
          1.385546,
          -0.109592,
          -1.140951,
          -0.06531,
          0,
          1.92437,
          -0.953343,
          -3.806983,
          -4.945631,
          -2.58564,
          -5.227228,
          -3.64917,
          -2.720346
         ],
         "y": [
          -0.703993,
          0.556358,
          -1.014789,
          1.103355,
          0,
          -0.27008,
          1.55131,
          1.231671,
          2.078171,
          1.844498,
          1.405459,
          -0.181218,
          -0.546031
         ],
         "z": [
          -0.29497,
          1.406058,
          -0.032201,
          -1.127188,
          0,
          -0.968551,
          -1.104397,
          -0.249108,
          0.475842,
          -0.778549,
          -0.947641,
          0.374359,
          0.282912
         ]
        },
        {
         "hoverinfo": "none",
         "marker": {
          "color": "gray",
          "opacity": 0.1,
          "size": 3
         },
         "mode": "lines",
         "type": "scatter3d",
         "x": [
          1.385546,
          1.92437,
          null,
          1.385546,
          0,
          null,
          0,
          1.385546,
          null,
          0,
          -1.140951,
          null,
          0,
          -0.06531,
          null,
          0,
          -0.109592,
          null,
          1.92437,
          1.385546,
          null,
          -0.109592,
          0,
          null,
          -1.140951,
          0,
          null,
          -1.140951,
          -2.720346,
          null,
          -0.06531,
          0,
          null,
          -0.06531,
          -0.953343,
          null,
          -0.953343,
          -2.58564,
          null,
          -0.953343,
          -0.06531,
          null,
          -3.806983,
          -3.64917,
          null,
          -3.806983,
          -2.58564,
          null,
          -3.806983,
          -5.227228,
          null,
          -3.806983,
          -4.945631,
          null,
          -4.945631,
          -3.806983,
          null,
          -2.58564,
          -3.806983,
          null,
          -2.58564,
          -0.953343,
          null,
          -5.227228,
          -3.806983,
          null,
          -3.64917,
          -3.806983,
          null,
          -3.64917,
          -2.720346,
          null,
          -2.720346,
          -3.64917,
          null,
          -2.720346,
          -1.140951,
          null
         ],
         "y": [
          -0.703993,
          -0.27008,
          null,
          -0.703993,
          0,
          null,
          0,
          -0.703993,
          null,
          0,
          -1.014789,
          null,
          0,
          1.103355,
          null,
          0,
          0.556358,
          null,
          -0.27008,
          -0.703993,
          null,
          0.556358,
          0,
          null,
          -1.014789,
          0,
          null,
          -1.014789,
          -0.546031,
          null,
          1.103355,
          0,
          null,
          1.103355,
          1.55131,
          null,
          1.55131,
          1.844498,
          null,
          1.55131,
          1.103355,
          null,
          1.231671,
          -0.181218,
          null,
          1.231671,
          1.844498,
          null,
          1.231671,
          1.405459,
          null,
          1.231671,
          2.078171,
          null,
          2.078171,
          1.231671,
          null,
          1.844498,
          1.231671,
          null,
          1.844498,
          1.55131,
          null,
          1.405459,
          1.231671,
          null,
          -0.181218,
          1.231671,
          null,
          -0.181218,
          -0.546031,
          null,
          -0.546031,
          -0.181218,
          null,
          -0.546031,
          -1.014789,
          null
         ],
         "z": [
          -0.29497,
          -0.968551,
          null,
          -0.29497,
          0,
          null,
          0,
          -0.29497,
          null,
          0,
          -0.032201,
          null,
          0,
          -1.127188,
          null,
          0,
          1.406058,
          null,
          -0.968551,
          -0.29497,
          null,
          1.406058,
          0,
          null,
          -0.032201,
          0,
          null,
          -0.032201,
          0.282912,
          null,
          -1.127188,
          0,
          null,
          -1.127188,
          -1.104397,
          null,
          -1.104397,
          -0.778549,
          null,
          -1.104397,
          -1.127188,
          null,
          -0.249108,
          0.374359,
          null,
          -0.249108,
          -0.778549,
          null,
          -0.249108,
          -0.947641,
          null,
          -0.249108,
          0.475842,
          null,
          0.475842,
          -0.249108,
          null,
          -0.778549,
          -0.249108,
          null,
          -0.778549,
          -1.104397,
          null,
          -0.947641,
          -0.249108,
          null,
          0.374359,
          -0.249108,
          null,
          0.374359,
          0.282912,
          null,
          0.282912,
          0.374359,
          null,
          0.282912,
          -0.032201,
          null
         ]
        }
       ],
       "layout": {
        "margin": {
         "b": 0,
         "l": 0,
         "r": 0,
         "t": 0
        },
        "scene": {
         "annotations": [
          {
           "showarrow": false,
           "text": "O1",
           "x": 1.385546,
           "y": -0.703993,
           "yshift": 15,
           "z": -0.29497
          },
          {
           "showarrow": false,
           "text": "O2",
           "x": -0.109592,
           "y": 0.556358,
           "yshift": 15,
           "z": 1.406058
          },
          {
           "showarrow": false,
           "text": "O3",
           "x": -1.140951,
           "y": -1.014789,
           "yshift": 15,
           "z": -0.032201
          },
          {
           "showarrow": false,
           "text": "O4",
           "x": -0.06531,
           "y": 1.103355,
           "yshift": 15,
           "z": -1.127188
          },
          {
           "showarrow": false,
           "text": "P5",
           "x": 0,
           "y": 0,
           "yshift": 15,
           "z": 0
          },
          {
           "showarrow": false,
           "text": "H6",
           "x": 1.92437,
           "y": -0.27008,
           "yshift": 15,
           "z": -0.968551
          },
          {
           "showarrow": false,
           "text": "H7",
           "x": -0.953343,
           "y": 1.55131,
           "yshift": 15,
           "z": -1.104397
          },
          {
           "showarrow": false,
           "text": "P8",
           "x": -3.806983,
           "y": 1.231671,
           "yshift": 15,
           "z": -0.249108
          },
          {
           "showarrow": false,
           "text": "O9",
           "x": -4.945631,
           "y": 2.078171,
           "yshift": 15,
           "z": 0.475842
          },
          {
           "showarrow": false,
           "text": "O10",
           "x": -2.58564,
           "y": 1.844498,
           "yshift": 15,
           "z": -0.778549
          },
          {
           "showarrow": false,
           "text": "O11",
           "x": -5.227228,
           "y": 1.405459,
           "yshift": 15,
           "z": -0.947641
          },
          {
           "showarrow": false,
           "text": "O12",
           "x": -3.64917,
           "y": -0.181218,
           "yshift": 15,
           "z": 0.374359
          },
          {
           "showarrow": false,
           "text": "H13",
           "x": -2.720346,
           "y": -0.546031,
           "yshift": 15,
           "z": 0.282912
          }
         ],
         "xaxis": {
          "showbackground": true,
          "showgrid": true,
          "showticklabels": true,
          "title": {
           "font": {
            "color": "white"
           }
          },
          "zeroline": true
         },
         "yaxis": {
          "showbackground": true,
          "showgrid": true,
          "showticklabels": true,
          "title": {
           "font": {
            "color": "white"
           }
          },
          "zeroline": true
         },
         "zaxis": {
          "showbackground": true,
          "showgrid": true,
          "showticklabels": true,
          "title": {
           "font": {
            "color": "white"
           }
          },
          "zeroline": true
         }
        },
        "showlegend": false,
        "template": {
         "data": {
          "bar": [
           {
            "error_x": {
             "color": "#2a3f5f"
            },
            "error_y": {
             "color": "#2a3f5f"
            },
            "marker": {
             "line": {
              "color": "#E5ECF6",
              "width": 0.5
             }
            },
            "type": "bar"
           }
          ],
          "barpolar": [
           {
            "marker": {
             "line": {
              "color": "#E5ECF6",
              "width": 0.5
             }
            },
            "type": "barpolar"
           }
          ],
          "carpet": [
           {
            "aaxis": {
             "endlinecolor": "#2a3f5f",
             "gridcolor": "white",
             "linecolor": "white",
             "minorgridcolor": "white",
             "startlinecolor": "#2a3f5f"
            },
            "baxis": {
             "endlinecolor": "#2a3f5f",
             "gridcolor": "white",
             "linecolor": "white",
             "minorgridcolor": "white",
             "startlinecolor": "#2a3f5f"
            },
            "type": "carpet"
           }
          ],
          "choropleth": [
           {
            "colorbar": {
             "outlinewidth": 0,
             "ticks": ""
            },
            "type": "choropleth"
           }
          ],
          "contour": [
           {
            "colorbar": {
             "outlinewidth": 0,
             "ticks": ""
            },
            "colorscale": [
             [
              0,
              "#0d0887"
             ],
             [
              0.1111111111111111,
              "#46039f"
             ],
             [
              0.2222222222222222,
              "#7201a8"
             ],
             [
              0.3333333333333333,
              "#9c179e"
             ],
             [
              0.4444444444444444,
              "#bd3786"
             ],
             [
              0.5555555555555556,
              "#d8576b"
             ],
             [
              0.6666666666666666,
              "#ed7953"
             ],
             [
              0.7777777777777778,
              "#fb9f3a"
             ],
             [
              0.8888888888888888,
              "#fdca26"
             ],
             [
              1,
              "#f0f921"
             ]
            ],
            "type": "contour"
           }
          ],
          "contourcarpet": [
           {
            "colorbar": {
             "outlinewidth": 0,
             "ticks": ""
            },
            "type": "contourcarpet"
           }
          ],
          "heatmap": [
           {
            "colorbar": {
             "outlinewidth": 0,
             "ticks": ""
            },
            "colorscale": [
             [
              0,
              "#0d0887"
             ],
             [
              0.1111111111111111,
              "#46039f"
             ],
             [
              0.2222222222222222,
              "#7201a8"
             ],
             [
              0.3333333333333333,
              "#9c179e"
             ],
             [
              0.4444444444444444,
              "#bd3786"
             ],
             [
              0.5555555555555556,
              "#d8576b"
             ],
             [
              0.6666666666666666,
              "#ed7953"
             ],
             [
              0.7777777777777778,
              "#fb9f3a"
             ],
             [
              0.8888888888888888,
              "#fdca26"
             ],
             [
              1,
              "#f0f921"
             ]
            ],
            "type": "heatmap"
           }
          ],
          "heatmapgl": [
           {
            "colorbar": {
             "outlinewidth": 0,
             "ticks": ""
            },
            "colorscale": [
             [
              0,
              "#0d0887"
             ],
             [
              0.1111111111111111,
              "#46039f"
             ],
             [
              0.2222222222222222,
              "#7201a8"
             ],
             [
              0.3333333333333333,
              "#9c179e"
             ],
             [
              0.4444444444444444,
              "#bd3786"
             ],
             [
              0.5555555555555556,
              "#d8576b"
             ],
             [
              0.6666666666666666,
              "#ed7953"
             ],
             [
              0.7777777777777778,
              "#fb9f3a"
             ],
             [
              0.8888888888888888,
              "#fdca26"
             ],
             [
              1,
              "#f0f921"
             ]
            ],
            "type": "heatmapgl"
           }
          ],
          "histogram": [
           {
            "marker": {
             "colorbar": {
              "outlinewidth": 0,
              "ticks": ""
             }
            },
            "type": "histogram"
           }
          ],
          "histogram2d": [
           {
            "colorbar": {
             "outlinewidth": 0,
             "ticks": ""
            },
            "colorscale": [
             [
              0,
              "#0d0887"
             ],
             [
              0.1111111111111111,
              "#46039f"
             ],
             [
              0.2222222222222222,
              "#7201a8"
             ],
             [
              0.3333333333333333,
              "#9c179e"
             ],
             [
              0.4444444444444444,
              "#bd3786"
             ],
             [
              0.5555555555555556,
              "#d8576b"
             ],
             [
              0.6666666666666666,
              "#ed7953"
             ],
             [
              0.7777777777777778,
              "#fb9f3a"
             ],
             [
              0.8888888888888888,
              "#fdca26"
             ],
             [
              1,
              "#f0f921"
             ]
            ],
            "type": "histogram2d"
           }
          ],
          "histogram2dcontour": [
           {
            "colorbar": {
             "outlinewidth": 0,
             "ticks": ""
            },
            "colorscale": [
             [
              0,
              "#0d0887"
             ],
             [
              0.1111111111111111,
              "#46039f"
             ],
             [
              0.2222222222222222,
              "#7201a8"
             ],
             [
              0.3333333333333333,
              "#9c179e"
             ],
             [
              0.4444444444444444,
              "#bd3786"
             ],
             [
              0.5555555555555556,
              "#d8576b"
             ],
             [
              0.6666666666666666,
              "#ed7953"
             ],
             [
              0.7777777777777778,
              "#fb9f3a"
             ],
             [
              0.8888888888888888,
              "#fdca26"
             ],
             [
              1,
              "#f0f921"
             ]
            ],
            "type": "histogram2dcontour"
           }
          ],
          "mesh3d": [
           {
            "colorbar": {
             "outlinewidth": 0,
             "ticks": ""
            },
            "type": "mesh3d"
           }
          ],
          "parcoords": [
           {
            "line": {
             "colorbar": {
              "outlinewidth": 0,
              "ticks": ""
             }
            },
            "type": "parcoords"
           }
          ],
          "pie": [
           {
            "automargin": true,
            "type": "pie"
           }
          ],
          "scatter": [
           {
            "marker": {
             "colorbar": {
              "outlinewidth": 0,
              "ticks": ""
             }
            },
            "type": "scatter"
           }
          ],
          "scatter3d": [
           {
            "line": {
             "colorbar": {
              "outlinewidth": 0,
              "ticks": ""
             }
            },
            "marker": {
             "colorbar": {
              "outlinewidth": 0,
              "ticks": ""
             }
            },
            "type": "scatter3d"
           }
          ],
          "scattercarpet": [
           {
            "marker": {
             "colorbar": {
              "outlinewidth": 0,
              "ticks": ""
             }
            },
            "type": "scattercarpet"
           }
          ],
          "scattergeo": [
           {
            "marker": {
             "colorbar": {
              "outlinewidth": 0,
              "ticks": ""
             }
            },
            "type": "scattergeo"
           }
          ],
          "scattergl": [
           {
            "marker": {
             "colorbar": {
              "outlinewidth": 0,
              "ticks": ""
             }
            },
            "type": "scattergl"
           }
          ],
          "scattermapbox": [
           {
            "marker": {
             "colorbar": {
              "outlinewidth": 0,
              "ticks": ""
             }
            },
            "type": "scattermapbox"
           }
          ],
          "scatterpolar": [
           {
            "marker": {
             "colorbar": {
              "outlinewidth": 0,
              "ticks": ""
             }
            },
            "type": "scatterpolar"
           }
          ],
          "scatterpolargl": [
           {
            "marker": {
             "colorbar": {
              "outlinewidth": 0,
              "ticks": ""
             }
            },
            "type": "scatterpolargl"
           }
          ],
          "scatterternary": [
           {
            "marker": {
             "colorbar": {
              "outlinewidth": 0,
              "ticks": ""
             }
            },
            "type": "scatterternary"
           }
          ],
          "surface": [
           {
            "colorbar": {
             "outlinewidth": 0,
             "ticks": ""
            },
            "colorscale": [
             [
              0,
              "#0d0887"
             ],
             [
              0.1111111111111111,
              "#46039f"
             ],
             [
              0.2222222222222222,
              "#7201a8"
             ],
             [
              0.3333333333333333,
              "#9c179e"
             ],
             [
              0.4444444444444444,
              "#bd3786"
             ],
             [
              0.5555555555555556,
              "#d8576b"
             ],
             [
              0.6666666666666666,
              "#ed7953"
             ],
             [
              0.7777777777777778,
              "#fb9f3a"
             ],
             [
              0.8888888888888888,
              "#fdca26"
             ],
             [
              1,
              "#f0f921"
             ]
            ],
            "type": "surface"
           }
          ],
          "table": [
           {
            "cells": {
             "fill": {
              "color": "#EBF0F8"
             },
             "line": {
              "color": "white"
             }
            },
            "header": {
             "fill": {
              "color": "#C8D4E3"
             },
             "line": {
              "color": "white"
             }
            },
            "type": "table"
           }
          ]
         },
         "layout": {
          "annotationdefaults": {
           "arrowcolor": "#2a3f5f",
           "arrowhead": 0,
           "arrowwidth": 1
          },
          "coloraxis": {
           "colorbar": {
            "outlinewidth": 0,
            "ticks": ""
           }
          },
          "colorscale": {
           "diverging": [
            [
             0,
             "#8e0152"
            ],
            [
             0.1,
             "#c51b7d"
            ],
            [
             0.2,
             "#de77ae"
            ],
            [
             0.3,
             "#f1b6da"
            ],
            [
             0.4,
             "#fde0ef"
            ],
            [
             0.5,
             "#f7f7f7"
            ],
            [
             0.6,
             "#e6f5d0"
            ],
            [
             0.7,
             "#b8e186"
            ],
            [
             0.8,
             "#7fbc41"
            ],
            [
             0.9,
             "#4d9221"
            ],
            [
             1,
             "#276419"
            ]
           ],
           "sequential": [
            [
             0,
             "#0d0887"
            ],
            [
             0.1111111111111111,
             "#46039f"
            ],
            [
             0.2222222222222222,
             "#7201a8"
            ],
            [
             0.3333333333333333,
             "#9c179e"
            ],
            [
             0.4444444444444444,
             "#bd3786"
            ],
            [
             0.5555555555555556,
             "#d8576b"
            ],
            [
             0.6666666666666666,
             "#ed7953"
            ],
            [
             0.7777777777777778,
             "#fb9f3a"
            ],
            [
             0.8888888888888888,
             "#fdca26"
            ],
            [
             1,
             "#f0f921"
            ]
           ],
           "sequentialminus": [
            [
             0,
             "#0d0887"
            ],
            [
             0.1111111111111111,
             "#46039f"
            ],
            [
             0.2222222222222222,
             "#7201a8"
            ],
            [
             0.3333333333333333,
             "#9c179e"
            ],
            [
             0.4444444444444444,
             "#bd3786"
            ],
            [
             0.5555555555555556,
             "#d8576b"
            ],
            [
             0.6666666666666666,
             "#ed7953"
            ],
            [
             0.7777777777777778,
             "#fb9f3a"
            ],
            [
             0.8888888888888888,
             "#fdca26"
            ],
            [
             1,
             "#f0f921"
            ]
           ]
          },
          "colorway": [
           "#636efa",
           "#EF553B",
           "#00cc96",
           "#ab63fa",
           "#FFA15A",
           "#19d3f3",
           "#FF6692",
           "#B6E880",
           "#FF97FF",
           "#FECB52"
          ],
          "font": {
           "color": "#2a3f5f"
          },
          "geo": {
           "bgcolor": "white",
           "lakecolor": "white",
           "landcolor": "#E5ECF6",
           "showlakes": true,
           "showland": true,
           "subunitcolor": "white"
          },
          "hoverlabel": {
           "align": "left"
          },
          "hovermode": "closest",
          "mapbox": {
           "style": "light"
          },
          "paper_bgcolor": "white",
          "plot_bgcolor": "#E5ECF6",
          "polar": {
           "angularaxis": {
            "gridcolor": "white",
            "linecolor": "white",
            "ticks": ""
           },
           "bgcolor": "#E5ECF6",
           "radialaxis": {
            "gridcolor": "white",
            "linecolor": "white",
            "ticks": ""
           }
          },
          "scene": {
           "xaxis": {
            "backgroundcolor": "#E5ECF6",
            "gridcolor": "white",
            "gridwidth": 2,
            "linecolor": "white",
            "showbackground": true,
            "ticks": "",
            "zerolinecolor": "white"
           },
           "yaxis": {
            "backgroundcolor": "#E5ECF6",
            "gridcolor": "white",
            "gridwidth": 2,
            "linecolor": "white",
            "showbackground": true,
            "ticks": "",
            "zerolinecolor": "white"
           },
           "zaxis": {
            "backgroundcolor": "#E5ECF6",
            "gridcolor": "white",
            "gridwidth": 2,
            "linecolor": "white",
            "showbackground": true,
            "ticks": "",
            "zerolinecolor": "white"
           }
          },
          "shapedefaults": {
           "line": {
            "color": "#2a3f5f"
           }
          },
          "ternary": {
           "aaxis": {
            "gridcolor": "white",
            "linecolor": "white",
            "ticks": ""
           },
           "baxis": {
            "gridcolor": "white",
            "linecolor": "white",
            "ticks": ""
           },
           "bgcolor": "#E5ECF6",
           "caxis": {
            "gridcolor": "white",
            "linecolor": "white",
            "ticks": ""
           }
          },
          "title": {
           "x": 0.05
          },
          "xaxis": {
           "automargin": true,
           "gridcolor": "white",
           "linecolor": "white",
           "ticks": "",
           "title": {
            "standoff": 15
           },
           "zerolinecolor": "white",
           "zerolinewidth": 2
          },
          "yaxis": {
           "automargin": true,
           "gridcolor": "white",
           "linecolor": "white",
           "ticks": "",
           "title": {
            "standoff": 15
           },
           "zerolinecolor": "white",
           "zerolinewidth": 2
          }
         }
        },
        "updatemenus": [
         {
          "buttons": [
           {
            "args": [
             {
              "scene.annotations": [
               {
                "showarrow": false,
                "text": "O1",
                "x": 1.385546,
                "y": -0.703993,
                "yshift": 15,
                "z": -0.29497
               },
               {
                "showarrow": false,
                "text": "O2",
                "x": -0.109592,
                "y": 0.556358,
                "yshift": 15,
                "z": 1.406058
               },
               {
                "showarrow": false,
                "text": "O3",
                "x": -1.140951,
                "y": -1.014789,
                "yshift": 15,
                "z": -0.032201
               },
               {
                "showarrow": false,
                "text": "O4",
                "x": -0.06531,
                "y": 1.103355,
                "yshift": 15,
                "z": -1.127188
               },
               {
                "showarrow": false,
                "text": "P5",
                "x": 0,
                "y": 0,
                "yshift": 15,
                "z": 0
               },
               {
                "showarrow": false,
                "text": "H6",
                "x": 1.92437,
                "y": -0.27008,
                "yshift": 15,
                "z": -0.968551
               },
               {
                "showarrow": false,
                "text": "H7",
                "x": -0.953343,
                "y": 1.55131,
                "yshift": 15,
                "z": -1.104397
               },
               {
                "showarrow": false,
                "text": "P8",
                "x": -3.806983,
                "y": 1.231671,
                "yshift": 15,
                "z": -0.249108
               },
               {
                "showarrow": false,
                "text": "O9",
                "x": -4.945631,
                "y": 2.078171,
                "yshift": 15,
                "z": 0.475842
               },
               {
                "showarrow": false,
                "text": "O10",
                "x": -2.58564,
                "y": 1.844498,
                "yshift": 15,
                "z": -0.778549
               },
               {
                "showarrow": false,
                "text": "O11",
                "x": -5.227228,
                "y": 1.405459,
                "yshift": 15,
                "z": -0.947641
               },
               {
                "showarrow": false,
                "text": "O12",
                "x": -3.64917,
                "y": -0.181218,
                "yshift": 15,
                "z": 0.374359
               },
               {
                "showarrow": false,
                "text": "H13",
                "x": -2.720346,
                "y": -0.546031,
                "yshift": 15,
                "z": 0.282912
               }
              ]
             }
            ],
            "label": "Elements",
            "method": "relayout"
           },
           {
            "args": [
             {
              "scene.annotations": [
               {
                "showarrow": false,
                "text": "O1",
                "x": 1.385546,
                "y": -0.703993,
                "yshift": 15,
                "z": -0.29497
               },
               {
                "showarrow": false,
                "text": "O2",
                "x": -0.109592,
                "y": 0.556358,
                "yshift": 15,
                "z": 1.406058
               },
               {
                "showarrow": false,
                "text": "O3",
                "x": -1.140951,
                "y": -1.014789,
                "yshift": 15,
                "z": -0.032201
               },
               {
                "showarrow": false,
                "text": "O4",
                "x": -0.06531,
                "y": 1.103355,
                "yshift": 15,
                "z": -1.127188
               },
               {
                "showarrow": false,
                "text": "P5",
                "x": 0,
                "y": 0,
                "yshift": 15,
                "z": 0
               },
               {
                "showarrow": false,
                "text": "H6",
                "x": 1.92437,
                "y": -0.27008,
                "yshift": 15,
                "z": -0.968551
               },
               {
                "showarrow": false,
                "text": "H7",
                "x": -0.953343,
                "y": 1.55131,
                "yshift": 15,
                "z": -1.104397
               },
               {
                "showarrow": false,
                "text": "P8",
                "x": -3.806983,
                "y": 1.231671,
                "yshift": 15,
                "z": -0.249108
               },
               {
                "showarrow": false,
                "text": "O9",
                "x": -4.945631,
                "y": 2.078171,
                "yshift": 15,
                "z": 0.475842
               },
               {
                "showarrow": false,
                "text": "O10",
                "x": -2.58564,
                "y": 1.844498,
                "yshift": 15,
                "z": -0.778549
               },
               {
                "showarrow": false,
                "text": "O11",
                "x": -5.227228,
                "y": 1.405459,
                "yshift": 15,
                "z": -0.947641
               },
               {
                "showarrow": false,
                "text": "O12",
                "x": -3.64917,
                "y": -0.181218,
                "yshift": 15,
                "z": 0.374359
               },
               {
                "showarrow": false,
                "text": "H13",
                "x": -2.720346,
                "y": -0.546031,
                "yshift": 15,
                "z": 0.282912
               },
               {
                "font": {
                 "color": "steelblue"
                },
                "showarrow": false,
                "text": "1.582",
                "x": 0.692773,
                "y": -0.3519965,
                "yshift": 15,
                "z": -0.147485
               },
               {
                "font": {
                 "color": "steelblue"
                },
                "showarrow": false,
                "text": "0.966",
                "x": 1.654958,
                "y": -0.4870365,
                "yshift": 15,
                "z": -0.6317605000000001
               },
               {
                "font": {
                 "color": "steelblue"
                },
                "showarrow": false,
                "text": "1.516",
                "x": -0.054796,
                "y": 0.278179,
                "yshift": 15,
                "z": 0.703029
               },
               {
                "font": {
                 "color": "steelblue"
                },
                "showarrow": false,
                "text": "1.527",
                "x": -0.5704755,
                "y": -0.5073945,
                "yshift": 15,
                "z": -0.0161005
               },
               {
                "font": {
                 "color": "steelblue"
                },
                "showarrow": false,
                "text": "1.579",
                "x": -0.032655,
                "y": 0.5516775,
                "yshift": 15,
                "z": -0.563594
               },
               {
                "font": {
                 "color": "steelblue"
                },
                "showarrow": false,
                "text": "0.995",
                "x": -0.5093265,
                "y": 1.3273325,
                "yshift": 15,
                "z": -1.1157925
               },
               {
                "font": {
                 "color": "steelblue"
                },
                "showarrow": false,
                "text": "1.593",
                "x": -4.376307,
                "y": 1.654921,
                "yshift": 15,
                "z": 0.113367
               },
               {
                "font": {
                 "color": "steelblue"
                },
                "showarrow": false,
                "text": "1.465",
                "x": -3.1963115,
                "y": 1.5380845,
                "yshift": 15,
                "z": -0.5138285
               },
               {
                "font": {
                 "color": "steelblue"
                },
                "showarrow": false,
                "text": "1.592",
                "x": -4.5171054999999996,
                "y": 1.318565,
                "yshift": 15,
                "z": -0.5983745
               },
               {
                "font": {
                 "color": "steelblue"
                },
                "showarrow": false,
                "text": "1.552",
                "x": -3.7280765,
                "y": 0.5252265,
                "yshift": 15,
                "z": 0.0626255
               },
               {
                "font": {
                 "color": "steelblue"
                },
                "showarrow": false,
                "text": "1.002",
                "x": -3.184758,
                "y": -0.3636245,
                "yshift": 15,
                "z": 0.32863549999999997
               },
               {
                "font": {
                 "color": "steelblue"
                },
                "showarrow": false,
                "text": 1.677,
                "x": -1.9306485000000002,
                "y": -0.78041,
                "yshift": 15,
                "z": 0.1253555
               },
               {
                "font": {
                 "color": "steelblue"
                },
                "showarrow": false,
                "text": 1.69,
                "x": -1.7694915,
                "y": 1.6979039999999999,
                "yshift": 15,
                "z": -0.941473
               }
              ]
             }
            ],
            "label": "Element & Bond Lengths",
            "method": "relayout"
           },
           {
            "args": [
             {
              "scene.annotations": [
               {
                "showarrow": false,
                "text": 0,
                "x": 1.385546,
                "y": -0.703993,
                "yshift": 15,
                "z": -0.29497
               },
               {
                "showarrow": false,
                "text": 1,
                "x": -0.109592,
                "y": 0.556358,
                "yshift": 15,
                "z": 1.406058
               },
               {
                "showarrow": false,
                "text": 2,
                "x": -1.140951,
                "y": -1.014789,
                "yshift": 15,
                "z": -0.032201
               },
               {
                "showarrow": false,
                "text": 3,
                "x": -0.06531,
                "y": 1.103355,
                "yshift": 15,
                "z": -1.127188
               },
               {
                "showarrow": false,
                "text": 4,
                "x": 0,
                "y": 0,
                "yshift": 15,
                "z": 0
               },
               {
                "showarrow": false,
                "text": 5,
                "x": 1.92437,
                "y": -0.27008,
                "yshift": 15,
                "z": -0.968551
               },
               {
                "showarrow": false,
                "text": 6,
                "x": -0.953343,
                "y": 1.55131,
                "yshift": 15,
                "z": -1.104397
               },
               {
                "showarrow": false,
                "text": 7,
                "x": -3.806983,
                "y": 1.231671,
                "yshift": 15,
                "z": -0.249108
               },
               {
                "showarrow": false,
                "text": 8,
                "x": -4.945631,
                "y": 2.078171,
                "yshift": 15,
                "z": 0.475842
               },
               {
                "showarrow": false,
                "text": 9,
                "x": -2.58564,
                "y": 1.844498,
                "yshift": 15,
                "z": -0.778549
               },
               {
                "showarrow": false,
                "text": 10,
                "x": -5.227228,
                "y": 1.405459,
                "yshift": 15,
                "z": -0.947641
               },
               {
                "showarrow": false,
                "text": 11,
                "x": -3.64917,
                "y": -0.181218,
                "yshift": 15,
                "z": 0.374359
               },
               {
                "showarrow": false,
                "text": 12,
                "x": -2.720346,
                "y": -0.546031,
                "yshift": 15,
                "z": 0.282912
               }
              ]
             }
            ],
            "label": "Indices",
            "method": "relayout"
           },
           {
            "args": [
             {
              "scene.annotations": [
               {
                "showarrow": false,
                "text": 0,
                "x": 1.385546,
                "y": -0.703993,
                "yshift": 15,
                "z": -0.29497
               },
               {
                "showarrow": false,
                "text": 1,
                "x": -0.109592,
                "y": 0.556358,
                "yshift": 15,
                "z": 1.406058
               },
               {
                "showarrow": false,
                "text": 2,
                "x": -1.140951,
                "y": -1.014789,
                "yshift": 15,
                "z": -0.032201
               },
               {
                "showarrow": false,
                "text": 3,
                "x": -0.06531,
                "y": 1.103355,
                "yshift": 15,
                "z": -1.127188
               },
               {
                "showarrow": false,
                "text": 4,
                "x": 0,
                "y": 0,
                "yshift": 15,
                "z": 0
               },
               {
                "showarrow": false,
                "text": 5,
                "x": 1.92437,
                "y": -0.27008,
                "yshift": 15,
                "z": -0.968551
               },
               {
                "showarrow": false,
                "text": 6,
                "x": -0.953343,
                "y": 1.55131,
                "yshift": 15,
                "z": -1.104397
               },
               {
                "showarrow": false,
                "text": 7,
                "x": -3.806983,
                "y": 1.231671,
                "yshift": 15,
                "z": -0.249108
               },
               {
                "showarrow": false,
                "text": 8,
                "x": -4.945631,
                "y": 2.078171,
                "yshift": 15,
                "z": 0.475842
               },
               {
                "showarrow": false,
                "text": 9,
                "x": -2.58564,
                "y": 1.844498,
                "yshift": 15,
                "z": -0.778549
               },
               {
                "showarrow": false,
                "text": 10,
                "x": -5.227228,
                "y": 1.405459,
                "yshift": 15,
                "z": -0.947641
               },
               {
                "showarrow": false,
                "text": 11,
                "x": -3.64917,
                "y": -0.181218,
                "yshift": 15,
                "z": 0.374359
               },
               {
                "showarrow": false,
                "text": 12,
                "x": -2.720346,
                "y": -0.546031,
                "yshift": 15,
                "z": 0.282912
               },
               {
                "font": {
                 "color": "steelblue"
                },
                "showarrow": false,
                "text": "1.582",
                "x": 0.692773,
                "y": -0.3519965,
                "yshift": 15,
                "z": -0.147485
               },
               {
                "font": {
                 "color": "steelblue"
                },
                "showarrow": false,
                "text": "0.966",
                "x": 1.654958,
                "y": -0.4870365,
                "yshift": 15,
                "z": -0.6317605000000001
               },
               {
                "font": {
                 "color": "steelblue"
                },
                "showarrow": false,
                "text": "1.516",
                "x": -0.054796,
                "y": 0.278179,
                "yshift": 15,
                "z": 0.703029
               },
               {
                "font": {
                 "color": "steelblue"
                },
                "showarrow": false,
                "text": "1.527",
                "x": -0.5704755,
                "y": -0.5073945,
                "yshift": 15,
                "z": -0.0161005
               },
               {
                "font": {
                 "color": "steelblue"
                },
                "showarrow": false,
                "text": "1.579",
                "x": -0.032655,
                "y": 0.5516775,
                "yshift": 15,
                "z": -0.563594
               },
               {
                "font": {
                 "color": "steelblue"
                },
                "showarrow": false,
                "text": "0.995",
                "x": -0.5093265,
                "y": 1.3273325,
                "yshift": 15,
                "z": -1.1157925
               },
               {
                "font": {
                 "color": "steelblue"
                },
                "showarrow": false,
                "text": "1.593",
                "x": -4.376307,
                "y": 1.654921,
                "yshift": 15,
                "z": 0.113367
               },
               {
                "font": {
                 "color": "steelblue"
                },
                "showarrow": false,
                "text": "1.465",
                "x": -3.1963115,
                "y": 1.5380845,
                "yshift": 15,
                "z": -0.5138285
               },
               {
                "font": {
                 "color": "steelblue"
                },
                "showarrow": false,
                "text": "1.592",
                "x": -4.5171054999999996,
                "y": 1.318565,
                "yshift": 15,
                "z": -0.5983745
               },
               {
                "font": {
                 "color": "steelblue"
                },
                "showarrow": false,
                "text": "1.552",
                "x": -3.7280765,
                "y": 0.5252265,
                "yshift": 15,
                "z": 0.0626255
               },
               {
                "font": {
                 "color": "steelblue"
                },
                "showarrow": false,
                "text": "1.002",
                "x": -3.184758,
                "y": -0.3636245,
                "yshift": 15,
                "z": 0.32863549999999997
               },
               {
                "font": {
                 "color": "steelblue"
                },
                "showarrow": false,
                "text": 1.677,
                "x": -1.9306485000000002,
                "y": -0.78041,
                "yshift": 15,
                "z": 0.1253555
               },
               {
                "font": {
                 "color": "steelblue"
                },
                "showarrow": false,
                "text": 1.69,
                "x": -1.7694915,
                "y": 1.6979039999999999,
                "yshift": 15,
                "z": -0.941473
               }
              ]
             }
            ],
            "label": "Indices & Bond Lengths",
            "method": "relayout"
           },
           {
            "args": [
             {
              "scene.annotations": [
               {
                "font": {
                 "color": "steelblue"
                },
                "showarrow": false,
                "text": "1.582",
                "x": 0.692773,
                "y": -0.3519965,
                "yshift": 15,
                "z": -0.147485
               },
               {
                "font": {
                 "color": "steelblue"
                },
                "showarrow": false,
                "text": "0.966",
                "x": 1.654958,
                "y": -0.4870365,
                "yshift": 15,
                "z": -0.6317605000000001
               },
               {
                "font": {
                 "color": "steelblue"
                },
                "showarrow": false,
                "text": "1.516",
                "x": -0.054796,
                "y": 0.278179,
                "yshift": 15,
                "z": 0.703029
               },
               {
                "font": {
                 "color": "steelblue"
                },
                "showarrow": false,
                "text": "1.527",
                "x": -0.5704755,
                "y": -0.5073945,
                "yshift": 15,
                "z": -0.0161005
               },
               {
                "font": {
                 "color": "steelblue"
                },
                "showarrow": false,
                "text": "1.579",
                "x": -0.032655,
                "y": 0.5516775,
                "yshift": 15,
                "z": -0.563594
               },
               {
                "font": {
                 "color": "steelblue"
                },
                "showarrow": false,
                "text": "0.995",
                "x": -0.5093265,
                "y": 1.3273325,
                "yshift": 15,
                "z": -1.1157925
               },
               {
                "font": {
                 "color": "steelblue"
                },
                "showarrow": false,
                "text": "1.593",
                "x": -4.376307,
                "y": 1.654921,
                "yshift": 15,
                "z": 0.113367
               },
               {
                "font": {
                 "color": "steelblue"
                },
                "showarrow": false,
                "text": "1.465",
                "x": -3.1963115,
                "y": 1.5380845,
                "yshift": 15,
                "z": -0.5138285
               },
               {
                "font": {
                 "color": "steelblue"
                },
                "showarrow": false,
                "text": "1.592",
                "x": -4.5171054999999996,
                "y": 1.318565,
                "yshift": 15,
                "z": -0.5983745
               },
               {
                "font": {
                 "color": "steelblue"
                },
                "showarrow": false,
                "text": "1.552",
                "x": -3.7280765,
                "y": 0.5252265,
                "yshift": 15,
                "z": 0.0626255
               },
               {
                "font": {
                 "color": "steelblue"
                },
                "showarrow": false,
                "text": "1.002",
                "x": -3.184758,
                "y": -0.3636245,
                "yshift": 15,
                "z": 0.32863549999999997
               },
               {
                "font": {
                 "color": "steelblue"
                },
                "showarrow": false,
                "text": 1.677,
                "x": -1.9306485000000002,
                "y": -0.78041,
                "yshift": 15,
                "z": 0.1253555
               },
               {
                "font": {
                 "color": "steelblue"
                },
                "showarrow": false,
                "text": 1.69,
                "x": -1.7694915,
                "y": 1.6979039999999999,
                "yshift": 15,
                "z": -0.941473
               }
              ]
             }
            ],
            "label": "Bond Lengths",
            "method": "relayout"
           },
           {
            "args": [
             {}
            ],
            "label": "Hide All",
            "method": "relayout"
           }
          ],
          "direction": "down",
          "xanchor": "left",
          "yanchor": "top"
         }
        ]
       }
      },
      "text/html": [
       "<div>                            <div id=\"9b7ff1dd-544a-45f7-912c-b27bbf423366\" class=\"plotly-graph-div\" style=\"height:525px; width:100%;\"></div>            <script type=\"text/javascript\">                require([\"plotly\"], function(Plotly) {                    window.PLOTLYENV=window.PLOTLYENV || {};                                    if (document.getElementById(\"9b7ff1dd-544a-45f7-912c-b27bbf423366\")) {                    Plotly.newPlot(                        \"9b7ff1dd-544a-45f7-912c-b27bbf423366\",                        [{\"marker\": {\"color\": [\"red\", \"red\", \"red\", \"red\", \"orange\", \"white\", \"white\", \"orange\", \"red\", \"red\", \"red\", \"red\", \"white\"], \"line\": {\"color\": \"lightgray\", \"width\": 2}, \"opacity\": 0.8, \"size\": [27.200000000000003, 27.200000000000003, 27.200000000000003, 27.200000000000003, 42.0, 9.200000000000001, 9.200000000000001, 42.0, 27.200000000000003, 27.200000000000003, 27.200000000000003, 27.200000000000003, 9.200000000000001], \"symbol\": \"circle\"}, \"mode\": \"markers\", \"text\": [\"O1\", \"O2\", \"O3\", \"O4\", \"P5\", \"H6\", \"H7\", \"P8\", \"O9\", \"O10\", \"O11\", \"O12\", \"H13\"], \"type\": \"scatter3d\", \"x\": [1.385546, -0.109592, -1.140951, -0.06531, 0.0, 1.92437, -0.953343, -3.806983, -4.945631, -2.58564, -5.227228, -3.64917, -2.720346], \"y\": [-0.703993, 0.556358, -1.014789, 1.103355, 0.0, -0.27008, 1.55131, 1.231671, 2.078171, 1.844498, 1.405459, -0.181218, -0.546031], \"z\": [-0.29497, 1.406058, -0.032201, -1.127188, 0.0, -0.968551, -1.104397, -0.249108, 0.475842, -0.778549, -0.947641, 0.374359, 0.282912]}, {\"hoverinfo\": \"none\", \"marker\": {\"color\": \"gray\", \"opacity\": 0.1, \"size\": 3}, \"mode\": \"lines\", \"type\": \"scatter3d\", \"x\": [1.385546, 1.92437, null, 1.385546, 0.0, null, 0.0, 1.385546, null, 0.0, -1.140951, null, 0.0, -0.06531, null, 0.0, -0.109592, null, 1.92437, 1.385546, null, -0.109592, 0.0, null, -1.140951, 0.0, null, -1.140951, -2.720346, null, -0.06531, 0.0, null, -0.06531, -0.953343, null, -0.953343, -2.58564, null, -0.953343, -0.06531, null, -3.806983, -3.64917, null, -3.806983, -2.58564, null, -3.806983, -5.227228, null, -3.806983, -4.945631, null, -4.945631, -3.806983, null, -2.58564, -3.806983, null, -2.58564, -0.953343, null, -5.227228, -3.806983, null, -3.64917, -3.806983, null, -3.64917, -2.720346, null, -2.720346, -3.64917, null, -2.720346, -1.140951, null], \"y\": [-0.703993, -0.27008, null, -0.703993, 0.0, null, 0.0, -0.703993, null, 0.0, -1.014789, null, 0.0, 1.103355, null, 0.0, 0.556358, null, -0.27008, -0.703993, null, 0.556358, 0.0, null, -1.014789, 0.0, null, -1.014789, -0.546031, null, 1.103355, 0.0, null, 1.103355, 1.55131, null, 1.55131, 1.844498, null, 1.55131, 1.103355, null, 1.231671, -0.181218, null, 1.231671, 1.844498, null, 1.231671, 1.405459, null, 1.231671, 2.078171, null, 2.078171, 1.231671, null, 1.844498, 1.231671, null, 1.844498, 1.55131, null, 1.405459, 1.231671, null, -0.181218, 1.231671, null, -0.181218, -0.546031, null, -0.546031, -0.181218, null, -0.546031, -1.014789, null], \"z\": [-0.29497, -0.968551, null, -0.29497, 0.0, null, 0.0, -0.29497, null, 0.0, -0.032201, null, 0.0, -1.127188, null, 0.0, 1.406058, null, -0.968551, -0.29497, null, 1.406058, 0.0, null, -0.032201, 0.0, null, -0.032201, 0.282912, null, -1.127188, 0.0, null, -1.127188, -1.104397, null, -1.104397, -0.778549, null, -1.104397, -1.127188, null, -0.249108, 0.374359, null, -0.249108, -0.778549, null, -0.249108, -0.947641, null, -0.249108, 0.475842, null, 0.475842, -0.249108, null, -0.778549, -0.249108, null, -0.778549, -1.104397, null, -0.947641, -0.249108, null, 0.374359, -0.249108, null, 0.374359, 0.282912, null, 0.282912, 0.374359, null, 0.282912, -0.032201, null]}],                        {\"margin\": {\"b\": 0, \"l\": 0, \"r\": 0, \"t\": 0}, \"scene\": {\"annotations\": [{\"showarrow\": false, \"text\": \"O1\", \"x\": 1.385546, \"y\": -0.703993, \"yshift\": 15, \"z\": -0.29497}, {\"showarrow\": false, \"text\": \"O2\", \"x\": -0.109592, \"y\": 0.556358, \"yshift\": 15, \"z\": 1.406058}, {\"showarrow\": false, \"text\": \"O3\", \"x\": -1.140951, \"y\": -1.014789, \"yshift\": 15, \"z\": -0.032201}, {\"showarrow\": false, \"text\": \"O4\", \"x\": -0.06531, \"y\": 1.103355, \"yshift\": 15, \"z\": -1.127188}, {\"showarrow\": false, \"text\": \"P5\", \"x\": 0.0, \"y\": 0.0, \"yshift\": 15, \"z\": 0.0}, {\"showarrow\": false, \"text\": \"H6\", \"x\": 1.92437, \"y\": -0.27008, \"yshift\": 15, \"z\": -0.968551}, {\"showarrow\": false, \"text\": \"H7\", \"x\": -0.953343, \"y\": 1.55131, \"yshift\": 15, \"z\": -1.104397}, {\"showarrow\": false, \"text\": \"P8\", \"x\": -3.806983, \"y\": 1.231671, \"yshift\": 15, \"z\": -0.249108}, {\"showarrow\": false, \"text\": \"O9\", \"x\": -4.945631, \"y\": 2.078171, \"yshift\": 15, \"z\": 0.475842}, {\"showarrow\": false, \"text\": \"O10\", \"x\": -2.58564, \"y\": 1.844498, \"yshift\": 15, \"z\": -0.778549}, {\"showarrow\": false, \"text\": \"O11\", \"x\": -5.227228, \"y\": 1.405459, \"yshift\": 15, \"z\": -0.947641}, {\"showarrow\": false, \"text\": \"O12\", \"x\": -3.64917, \"y\": -0.181218, \"yshift\": 15, \"z\": 0.374359}, {\"showarrow\": false, \"text\": \"H13\", \"x\": -2.720346, \"y\": -0.546031, \"yshift\": 15, \"z\": 0.282912}], \"xaxis\": {\"showbackground\": true, \"showgrid\": true, \"showticklabels\": true, \"title\": {\"font\": {\"color\": \"white\"}}, \"zeroline\": true}, \"yaxis\": {\"showbackground\": true, \"showgrid\": true, \"showticklabels\": true, \"title\": {\"font\": {\"color\": \"white\"}}, \"zeroline\": true}, \"zaxis\": {\"showbackground\": true, \"showgrid\": true, \"showticklabels\": true, \"title\": {\"font\": {\"color\": \"white\"}}, \"zeroline\": true}}, \"showlegend\": false, \"template\": {\"data\": {\"bar\": [{\"error_x\": {\"color\": \"#2a3f5f\"}, \"error_y\": {\"color\": \"#2a3f5f\"}, \"marker\": {\"line\": {\"color\": \"#E5ECF6\", \"width\": 0.5}}, \"type\": \"bar\"}], \"barpolar\": [{\"marker\": {\"line\": {\"color\": \"#E5ECF6\", \"width\": 0.5}}, \"type\": \"barpolar\"}], \"carpet\": [{\"aaxis\": {\"endlinecolor\": \"#2a3f5f\", \"gridcolor\": \"white\", \"linecolor\": \"white\", \"minorgridcolor\": \"white\", \"startlinecolor\": \"#2a3f5f\"}, \"baxis\": {\"endlinecolor\": \"#2a3f5f\", \"gridcolor\": \"white\", \"linecolor\": \"white\", \"minorgridcolor\": \"white\", \"startlinecolor\": \"#2a3f5f\"}, \"type\": \"carpet\"}], \"choropleth\": [{\"colorbar\": {\"outlinewidth\": 0, \"ticks\": \"\"}, \"type\": \"choropleth\"}], \"contour\": [{\"colorbar\": {\"outlinewidth\": 0, \"ticks\": \"\"}, \"colorscale\": [[0.0, \"#0d0887\"], [0.1111111111111111, \"#46039f\"], [0.2222222222222222, \"#7201a8\"], [0.3333333333333333, \"#9c179e\"], [0.4444444444444444, \"#bd3786\"], [0.5555555555555556, \"#d8576b\"], [0.6666666666666666, \"#ed7953\"], [0.7777777777777778, \"#fb9f3a\"], [0.8888888888888888, \"#fdca26\"], [1.0, \"#f0f921\"]], \"type\": \"contour\"}], \"contourcarpet\": [{\"colorbar\": {\"outlinewidth\": 0, \"ticks\": \"\"}, \"type\": \"contourcarpet\"}], \"heatmap\": [{\"colorbar\": {\"outlinewidth\": 0, \"ticks\": \"\"}, \"colorscale\": [[0.0, \"#0d0887\"], [0.1111111111111111, \"#46039f\"], [0.2222222222222222, \"#7201a8\"], [0.3333333333333333, \"#9c179e\"], [0.4444444444444444, \"#bd3786\"], [0.5555555555555556, \"#d8576b\"], [0.6666666666666666, \"#ed7953\"], [0.7777777777777778, \"#fb9f3a\"], [0.8888888888888888, \"#fdca26\"], [1.0, \"#f0f921\"]], \"type\": \"heatmap\"}], \"heatmapgl\": [{\"colorbar\": {\"outlinewidth\": 0, \"ticks\": \"\"}, \"colorscale\": [[0.0, \"#0d0887\"], [0.1111111111111111, \"#46039f\"], [0.2222222222222222, \"#7201a8\"], [0.3333333333333333, \"#9c179e\"], [0.4444444444444444, \"#bd3786\"], [0.5555555555555556, \"#d8576b\"], [0.6666666666666666, \"#ed7953\"], [0.7777777777777778, \"#fb9f3a\"], [0.8888888888888888, \"#fdca26\"], [1.0, \"#f0f921\"]], \"type\": \"heatmapgl\"}], \"histogram\": [{\"marker\": {\"colorbar\": {\"outlinewidth\": 0, \"ticks\": \"\"}}, \"type\": \"histogram\"}], \"histogram2d\": [{\"colorbar\": {\"outlinewidth\": 0, \"ticks\": \"\"}, \"colorscale\": [[0.0, \"#0d0887\"], [0.1111111111111111, \"#46039f\"], [0.2222222222222222, \"#7201a8\"], [0.3333333333333333, \"#9c179e\"], [0.4444444444444444, \"#bd3786\"], [0.5555555555555556, \"#d8576b\"], [0.6666666666666666, \"#ed7953\"], [0.7777777777777778, \"#fb9f3a\"], [0.8888888888888888, \"#fdca26\"], [1.0, \"#f0f921\"]], \"type\": \"histogram2d\"}], \"histogram2dcontour\": [{\"colorbar\": {\"outlinewidth\": 0, \"ticks\": \"\"}, \"colorscale\": [[0.0, \"#0d0887\"], [0.1111111111111111, \"#46039f\"], [0.2222222222222222, \"#7201a8\"], [0.3333333333333333, \"#9c179e\"], [0.4444444444444444, \"#bd3786\"], [0.5555555555555556, \"#d8576b\"], [0.6666666666666666, \"#ed7953\"], [0.7777777777777778, \"#fb9f3a\"], [0.8888888888888888, \"#fdca26\"], [1.0, \"#f0f921\"]], \"type\": \"histogram2dcontour\"}], \"mesh3d\": [{\"colorbar\": {\"outlinewidth\": 0, \"ticks\": \"\"}, \"type\": \"mesh3d\"}], \"parcoords\": [{\"line\": {\"colorbar\": {\"outlinewidth\": 0, \"ticks\": \"\"}}, \"type\": \"parcoords\"}], \"pie\": [{\"automargin\": true, \"type\": \"pie\"}], \"scatter\": [{\"marker\": {\"colorbar\": {\"outlinewidth\": 0, \"ticks\": \"\"}}, \"type\": \"scatter\"}], \"scatter3d\": [{\"line\": {\"colorbar\": {\"outlinewidth\": 0, \"ticks\": \"\"}}, \"marker\": {\"colorbar\": {\"outlinewidth\": 0, \"ticks\": \"\"}}, \"type\": \"scatter3d\"}], \"scattercarpet\": [{\"marker\": {\"colorbar\": {\"outlinewidth\": 0, \"ticks\": \"\"}}, \"type\": \"scattercarpet\"}], \"scattergeo\": [{\"marker\": {\"colorbar\": {\"outlinewidth\": 0, \"ticks\": \"\"}}, \"type\": \"scattergeo\"}], \"scattergl\": [{\"marker\": {\"colorbar\": {\"outlinewidth\": 0, \"ticks\": \"\"}}, \"type\": \"scattergl\"}], \"scattermapbox\": [{\"marker\": {\"colorbar\": {\"outlinewidth\": 0, \"ticks\": \"\"}}, \"type\": \"scattermapbox\"}], \"scatterpolar\": [{\"marker\": {\"colorbar\": {\"outlinewidth\": 0, \"ticks\": \"\"}}, \"type\": \"scatterpolar\"}], \"scatterpolargl\": [{\"marker\": {\"colorbar\": {\"outlinewidth\": 0, \"ticks\": \"\"}}, \"type\": \"scatterpolargl\"}], \"scatterternary\": [{\"marker\": {\"colorbar\": {\"outlinewidth\": 0, \"ticks\": \"\"}}, \"type\": \"scatterternary\"}], \"surface\": [{\"colorbar\": {\"outlinewidth\": 0, \"ticks\": \"\"}, \"colorscale\": [[0.0, \"#0d0887\"], [0.1111111111111111, \"#46039f\"], [0.2222222222222222, \"#7201a8\"], [0.3333333333333333, \"#9c179e\"], [0.4444444444444444, \"#bd3786\"], [0.5555555555555556, \"#d8576b\"], [0.6666666666666666, \"#ed7953\"], [0.7777777777777778, \"#fb9f3a\"], [0.8888888888888888, \"#fdca26\"], [1.0, \"#f0f921\"]], \"type\": \"surface\"}], \"table\": [{\"cells\": {\"fill\": {\"color\": \"#EBF0F8\"}, \"line\": {\"color\": \"white\"}}, \"header\": {\"fill\": {\"color\": \"#C8D4E3\"}, \"line\": {\"color\": \"white\"}}, \"type\": \"table\"}]}, \"layout\": {\"annotationdefaults\": {\"arrowcolor\": \"#2a3f5f\", \"arrowhead\": 0, \"arrowwidth\": 1}, \"coloraxis\": {\"colorbar\": {\"outlinewidth\": 0, \"ticks\": \"\"}}, \"colorscale\": {\"diverging\": [[0, \"#8e0152\"], [0.1, \"#c51b7d\"], [0.2, \"#de77ae\"], [0.3, \"#f1b6da\"], [0.4, \"#fde0ef\"], [0.5, \"#f7f7f7\"], [0.6, \"#e6f5d0\"], [0.7, \"#b8e186\"], [0.8, \"#7fbc41\"], [0.9, \"#4d9221\"], [1, \"#276419\"]], \"sequential\": [[0.0, \"#0d0887\"], [0.1111111111111111, \"#46039f\"], [0.2222222222222222, \"#7201a8\"], [0.3333333333333333, \"#9c179e\"], [0.4444444444444444, \"#bd3786\"], [0.5555555555555556, \"#d8576b\"], [0.6666666666666666, \"#ed7953\"], [0.7777777777777778, \"#fb9f3a\"], [0.8888888888888888, \"#fdca26\"], [1.0, \"#f0f921\"]], \"sequentialminus\": [[0.0, \"#0d0887\"], [0.1111111111111111, \"#46039f\"], [0.2222222222222222, \"#7201a8\"], [0.3333333333333333, \"#9c179e\"], [0.4444444444444444, \"#bd3786\"], [0.5555555555555556, \"#d8576b\"], [0.6666666666666666, \"#ed7953\"], [0.7777777777777778, \"#fb9f3a\"], [0.8888888888888888, \"#fdca26\"], [1.0, \"#f0f921\"]]}, \"colorway\": [\"#636efa\", \"#EF553B\", \"#00cc96\", \"#ab63fa\", \"#FFA15A\", \"#19d3f3\", \"#FF6692\", \"#B6E880\", \"#FF97FF\", \"#FECB52\"], \"font\": {\"color\": \"#2a3f5f\"}, \"geo\": {\"bgcolor\": \"white\", \"lakecolor\": \"white\", \"landcolor\": \"#E5ECF6\", \"showlakes\": true, \"showland\": true, \"subunitcolor\": \"white\"}, \"hoverlabel\": {\"align\": \"left\"}, \"hovermode\": \"closest\", \"mapbox\": {\"style\": \"light\"}, \"paper_bgcolor\": \"white\", \"plot_bgcolor\": \"#E5ECF6\", \"polar\": {\"angularaxis\": {\"gridcolor\": \"white\", \"linecolor\": \"white\", \"ticks\": \"\"}, \"bgcolor\": \"#E5ECF6\", \"radialaxis\": {\"gridcolor\": \"white\", \"linecolor\": \"white\", \"ticks\": \"\"}}, \"scene\": {\"xaxis\": {\"backgroundcolor\": \"#E5ECF6\", \"gridcolor\": \"white\", \"gridwidth\": 2, \"linecolor\": \"white\", \"showbackground\": true, \"ticks\": \"\", \"zerolinecolor\": \"white\"}, \"yaxis\": {\"backgroundcolor\": \"#E5ECF6\", \"gridcolor\": \"white\", \"gridwidth\": 2, \"linecolor\": \"white\", \"showbackground\": true, \"ticks\": \"\", \"zerolinecolor\": \"white\"}, \"zaxis\": {\"backgroundcolor\": \"#E5ECF6\", \"gridcolor\": \"white\", \"gridwidth\": 2, \"linecolor\": \"white\", \"showbackground\": true, \"ticks\": \"\", \"zerolinecolor\": \"white\"}}, \"shapedefaults\": {\"line\": {\"color\": \"#2a3f5f\"}}, \"ternary\": {\"aaxis\": {\"gridcolor\": \"white\", \"linecolor\": \"white\", \"ticks\": \"\"}, \"baxis\": {\"gridcolor\": \"white\", \"linecolor\": \"white\", \"ticks\": \"\"}, \"bgcolor\": \"#E5ECF6\", \"caxis\": {\"gridcolor\": \"white\", \"linecolor\": \"white\", \"ticks\": \"\"}}, \"title\": {\"x\": 0.05}, \"xaxis\": {\"automargin\": true, \"gridcolor\": \"white\", \"linecolor\": \"white\", \"ticks\": \"\", \"title\": {\"standoff\": 15}, \"zerolinecolor\": \"white\", \"zerolinewidth\": 2}, \"yaxis\": {\"automargin\": true, \"gridcolor\": \"white\", \"linecolor\": \"white\", \"ticks\": \"\", \"title\": {\"standoff\": 15}, \"zerolinecolor\": \"white\", \"zerolinewidth\": 2}}}, \"updatemenus\": [{\"buttons\": [{\"args\": [{\"scene.annotations\": [{\"showarrow\": false, \"text\": \"O1\", \"x\": 1.385546, \"y\": -0.703993, \"yshift\": 15, \"z\": -0.29497}, {\"showarrow\": false, \"text\": \"O2\", \"x\": -0.109592, \"y\": 0.556358, \"yshift\": 15, \"z\": 1.406058}, {\"showarrow\": false, \"text\": \"O3\", \"x\": -1.140951, \"y\": -1.014789, \"yshift\": 15, \"z\": -0.032201}, {\"showarrow\": false, \"text\": \"O4\", \"x\": -0.06531, \"y\": 1.103355, \"yshift\": 15, \"z\": -1.127188}, {\"showarrow\": false, \"text\": \"P5\", \"x\": 0.0, \"y\": 0.0, \"yshift\": 15, \"z\": 0.0}, {\"showarrow\": false, \"text\": \"H6\", \"x\": 1.92437, \"y\": -0.27008, \"yshift\": 15, \"z\": -0.968551}, {\"showarrow\": false, \"text\": \"H7\", \"x\": -0.953343, \"y\": 1.55131, \"yshift\": 15, \"z\": -1.104397}, {\"showarrow\": false, \"text\": \"P8\", \"x\": -3.806983, \"y\": 1.231671, \"yshift\": 15, \"z\": -0.249108}, {\"showarrow\": false, \"text\": \"O9\", \"x\": -4.945631, \"y\": 2.078171, \"yshift\": 15, \"z\": 0.475842}, {\"showarrow\": false, \"text\": \"O10\", \"x\": -2.58564, \"y\": 1.844498, \"yshift\": 15, \"z\": -0.778549}, {\"showarrow\": false, \"text\": \"O11\", \"x\": -5.227228, \"y\": 1.405459, \"yshift\": 15, \"z\": -0.947641}, {\"showarrow\": false, \"text\": \"O12\", \"x\": -3.64917, \"y\": -0.181218, \"yshift\": 15, \"z\": 0.374359}, {\"showarrow\": false, \"text\": \"H13\", \"x\": -2.720346, \"y\": -0.546031, \"yshift\": 15, \"z\": 0.282912}]}], \"label\": \"Elements\", \"method\": \"relayout\"}, {\"args\": [{\"scene.annotations\": [{\"showarrow\": false, \"text\": \"O1\", \"x\": 1.385546, \"y\": -0.703993, \"yshift\": 15, \"z\": -0.29497}, {\"showarrow\": false, \"text\": \"O2\", \"x\": -0.109592, \"y\": 0.556358, \"yshift\": 15, \"z\": 1.406058}, {\"showarrow\": false, \"text\": \"O3\", \"x\": -1.140951, \"y\": -1.014789, \"yshift\": 15, \"z\": -0.032201}, {\"showarrow\": false, \"text\": \"O4\", \"x\": -0.06531, \"y\": 1.103355, \"yshift\": 15, \"z\": -1.127188}, {\"showarrow\": false, \"text\": \"P5\", \"x\": 0.0, \"y\": 0.0, \"yshift\": 15, \"z\": 0.0}, {\"showarrow\": false, \"text\": \"H6\", \"x\": 1.92437, \"y\": -0.27008, \"yshift\": 15, \"z\": -0.968551}, {\"showarrow\": false, \"text\": \"H7\", \"x\": -0.953343, \"y\": 1.55131, \"yshift\": 15, \"z\": -1.104397}, {\"showarrow\": false, \"text\": \"P8\", \"x\": -3.806983, \"y\": 1.231671, \"yshift\": 15, \"z\": -0.249108}, {\"showarrow\": false, \"text\": \"O9\", \"x\": -4.945631, \"y\": 2.078171, \"yshift\": 15, \"z\": 0.475842}, {\"showarrow\": false, \"text\": \"O10\", \"x\": -2.58564, \"y\": 1.844498, \"yshift\": 15, \"z\": -0.778549}, {\"showarrow\": false, \"text\": \"O11\", \"x\": -5.227228, \"y\": 1.405459, \"yshift\": 15, \"z\": -0.947641}, {\"showarrow\": false, \"text\": \"O12\", \"x\": -3.64917, \"y\": -0.181218, \"yshift\": 15, \"z\": 0.374359}, {\"showarrow\": false, \"text\": \"H13\", \"x\": -2.720346, \"y\": -0.546031, \"yshift\": 15, \"z\": 0.282912}, {\"font\": {\"color\": \"steelblue\"}, \"showarrow\": false, \"text\": \"1.582\", \"x\": 0.692773, \"y\": -0.3519965, \"yshift\": 15, \"z\": -0.147485}, {\"font\": {\"color\": \"steelblue\"}, \"showarrow\": false, \"text\": \"0.966\", \"x\": 1.654958, \"y\": -0.4870365, \"yshift\": 15, \"z\": -0.6317605000000001}, {\"font\": {\"color\": \"steelblue\"}, \"showarrow\": false, \"text\": \"1.516\", \"x\": -0.054796, \"y\": 0.278179, \"yshift\": 15, \"z\": 0.703029}, {\"font\": {\"color\": \"steelblue\"}, \"showarrow\": false, \"text\": \"1.527\", \"x\": -0.5704755, \"y\": -0.5073945, \"yshift\": 15, \"z\": -0.0161005}, {\"font\": {\"color\": \"steelblue\"}, \"showarrow\": false, \"text\": \"1.579\", \"x\": -0.032655, \"y\": 0.5516775, \"yshift\": 15, \"z\": -0.563594}, {\"font\": {\"color\": \"steelblue\"}, \"showarrow\": false, \"text\": \"0.995\", \"x\": -0.5093265, \"y\": 1.3273325, \"yshift\": 15, \"z\": -1.1157925}, {\"font\": {\"color\": \"steelblue\"}, \"showarrow\": false, \"text\": \"1.593\", \"x\": -4.376307, \"y\": 1.654921, \"yshift\": 15, \"z\": 0.113367}, {\"font\": {\"color\": \"steelblue\"}, \"showarrow\": false, \"text\": \"1.465\", \"x\": -3.1963115, \"y\": 1.5380845, \"yshift\": 15, \"z\": -0.5138285}, {\"font\": {\"color\": \"steelblue\"}, \"showarrow\": false, \"text\": \"1.592\", \"x\": -4.5171054999999996, \"y\": 1.318565, \"yshift\": 15, \"z\": -0.5983745}, {\"font\": {\"color\": \"steelblue\"}, \"showarrow\": false, \"text\": \"1.552\", \"x\": -3.7280765, \"y\": 0.5252265, \"yshift\": 15, \"z\": 0.0626255}, {\"font\": {\"color\": \"steelblue\"}, \"showarrow\": false, \"text\": \"1.002\", \"x\": -3.184758, \"y\": -0.3636245, \"yshift\": 15, \"z\": 0.32863549999999997}, {\"font\": {\"color\": \"steelblue\"}, \"showarrow\": false, \"text\": 1.677, \"x\": -1.9306485000000002, \"y\": -0.78041, \"yshift\": 15, \"z\": 0.1253555}, {\"font\": {\"color\": \"steelblue\"}, \"showarrow\": false, \"text\": 1.69, \"x\": -1.7694915, \"y\": 1.6979039999999999, \"yshift\": 15, \"z\": -0.941473}]}], \"label\": \"Element & Bond Lengths\", \"method\": \"relayout\"}, {\"args\": [{\"scene.annotations\": [{\"showarrow\": false, \"text\": 0, \"x\": 1.385546, \"y\": -0.703993, \"yshift\": 15, \"z\": -0.29497}, {\"showarrow\": false, \"text\": 1, \"x\": -0.109592, \"y\": 0.556358, \"yshift\": 15, \"z\": 1.406058}, {\"showarrow\": false, \"text\": 2, \"x\": -1.140951, \"y\": -1.014789, \"yshift\": 15, \"z\": -0.032201}, {\"showarrow\": false, \"text\": 3, \"x\": -0.06531, \"y\": 1.103355, \"yshift\": 15, \"z\": -1.127188}, {\"showarrow\": false, \"text\": 4, \"x\": 0.0, \"y\": 0.0, \"yshift\": 15, \"z\": 0.0}, {\"showarrow\": false, \"text\": 5, \"x\": 1.92437, \"y\": -0.27008, \"yshift\": 15, \"z\": -0.968551}, {\"showarrow\": false, \"text\": 6, \"x\": -0.953343, \"y\": 1.55131, \"yshift\": 15, \"z\": -1.104397}, {\"showarrow\": false, \"text\": 7, \"x\": -3.806983, \"y\": 1.231671, \"yshift\": 15, \"z\": -0.249108}, {\"showarrow\": false, \"text\": 8, \"x\": -4.945631, \"y\": 2.078171, \"yshift\": 15, \"z\": 0.475842}, {\"showarrow\": false, \"text\": 9, \"x\": -2.58564, \"y\": 1.844498, \"yshift\": 15, \"z\": -0.778549}, {\"showarrow\": false, \"text\": 10, \"x\": -5.227228, \"y\": 1.405459, \"yshift\": 15, \"z\": -0.947641}, {\"showarrow\": false, \"text\": 11, \"x\": -3.64917, \"y\": -0.181218, \"yshift\": 15, \"z\": 0.374359}, {\"showarrow\": false, \"text\": 12, \"x\": -2.720346, \"y\": -0.546031, \"yshift\": 15, \"z\": 0.282912}]}], \"label\": \"Indices\", \"method\": \"relayout\"}, {\"args\": [{\"scene.annotations\": [{\"showarrow\": false, \"text\": 0, \"x\": 1.385546, \"y\": -0.703993, \"yshift\": 15, \"z\": -0.29497}, {\"showarrow\": false, \"text\": 1, \"x\": -0.109592, \"y\": 0.556358, \"yshift\": 15, \"z\": 1.406058}, {\"showarrow\": false, \"text\": 2, \"x\": -1.140951, \"y\": -1.014789, \"yshift\": 15, \"z\": -0.032201}, {\"showarrow\": false, \"text\": 3, \"x\": -0.06531, \"y\": 1.103355, \"yshift\": 15, \"z\": -1.127188}, {\"showarrow\": false, \"text\": 4, \"x\": 0.0, \"y\": 0.0, \"yshift\": 15, \"z\": 0.0}, {\"showarrow\": false, \"text\": 5, \"x\": 1.92437, \"y\": -0.27008, \"yshift\": 15, \"z\": -0.968551}, {\"showarrow\": false, \"text\": 6, \"x\": -0.953343, \"y\": 1.55131, \"yshift\": 15, \"z\": -1.104397}, {\"showarrow\": false, \"text\": 7, \"x\": -3.806983, \"y\": 1.231671, \"yshift\": 15, \"z\": -0.249108}, {\"showarrow\": false, \"text\": 8, \"x\": -4.945631, \"y\": 2.078171, \"yshift\": 15, \"z\": 0.475842}, {\"showarrow\": false, \"text\": 9, \"x\": -2.58564, \"y\": 1.844498, \"yshift\": 15, \"z\": -0.778549}, {\"showarrow\": false, \"text\": 10, \"x\": -5.227228, \"y\": 1.405459, \"yshift\": 15, \"z\": -0.947641}, {\"showarrow\": false, \"text\": 11, \"x\": -3.64917, \"y\": -0.181218, \"yshift\": 15, \"z\": 0.374359}, {\"showarrow\": false, \"text\": 12, \"x\": -2.720346, \"y\": -0.546031, \"yshift\": 15, \"z\": 0.282912}, {\"font\": {\"color\": \"steelblue\"}, \"showarrow\": false, \"text\": \"1.582\", \"x\": 0.692773, \"y\": -0.3519965, \"yshift\": 15, \"z\": -0.147485}, {\"font\": {\"color\": \"steelblue\"}, \"showarrow\": false, \"text\": \"0.966\", \"x\": 1.654958, \"y\": -0.4870365, \"yshift\": 15, \"z\": -0.6317605000000001}, {\"font\": {\"color\": \"steelblue\"}, \"showarrow\": false, \"text\": \"1.516\", \"x\": -0.054796, \"y\": 0.278179, \"yshift\": 15, \"z\": 0.703029}, {\"font\": {\"color\": \"steelblue\"}, \"showarrow\": false, \"text\": \"1.527\", \"x\": -0.5704755, \"y\": -0.5073945, \"yshift\": 15, \"z\": -0.0161005}, {\"font\": {\"color\": \"steelblue\"}, \"showarrow\": false, \"text\": \"1.579\", \"x\": -0.032655, \"y\": 0.5516775, \"yshift\": 15, \"z\": -0.563594}, {\"font\": {\"color\": \"steelblue\"}, \"showarrow\": false, \"text\": \"0.995\", \"x\": -0.5093265, \"y\": 1.3273325, \"yshift\": 15, \"z\": -1.1157925}, {\"font\": {\"color\": \"steelblue\"}, \"showarrow\": false, \"text\": \"1.593\", \"x\": -4.376307, \"y\": 1.654921, \"yshift\": 15, \"z\": 0.113367}, {\"font\": {\"color\": \"steelblue\"}, \"showarrow\": false, \"text\": \"1.465\", \"x\": -3.1963115, \"y\": 1.5380845, \"yshift\": 15, \"z\": -0.5138285}, {\"font\": {\"color\": \"steelblue\"}, \"showarrow\": false, \"text\": \"1.592\", \"x\": -4.5171054999999996, \"y\": 1.318565, \"yshift\": 15, \"z\": -0.5983745}, {\"font\": {\"color\": \"steelblue\"}, \"showarrow\": false, \"text\": \"1.552\", \"x\": -3.7280765, \"y\": 0.5252265, \"yshift\": 15, \"z\": 0.0626255}, {\"font\": {\"color\": \"steelblue\"}, \"showarrow\": false, \"text\": \"1.002\", \"x\": -3.184758, \"y\": -0.3636245, \"yshift\": 15, \"z\": 0.32863549999999997}, {\"font\": {\"color\": \"steelblue\"}, \"showarrow\": false, \"text\": 1.677, \"x\": -1.9306485000000002, \"y\": -0.78041, \"yshift\": 15, \"z\": 0.1253555}, {\"font\": {\"color\": \"steelblue\"}, \"showarrow\": false, \"text\": 1.69, \"x\": -1.7694915, \"y\": 1.6979039999999999, \"yshift\": 15, \"z\": -0.941473}]}], \"label\": \"Indices & Bond Lengths\", \"method\": \"relayout\"}, {\"args\": [{\"scene.annotations\": [{\"font\": {\"color\": \"steelblue\"}, \"showarrow\": false, \"text\": \"1.582\", \"x\": 0.692773, \"y\": -0.3519965, \"yshift\": 15, \"z\": -0.147485}, {\"font\": {\"color\": \"steelblue\"}, \"showarrow\": false, \"text\": \"0.966\", \"x\": 1.654958, \"y\": -0.4870365, \"yshift\": 15, \"z\": -0.6317605000000001}, {\"font\": {\"color\": \"steelblue\"}, \"showarrow\": false, \"text\": \"1.516\", \"x\": -0.054796, \"y\": 0.278179, \"yshift\": 15, \"z\": 0.703029}, {\"font\": {\"color\": \"steelblue\"}, \"showarrow\": false, \"text\": \"1.527\", \"x\": -0.5704755, \"y\": -0.5073945, \"yshift\": 15, \"z\": -0.0161005}, {\"font\": {\"color\": \"steelblue\"}, \"showarrow\": false, \"text\": \"1.579\", \"x\": -0.032655, \"y\": 0.5516775, \"yshift\": 15, \"z\": -0.563594}, {\"font\": {\"color\": \"steelblue\"}, \"showarrow\": false, \"text\": \"0.995\", \"x\": -0.5093265, \"y\": 1.3273325, \"yshift\": 15, \"z\": -1.1157925}, {\"font\": {\"color\": \"steelblue\"}, \"showarrow\": false, \"text\": \"1.593\", \"x\": -4.376307, \"y\": 1.654921, \"yshift\": 15, \"z\": 0.113367}, {\"font\": {\"color\": \"steelblue\"}, \"showarrow\": false, \"text\": \"1.465\", \"x\": -3.1963115, \"y\": 1.5380845, \"yshift\": 15, \"z\": -0.5138285}, {\"font\": {\"color\": \"steelblue\"}, \"showarrow\": false, \"text\": \"1.592\", \"x\": -4.5171054999999996, \"y\": 1.318565, \"yshift\": 15, \"z\": -0.5983745}, {\"font\": {\"color\": \"steelblue\"}, \"showarrow\": false, \"text\": \"1.552\", \"x\": -3.7280765, \"y\": 0.5252265, \"yshift\": 15, \"z\": 0.0626255}, {\"font\": {\"color\": \"steelblue\"}, \"showarrow\": false, \"text\": \"1.002\", \"x\": -3.184758, \"y\": -0.3636245, \"yshift\": 15, \"z\": 0.32863549999999997}, {\"font\": {\"color\": \"steelblue\"}, \"showarrow\": false, \"text\": 1.677, \"x\": -1.9306485000000002, \"y\": -0.78041, \"yshift\": 15, \"z\": 0.1253555}, {\"font\": {\"color\": \"steelblue\"}, \"showarrow\": false, \"text\": 1.69, \"x\": -1.7694915, \"y\": 1.6979039999999999, \"yshift\": 15, \"z\": -0.941473}]}], \"label\": \"Bond Lengths\", \"method\": \"relayout\"}, {\"args\": [{}], \"label\": \"Hide All\", \"method\": \"relayout\"}], \"direction\": \"down\", \"xanchor\": \"left\", \"yanchor\": \"top\"}]},                        {\"responsive\": true}                    ).then(function(){\n",
       "                            \n",
       "var gd = document.getElementById('9b7ff1dd-544a-45f7-912c-b27bbf423366');\n",
       "var x = new MutationObserver(function (mutations, observer) {{\n",
       "        var display = window.getComputedStyle(gd).display;\n",
       "        if (!display || display === 'none') {{\n",
       "            console.log([gd, 'removed!']);\n",
       "            Plotly.purge(gd);\n",
       "            observer.disconnect();\n",
       "        }}\n",
       "}});\n",
       "\n",
       "// Listen for the removal of the full notebook cells\n",
       "var notebookContainer = gd.closest('#notebook-container');\n",
       "if (notebookContainer) {{\n",
       "    x.observe(notebookContainer, {childList: true});\n",
       "}}\n",
       "\n",
       "// Listen for the clearing of the current output cell\n",
       "var outputEl = gd.closest('.output');\n",
       "if (outputEl) {{\n",
       "    x.observe(outputEl, {childList: true});\n",
       "}}\n",
       "\n",
       "                        })                };                });            </script>        </div>"
      ]
     },
     "metadata": {},
     "output_type": "display_data"
    },
    {
     "data": {
      "application/vnd.plotly.v1+json": {
       "config": {
        "linkText": "Export to plot.ly",
        "plotlyServerURL": "https://plot.ly",
        "showLink": false
       },
       "data": [
        {
         "marker": {
          "color": [
           "white",
           "white",
           "red",
           "red",
           "red",
           "red",
           "red",
           "red",
           "red",
           "red",
           "orange",
           "orange"
          ],
          "line": {
           "color": "lightgray",
           "width": 2
          },
          "opacity": 0.8,
          "size": [
           9.200000000000001,
           9.200000000000001,
           27.200000000000003,
           27.200000000000003,
           27.200000000000003,
           27.200000000000003,
           27.200000000000003,
           27.200000000000003,
           27.200000000000003,
           27.200000000000003,
           42,
           42
          ],
          "symbol": "circle"
         },
         "mode": "markers",
         "text": [
          "H1",
          "H2",
          "O1",
          "O2",
          "O3",
          "O4",
          "O5",
          "O6",
          "O7",
          "O8",
          "P1",
          "P2"
         ],
         "type": "scatter3d",
         "x": [
          -1.7037,
          -2.4233,
          1.2485,
          -1.0136,
          0.5789,
          -0.6543,
          -5.3711,
          -3.1268,
          -4.7086,
          -3.481,
          0,
          -4.1431
         ],
         "y": [
          1.2711,
          -0.5016,
          0.5646,
          -0.5796,
          -1.0887,
          1.1386,
          1.0856,
          1.3475,
          -0.5675,
          -0.484,
          0,
          0.3693
         ],
         "z": [
          -0.8621,
          0.9521,
          0.6916,
          1.0006,
          -0.9191,
          -0.8619,
          0.2833,
          -0.907,
          -1.3728,
          0.8486,
          0,
          -0.2938
         ]
        },
        {
         "hoverinfo": "none",
         "marker": {
          "color": "gray",
          "opacity": 0.1,
          "size": 3
         },
         "mode": "lines",
         "type": "scatter3d",
         "x": [
          -1.7037,
          -0.6543,
          null,
          -1.7037,
          -3.1268,
          null,
          -0.6543,
          0,
          null,
          -0.6543,
          -1.7037,
          null,
          -2.4233,
          -3.481,
          null,
          -2.4233,
          -1.0136,
          null,
          -3.481,
          -2.4233,
          null,
          -3.481,
          -4.1431,
          null,
          1.2485,
          0,
          null,
          0,
          1.2485,
          null,
          0,
          0.5789,
          null,
          0,
          -0.6543,
          null,
          0,
          -1.0136,
          null,
          -1.0136,
          -2.4233,
          null,
          -1.0136,
          0,
          null,
          0.5789,
          0,
          null,
          -5.3711,
          -4.1431,
          null,
          -4.1431,
          -5.3711,
          null,
          -4.1431,
          -3.1268,
          null,
          -4.1431,
          -3.481,
          null,
          -4.1431,
          -4.7086,
          null,
          -3.1268,
          -1.7037,
          null,
          -3.1268,
          -4.1431,
          null,
          -4.7086,
          -4.1431,
          null
         ],
         "y": [
          1.2711,
          1.1386,
          null,
          1.2711,
          1.3475,
          null,
          1.1386,
          0,
          null,
          1.1386,
          1.2711,
          null,
          -0.5016,
          -0.484,
          null,
          -0.5016,
          -0.5796,
          null,
          -0.484,
          -0.5016,
          null,
          -0.484,
          0.3693,
          null,
          0.5646,
          0,
          null,
          0,
          0.5646,
          null,
          0,
          -1.0887,
          null,
          0,
          1.1386,
          null,
          0,
          -0.5796,
          null,
          -0.5796,
          -0.5016,
          null,
          -0.5796,
          0,
          null,
          -1.0887,
          0,
          null,
          1.0856,
          0.3693,
          null,
          0.3693,
          1.0856,
          null,
          0.3693,
          1.3475,
          null,
          0.3693,
          -0.484,
          null,
          0.3693,
          -0.5675,
          null,
          1.3475,
          1.2711,
          null,
          1.3475,
          0.3693,
          null,
          -0.5675,
          0.3693,
          null
         ],
         "z": [
          -0.8621,
          -0.8619,
          null,
          -0.8621,
          -0.907,
          null,
          -0.8619,
          0,
          null,
          -0.8619,
          -0.8621,
          null,
          0.9521,
          0.8486,
          null,
          0.9521,
          1.0006,
          null,
          0.8486,
          0.9521,
          null,
          0.8486,
          -0.2938,
          null,
          0.6916,
          0,
          null,
          0,
          0.6916,
          null,
          0,
          -0.9191,
          null,
          0,
          -0.8619,
          null,
          0,
          1.0006,
          null,
          1.0006,
          0.9521,
          null,
          1.0006,
          0,
          null,
          -0.9191,
          0,
          null,
          0.2833,
          -0.2938,
          null,
          -0.2938,
          0.2833,
          null,
          -0.2938,
          -0.907,
          null,
          -0.2938,
          0.8486,
          null,
          -0.2938,
          -1.3728,
          null,
          -0.907,
          -0.8621,
          null,
          -0.907,
          -0.2938,
          null,
          -1.3728,
          -0.2938,
          null
         ]
        }
       ],
       "layout": {
        "margin": {
         "b": 0,
         "l": 0,
         "r": 0,
         "t": 0
        },
        "scene": {
         "annotations": [
          {
           "showarrow": false,
           "text": "H1",
           "x": -1.7037,
           "y": 1.2711,
           "yshift": 15,
           "z": -0.8621
          },
          {
           "showarrow": false,
           "text": "H2",
           "x": -2.4233,
           "y": -0.5016,
           "yshift": 15,
           "z": 0.9521
          },
          {
           "showarrow": false,
           "text": "O1",
           "x": 1.2485,
           "y": 0.5646,
           "yshift": 15,
           "z": 0.6916
          },
          {
           "showarrow": false,
           "text": "O2",
           "x": -1.0136,
           "y": -0.5796,
           "yshift": 15,
           "z": 1.0006
          },
          {
           "showarrow": false,
           "text": "O3",
           "x": 0.5789,
           "y": -1.0887,
           "yshift": 15,
           "z": -0.9191
          },
          {
           "showarrow": false,
           "text": "O4",
           "x": -0.6543,
           "y": 1.1386,
           "yshift": 15,
           "z": -0.8619
          },
          {
           "showarrow": false,
           "text": "O5",
           "x": -5.3711,
           "y": 1.0856,
           "yshift": 15,
           "z": 0.2833
          },
          {
           "showarrow": false,
           "text": "O6",
           "x": -3.1268,
           "y": 1.3475,
           "yshift": 15,
           "z": -0.907
          },
          {
           "showarrow": false,
           "text": "O7",
           "x": -4.7086,
           "y": -0.5675,
           "yshift": 15,
           "z": -1.3728
          },
          {
           "showarrow": false,
           "text": "O8",
           "x": -3.481,
           "y": -0.484,
           "yshift": 15,
           "z": 0.8486
          },
          {
           "showarrow": false,
           "text": "P1",
           "x": 0,
           "y": 0,
           "yshift": 15,
           "z": 0
          },
          {
           "showarrow": false,
           "text": "P2",
           "x": -4.1431,
           "y": 0.3693,
           "yshift": 15,
           "z": -0.2938
          }
         ],
         "xaxis": {
          "showbackground": true,
          "showgrid": true,
          "showticklabels": true,
          "title": {
           "font": {
            "color": "white"
           }
          },
          "zeroline": true
         },
         "yaxis": {
          "showbackground": true,
          "showgrid": true,
          "showticklabels": true,
          "title": {
           "font": {
            "color": "white"
           }
          },
          "zeroline": true
         },
         "zaxis": {
          "showbackground": true,
          "showgrid": true,
          "showticklabels": true,
          "title": {
           "font": {
            "color": "white"
           }
          },
          "zeroline": true
         }
        },
        "showlegend": false,
        "template": {
         "data": {
          "bar": [
           {
            "error_x": {
             "color": "#2a3f5f"
            },
            "error_y": {
             "color": "#2a3f5f"
            },
            "marker": {
             "line": {
              "color": "#E5ECF6",
              "width": 0.5
             }
            },
            "type": "bar"
           }
          ],
          "barpolar": [
           {
            "marker": {
             "line": {
              "color": "#E5ECF6",
              "width": 0.5
             }
            },
            "type": "barpolar"
           }
          ],
          "carpet": [
           {
            "aaxis": {
             "endlinecolor": "#2a3f5f",
             "gridcolor": "white",
             "linecolor": "white",
             "minorgridcolor": "white",
             "startlinecolor": "#2a3f5f"
            },
            "baxis": {
             "endlinecolor": "#2a3f5f",
             "gridcolor": "white",
             "linecolor": "white",
             "minorgridcolor": "white",
             "startlinecolor": "#2a3f5f"
            },
            "type": "carpet"
           }
          ],
          "choropleth": [
           {
            "colorbar": {
             "outlinewidth": 0,
             "ticks": ""
            },
            "type": "choropleth"
           }
          ],
          "contour": [
           {
            "colorbar": {
             "outlinewidth": 0,
             "ticks": ""
            },
            "colorscale": [
             [
              0,
              "#0d0887"
             ],
             [
              0.1111111111111111,
              "#46039f"
             ],
             [
              0.2222222222222222,
              "#7201a8"
             ],
             [
              0.3333333333333333,
              "#9c179e"
             ],
             [
              0.4444444444444444,
              "#bd3786"
             ],
             [
              0.5555555555555556,
              "#d8576b"
             ],
             [
              0.6666666666666666,
              "#ed7953"
             ],
             [
              0.7777777777777778,
              "#fb9f3a"
             ],
             [
              0.8888888888888888,
              "#fdca26"
             ],
             [
              1,
              "#f0f921"
             ]
            ],
            "type": "contour"
           }
          ],
          "contourcarpet": [
           {
            "colorbar": {
             "outlinewidth": 0,
             "ticks": ""
            },
            "type": "contourcarpet"
           }
          ],
          "heatmap": [
           {
            "colorbar": {
             "outlinewidth": 0,
             "ticks": ""
            },
            "colorscale": [
             [
              0,
              "#0d0887"
             ],
             [
              0.1111111111111111,
              "#46039f"
             ],
             [
              0.2222222222222222,
              "#7201a8"
             ],
             [
              0.3333333333333333,
              "#9c179e"
             ],
             [
              0.4444444444444444,
              "#bd3786"
             ],
             [
              0.5555555555555556,
              "#d8576b"
             ],
             [
              0.6666666666666666,
              "#ed7953"
             ],
             [
              0.7777777777777778,
              "#fb9f3a"
             ],
             [
              0.8888888888888888,
              "#fdca26"
             ],
             [
              1,
              "#f0f921"
             ]
            ],
            "type": "heatmap"
           }
          ],
          "heatmapgl": [
           {
            "colorbar": {
             "outlinewidth": 0,
             "ticks": ""
            },
            "colorscale": [
             [
              0,
              "#0d0887"
             ],
             [
              0.1111111111111111,
              "#46039f"
             ],
             [
              0.2222222222222222,
              "#7201a8"
             ],
             [
              0.3333333333333333,
              "#9c179e"
             ],
             [
              0.4444444444444444,
              "#bd3786"
             ],
             [
              0.5555555555555556,
              "#d8576b"
             ],
             [
              0.6666666666666666,
              "#ed7953"
             ],
             [
              0.7777777777777778,
              "#fb9f3a"
             ],
             [
              0.8888888888888888,
              "#fdca26"
             ],
             [
              1,
              "#f0f921"
             ]
            ],
            "type": "heatmapgl"
           }
          ],
          "histogram": [
           {
            "marker": {
             "colorbar": {
              "outlinewidth": 0,
              "ticks": ""
             }
            },
            "type": "histogram"
           }
          ],
          "histogram2d": [
           {
            "colorbar": {
             "outlinewidth": 0,
             "ticks": ""
            },
            "colorscale": [
             [
              0,
              "#0d0887"
             ],
             [
              0.1111111111111111,
              "#46039f"
             ],
             [
              0.2222222222222222,
              "#7201a8"
             ],
             [
              0.3333333333333333,
              "#9c179e"
             ],
             [
              0.4444444444444444,
              "#bd3786"
             ],
             [
              0.5555555555555556,
              "#d8576b"
             ],
             [
              0.6666666666666666,
              "#ed7953"
             ],
             [
              0.7777777777777778,
              "#fb9f3a"
             ],
             [
              0.8888888888888888,
              "#fdca26"
             ],
             [
              1,
              "#f0f921"
             ]
            ],
            "type": "histogram2d"
           }
          ],
          "histogram2dcontour": [
           {
            "colorbar": {
             "outlinewidth": 0,
             "ticks": ""
            },
            "colorscale": [
             [
              0,
              "#0d0887"
             ],
             [
              0.1111111111111111,
              "#46039f"
             ],
             [
              0.2222222222222222,
              "#7201a8"
             ],
             [
              0.3333333333333333,
              "#9c179e"
             ],
             [
              0.4444444444444444,
              "#bd3786"
             ],
             [
              0.5555555555555556,
              "#d8576b"
             ],
             [
              0.6666666666666666,
              "#ed7953"
             ],
             [
              0.7777777777777778,
              "#fb9f3a"
             ],
             [
              0.8888888888888888,
              "#fdca26"
             ],
             [
              1,
              "#f0f921"
             ]
            ],
            "type": "histogram2dcontour"
           }
          ],
          "mesh3d": [
           {
            "colorbar": {
             "outlinewidth": 0,
             "ticks": ""
            },
            "type": "mesh3d"
           }
          ],
          "parcoords": [
           {
            "line": {
             "colorbar": {
              "outlinewidth": 0,
              "ticks": ""
             }
            },
            "type": "parcoords"
           }
          ],
          "pie": [
           {
            "automargin": true,
            "type": "pie"
           }
          ],
          "scatter": [
           {
            "marker": {
             "colorbar": {
              "outlinewidth": 0,
              "ticks": ""
             }
            },
            "type": "scatter"
           }
          ],
          "scatter3d": [
           {
            "line": {
             "colorbar": {
              "outlinewidth": 0,
              "ticks": ""
             }
            },
            "marker": {
             "colorbar": {
              "outlinewidth": 0,
              "ticks": ""
             }
            },
            "type": "scatter3d"
           }
          ],
          "scattercarpet": [
           {
            "marker": {
             "colorbar": {
              "outlinewidth": 0,
              "ticks": ""
             }
            },
            "type": "scattercarpet"
           }
          ],
          "scattergeo": [
           {
            "marker": {
             "colorbar": {
              "outlinewidth": 0,
              "ticks": ""
             }
            },
            "type": "scattergeo"
           }
          ],
          "scattergl": [
           {
            "marker": {
             "colorbar": {
              "outlinewidth": 0,
              "ticks": ""
             }
            },
            "type": "scattergl"
           }
          ],
          "scattermapbox": [
           {
            "marker": {
             "colorbar": {
              "outlinewidth": 0,
              "ticks": ""
             }
            },
            "type": "scattermapbox"
           }
          ],
          "scatterpolar": [
           {
            "marker": {
             "colorbar": {
              "outlinewidth": 0,
              "ticks": ""
             }
            },
            "type": "scatterpolar"
           }
          ],
          "scatterpolargl": [
           {
            "marker": {
             "colorbar": {
              "outlinewidth": 0,
              "ticks": ""
             }
            },
            "type": "scatterpolargl"
           }
          ],
          "scatterternary": [
           {
            "marker": {
             "colorbar": {
              "outlinewidth": 0,
              "ticks": ""
             }
            },
            "type": "scatterternary"
           }
          ],
          "surface": [
           {
            "colorbar": {
             "outlinewidth": 0,
             "ticks": ""
            },
            "colorscale": [
             [
              0,
              "#0d0887"
             ],
             [
              0.1111111111111111,
              "#46039f"
             ],
             [
              0.2222222222222222,
              "#7201a8"
             ],
             [
              0.3333333333333333,
              "#9c179e"
             ],
             [
              0.4444444444444444,
              "#bd3786"
             ],
             [
              0.5555555555555556,
              "#d8576b"
             ],
             [
              0.6666666666666666,
              "#ed7953"
             ],
             [
              0.7777777777777778,
              "#fb9f3a"
             ],
             [
              0.8888888888888888,
              "#fdca26"
             ],
             [
              1,
              "#f0f921"
             ]
            ],
            "type": "surface"
           }
          ],
          "table": [
           {
            "cells": {
             "fill": {
              "color": "#EBF0F8"
             },
             "line": {
              "color": "white"
             }
            },
            "header": {
             "fill": {
              "color": "#C8D4E3"
             },
             "line": {
              "color": "white"
             }
            },
            "type": "table"
           }
          ]
         },
         "layout": {
          "annotationdefaults": {
           "arrowcolor": "#2a3f5f",
           "arrowhead": 0,
           "arrowwidth": 1
          },
          "coloraxis": {
           "colorbar": {
            "outlinewidth": 0,
            "ticks": ""
           }
          },
          "colorscale": {
           "diverging": [
            [
             0,
             "#8e0152"
            ],
            [
             0.1,
             "#c51b7d"
            ],
            [
             0.2,
             "#de77ae"
            ],
            [
             0.3,
             "#f1b6da"
            ],
            [
             0.4,
             "#fde0ef"
            ],
            [
             0.5,
             "#f7f7f7"
            ],
            [
             0.6,
             "#e6f5d0"
            ],
            [
             0.7,
             "#b8e186"
            ],
            [
             0.8,
             "#7fbc41"
            ],
            [
             0.9,
             "#4d9221"
            ],
            [
             1,
             "#276419"
            ]
           ],
           "sequential": [
            [
             0,
             "#0d0887"
            ],
            [
             0.1111111111111111,
             "#46039f"
            ],
            [
             0.2222222222222222,
             "#7201a8"
            ],
            [
             0.3333333333333333,
             "#9c179e"
            ],
            [
             0.4444444444444444,
             "#bd3786"
            ],
            [
             0.5555555555555556,
             "#d8576b"
            ],
            [
             0.6666666666666666,
             "#ed7953"
            ],
            [
             0.7777777777777778,
             "#fb9f3a"
            ],
            [
             0.8888888888888888,
             "#fdca26"
            ],
            [
             1,
             "#f0f921"
            ]
           ],
           "sequentialminus": [
            [
             0,
             "#0d0887"
            ],
            [
             0.1111111111111111,
             "#46039f"
            ],
            [
             0.2222222222222222,
             "#7201a8"
            ],
            [
             0.3333333333333333,
             "#9c179e"
            ],
            [
             0.4444444444444444,
             "#bd3786"
            ],
            [
             0.5555555555555556,
             "#d8576b"
            ],
            [
             0.6666666666666666,
             "#ed7953"
            ],
            [
             0.7777777777777778,
             "#fb9f3a"
            ],
            [
             0.8888888888888888,
             "#fdca26"
            ],
            [
             1,
             "#f0f921"
            ]
           ]
          },
          "colorway": [
           "#636efa",
           "#EF553B",
           "#00cc96",
           "#ab63fa",
           "#FFA15A",
           "#19d3f3",
           "#FF6692",
           "#B6E880",
           "#FF97FF",
           "#FECB52"
          ],
          "font": {
           "color": "#2a3f5f"
          },
          "geo": {
           "bgcolor": "white",
           "lakecolor": "white",
           "landcolor": "#E5ECF6",
           "showlakes": true,
           "showland": true,
           "subunitcolor": "white"
          },
          "hoverlabel": {
           "align": "left"
          },
          "hovermode": "closest",
          "mapbox": {
           "style": "light"
          },
          "paper_bgcolor": "white",
          "plot_bgcolor": "#E5ECF6",
          "polar": {
           "angularaxis": {
            "gridcolor": "white",
            "linecolor": "white",
            "ticks": ""
           },
           "bgcolor": "#E5ECF6",
           "radialaxis": {
            "gridcolor": "white",
            "linecolor": "white",
            "ticks": ""
           }
          },
          "scene": {
           "xaxis": {
            "backgroundcolor": "#E5ECF6",
            "gridcolor": "white",
            "gridwidth": 2,
            "linecolor": "white",
            "showbackground": true,
            "ticks": "",
            "zerolinecolor": "white"
           },
           "yaxis": {
            "backgroundcolor": "#E5ECF6",
            "gridcolor": "white",
            "gridwidth": 2,
            "linecolor": "white",
            "showbackground": true,
            "ticks": "",
            "zerolinecolor": "white"
           },
           "zaxis": {
            "backgroundcolor": "#E5ECF6",
            "gridcolor": "white",
            "gridwidth": 2,
            "linecolor": "white",
            "showbackground": true,
            "ticks": "",
            "zerolinecolor": "white"
           }
          },
          "shapedefaults": {
           "line": {
            "color": "#2a3f5f"
           }
          },
          "ternary": {
           "aaxis": {
            "gridcolor": "white",
            "linecolor": "white",
            "ticks": ""
           },
           "baxis": {
            "gridcolor": "white",
            "linecolor": "white",
            "ticks": ""
           },
           "bgcolor": "#E5ECF6",
           "caxis": {
            "gridcolor": "white",
            "linecolor": "white",
            "ticks": ""
           }
          },
          "title": {
           "x": 0.05
          },
          "xaxis": {
           "automargin": true,
           "gridcolor": "white",
           "linecolor": "white",
           "ticks": "",
           "title": {
            "standoff": 15
           },
           "zerolinecolor": "white",
           "zerolinewidth": 2
          },
          "yaxis": {
           "automargin": true,
           "gridcolor": "white",
           "linecolor": "white",
           "ticks": "",
           "title": {
            "standoff": 15
           },
           "zerolinecolor": "white",
           "zerolinewidth": 2
          }
         }
        },
        "updatemenus": [
         {
          "buttons": [
           {
            "args": [
             {
              "scene.annotations": [
               {
                "showarrow": false,
                "text": "H1",
                "x": -1.7037,
                "y": 1.2711,
                "yshift": 15,
                "z": -0.8621
               },
               {
                "showarrow": false,
                "text": "H2",
                "x": -2.4233,
                "y": -0.5016,
                "yshift": 15,
                "z": 0.9521
               },
               {
                "showarrow": false,
                "text": "O1",
                "x": 1.2485,
                "y": 0.5646,
                "yshift": 15,
                "z": 0.6916
               },
               {
                "showarrow": false,
                "text": "O2",
                "x": -1.0136,
                "y": -0.5796,
                "yshift": 15,
                "z": 1.0006
               },
               {
                "showarrow": false,
                "text": "O3",
                "x": 0.5789,
                "y": -1.0887,
                "yshift": 15,
                "z": -0.9191
               },
               {
                "showarrow": false,
                "text": "O4",
                "x": -0.6543,
                "y": 1.1386,
                "yshift": 15,
                "z": -0.8619
               },
               {
                "showarrow": false,
                "text": "O5",
                "x": -5.3711,
                "y": 1.0856,
                "yshift": 15,
                "z": 0.2833
               },
               {
                "showarrow": false,
                "text": "O6",
                "x": -3.1268,
                "y": 1.3475,
                "yshift": 15,
                "z": -0.907
               },
               {
                "showarrow": false,
                "text": "O7",
                "x": -4.7086,
                "y": -0.5675,
                "yshift": 15,
                "z": -1.3728
               },
               {
                "showarrow": false,
                "text": "O8",
                "x": -3.481,
                "y": -0.484,
                "yshift": 15,
                "z": 0.8486
               },
               {
                "showarrow": false,
                "text": "P1",
                "x": 0,
                "y": 0,
                "yshift": 15,
                "z": 0
               },
               {
                "showarrow": false,
                "text": "P2",
                "x": -4.1431,
                "y": 0.3693,
                "yshift": 15,
                "z": -0.2938
               }
              ]
             }
            ],
            "label": "Elements",
            "method": "relayout"
           },
           {
            "args": [
             {
              "scene.annotations": [
               {
                "showarrow": false,
                "text": "H1",
                "x": -1.7037,
                "y": 1.2711,
                "yshift": 15,
                "z": -0.8621
               },
               {
                "showarrow": false,
                "text": "H2",
                "x": -2.4233,
                "y": -0.5016,
                "yshift": 15,
                "z": 0.9521
               },
               {
                "showarrow": false,
                "text": "O1",
                "x": 1.2485,
                "y": 0.5646,
                "yshift": 15,
                "z": 0.6916
               },
               {
                "showarrow": false,
                "text": "O2",
                "x": -1.0136,
                "y": -0.5796,
                "yshift": 15,
                "z": 1.0006
               },
               {
                "showarrow": false,
                "text": "O3",
                "x": 0.5789,
                "y": -1.0887,
                "yshift": 15,
                "z": -0.9191
               },
               {
                "showarrow": false,
                "text": "O4",
                "x": -0.6543,
                "y": 1.1386,
                "yshift": 15,
                "z": -0.8619
               },
               {
                "showarrow": false,
                "text": "O5",
                "x": -5.3711,
                "y": 1.0856,
                "yshift": 15,
                "z": 0.2833
               },
               {
                "showarrow": false,
                "text": "O6",
                "x": -3.1268,
                "y": 1.3475,
                "yshift": 15,
                "z": -0.907
               },
               {
                "showarrow": false,
                "text": "O7",
                "x": -4.7086,
                "y": -0.5675,
                "yshift": 15,
                "z": -1.3728
               },
               {
                "showarrow": false,
                "text": "O8",
                "x": -3.481,
                "y": -0.484,
                "yshift": 15,
                "z": 0.8486
               },
               {
                "showarrow": false,
                "text": "P1",
                "x": 0,
                "y": 0,
                "yshift": 15,
                "z": 0
               },
               {
                "showarrow": false,
                "text": "P2",
                "x": -4.1431,
                "y": 0.3693,
                "yshift": 15,
                "z": -0.2938
               },
               {
                "font": {
                 "color": "steelblue"
                },
                "showarrow": false,
                "text": "1.058",
                "x": -1.179,
                "y": 1.20485,
                "yshift": 15,
                "z": -0.862
               },
               {
                "font": {
                 "color": "steelblue"
                },
                "showarrow": false,
                "text": "1.063",
                "x": -2.9521499999999996,
                "y": -0.4928,
                "yshift": 15,
                "z": 0.90035
               },
               {
                "font": {
                 "color": "steelblue"
                },
                "showarrow": false,
                "text": "1.535",
                "x": 0.62425,
                "y": 0.2823,
                "yshift": 15,
                "z": 0.3458
               },
               {
                "font": {
                 "color": "steelblue"
                },
                "showarrow": false,
                "text": "1.538",
                "x": -0.5068,
                "y": -0.2898,
                "yshift": 15,
                "z": 0.5003
               },
               {
                "font": {
                 "color": "steelblue"
                },
                "showarrow": false,
                "text": "1.538",
                "x": 0.28945,
                "y": -0.54435,
                "yshift": 15,
                "z": -0.45955
               },
               {
                "font": {
                 "color": "steelblue"
                },
                "showarrow": false,
                "text": "1.571",
                "x": -0.32715,
                "y": 0.5693,
                "yshift": 15,
                "z": -0.43095
               },
               {
                "font": {
                 "color": "steelblue"
                },
                "showarrow": false,
                "text": "1.534",
                "x": -4.757099999999999,
                "y": 0.7274499999999999,
                "yshift": 15,
                "z": -0.005250000000000005
               },
               {
                "font": {
                 "color": "steelblue"
                },
                "showarrow": false,
                "text": "1.538",
                "x": -3.63495,
                "y": 0.8583999999999999,
                "yshift": 15,
                "z": -0.6004
               },
               {
                "font": {
                 "color": "steelblue"
                },
                "showarrow": false,
                "text": "1.537",
                "x": -4.42585,
                "y": -0.0991,
                "yshift": 15,
                "z": -0.8333
               },
               {
                "font": {
                 "color": "steelblue"
                },
                "showarrow": false,
                "text": "1.572",
                "x": -3.8120499999999997,
                "y": -0.057349999999999984,
                "yshift": 15,
                "z": 0.2774
               },
               {
                "font": {
                 "color": "steelblue"
                },
                "showarrow": false,
                "text": 1.426,
                "x": -2.41525,
                "y": 1.3093,
                "yshift": 15,
                "z": -0.88455
               },
               {
                "font": {
                 "color": "steelblue"
                },
                "showarrow": false,
                "text": 1.413,
                "x": -1.7184499999999998,
                "y": -0.5406,
                "yshift": 15,
                "z": 0.9763499999999999
               }
              ]
             }
            ],
            "label": "Element & Bond Lengths",
            "method": "relayout"
           },
           {
            "args": [
             {
              "scene.annotations": [
               {
                "showarrow": false,
                "text": 0,
                "x": -1.7037,
                "y": 1.2711,
                "yshift": 15,
                "z": -0.8621
               },
               {
                "showarrow": false,
                "text": 1,
                "x": -2.4233,
                "y": -0.5016,
                "yshift": 15,
                "z": 0.9521
               },
               {
                "showarrow": false,
                "text": 2,
                "x": 1.2485,
                "y": 0.5646,
                "yshift": 15,
                "z": 0.6916
               },
               {
                "showarrow": false,
                "text": 3,
                "x": -1.0136,
                "y": -0.5796,
                "yshift": 15,
                "z": 1.0006
               },
               {
                "showarrow": false,
                "text": 4,
                "x": 0.5789,
                "y": -1.0887,
                "yshift": 15,
                "z": -0.9191
               },
               {
                "showarrow": false,
                "text": 5,
                "x": -0.6543,
                "y": 1.1386,
                "yshift": 15,
                "z": -0.8619
               },
               {
                "showarrow": false,
                "text": 6,
                "x": -5.3711,
                "y": 1.0856,
                "yshift": 15,
                "z": 0.2833
               },
               {
                "showarrow": false,
                "text": 7,
                "x": -3.1268,
                "y": 1.3475,
                "yshift": 15,
                "z": -0.907
               },
               {
                "showarrow": false,
                "text": 8,
                "x": -4.7086,
                "y": -0.5675,
                "yshift": 15,
                "z": -1.3728
               },
               {
                "showarrow": false,
                "text": 9,
                "x": -3.481,
                "y": -0.484,
                "yshift": 15,
                "z": 0.8486
               },
               {
                "showarrow": false,
                "text": 10,
                "x": 0,
                "y": 0,
                "yshift": 15,
                "z": 0
               },
               {
                "showarrow": false,
                "text": 11,
                "x": -4.1431,
                "y": 0.3693,
                "yshift": 15,
                "z": -0.2938
               }
              ]
             }
            ],
            "label": "Indices",
            "method": "relayout"
           },
           {
            "args": [
             {
              "scene.annotations": [
               {
                "showarrow": false,
                "text": 0,
                "x": -1.7037,
                "y": 1.2711,
                "yshift": 15,
                "z": -0.8621
               },
               {
                "showarrow": false,
                "text": 1,
                "x": -2.4233,
                "y": -0.5016,
                "yshift": 15,
                "z": 0.9521
               },
               {
                "showarrow": false,
                "text": 2,
                "x": 1.2485,
                "y": 0.5646,
                "yshift": 15,
                "z": 0.6916
               },
               {
                "showarrow": false,
                "text": 3,
                "x": -1.0136,
                "y": -0.5796,
                "yshift": 15,
                "z": 1.0006
               },
               {
                "showarrow": false,
                "text": 4,
                "x": 0.5789,
                "y": -1.0887,
                "yshift": 15,
                "z": -0.9191
               },
               {
                "showarrow": false,
                "text": 5,
                "x": -0.6543,
                "y": 1.1386,
                "yshift": 15,
                "z": -0.8619
               },
               {
                "showarrow": false,
                "text": 6,
                "x": -5.3711,
                "y": 1.0856,
                "yshift": 15,
                "z": 0.2833
               },
               {
                "showarrow": false,
                "text": 7,
                "x": -3.1268,
                "y": 1.3475,
                "yshift": 15,
                "z": -0.907
               },
               {
                "showarrow": false,
                "text": 8,
                "x": -4.7086,
                "y": -0.5675,
                "yshift": 15,
                "z": -1.3728
               },
               {
                "showarrow": false,
                "text": 9,
                "x": -3.481,
                "y": -0.484,
                "yshift": 15,
                "z": 0.8486
               },
               {
                "showarrow": false,
                "text": 10,
                "x": 0,
                "y": 0,
                "yshift": 15,
                "z": 0
               },
               {
                "showarrow": false,
                "text": 11,
                "x": -4.1431,
                "y": 0.3693,
                "yshift": 15,
                "z": -0.2938
               },
               {
                "font": {
                 "color": "steelblue"
                },
                "showarrow": false,
                "text": "1.058",
                "x": -1.179,
                "y": 1.20485,
                "yshift": 15,
                "z": -0.862
               },
               {
                "font": {
                 "color": "steelblue"
                },
                "showarrow": false,
                "text": "1.063",
                "x": -2.9521499999999996,
                "y": -0.4928,
                "yshift": 15,
                "z": 0.90035
               },
               {
                "font": {
                 "color": "steelblue"
                },
                "showarrow": false,
                "text": "1.535",
                "x": 0.62425,
                "y": 0.2823,
                "yshift": 15,
                "z": 0.3458
               },
               {
                "font": {
                 "color": "steelblue"
                },
                "showarrow": false,
                "text": "1.538",
                "x": -0.5068,
                "y": -0.2898,
                "yshift": 15,
                "z": 0.5003
               },
               {
                "font": {
                 "color": "steelblue"
                },
                "showarrow": false,
                "text": "1.538",
                "x": 0.28945,
                "y": -0.54435,
                "yshift": 15,
                "z": -0.45955
               },
               {
                "font": {
                 "color": "steelblue"
                },
                "showarrow": false,
                "text": "1.571",
                "x": -0.32715,
                "y": 0.5693,
                "yshift": 15,
                "z": -0.43095
               },
               {
                "font": {
                 "color": "steelblue"
                },
                "showarrow": false,
                "text": "1.534",
                "x": -4.757099999999999,
                "y": 0.7274499999999999,
                "yshift": 15,
                "z": -0.005250000000000005
               },
               {
                "font": {
                 "color": "steelblue"
                },
                "showarrow": false,
                "text": "1.538",
                "x": -3.63495,
                "y": 0.8583999999999999,
                "yshift": 15,
                "z": -0.6004
               },
               {
                "font": {
                 "color": "steelblue"
                },
                "showarrow": false,
                "text": "1.537",
                "x": -4.42585,
                "y": -0.0991,
                "yshift": 15,
                "z": -0.8333
               },
               {
                "font": {
                 "color": "steelblue"
                },
                "showarrow": false,
                "text": "1.572",
                "x": -3.8120499999999997,
                "y": -0.057349999999999984,
                "yshift": 15,
                "z": 0.2774
               },
               {
                "font": {
                 "color": "steelblue"
                },
                "showarrow": false,
                "text": 1.426,
                "x": -2.41525,
                "y": 1.3093,
                "yshift": 15,
                "z": -0.88455
               },
               {
                "font": {
                 "color": "steelblue"
                },
                "showarrow": false,
                "text": 1.413,
                "x": -1.7184499999999998,
                "y": -0.5406,
                "yshift": 15,
                "z": 0.9763499999999999
               }
              ]
             }
            ],
            "label": "Indices & Bond Lengths",
            "method": "relayout"
           },
           {
            "args": [
             {
              "scene.annotations": [
               {
                "font": {
                 "color": "steelblue"
                },
                "showarrow": false,
                "text": "1.058",
                "x": -1.179,
                "y": 1.20485,
                "yshift": 15,
                "z": -0.862
               },
               {
                "font": {
                 "color": "steelblue"
                },
                "showarrow": false,
                "text": "1.063",
                "x": -2.9521499999999996,
                "y": -0.4928,
                "yshift": 15,
                "z": 0.90035
               },
               {
                "font": {
                 "color": "steelblue"
                },
                "showarrow": false,
                "text": "1.535",
                "x": 0.62425,
                "y": 0.2823,
                "yshift": 15,
                "z": 0.3458
               },
               {
                "font": {
                 "color": "steelblue"
                },
                "showarrow": false,
                "text": "1.538",
                "x": -0.5068,
                "y": -0.2898,
                "yshift": 15,
                "z": 0.5003
               },
               {
                "font": {
                 "color": "steelblue"
                },
                "showarrow": false,
                "text": "1.538",
                "x": 0.28945,
                "y": -0.54435,
                "yshift": 15,
                "z": -0.45955
               },
               {
                "font": {
                 "color": "steelblue"
                },
                "showarrow": false,
                "text": "1.571",
                "x": -0.32715,
                "y": 0.5693,
                "yshift": 15,
                "z": -0.43095
               },
               {
                "font": {
                 "color": "steelblue"
                },
                "showarrow": false,
                "text": "1.534",
                "x": -4.757099999999999,
                "y": 0.7274499999999999,
                "yshift": 15,
                "z": -0.005250000000000005
               },
               {
                "font": {
                 "color": "steelblue"
                },
                "showarrow": false,
                "text": "1.538",
                "x": -3.63495,
                "y": 0.8583999999999999,
                "yshift": 15,
                "z": -0.6004
               },
               {
                "font": {
                 "color": "steelblue"
                },
                "showarrow": false,
                "text": "1.537",
                "x": -4.42585,
                "y": -0.0991,
                "yshift": 15,
                "z": -0.8333
               },
               {
                "font": {
                 "color": "steelblue"
                },
                "showarrow": false,
                "text": "1.572",
                "x": -3.8120499999999997,
                "y": -0.057349999999999984,
                "yshift": 15,
                "z": 0.2774
               },
               {
                "font": {
                 "color": "steelblue"
                },
                "showarrow": false,
                "text": 1.426,
                "x": -2.41525,
                "y": 1.3093,
                "yshift": 15,
                "z": -0.88455
               },
               {
                "font": {
                 "color": "steelblue"
                },
                "showarrow": false,
                "text": 1.413,
                "x": -1.7184499999999998,
                "y": -0.5406,
                "yshift": 15,
                "z": 0.9763499999999999
               }
              ]
             }
            ],
            "label": "Bond Lengths",
            "method": "relayout"
           },
           {
            "args": [
             {}
            ],
            "label": "Hide All",
            "method": "relayout"
           }
          ],
          "direction": "down",
          "xanchor": "left",
          "yanchor": "top"
         }
        ]
       }
      },
      "text/html": [
       "<div>                            <div id=\"a1dffe26-a2f8-45c2-b3f5-f62384fe42aa\" class=\"plotly-graph-div\" style=\"height:525px; width:100%;\"></div>            <script type=\"text/javascript\">                require([\"plotly\"], function(Plotly) {                    window.PLOTLYENV=window.PLOTLYENV || {};                                    if (document.getElementById(\"a1dffe26-a2f8-45c2-b3f5-f62384fe42aa\")) {                    Plotly.newPlot(                        \"a1dffe26-a2f8-45c2-b3f5-f62384fe42aa\",                        [{\"marker\": {\"color\": [\"white\", \"white\", \"red\", \"red\", \"red\", \"red\", \"red\", \"red\", \"red\", \"red\", \"orange\", \"orange\"], \"line\": {\"color\": \"lightgray\", \"width\": 2}, \"opacity\": 0.8, \"size\": [9.200000000000001, 9.200000000000001, 27.200000000000003, 27.200000000000003, 27.200000000000003, 27.200000000000003, 27.200000000000003, 27.200000000000003, 27.200000000000003, 27.200000000000003, 42.0, 42.0], \"symbol\": \"circle\"}, \"mode\": \"markers\", \"text\": [\"H1\", \"H2\", \"O1\", \"O2\", \"O3\", \"O4\", \"O5\", \"O6\", \"O7\", \"O8\", \"P1\", \"P2\"], \"type\": \"scatter3d\", \"x\": [-1.7037, -2.4233, 1.2485, -1.0136, 0.5789, -0.6543, -5.3711, -3.1268, -4.7086, -3.481, 0.0, -4.1431], \"y\": [1.2711, -0.5016, 0.5646, -0.5796, -1.0887, 1.1386, 1.0856, 1.3475, -0.5675, -0.484, 0.0, 0.3693], \"z\": [-0.8621, 0.9521, 0.6916, 1.0006, -0.9191, -0.8619, 0.2833, -0.907, -1.3728, 0.8486, 0.0, -0.2938]}, {\"hoverinfo\": \"none\", \"marker\": {\"color\": \"gray\", \"opacity\": 0.1, \"size\": 3}, \"mode\": \"lines\", \"type\": \"scatter3d\", \"x\": [-1.7037, -0.6543, null, -1.7037, -3.1268, null, -0.6543, 0.0, null, -0.6543, -1.7037, null, -2.4233, -3.481, null, -2.4233, -1.0136, null, -3.481, -2.4233, null, -3.481, -4.1431, null, 1.2485, 0.0, null, 0.0, 1.2485, null, 0.0, 0.5789, null, 0.0, -0.6543, null, 0.0, -1.0136, null, -1.0136, -2.4233, null, -1.0136, 0.0, null, 0.5789, 0.0, null, -5.3711, -4.1431, null, -4.1431, -5.3711, null, -4.1431, -3.1268, null, -4.1431, -3.481, null, -4.1431, -4.7086, null, -3.1268, -1.7037, null, -3.1268, -4.1431, null, -4.7086, -4.1431, null], \"y\": [1.2711, 1.1386, null, 1.2711, 1.3475, null, 1.1386, 0.0, null, 1.1386, 1.2711, null, -0.5016, -0.484, null, -0.5016, -0.5796, null, -0.484, -0.5016, null, -0.484, 0.3693, null, 0.5646, 0.0, null, 0.0, 0.5646, null, 0.0, -1.0887, null, 0.0, 1.1386, null, 0.0, -0.5796, null, -0.5796, -0.5016, null, -0.5796, 0.0, null, -1.0887, 0.0, null, 1.0856, 0.3693, null, 0.3693, 1.0856, null, 0.3693, 1.3475, null, 0.3693, -0.484, null, 0.3693, -0.5675, null, 1.3475, 1.2711, null, 1.3475, 0.3693, null, -0.5675, 0.3693, null], \"z\": [-0.8621, -0.8619, null, -0.8621, -0.907, null, -0.8619, 0.0, null, -0.8619, -0.8621, null, 0.9521, 0.8486, null, 0.9521, 1.0006, null, 0.8486, 0.9521, null, 0.8486, -0.2938, null, 0.6916, 0.0, null, 0.0, 0.6916, null, 0.0, -0.9191, null, 0.0, -0.8619, null, 0.0, 1.0006, null, 1.0006, 0.9521, null, 1.0006, 0.0, null, -0.9191, 0.0, null, 0.2833, -0.2938, null, -0.2938, 0.2833, null, -0.2938, -0.907, null, -0.2938, 0.8486, null, -0.2938, -1.3728, null, -0.907, -0.8621, null, -0.907, -0.2938, null, -1.3728, -0.2938, null]}],                        {\"margin\": {\"b\": 0, \"l\": 0, \"r\": 0, \"t\": 0}, \"scene\": {\"annotations\": [{\"showarrow\": false, \"text\": \"H1\", \"x\": -1.7037, \"y\": 1.2711, \"yshift\": 15, \"z\": -0.8621}, {\"showarrow\": false, \"text\": \"H2\", \"x\": -2.4233, \"y\": -0.5016, \"yshift\": 15, \"z\": 0.9521}, {\"showarrow\": false, \"text\": \"O1\", \"x\": 1.2485, \"y\": 0.5646, \"yshift\": 15, \"z\": 0.6916}, {\"showarrow\": false, \"text\": \"O2\", \"x\": -1.0136, \"y\": -0.5796, \"yshift\": 15, \"z\": 1.0006}, {\"showarrow\": false, \"text\": \"O3\", \"x\": 0.5789, \"y\": -1.0887, \"yshift\": 15, \"z\": -0.9191}, {\"showarrow\": false, \"text\": \"O4\", \"x\": -0.6543, \"y\": 1.1386, \"yshift\": 15, \"z\": -0.8619}, {\"showarrow\": false, \"text\": \"O5\", \"x\": -5.3711, \"y\": 1.0856, \"yshift\": 15, \"z\": 0.2833}, {\"showarrow\": false, \"text\": \"O6\", \"x\": -3.1268, \"y\": 1.3475, \"yshift\": 15, \"z\": -0.907}, {\"showarrow\": false, \"text\": \"O7\", \"x\": -4.7086, \"y\": -0.5675, \"yshift\": 15, \"z\": -1.3728}, {\"showarrow\": false, \"text\": \"O8\", \"x\": -3.481, \"y\": -0.484, \"yshift\": 15, \"z\": 0.8486}, {\"showarrow\": false, \"text\": \"P1\", \"x\": 0.0, \"y\": 0.0, \"yshift\": 15, \"z\": 0.0}, {\"showarrow\": false, \"text\": \"P2\", \"x\": -4.1431, \"y\": 0.3693, \"yshift\": 15, \"z\": -0.2938}], \"xaxis\": {\"showbackground\": true, \"showgrid\": true, \"showticklabels\": true, \"title\": {\"font\": {\"color\": \"white\"}}, \"zeroline\": true}, \"yaxis\": {\"showbackground\": true, \"showgrid\": true, \"showticklabels\": true, \"title\": {\"font\": {\"color\": \"white\"}}, \"zeroline\": true}, \"zaxis\": {\"showbackground\": true, \"showgrid\": true, \"showticklabels\": true, \"title\": {\"font\": {\"color\": \"white\"}}, \"zeroline\": true}}, \"showlegend\": false, \"template\": {\"data\": {\"bar\": [{\"error_x\": {\"color\": \"#2a3f5f\"}, \"error_y\": {\"color\": \"#2a3f5f\"}, \"marker\": {\"line\": {\"color\": \"#E5ECF6\", \"width\": 0.5}}, \"type\": \"bar\"}], \"barpolar\": [{\"marker\": {\"line\": {\"color\": \"#E5ECF6\", \"width\": 0.5}}, \"type\": \"barpolar\"}], \"carpet\": [{\"aaxis\": {\"endlinecolor\": \"#2a3f5f\", \"gridcolor\": \"white\", \"linecolor\": \"white\", \"minorgridcolor\": \"white\", \"startlinecolor\": \"#2a3f5f\"}, \"baxis\": {\"endlinecolor\": \"#2a3f5f\", \"gridcolor\": \"white\", \"linecolor\": \"white\", \"minorgridcolor\": \"white\", \"startlinecolor\": \"#2a3f5f\"}, \"type\": \"carpet\"}], \"choropleth\": [{\"colorbar\": {\"outlinewidth\": 0, \"ticks\": \"\"}, \"type\": \"choropleth\"}], \"contour\": [{\"colorbar\": {\"outlinewidth\": 0, \"ticks\": \"\"}, \"colorscale\": [[0.0, \"#0d0887\"], [0.1111111111111111, \"#46039f\"], [0.2222222222222222, \"#7201a8\"], [0.3333333333333333, \"#9c179e\"], [0.4444444444444444, \"#bd3786\"], [0.5555555555555556, \"#d8576b\"], [0.6666666666666666, \"#ed7953\"], [0.7777777777777778, \"#fb9f3a\"], [0.8888888888888888, \"#fdca26\"], [1.0, \"#f0f921\"]], \"type\": \"contour\"}], \"contourcarpet\": [{\"colorbar\": {\"outlinewidth\": 0, \"ticks\": \"\"}, \"type\": \"contourcarpet\"}], \"heatmap\": [{\"colorbar\": {\"outlinewidth\": 0, \"ticks\": \"\"}, \"colorscale\": [[0.0, \"#0d0887\"], [0.1111111111111111, \"#46039f\"], [0.2222222222222222, \"#7201a8\"], [0.3333333333333333, \"#9c179e\"], [0.4444444444444444, \"#bd3786\"], [0.5555555555555556, \"#d8576b\"], [0.6666666666666666, \"#ed7953\"], [0.7777777777777778, \"#fb9f3a\"], [0.8888888888888888, \"#fdca26\"], [1.0, \"#f0f921\"]], \"type\": \"heatmap\"}], \"heatmapgl\": [{\"colorbar\": {\"outlinewidth\": 0, \"ticks\": \"\"}, \"colorscale\": [[0.0, \"#0d0887\"], [0.1111111111111111, \"#46039f\"], [0.2222222222222222, \"#7201a8\"], [0.3333333333333333, \"#9c179e\"], [0.4444444444444444, \"#bd3786\"], [0.5555555555555556, \"#d8576b\"], [0.6666666666666666, \"#ed7953\"], [0.7777777777777778, \"#fb9f3a\"], [0.8888888888888888, \"#fdca26\"], [1.0, \"#f0f921\"]], \"type\": \"heatmapgl\"}], \"histogram\": [{\"marker\": {\"colorbar\": {\"outlinewidth\": 0, \"ticks\": \"\"}}, \"type\": \"histogram\"}], \"histogram2d\": [{\"colorbar\": {\"outlinewidth\": 0, \"ticks\": \"\"}, \"colorscale\": [[0.0, \"#0d0887\"], [0.1111111111111111, \"#46039f\"], [0.2222222222222222, \"#7201a8\"], [0.3333333333333333, \"#9c179e\"], [0.4444444444444444, \"#bd3786\"], [0.5555555555555556, \"#d8576b\"], [0.6666666666666666, \"#ed7953\"], [0.7777777777777778, \"#fb9f3a\"], [0.8888888888888888, \"#fdca26\"], [1.0, \"#f0f921\"]], \"type\": \"histogram2d\"}], \"histogram2dcontour\": [{\"colorbar\": {\"outlinewidth\": 0, \"ticks\": \"\"}, \"colorscale\": [[0.0, \"#0d0887\"], [0.1111111111111111, \"#46039f\"], [0.2222222222222222, \"#7201a8\"], [0.3333333333333333, \"#9c179e\"], [0.4444444444444444, \"#bd3786\"], [0.5555555555555556, \"#d8576b\"], [0.6666666666666666, \"#ed7953\"], [0.7777777777777778, \"#fb9f3a\"], [0.8888888888888888, \"#fdca26\"], [1.0, \"#f0f921\"]], \"type\": \"histogram2dcontour\"}], \"mesh3d\": [{\"colorbar\": {\"outlinewidth\": 0, \"ticks\": \"\"}, \"type\": \"mesh3d\"}], \"parcoords\": [{\"line\": {\"colorbar\": {\"outlinewidth\": 0, \"ticks\": \"\"}}, \"type\": \"parcoords\"}], \"pie\": [{\"automargin\": true, \"type\": \"pie\"}], \"scatter\": [{\"marker\": {\"colorbar\": {\"outlinewidth\": 0, \"ticks\": \"\"}}, \"type\": \"scatter\"}], \"scatter3d\": [{\"line\": {\"colorbar\": {\"outlinewidth\": 0, \"ticks\": \"\"}}, \"marker\": {\"colorbar\": {\"outlinewidth\": 0, \"ticks\": \"\"}}, \"type\": \"scatter3d\"}], \"scattercarpet\": [{\"marker\": {\"colorbar\": {\"outlinewidth\": 0, \"ticks\": \"\"}}, \"type\": \"scattercarpet\"}], \"scattergeo\": [{\"marker\": {\"colorbar\": {\"outlinewidth\": 0, \"ticks\": \"\"}}, \"type\": \"scattergeo\"}], \"scattergl\": [{\"marker\": {\"colorbar\": {\"outlinewidth\": 0, \"ticks\": \"\"}}, \"type\": \"scattergl\"}], \"scattermapbox\": [{\"marker\": {\"colorbar\": {\"outlinewidth\": 0, \"ticks\": \"\"}}, \"type\": \"scattermapbox\"}], \"scatterpolar\": [{\"marker\": {\"colorbar\": {\"outlinewidth\": 0, \"ticks\": \"\"}}, \"type\": \"scatterpolar\"}], \"scatterpolargl\": [{\"marker\": {\"colorbar\": {\"outlinewidth\": 0, \"ticks\": \"\"}}, \"type\": \"scatterpolargl\"}], \"scatterternary\": [{\"marker\": {\"colorbar\": {\"outlinewidth\": 0, \"ticks\": \"\"}}, \"type\": \"scatterternary\"}], \"surface\": [{\"colorbar\": {\"outlinewidth\": 0, \"ticks\": \"\"}, \"colorscale\": [[0.0, \"#0d0887\"], [0.1111111111111111, \"#46039f\"], [0.2222222222222222, \"#7201a8\"], [0.3333333333333333, \"#9c179e\"], [0.4444444444444444, \"#bd3786\"], [0.5555555555555556, \"#d8576b\"], [0.6666666666666666, \"#ed7953\"], [0.7777777777777778, \"#fb9f3a\"], [0.8888888888888888, \"#fdca26\"], [1.0, \"#f0f921\"]], \"type\": \"surface\"}], \"table\": [{\"cells\": {\"fill\": {\"color\": \"#EBF0F8\"}, \"line\": {\"color\": \"white\"}}, \"header\": {\"fill\": {\"color\": \"#C8D4E3\"}, \"line\": {\"color\": \"white\"}}, \"type\": \"table\"}]}, \"layout\": {\"annotationdefaults\": {\"arrowcolor\": \"#2a3f5f\", \"arrowhead\": 0, \"arrowwidth\": 1}, \"coloraxis\": {\"colorbar\": {\"outlinewidth\": 0, \"ticks\": \"\"}}, \"colorscale\": {\"diverging\": [[0, \"#8e0152\"], [0.1, \"#c51b7d\"], [0.2, \"#de77ae\"], [0.3, \"#f1b6da\"], [0.4, \"#fde0ef\"], [0.5, \"#f7f7f7\"], [0.6, \"#e6f5d0\"], [0.7, \"#b8e186\"], [0.8, \"#7fbc41\"], [0.9, \"#4d9221\"], [1, \"#276419\"]], \"sequential\": [[0.0, \"#0d0887\"], [0.1111111111111111, \"#46039f\"], [0.2222222222222222, \"#7201a8\"], [0.3333333333333333, \"#9c179e\"], [0.4444444444444444, \"#bd3786\"], [0.5555555555555556, \"#d8576b\"], [0.6666666666666666, \"#ed7953\"], [0.7777777777777778, \"#fb9f3a\"], [0.8888888888888888, \"#fdca26\"], [1.0, \"#f0f921\"]], \"sequentialminus\": [[0.0, \"#0d0887\"], [0.1111111111111111, \"#46039f\"], [0.2222222222222222, \"#7201a8\"], [0.3333333333333333, \"#9c179e\"], [0.4444444444444444, \"#bd3786\"], [0.5555555555555556, \"#d8576b\"], [0.6666666666666666, \"#ed7953\"], [0.7777777777777778, \"#fb9f3a\"], [0.8888888888888888, \"#fdca26\"], [1.0, \"#f0f921\"]]}, \"colorway\": [\"#636efa\", \"#EF553B\", \"#00cc96\", \"#ab63fa\", \"#FFA15A\", \"#19d3f3\", \"#FF6692\", \"#B6E880\", \"#FF97FF\", \"#FECB52\"], \"font\": {\"color\": \"#2a3f5f\"}, \"geo\": {\"bgcolor\": \"white\", \"lakecolor\": \"white\", \"landcolor\": \"#E5ECF6\", \"showlakes\": true, \"showland\": true, \"subunitcolor\": \"white\"}, \"hoverlabel\": {\"align\": \"left\"}, \"hovermode\": \"closest\", \"mapbox\": {\"style\": \"light\"}, \"paper_bgcolor\": \"white\", \"plot_bgcolor\": \"#E5ECF6\", \"polar\": {\"angularaxis\": {\"gridcolor\": \"white\", \"linecolor\": \"white\", \"ticks\": \"\"}, \"bgcolor\": \"#E5ECF6\", \"radialaxis\": {\"gridcolor\": \"white\", \"linecolor\": \"white\", \"ticks\": \"\"}}, \"scene\": {\"xaxis\": {\"backgroundcolor\": \"#E5ECF6\", \"gridcolor\": \"white\", \"gridwidth\": 2, \"linecolor\": \"white\", \"showbackground\": true, \"ticks\": \"\", \"zerolinecolor\": \"white\"}, \"yaxis\": {\"backgroundcolor\": \"#E5ECF6\", \"gridcolor\": \"white\", \"gridwidth\": 2, \"linecolor\": \"white\", \"showbackground\": true, \"ticks\": \"\", \"zerolinecolor\": \"white\"}, \"zaxis\": {\"backgroundcolor\": \"#E5ECF6\", \"gridcolor\": \"white\", \"gridwidth\": 2, \"linecolor\": \"white\", \"showbackground\": true, \"ticks\": \"\", \"zerolinecolor\": \"white\"}}, \"shapedefaults\": {\"line\": {\"color\": \"#2a3f5f\"}}, \"ternary\": {\"aaxis\": {\"gridcolor\": \"white\", \"linecolor\": \"white\", \"ticks\": \"\"}, \"baxis\": {\"gridcolor\": \"white\", \"linecolor\": \"white\", \"ticks\": \"\"}, \"bgcolor\": \"#E5ECF6\", \"caxis\": {\"gridcolor\": \"white\", \"linecolor\": \"white\", \"ticks\": \"\"}}, \"title\": {\"x\": 0.05}, \"xaxis\": {\"automargin\": true, \"gridcolor\": \"white\", \"linecolor\": \"white\", \"ticks\": \"\", \"title\": {\"standoff\": 15}, \"zerolinecolor\": \"white\", \"zerolinewidth\": 2}, \"yaxis\": {\"automargin\": true, \"gridcolor\": \"white\", \"linecolor\": \"white\", \"ticks\": \"\", \"title\": {\"standoff\": 15}, \"zerolinecolor\": \"white\", \"zerolinewidth\": 2}}}, \"updatemenus\": [{\"buttons\": [{\"args\": [{\"scene.annotations\": [{\"showarrow\": false, \"text\": \"H1\", \"x\": -1.7037, \"y\": 1.2711, \"yshift\": 15, \"z\": -0.8621}, {\"showarrow\": false, \"text\": \"H2\", \"x\": -2.4233, \"y\": -0.5016, \"yshift\": 15, \"z\": 0.9521}, {\"showarrow\": false, \"text\": \"O1\", \"x\": 1.2485, \"y\": 0.5646, \"yshift\": 15, \"z\": 0.6916}, {\"showarrow\": false, \"text\": \"O2\", \"x\": -1.0136, \"y\": -0.5796, \"yshift\": 15, \"z\": 1.0006}, {\"showarrow\": false, \"text\": \"O3\", \"x\": 0.5789, \"y\": -1.0887, \"yshift\": 15, \"z\": -0.9191}, {\"showarrow\": false, \"text\": \"O4\", \"x\": -0.6543, \"y\": 1.1386, \"yshift\": 15, \"z\": -0.8619}, {\"showarrow\": false, \"text\": \"O5\", \"x\": -5.3711, \"y\": 1.0856, \"yshift\": 15, \"z\": 0.2833}, {\"showarrow\": false, \"text\": \"O6\", \"x\": -3.1268, \"y\": 1.3475, \"yshift\": 15, \"z\": -0.907}, {\"showarrow\": false, \"text\": \"O7\", \"x\": -4.7086, \"y\": -0.5675, \"yshift\": 15, \"z\": -1.3728}, {\"showarrow\": false, \"text\": \"O8\", \"x\": -3.481, \"y\": -0.484, \"yshift\": 15, \"z\": 0.8486}, {\"showarrow\": false, \"text\": \"P1\", \"x\": 0.0, \"y\": 0.0, \"yshift\": 15, \"z\": 0.0}, {\"showarrow\": false, \"text\": \"P2\", \"x\": -4.1431, \"y\": 0.3693, \"yshift\": 15, \"z\": -0.2938}]}], \"label\": \"Elements\", \"method\": \"relayout\"}, {\"args\": [{\"scene.annotations\": [{\"showarrow\": false, \"text\": \"H1\", \"x\": -1.7037, \"y\": 1.2711, \"yshift\": 15, \"z\": -0.8621}, {\"showarrow\": false, \"text\": \"H2\", \"x\": -2.4233, \"y\": -0.5016, \"yshift\": 15, \"z\": 0.9521}, {\"showarrow\": false, \"text\": \"O1\", \"x\": 1.2485, \"y\": 0.5646, \"yshift\": 15, \"z\": 0.6916}, {\"showarrow\": false, \"text\": \"O2\", \"x\": -1.0136, \"y\": -0.5796, \"yshift\": 15, \"z\": 1.0006}, {\"showarrow\": false, \"text\": \"O3\", \"x\": 0.5789, \"y\": -1.0887, \"yshift\": 15, \"z\": -0.9191}, {\"showarrow\": false, \"text\": \"O4\", \"x\": -0.6543, \"y\": 1.1386, \"yshift\": 15, \"z\": -0.8619}, {\"showarrow\": false, \"text\": \"O5\", \"x\": -5.3711, \"y\": 1.0856, \"yshift\": 15, \"z\": 0.2833}, {\"showarrow\": false, \"text\": \"O6\", \"x\": -3.1268, \"y\": 1.3475, \"yshift\": 15, \"z\": -0.907}, {\"showarrow\": false, \"text\": \"O7\", \"x\": -4.7086, \"y\": -0.5675, \"yshift\": 15, \"z\": -1.3728}, {\"showarrow\": false, \"text\": \"O8\", \"x\": -3.481, \"y\": -0.484, \"yshift\": 15, \"z\": 0.8486}, {\"showarrow\": false, \"text\": \"P1\", \"x\": 0.0, \"y\": 0.0, \"yshift\": 15, \"z\": 0.0}, {\"showarrow\": false, \"text\": \"P2\", \"x\": -4.1431, \"y\": 0.3693, \"yshift\": 15, \"z\": -0.2938}, {\"font\": {\"color\": \"steelblue\"}, \"showarrow\": false, \"text\": \"1.058\", \"x\": -1.179, \"y\": 1.20485, \"yshift\": 15, \"z\": -0.862}, {\"font\": {\"color\": \"steelblue\"}, \"showarrow\": false, \"text\": \"1.063\", \"x\": -2.9521499999999996, \"y\": -0.4928, \"yshift\": 15, \"z\": 0.90035}, {\"font\": {\"color\": \"steelblue\"}, \"showarrow\": false, \"text\": \"1.535\", \"x\": 0.62425, \"y\": 0.2823, \"yshift\": 15, \"z\": 0.3458}, {\"font\": {\"color\": \"steelblue\"}, \"showarrow\": false, \"text\": \"1.538\", \"x\": -0.5068, \"y\": -0.2898, \"yshift\": 15, \"z\": 0.5003}, {\"font\": {\"color\": \"steelblue\"}, \"showarrow\": false, \"text\": \"1.538\", \"x\": 0.28945, \"y\": -0.54435, \"yshift\": 15, \"z\": -0.45955}, {\"font\": {\"color\": \"steelblue\"}, \"showarrow\": false, \"text\": \"1.571\", \"x\": -0.32715, \"y\": 0.5693, \"yshift\": 15, \"z\": -0.43095}, {\"font\": {\"color\": \"steelblue\"}, \"showarrow\": false, \"text\": \"1.534\", \"x\": -4.757099999999999, \"y\": 0.7274499999999999, \"yshift\": 15, \"z\": -0.005250000000000005}, {\"font\": {\"color\": \"steelblue\"}, \"showarrow\": false, \"text\": \"1.538\", \"x\": -3.63495, \"y\": 0.8583999999999999, \"yshift\": 15, \"z\": -0.6004}, {\"font\": {\"color\": \"steelblue\"}, \"showarrow\": false, \"text\": \"1.537\", \"x\": -4.42585, \"y\": -0.0991, \"yshift\": 15, \"z\": -0.8333}, {\"font\": {\"color\": \"steelblue\"}, \"showarrow\": false, \"text\": \"1.572\", \"x\": -3.8120499999999997, \"y\": -0.057349999999999984, \"yshift\": 15, \"z\": 0.2774}, {\"font\": {\"color\": \"steelblue\"}, \"showarrow\": false, \"text\": 1.426, \"x\": -2.41525, \"y\": 1.3093, \"yshift\": 15, \"z\": -0.88455}, {\"font\": {\"color\": \"steelblue\"}, \"showarrow\": false, \"text\": 1.413, \"x\": -1.7184499999999998, \"y\": -0.5406, \"yshift\": 15, \"z\": 0.9763499999999999}]}], \"label\": \"Element & Bond Lengths\", \"method\": \"relayout\"}, {\"args\": [{\"scene.annotations\": [{\"showarrow\": false, \"text\": 0, \"x\": -1.7037, \"y\": 1.2711, \"yshift\": 15, \"z\": -0.8621}, {\"showarrow\": false, \"text\": 1, \"x\": -2.4233, \"y\": -0.5016, \"yshift\": 15, \"z\": 0.9521}, {\"showarrow\": false, \"text\": 2, \"x\": 1.2485, \"y\": 0.5646, \"yshift\": 15, \"z\": 0.6916}, {\"showarrow\": false, \"text\": 3, \"x\": -1.0136, \"y\": -0.5796, \"yshift\": 15, \"z\": 1.0006}, {\"showarrow\": false, \"text\": 4, \"x\": 0.5789, \"y\": -1.0887, \"yshift\": 15, \"z\": -0.9191}, {\"showarrow\": false, \"text\": 5, \"x\": -0.6543, \"y\": 1.1386, \"yshift\": 15, \"z\": -0.8619}, {\"showarrow\": false, \"text\": 6, \"x\": -5.3711, \"y\": 1.0856, \"yshift\": 15, \"z\": 0.2833}, {\"showarrow\": false, \"text\": 7, \"x\": -3.1268, \"y\": 1.3475, \"yshift\": 15, \"z\": -0.907}, {\"showarrow\": false, \"text\": 8, \"x\": -4.7086, \"y\": -0.5675, \"yshift\": 15, \"z\": -1.3728}, {\"showarrow\": false, \"text\": 9, \"x\": -3.481, \"y\": -0.484, \"yshift\": 15, \"z\": 0.8486}, {\"showarrow\": false, \"text\": 10, \"x\": 0.0, \"y\": 0.0, \"yshift\": 15, \"z\": 0.0}, {\"showarrow\": false, \"text\": 11, \"x\": -4.1431, \"y\": 0.3693, \"yshift\": 15, \"z\": -0.2938}]}], \"label\": \"Indices\", \"method\": \"relayout\"}, {\"args\": [{\"scene.annotations\": [{\"showarrow\": false, \"text\": 0, \"x\": -1.7037, \"y\": 1.2711, \"yshift\": 15, \"z\": -0.8621}, {\"showarrow\": false, \"text\": 1, \"x\": -2.4233, \"y\": -0.5016, \"yshift\": 15, \"z\": 0.9521}, {\"showarrow\": false, \"text\": 2, \"x\": 1.2485, \"y\": 0.5646, \"yshift\": 15, \"z\": 0.6916}, {\"showarrow\": false, \"text\": 3, \"x\": -1.0136, \"y\": -0.5796, \"yshift\": 15, \"z\": 1.0006}, {\"showarrow\": false, \"text\": 4, \"x\": 0.5789, \"y\": -1.0887, \"yshift\": 15, \"z\": -0.9191}, {\"showarrow\": false, \"text\": 5, \"x\": -0.6543, \"y\": 1.1386, \"yshift\": 15, \"z\": -0.8619}, {\"showarrow\": false, \"text\": 6, \"x\": -5.3711, \"y\": 1.0856, \"yshift\": 15, \"z\": 0.2833}, {\"showarrow\": false, \"text\": 7, \"x\": -3.1268, \"y\": 1.3475, \"yshift\": 15, \"z\": -0.907}, {\"showarrow\": false, \"text\": 8, \"x\": -4.7086, \"y\": -0.5675, \"yshift\": 15, \"z\": -1.3728}, {\"showarrow\": false, \"text\": 9, \"x\": -3.481, \"y\": -0.484, \"yshift\": 15, \"z\": 0.8486}, {\"showarrow\": false, \"text\": 10, \"x\": 0.0, \"y\": 0.0, \"yshift\": 15, \"z\": 0.0}, {\"showarrow\": false, \"text\": 11, \"x\": -4.1431, \"y\": 0.3693, \"yshift\": 15, \"z\": -0.2938}, {\"font\": {\"color\": \"steelblue\"}, \"showarrow\": false, \"text\": \"1.058\", \"x\": -1.179, \"y\": 1.20485, \"yshift\": 15, \"z\": -0.862}, {\"font\": {\"color\": \"steelblue\"}, \"showarrow\": false, \"text\": \"1.063\", \"x\": -2.9521499999999996, \"y\": -0.4928, \"yshift\": 15, \"z\": 0.90035}, {\"font\": {\"color\": \"steelblue\"}, \"showarrow\": false, \"text\": \"1.535\", \"x\": 0.62425, \"y\": 0.2823, \"yshift\": 15, \"z\": 0.3458}, {\"font\": {\"color\": \"steelblue\"}, \"showarrow\": false, \"text\": \"1.538\", \"x\": -0.5068, \"y\": -0.2898, \"yshift\": 15, \"z\": 0.5003}, {\"font\": {\"color\": \"steelblue\"}, \"showarrow\": false, \"text\": \"1.538\", \"x\": 0.28945, \"y\": -0.54435, \"yshift\": 15, \"z\": -0.45955}, {\"font\": {\"color\": \"steelblue\"}, \"showarrow\": false, \"text\": \"1.571\", \"x\": -0.32715, \"y\": 0.5693, \"yshift\": 15, \"z\": -0.43095}, {\"font\": {\"color\": \"steelblue\"}, \"showarrow\": false, \"text\": \"1.534\", \"x\": -4.757099999999999, \"y\": 0.7274499999999999, \"yshift\": 15, \"z\": -0.005250000000000005}, {\"font\": {\"color\": \"steelblue\"}, \"showarrow\": false, \"text\": \"1.538\", \"x\": -3.63495, \"y\": 0.8583999999999999, \"yshift\": 15, \"z\": -0.6004}, {\"font\": {\"color\": \"steelblue\"}, \"showarrow\": false, \"text\": \"1.537\", \"x\": -4.42585, \"y\": -0.0991, \"yshift\": 15, \"z\": -0.8333}, {\"font\": {\"color\": \"steelblue\"}, \"showarrow\": false, \"text\": \"1.572\", \"x\": -3.8120499999999997, \"y\": -0.057349999999999984, \"yshift\": 15, \"z\": 0.2774}, {\"font\": {\"color\": \"steelblue\"}, \"showarrow\": false, \"text\": 1.426, \"x\": -2.41525, \"y\": 1.3093, \"yshift\": 15, \"z\": -0.88455}, {\"font\": {\"color\": \"steelblue\"}, \"showarrow\": false, \"text\": 1.413, \"x\": -1.7184499999999998, \"y\": -0.5406, \"yshift\": 15, \"z\": 0.9763499999999999}]}], \"label\": \"Indices & Bond Lengths\", \"method\": \"relayout\"}, {\"args\": [{\"scene.annotations\": [{\"font\": {\"color\": \"steelblue\"}, \"showarrow\": false, \"text\": \"1.058\", \"x\": -1.179, \"y\": 1.20485, \"yshift\": 15, \"z\": -0.862}, {\"font\": {\"color\": \"steelblue\"}, \"showarrow\": false, \"text\": \"1.063\", \"x\": -2.9521499999999996, \"y\": -0.4928, \"yshift\": 15, \"z\": 0.90035}, {\"font\": {\"color\": \"steelblue\"}, \"showarrow\": false, \"text\": \"1.535\", \"x\": 0.62425, \"y\": 0.2823, \"yshift\": 15, \"z\": 0.3458}, {\"font\": {\"color\": \"steelblue\"}, \"showarrow\": false, \"text\": \"1.538\", \"x\": -0.5068, \"y\": -0.2898, \"yshift\": 15, \"z\": 0.5003}, {\"font\": {\"color\": \"steelblue\"}, \"showarrow\": false, \"text\": \"1.538\", \"x\": 0.28945, \"y\": -0.54435, \"yshift\": 15, \"z\": -0.45955}, {\"font\": {\"color\": \"steelblue\"}, \"showarrow\": false, \"text\": \"1.571\", \"x\": -0.32715, \"y\": 0.5693, \"yshift\": 15, \"z\": -0.43095}, {\"font\": {\"color\": \"steelblue\"}, \"showarrow\": false, \"text\": \"1.534\", \"x\": -4.757099999999999, \"y\": 0.7274499999999999, \"yshift\": 15, \"z\": -0.005250000000000005}, {\"font\": {\"color\": \"steelblue\"}, \"showarrow\": false, \"text\": \"1.538\", \"x\": -3.63495, \"y\": 0.8583999999999999, \"yshift\": 15, \"z\": -0.6004}, {\"font\": {\"color\": \"steelblue\"}, \"showarrow\": false, \"text\": \"1.537\", \"x\": -4.42585, \"y\": -0.0991, \"yshift\": 15, \"z\": -0.8333}, {\"font\": {\"color\": \"steelblue\"}, \"showarrow\": false, \"text\": \"1.572\", \"x\": -3.8120499999999997, \"y\": -0.057349999999999984, \"yshift\": 15, \"z\": 0.2774}, {\"font\": {\"color\": \"steelblue\"}, \"showarrow\": false, \"text\": 1.426, \"x\": -2.41525, \"y\": 1.3093, \"yshift\": 15, \"z\": -0.88455}, {\"font\": {\"color\": \"steelblue\"}, \"showarrow\": false, \"text\": 1.413, \"x\": -1.7184499999999998, \"y\": -0.5406, \"yshift\": 15, \"z\": 0.9763499999999999}]}], \"label\": \"Bond Lengths\", \"method\": \"relayout\"}, {\"args\": [{}], \"label\": \"Hide All\", \"method\": \"relayout\"}], \"direction\": \"down\", \"xanchor\": \"left\", \"yanchor\": \"top\"}]},                        {\"responsive\": true}                    ).then(function(){\n",
       "                            \n",
       "var gd = document.getElementById('a1dffe26-a2f8-45c2-b3f5-f62384fe42aa');\n",
       "var x = new MutationObserver(function (mutations, observer) {{\n",
       "        var display = window.getComputedStyle(gd).display;\n",
       "        if (!display || display === 'none') {{\n",
       "            console.log([gd, 'removed!']);\n",
       "            Plotly.purge(gd);\n",
       "            observer.disconnect();\n",
       "        }}\n",
       "}});\n",
       "\n",
       "// Listen for the removal of the full notebook cells\n",
       "var notebookContainer = gd.closest('#notebook-container');\n",
       "if (notebookContainer) {{\n",
       "    x.observe(notebookContainer, {childList: true});\n",
       "}}\n",
       "\n",
       "// Listen for the clearing of the current output cell\n",
       "var outputEl = gd.closest('.output');\n",
       "if (outputEl) {{\n",
       "    x.observe(outputEl, {childList: true});\n",
       "}}\n",
       "\n",
       "                        })                };                });            </script>        </div>"
      ]
     },
     "metadata": {},
     "output_type": "display_data"
    },
    {
     "data": {
      "application/vnd.plotly.v1+json": {
       "config": {
        "linkText": "Export to plot.ly",
        "plotlyServerURL": "https://plot.ly",
        "showLink": false
       },
       "data": [
        {
         "marker": {
          "color": [
           "red",
           "red",
           "red",
           "red",
           "orange",
           "white",
           "orange",
           "red",
           "red",
           "red",
           "red",
           "white"
          ],
          "line": {
           "color": "lightgray",
           "width": 2
          },
          "opacity": 0.8,
          "size": [
           27.200000000000003,
           27.200000000000003,
           27.200000000000003,
           27.200000000000003,
           42,
           9.200000000000001,
           42,
           27.200000000000003,
           27.200000000000003,
           27.200000000000003,
           27.200000000000003,
           9.200000000000001
          ],
          "symbol": "circle"
         },
         "mode": "markers",
         "text": [
          "O1",
          "O2",
          "O3",
          "O4",
          "P5",
          "H6",
          "P7",
          "O8",
          "O9",
          "O10",
          "O11",
          "H12"
         ],
         "type": "scatter3d",
         "x": [
          1.3617,
          -1.0545,
          0.4395,
          -0.5089,
          0,
          -1.5079,
          -4.1777,
          -5.5386,
          -3.1235,
          -4.6199,
          -3.6676,
          -2.6683
         ],
         "y": [
          0.4544,
          -0.5448,
          -1.2848,
          1.1696,
          0,
          1.2313,
          0.2716,
          0.8444,
          1.2178,
          -0.4664,
          -0.6277,
          -0.6815
         ],
         "z": [
          0.5738,
          0.9445,
          -0.7444,
          -0.8932,
          0,
          -0.9474,
          -0.2687,
          0.1895,
          -0.8108,
          -1.5562,
          0.8958,
          0.9567
         ]
        },
        {
         "hoverinfo": "none",
         "marker": {
          "color": "gray",
          "opacity": 0.1,
          "size": 3
         },
         "mode": "lines",
         "type": "scatter3d",
         "x": [
          1.3617,
          0,
          null,
          0,
          1.3617,
          null,
          0,
          0.4395,
          null,
          0,
          -0.5089,
          null,
          0,
          -1.0545,
          null,
          -1.0545,
          -2.6683,
          null,
          -1.0545,
          0,
          null,
          0.4395,
          0,
          null,
          -0.5089,
          -1.5079,
          null,
          -0.5089,
          0,
          null,
          -1.5079,
          -0.5089,
          null,
          -1.5079,
          -3.1235,
          null,
          -4.1777,
          -4.6199,
          null,
          -4.1777,
          -3.6676,
          null,
          -4.1777,
          -5.5386,
          null,
          -4.1777,
          -3.1235,
          null,
          -5.5386,
          -4.1777,
          null,
          -3.1235,
          -1.5079,
          null,
          -3.1235,
          -4.1777,
          null,
          -4.6199,
          -4.1777,
          null,
          -3.6676,
          -2.6683,
          null,
          -3.6676,
          -4.1777,
          null,
          -2.6683,
          -3.6676,
          null,
          -2.6683,
          -1.0545,
          null
         ],
         "y": [
          0.4544,
          0,
          null,
          0,
          0.4544,
          null,
          0,
          -1.2848,
          null,
          0,
          1.1696,
          null,
          0,
          -0.5448,
          null,
          -0.5448,
          -0.6815,
          null,
          -0.5448,
          0,
          null,
          -1.2848,
          0,
          null,
          1.1696,
          1.2313,
          null,
          1.1696,
          0,
          null,
          1.2313,
          1.1696,
          null,
          1.2313,
          1.2178,
          null,
          0.2716,
          -0.4664,
          null,
          0.2716,
          -0.6277,
          null,
          0.2716,
          0.8444,
          null,
          0.2716,
          1.2178,
          null,
          0.8444,
          0.2716,
          null,
          1.2178,
          1.2313,
          null,
          1.2178,
          0.2716,
          null,
          -0.4664,
          0.2716,
          null,
          -0.6277,
          -0.6815,
          null,
          -0.6277,
          0.2716,
          null,
          -0.6815,
          -0.6277,
          null,
          -0.6815,
          -0.5448,
          null
         ],
         "z": [
          0.5738,
          0,
          null,
          0,
          0.5738,
          null,
          0,
          -0.7444,
          null,
          0,
          -0.8932,
          null,
          0,
          0.9445,
          null,
          0.9445,
          0.9567,
          null,
          0.9445,
          0,
          null,
          -0.7444,
          0,
          null,
          -0.8932,
          -0.9474,
          null,
          -0.8932,
          0,
          null,
          -0.9474,
          -0.8932,
          null,
          -0.9474,
          -0.8108,
          null,
          -0.2687,
          -1.5562,
          null,
          -0.2687,
          0.8958,
          null,
          -0.2687,
          0.1895,
          null,
          -0.2687,
          -0.8108,
          null,
          0.1895,
          -0.2687,
          null,
          -0.8108,
          -0.9474,
          null,
          -0.8108,
          -0.2687,
          null,
          -1.5562,
          -0.2687,
          null,
          0.8958,
          0.9567,
          null,
          0.8958,
          -0.2687,
          null,
          0.9567,
          0.8958,
          null,
          0.9567,
          0.9445,
          null
         ]
        }
       ],
       "layout": {
        "margin": {
         "b": 0,
         "l": 0,
         "r": 0,
         "t": 0
        },
        "scene": {
         "annotations": [
          {
           "showarrow": false,
           "text": "O1",
           "x": 1.3617,
           "y": 0.4544,
           "yshift": 15,
           "z": 0.5738
          },
          {
           "showarrow": false,
           "text": "O2",
           "x": -1.0545,
           "y": -0.5448,
           "yshift": 15,
           "z": 0.9445
          },
          {
           "showarrow": false,
           "text": "O3",
           "x": 0.4395,
           "y": -1.2848,
           "yshift": 15,
           "z": -0.7444
          },
          {
           "showarrow": false,
           "text": "O4",
           "x": -0.5089,
           "y": 1.1696,
           "yshift": 15,
           "z": -0.8932
          },
          {
           "showarrow": false,
           "text": "P5",
           "x": 0,
           "y": 0,
           "yshift": 15,
           "z": 0
          },
          {
           "showarrow": false,
           "text": "H6",
           "x": -1.5079,
           "y": 1.2313,
           "yshift": 15,
           "z": -0.9474
          },
          {
           "showarrow": false,
           "text": "P7",
           "x": -4.1777,
           "y": 0.2716,
           "yshift": 15,
           "z": -0.2687
          },
          {
           "showarrow": false,
           "text": "O8",
           "x": -5.5386,
           "y": 0.8444,
           "yshift": 15,
           "z": 0.1895
          },
          {
           "showarrow": false,
           "text": "O9",
           "x": -3.1235,
           "y": 1.2178,
           "yshift": 15,
           "z": -0.8108
          },
          {
           "showarrow": false,
           "text": "O10",
           "x": -4.6199,
           "y": -0.4664,
           "yshift": 15,
           "z": -1.5562
          },
          {
           "showarrow": false,
           "text": "O11",
           "x": -3.6676,
           "y": -0.6277,
           "yshift": 15,
           "z": 0.8958
          },
          {
           "showarrow": false,
           "text": "H12",
           "x": -2.6683,
           "y": -0.6815,
           "yshift": 15,
           "z": 0.9567
          }
         ],
         "xaxis": {
          "showbackground": true,
          "showgrid": true,
          "showticklabels": true,
          "title": {
           "font": {
            "color": "white"
           }
          },
          "zeroline": true
         },
         "yaxis": {
          "showbackground": true,
          "showgrid": true,
          "showticklabels": true,
          "title": {
           "font": {
            "color": "white"
           }
          },
          "zeroline": true
         },
         "zaxis": {
          "showbackground": true,
          "showgrid": true,
          "showticklabels": true,
          "title": {
           "font": {
            "color": "white"
           }
          },
          "zeroline": true
         }
        },
        "showlegend": false,
        "template": {
         "data": {
          "bar": [
           {
            "error_x": {
             "color": "#2a3f5f"
            },
            "error_y": {
             "color": "#2a3f5f"
            },
            "marker": {
             "line": {
              "color": "#E5ECF6",
              "width": 0.5
             }
            },
            "type": "bar"
           }
          ],
          "barpolar": [
           {
            "marker": {
             "line": {
              "color": "#E5ECF6",
              "width": 0.5
             }
            },
            "type": "barpolar"
           }
          ],
          "carpet": [
           {
            "aaxis": {
             "endlinecolor": "#2a3f5f",
             "gridcolor": "white",
             "linecolor": "white",
             "minorgridcolor": "white",
             "startlinecolor": "#2a3f5f"
            },
            "baxis": {
             "endlinecolor": "#2a3f5f",
             "gridcolor": "white",
             "linecolor": "white",
             "minorgridcolor": "white",
             "startlinecolor": "#2a3f5f"
            },
            "type": "carpet"
           }
          ],
          "choropleth": [
           {
            "colorbar": {
             "outlinewidth": 0,
             "ticks": ""
            },
            "type": "choropleth"
           }
          ],
          "contour": [
           {
            "colorbar": {
             "outlinewidth": 0,
             "ticks": ""
            },
            "colorscale": [
             [
              0,
              "#0d0887"
             ],
             [
              0.1111111111111111,
              "#46039f"
             ],
             [
              0.2222222222222222,
              "#7201a8"
             ],
             [
              0.3333333333333333,
              "#9c179e"
             ],
             [
              0.4444444444444444,
              "#bd3786"
             ],
             [
              0.5555555555555556,
              "#d8576b"
             ],
             [
              0.6666666666666666,
              "#ed7953"
             ],
             [
              0.7777777777777778,
              "#fb9f3a"
             ],
             [
              0.8888888888888888,
              "#fdca26"
             ],
             [
              1,
              "#f0f921"
             ]
            ],
            "type": "contour"
           }
          ],
          "contourcarpet": [
           {
            "colorbar": {
             "outlinewidth": 0,
             "ticks": ""
            },
            "type": "contourcarpet"
           }
          ],
          "heatmap": [
           {
            "colorbar": {
             "outlinewidth": 0,
             "ticks": ""
            },
            "colorscale": [
             [
              0,
              "#0d0887"
             ],
             [
              0.1111111111111111,
              "#46039f"
             ],
             [
              0.2222222222222222,
              "#7201a8"
             ],
             [
              0.3333333333333333,
              "#9c179e"
             ],
             [
              0.4444444444444444,
              "#bd3786"
             ],
             [
              0.5555555555555556,
              "#d8576b"
             ],
             [
              0.6666666666666666,
              "#ed7953"
             ],
             [
              0.7777777777777778,
              "#fb9f3a"
             ],
             [
              0.8888888888888888,
              "#fdca26"
             ],
             [
              1,
              "#f0f921"
             ]
            ],
            "type": "heatmap"
           }
          ],
          "heatmapgl": [
           {
            "colorbar": {
             "outlinewidth": 0,
             "ticks": ""
            },
            "colorscale": [
             [
              0,
              "#0d0887"
             ],
             [
              0.1111111111111111,
              "#46039f"
             ],
             [
              0.2222222222222222,
              "#7201a8"
             ],
             [
              0.3333333333333333,
              "#9c179e"
             ],
             [
              0.4444444444444444,
              "#bd3786"
             ],
             [
              0.5555555555555556,
              "#d8576b"
             ],
             [
              0.6666666666666666,
              "#ed7953"
             ],
             [
              0.7777777777777778,
              "#fb9f3a"
             ],
             [
              0.8888888888888888,
              "#fdca26"
             ],
             [
              1,
              "#f0f921"
             ]
            ],
            "type": "heatmapgl"
           }
          ],
          "histogram": [
           {
            "marker": {
             "colorbar": {
              "outlinewidth": 0,
              "ticks": ""
             }
            },
            "type": "histogram"
           }
          ],
          "histogram2d": [
           {
            "colorbar": {
             "outlinewidth": 0,
             "ticks": ""
            },
            "colorscale": [
             [
              0,
              "#0d0887"
             ],
             [
              0.1111111111111111,
              "#46039f"
             ],
             [
              0.2222222222222222,
              "#7201a8"
             ],
             [
              0.3333333333333333,
              "#9c179e"
             ],
             [
              0.4444444444444444,
              "#bd3786"
             ],
             [
              0.5555555555555556,
              "#d8576b"
             ],
             [
              0.6666666666666666,
              "#ed7953"
             ],
             [
              0.7777777777777778,
              "#fb9f3a"
             ],
             [
              0.8888888888888888,
              "#fdca26"
             ],
             [
              1,
              "#f0f921"
             ]
            ],
            "type": "histogram2d"
           }
          ],
          "histogram2dcontour": [
           {
            "colorbar": {
             "outlinewidth": 0,
             "ticks": ""
            },
            "colorscale": [
             [
              0,
              "#0d0887"
             ],
             [
              0.1111111111111111,
              "#46039f"
             ],
             [
              0.2222222222222222,
              "#7201a8"
             ],
             [
              0.3333333333333333,
              "#9c179e"
             ],
             [
              0.4444444444444444,
              "#bd3786"
             ],
             [
              0.5555555555555556,
              "#d8576b"
             ],
             [
              0.6666666666666666,
              "#ed7953"
             ],
             [
              0.7777777777777778,
              "#fb9f3a"
             ],
             [
              0.8888888888888888,
              "#fdca26"
             ],
             [
              1,
              "#f0f921"
             ]
            ],
            "type": "histogram2dcontour"
           }
          ],
          "mesh3d": [
           {
            "colorbar": {
             "outlinewidth": 0,
             "ticks": ""
            },
            "type": "mesh3d"
           }
          ],
          "parcoords": [
           {
            "line": {
             "colorbar": {
              "outlinewidth": 0,
              "ticks": ""
             }
            },
            "type": "parcoords"
           }
          ],
          "pie": [
           {
            "automargin": true,
            "type": "pie"
           }
          ],
          "scatter": [
           {
            "marker": {
             "colorbar": {
              "outlinewidth": 0,
              "ticks": ""
             }
            },
            "type": "scatter"
           }
          ],
          "scatter3d": [
           {
            "line": {
             "colorbar": {
              "outlinewidth": 0,
              "ticks": ""
             }
            },
            "marker": {
             "colorbar": {
              "outlinewidth": 0,
              "ticks": ""
             }
            },
            "type": "scatter3d"
           }
          ],
          "scattercarpet": [
           {
            "marker": {
             "colorbar": {
              "outlinewidth": 0,
              "ticks": ""
             }
            },
            "type": "scattercarpet"
           }
          ],
          "scattergeo": [
           {
            "marker": {
             "colorbar": {
              "outlinewidth": 0,
              "ticks": ""
             }
            },
            "type": "scattergeo"
           }
          ],
          "scattergl": [
           {
            "marker": {
             "colorbar": {
              "outlinewidth": 0,
              "ticks": ""
             }
            },
            "type": "scattergl"
           }
          ],
          "scattermapbox": [
           {
            "marker": {
             "colorbar": {
              "outlinewidth": 0,
              "ticks": ""
             }
            },
            "type": "scattermapbox"
           }
          ],
          "scatterpolar": [
           {
            "marker": {
             "colorbar": {
              "outlinewidth": 0,
              "ticks": ""
             }
            },
            "type": "scatterpolar"
           }
          ],
          "scatterpolargl": [
           {
            "marker": {
             "colorbar": {
              "outlinewidth": 0,
              "ticks": ""
             }
            },
            "type": "scatterpolargl"
           }
          ],
          "scatterternary": [
           {
            "marker": {
             "colorbar": {
              "outlinewidth": 0,
              "ticks": ""
             }
            },
            "type": "scatterternary"
           }
          ],
          "surface": [
           {
            "colorbar": {
             "outlinewidth": 0,
             "ticks": ""
            },
            "colorscale": [
             [
              0,
              "#0d0887"
             ],
             [
              0.1111111111111111,
              "#46039f"
             ],
             [
              0.2222222222222222,
              "#7201a8"
             ],
             [
              0.3333333333333333,
              "#9c179e"
             ],
             [
              0.4444444444444444,
              "#bd3786"
             ],
             [
              0.5555555555555556,
              "#d8576b"
             ],
             [
              0.6666666666666666,
              "#ed7953"
             ],
             [
              0.7777777777777778,
              "#fb9f3a"
             ],
             [
              0.8888888888888888,
              "#fdca26"
             ],
             [
              1,
              "#f0f921"
             ]
            ],
            "type": "surface"
           }
          ],
          "table": [
           {
            "cells": {
             "fill": {
              "color": "#EBF0F8"
             },
             "line": {
              "color": "white"
             }
            },
            "header": {
             "fill": {
              "color": "#C8D4E3"
             },
             "line": {
              "color": "white"
             }
            },
            "type": "table"
           }
          ]
         },
         "layout": {
          "annotationdefaults": {
           "arrowcolor": "#2a3f5f",
           "arrowhead": 0,
           "arrowwidth": 1
          },
          "coloraxis": {
           "colorbar": {
            "outlinewidth": 0,
            "ticks": ""
           }
          },
          "colorscale": {
           "diverging": [
            [
             0,
             "#8e0152"
            ],
            [
             0.1,
             "#c51b7d"
            ],
            [
             0.2,
             "#de77ae"
            ],
            [
             0.3,
             "#f1b6da"
            ],
            [
             0.4,
             "#fde0ef"
            ],
            [
             0.5,
             "#f7f7f7"
            ],
            [
             0.6,
             "#e6f5d0"
            ],
            [
             0.7,
             "#b8e186"
            ],
            [
             0.8,
             "#7fbc41"
            ],
            [
             0.9,
             "#4d9221"
            ],
            [
             1,
             "#276419"
            ]
           ],
           "sequential": [
            [
             0,
             "#0d0887"
            ],
            [
             0.1111111111111111,
             "#46039f"
            ],
            [
             0.2222222222222222,
             "#7201a8"
            ],
            [
             0.3333333333333333,
             "#9c179e"
            ],
            [
             0.4444444444444444,
             "#bd3786"
            ],
            [
             0.5555555555555556,
             "#d8576b"
            ],
            [
             0.6666666666666666,
             "#ed7953"
            ],
            [
             0.7777777777777778,
             "#fb9f3a"
            ],
            [
             0.8888888888888888,
             "#fdca26"
            ],
            [
             1,
             "#f0f921"
            ]
           ],
           "sequentialminus": [
            [
             0,
             "#0d0887"
            ],
            [
             0.1111111111111111,
             "#46039f"
            ],
            [
             0.2222222222222222,
             "#7201a8"
            ],
            [
             0.3333333333333333,
             "#9c179e"
            ],
            [
             0.4444444444444444,
             "#bd3786"
            ],
            [
             0.5555555555555556,
             "#d8576b"
            ],
            [
             0.6666666666666666,
             "#ed7953"
            ],
            [
             0.7777777777777778,
             "#fb9f3a"
            ],
            [
             0.8888888888888888,
             "#fdca26"
            ],
            [
             1,
             "#f0f921"
            ]
           ]
          },
          "colorway": [
           "#636efa",
           "#EF553B",
           "#00cc96",
           "#ab63fa",
           "#FFA15A",
           "#19d3f3",
           "#FF6692",
           "#B6E880",
           "#FF97FF",
           "#FECB52"
          ],
          "font": {
           "color": "#2a3f5f"
          },
          "geo": {
           "bgcolor": "white",
           "lakecolor": "white",
           "landcolor": "#E5ECF6",
           "showlakes": true,
           "showland": true,
           "subunitcolor": "white"
          },
          "hoverlabel": {
           "align": "left"
          },
          "hovermode": "closest",
          "mapbox": {
           "style": "light"
          },
          "paper_bgcolor": "white",
          "plot_bgcolor": "#E5ECF6",
          "polar": {
           "angularaxis": {
            "gridcolor": "white",
            "linecolor": "white",
            "ticks": ""
           },
           "bgcolor": "#E5ECF6",
           "radialaxis": {
            "gridcolor": "white",
            "linecolor": "white",
            "ticks": ""
           }
          },
          "scene": {
           "xaxis": {
            "backgroundcolor": "#E5ECF6",
            "gridcolor": "white",
            "gridwidth": 2,
            "linecolor": "white",
            "showbackground": true,
            "ticks": "",
            "zerolinecolor": "white"
           },
           "yaxis": {
            "backgroundcolor": "#E5ECF6",
            "gridcolor": "white",
            "gridwidth": 2,
            "linecolor": "white",
            "showbackground": true,
            "ticks": "",
            "zerolinecolor": "white"
           },
           "zaxis": {
            "backgroundcolor": "#E5ECF6",
            "gridcolor": "white",
            "gridwidth": 2,
            "linecolor": "white",
            "showbackground": true,
            "ticks": "",
            "zerolinecolor": "white"
           }
          },
          "shapedefaults": {
           "line": {
            "color": "#2a3f5f"
           }
          },
          "ternary": {
           "aaxis": {
            "gridcolor": "white",
            "linecolor": "white",
            "ticks": ""
           },
           "baxis": {
            "gridcolor": "white",
            "linecolor": "white",
            "ticks": ""
           },
           "bgcolor": "#E5ECF6",
           "caxis": {
            "gridcolor": "white",
            "linecolor": "white",
            "ticks": ""
           }
          },
          "title": {
           "x": 0.05
          },
          "xaxis": {
           "automargin": true,
           "gridcolor": "white",
           "linecolor": "white",
           "ticks": "",
           "title": {
            "standoff": 15
           },
           "zerolinecolor": "white",
           "zerolinewidth": 2
          },
          "yaxis": {
           "automargin": true,
           "gridcolor": "white",
           "linecolor": "white",
           "ticks": "",
           "title": {
            "standoff": 15
           },
           "zerolinecolor": "white",
           "zerolinewidth": 2
          }
         }
        },
        "updatemenus": [
         {
          "buttons": [
           {
            "args": [
             {
              "scene.annotations": [
               {
                "showarrow": false,
                "text": "O1",
                "x": 1.3617,
                "y": 0.4544,
                "yshift": 15,
                "z": 0.5738
               },
               {
                "showarrow": false,
                "text": "O2",
                "x": -1.0545,
                "y": -0.5448,
                "yshift": 15,
                "z": 0.9445
               },
               {
                "showarrow": false,
                "text": "O3",
                "x": 0.4395,
                "y": -1.2848,
                "yshift": 15,
                "z": -0.7444
               },
               {
                "showarrow": false,
                "text": "O4",
                "x": -0.5089,
                "y": 1.1696,
                "yshift": 15,
                "z": -0.8932
               },
               {
                "showarrow": false,
                "text": "P5",
                "x": 0,
                "y": 0,
                "yshift": 15,
                "z": 0
               },
               {
                "showarrow": false,
                "text": "H6",
                "x": -1.5079,
                "y": 1.2313,
                "yshift": 15,
                "z": -0.9474
               },
               {
                "showarrow": false,
                "text": "P7",
                "x": -4.1777,
                "y": 0.2716,
                "yshift": 15,
                "z": -0.2687
               },
               {
                "showarrow": false,
                "text": "O8",
                "x": -5.5386,
                "y": 0.8444,
                "yshift": 15,
                "z": 0.1895
               },
               {
                "showarrow": false,
                "text": "O9",
                "x": -3.1235,
                "y": 1.2178,
                "yshift": 15,
                "z": -0.8108
               },
               {
                "showarrow": false,
                "text": "O10",
                "x": -4.6199,
                "y": -0.4664,
                "yshift": 15,
                "z": -1.5562
               },
               {
                "showarrow": false,
                "text": "O11",
                "x": -3.6676,
                "y": -0.6277,
                "yshift": 15,
                "z": 0.8958
               },
               {
                "showarrow": false,
                "text": "H12",
                "x": -2.6683,
                "y": -0.6815,
                "yshift": 15,
                "z": 0.9567
               }
              ]
             }
            ],
            "label": "Elements",
            "method": "relayout"
           },
           {
            "args": [
             {
              "scene.annotations": [
               {
                "showarrow": false,
                "text": "O1",
                "x": 1.3617,
                "y": 0.4544,
                "yshift": 15,
                "z": 0.5738
               },
               {
                "showarrow": false,
                "text": "O2",
                "x": -1.0545,
                "y": -0.5448,
                "yshift": 15,
                "z": 0.9445
               },
               {
                "showarrow": false,
                "text": "O3",
                "x": 0.4395,
                "y": -1.2848,
                "yshift": 15,
                "z": -0.7444
               },
               {
                "showarrow": false,
                "text": "O4",
                "x": -0.5089,
                "y": 1.1696,
                "yshift": 15,
                "z": -0.8932
               },
               {
                "showarrow": false,
                "text": "P5",
                "x": 0,
                "y": 0,
                "yshift": 15,
                "z": 0
               },
               {
                "showarrow": false,
                "text": "H6",
                "x": -1.5079,
                "y": 1.2313,
                "yshift": 15,
                "z": -0.9474
               },
               {
                "showarrow": false,
                "text": "P7",
                "x": -4.1777,
                "y": 0.2716,
                "yshift": 15,
                "z": -0.2687
               },
               {
                "showarrow": false,
                "text": "O8",
                "x": -5.5386,
                "y": 0.8444,
                "yshift": 15,
                "z": 0.1895
               },
               {
                "showarrow": false,
                "text": "O9",
                "x": -3.1235,
                "y": 1.2178,
                "yshift": 15,
                "z": -0.8108
               },
               {
                "showarrow": false,
                "text": "O10",
                "x": -4.6199,
                "y": -0.4664,
                "yshift": 15,
                "z": -1.5562
               },
               {
                "showarrow": false,
                "text": "O11",
                "x": -3.6676,
                "y": -0.6277,
                "yshift": 15,
                "z": 0.8958
               },
               {
                "showarrow": false,
                "text": "H12",
                "x": -2.6683,
                "y": -0.6815,
                "yshift": 15,
                "z": 0.9567
               },
               {
                "font": {
                 "color": "steelblue"
                },
                "showarrow": false,
                "text": "1.546",
                "x": 0.68085,
                "y": 0.2272,
                "yshift": 15,
                "z": 0.2869
               },
               {
                "font": {
                 "color": "steelblue"
                },
                "showarrow": false,
                "text": "1.517",
                "x": -0.52725,
                "y": -0.2724,
                "yshift": 15,
                "z": 0.47225
               },
               {
                "font": {
                 "color": "steelblue"
                },
                "showarrow": false,
                "text": "1.548",
                "x": 0.21975,
                "y": -0.6424,
                "yshift": 15,
                "z": -0.3722
               },
               {
                "font": {
                 "color": "steelblue"
                },
                "showarrow": false,
                "text": "1.557",
                "x": -0.25445,
                "y": 0.5848,
                "yshift": 15,
                "z": -0.4466
               },
               {
                "font": {
                 "color": "steelblue"
                },
                "showarrow": false,
                "text": "1.002",
                "x": -1.0084,
                "y": 1.20045,
                "yshift": 15,
                "z": -0.9203
               },
               {
                "font": {
                 "color": "steelblue"
                },
                "showarrow": false,
                "text": "1.546",
                "x": -4.85815,
                "y": 0.558,
                "yshift": 15,
                "z": -0.039599999999999996
               },
               {
                "font": {
                 "color": "steelblue"
                },
                "showarrow": false,
                "text": "1.517",
                "x": -3.6506,
                "y": 0.7447,
                "yshift": 15,
                "z": -0.53975
               },
               {
                "font": {
                 "color": "steelblue"
                },
                "showarrow": false,
                "text": "1.549",
                "x": -4.3988,
                "y": -0.09739999999999999,
                "yshift": 15,
                "z": -0.91245
               },
               {
                "font": {
                 "color": "steelblue"
                },
                "showarrow": false,
                "text": "1.557",
                "x": -3.92265,
                "y": -0.17805,
                "yshift": 15,
                "z": 0.31355
               },
               {
                "font": {
                 "color": "steelblue"
                },
                "showarrow": false,
                "text": "1.003",
                "x": -3.1679500000000003,
                "y": -0.6546000000000001,
                "yshift": 15,
                "z": 0.92625
               },
               {
                "font": {
                 "color": "steelblue"
                },
                "showarrow": false,
                "text": 1.62,
                "x": -1.8614,
                "y": -0.61315,
                "yshift": 15,
                "z": 0.9506
               },
               {
                "font": {
                 "color": "steelblue"
                },
                "showarrow": false,
                "text": 1.621,
                "x": -2.3157,
                "y": 1.22455,
                "yshift": 15,
                "z": -0.8791
               }
              ]
             }
            ],
            "label": "Element & Bond Lengths",
            "method": "relayout"
           },
           {
            "args": [
             {
              "scene.annotations": [
               {
                "showarrow": false,
                "text": 0,
                "x": 1.3617,
                "y": 0.4544,
                "yshift": 15,
                "z": 0.5738
               },
               {
                "showarrow": false,
                "text": 1,
                "x": -1.0545,
                "y": -0.5448,
                "yshift": 15,
                "z": 0.9445
               },
               {
                "showarrow": false,
                "text": 2,
                "x": 0.4395,
                "y": -1.2848,
                "yshift": 15,
                "z": -0.7444
               },
               {
                "showarrow": false,
                "text": 3,
                "x": -0.5089,
                "y": 1.1696,
                "yshift": 15,
                "z": -0.8932
               },
               {
                "showarrow": false,
                "text": 4,
                "x": 0,
                "y": 0,
                "yshift": 15,
                "z": 0
               },
               {
                "showarrow": false,
                "text": 5,
                "x": -1.5079,
                "y": 1.2313,
                "yshift": 15,
                "z": -0.9474
               },
               {
                "showarrow": false,
                "text": 6,
                "x": -4.1777,
                "y": 0.2716,
                "yshift": 15,
                "z": -0.2687
               },
               {
                "showarrow": false,
                "text": 7,
                "x": -5.5386,
                "y": 0.8444,
                "yshift": 15,
                "z": 0.1895
               },
               {
                "showarrow": false,
                "text": 8,
                "x": -3.1235,
                "y": 1.2178,
                "yshift": 15,
                "z": -0.8108
               },
               {
                "showarrow": false,
                "text": 9,
                "x": -4.6199,
                "y": -0.4664,
                "yshift": 15,
                "z": -1.5562
               },
               {
                "showarrow": false,
                "text": 10,
                "x": -3.6676,
                "y": -0.6277,
                "yshift": 15,
                "z": 0.8958
               },
               {
                "showarrow": false,
                "text": 11,
                "x": -2.6683,
                "y": -0.6815,
                "yshift": 15,
                "z": 0.9567
               }
              ]
             }
            ],
            "label": "Indices",
            "method": "relayout"
           },
           {
            "args": [
             {
              "scene.annotations": [
               {
                "showarrow": false,
                "text": 0,
                "x": 1.3617,
                "y": 0.4544,
                "yshift": 15,
                "z": 0.5738
               },
               {
                "showarrow": false,
                "text": 1,
                "x": -1.0545,
                "y": -0.5448,
                "yshift": 15,
                "z": 0.9445
               },
               {
                "showarrow": false,
                "text": 2,
                "x": 0.4395,
                "y": -1.2848,
                "yshift": 15,
                "z": -0.7444
               },
               {
                "showarrow": false,
                "text": 3,
                "x": -0.5089,
                "y": 1.1696,
                "yshift": 15,
                "z": -0.8932
               },
               {
                "showarrow": false,
                "text": 4,
                "x": 0,
                "y": 0,
                "yshift": 15,
                "z": 0
               },
               {
                "showarrow": false,
                "text": 5,
                "x": -1.5079,
                "y": 1.2313,
                "yshift": 15,
                "z": -0.9474
               },
               {
                "showarrow": false,
                "text": 6,
                "x": -4.1777,
                "y": 0.2716,
                "yshift": 15,
                "z": -0.2687
               },
               {
                "showarrow": false,
                "text": 7,
                "x": -5.5386,
                "y": 0.8444,
                "yshift": 15,
                "z": 0.1895
               },
               {
                "showarrow": false,
                "text": 8,
                "x": -3.1235,
                "y": 1.2178,
                "yshift": 15,
                "z": -0.8108
               },
               {
                "showarrow": false,
                "text": 9,
                "x": -4.6199,
                "y": -0.4664,
                "yshift": 15,
                "z": -1.5562
               },
               {
                "showarrow": false,
                "text": 10,
                "x": -3.6676,
                "y": -0.6277,
                "yshift": 15,
                "z": 0.8958
               },
               {
                "showarrow": false,
                "text": 11,
                "x": -2.6683,
                "y": -0.6815,
                "yshift": 15,
                "z": 0.9567
               },
               {
                "font": {
                 "color": "steelblue"
                },
                "showarrow": false,
                "text": "1.546",
                "x": 0.68085,
                "y": 0.2272,
                "yshift": 15,
                "z": 0.2869
               },
               {
                "font": {
                 "color": "steelblue"
                },
                "showarrow": false,
                "text": "1.517",
                "x": -0.52725,
                "y": -0.2724,
                "yshift": 15,
                "z": 0.47225
               },
               {
                "font": {
                 "color": "steelblue"
                },
                "showarrow": false,
                "text": "1.548",
                "x": 0.21975,
                "y": -0.6424,
                "yshift": 15,
                "z": -0.3722
               },
               {
                "font": {
                 "color": "steelblue"
                },
                "showarrow": false,
                "text": "1.557",
                "x": -0.25445,
                "y": 0.5848,
                "yshift": 15,
                "z": -0.4466
               },
               {
                "font": {
                 "color": "steelblue"
                },
                "showarrow": false,
                "text": "1.002",
                "x": -1.0084,
                "y": 1.20045,
                "yshift": 15,
                "z": -0.9203
               },
               {
                "font": {
                 "color": "steelblue"
                },
                "showarrow": false,
                "text": "1.546",
                "x": -4.85815,
                "y": 0.558,
                "yshift": 15,
                "z": -0.039599999999999996
               },
               {
                "font": {
                 "color": "steelblue"
                },
                "showarrow": false,
                "text": "1.517",
                "x": -3.6506,
                "y": 0.7447,
                "yshift": 15,
                "z": -0.53975
               },
               {
                "font": {
                 "color": "steelblue"
                },
                "showarrow": false,
                "text": "1.549",
                "x": -4.3988,
                "y": -0.09739999999999999,
                "yshift": 15,
                "z": -0.91245
               },
               {
                "font": {
                 "color": "steelblue"
                },
                "showarrow": false,
                "text": "1.557",
                "x": -3.92265,
                "y": -0.17805,
                "yshift": 15,
                "z": 0.31355
               },
               {
                "font": {
                 "color": "steelblue"
                },
                "showarrow": false,
                "text": "1.003",
                "x": -3.1679500000000003,
                "y": -0.6546000000000001,
                "yshift": 15,
                "z": 0.92625
               },
               {
                "font": {
                 "color": "steelblue"
                },
                "showarrow": false,
                "text": 1.62,
                "x": -1.8614,
                "y": -0.61315,
                "yshift": 15,
                "z": 0.9506
               },
               {
                "font": {
                 "color": "steelblue"
                },
                "showarrow": false,
                "text": 1.621,
                "x": -2.3157,
                "y": 1.22455,
                "yshift": 15,
                "z": -0.8791
               }
              ]
             }
            ],
            "label": "Indices & Bond Lengths",
            "method": "relayout"
           },
           {
            "args": [
             {
              "scene.annotations": [
               {
                "font": {
                 "color": "steelblue"
                },
                "showarrow": false,
                "text": "1.546",
                "x": 0.68085,
                "y": 0.2272,
                "yshift": 15,
                "z": 0.2869
               },
               {
                "font": {
                 "color": "steelblue"
                },
                "showarrow": false,
                "text": "1.517",
                "x": -0.52725,
                "y": -0.2724,
                "yshift": 15,
                "z": 0.47225
               },
               {
                "font": {
                 "color": "steelblue"
                },
                "showarrow": false,
                "text": "1.548",
                "x": 0.21975,
                "y": -0.6424,
                "yshift": 15,
                "z": -0.3722
               },
               {
                "font": {
                 "color": "steelblue"
                },
                "showarrow": false,
                "text": "1.557",
                "x": -0.25445,
                "y": 0.5848,
                "yshift": 15,
                "z": -0.4466
               },
               {
                "font": {
                 "color": "steelblue"
                },
                "showarrow": false,
                "text": "1.002",
                "x": -1.0084,
                "y": 1.20045,
                "yshift": 15,
                "z": -0.9203
               },
               {
                "font": {
                 "color": "steelblue"
                },
                "showarrow": false,
                "text": "1.546",
                "x": -4.85815,
                "y": 0.558,
                "yshift": 15,
                "z": -0.039599999999999996
               },
               {
                "font": {
                 "color": "steelblue"
                },
                "showarrow": false,
                "text": "1.517",
                "x": -3.6506,
                "y": 0.7447,
                "yshift": 15,
                "z": -0.53975
               },
               {
                "font": {
                 "color": "steelblue"
                },
                "showarrow": false,
                "text": "1.549",
                "x": -4.3988,
                "y": -0.09739999999999999,
                "yshift": 15,
                "z": -0.91245
               },
               {
                "font": {
                 "color": "steelblue"
                },
                "showarrow": false,
                "text": "1.557",
                "x": -3.92265,
                "y": -0.17805,
                "yshift": 15,
                "z": 0.31355
               },
               {
                "font": {
                 "color": "steelblue"
                },
                "showarrow": false,
                "text": "1.003",
                "x": -3.1679500000000003,
                "y": -0.6546000000000001,
                "yshift": 15,
                "z": 0.92625
               },
               {
                "font": {
                 "color": "steelblue"
                },
                "showarrow": false,
                "text": 1.62,
                "x": -1.8614,
                "y": -0.61315,
                "yshift": 15,
                "z": 0.9506
               },
               {
                "font": {
                 "color": "steelblue"
                },
                "showarrow": false,
                "text": 1.621,
                "x": -2.3157,
                "y": 1.22455,
                "yshift": 15,
                "z": -0.8791
               }
              ]
             }
            ],
            "label": "Bond Lengths",
            "method": "relayout"
           },
           {
            "args": [
             {}
            ],
            "label": "Hide All",
            "method": "relayout"
           }
          ],
          "direction": "down",
          "xanchor": "left",
          "yanchor": "top"
         }
        ]
       }
      },
      "text/html": [
       "<div>                            <div id=\"b4f6b992-820b-4ff6-901f-4b7f1133854b\" class=\"plotly-graph-div\" style=\"height:525px; width:100%;\"></div>            <script type=\"text/javascript\">                require([\"plotly\"], function(Plotly) {                    window.PLOTLYENV=window.PLOTLYENV || {};                                    if (document.getElementById(\"b4f6b992-820b-4ff6-901f-4b7f1133854b\")) {                    Plotly.newPlot(                        \"b4f6b992-820b-4ff6-901f-4b7f1133854b\",                        [{\"marker\": {\"color\": [\"red\", \"red\", \"red\", \"red\", \"orange\", \"white\", \"orange\", \"red\", \"red\", \"red\", \"red\", \"white\"], \"line\": {\"color\": \"lightgray\", \"width\": 2}, \"opacity\": 0.8, \"size\": [27.200000000000003, 27.200000000000003, 27.200000000000003, 27.200000000000003, 42.0, 9.200000000000001, 42.0, 27.200000000000003, 27.200000000000003, 27.200000000000003, 27.200000000000003, 9.200000000000001], \"symbol\": \"circle\"}, \"mode\": \"markers\", \"text\": [\"O1\", \"O2\", \"O3\", \"O4\", \"P5\", \"H6\", \"P7\", \"O8\", \"O9\", \"O10\", \"O11\", \"H12\"], \"type\": \"scatter3d\", \"x\": [1.3617, -1.0545, 0.4395, -0.5089, 0.0, -1.5079, -4.1777, -5.5386, -3.1235, -4.6199, -3.6676, -2.6683], \"y\": [0.4544, -0.5448, -1.2848, 1.1696, 0.0, 1.2313, 0.2716, 0.8444, 1.2178, -0.4664, -0.6277, -0.6815], \"z\": [0.5738, 0.9445, -0.7444, -0.8932, 0.0, -0.9474, -0.2687, 0.1895, -0.8108, -1.5562, 0.8958, 0.9567]}, {\"hoverinfo\": \"none\", \"marker\": {\"color\": \"gray\", \"opacity\": 0.1, \"size\": 3}, \"mode\": \"lines\", \"type\": \"scatter3d\", \"x\": [1.3617, 0.0, null, 0.0, 1.3617, null, 0.0, 0.4395, null, 0.0, -0.5089, null, 0.0, -1.0545, null, -1.0545, -2.6683, null, -1.0545, 0.0, null, 0.4395, 0.0, null, -0.5089, -1.5079, null, -0.5089, 0.0, null, -1.5079, -0.5089, null, -1.5079, -3.1235, null, -4.1777, -4.6199, null, -4.1777, -3.6676, null, -4.1777, -5.5386, null, -4.1777, -3.1235, null, -5.5386, -4.1777, null, -3.1235, -1.5079, null, -3.1235, -4.1777, null, -4.6199, -4.1777, null, -3.6676, -2.6683, null, -3.6676, -4.1777, null, -2.6683, -3.6676, null, -2.6683, -1.0545, null], \"y\": [0.4544, 0.0, null, 0.0, 0.4544, null, 0.0, -1.2848, null, 0.0, 1.1696, null, 0.0, -0.5448, null, -0.5448, -0.6815, null, -0.5448, 0.0, null, -1.2848, 0.0, null, 1.1696, 1.2313, null, 1.1696, 0.0, null, 1.2313, 1.1696, null, 1.2313, 1.2178, null, 0.2716, -0.4664, null, 0.2716, -0.6277, null, 0.2716, 0.8444, null, 0.2716, 1.2178, null, 0.8444, 0.2716, null, 1.2178, 1.2313, null, 1.2178, 0.2716, null, -0.4664, 0.2716, null, -0.6277, -0.6815, null, -0.6277, 0.2716, null, -0.6815, -0.6277, null, -0.6815, -0.5448, null], \"z\": [0.5738, 0.0, null, 0.0, 0.5738, null, 0.0, -0.7444, null, 0.0, -0.8932, null, 0.0, 0.9445, null, 0.9445, 0.9567, null, 0.9445, 0.0, null, -0.7444, 0.0, null, -0.8932, -0.9474, null, -0.8932, 0.0, null, -0.9474, -0.8932, null, -0.9474, -0.8108, null, -0.2687, -1.5562, null, -0.2687, 0.8958, null, -0.2687, 0.1895, null, -0.2687, -0.8108, null, 0.1895, -0.2687, null, -0.8108, -0.9474, null, -0.8108, -0.2687, null, -1.5562, -0.2687, null, 0.8958, 0.9567, null, 0.8958, -0.2687, null, 0.9567, 0.8958, null, 0.9567, 0.9445, null]}],                        {\"margin\": {\"b\": 0, \"l\": 0, \"r\": 0, \"t\": 0}, \"scene\": {\"annotations\": [{\"showarrow\": false, \"text\": \"O1\", \"x\": 1.3617, \"y\": 0.4544, \"yshift\": 15, \"z\": 0.5738}, {\"showarrow\": false, \"text\": \"O2\", \"x\": -1.0545, \"y\": -0.5448, \"yshift\": 15, \"z\": 0.9445}, {\"showarrow\": false, \"text\": \"O3\", \"x\": 0.4395, \"y\": -1.2848, \"yshift\": 15, \"z\": -0.7444}, {\"showarrow\": false, \"text\": \"O4\", \"x\": -0.5089, \"y\": 1.1696, \"yshift\": 15, \"z\": -0.8932}, {\"showarrow\": false, \"text\": \"P5\", \"x\": 0.0, \"y\": 0.0, \"yshift\": 15, \"z\": 0.0}, {\"showarrow\": false, \"text\": \"H6\", \"x\": -1.5079, \"y\": 1.2313, \"yshift\": 15, \"z\": -0.9474}, {\"showarrow\": false, \"text\": \"P7\", \"x\": -4.1777, \"y\": 0.2716, \"yshift\": 15, \"z\": -0.2687}, {\"showarrow\": false, \"text\": \"O8\", \"x\": -5.5386, \"y\": 0.8444, \"yshift\": 15, \"z\": 0.1895}, {\"showarrow\": false, \"text\": \"O9\", \"x\": -3.1235, \"y\": 1.2178, \"yshift\": 15, \"z\": -0.8108}, {\"showarrow\": false, \"text\": \"O10\", \"x\": -4.6199, \"y\": -0.4664, \"yshift\": 15, \"z\": -1.5562}, {\"showarrow\": false, \"text\": \"O11\", \"x\": -3.6676, \"y\": -0.6277, \"yshift\": 15, \"z\": 0.8958}, {\"showarrow\": false, \"text\": \"H12\", \"x\": -2.6683, \"y\": -0.6815, \"yshift\": 15, \"z\": 0.9567}], \"xaxis\": {\"showbackground\": true, \"showgrid\": true, \"showticklabels\": true, \"title\": {\"font\": {\"color\": \"white\"}}, \"zeroline\": true}, \"yaxis\": {\"showbackground\": true, \"showgrid\": true, \"showticklabels\": true, \"title\": {\"font\": {\"color\": \"white\"}}, \"zeroline\": true}, \"zaxis\": {\"showbackground\": true, \"showgrid\": true, \"showticklabels\": true, \"title\": {\"font\": {\"color\": \"white\"}}, \"zeroline\": true}}, \"showlegend\": false, \"template\": {\"data\": {\"bar\": [{\"error_x\": {\"color\": \"#2a3f5f\"}, \"error_y\": {\"color\": \"#2a3f5f\"}, \"marker\": {\"line\": {\"color\": \"#E5ECF6\", \"width\": 0.5}}, \"type\": \"bar\"}], \"barpolar\": [{\"marker\": {\"line\": {\"color\": \"#E5ECF6\", \"width\": 0.5}}, \"type\": \"barpolar\"}], \"carpet\": [{\"aaxis\": {\"endlinecolor\": \"#2a3f5f\", \"gridcolor\": \"white\", \"linecolor\": \"white\", \"minorgridcolor\": \"white\", \"startlinecolor\": \"#2a3f5f\"}, \"baxis\": {\"endlinecolor\": \"#2a3f5f\", \"gridcolor\": \"white\", \"linecolor\": \"white\", \"minorgridcolor\": \"white\", \"startlinecolor\": \"#2a3f5f\"}, \"type\": \"carpet\"}], \"choropleth\": [{\"colorbar\": {\"outlinewidth\": 0, \"ticks\": \"\"}, \"type\": \"choropleth\"}], \"contour\": [{\"colorbar\": {\"outlinewidth\": 0, \"ticks\": \"\"}, \"colorscale\": [[0.0, \"#0d0887\"], [0.1111111111111111, \"#46039f\"], [0.2222222222222222, \"#7201a8\"], [0.3333333333333333, \"#9c179e\"], [0.4444444444444444, \"#bd3786\"], [0.5555555555555556, \"#d8576b\"], [0.6666666666666666, \"#ed7953\"], [0.7777777777777778, \"#fb9f3a\"], [0.8888888888888888, \"#fdca26\"], [1.0, \"#f0f921\"]], \"type\": \"contour\"}], \"contourcarpet\": [{\"colorbar\": {\"outlinewidth\": 0, \"ticks\": \"\"}, \"type\": \"contourcarpet\"}], \"heatmap\": [{\"colorbar\": {\"outlinewidth\": 0, \"ticks\": \"\"}, \"colorscale\": [[0.0, \"#0d0887\"], [0.1111111111111111, \"#46039f\"], [0.2222222222222222, \"#7201a8\"], [0.3333333333333333, \"#9c179e\"], [0.4444444444444444, \"#bd3786\"], [0.5555555555555556, \"#d8576b\"], [0.6666666666666666, \"#ed7953\"], [0.7777777777777778, \"#fb9f3a\"], [0.8888888888888888, \"#fdca26\"], [1.0, \"#f0f921\"]], \"type\": \"heatmap\"}], \"heatmapgl\": [{\"colorbar\": {\"outlinewidth\": 0, \"ticks\": \"\"}, \"colorscale\": [[0.0, \"#0d0887\"], [0.1111111111111111, \"#46039f\"], [0.2222222222222222, \"#7201a8\"], [0.3333333333333333, \"#9c179e\"], [0.4444444444444444, \"#bd3786\"], [0.5555555555555556, \"#d8576b\"], [0.6666666666666666, \"#ed7953\"], [0.7777777777777778, \"#fb9f3a\"], [0.8888888888888888, \"#fdca26\"], [1.0, \"#f0f921\"]], \"type\": \"heatmapgl\"}], \"histogram\": [{\"marker\": {\"colorbar\": {\"outlinewidth\": 0, \"ticks\": \"\"}}, \"type\": \"histogram\"}], \"histogram2d\": [{\"colorbar\": {\"outlinewidth\": 0, \"ticks\": \"\"}, \"colorscale\": [[0.0, \"#0d0887\"], [0.1111111111111111, \"#46039f\"], [0.2222222222222222, \"#7201a8\"], [0.3333333333333333, \"#9c179e\"], [0.4444444444444444, \"#bd3786\"], [0.5555555555555556, \"#d8576b\"], [0.6666666666666666, \"#ed7953\"], [0.7777777777777778, \"#fb9f3a\"], [0.8888888888888888, \"#fdca26\"], [1.0, \"#f0f921\"]], \"type\": \"histogram2d\"}], \"histogram2dcontour\": [{\"colorbar\": {\"outlinewidth\": 0, \"ticks\": \"\"}, \"colorscale\": [[0.0, \"#0d0887\"], [0.1111111111111111, \"#46039f\"], [0.2222222222222222, \"#7201a8\"], [0.3333333333333333, \"#9c179e\"], [0.4444444444444444, \"#bd3786\"], [0.5555555555555556, \"#d8576b\"], [0.6666666666666666, \"#ed7953\"], [0.7777777777777778, \"#fb9f3a\"], [0.8888888888888888, \"#fdca26\"], [1.0, \"#f0f921\"]], \"type\": \"histogram2dcontour\"}], \"mesh3d\": [{\"colorbar\": {\"outlinewidth\": 0, \"ticks\": \"\"}, \"type\": \"mesh3d\"}], \"parcoords\": [{\"line\": {\"colorbar\": {\"outlinewidth\": 0, \"ticks\": \"\"}}, \"type\": \"parcoords\"}], \"pie\": [{\"automargin\": true, \"type\": \"pie\"}], \"scatter\": [{\"marker\": {\"colorbar\": {\"outlinewidth\": 0, \"ticks\": \"\"}}, \"type\": \"scatter\"}], \"scatter3d\": [{\"line\": {\"colorbar\": {\"outlinewidth\": 0, \"ticks\": \"\"}}, \"marker\": {\"colorbar\": {\"outlinewidth\": 0, \"ticks\": \"\"}}, \"type\": \"scatter3d\"}], \"scattercarpet\": [{\"marker\": {\"colorbar\": {\"outlinewidth\": 0, \"ticks\": \"\"}}, \"type\": \"scattercarpet\"}], \"scattergeo\": [{\"marker\": {\"colorbar\": {\"outlinewidth\": 0, \"ticks\": \"\"}}, \"type\": \"scattergeo\"}], \"scattergl\": [{\"marker\": {\"colorbar\": {\"outlinewidth\": 0, \"ticks\": \"\"}}, \"type\": \"scattergl\"}], \"scattermapbox\": [{\"marker\": {\"colorbar\": {\"outlinewidth\": 0, \"ticks\": \"\"}}, \"type\": \"scattermapbox\"}], \"scatterpolar\": [{\"marker\": {\"colorbar\": {\"outlinewidth\": 0, \"ticks\": \"\"}}, \"type\": \"scatterpolar\"}], \"scatterpolargl\": [{\"marker\": {\"colorbar\": {\"outlinewidth\": 0, \"ticks\": \"\"}}, \"type\": \"scatterpolargl\"}], \"scatterternary\": [{\"marker\": {\"colorbar\": {\"outlinewidth\": 0, \"ticks\": \"\"}}, \"type\": \"scatterternary\"}], \"surface\": [{\"colorbar\": {\"outlinewidth\": 0, \"ticks\": \"\"}, \"colorscale\": [[0.0, \"#0d0887\"], [0.1111111111111111, \"#46039f\"], [0.2222222222222222, \"#7201a8\"], [0.3333333333333333, \"#9c179e\"], [0.4444444444444444, \"#bd3786\"], [0.5555555555555556, \"#d8576b\"], [0.6666666666666666, \"#ed7953\"], [0.7777777777777778, \"#fb9f3a\"], [0.8888888888888888, \"#fdca26\"], [1.0, \"#f0f921\"]], \"type\": \"surface\"}], \"table\": [{\"cells\": {\"fill\": {\"color\": \"#EBF0F8\"}, \"line\": {\"color\": \"white\"}}, \"header\": {\"fill\": {\"color\": \"#C8D4E3\"}, \"line\": {\"color\": \"white\"}}, \"type\": \"table\"}]}, \"layout\": {\"annotationdefaults\": {\"arrowcolor\": \"#2a3f5f\", \"arrowhead\": 0, \"arrowwidth\": 1}, \"coloraxis\": {\"colorbar\": {\"outlinewidth\": 0, \"ticks\": \"\"}}, \"colorscale\": {\"diverging\": [[0, \"#8e0152\"], [0.1, \"#c51b7d\"], [0.2, \"#de77ae\"], [0.3, \"#f1b6da\"], [0.4, \"#fde0ef\"], [0.5, \"#f7f7f7\"], [0.6, \"#e6f5d0\"], [0.7, \"#b8e186\"], [0.8, \"#7fbc41\"], [0.9, \"#4d9221\"], [1, \"#276419\"]], \"sequential\": [[0.0, \"#0d0887\"], [0.1111111111111111, \"#46039f\"], [0.2222222222222222, \"#7201a8\"], [0.3333333333333333, \"#9c179e\"], [0.4444444444444444, \"#bd3786\"], [0.5555555555555556, \"#d8576b\"], [0.6666666666666666, \"#ed7953\"], [0.7777777777777778, \"#fb9f3a\"], [0.8888888888888888, \"#fdca26\"], [1.0, \"#f0f921\"]], \"sequentialminus\": [[0.0, \"#0d0887\"], [0.1111111111111111, \"#46039f\"], [0.2222222222222222, \"#7201a8\"], [0.3333333333333333, \"#9c179e\"], [0.4444444444444444, \"#bd3786\"], [0.5555555555555556, \"#d8576b\"], [0.6666666666666666, \"#ed7953\"], [0.7777777777777778, \"#fb9f3a\"], [0.8888888888888888, \"#fdca26\"], [1.0, \"#f0f921\"]]}, \"colorway\": [\"#636efa\", \"#EF553B\", \"#00cc96\", \"#ab63fa\", \"#FFA15A\", \"#19d3f3\", \"#FF6692\", \"#B6E880\", \"#FF97FF\", \"#FECB52\"], \"font\": {\"color\": \"#2a3f5f\"}, \"geo\": {\"bgcolor\": \"white\", \"lakecolor\": \"white\", \"landcolor\": \"#E5ECF6\", \"showlakes\": true, \"showland\": true, \"subunitcolor\": \"white\"}, \"hoverlabel\": {\"align\": \"left\"}, \"hovermode\": \"closest\", \"mapbox\": {\"style\": \"light\"}, \"paper_bgcolor\": \"white\", \"plot_bgcolor\": \"#E5ECF6\", \"polar\": {\"angularaxis\": {\"gridcolor\": \"white\", \"linecolor\": \"white\", \"ticks\": \"\"}, \"bgcolor\": \"#E5ECF6\", \"radialaxis\": {\"gridcolor\": \"white\", \"linecolor\": \"white\", \"ticks\": \"\"}}, \"scene\": {\"xaxis\": {\"backgroundcolor\": \"#E5ECF6\", \"gridcolor\": \"white\", \"gridwidth\": 2, \"linecolor\": \"white\", \"showbackground\": true, \"ticks\": \"\", \"zerolinecolor\": \"white\"}, \"yaxis\": {\"backgroundcolor\": \"#E5ECF6\", \"gridcolor\": \"white\", \"gridwidth\": 2, \"linecolor\": \"white\", \"showbackground\": true, \"ticks\": \"\", \"zerolinecolor\": \"white\"}, \"zaxis\": {\"backgroundcolor\": \"#E5ECF6\", \"gridcolor\": \"white\", \"gridwidth\": 2, \"linecolor\": \"white\", \"showbackground\": true, \"ticks\": \"\", \"zerolinecolor\": \"white\"}}, \"shapedefaults\": {\"line\": {\"color\": \"#2a3f5f\"}}, \"ternary\": {\"aaxis\": {\"gridcolor\": \"white\", \"linecolor\": \"white\", \"ticks\": \"\"}, \"baxis\": {\"gridcolor\": \"white\", \"linecolor\": \"white\", \"ticks\": \"\"}, \"bgcolor\": \"#E5ECF6\", \"caxis\": {\"gridcolor\": \"white\", \"linecolor\": \"white\", \"ticks\": \"\"}}, \"title\": {\"x\": 0.05}, \"xaxis\": {\"automargin\": true, \"gridcolor\": \"white\", \"linecolor\": \"white\", \"ticks\": \"\", \"title\": {\"standoff\": 15}, \"zerolinecolor\": \"white\", \"zerolinewidth\": 2}, \"yaxis\": {\"automargin\": true, \"gridcolor\": \"white\", \"linecolor\": \"white\", \"ticks\": \"\", \"title\": {\"standoff\": 15}, \"zerolinecolor\": \"white\", \"zerolinewidth\": 2}}}, \"updatemenus\": [{\"buttons\": [{\"args\": [{\"scene.annotations\": [{\"showarrow\": false, \"text\": \"O1\", \"x\": 1.3617, \"y\": 0.4544, \"yshift\": 15, \"z\": 0.5738}, {\"showarrow\": false, \"text\": \"O2\", \"x\": -1.0545, \"y\": -0.5448, \"yshift\": 15, \"z\": 0.9445}, {\"showarrow\": false, \"text\": \"O3\", \"x\": 0.4395, \"y\": -1.2848, \"yshift\": 15, \"z\": -0.7444}, {\"showarrow\": false, \"text\": \"O4\", \"x\": -0.5089, \"y\": 1.1696, \"yshift\": 15, \"z\": -0.8932}, {\"showarrow\": false, \"text\": \"P5\", \"x\": 0.0, \"y\": 0.0, \"yshift\": 15, \"z\": 0.0}, {\"showarrow\": false, \"text\": \"H6\", \"x\": -1.5079, \"y\": 1.2313, \"yshift\": 15, \"z\": -0.9474}, {\"showarrow\": false, \"text\": \"P7\", \"x\": -4.1777, \"y\": 0.2716, \"yshift\": 15, \"z\": -0.2687}, {\"showarrow\": false, \"text\": \"O8\", \"x\": -5.5386, \"y\": 0.8444, \"yshift\": 15, \"z\": 0.1895}, {\"showarrow\": false, \"text\": \"O9\", \"x\": -3.1235, \"y\": 1.2178, \"yshift\": 15, \"z\": -0.8108}, {\"showarrow\": false, \"text\": \"O10\", \"x\": -4.6199, \"y\": -0.4664, \"yshift\": 15, \"z\": -1.5562}, {\"showarrow\": false, \"text\": \"O11\", \"x\": -3.6676, \"y\": -0.6277, \"yshift\": 15, \"z\": 0.8958}, {\"showarrow\": false, \"text\": \"H12\", \"x\": -2.6683, \"y\": -0.6815, \"yshift\": 15, \"z\": 0.9567}]}], \"label\": \"Elements\", \"method\": \"relayout\"}, {\"args\": [{\"scene.annotations\": [{\"showarrow\": false, \"text\": \"O1\", \"x\": 1.3617, \"y\": 0.4544, \"yshift\": 15, \"z\": 0.5738}, {\"showarrow\": false, \"text\": \"O2\", \"x\": -1.0545, \"y\": -0.5448, \"yshift\": 15, \"z\": 0.9445}, {\"showarrow\": false, \"text\": \"O3\", \"x\": 0.4395, \"y\": -1.2848, \"yshift\": 15, \"z\": -0.7444}, {\"showarrow\": false, \"text\": \"O4\", \"x\": -0.5089, \"y\": 1.1696, \"yshift\": 15, \"z\": -0.8932}, {\"showarrow\": false, \"text\": \"P5\", \"x\": 0.0, \"y\": 0.0, \"yshift\": 15, \"z\": 0.0}, {\"showarrow\": false, \"text\": \"H6\", \"x\": -1.5079, \"y\": 1.2313, \"yshift\": 15, \"z\": -0.9474}, {\"showarrow\": false, \"text\": \"P7\", \"x\": -4.1777, \"y\": 0.2716, \"yshift\": 15, \"z\": -0.2687}, {\"showarrow\": false, \"text\": \"O8\", \"x\": -5.5386, \"y\": 0.8444, \"yshift\": 15, \"z\": 0.1895}, {\"showarrow\": false, \"text\": \"O9\", \"x\": -3.1235, \"y\": 1.2178, \"yshift\": 15, \"z\": -0.8108}, {\"showarrow\": false, \"text\": \"O10\", \"x\": -4.6199, \"y\": -0.4664, \"yshift\": 15, \"z\": -1.5562}, {\"showarrow\": false, \"text\": \"O11\", \"x\": -3.6676, \"y\": -0.6277, \"yshift\": 15, \"z\": 0.8958}, {\"showarrow\": false, \"text\": \"H12\", \"x\": -2.6683, \"y\": -0.6815, \"yshift\": 15, \"z\": 0.9567}, {\"font\": {\"color\": \"steelblue\"}, \"showarrow\": false, \"text\": \"1.546\", \"x\": 0.68085, \"y\": 0.2272, \"yshift\": 15, \"z\": 0.2869}, {\"font\": {\"color\": \"steelblue\"}, \"showarrow\": false, \"text\": \"1.517\", \"x\": -0.52725, \"y\": -0.2724, \"yshift\": 15, \"z\": 0.47225}, {\"font\": {\"color\": \"steelblue\"}, \"showarrow\": false, \"text\": \"1.548\", \"x\": 0.21975, \"y\": -0.6424, \"yshift\": 15, \"z\": -0.3722}, {\"font\": {\"color\": \"steelblue\"}, \"showarrow\": false, \"text\": \"1.557\", \"x\": -0.25445, \"y\": 0.5848, \"yshift\": 15, \"z\": -0.4466}, {\"font\": {\"color\": \"steelblue\"}, \"showarrow\": false, \"text\": \"1.002\", \"x\": -1.0084, \"y\": 1.20045, \"yshift\": 15, \"z\": -0.9203}, {\"font\": {\"color\": \"steelblue\"}, \"showarrow\": false, \"text\": \"1.546\", \"x\": -4.85815, \"y\": 0.558, \"yshift\": 15, \"z\": -0.039599999999999996}, {\"font\": {\"color\": \"steelblue\"}, \"showarrow\": false, \"text\": \"1.517\", \"x\": -3.6506, \"y\": 0.7447, \"yshift\": 15, \"z\": -0.53975}, {\"font\": {\"color\": \"steelblue\"}, \"showarrow\": false, \"text\": \"1.549\", \"x\": -4.3988, \"y\": -0.09739999999999999, \"yshift\": 15, \"z\": -0.91245}, {\"font\": {\"color\": \"steelblue\"}, \"showarrow\": false, \"text\": \"1.557\", \"x\": -3.92265, \"y\": -0.17805, \"yshift\": 15, \"z\": 0.31355}, {\"font\": {\"color\": \"steelblue\"}, \"showarrow\": false, \"text\": \"1.003\", \"x\": -3.1679500000000003, \"y\": -0.6546000000000001, \"yshift\": 15, \"z\": 0.92625}, {\"font\": {\"color\": \"steelblue\"}, \"showarrow\": false, \"text\": 1.62, \"x\": -1.8614, \"y\": -0.61315, \"yshift\": 15, \"z\": 0.9506}, {\"font\": {\"color\": \"steelblue\"}, \"showarrow\": false, \"text\": 1.621, \"x\": -2.3157, \"y\": 1.22455, \"yshift\": 15, \"z\": -0.8791}]}], \"label\": \"Element & Bond Lengths\", \"method\": \"relayout\"}, {\"args\": [{\"scene.annotations\": [{\"showarrow\": false, \"text\": 0, \"x\": 1.3617, \"y\": 0.4544, \"yshift\": 15, \"z\": 0.5738}, {\"showarrow\": false, \"text\": 1, \"x\": -1.0545, \"y\": -0.5448, \"yshift\": 15, \"z\": 0.9445}, {\"showarrow\": false, \"text\": 2, \"x\": 0.4395, \"y\": -1.2848, \"yshift\": 15, \"z\": -0.7444}, {\"showarrow\": false, \"text\": 3, \"x\": -0.5089, \"y\": 1.1696, \"yshift\": 15, \"z\": -0.8932}, {\"showarrow\": false, \"text\": 4, \"x\": 0.0, \"y\": 0.0, \"yshift\": 15, \"z\": 0.0}, {\"showarrow\": false, \"text\": 5, \"x\": -1.5079, \"y\": 1.2313, \"yshift\": 15, \"z\": -0.9474}, {\"showarrow\": false, \"text\": 6, \"x\": -4.1777, \"y\": 0.2716, \"yshift\": 15, \"z\": -0.2687}, {\"showarrow\": false, \"text\": 7, \"x\": -5.5386, \"y\": 0.8444, \"yshift\": 15, \"z\": 0.1895}, {\"showarrow\": false, \"text\": 8, \"x\": -3.1235, \"y\": 1.2178, \"yshift\": 15, \"z\": -0.8108}, {\"showarrow\": false, \"text\": 9, \"x\": -4.6199, \"y\": -0.4664, \"yshift\": 15, \"z\": -1.5562}, {\"showarrow\": false, \"text\": 10, \"x\": -3.6676, \"y\": -0.6277, \"yshift\": 15, \"z\": 0.8958}, {\"showarrow\": false, \"text\": 11, \"x\": -2.6683, \"y\": -0.6815, \"yshift\": 15, \"z\": 0.9567}]}], \"label\": \"Indices\", \"method\": \"relayout\"}, {\"args\": [{\"scene.annotations\": [{\"showarrow\": false, \"text\": 0, \"x\": 1.3617, \"y\": 0.4544, \"yshift\": 15, \"z\": 0.5738}, {\"showarrow\": false, \"text\": 1, \"x\": -1.0545, \"y\": -0.5448, \"yshift\": 15, \"z\": 0.9445}, {\"showarrow\": false, \"text\": 2, \"x\": 0.4395, \"y\": -1.2848, \"yshift\": 15, \"z\": -0.7444}, {\"showarrow\": false, \"text\": 3, \"x\": -0.5089, \"y\": 1.1696, \"yshift\": 15, \"z\": -0.8932}, {\"showarrow\": false, \"text\": 4, \"x\": 0.0, \"y\": 0.0, \"yshift\": 15, \"z\": 0.0}, {\"showarrow\": false, \"text\": 5, \"x\": -1.5079, \"y\": 1.2313, \"yshift\": 15, \"z\": -0.9474}, {\"showarrow\": false, \"text\": 6, \"x\": -4.1777, \"y\": 0.2716, \"yshift\": 15, \"z\": -0.2687}, {\"showarrow\": false, \"text\": 7, \"x\": -5.5386, \"y\": 0.8444, \"yshift\": 15, \"z\": 0.1895}, {\"showarrow\": false, \"text\": 8, \"x\": -3.1235, \"y\": 1.2178, \"yshift\": 15, \"z\": -0.8108}, {\"showarrow\": false, \"text\": 9, \"x\": -4.6199, \"y\": -0.4664, \"yshift\": 15, \"z\": -1.5562}, {\"showarrow\": false, \"text\": 10, \"x\": -3.6676, \"y\": -0.6277, \"yshift\": 15, \"z\": 0.8958}, {\"showarrow\": false, \"text\": 11, \"x\": -2.6683, \"y\": -0.6815, \"yshift\": 15, \"z\": 0.9567}, {\"font\": {\"color\": \"steelblue\"}, \"showarrow\": false, \"text\": \"1.546\", \"x\": 0.68085, \"y\": 0.2272, \"yshift\": 15, \"z\": 0.2869}, {\"font\": {\"color\": \"steelblue\"}, \"showarrow\": false, \"text\": \"1.517\", \"x\": -0.52725, \"y\": -0.2724, \"yshift\": 15, \"z\": 0.47225}, {\"font\": {\"color\": \"steelblue\"}, \"showarrow\": false, \"text\": \"1.548\", \"x\": 0.21975, \"y\": -0.6424, \"yshift\": 15, \"z\": -0.3722}, {\"font\": {\"color\": \"steelblue\"}, \"showarrow\": false, \"text\": \"1.557\", \"x\": -0.25445, \"y\": 0.5848, \"yshift\": 15, \"z\": -0.4466}, {\"font\": {\"color\": \"steelblue\"}, \"showarrow\": false, \"text\": \"1.002\", \"x\": -1.0084, \"y\": 1.20045, \"yshift\": 15, \"z\": -0.9203}, {\"font\": {\"color\": \"steelblue\"}, \"showarrow\": false, \"text\": \"1.546\", \"x\": -4.85815, \"y\": 0.558, \"yshift\": 15, \"z\": -0.039599999999999996}, {\"font\": {\"color\": \"steelblue\"}, \"showarrow\": false, \"text\": \"1.517\", \"x\": -3.6506, \"y\": 0.7447, \"yshift\": 15, \"z\": -0.53975}, {\"font\": {\"color\": \"steelblue\"}, \"showarrow\": false, \"text\": \"1.549\", \"x\": -4.3988, \"y\": -0.09739999999999999, \"yshift\": 15, \"z\": -0.91245}, {\"font\": {\"color\": \"steelblue\"}, \"showarrow\": false, \"text\": \"1.557\", \"x\": -3.92265, \"y\": -0.17805, \"yshift\": 15, \"z\": 0.31355}, {\"font\": {\"color\": \"steelblue\"}, \"showarrow\": false, \"text\": \"1.003\", \"x\": -3.1679500000000003, \"y\": -0.6546000000000001, \"yshift\": 15, \"z\": 0.92625}, {\"font\": {\"color\": \"steelblue\"}, \"showarrow\": false, \"text\": 1.62, \"x\": -1.8614, \"y\": -0.61315, \"yshift\": 15, \"z\": 0.9506}, {\"font\": {\"color\": \"steelblue\"}, \"showarrow\": false, \"text\": 1.621, \"x\": -2.3157, \"y\": 1.22455, \"yshift\": 15, \"z\": -0.8791}]}], \"label\": \"Indices & Bond Lengths\", \"method\": \"relayout\"}, {\"args\": [{\"scene.annotations\": [{\"font\": {\"color\": \"steelblue\"}, \"showarrow\": false, \"text\": \"1.546\", \"x\": 0.68085, \"y\": 0.2272, \"yshift\": 15, \"z\": 0.2869}, {\"font\": {\"color\": \"steelblue\"}, \"showarrow\": false, \"text\": \"1.517\", \"x\": -0.52725, \"y\": -0.2724, \"yshift\": 15, \"z\": 0.47225}, {\"font\": {\"color\": \"steelblue\"}, \"showarrow\": false, \"text\": \"1.548\", \"x\": 0.21975, \"y\": -0.6424, \"yshift\": 15, \"z\": -0.3722}, {\"font\": {\"color\": \"steelblue\"}, \"showarrow\": false, \"text\": \"1.557\", \"x\": -0.25445, \"y\": 0.5848, \"yshift\": 15, \"z\": -0.4466}, {\"font\": {\"color\": \"steelblue\"}, \"showarrow\": false, \"text\": \"1.002\", \"x\": -1.0084, \"y\": 1.20045, \"yshift\": 15, \"z\": -0.9203}, {\"font\": {\"color\": \"steelblue\"}, \"showarrow\": false, \"text\": \"1.546\", \"x\": -4.85815, \"y\": 0.558, \"yshift\": 15, \"z\": -0.039599999999999996}, {\"font\": {\"color\": \"steelblue\"}, \"showarrow\": false, \"text\": \"1.517\", \"x\": -3.6506, \"y\": 0.7447, \"yshift\": 15, \"z\": -0.53975}, {\"font\": {\"color\": \"steelblue\"}, \"showarrow\": false, \"text\": \"1.549\", \"x\": -4.3988, \"y\": -0.09739999999999999, \"yshift\": 15, \"z\": -0.91245}, {\"font\": {\"color\": \"steelblue\"}, \"showarrow\": false, \"text\": \"1.557\", \"x\": -3.92265, \"y\": -0.17805, \"yshift\": 15, \"z\": 0.31355}, {\"font\": {\"color\": \"steelblue\"}, \"showarrow\": false, \"text\": \"1.003\", \"x\": -3.1679500000000003, \"y\": -0.6546000000000001, \"yshift\": 15, \"z\": 0.92625}, {\"font\": {\"color\": \"steelblue\"}, \"showarrow\": false, \"text\": 1.62, \"x\": -1.8614, \"y\": -0.61315, \"yshift\": 15, \"z\": 0.9506}, {\"font\": {\"color\": \"steelblue\"}, \"showarrow\": false, \"text\": 1.621, \"x\": -2.3157, \"y\": 1.22455, \"yshift\": 15, \"z\": -0.8791}]}], \"label\": \"Bond Lengths\", \"method\": \"relayout\"}, {\"args\": [{}], \"label\": \"Hide All\", \"method\": \"relayout\"}], \"direction\": \"down\", \"xanchor\": \"left\", \"yanchor\": \"top\"}]},                        {\"responsive\": true}                    ).then(function(){\n",
       "                            \n",
       "var gd = document.getElementById('b4f6b992-820b-4ff6-901f-4b7f1133854b');\n",
       "var x = new MutationObserver(function (mutations, observer) {{\n",
       "        var display = window.getComputedStyle(gd).display;\n",
       "        if (!display || display === 'none') {{\n",
       "            console.log([gd, 'removed!']);\n",
       "            Plotly.purge(gd);\n",
       "            observer.disconnect();\n",
       "        }}\n",
       "}});\n",
       "\n",
       "// Listen for the removal of the full notebook cells\n",
       "var notebookContainer = gd.closest('#notebook-container');\n",
       "if (notebookContainer) {{\n",
       "    x.observe(notebookContainer, {childList: true});\n",
       "}}\n",
       "\n",
       "// Listen for the clearing of the current output cell\n",
       "var outputEl = gd.closest('.output');\n",
       "if (outputEl) {{\n",
       "    x.observe(outputEl, {childList: true});\n",
       "}}\n",
       "\n",
       "                        })                };                });            </script>        </div>"
      ]
     },
     "metadata": {},
     "output_type": "display_data"
    },
    {
     "data": {
      "application/vnd.plotly.v1+json": {
       "config": {
        "linkText": "Export to plot.ly",
        "plotlyServerURL": "https://plot.ly",
        "showLink": false
       },
       "data": [
        {
         "marker": {
          "color": [
           "white",
           "white",
           "red",
           "red",
           "red",
           "red",
           "red",
           "red",
           "red",
           "red",
           "orange",
           "orange"
          ],
          "line": {
           "color": "lightgray",
           "width": 2
          },
          "opacity": 0.8,
          "size": [
           9.200000000000001,
           9.200000000000001,
           27.200000000000003,
           27.200000000000003,
           27.200000000000003,
           27.200000000000003,
           27.200000000000003,
           27.200000000000003,
           27.200000000000003,
           27.200000000000003,
           42,
           42
          ],
          "symbol": "circle"
         },
         "mode": "markers",
         "text": [
          "H1",
          "H2",
          "O1",
          "O2",
          "O3",
          "O4",
          "O5",
          "O6",
          "O7",
          "O8",
          "P1",
          "P2"
         ],
         "type": "scatter3d",
         "x": [
          -1.2518,
          2.5349,
          1.1965,
          -1.1953,
          0.2168,
          -0.4396,
          5.0459,
          2.7355,
          4.5103,
          3.5161,
          0,
          3.929
         ],
         "y": [
          0.8659,
          0.4385,
          0.586,
          -0.3994,
          -1.3718,
          1.101,
          0.0869,
          -0.9561,
          -1.8717,
          0.3998,
          0,
          -0.5837
         ],
         "z": [
          -1.5621,
          1.2951,
          0.7041,
          0.8865,
          -0.6674,
          -1.0718,
          3.5995,
          3.6783,
          2.1807,
          1.6347,
          0,
          2.789
         ]
        },
        {
         "hoverinfo": "none",
         "marker": {
          "color": "gray",
          "opacity": 0.1,
          "size": 3
         },
         "mode": "lines",
         "type": "scatter3d",
         "x": [
          -1.2518,
          -0.4396,
          null,
          -0.4396,
          0,
          null,
          -0.4396,
          -1.2518,
          null,
          2.5349,
          1.1965,
          null,
          2.5349,
          3.5161,
          null,
          3.5161,
          2.5349,
          null,
          3.5161,
          3.929,
          null,
          1.1965,
          2.5349,
          null,
          1.1965,
          0,
          null,
          0,
          1.1965,
          null,
          0,
          0.2168,
          null,
          0,
          -0.4396,
          null,
          0,
          -1.1953,
          null,
          -1.1953,
          0,
          null,
          0.2168,
          0,
          null,
          5.0459,
          3.929,
          null,
          3.929,
          5.0459,
          null,
          3.929,
          2.7355,
          null,
          3.929,
          3.5161,
          null,
          3.929,
          4.5103,
          null,
          2.7355,
          3.929,
          null,
          4.5103,
          3.929,
          null
         ],
         "y": [
          0.8659,
          1.101,
          null,
          1.101,
          0,
          null,
          1.101,
          0.8659,
          null,
          0.4385,
          0.586,
          null,
          0.4385,
          0.3998,
          null,
          0.3998,
          0.4385,
          null,
          0.3998,
          -0.5837,
          null,
          0.586,
          0.4385,
          null,
          0.586,
          0,
          null,
          0,
          0.586,
          null,
          0,
          -1.3718,
          null,
          0,
          1.101,
          null,
          0,
          -0.3994,
          null,
          -0.3994,
          0,
          null,
          -1.3718,
          0,
          null,
          0.0869,
          -0.5837,
          null,
          -0.5837,
          0.0869,
          null,
          -0.5837,
          -0.9561,
          null,
          -0.5837,
          0.3998,
          null,
          -0.5837,
          -1.8717,
          null,
          -0.9561,
          -0.5837,
          null,
          -1.8717,
          -0.5837,
          null
         ],
         "z": [
          -1.5621,
          -1.0718,
          null,
          -1.0718,
          0,
          null,
          -1.0718,
          -1.5621,
          null,
          1.2951,
          0.7041,
          null,
          1.2951,
          1.6347,
          null,
          1.6347,
          1.2951,
          null,
          1.6347,
          2.789,
          null,
          0.7041,
          1.2951,
          null,
          0.7041,
          0,
          null,
          0,
          0.7041,
          null,
          0,
          -0.6674,
          null,
          0,
          -1.0718,
          null,
          0,
          0.8865,
          null,
          0.8865,
          0,
          null,
          -0.6674,
          0,
          null,
          3.5995,
          2.789,
          null,
          2.789,
          3.5995,
          null,
          2.789,
          3.6783,
          null,
          2.789,
          1.6347,
          null,
          2.789,
          2.1807,
          null,
          3.6783,
          2.789,
          null,
          2.1807,
          2.789,
          null
         ]
        }
       ],
       "layout": {
        "margin": {
         "b": 0,
         "l": 0,
         "r": 0,
         "t": 0
        },
        "scene": {
         "annotations": [
          {
           "showarrow": false,
           "text": "H1",
           "x": -1.2518,
           "y": 0.8659,
           "yshift": 15,
           "z": -1.5621
          },
          {
           "showarrow": false,
           "text": "H2",
           "x": 2.5349,
           "y": 0.4385,
           "yshift": 15,
           "z": 1.2951
          },
          {
           "showarrow": false,
           "text": "O1",
           "x": 1.1965,
           "y": 0.586,
           "yshift": 15,
           "z": 0.7041
          },
          {
           "showarrow": false,
           "text": "O2",
           "x": -1.1953,
           "y": -0.3994,
           "yshift": 15,
           "z": 0.8865
          },
          {
           "showarrow": false,
           "text": "O3",
           "x": 0.2168,
           "y": -1.3718,
           "yshift": 15,
           "z": -0.6674
          },
          {
           "showarrow": false,
           "text": "O4",
           "x": -0.4396,
           "y": 1.101,
           "yshift": 15,
           "z": -1.0718
          },
          {
           "showarrow": false,
           "text": "O5",
           "x": 5.0459,
           "y": 0.0869,
           "yshift": 15,
           "z": 3.5995
          },
          {
           "showarrow": false,
           "text": "O6",
           "x": 2.7355,
           "y": -0.9561,
           "yshift": 15,
           "z": 3.6783
          },
          {
           "showarrow": false,
           "text": "O7",
           "x": 4.5103,
           "y": -1.8717,
           "yshift": 15,
           "z": 2.1807
          },
          {
           "showarrow": false,
           "text": "O8",
           "x": 3.5161,
           "y": 0.3998,
           "yshift": 15,
           "z": 1.6347
          },
          {
           "showarrow": false,
           "text": "P1",
           "x": 0,
           "y": 0,
           "yshift": 15,
           "z": 0
          },
          {
           "showarrow": false,
           "text": "P2",
           "x": 3.929,
           "y": -0.5837,
           "yshift": 15,
           "z": 2.789
          }
         ],
         "xaxis": {
          "showbackground": true,
          "showgrid": true,
          "showticklabels": true,
          "title": {
           "font": {
            "color": "white"
           }
          },
          "zeroline": true
         },
         "yaxis": {
          "showbackground": true,
          "showgrid": true,
          "showticklabels": true,
          "title": {
           "font": {
            "color": "white"
           }
          },
          "zeroline": true
         },
         "zaxis": {
          "showbackground": true,
          "showgrid": true,
          "showticklabels": true,
          "title": {
           "font": {
            "color": "white"
           }
          },
          "zeroline": true
         }
        },
        "showlegend": false,
        "template": {
         "data": {
          "bar": [
           {
            "error_x": {
             "color": "#2a3f5f"
            },
            "error_y": {
             "color": "#2a3f5f"
            },
            "marker": {
             "line": {
              "color": "#E5ECF6",
              "width": 0.5
             }
            },
            "type": "bar"
           }
          ],
          "barpolar": [
           {
            "marker": {
             "line": {
              "color": "#E5ECF6",
              "width": 0.5
             }
            },
            "type": "barpolar"
           }
          ],
          "carpet": [
           {
            "aaxis": {
             "endlinecolor": "#2a3f5f",
             "gridcolor": "white",
             "linecolor": "white",
             "minorgridcolor": "white",
             "startlinecolor": "#2a3f5f"
            },
            "baxis": {
             "endlinecolor": "#2a3f5f",
             "gridcolor": "white",
             "linecolor": "white",
             "minorgridcolor": "white",
             "startlinecolor": "#2a3f5f"
            },
            "type": "carpet"
           }
          ],
          "choropleth": [
           {
            "colorbar": {
             "outlinewidth": 0,
             "ticks": ""
            },
            "type": "choropleth"
           }
          ],
          "contour": [
           {
            "colorbar": {
             "outlinewidth": 0,
             "ticks": ""
            },
            "colorscale": [
             [
              0,
              "#0d0887"
             ],
             [
              0.1111111111111111,
              "#46039f"
             ],
             [
              0.2222222222222222,
              "#7201a8"
             ],
             [
              0.3333333333333333,
              "#9c179e"
             ],
             [
              0.4444444444444444,
              "#bd3786"
             ],
             [
              0.5555555555555556,
              "#d8576b"
             ],
             [
              0.6666666666666666,
              "#ed7953"
             ],
             [
              0.7777777777777778,
              "#fb9f3a"
             ],
             [
              0.8888888888888888,
              "#fdca26"
             ],
             [
              1,
              "#f0f921"
             ]
            ],
            "type": "contour"
           }
          ],
          "contourcarpet": [
           {
            "colorbar": {
             "outlinewidth": 0,
             "ticks": ""
            },
            "type": "contourcarpet"
           }
          ],
          "heatmap": [
           {
            "colorbar": {
             "outlinewidth": 0,
             "ticks": ""
            },
            "colorscale": [
             [
              0,
              "#0d0887"
             ],
             [
              0.1111111111111111,
              "#46039f"
             ],
             [
              0.2222222222222222,
              "#7201a8"
             ],
             [
              0.3333333333333333,
              "#9c179e"
             ],
             [
              0.4444444444444444,
              "#bd3786"
             ],
             [
              0.5555555555555556,
              "#d8576b"
             ],
             [
              0.6666666666666666,
              "#ed7953"
             ],
             [
              0.7777777777777778,
              "#fb9f3a"
             ],
             [
              0.8888888888888888,
              "#fdca26"
             ],
             [
              1,
              "#f0f921"
             ]
            ],
            "type": "heatmap"
           }
          ],
          "heatmapgl": [
           {
            "colorbar": {
             "outlinewidth": 0,
             "ticks": ""
            },
            "colorscale": [
             [
              0,
              "#0d0887"
             ],
             [
              0.1111111111111111,
              "#46039f"
             ],
             [
              0.2222222222222222,
              "#7201a8"
             ],
             [
              0.3333333333333333,
              "#9c179e"
             ],
             [
              0.4444444444444444,
              "#bd3786"
             ],
             [
              0.5555555555555556,
              "#d8576b"
             ],
             [
              0.6666666666666666,
              "#ed7953"
             ],
             [
              0.7777777777777778,
              "#fb9f3a"
             ],
             [
              0.8888888888888888,
              "#fdca26"
             ],
             [
              1,
              "#f0f921"
             ]
            ],
            "type": "heatmapgl"
           }
          ],
          "histogram": [
           {
            "marker": {
             "colorbar": {
              "outlinewidth": 0,
              "ticks": ""
             }
            },
            "type": "histogram"
           }
          ],
          "histogram2d": [
           {
            "colorbar": {
             "outlinewidth": 0,
             "ticks": ""
            },
            "colorscale": [
             [
              0,
              "#0d0887"
             ],
             [
              0.1111111111111111,
              "#46039f"
             ],
             [
              0.2222222222222222,
              "#7201a8"
             ],
             [
              0.3333333333333333,
              "#9c179e"
             ],
             [
              0.4444444444444444,
              "#bd3786"
             ],
             [
              0.5555555555555556,
              "#d8576b"
             ],
             [
              0.6666666666666666,
              "#ed7953"
             ],
             [
              0.7777777777777778,
              "#fb9f3a"
             ],
             [
              0.8888888888888888,
              "#fdca26"
             ],
             [
              1,
              "#f0f921"
             ]
            ],
            "type": "histogram2d"
           }
          ],
          "histogram2dcontour": [
           {
            "colorbar": {
             "outlinewidth": 0,
             "ticks": ""
            },
            "colorscale": [
             [
              0,
              "#0d0887"
             ],
             [
              0.1111111111111111,
              "#46039f"
             ],
             [
              0.2222222222222222,
              "#7201a8"
             ],
             [
              0.3333333333333333,
              "#9c179e"
             ],
             [
              0.4444444444444444,
              "#bd3786"
             ],
             [
              0.5555555555555556,
              "#d8576b"
             ],
             [
              0.6666666666666666,
              "#ed7953"
             ],
             [
              0.7777777777777778,
              "#fb9f3a"
             ],
             [
              0.8888888888888888,
              "#fdca26"
             ],
             [
              1,
              "#f0f921"
             ]
            ],
            "type": "histogram2dcontour"
           }
          ],
          "mesh3d": [
           {
            "colorbar": {
             "outlinewidth": 0,
             "ticks": ""
            },
            "type": "mesh3d"
           }
          ],
          "parcoords": [
           {
            "line": {
             "colorbar": {
              "outlinewidth": 0,
              "ticks": ""
             }
            },
            "type": "parcoords"
           }
          ],
          "pie": [
           {
            "automargin": true,
            "type": "pie"
           }
          ],
          "scatter": [
           {
            "marker": {
             "colorbar": {
              "outlinewidth": 0,
              "ticks": ""
             }
            },
            "type": "scatter"
           }
          ],
          "scatter3d": [
           {
            "line": {
             "colorbar": {
              "outlinewidth": 0,
              "ticks": ""
             }
            },
            "marker": {
             "colorbar": {
              "outlinewidth": 0,
              "ticks": ""
             }
            },
            "type": "scatter3d"
           }
          ],
          "scattercarpet": [
           {
            "marker": {
             "colorbar": {
              "outlinewidth": 0,
              "ticks": ""
             }
            },
            "type": "scattercarpet"
           }
          ],
          "scattergeo": [
           {
            "marker": {
             "colorbar": {
              "outlinewidth": 0,
              "ticks": ""
             }
            },
            "type": "scattergeo"
           }
          ],
          "scattergl": [
           {
            "marker": {
             "colorbar": {
              "outlinewidth": 0,
              "ticks": ""
             }
            },
            "type": "scattergl"
           }
          ],
          "scattermapbox": [
           {
            "marker": {
             "colorbar": {
              "outlinewidth": 0,
              "ticks": ""
             }
            },
            "type": "scattermapbox"
           }
          ],
          "scatterpolar": [
           {
            "marker": {
             "colorbar": {
              "outlinewidth": 0,
              "ticks": ""
             }
            },
            "type": "scatterpolar"
           }
          ],
          "scatterpolargl": [
           {
            "marker": {
             "colorbar": {
              "outlinewidth": 0,
              "ticks": ""
             }
            },
            "type": "scatterpolargl"
           }
          ],
          "scatterternary": [
           {
            "marker": {
             "colorbar": {
              "outlinewidth": 0,
              "ticks": ""
             }
            },
            "type": "scatterternary"
           }
          ],
          "surface": [
           {
            "colorbar": {
             "outlinewidth": 0,
             "ticks": ""
            },
            "colorscale": [
             [
              0,
              "#0d0887"
             ],
             [
              0.1111111111111111,
              "#46039f"
             ],
             [
              0.2222222222222222,
              "#7201a8"
             ],
             [
              0.3333333333333333,
              "#9c179e"
             ],
             [
              0.4444444444444444,
              "#bd3786"
             ],
             [
              0.5555555555555556,
              "#d8576b"
             ],
             [
              0.6666666666666666,
              "#ed7953"
             ],
             [
              0.7777777777777778,
              "#fb9f3a"
             ],
             [
              0.8888888888888888,
              "#fdca26"
             ],
             [
              1,
              "#f0f921"
             ]
            ],
            "type": "surface"
           }
          ],
          "table": [
           {
            "cells": {
             "fill": {
              "color": "#EBF0F8"
             },
             "line": {
              "color": "white"
             }
            },
            "header": {
             "fill": {
              "color": "#C8D4E3"
             },
             "line": {
              "color": "white"
             }
            },
            "type": "table"
           }
          ]
         },
         "layout": {
          "annotationdefaults": {
           "arrowcolor": "#2a3f5f",
           "arrowhead": 0,
           "arrowwidth": 1
          },
          "coloraxis": {
           "colorbar": {
            "outlinewidth": 0,
            "ticks": ""
           }
          },
          "colorscale": {
           "diverging": [
            [
             0,
             "#8e0152"
            ],
            [
             0.1,
             "#c51b7d"
            ],
            [
             0.2,
             "#de77ae"
            ],
            [
             0.3,
             "#f1b6da"
            ],
            [
             0.4,
             "#fde0ef"
            ],
            [
             0.5,
             "#f7f7f7"
            ],
            [
             0.6,
             "#e6f5d0"
            ],
            [
             0.7,
             "#b8e186"
            ],
            [
             0.8,
             "#7fbc41"
            ],
            [
             0.9,
             "#4d9221"
            ],
            [
             1,
             "#276419"
            ]
           ],
           "sequential": [
            [
             0,
             "#0d0887"
            ],
            [
             0.1111111111111111,
             "#46039f"
            ],
            [
             0.2222222222222222,
             "#7201a8"
            ],
            [
             0.3333333333333333,
             "#9c179e"
            ],
            [
             0.4444444444444444,
             "#bd3786"
            ],
            [
             0.5555555555555556,
             "#d8576b"
            ],
            [
             0.6666666666666666,
             "#ed7953"
            ],
            [
             0.7777777777777778,
             "#fb9f3a"
            ],
            [
             0.8888888888888888,
             "#fdca26"
            ],
            [
             1,
             "#f0f921"
            ]
           ],
           "sequentialminus": [
            [
             0,
             "#0d0887"
            ],
            [
             0.1111111111111111,
             "#46039f"
            ],
            [
             0.2222222222222222,
             "#7201a8"
            ],
            [
             0.3333333333333333,
             "#9c179e"
            ],
            [
             0.4444444444444444,
             "#bd3786"
            ],
            [
             0.5555555555555556,
             "#d8576b"
            ],
            [
             0.6666666666666666,
             "#ed7953"
            ],
            [
             0.7777777777777778,
             "#fb9f3a"
            ],
            [
             0.8888888888888888,
             "#fdca26"
            ],
            [
             1,
             "#f0f921"
            ]
           ]
          },
          "colorway": [
           "#636efa",
           "#EF553B",
           "#00cc96",
           "#ab63fa",
           "#FFA15A",
           "#19d3f3",
           "#FF6692",
           "#B6E880",
           "#FF97FF",
           "#FECB52"
          ],
          "font": {
           "color": "#2a3f5f"
          },
          "geo": {
           "bgcolor": "white",
           "lakecolor": "white",
           "landcolor": "#E5ECF6",
           "showlakes": true,
           "showland": true,
           "subunitcolor": "white"
          },
          "hoverlabel": {
           "align": "left"
          },
          "hovermode": "closest",
          "mapbox": {
           "style": "light"
          },
          "paper_bgcolor": "white",
          "plot_bgcolor": "#E5ECF6",
          "polar": {
           "angularaxis": {
            "gridcolor": "white",
            "linecolor": "white",
            "ticks": ""
           },
           "bgcolor": "#E5ECF6",
           "radialaxis": {
            "gridcolor": "white",
            "linecolor": "white",
            "ticks": ""
           }
          },
          "scene": {
           "xaxis": {
            "backgroundcolor": "#E5ECF6",
            "gridcolor": "white",
            "gridwidth": 2,
            "linecolor": "white",
            "showbackground": true,
            "ticks": "",
            "zerolinecolor": "white"
           },
           "yaxis": {
            "backgroundcolor": "#E5ECF6",
            "gridcolor": "white",
            "gridwidth": 2,
            "linecolor": "white",
            "showbackground": true,
            "ticks": "",
            "zerolinecolor": "white"
           },
           "zaxis": {
            "backgroundcolor": "#E5ECF6",
            "gridcolor": "white",
            "gridwidth": 2,
            "linecolor": "white",
            "showbackground": true,
            "ticks": "",
            "zerolinecolor": "white"
           }
          },
          "shapedefaults": {
           "line": {
            "color": "#2a3f5f"
           }
          },
          "ternary": {
           "aaxis": {
            "gridcolor": "white",
            "linecolor": "white",
            "ticks": ""
           },
           "baxis": {
            "gridcolor": "white",
            "linecolor": "white",
            "ticks": ""
           },
           "bgcolor": "#E5ECF6",
           "caxis": {
            "gridcolor": "white",
            "linecolor": "white",
            "ticks": ""
           }
          },
          "title": {
           "x": 0.05
          },
          "xaxis": {
           "automargin": true,
           "gridcolor": "white",
           "linecolor": "white",
           "ticks": "",
           "title": {
            "standoff": 15
           },
           "zerolinecolor": "white",
           "zerolinewidth": 2
          },
          "yaxis": {
           "automargin": true,
           "gridcolor": "white",
           "linecolor": "white",
           "ticks": "",
           "title": {
            "standoff": 15
           },
           "zerolinecolor": "white",
           "zerolinewidth": 2
          }
         }
        },
        "updatemenus": [
         {
          "buttons": [
           {
            "args": [
             {
              "scene.annotations": [
               {
                "showarrow": false,
                "text": "H1",
                "x": -1.2518,
                "y": 0.8659,
                "yshift": 15,
                "z": -1.5621
               },
               {
                "showarrow": false,
                "text": "H2",
                "x": 2.5349,
                "y": 0.4385,
                "yshift": 15,
                "z": 1.2951
               },
               {
                "showarrow": false,
                "text": "O1",
                "x": 1.1965,
                "y": 0.586,
                "yshift": 15,
                "z": 0.7041
               },
               {
                "showarrow": false,
                "text": "O2",
                "x": -1.1953,
                "y": -0.3994,
                "yshift": 15,
                "z": 0.8865
               },
               {
                "showarrow": false,
                "text": "O3",
                "x": 0.2168,
                "y": -1.3718,
                "yshift": 15,
                "z": -0.6674
               },
               {
                "showarrow": false,
                "text": "O4",
                "x": -0.4396,
                "y": 1.101,
                "yshift": 15,
                "z": -1.0718
               },
               {
                "showarrow": false,
                "text": "O5",
                "x": 5.0459,
                "y": 0.0869,
                "yshift": 15,
                "z": 3.5995
               },
               {
                "showarrow": false,
                "text": "O6",
                "x": 2.7355,
                "y": -0.9561,
                "yshift": 15,
                "z": 3.6783
               },
               {
                "showarrow": false,
                "text": "O7",
                "x": 4.5103,
                "y": -1.8717,
                "yshift": 15,
                "z": 2.1807
               },
               {
                "showarrow": false,
                "text": "O8",
                "x": 3.5161,
                "y": 0.3998,
                "yshift": 15,
                "z": 1.6347
               },
               {
                "showarrow": false,
                "text": "P1",
                "x": 0,
                "y": 0,
                "yshift": 15,
                "z": 0
               },
               {
                "showarrow": false,
                "text": "P2",
                "x": 3.929,
                "y": -0.5837,
                "yshift": 15,
                "z": 2.789
               }
              ]
             }
            ],
            "label": "Elements",
            "method": "relayout"
           },
           {
            "args": [
             {
              "scene.annotations": [
               {
                "showarrow": false,
                "text": "H1",
                "x": -1.2518,
                "y": 0.8659,
                "yshift": 15,
                "z": -1.5621
               },
               {
                "showarrow": false,
                "text": "H2",
                "x": 2.5349,
                "y": 0.4385,
                "yshift": 15,
                "z": 1.2951
               },
               {
                "showarrow": false,
                "text": "O1",
                "x": 1.1965,
                "y": 0.586,
                "yshift": 15,
                "z": 0.7041
               },
               {
                "showarrow": false,
                "text": "O2",
                "x": -1.1953,
                "y": -0.3994,
                "yshift": 15,
                "z": 0.8865
               },
               {
                "showarrow": false,
                "text": "O3",
                "x": 0.2168,
                "y": -1.3718,
                "yshift": 15,
                "z": -0.6674
               },
               {
                "showarrow": false,
                "text": "O4",
                "x": -0.4396,
                "y": 1.101,
                "yshift": 15,
                "z": -1.0718
               },
               {
                "showarrow": false,
                "text": "O5",
                "x": 5.0459,
                "y": 0.0869,
                "yshift": 15,
                "z": 3.5995
               },
               {
                "showarrow": false,
                "text": "O6",
                "x": 2.7355,
                "y": -0.9561,
                "yshift": 15,
                "z": 3.6783
               },
               {
                "showarrow": false,
                "text": "O7",
                "x": 4.5103,
                "y": -1.8717,
                "yshift": 15,
                "z": 2.1807
               },
               {
                "showarrow": false,
                "text": "O8",
                "x": 3.5161,
                "y": 0.3998,
                "yshift": 15,
                "z": 1.6347
               },
               {
                "showarrow": false,
                "text": "P1",
                "x": 0,
                "y": 0,
                "yshift": 15,
                "z": 0
               },
               {
                "showarrow": false,
                "text": "P2",
                "x": 3.929,
                "y": -0.5837,
                "yshift": 15,
                "z": 2.789
               },
               {
                "font": {
                 "color": "steelblue"
                },
                "showarrow": false,
                "text": "0.977",
                "x": -0.8457,
                "y": 0.9834499999999999,
                "yshift": 15,
                "z": -1.31695
               },
               {
                "font": {
                 "color": "steelblue"
                },
                "showarrow": false,
                "text": "1.039",
                "x": 3.0255,
                "y": 0.41915,
                "yshift": 15,
                "z": 1.4649
               },
               {
                "font": {
                 "color": "steelblue"
                },
                "showarrow": false,
                "text": "1.507",
                "x": 0.59825,
                "y": 0.293,
                "yshift": 15,
                "z": 0.35205
               },
               {
                "font": {
                 "color": "steelblue"
                },
                "showarrow": false,
                "text": "1.541",
                "x": -0.59765,
                "y": -0.1997,
                "yshift": 15,
                "z": 0.44325
               },
               {
                "font": {
                 "color": "steelblue"
                },
                "showarrow": false,
                "text": "1.541",
                "x": 0.1084,
                "y": -0.6859,
                "yshift": 15,
                "z": -0.3337
               },
               {
                "font": {
                 "color": "steelblue"
                },
                "showarrow": false,
                "text": "1.598",
                "x": -0.2198,
                "y": 0.5505,
                "yshift": 15,
                "z": -0.5359
               },
               {
                "font": {
                 "color": "steelblue"
                },
                "showarrow": false,
                "text": "1.534",
                "x": 4.48745,
                "y": -0.2484,
                "yshift": 15,
                "z": 3.1942500000000003
               },
               {
                "font": {
                 "color": "steelblue"
                },
                "showarrow": false,
                "text": "1.534",
                "x": 3.33225,
                "y": -0.7699,
                "yshift": 15,
                "z": 3.23365
               },
               {
                "font": {
                 "color": "steelblue"
                },
                "showarrow": false,
                "text": "1.538",
                "x": 4.21965,
                "y": -1.2277,
                "yshift": 15,
                "z": 2.48485
               },
               {
                "font": {
                 "color": "steelblue"
                },
                "showarrow": false,
                "text": "1.572",
                "x": 3.72255,
                "y": -0.09195,
                "yshift": 15,
                "z": 2.21185
               },
               {
                "font": {
                 "color": "steelblue"
                },
                "showarrow": false,
                "text": 1.47,
                "x": 1.8657,
                "y": 0.51225,
                "yshift": 15,
                "z": 0.9995999999999999
               }
              ]
             }
            ],
            "label": "Element & Bond Lengths",
            "method": "relayout"
           },
           {
            "args": [
             {
              "scene.annotations": [
               {
                "showarrow": false,
                "text": 0,
                "x": -1.2518,
                "y": 0.8659,
                "yshift": 15,
                "z": -1.5621
               },
               {
                "showarrow": false,
                "text": 1,
                "x": 2.5349,
                "y": 0.4385,
                "yshift": 15,
                "z": 1.2951
               },
               {
                "showarrow": false,
                "text": 2,
                "x": 1.1965,
                "y": 0.586,
                "yshift": 15,
                "z": 0.7041
               },
               {
                "showarrow": false,
                "text": 3,
                "x": -1.1953,
                "y": -0.3994,
                "yshift": 15,
                "z": 0.8865
               },
               {
                "showarrow": false,
                "text": 4,
                "x": 0.2168,
                "y": -1.3718,
                "yshift": 15,
                "z": -0.6674
               },
               {
                "showarrow": false,
                "text": 5,
                "x": -0.4396,
                "y": 1.101,
                "yshift": 15,
                "z": -1.0718
               },
               {
                "showarrow": false,
                "text": 6,
                "x": 5.0459,
                "y": 0.0869,
                "yshift": 15,
                "z": 3.5995
               },
               {
                "showarrow": false,
                "text": 7,
                "x": 2.7355,
                "y": -0.9561,
                "yshift": 15,
                "z": 3.6783
               },
               {
                "showarrow": false,
                "text": 8,
                "x": 4.5103,
                "y": -1.8717,
                "yshift": 15,
                "z": 2.1807
               },
               {
                "showarrow": false,
                "text": 9,
                "x": 3.5161,
                "y": 0.3998,
                "yshift": 15,
                "z": 1.6347
               },
               {
                "showarrow": false,
                "text": 10,
                "x": 0,
                "y": 0,
                "yshift": 15,
                "z": 0
               },
               {
                "showarrow": false,
                "text": 11,
                "x": 3.929,
                "y": -0.5837,
                "yshift": 15,
                "z": 2.789
               }
              ]
             }
            ],
            "label": "Indices",
            "method": "relayout"
           },
           {
            "args": [
             {
              "scene.annotations": [
               {
                "showarrow": false,
                "text": 0,
                "x": -1.2518,
                "y": 0.8659,
                "yshift": 15,
                "z": -1.5621
               },
               {
                "showarrow": false,
                "text": 1,
                "x": 2.5349,
                "y": 0.4385,
                "yshift": 15,
                "z": 1.2951
               },
               {
                "showarrow": false,
                "text": 2,
                "x": 1.1965,
                "y": 0.586,
                "yshift": 15,
                "z": 0.7041
               },
               {
                "showarrow": false,
                "text": 3,
                "x": -1.1953,
                "y": -0.3994,
                "yshift": 15,
                "z": 0.8865
               },
               {
                "showarrow": false,
                "text": 4,
                "x": 0.2168,
                "y": -1.3718,
                "yshift": 15,
                "z": -0.6674
               },
               {
                "showarrow": false,
                "text": 5,
                "x": -0.4396,
                "y": 1.101,
                "yshift": 15,
                "z": -1.0718
               },
               {
                "showarrow": false,
                "text": 6,
                "x": 5.0459,
                "y": 0.0869,
                "yshift": 15,
                "z": 3.5995
               },
               {
                "showarrow": false,
                "text": 7,
                "x": 2.7355,
                "y": -0.9561,
                "yshift": 15,
                "z": 3.6783
               },
               {
                "showarrow": false,
                "text": 8,
                "x": 4.5103,
                "y": -1.8717,
                "yshift": 15,
                "z": 2.1807
               },
               {
                "showarrow": false,
                "text": 9,
                "x": 3.5161,
                "y": 0.3998,
                "yshift": 15,
                "z": 1.6347
               },
               {
                "showarrow": false,
                "text": 10,
                "x": 0,
                "y": 0,
                "yshift": 15,
                "z": 0
               },
               {
                "showarrow": false,
                "text": 11,
                "x": 3.929,
                "y": -0.5837,
                "yshift": 15,
                "z": 2.789
               },
               {
                "font": {
                 "color": "steelblue"
                },
                "showarrow": false,
                "text": "0.977",
                "x": -0.8457,
                "y": 0.9834499999999999,
                "yshift": 15,
                "z": -1.31695
               },
               {
                "font": {
                 "color": "steelblue"
                },
                "showarrow": false,
                "text": "1.039",
                "x": 3.0255,
                "y": 0.41915,
                "yshift": 15,
                "z": 1.4649
               },
               {
                "font": {
                 "color": "steelblue"
                },
                "showarrow": false,
                "text": "1.507",
                "x": 0.59825,
                "y": 0.293,
                "yshift": 15,
                "z": 0.35205
               },
               {
                "font": {
                 "color": "steelblue"
                },
                "showarrow": false,
                "text": "1.541",
                "x": -0.59765,
                "y": -0.1997,
                "yshift": 15,
                "z": 0.44325
               },
               {
                "font": {
                 "color": "steelblue"
                },
                "showarrow": false,
                "text": "1.541",
                "x": 0.1084,
                "y": -0.6859,
                "yshift": 15,
                "z": -0.3337
               },
               {
                "font": {
                 "color": "steelblue"
                },
                "showarrow": false,
                "text": "1.598",
                "x": -0.2198,
                "y": 0.5505,
                "yshift": 15,
                "z": -0.5359
               },
               {
                "font": {
                 "color": "steelblue"
                },
                "showarrow": false,
                "text": "1.534",
                "x": 4.48745,
                "y": -0.2484,
                "yshift": 15,
                "z": 3.1942500000000003
               },
               {
                "font": {
                 "color": "steelblue"
                },
                "showarrow": false,
                "text": "1.534",
                "x": 3.33225,
                "y": -0.7699,
                "yshift": 15,
                "z": 3.23365
               },
               {
                "font": {
                 "color": "steelblue"
                },
                "showarrow": false,
                "text": "1.538",
                "x": 4.21965,
                "y": -1.2277,
                "yshift": 15,
                "z": 2.48485
               },
               {
                "font": {
                 "color": "steelblue"
                },
                "showarrow": false,
                "text": "1.572",
                "x": 3.72255,
                "y": -0.09195,
                "yshift": 15,
                "z": 2.21185
               },
               {
                "font": {
                 "color": "steelblue"
                },
                "showarrow": false,
                "text": 1.47,
                "x": 1.8657,
                "y": 0.51225,
                "yshift": 15,
                "z": 0.9995999999999999
               }
              ]
             }
            ],
            "label": "Indices & Bond Lengths",
            "method": "relayout"
           },
           {
            "args": [
             {
              "scene.annotations": [
               {
                "font": {
                 "color": "steelblue"
                },
                "showarrow": false,
                "text": "0.977",
                "x": -0.8457,
                "y": 0.9834499999999999,
                "yshift": 15,
                "z": -1.31695
               },
               {
                "font": {
                 "color": "steelblue"
                },
                "showarrow": false,
                "text": "1.039",
                "x": 3.0255,
                "y": 0.41915,
                "yshift": 15,
                "z": 1.4649
               },
               {
                "font": {
                 "color": "steelblue"
                },
                "showarrow": false,
                "text": "1.507",
                "x": 0.59825,
                "y": 0.293,
                "yshift": 15,
                "z": 0.35205
               },
               {
                "font": {
                 "color": "steelblue"
                },
                "showarrow": false,
                "text": "1.541",
                "x": -0.59765,
                "y": -0.1997,
                "yshift": 15,
                "z": 0.44325
               },
               {
                "font": {
                 "color": "steelblue"
                },
                "showarrow": false,
                "text": "1.541",
                "x": 0.1084,
                "y": -0.6859,
                "yshift": 15,
                "z": -0.3337
               },
               {
                "font": {
                 "color": "steelblue"
                },
                "showarrow": false,
                "text": "1.598",
                "x": -0.2198,
                "y": 0.5505,
                "yshift": 15,
                "z": -0.5359
               },
               {
                "font": {
                 "color": "steelblue"
                },
                "showarrow": false,
                "text": "1.534",
                "x": 4.48745,
                "y": -0.2484,
                "yshift": 15,
                "z": 3.1942500000000003
               },
               {
                "font": {
                 "color": "steelblue"
                },
                "showarrow": false,
                "text": "1.534",
                "x": 3.33225,
                "y": -0.7699,
                "yshift": 15,
                "z": 3.23365
               },
               {
                "font": {
                 "color": "steelblue"
                },
                "showarrow": false,
                "text": "1.538",
                "x": 4.21965,
                "y": -1.2277,
                "yshift": 15,
                "z": 2.48485
               },
               {
                "font": {
                 "color": "steelblue"
                },
                "showarrow": false,
                "text": "1.572",
                "x": 3.72255,
                "y": -0.09195,
                "yshift": 15,
                "z": 2.21185
               },
               {
                "font": {
                 "color": "steelblue"
                },
                "showarrow": false,
                "text": 1.47,
                "x": 1.8657,
                "y": 0.51225,
                "yshift": 15,
                "z": 0.9995999999999999
               }
              ]
             }
            ],
            "label": "Bond Lengths",
            "method": "relayout"
           },
           {
            "args": [
             {}
            ],
            "label": "Hide All",
            "method": "relayout"
           }
          ],
          "direction": "down",
          "xanchor": "left",
          "yanchor": "top"
         }
        ]
       }
      },
      "text/html": [
       "<div>                            <div id=\"b6499226-8970-4285-8ceb-fb6956afeb94\" class=\"plotly-graph-div\" style=\"height:525px; width:100%;\"></div>            <script type=\"text/javascript\">                require([\"plotly\"], function(Plotly) {                    window.PLOTLYENV=window.PLOTLYENV || {};                                    if (document.getElementById(\"b6499226-8970-4285-8ceb-fb6956afeb94\")) {                    Plotly.newPlot(                        \"b6499226-8970-4285-8ceb-fb6956afeb94\",                        [{\"marker\": {\"color\": [\"white\", \"white\", \"red\", \"red\", \"red\", \"red\", \"red\", \"red\", \"red\", \"red\", \"orange\", \"orange\"], \"line\": {\"color\": \"lightgray\", \"width\": 2}, \"opacity\": 0.8, \"size\": [9.200000000000001, 9.200000000000001, 27.200000000000003, 27.200000000000003, 27.200000000000003, 27.200000000000003, 27.200000000000003, 27.200000000000003, 27.200000000000003, 27.200000000000003, 42.0, 42.0], \"symbol\": \"circle\"}, \"mode\": \"markers\", \"text\": [\"H1\", \"H2\", \"O1\", \"O2\", \"O3\", \"O4\", \"O5\", \"O6\", \"O7\", \"O8\", \"P1\", \"P2\"], \"type\": \"scatter3d\", \"x\": [-1.2518, 2.5349, 1.1965, -1.1953, 0.2168, -0.4396, 5.0459, 2.7355, 4.5103, 3.5161, 0.0, 3.929], \"y\": [0.8659, 0.4385, 0.586, -0.3994, -1.3718, 1.101, 0.0869, -0.9561, -1.8717, 0.3998, 0.0, -0.5837], \"z\": [-1.5621, 1.2951, 0.7041, 0.8865, -0.6674, -1.0718, 3.5995, 3.6783, 2.1807, 1.6347, 0.0, 2.789]}, {\"hoverinfo\": \"none\", \"marker\": {\"color\": \"gray\", \"opacity\": 0.1, \"size\": 3}, \"mode\": \"lines\", \"type\": \"scatter3d\", \"x\": [-1.2518, -0.4396, null, -0.4396, 0.0, null, -0.4396, -1.2518, null, 2.5349, 1.1965, null, 2.5349, 3.5161, null, 3.5161, 2.5349, null, 3.5161, 3.929, null, 1.1965, 2.5349, null, 1.1965, 0.0, null, 0.0, 1.1965, null, 0.0, 0.2168, null, 0.0, -0.4396, null, 0.0, -1.1953, null, -1.1953, 0.0, null, 0.2168, 0.0, null, 5.0459, 3.929, null, 3.929, 5.0459, null, 3.929, 2.7355, null, 3.929, 3.5161, null, 3.929, 4.5103, null, 2.7355, 3.929, null, 4.5103, 3.929, null], \"y\": [0.8659, 1.101, null, 1.101, 0.0, null, 1.101, 0.8659, null, 0.4385, 0.586, null, 0.4385, 0.3998, null, 0.3998, 0.4385, null, 0.3998, -0.5837, null, 0.586, 0.4385, null, 0.586, 0.0, null, 0.0, 0.586, null, 0.0, -1.3718, null, 0.0, 1.101, null, 0.0, -0.3994, null, -0.3994, 0.0, null, -1.3718, 0.0, null, 0.0869, -0.5837, null, -0.5837, 0.0869, null, -0.5837, -0.9561, null, -0.5837, 0.3998, null, -0.5837, -1.8717, null, -0.9561, -0.5837, null, -1.8717, -0.5837, null], \"z\": [-1.5621, -1.0718, null, -1.0718, 0.0, null, -1.0718, -1.5621, null, 1.2951, 0.7041, null, 1.2951, 1.6347, null, 1.6347, 1.2951, null, 1.6347, 2.789, null, 0.7041, 1.2951, null, 0.7041, 0.0, null, 0.0, 0.7041, null, 0.0, -0.6674, null, 0.0, -1.0718, null, 0.0, 0.8865, null, 0.8865, 0.0, null, -0.6674, 0.0, null, 3.5995, 2.789, null, 2.789, 3.5995, null, 2.789, 3.6783, null, 2.789, 1.6347, null, 2.789, 2.1807, null, 3.6783, 2.789, null, 2.1807, 2.789, null]}],                        {\"margin\": {\"b\": 0, \"l\": 0, \"r\": 0, \"t\": 0}, \"scene\": {\"annotations\": [{\"showarrow\": false, \"text\": \"H1\", \"x\": -1.2518, \"y\": 0.8659, \"yshift\": 15, \"z\": -1.5621}, {\"showarrow\": false, \"text\": \"H2\", \"x\": 2.5349, \"y\": 0.4385, \"yshift\": 15, \"z\": 1.2951}, {\"showarrow\": false, \"text\": \"O1\", \"x\": 1.1965, \"y\": 0.586, \"yshift\": 15, \"z\": 0.7041}, {\"showarrow\": false, \"text\": \"O2\", \"x\": -1.1953, \"y\": -0.3994, \"yshift\": 15, \"z\": 0.8865}, {\"showarrow\": false, \"text\": \"O3\", \"x\": 0.2168, \"y\": -1.3718, \"yshift\": 15, \"z\": -0.6674}, {\"showarrow\": false, \"text\": \"O4\", \"x\": -0.4396, \"y\": 1.101, \"yshift\": 15, \"z\": -1.0718}, {\"showarrow\": false, \"text\": \"O5\", \"x\": 5.0459, \"y\": 0.0869, \"yshift\": 15, \"z\": 3.5995}, {\"showarrow\": false, \"text\": \"O6\", \"x\": 2.7355, \"y\": -0.9561, \"yshift\": 15, \"z\": 3.6783}, {\"showarrow\": false, \"text\": \"O7\", \"x\": 4.5103, \"y\": -1.8717, \"yshift\": 15, \"z\": 2.1807}, {\"showarrow\": false, \"text\": \"O8\", \"x\": 3.5161, \"y\": 0.3998, \"yshift\": 15, \"z\": 1.6347}, {\"showarrow\": false, \"text\": \"P1\", \"x\": 0.0, \"y\": 0.0, \"yshift\": 15, \"z\": 0.0}, {\"showarrow\": false, \"text\": \"P2\", \"x\": 3.929, \"y\": -0.5837, \"yshift\": 15, \"z\": 2.789}], \"xaxis\": {\"showbackground\": true, \"showgrid\": true, \"showticklabels\": true, \"title\": {\"font\": {\"color\": \"white\"}}, \"zeroline\": true}, \"yaxis\": {\"showbackground\": true, \"showgrid\": true, \"showticklabels\": true, \"title\": {\"font\": {\"color\": \"white\"}}, \"zeroline\": true}, \"zaxis\": {\"showbackground\": true, \"showgrid\": true, \"showticklabels\": true, \"title\": {\"font\": {\"color\": \"white\"}}, \"zeroline\": true}}, \"showlegend\": false, \"template\": {\"data\": {\"bar\": [{\"error_x\": {\"color\": \"#2a3f5f\"}, \"error_y\": {\"color\": \"#2a3f5f\"}, \"marker\": {\"line\": {\"color\": \"#E5ECF6\", \"width\": 0.5}}, \"type\": \"bar\"}], \"barpolar\": [{\"marker\": {\"line\": {\"color\": \"#E5ECF6\", \"width\": 0.5}}, \"type\": \"barpolar\"}], \"carpet\": [{\"aaxis\": {\"endlinecolor\": \"#2a3f5f\", \"gridcolor\": \"white\", \"linecolor\": \"white\", \"minorgridcolor\": \"white\", \"startlinecolor\": \"#2a3f5f\"}, \"baxis\": {\"endlinecolor\": \"#2a3f5f\", \"gridcolor\": \"white\", \"linecolor\": \"white\", \"minorgridcolor\": \"white\", \"startlinecolor\": \"#2a3f5f\"}, \"type\": \"carpet\"}], \"choropleth\": [{\"colorbar\": {\"outlinewidth\": 0, \"ticks\": \"\"}, \"type\": \"choropleth\"}], \"contour\": [{\"colorbar\": {\"outlinewidth\": 0, \"ticks\": \"\"}, \"colorscale\": [[0.0, \"#0d0887\"], [0.1111111111111111, \"#46039f\"], [0.2222222222222222, \"#7201a8\"], [0.3333333333333333, \"#9c179e\"], [0.4444444444444444, \"#bd3786\"], [0.5555555555555556, \"#d8576b\"], [0.6666666666666666, \"#ed7953\"], [0.7777777777777778, \"#fb9f3a\"], [0.8888888888888888, \"#fdca26\"], [1.0, \"#f0f921\"]], \"type\": \"contour\"}], \"contourcarpet\": [{\"colorbar\": {\"outlinewidth\": 0, \"ticks\": \"\"}, \"type\": \"contourcarpet\"}], \"heatmap\": [{\"colorbar\": {\"outlinewidth\": 0, \"ticks\": \"\"}, \"colorscale\": [[0.0, \"#0d0887\"], [0.1111111111111111, \"#46039f\"], [0.2222222222222222, \"#7201a8\"], [0.3333333333333333, \"#9c179e\"], [0.4444444444444444, \"#bd3786\"], [0.5555555555555556, \"#d8576b\"], [0.6666666666666666, \"#ed7953\"], [0.7777777777777778, \"#fb9f3a\"], [0.8888888888888888, \"#fdca26\"], [1.0, \"#f0f921\"]], \"type\": \"heatmap\"}], \"heatmapgl\": [{\"colorbar\": {\"outlinewidth\": 0, \"ticks\": \"\"}, \"colorscale\": [[0.0, \"#0d0887\"], [0.1111111111111111, \"#46039f\"], [0.2222222222222222, \"#7201a8\"], [0.3333333333333333, \"#9c179e\"], [0.4444444444444444, \"#bd3786\"], [0.5555555555555556, \"#d8576b\"], [0.6666666666666666, \"#ed7953\"], [0.7777777777777778, \"#fb9f3a\"], [0.8888888888888888, \"#fdca26\"], [1.0, \"#f0f921\"]], \"type\": \"heatmapgl\"}], \"histogram\": [{\"marker\": {\"colorbar\": {\"outlinewidth\": 0, \"ticks\": \"\"}}, \"type\": \"histogram\"}], \"histogram2d\": [{\"colorbar\": {\"outlinewidth\": 0, \"ticks\": \"\"}, \"colorscale\": [[0.0, \"#0d0887\"], [0.1111111111111111, \"#46039f\"], [0.2222222222222222, \"#7201a8\"], [0.3333333333333333, \"#9c179e\"], [0.4444444444444444, \"#bd3786\"], [0.5555555555555556, \"#d8576b\"], [0.6666666666666666, \"#ed7953\"], [0.7777777777777778, \"#fb9f3a\"], [0.8888888888888888, \"#fdca26\"], [1.0, \"#f0f921\"]], \"type\": \"histogram2d\"}], \"histogram2dcontour\": [{\"colorbar\": {\"outlinewidth\": 0, \"ticks\": \"\"}, \"colorscale\": [[0.0, \"#0d0887\"], [0.1111111111111111, \"#46039f\"], [0.2222222222222222, \"#7201a8\"], [0.3333333333333333, \"#9c179e\"], [0.4444444444444444, \"#bd3786\"], [0.5555555555555556, \"#d8576b\"], [0.6666666666666666, \"#ed7953\"], [0.7777777777777778, \"#fb9f3a\"], [0.8888888888888888, \"#fdca26\"], [1.0, \"#f0f921\"]], \"type\": \"histogram2dcontour\"}], \"mesh3d\": [{\"colorbar\": {\"outlinewidth\": 0, \"ticks\": \"\"}, \"type\": \"mesh3d\"}], \"parcoords\": [{\"line\": {\"colorbar\": {\"outlinewidth\": 0, \"ticks\": \"\"}}, \"type\": \"parcoords\"}], \"pie\": [{\"automargin\": true, \"type\": \"pie\"}], \"scatter\": [{\"marker\": {\"colorbar\": {\"outlinewidth\": 0, \"ticks\": \"\"}}, \"type\": \"scatter\"}], \"scatter3d\": [{\"line\": {\"colorbar\": {\"outlinewidth\": 0, \"ticks\": \"\"}}, \"marker\": {\"colorbar\": {\"outlinewidth\": 0, \"ticks\": \"\"}}, \"type\": \"scatter3d\"}], \"scattercarpet\": [{\"marker\": {\"colorbar\": {\"outlinewidth\": 0, \"ticks\": \"\"}}, \"type\": \"scattercarpet\"}], \"scattergeo\": [{\"marker\": {\"colorbar\": {\"outlinewidth\": 0, \"ticks\": \"\"}}, \"type\": \"scattergeo\"}], \"scattergl\": [{\"marker\": {\"colorbar\": {\"outlinewidth\": 0, \"ticks\": \"\"}}, \"type\": \"scattergl\"}], \"scattermapbox\": [{\"marker\": {\"colorbar\": {\"outlinewidth\": 0, \"ticks\": \"\"}}, \"type\": \"scattermapbox\"}], \"scatterpolar\": [{\"marker\": {\"colorbar\": {\"outlinewidth\": 0, \"ticks\": \"\"}}, \"type\": \"scatterpolar\"}], \"scatterpolargl\": [{\"marker\": {\"colorbar\": {\"outlinewidth\": 0, \"ticks\": \"\"}}, \"type\": \"scatterpolargl\"}], \"scatterternary\": [{\"marker\": {\"colorbar\": {\"outlinewidth\": 0, \"ticks\": \"\"}}, \"type\": \"scatterternary\"}], \"surface\": [{\"colorbar\": {\"outlinewidth\": 0, \"ticks\": \"\"}, \"colorscale\": [[0.0, \"#0d0887\"], [0.1111111111111111, \"#46039f\"], [0.2222222222222222, \"#7201a8\"], [0.3333333333333333, \"#9c179e\"], [0.4444444444444444, \"#bd3786\"], [0.5555555555555556, \"#d8576b\"], [0.6666666666666666, \"#ed7953\"], [0.7777777777777778, \"#fb9f3a\"], [0.8888888888888888, \"#fdca26\"], [1.0, \"#f0f921\"]], \"type\": \"surface\"}], \"table\": [{\"cells\": {\"fill\": {\"color\": \"#EBF0F8\"}, \"line\": {\"color\": \"white\"}}, \"header\": {\"fill\": {\"color\": \"#C8D4E3\"}, \"line\": {\"color\": \"white\"}}, \"type\": \"table\"}]}, \"layout\": {\"annotationdefaults\": {\"arrowcolor\": \"#2a3f5f\", \"arrowhead\": 0, \"arrowwidth\": 1}, \"coloraxis\": {\"colorbar\": {\"outlinewidth\": 0, \"ticks\": \"\"}}, \"colorscale\": {\"diverging\": [[0, \"#8e0152\"], [0.1, \"#c51b7d\"], [0.2, \"#de77ae\"], [0.3, \"#f1b6da\"], [0.4, \"#fde0ef\"], [0.5, \"#f7f7f7\"], [0.6, \"#e6f5d0\"], [0.7, \"#b8e186\"], [0.8, \"#7fbc41\"], [0.9, \"#4d9221\"], [1, \"#276419\"]], \"sequential\": [[0.0, \"#0d0887\"], [0.1111111111111111, \"#46039f\"], [0.2222222222222222, \"#7201a8\"], [0.3333333333333333, \"#9c179e\"], [0.4444444444444444, \"#bd3786\"], [0.5555555555555556, \"#d8576b\"], [0.6666666666666666, \"#ed7953\"], [0.7777777777777778, \"#fb9f3a\"], [0.8888888888888888, \"#fdca26\"], [1.0, \"#f0f921\"]], \"sequentialminus\": [[0.0, \"#0d0887\"], [0.1111111111111111, \"#46039f\"], [0.2222222222222222, \"#7201a8\"], [0.3333333333333333, \"#9c179e\"], [0.4444444444444444, \"#bd3786\"], [0.5555555555555556, \"#d8576b\"], [0.6666666666666666, \"#ed7953\"], [0.7777777777777778, \"#fb9f3a\"], [0.8888888888888888, \"#fdca26\"], [1.0, \"#f0f921\"]]}, \"colorway\": [\"#636efa\", \"#EF553B\", \"#00cc96\", \"#ab63fa\", \"#FFA15A\", \"#19d3f3\", \"#FF6692\", \"#B6E880\", \"#FF97FF\", \"#FECB52\"], \"font\": {\"color\": \"#2a3f5f\"}, \"geo\": {\"bgcolor\": \"white\", \"lakecolor\": \"white\", \"landcolor\": \"#E5ECF6\", \"showlakes\": true, \"showland\": true, \"subunitcolor\": \"white\"}, \"hoverlabel\": {\"align\": \"left\"}, \"hovermode\": \"closest\", \"mapbox\": {\"style\": \"light\"}, \"paper_bgcolor\": \"white\", \"plot_bgcolor\": \"#E5ECF6\", \"polar\": {\"angularaxis\": {\"gridcolor\": \"white\", \"linecolor\": \"white\", \"ticks\": \"\"}, \"bgcolor\": \"#E5ECF6\", \"radialaxis\": {\"gridcolor\": \"white\", \"linecolor\": \"white\", \"ticks\": \"\"}}, \"scene\": {\"xaxis\": {\"backgroundcolor\": \"#E5ECF6\", \"gridcolor\": \"white\", \"gridwidth\": 2, \"linecolor\": \"white\", \"showbackground\": true, \"ticks\": \"\", \"zerolinecolor\": \"white\"}, \"yaxis\": {\"backgroundcolor\": \"#E5ECF6\", \"gridcolor\": \"white\", \"gridwidth\": 2, \"linecolor\": \"white\", \"showbackground\": true, \"ticks\": \"\", \"zerolinecolor\": \"white\"}, \"zaxis\": {\"backgroundcolor\": \"#E5ECF6\", \"gridcolor\": \"white\", \"gridwidth\": 2, \"linecolor\": \"white\", \"showbackground\": true, \"ticks\": \"\", \"zerolinecolor\": \"white\"}}, \"shapedefaults\": {\"line\": {\"color\": \"#2a3f5f\"}}, \"ternary\": {\"aaxis\": {\"gridcolor\": \"white\", \"linecolor\": \"white\", \"ticks\": \"\"}, \"baxis\": {\"gridcolor\": \"white\", \"linecolor\": \"white\", \"ticks\": \"\"}, \"bgcolor\": \"#E5ECF6\", \"caxis\": {\"gridcolor\": \"white\", \"linecolor\": \"white\", \"ticks\": \"\"}}, \"title\": {\"x\": 0.05}, \"xaxis\": {\"automargin\": true, \"gridcolor\": \"white\", \"linecolor\": \"white\", \"ticks\": \"\", \"title\": {\"standoff\": 15}, \"zerolinecolor\": \"white\", \"zerolinewidth\": 2}, \"yaxis\": {\"automargin\": true, \"gridcolor\": \"white\", \"linecolor\": \"white\", \"ticks\": \"\", \"title\": {\"standoff\": 15}, \"zerolinecolor\": \"white\", \"zerolinewidth\": 2}}}, \"updatemenus\": [{\"buttons\": [{\"args\": [{\"scene.annotations\": [{\"showarrow\": false, \"text\": \"H1\", \"x\": -1.2518, \"y\": 0.8659, \"yshift\": 15, \"z\": -1.5621}, {\"showarrow\": false, \"text\": \"H2\", \"x\": 2.5349, \"y\": 0.4385, \"yshift\": 15, \"z\": 1.2951}, {\"showarrow\": false, \"text\": \"O1\", \"x\": 1.1965, \"y\": 0.586, \"yshift\": 15, \"z\": 0.7041}, {\"showarrow\": false, \"text\": \"O2\", \"x\": -1.1953, \"y\": -0.3994, \"yshift\": 15, \"z\": 0.8865}, {\"showarrow\": false, \"text\": \"O3\", \"x\": 0.2168, \"y\": -1.3718, \"yshift\": 15, \"z\": -0.6674}, {\"showarrow\": false, \"text\": \"O4\", \"x\": -0.4396, \"y\": 1.101, \"yshift\": 15, \"z\": -1.0718}, {\"showarrow\": false, \"text\": \"O5\", \"x\": 5.0459, \"y\": 0.0869, \"yshift\": 15, \"z\": 3.5995}, {\"showarrow\": false, \"text\": \"O6\", \"x\": 2.7355, \"y\": -0.9561, \"yshift\": 15, \"z\": 3.6783}, {\"showarrow\": false, \"text\": \"O7\", \"x\": 4.5103, \"y\": -1.8717, \"yshift\": 15, \"z\": 2.1807}, {\"showarrow\": false, \"text\": \"O8\", \"x\": 3.5161, \"y\": 0.3998, \"yshift\": 15, \"z\": 1.6347}, {\"showarrow\": false, \"text\": \"P1\", \"x\": 0.0, \"y\": 0.0, \"yshift\": 15, \"z\": 0.0}, {\"showarrow\": false, \"text\": \"P2\", \"x\": 3.929, \"y\": -0.5837, \"yshift\": 15, \"z\": 2.789}]}], \"label\": \"Elements\", \"method\": \"relayout\"}, {\"args\": [{\"scene.annotations\": [{\"showarrow\": false, \"text\": \"H1\", \"x\": -1.2518, \"y\": 0.8659, \"yshift\": 15, \"z\": -1.5621}, {\"showarrow\": false, \"text\": \"H2\", \"x\": 2.5349, \"y\": 0.4385, \"yshift\": 15, \"z\": 1.2951}, {\"showarrow\": false, \"text\": \"O1\", \"x\": 1.1965, \"y\": 0.586, \"yshift\": 15, \"z\": 0.7041}, {\"showarrow\": false, \"text\": \"O2\", \"x\": -1.1953, \"y\": -0.3994, \"yshift\": 15, \"z\": 0.8865}, {\"showarrow\": false, \"text\": \"O3\", \"x\": 0.2168, \"y\": -1.3718, \"yshift\": 15, \"z\": -0.6674}, {\"showarrow\": false, \"text\": \"O4\", \"x\": -0.4396, \"y\": 1.101, \"yshift\": 15, \"z\": -1.0718}, {\"showarrow\": false, \"text\": \"O5\", \"x\": 5.0459, \"y\": 0.0869, \"yshift\": 15, \"z\": 3.5995}, {\"showarrow\": false, \"text\": \"O6\", \"x\": 2.7355, \"y\": -0.9561, \"yshift\": 15, \"z\": 3.6783}, {\"showarrow\": false, \"text\": \"O7\", \"x\": 4.5103, \"y\": -1.8717, \"yshift\": 15, \"z\": 2.1807}, {\"showarrow\": false, \"text\": \"O8\", \"x\": 3.5161, \"y\": 0.3998, \"yshift\": 15, \"z\": 1.6347}, {\"showarrow\": false, \"text\": \"P1\", \"x\": 0.0, \"y\": 0.0, \"yshift\": 15, \"z\": 0.0}, {\"showarrow\": false, \"text\": \"P2\", \"x\": 3.929, \"y\": -0.5837, \"yshift\": 15, \"z\": 2.789}, {\"font\": {\"color\": \"steelblue\"}, \"showarrow\": false, \"text\": \"0.977\", \"x\": -0.8457, \"y\": 0.9834499999999999, \"yshift\": 15, \"z\": -1.31695}, {\"font\": {\"color\": \"steelblue\"}, \"showarrow\": false, \"text\": \"1.039\", \"x\": 3.0255, \"y\": 0.41915, \"yshift\": 15, \"z\": 1.4649}, {\"font\": {\"color\": \"steelblue\"}, \"showarrow\": false, \"text\": \"1.507\", \"x\": 0.59825, \"y\": 0.293, \"yshift\": 15, \"z\": 0.35205}, {\"font\": {\"color\": \"steelblue\"}, \"showarrow\": false, \"text\": \"1.541\", \"x\": -0.59765, \"y\": -0.1997, \"yshift\": 15, \"z\": 0.44325}, {\"font\": {\"color\": \"steelblue\"}, \"showarrow\": false, \"text\": \"1.541\", \"x\": 0.1084, \"y\": -0.6859, \"yshift\": 15, \"z\": -0.3337}, {\"font\": {\"color\": \"steelblue\"}, \"showarrow\": false, \"text\": \"1.598\", \"x\": -0.2198, \"y\": 0.5505, \"yshift\": 15, \"z\": -0.5359}, {\"font\": {\"color\": \"steelblue\"}, \"showarrow\": false, \"text\": \"1.534\", \"x\": 4.48745, \"y\": -0.2484, \"yshift\": 15, \"z\": 3.1942500000000003}, {\"font\": {\"color\": \"steelblue\"}, \"showarrow\": false, \"text\": \"1.534\", \"x\": 3.33225, \"y\": -0.7699, \"yshift\": 15, \"z\": 3.23365}, {\"font\": {\"color\": \"steelblue\"}, \"showarrow\": false, \"text\": \"1.538\", \"x\": 4.21965, \"y\": -1.2277, \"yshift\": 15, \"z\": 2.48485}, {\"font\": {\"color\": \"steelblue\"}, \"showarrow\": false, \"text\": \"1.572\", \"x\": 3.72255, \"y\": -0.09195, \"yshift\": 15, \"z\": 2.21185}, {\"font\": {\"color\": \"steelblue\"}, \"showarrow\": false, \"text\": 1.47, \"x\": 1.8657, \"y\": 0.51225, \"yshift\": 15, \"z\": 0.9995999999999999}]}], \"label\": \"Element & Bond Lengths\", \"method\": \"relayout\"}, {\"args\": [{\"scene.annotations\": [{\"showarrow\": false, \"text\": 0, \"x\": -1.2518, \"y\": 0.8659, \"yshift\": 15, \"z\": -1.5621}, {\"showarrow\": false, \"text\": 1, \"x\": 2.5349, \"y\": 0.4385, \"yshift\": 15, \"z\": 1.2951}, {\"showarrow\": false, \"text\": 2, \"x\": 1.1965, \"y\": 0.586, \"yshift\": 15, \"z\": 0.7041}, {\"showarrow\": false, \"text\": 3, \"x\": -1.1953, \"y\": -0.3994, \"yshift\": 15, \"z\": 0.8865}, {\"showarrow\": false, \"text\": 4, \"x\": 0.2168, \"y\": -1.3718, \"yshift\": 15, \"z\": -0.6674}, {\"showarrow\": false, \"text\": 5, \"x\": -0.4396, \"y\": 1.101, \"yshift\": 15, \"z\": -1.0718}, {\"showarrow\": false, \"text\": 6, \"x\": 5.0459, \"y\": 0.0869, \"yshift\": 15, \"z\": 3.5995}, {\"showarrow\": false, \"text\": 7, \"x\": 2.7355, \"y\": -0.9561, \"yshift\": 15, \"z\": 3.6783}, {\"showarrow\": false, \"text\": 8, \"x\": 4.5103, \"y\": -1.8717, \"yshift\": 15, \"z\": 2.1807}, {\"showarrow\": false, \"text\": 9, \"x\": 3.5161, \"y\": 0.3998, \"yshift\": 15, \"z\": 1.6347}, {\"showarrow\": false, \"text\": 10, \"x\": 0.0, \"y\": 0.0, \"yshift\": 15, \"z\": 0.0}, {\"showarrow\": false, \"text\": 11, \"x\": 3.929, \"y\": -0.5837, \"yshift\": 15, \"z\": 2.789}]}], \"label\": \"Indices\", \"method\": \"relayout\"}, {\"args\": [{\"scene.annotations\": [{\"showarrow\": false, \"text\": 0, \"x\": -1.2518, \"y\": 0.8659, \"yshift\": 15, \"z\": -1.5621}, {\"showarrow\": false, \"text\": 1, \"x\": 2.5349, \"y\": 0.4385, \"yshift\": 15, \"z\": 1.2951}, {\"showarrow\": false, \"text\": 2, \"x\": 1.1965, \"y\": 0.586, \"yshift\": 15, \"z\": 0.7041}, {\"showarrow\": false, \"text\": 3, \"x\": -1.1953, \"y\": -0.3994, \"yshift\": 15, \"z\": 0.8865}, {\"showarrow\": false, \"text\": 4, \"x\": 0.2168, \"y\": -1.3718, \"yshift\": 15, \"z\": -0.6674}, {\"showarrow\": false, \"text\": 5, \"x\": -0.4396, \"y\": 1.101, \"yshift\": 15, \"z\": -1.0718}, {\"showarrow\": false, \"text\": 6, \"x\": 5.0459, \"y\": 0.0869, \"yshift\": 15, \"z\": 3.5995}, {\"showarrow\": false, \"text\": 7, \"x\": 2.7355, \"y\": -0.9561, \"yshift\": 15, \"z\": 3.6783}, {\"showarrow\": false, \"text\": 8, \"x\": 4.5103, \"y\": -1.8717, \"yshift\": 15, \"z\": 2.1807}, {\"showarrow\": false, \"text\": 9, \"x\": 3.5161, \"y\": 0.3998, \"yshift\": 15, \"z\": 1.6347}, {\"showarrow\": false, \"text\": 10, \"x\": 0.0, \"y\": 0.0, \"yshift\": 15, \"z\": 0.0}, {\"showarrow\": false, \"text\": 11, \"x\": 3.929, \"y\": -0.5837, \"yshift\": 15, \"z\": 2.789}, {\"font\": {\"color\": \"steelblue\"}, \"showarrow\": false, \"text\": \"0.977\", \"x\": -0.8457, \"y\": 0.9834499999999999, \"yshift\": 15, \"z\": -1.31695}, {\"font\": {\"color\": \"steelblue\"}, \"showarrow\": false, \"text\": \"1.039\", \"x\": 3.0255, \"y\": 0.41915, \"yshift\": 15, \"z\": 1.4649}, {\"font\": {\"color\": \"steelblue\"}, \"showarrow\": false, \"text\": \"1.507\", \"x\": 0.59825, \"y\": 0.293, \"yshift\": 15, \"z\": 0.35205}, {\"font\": {\"color\": \"steelblue\"}, \"showarrow\": false, \"text\": \"1.541\", \"x\": -0.59765, \"y\": -0.1997, \"yshift\": 15, \"z\": 0.44325}, {\"font\": {\"color\": \"steelblue\"}, \"showarrow\": false, \"text\": \"1.541\", \"x\": 0.1084, \"y\": -0.6859, \"yshift\": 15, \"z\": -0.3337}, {\"font\": {\"color\": \"steelblue\"}, \"showarrow\": false, \"text\": \"1.598\", \"x\": -0.2198, \"y\": 0.5505, \"yshift\": 15, \"z\": -0.5359}, {\"font\": {\"color\": \"steelblue\"}, \"showarrow\": false, \"text\": \"1.534\", \"x\": 4.48745, \"y\": -0.2484, \"yshift\": 15, \"z\": 3.1942500000000003}, {\"font\": {\"color\": \"steelblue\"}, \"showarrow\": false, \"text\": \"1.534\", \"x\": 3.33225, \"y\": -0.7699, \"yshift\": 15, \"z\": 3.23365}, {\"font\": {\"color\": \"steelblue\"}, \"showarrow\": false, \"text\": \"1.538\", \"x\": 4.21965, \"y\": -1.2277, \"yshift\": 15, \"z\": 2.48485}, {\"font\": {\"color\": \"steelblue\"}, \"showarrow\": false, \"text\": \"1.572\", \"x\": 3.72255, \"y\": -0.09195, \"yshift\": 15, \"z\": 2.21185}, {\"font\": {\"color\": \"steelblue\"}, \"showarrow\": false, \"text\": 1.47, \"x\": 1.8657, \"y\": 0.51225, \"yshift\": 15, \"z\": 0.9995999999999999}]}], \"label\": \"Indices & Bond Lengths\", \"method\": \"relayout\"}, {\"args\": [{\"scene.annotations\": [{\"font\": {\"color\": \"steelblue\"}, \"showarrow\": false, \"text\": \"0.977\", \"x\": -0.8457, \"y\": 0.9834499999999999, \"yshift\": 15, \"z\": -1.31695}, {\"font\": {\"color\": \"steelblue\"}, \"showarrow\": false, \"text\": \"1.039\", \"x\": 3.0255, \"y\": 0.41915, \"yshift\": 15, \"z\": 1.4649}, {\"font\": {\"color\": \"steelblue\"}, \"showarrow\": false, \"text\": \"1.507\", \"x\": 0.59825, \"y\": 0.293, \"yshift\": 15, \"z\": 0.35205}, {\"font\": {\"color\": \"steelblue\"}, \"showarrow\": false, \"text\": \"1.541\", \"x\": -0.59765, \"y\": -0.1997, \"yshift\": 15, \"z\": 0.44325}, {\"font\": {\"color\": \"steelblue\"}, \"showarrow\": false, \"text\": \"1.541\", \"x\": 0.1084, \"y\": -0.6859, \"yshift\": 15, \"z\": -0.3337}, {\"font\": {\"color\": \"steelblue\"}, \"showarrow\": false, \"text\": \"1.598\", \"x\": -0.2198, \"y\": 0.5505, \"yshift\": 15, \"z\": -0.5359}, {\"font\": {\"color\": \"steelblue\"}, \"showarrow\": false, \"text\": \"1.534\", \"x\": 4.48745, \"y\": -0.2484, \"yshift\": 15, \"z\": 3.1942500000000003}, {\"font\": {\"color\": \"steelblue\"}, \"showarrow\": false, \"text\": \"1.534\", \"x\": 3.33225, \"y\": -0.7699, \"yshift\": 15, \"z\": 3.23365}, {\"font\": {\"color\": \"steelblue\"}, \"showarrow\": false, \"text\": \"1.538\", \"x\": 4.21965, \"y\": -1.2277, \"yshift\": 15, \"z\": 2.48485}, {\"font\": {\"color\": \"steelblue\"}, \"showarrow\": false, \"text\": \"1.572\", \"x\": 3.72255, \"y\": -0.09195, \"yshift\": 15, \"z\": 2.21185}, {\"font\": {\"color\": \"steelblue\"}, \"showarrow\": false, \"text\": 1.47, \"x\": 1.8657, \"y\": 0.51225, \"yshift\": 15, \"z\": 0.9995999999999999}]}], \"label\": \"Bond Lengths\", \"method\": \"relayout\"}, {\"args\": [{}], \"label\": \"Hide All\", \"method\": \"relayout\"}], \"direction\": \"down\", \"xanchor\": \"left\", \"yanchor\": \"top\"}]},                        {\"responsive\": true}                    ).then(function(){\n",
       "                            \n",
       "var gd = document.getElementById('b6499226-8970-4285-8ceb-fb6956afeb94');\n",
       "var x = new MutationObserver(function (mutations, observer) {{\n",
       "        var display = window.getComputedStyle(gd).display;\n",
       "        if (!display || display === 'none') {{\n",
       "            console.log([gd, 'removed!']);\n",
       "            Plotly.purge(gd);\n",
       "            observer.disconnect();\n",
       "        }}\n",
       "}});\n",
       "\n",
       "// Listen for the removal of the full notebook cells\n",
       "var notebookContainer = gd.closest('#notebook-container');\n",
       "if (notebookContainer) {{\n",
       "    x.observe(notebookContainer, {childList: true});\n",
       "}}\n",
       "\n",
       "// Listen for the clearing of the current output cell\n",
       "var outputEl = gd.closest('.output');\n",
       "if (outputEl) {{\n",
       "    x.observe(outputEl, {childList: true});\n",
       "}}\n",
       "\n",
       "                        })                };                });            </script>        </div>"
      ]
     },
     "metadata": {},
     "output_type": "display_data"
    },
    {
     "data": {
      "application/vnd.plotly.v1+json": {
       "config": {
        "linkText": "Export to plot.ly",
        "plotlyServerURL": "https://plot.ly",
        "showLink": false
       },
       "data": [
        {
         "marker": {
          "color": [
           "red",
           "red",
           "red",
           "red",
           "orange",
           "white",
           "orange",
           "red",
           "red",
           "red",
           "red",
           "white"
          ],
          "line": {
           "color": "lightgray",
           "width": 2
          },
          "opacity": 0.8,
          "size": [
           27.200000000000003,
           27.200000000000003,
           27.200000000000003,
           27.200000000000003,
           42,
           9.200000000000001,
           42,
           27.200000000000003,
           27.200000000000003,
           27.200000000000003,
           27.200000000000003,
           9.200000000000001
          ],
          "symbol": "circle"
         },
         "mode": "markers",
         "text": [
          "O1",
          "O2",
          "O3",
          "O4",
          "P5",
          "H6",
          "P7",
          "O8",
          "O9",
          "O10",
          "O11",
          "H12"
         ],
         "type": "scatter3d",
         "x": [
          1.2442,
          -1.2773,
          0.4711,
          -0.3603,
          0,
          -1.2845,
          4.1608,
          5.3773,
          2.8727,
          4.6675,
          3.8385,
          2.9252
         ],
         "y": [
          0.4899,
          -0.3827,
          -1.3736,
          1.0746,
          0,
          1.0454,
          -0.5382,
          -0.0449,
          -0.9593,
          -1.8863,
          0.5694,
          0.5279
         ],
         "z": [
          0.7162,
          0.7611,
          -0.5,
          -1.1014,
          0,
          -1.3882,
          2.8999,
          3.6944,
          3.6129,
          2.3846,
          1.8253,
          1.4771
         ]
        },
        {
         "hoverinfo": "none",
         "marker": {
          "color": "gray",
          "opacity": 0.1,
          "size": 3
         },
         "mode": "lines",
         "type": "scatter3d",
         "x": [
          1.2442,
          2.9252,
          null,
          1.2442,
          0,
          null,
          0,
          1.2442,
          null,
          0,
          0.4711,
          null,
          0,
          -0.3603,
          null,
          0,
          -1.2773,
          null,
          -1.2773,
          0,
          null,
          0.4711,
          0,
          null,
          -0.3603,
          -1.2845,
          null,
          -0.3603,
          0,
          null,
          -1.2845,
          -0.3603,
          null,
          4.1608,
          4.6675,
          null,
          4.1608,
          3.8385,
          null,
          4.1608,
          5.3773,
          null,
          4.1608,
          2.8727,
          null,
          5.3773,
          4.1608,
          null,
          2.8727,
          4.1608,
          null,
          4.6675,
          4.1608,
          null,
          3.8385,
          2.9252,
          null,
          3.8385,
          4.1608,
          null,
          2.9252,
          1.2442,
          null,
          2.9252,
          3.8385,
          null
         ],
         "y": [
          0.4899,
          0.5279,
          null,
          0.4899,
          0,
          null,
          0,
          0.4899,
          null,
          0,
          -1.3736,
          null,
          0,
          1.0746,
          null,
          0,
          -0.3827,
          null,
          -0.3827,
          0,
          null,
          -1.3736,
          0,
          null,
          1.0746,
          1.0454,
          null,
          1.0746,
          0,
          null,
          1.0454,
          1.0746,
          null,
          -0.5382,
          -1.8863,
          null,
          -0.5382,
          0.5694,
          null,
          -0.5382,
          -0.0449,
          null,
          -0.5382,
          -0.9593,
          null,
          -0.0449,
          -0.5382,
          null,
          -0.9593,
          -0.5382,
          null,
          -1.8863,
          -0.5382,
          null,
          0.5694,
          0.5279,
          null,
          0.5694,
          -0.5382,
          null,
          0.5279,
          0.4899,
          null,
          0.5279,
          0.5694,
          null
         ],
         "z": [
          0.7162,
          1.4771,
          null,
          0.7162,
          0,
          null,
          0,
          0.7162,
          null,
          0,
          -0.5,
          null,
          0,
          -1.1014,
          null,
          0,
          0.7611,
          null,
          0.7611,
          0,
          null,
          -0.5,
          0,
          null,
          -1.1014,
          -1.3882,
          null,
          -1.1014,
          0,
          null,
          -1.3882,
          -1.1014,
          null,
          2.8999,
          2.3846,
          null,
          2.8999,
          1.8253,
          null,
          2.8999,
          3.6944,
          null,
          2.8999,
          3.6129,
          null,
          3.6944,
          2.8999,
          null,
          3.6129,
          2.8999,
          null,
          2.3846,
          2.8999,
          null,
          1.8253,
          1.4771,
          null,
          1.8253,
          2.8999,
          null,
          1.4771,
          0.7162,
          null,
          1.4771,
          1.8253,
          null
         ]
        }
       ],
       "layout": {
        "margin": {
         "b": 0,
         "l": 0,
         "r": 0,
         "t": 0
        },
        "scene": {
         "annotations": [
          {
           "showarrow": false,
           "text": "O1",
           "x": 1.2442,
           "y": 0.4899,
           "yshift": 15,
           "z": 0.7162
          },
          {
           "showarrow": false,
           "text": "O2",
           "x": -1.2773,
           "y": -0.3827,
           "yshift": 15,
           "z": 0.7611
          },
          {
           "showarrow": false,
           "text": "O3",
           "x": 0.4711,
           "y": -1.3736,
           "yshift": 15,
           "z": -0.5
          },
          {
           "showarrow": false,
           "text": "O4",
           "x": -0.3603,
           "y": 1.0746,
           "yshift": 15,
           "z": -1.1014
          },
          {
           "showarrow": false,
           "text": "P5",
           "x": 0,
           "y": 0,
           "yshift": 15,
           "z": 0
          },
          {
           "showarrow": false,
           "text": "H6",
           "x": -1.2845,
           "y": 1.0454,
           "yshift": 15,
           "z": -1.3882
          },
          {
           "showarrow": false,
           "text": "P7",
           "x": 4.1608,
           "y": -0.5382,
           "yshift": 15,
           "z": 2.8999
          },
          {
           "showarrow": false,
           "text": "O8",
           "x": 5.3773,
           "y": -0.0449,
           "yshift": 15,
           "z": 3.6944
          },
          {
           "showarrow": false,
           "text": "O9",
           "x": 2.8727,
           "y": -0.9593,
           "yshift": 15,
           "z": 3.6129
          },
          {
           "showarrow": false,
           "text": "O10",
           "x": 4.6675,
           "y": -1.8863,
           "yshift": 15,
           "z": 2.3846
          },
          {
           "showarrow": false,
           "text": "O11",
           "x": 3.8385,
           "y": 0.5694,
           "yshift": 15,
           "z": 1.8253
          },
          {
           "showarrow": false,
           "text": "H12",
           "x": 2.9252,
           "y": 0.5279,
           "yshift": 15,
           "z": 1.4771
          }
         ],
         "xaxis": {
          "showbackground": true,
          "showgrid": true,
          "showticklabels": true,
          "title": {
           "font": {
            "color": "white"
           }
          },
          "zeroline": true
         },
         "yaxis": {
          "showbackground": true,
          "showgrid": true,
          "showticklabels": true,
          "title": {
           "font": {
            "color": "white"
           }
          },
          "zeroline": true
         },
         "zaxis": {
          "showbackground": true,
          "showgrid": true,
          "showticklabels": true,
          "title": {
           "font": {
            "color": "white"
           }
          },
          "zeroline": true
         }
        },
        "showlegend": false,
        "template": {
         "data": {
          "bar": [
           {
            "error_x": {
             "color": "#2a3f5f"
            },
            "error_y": {
             "color": "#2a3f5f"
            },
            "marker": {
             "line": {
              "color": "#E5ECF6",
              "width": 0.5
             }
            },
            "type": "bar"
           }
          ],
          "barpolar": [
           {
            "marker": {
             "line": {
              "color": "#E5ECF6",
              "width": 0.5
             }
            },
            "type": "barpolar"
           }
          ],
          "carpet": [
           {
            "aaxis": {
             "endlinecolor": "#2a3f5f",
             "gridcolor": "white",
             "linecolor": "white",
             "minorgridcolor": "white",
             "startlinecolor": "#2a3f5f"
            },
            "baxis": {
             "endlinecolor": "#2a3f5f",
             "gridcolor": "white",
             "linecolor": "white",
             "minorgridcolor": "white",
             "startlinecolor": "#2a3f5f"
            },
            "type": "carpet"
           }
          ],
          "choropleth": [
           {
            "colorbar": {
             "outlinewidth": 0,
             "ticks": ""
            },
            "type": "choropleth"
           }
          ],
          "contour": [
           {
            "colorbar": {
             "outlinewidth": 0,
             "ticks": ""
            },
            "colorscale": [
             [
              0,
              "#0d0887"
             ],
             [
              0.1111111111111111,
              "#46039f"
             ],
             [
              0.2222222222222222,
              "#7201a8"
             ],
             [
              0.3333333333333333,
              "#9c179e"
             ],
             [
              0.4444444444444444,
              "#bd3786"
             ],
             [
              0.5555555555555556,
              "#d8576b"
             ],
             [
              0.6666666666666666,
              "#ed7953"
             ],
             [
              0.7777777777777778,
              "#fb9f3a"
             ],
             [
              0.8888888888888888,
              "#fdca26"
             ],
             [
              1,
              "#f0f921"
             ]
            ],
            "type": "contour"
           }
          ],
          "contourcarpet": [
           {
            "colorbar": {
             "outlinewidth": 0,
             "ticks": ""
            },
            "type": "contourcarpet"
           }
          ],
          "heatmap": [
           {
            "colorbar": {
             "outlinewidth": 0,
             "ticks": ""
            },
            "colorscale": [
             [
              0,
              "#0d0887"
             ],
             [
              0.1111111111111111,
              "#46039f"
             ],
             [
              0.2222222222222222,
              "#7201a8"
             ],
             [
              0.3333333333333333,
              "#9c179e"
             ],
             [
              0.4444444444444444,
              "#bd3786"
             ],
             [
              0.5555555555555556,
              "#d8576b"
             ],
             [
              0.6666666666666666,
              "#ed7953"
             ],
             [
              0.7777777777777778,
              "#fb9f3a"
             ],
             [
              0.8888888888888888,
              "#fdca26"
             ],
             [
              1,
              "#f0f921"
             ]
            ],
            "type": "heatmap"
           }
          ],
          "heatmapgl": [
           {
            "colorbar": {
             "outlinewidth": 0,
             "ticks": ""
            },
            "colorscale": [
             [
              0,
              "#0d0887"
             ],
             [
              0.1111111111111111,
              "#46039f"
             ],
             [
              0.2222222222222222,
              "#7201a8"
             ],
             [
              0.3333333333333333,
              "#9c179e"
             ],
             [
              0.4444444444444444,
              "#bd3786"
             ],
             [
              0.5555555555555556,
              "#d8576b"
             ],
             [
              0.6666666666666666,
              "#ed7953"
             ],
             [
              0.7777777777777778,
              "#fb9f3a"
             ],
             [
              0.8888888888888888,
              "#fdca26"
             ],
             [
              1,
              "#f0f921"
             ]
            ],
            "type": "heatmapgl"
           }
          ],
          "histogram": [
           {
            "marker": {
             "colorbar": {
              "outlinewidth": 0,
              "ticks": ""
             }
            },
            "type": "histogram"
           }
          ],
          "histogram2d": [
           {
            "colorbar": {
             "outlinewidth": 0,
             "ticks": ""
            },
            "colorscale": [
             [
              0,
              "#0d0887"
             ],
             [
              0.1111111111111111,
              "#46039f"
             ],
             [
              0.2222222222222222,
              "#7201a8"
             ],
             [
              0.3333333333333333,
              "#9c179e"
             ],
             [
              0.4444444444444444,
              "#bd3786"
             ],
             [
              0.5555555555555556,
              "#d8576b"
             ],
             [
              0.6666666666666666,
              "#ed7953"
             ],
             [
              0.7777777777777778,
              "#fb9f3a"
             ],
             [
              0.8888888888888888,
              "#fdca26"
             ],
             [
              1,
              "#f0f921"
             ]
            ],
            "type": "histogram2d"
           }
          ],
          "histogram2dcontour": [
           {
            "colorbar": {
             "outlinewidth": 0,
             "ticks": ""
            },
            "colorscale": [
             [
              0,
              "#0d0887"
             ],
             [
              0.1111111111111111,
              "#46039f"
             ],
             [
              0.2222222222222222,
              "#7201a8"
             ],
             [
              0.3333333333333333,
              "#9c179e"
             ],
             [
              0.4444444444444444,
              "#bd3786"
             ],
             [
              0.5555555555555556,
              "#d8576b"
             ],
             [
              0.6666666666666666,
              "#ed7953"
             ],
             [
              0.7777777777777778,
              "#fb9f3a"
             ],
             [
              0.8888888888888888,
              "#fdca26"
             ],
             [
              1,
              "#f0f921"
             ]
            ],
            "type": "histogram2dcontour"
           }
          ],
          "mesh3d": [
           {
            "colorbar": {
             "outlinewidth": 0,
             "ticks": ""
            },
            "type": "mesh3d"
           }
          ],
          "parcoords": [
           {
            "line": {
             "colorbar": {
              "outlinewidth": 0,
              "ticks": ""
             }
            },
            "type": "parcoords"
           }
          ],
          "pie": [
           {
            "automargin": true,
            "type": "pie"
           }
          ],
          "scatter": [
           {
            "marker": {
             "colorbar": {
              "outlinewidth": 0,
              "ticks": ""
             }
            },
            "type": "scatter"
           }
          ],
          "scatter3d": [
           {
            "line": {
             "colorbar": {
              "outlinewidth": 0,
              "ticks": ""
             }
            },
            "marker": {
             "colorbar": {
              "outlinewidth": 0,
              "ticks": ""
             }
            },
            "type": "scatter3d"
           }
          ],
          "scattercarpet": [
           {
            "marker": {
             "colorbar": {
              "outlinewidth": 0,
              "ticks": ""
             }
            },
            "type": "scattercarpet"
           }
          ],
          "scattergeo": [
           {
            "marker": {
             "colorbar": {
              "outlinewidth": 0,
              "ticks": ""
             }
            },
            "type": "scattergeo"
           }
          ],
          "scattergl": [
           {
            "marker": {
             "colorbar": {
              "outlinewidth": 0,
              "ticks": ""
             }
            },
            "type": "scattergl"
           }
          ],
          "scattermapbox": [
           {
            "marker": {
             "colorbar": {
              "outlinewidth": 0,
              "ticks": ""
             }
            },
            "type": "scattermapbox"
           }
          ],
          "scatterpolar": [
           {
            "marker": {
             "colorbar": {
              "outlinewidth": 0,
              "ticks": ""
             }
            },
            "type": "scatterpolar"
           }
          ],
          "scatterpolargl": [
           {
            "marker": {
             "colorbar": {
              "outlinewidth": 0,
              "ticks": ""
             }
            },
            "type": "scatterpolargl"
           }
          ],
          "scatterternary": [
           {
            "marker": {
             "colorbar": {
              "outlinewidth": 0,
              "ticks": ""
             }
            },
            "type": "scatterternary"
           }
          ],
          "surface": [
           {
            "colorbar": {
             "outlinewidth": 0,
             "ticks": ""
            },
            "colorscale": [
             [
              0,
              "#0d0887"
             ],
             [
              0.1111111111111111,
              "#46039f"
             ],
             [
              0.2222222222222222,
              "#7201a8"
             ],
             [
              0.3333333333333333,
              "#9c179e"
             ],
             [
              0.4444444444444444,
              "#bd3786"
             ],
             [
              0.5555555555555556,
              "#d8576b"
             ],
             [
              0.6666666666666666,
              "#ed7953"
             ],
             [
              0.7777777777777778,
              "#fb9f3a"
             ],
             [
              0.8888888888888888,
              "#fdca26"
             ],
             [
              1,
              "#f0f921"
             ]
            ],
            "type": "surface"
           }
          ],
          "table": [
           {
            "cells": {
             "fill": {
              "color": "#EBF0F8"
             },
             "line": {
              "color": "white"
             }
            },
            "header": {
             "fill": {
              "color": "#C8D4E3"
             },
             "line": {
              "color": "white"
             }
            },
            "type": "table"
           }
          ]
         },
         "layout": {
          "annotationdefaults": {
           "arrowcolor": "#2a3f5f",
           "arrowhead": 0,
           "arrowwidth": 1
          },
          "coloraxis": {
           "colorbar": {
            "outlinewidth": 0,
            "ticks": ""
           }
          },
          "colorscale": {
           "diverging": [
            [
             0,
             "#8e0152"
            ],
            [
             0.1,
             "#c51b7d"
            ],
            [
             0.2,
             "#de77ae"
            ],
            [
             0.3,
             "#f1b6da"
            ],
            [
             0.4,
             "#fde0ef"
            ],
            [
             0.5,
             "#f7f7f7"
            ],
            [
             0.6,
             "#e6f5d0"
            ],
            [
             0.7,
             "#b8e186"
            ],
            [
             0.8,
             "#7fbc41"
            ],
            [
             0.9,
             "#4d9221"
            ],
            [
             1,
             "#276419"
            ]
           ],
           "sequential": [
            [
             0,
             "#0d0887"
            ],
            [
             0.1111111111111111,
             "#46039f"
            ],
            [
             0.2222222222222222,
             "#7201a8"
            ],
            [
             0.3333333333333333,
             "#9c179e"
            ],
            [
             0.4444444444444444,
             "#bd3786"
            ],
            [
             0.5555555555555556,
             "#d8576b"
            ],
            [
             0.6666666666666666,
             "#ed7953"
            ],
            [
             0.7777777777777778,
             "#fb9f3a"
            ],
            [
             0.8888888888888888,
             "#fdca26"
            ],
            [
             1,
             "#f0f921"
            ]
           ],
           "sequentialminus": [
            [
             0,
             "#0d0887"
            ],
            [
             0.1111111111111111,
             "#46039f"
            ],
            [
             0.2222222222222222,
             "#7201a8"
            ],
            [
             0.3333333333333333,
             "#9c179e"
            ],
            [
             0.4444444444444444,
             "#bd3786"
            ],
            [
             0.5555555555555556,
             "#d8576b"
            ],
            [
             0.6666666666666666,
             "#ed7953"
            ],
            [
             0.7777777777777778,
             "#fb9f3a"
            ],
            [
             0.8888888888888888,
             "#fdca26"
            ],
            [
             1,
             "#f0f921"
            ]
           ]
          },
          "colorway": [
           "#636efa",
           "#EF553B",
           "#00cc96",
           "#ab63fa",
           "#FFA15A",
           "#19d3f3",
           "#FF6692",
           "#B6E880",
           "#FF97FF",
           "#FECB52"
          ],
          "font": {
           "color": "#2a3f5f"
          },
          "geo": {
           "bgcolor": "white",
           "lakecolor": "white",
           "landcolor": "#E5ECF6",
           "showlakes": true,
           "showland": true,
           "subunitcolor": "white"
          },
          "hoverlabel": {
           "align": "left"
          },
          "hovermode": "closest",
          "mapbox": {
           "style": "light"
          },
          "paper_bgcolor": "white",
          "plot_bgcolor": "#E5ECF6",
          "polar": {
           "angularaxis": {
            "gridcolor": "white",
            "linecolor": "white",
            "ticks": ""
           },
           "bgcolor": "#E5ECF6",
           "radialaxis": {
            "gridcolor": "white",
            "linecolor": "white",
            "ticks": ""
           }
          },
          "scene": {
           "xaxis": {
            "backgroundcolor": "#E5ECF6",
            "gridcolor": "white",
            "gridwidth": 2,
            "linecolor": "white",
            "showbackground": true,
            "ticks": "",
            "zerolinecolor": "white"
           },
           "yaxis": {
            "backgroundcolor": "#E5ECF6",
            "gridcolor": "white",
            "gridwidth": 2,
            "linecolor": "white",
            "showbackground": true,
            "ticks": "",
            "zerolinecolor": "white"
           },
           "zaxis": {
            "backgroundcolor": "#E5ECF6",
            "gridcolor": "white",
            "gridwidth": 2,
            "linecolor": "white",
            "showbackground": true,
            "ticks": "",
            "zerolinecolor": "white"
           }
          },
          "shapedefaults": {
           "line": {
            "color": "#2a3f5f"
           }
          },
          "ternary": {
           "aaxis": {
            "gridcolor": "white",
            "linecolor": "white",
            "ticks": ""
           },
           "baxis": {
            "gridcolor": "white",
            "linecolor": "white",
            "ticks": ""
           },
           "bgcolor": "#E5ECF6",
           "caxis": {
            "gridcolor": "white",
            "linecolor": "white",
            "ticks": ""
           }
          },
          "title": {
           "x": 0.05
          },
          "xaxis": {
           "automargin": true,
           "gridcolor": "white",
           "linecolor": "white",
           "ticks": "",
           "title": {
            "standoff": 15
           },
           "zerolinecolor": "white",
           "zerolinewidth": 2
          },
          "yaxis": {
           "automargin": true,
           "gridcolor": "white",
           "linecolor": "white",
           "ticks": "",
           "title": {
            "standoff": 15
           },
           "zerolinecolor": "white",
           "zerolinewidth": 2
          }
         }
        },
        "updatemenus": [
         {
          "buttons": [
           {
            "args": [
             {
              "scene.annotations": [
               {
                "showarrow": false,
                "text": "O1",
                "x": 1.2442,
                "y": 0.4899,
                "yshift": 15,
                "z": 0.7162
               },
               {
                "showarrow": false,
                "text": "O2",
                "x": -1.2773,
                "y": -0.3827,
                "yshift": 15,
                "z": 0.7611
               },
               {
                "showarrow": false,
                "text": "O3",
                "x": 0.4711,
                "y": -1.3736,
                "yshift": 15,
                "z": -0.5
               },
               {
                "showarrow": false,
                "text": "O4",
                "x": -0.3603,
                "y": 1.0746,
                "yshift": 15,
                "z": -1.1014
               },
               {
                "showarrow": false,
                "text": "P5",
                "x": 0,
                "y": 0,
                "yshift": 15,
                "z": 0
               },
               {
                "showarrow": false,
                "text": "H6",
                "x": -1.2845,
                "y": 1.0454,
                "yshift": 15,
                "z": -1.3882
               },
               {
                "showarrow": false,
                "text": "P7",
                "x": 4.1608,
                "y": -0.5382,
                "yshift": 15,
                "z": 2.8999
               },
               {
                "showarrow": false,
                "text": "O8",
                "x": 5.3773,
                "y": -0.0449,
                "yshift": 15,
                "z": 3.6944
               },
               {
                "showarrow": false,
                "text": "O9",
                "x": 2.8727,
                "y": -0.9593,
                "yshift": 15,
                "z": 3.6129
               },
               {
                "showarrow": false,
                "text": "O10",
                "x": 4.6675,
                "y": -1.8863,
                "yshift": 15,
                "z": 2.3846
               },
               {
                "showarrow": false,
                "text": "O11",
                "x": 3.8385,
                "y": 0.5694,
                "yshift": 15,
                "z": 1.8253
               },
               {
                "showarrow": false,
                "text": "H12",
                "x": 2.9252,
                "y": 0.5279,
                "yshift": 15,
                "z": 1.4771
               }
              ]
             }
            ],
            "label": "Elements",
            "method": "relayout"
           },
           {
            "args": [
             {
              "scene.annotations": [
               {
                "showarrow": false,
                "text": "O1",
                "x": 1.2442,
                "y": 0.4899,
                "yshift": 15,
                "z": 0.7162
               },
               {
                "showarrow": false,
                "text": "O2",
                "x": -1.2773,
                "y": -0.3827,
                "yshift": 15,
                "z": 0.7611
               },
               {
                "showarrow": false,
                "text": "O3",
                "x": 0.4711,
                "y": -1.3736,
                "yshift": 15,
                "z": -0.5
               },
               {
                "showarrow": false,
                "text": "O4",
                "x": -0.3603,
                "y": 1.0746,
                "yshift": 15,
                "z": -1.1014
               },
               {
                "showarrow": false,
                "text": "P5",
                "x": 0,
                "y": 0,
                "yshift": 15,
                "z": 0
               },
               {
                "showarrow": false,
                "text": "H6",
                "x": -1.2845,
                "y": 1.0454,
                "yshift": 15,
                "z": -1.3882
               },
               {
                "showarrow": false,
                "text": "P7",
                "x": 4.1608,
                "y": -0.5382,
                "yshift": 15,
                "z": 2.8999
               },
               {
                "showarrow": false,
                "text": "O8",
                "x": 5.3773,
                "y": -0.0449,
                "yshift": 15,
                "z": 3.6944
               },
               {
                "showarrow": false,
                "text": "O9",
                "x": 2.8727,
                "y": -0.9593,
                "yshift": 15,
                "z": 3.6129
               },
               {
                "showarrow": false,
                "text": "O10",
                "x": 4.6675,
                "y": -1.8863,
                "yshift": 15,
                "z": 2.3846
               },
               {
                "showarrow": false,
                "text": "O11",
                "x": 3.8385,
                "y": 0.5694,
                "yshift": 15,
                "z": 1.8253
               },
               {
                "showarrow": false,
                "text": "H12",
                "x": 2.9252,
                "y": 0.5279,
                "yshift": 15,
                "z": 1.4771
               },
               {
                "font": {
                 "color": "steelblue"
                },
                "showarrow": false,
                "text": "1.517",
                "x": 0.6221,
                "y": 0.24495,
                "yshift": 15,
                "z": 0.3581
               },
               {
                "font": {
                 "color": "steelblue"
                },
                "showarrow": false,
                "text": "1.535",
                "x": -0.63865,
                "y": -0.19135,
                "yshift": 15,
                "z": 0.38055
               },
               {
                "font": {
                 "color": "steelblue"
                },
                "showarrow": false,
                "text": "1.536",
                "x": 0.23555,
                "y": -0.6868,
                "yshift": 15,
                "z": -0.25
               },
               {
                "font": {
                 "color": "steelblue"
                },
                "showarrow": false,
                "text": "1.580",
                "x": -0.18015,
                "y": 0.5373,
                "yshift": 15,
                "z": -0.5507
               },
               {
                "font": {
                 "color": "steelblue"
                },
                "showarrow": false,
                "text": "0.968",
                "x": -0.8224,
                "y": 1.06,
                "yshift": 15,
                "z": -1.2448000000000001
               },
               {
                "font": {
                 "color": "steelblue"
                },
                "showarrow": false,
                "text": "1.534",
                "x": 4.76905,
                "y": -0.29155000000000003,
                "yshift": 15,
                "z": 3.2971500000000002
               },
               {
                "font": {
                 "color": "steelblue"
                },
                "showarrow": false,
                "text": "1.531",
                "x": 3.51675,
                "y": -0.74875,
                "yshift": 15,
                "z": 3.2564
               },
               {
                "font": {
                 "color": "steelblue"
                },
                "showarrow": false,
                "text": "1.530",
                "x": 4.41415,
                "y": -1.21225,
                "yshift": 15,
                "z": 2.6422499999999998
               },
               {
                "font": {
                 "color": "steelblue"
                },
                "showarrow": false,
                "text": "1.577",
                "x": 3.99965,
                "y": 0.015600000000000003,
                "yshift": 15,
                "z": 2.3626
               },
               {
                "font": {
                 "color": "steelblue"
                },
                "showarrow": false,
                "text": "0.978",
                "x": 3.38185,
                "y": 0.5486500000000001,
                "yshift": 15,
                "z": 1.6512
               },
               {
                "font": {
                 "color": "steelblue"
                },
                "showarrow": false,
                "text": 1.846,
                "x": 2.0846999999999998,
                "y": 0.5089,
                "yshift": 15,
                "z": 1.09665
               }
              ]
             }
            ],
            "label": "Element & Bond Lengths",
            "method": "relayout"
           },
           {
            "args": [
             {
              "scene.annotations": [
               {
                "showarrow": false,
                "text": 0,
                "x": 1.2442,
                "y": 0.4899,
                "yshift": 15,
                "z": 0.7162
               },
               {
                "showarrow": false,
                "text": 1,
                "x": -1.2773,
                "y": -0.3827,
                "yshift": 15,
                "z": 0.7611
               },
               {
                "showarrow": false,
                "text": 2,
                "x": 0.4711,
                "y": -1.3736,
                "yshift": 15,
                "z": -0.5
               },
               {
                "showarrow": false,
                "text": 3,
                "x": -0.3603,
                "y": 1.0746,
                "yshift": 15,
                "z": -1.1014
               },
               {
                "showarrow": false,
                "text": 4,
                "x": 0,
                "y": 0,
                "yshift": 15,
                "z": 0
               },
               {
                "showarrow": false,
                "text": 5,
                "x": -1.2845,
                "y": 1.0454,
                "yshift": 15,
                "z": -1.3882
               },
               {
                "showarrow": false,
                "text": 6,
                "x": 4.1608,
                "y": -0.5382,
                "yshift": 15,
                "z": 2.8999
               },
               {
                "showarrow": false,
                "text": 7,
                "x": 5.3773,
                "y": -0.0449,
                "yshift": 15,
                "z": 3.6944
               },
               {
                "showarrow": false,
                "text": 8,
                "x": 2.8727,
                "y": -0.9593,
                "yshift": 15,
                "z": 3.6129
               },
               {
                "showarrow": false,
                "text": 9,
                "x": 4.6675,
                "y": -1.8863,
                "yshift": 15,
                "z": 2.3846
               },
               {
                "showarrow": false,
                "text": 10,
                "x": 3.8385,
                "y": 0.5694,
                "yshift": 15,
                "z": 1.8253
               },
               {
                "showarrow": false,
                "text": 11,
                "x": 2.9252,
                "y": 0.5279,
                "yshift": 15,
                "z": 1.4771
               }
              ]
             }
            ],
            "label": "Indices",
            "method": "relayout"
           },
           {
            "args": [
             {
              "scene.annotations": [
               {
                "showarrow": false,
                "text": 0,
                "x": 1.2442,
                "y": 0.4899,
                "yshift": 15,
                "z": 0.7162
               },
               {
                "showarrow": false,
                "text": 1,
                "x": -1.2773,
                "y": -0.3827,
                "yshift": 15,
                "z": 0.7611
               },
               {
                "showarrow": false,
                "text": 2,
                "x": 0.4711,
                "y": -1.3736,
                "yshift": 15,
                "z": -0.5
               },
               {
                "showarrow": false,
                "text": 3,
                "x": -0.3603,
                "y": 1.0746,
                "yshift": 15,
                "z": -1.1014
               },
               {
                "showarrow": false,
                "text": 4,
                "x": 0,
                "y": 0,
                "yshift": 15,
                "z": 0
               },
               {
                "showarrow": false,
                "text": 5,
                "x": -1.2845,
                "y": 1.0454,
                "yshift": 15,
                "z": -1.3882
               },
               {
                "showarrow": false,
                "text": 6,
                "x": 4.1608,
                "y": -0.5382,
                "yshift": 15,
                "z": 2.8999
               },
               {
                "showarrow": false,
                "text": 7,
                "x": 5.3773,
                "y": -0.0449,
                "yshift": 15,
                "z": 3.6944
               },
               {
                "showarrow": false,
                "text": 8,
                "x": 2.8727,
                "y": -0.9593,
                "yshift": 15,
                "z": 3.6129
               },
               {
                "showarrow": false,
                "text": 9,
                "x": 4.6675,
                "y": -1.8863,
                "yshift": 15,
                "z": 2.3846
               },
               {
                "showarrow": false,
                "text": 10,
                "x": 3.8385,
                "y": 0.5694,
                "yshift": 15,
                "z": 1.8253
               },
               {
                "showarrow": false,
                "text": 11,
                "x": 2.9252,
                "y": 0.5279,
                "yshift": 15,
                "z": 1.4771
               },
               {
                "font": {
                 "color": "steelblue"
                },
                "showarrow": false,
                "text": "1.517",
                "x": 0.6221,
                "y": 0.24495,
                "yshift": 15,
                "z": 0.3581
               },
               {
                "font": {
                 "color": "steelblue"
                },
                "showarrow": false,
                "text": "1.535",
                "x": -0.63865,
                "y": -0.19135,
                "yshift": 15,
                "z": 0.38055
               },
               {
                "font": {
                 "color": "steelblue"
                },
                "showarrow": false,
                "text": "1.536",
                "x": 0.23555,
                "y": -0.6868,
                "yshift": 15,
                "z": -0.25
               },
               {
                "font": {
                 "color": "steelblue"
                },
                "showarrow": false,
                "text": "1.580",
                "x": -0.18015,
                "y": 0.5373,
                "yshift": 15,
                "z": -0.5507
               },
               {
                "font": {
                 "color": "steelblue"
                },
                "showarrow": false,
                "text": "0.968",
                "x": -0.8224,
                "y": 1.06,
                "yshift": 15,
                "z": -1.2448000000000001
               },
               {
                "font": {
                 "color": "steelblue"
                },
                "showarrow": false,
                "text": "1.534",
                "x": 4.76905,
                "y": -0.29155000000000003,
                "yshift": 15,
                "z": 3.2971500000000002
               },
               {
                "font": {
                 "color": "steelblue"
                },
                "showarrow": false,
                "text": "1.531",
                "x": 3.51675,
                "y": -0.74875,
                "yshift": 15,
                "z": 3.2564
               },
               {
                "font": {
                 "color": "steelblue"
                },
                "showarrow": false,
                "text": "1.530",
                "x": 4.41415,
                "y": -1.21225,
                "yshift": 15,
                "z": 2.6422499999999998
               },
               {
                "font": {
                 "color": "steelblue"
                },
                "showarrow": false,
                "text": "1.577",
                "x": 3.99965,
                "y": 0.015600000000000003,
                "yshift": 15,
                "z": 2.3626
               },
               {
                "font": {
                 "color": "steelblue"
                },
                "showarrow": false,
                "text": "0.978",
                "x": 3.38185,
                "y": 0.5486500000000001,
                "yshift": 15,
                "z": 1.6512
               },
               {
                "font": {
                 "color": "steelblue"
                },
                "showarrow": false,
                "text": 1.846,
                "x": 2.0846999999999998,
                "y": 0.5089,
                "yshift": 15,
                "z": 1.09665
               }
              ]
             }
            ],
            "label": "Indices & Bond Lengths",
            "method": "relayout"
           },
           {
            "args": [
             {
              "scene.annotations": [
               {
                "font": {
                 "color": "steelblue"
                },
                "showarrow": false,
                "text": "1.517",
                "x": 0.6221,
                "y": 0.24495,
                "yshift": 15,
                "z": 0.3581
               },
               {
                "font": {
                 "color": "steelblue"
                },
                "showarrow": false,
                "text": "1.535",
                "x": -0.63865,
                "y": -0.19135,
                "yshift": 15,
                "z": 0.38055
               },
               {
                "font": {
                 "color": "steelblue"
                },
                "showarrow": false,
                "text": "1.536",
                "x": 0.23555,
                "y": -0.6868,
                "yshift": 15,
                "z": -0.25
               },
               {
                "font": {
                 "color": "steelblue"
                },
                "showarrow": false,
                "text": "1.580",
                "x": -0.18015,
                "y": 0.5373,
                "yshift": 15,
                "z": -0.5507
               },
               {
                "font": {
                 "color": "steelblue"
                },
                "showarrow": false,
                "text": "0.968",
                "x": -0.8224,
                "y": 1.06,
                "yshift": 15,
                "z": -1.2448000000000001
               },
               {
                "font": {
                 "color": "steelblue"
                },
                "showarrow": false,
                "text": "1.534",
                "x": 4.76905,
                "y": -0.29155000000000003,
                "yshift": 15,
                "z": 3.2971500000000002
               },
               {
                "font": {
                 "color": "steelblue"
                },
                "showarrow": false,
                "text": "1.531",
                "x": 3.51675,
                "y": -0.74875,
                "yshift": 15,
                "z": 3.2564
               },
               {
                "font": {
                 "color": "steelblue"
                },
                "showarrow": false,
                "text": "1.530",
                "x": 4.41415,
                "y": -1.21225,
                "yshift": 15,
                "z": 2.6422499999999998
               },
               {
                "font": {
                 "color": "steelblue"
                },
                "showarrow": false,
                "text": "1.577",
                "x": 3.99965,
                "y": 0.015600000000000003,
                "yshift": 15,
                "z": 2.3626
               },
               {
                "font": {
                 "color": "steelblue"
                },
                "showarrow": false,
                "text": "0.978",
                "x": 3.38185,
                "y": 0.5486500000000001,
                "yshift": 15,
                "z": 1.6512
               },
               {
                "font": {
                 "color": "steelblue"
                },
                "showarrow": false,
                "text": 1.846,
                "x": 2.0846999999999998,
                "y": 0.5089,
                "yshift": 15,
                "z": 1.09665
               }
              ]
             }
            ],
            "label": "Bond Lengths",
            "method": "relayout"
           },
           {
            "args": [
             {}
            ],
            "label": "Hide All",
            "method": "relayout"
           }
          ],
          "direction": "down",
          "xanchor": "left",
          "yanchor": "top"
         }
        ]
       }
      },
      "text/html": [
       "<div>                            <div id=\"a12b6328-b6ce-41df-848f-49be536459c5\" class=\"plotly-graph-div\" style=\"height:525px; width:100%;\"></div>            <script type=\"text/javascript\">                require([\"plotly\"], function(Plotly) {                    window.PLOTLYENV=window.PLOTLYENV || {};                                    if (document.getElementById(\"a12b6328-b6ce-41df-848f-49be536459c5\")) {                    Plotly.newPlot(                        \"a12b6328-b6ce-41df-848f-49be536459c5\",                        [{\"marker\": {\"color\": [\"red\", \"red\", \"red\", \"red\", \"orange\", \"white\", \"orange\", \"red\", \"red\", \"red\", \"red\", \"white\"], \"line\": {\"color\": \"lightgray\", \"width\": 2}, \"opacity\": 0.8, \"size\": [27.200000000000003, 27.200000000000003, 27.200000000000003, 27.200000000000003, 42.0, 9.200000000000001, 42.0, 27.200000000000003, 27.200000000000003, 27.200000000000003, 27.200000000000003, 9.200000000000001], \"symbol\": \"circle\"}, \"mode\": \"markers\", \"text\": [\"O1\", \"O2\", \"O3\", \"O4\", \"P5\", \"H6\", \"P7\", \"O8\", \"O9\", \"O10\", \"O11\", \"H12\"], \"type\": \"scatter3d\", \"x\": [1.2442, -1.2773, 0.4711, -0.3603, 0.0, -1.2845, 4.1608, 5.3773, 2.8727, 4.6675, 3.8385, 2.9252], \"y\": [0.4899, -0.3827, -1.3736, 1.0746, 0.0, 1.0454, -0.5382, -0.0449, -0.9593, -1.8863, 0.5694, 0.5279], \"z\": [0.7162, 0.7611, -0.5, -1.1014, 0.0, -1.3882, 2.8999, 3.6944, 3.6129, 2.3846, 1.8253, 1.4771]}, {\"hoverinfo\": \"none\", \"marker\": {\"color\": \"gray\", \"opacity\": 0.1, \"size\": 3}, \"mode\": \"lines\", \"type\": \"scatter3d\", \"x\": [1.2442, 2.9252, null, 1.2442, 0.0, null, 0.0, 1.2442, null, 0.0, 0.4711, null, 0.0, -0.3603, null, 0.0, -1.2773, null, -1.2773, 0.0, null, 0.4711, 0.0, null, -0.3603, -1.2845, null, -0.3603, 0.0, null, -1.2845, -0.3603, null, 4.1608, 4.6675, null, 4.1608, 3.8385, null, 4.1608, 5.3773, null, 4.1608, 2.8727, null, 5.3773, 4.1608, null, 2.8727, 4.1608, null, 4.6675, 4.1608, null, 3.8385, 2.9252, null, 3.8385, 4.1608, null, 2.9252, 1.2442, null, 2.9252, 3.8385, null], \"y\": [0.4899, 0.5279, null, 0.4899, 0.0, null, 0.0, 0.4899, null, 0.0, -1.3736, null, 0.0, 1.0746, null, 0.0, -0.3827, null, -0.3827, 0.0, null, -1.3736, 0.0, null, 1.0746, 1.0454, null, 1.0746, 0.0, null, 1.0454, 1.0746, null, -0.5382, -1.8863, null, -0.5382, 0.5694, null, -0.5382, -0.0449, null, -0.5382, -0.9593, null, -0.0449, -0.5382, null, -0.9593, -0.5382, null, -1.8863, -0.5382, null, 0.5694, 0.5279, null, 0.5694, -0.5382, null, 0.5279, 0.4899, null, 0.5279, 0.5694, null], \"z\": [0.7162, 1.4771, null, 0.7162, 0.0, null, 0.0, 0.7162, null, 0.0, -0.5, null, 0.0, -1.1014, null, 0.0, 0.7611, null, 0.7611, 0.0, null, -0.5, 0.0, null, -1.1014, -1.3882, null, -1.1014, 0.0, null, -1.3882, -1.1014, null, 2.8999, 2.3846, null, 2.8999, 1.8253, null, 2.8999, 3.6944, null, 2.8999, 3.6129, null, 3.6944, 2.8999, null, 3.6129, 2.8999, null, 2.3846, 2.8999, null, 1.8253, 1.4771, null, 1.8253, 2.8999, null, 1.4771, 0.7162, null, 1.4771, 1.8253, null]}],                        {\"margin\": {\"b\": 0, \"l\": 0, \"r\": 0, \"t\": 0}, \"scene\": {\"annotations\": [{\"showarrow\": false, \"text\": \"O1\", \"x\": 1.2442, \"y\": 0.4899, \"yshift\": 15, \"z\": 0.7162}, {\"showarrow\": false, \"text\": \"O2\", \"x\": -1.2773, \"y\": -0.3827, \"yshift\": 15, \"z\": 0.7611}, {\"showarrow\": false, \"text\": \"O3\", \"x\": 0.4711, \"y\": -1.3736, \"yshift\": 15, \"z\": -0.5}, {\"showarrow\": false, \"text\": \"O4\", \"x\": -0.3603, \"y\": 1.0746, \"yshift\": 15, \"z\": -1.1014}, {\"showarrow\": false, \"text\": \"P5\", \"x\": 0.0, \"y\": 0.0, \"yshift\": 15, \"z\": 0.0}, {\"showarrow\": false, \"text\": \"H6\", \"x\": -1.2845, \"y\": 1.0454, \"yshift\": 15, \"z\": -1.3882}, {\"showarrow\": false, \"text\": \"P7\", \"x\": 4.1608, \"y\": -0.5382, \"yshift\": 15, \"z\": 2.8999}, {\"showarrow\": false, \"text\": \"O8\", \"x\": 5.3773, \"y\": -0.0449, \"yshift\": 15, \"z\": 3.6944}, {\"showarrow\": false, \"text\": \"O9\", \"x\": 2.8727, \"y\": -0.9593, \"yshift\": 15, \"z\": 3.6129}, {\"showarrow\": false, \"text\": \"O10\", \"x\": 4.6675, \"y\": -1.8863, \"yshift\": 15, \"z\": 2.3846}, {\"showarrow\": false, \"text\": \"O11\", \"x\": 3.8385, \"y\": 0.5694, \"yshift\": 15, \"z\": 1.8253}, {\"showarrow\": false, \"text\": \"H12\", \"x\": 2.9252, \"y\": 0.5279, \"yshift\": 15, \"z\": 1.4771}], \"xaxis\": {\"showbackground\": true, \"showgrid\": true, \"showticklabels\": true, \"title\": {\"font\": {\"color\": \"white\"}}, \"zeroline\": true}, \"yaxis\": {\"showbackground\": true, \"showgrid\": true, \"showticklabels\": true, \"title\": {\"font\": {\"color\": \"white\"}}, \"zeroline\": true}, \"zaxis\": {\"showbackground\": true, \"showgrid\": true, \"showticklabels\": true, \"title\": {\"font\": {\"color\": \"white\"}}, \"zeroline\": true}}, \"showlegend\": false, \"template\": {\"data\": {\"bar\": [{\"error_x\": {\"color\": \"#2a3f5f\"}, \"error_y\": {\"color\": \"#2a3f5f\"}, \"marker\": {\"line\": {\"color\": \"#E5ECF6\", \"width\": 0.5}}, \"type\": \"bar\"}], \"barpolar\": [{\"marker\": {\"line\": {\"color\": \"#E5ECF6\", \"width\": 0.5}}, \"type\": \"barpolar\"}], \"carpet\": [{\"aaxis\": {\"endlinecolor\": \"#2a3f5f\", \"gridcolor\": \"white\", \"linecolor\": \"white\", \"minorgridcolor\": \"white\", \"startlinecolor\": \"#2a3f5f\"}, \"baxis\": {\"endlinecolor\": \"#2a3f5f\", \"gridcolor\": \"white\", \"linecolor\": \"white\", \"minorgridcolor\": \"white\", \"startlinecolor\": \"#2a3f5f\"}, \"type\": \"carpet\"}], \"choropleth\": [{\"colorbar\": {\"outlinewidth\": 0, \"ticks\": \"\"}, \"type\": \"choropleth\"}], \"contour\": [{\"colorbar\": {\"outlinewidth\": 0, \"ticks\": \"\"}, \"colorscale\": [[0.0, \"#0d0887\"], [0.1111111111111111, \"#46039f\"], [0.2222222222222222, \"#7201a8\"], [0.3333333333333333, \"#9c179e\"], [0.4444444444444444, \"#bd3786\"], [0.5555555555555556, \"#d8576b\"], [0.6666666666666666, \"#ed7953\"], [0.7777777777777778, \"#fb9f3a\"], [0.8888888888888888, \"#fdca26\"], [1.0, \"#f0f921\"]], \"type\": \"contour\"}], \"contourcarpet\": [{\"colorbar\": {\"outlinewidth\": 0, \"ticks\": \"\"}, \"type\": \"contourcarpet\"}], \"heatmap\": [{\"colorbar\": {\"outlinewidth\": 0, \"ticks\": \"\"}, \"colorscale\": [[0.0, \"#0d0887\"], [0.1111111111111111, \"#46039f\"], [0.2222222222222222, \"#7201a8\"], [0.3333333333333333, \"#9c179e\"], [0.4444444444444444, \"#bd3786\"], [0.5555555555555556, \"#d8576b\"], [0.6666666666666666, \"#ed7953\"], [0.7777777777777778, \"#fb9f3a\"], [0.8888888888888888, \"#fdca26\"], [1.0, \"#f0f921\"]], \"type\": \"heatmap\"}], \"heatmapgl\": [{\"colorbar\": {\"outlinewidth\": 0, \"ticks\": \"\"}, \"colorscale\": [[0.0, \"#0d0887\"], [0.1111111111111111, \"#46039f\"], [0.2222222222222222, \"#7201a8\"], [0.3333333333333333, \"#9c179e\"], [0.4444444444444444, \"#bd3786\"], [0.5555555555555556, \"#d8576b\"], [0.6666666666666666, \"#ed7953\"], [0.7777777777777778, \"#fb9f3a\"], [0.8888888888888888, \"#fdca26\"], [1.0, \"#f0f921\"]], \"type\": \"heatmapgl\"}], \"histogram\": [{\"marker\": {\"colorbar\": {\"outlinewidth\": 0, \"ticks\": \"\"}}, \"type\": \"histogram\"}], \"histogram2d\": [{\"colorbar\": {\"outlinewidth\": 0, \"ticks\": \"\"}, \"colorscale\": [[0.0, \"#0d0887\"], [0.1111111111111111, \"#46039f\"], [0.2222222222222222, \"#7201a8\"], [0.3333333333333333, \"#9c179e\"], [0.4444444444444444, \"#bd3786\"], [0.5555555555555556, \"#d8576b\"], [0.6666666666666666, \"#ed7953\"], [0.7777777777777778, \"#fb9f3a\"], [0.8888888888888888, \"#fdca26\"], [1.0, \"#f0f921\"]], \"type\": \"histogram2d\"}], \"histogram2dcontour\": [{\"colorbar\": {\"outlinewidth\": 0, \"ticks\": \"\"}, \"colorscale\": [[0.0, \"#0d0887\"], [0.1111111111111111, \"#46039f\"], [0.2222222222222222, \"#7201a8\"], [0.3333333333333333, \"#9c179e\"], [0.4444444444444444, \"#bd3786\"], [0.5555555555555556, \"#d8576b\"], [0.6666666666666666, \"#ed7953\"], [0.7777777777777778, \"#fb9f3a\"], [0.8888888888888888, \"#fdca26\"], [1.0, \"#f0f921\"]], \"type\": \"histogram2dcontour\"}], \"mesh3d\": [{\"colorbar\": {\"outlinewidth\": 0, \"ticks\": \"\"}, \"type\": \"mesh3d\"}], \"parcoords\": [{\"line\": {\"colorbar\": {\"outlinewidth\": 0, \"ticks\": \"\"}}, \"type\": \"parcoords\"}], \"pie\": [{\"automargin\": true, \"type\": \"pie\"}], \"scatter\": [{\"marker\": {\"colorbar\": {\"outlinewidth\": 0, \"ticks\": \"\"}}, \"type\": \"scatter\"}], \"scatter3d\": [{\"line\": {\"colorbar\": {\"outlinewidth\": 0, \"ticks\": \"\"}}, \"marker\": {\"colorbar\": {\"outlinewidth\": 0, \"ticks\": \"\"}}, \"type\": \"scatter3d\"}], \"scattercarpet\": [{\"marker\": {\"colorbar\": {\"outlinewidth\": 0, \"ticks\": \"\"}}, \"type\": \"scattercarpet\"}], \"scattergeo\": [{\"marker\": {\"colorbar\": {\"outlinewidth\": 0, \"ticks\": \"\"}}, \"type\": \"scattergeo\"}], \"scattergl\": [{\"marker\": {\"colorbar\": {\"outlinewidth\": 0, \"ticks\": \"\"}}, \"type\": \"scattergl\"}], \"scattermapbox\": [{\"marker\": {\"colorbar\": {\"outlinewidth\": 0, \"ticks\": \"\"}}, \"type\": \"scattermapbox\"}], \"scatterpolar\": [{\"marker\": {\"colorbar\": {\"outlinewidth\": 0, \"ticks\": \"\"}}, \"type\": \"scatterpolar\"}], \"scatterpolargl\": [{\"marker\": {\"colorbar\": {\"outlinewidth\": 0, \"ticks\": \"\"}}, \"type\": \"scatterpolargl\"}], \"scatterternary\": [{\"marker\": {\"colorbar\": {\"outlinewidth\": 0, \"ticks\": \"\"}}, \"type\": \"scatterternary\"}], \"surface\": [{\"colorbar\": {\"outlinewidth\": 0, \"ticks\": \"\"}, \"colorscale\": [[0.0, \"#0d0887\"], [0.1111111111111111, \"#46039f\"], [0.2222222222222222, \"#7201a8\"], [0.3333333333333333, \"#9c179e\"], [0.4444444444444444, \"#bd3786\"], [0.5555555555555556, \"#d8576b\"], [0.6666666666666666, \"#ed7953\"], [0.7777777777777778, \"#fb9f3a\"], [0.8888888888888888, \"#fdca26\"], [1.0, \"#f0f921\"]], \"type\": \"surface\"}], \"table\": [{\"cells\": {\"fill\": {\"color\": \"#EBF0F8\"}, \"line\": {\"color\": \"white\"}}, \"header\": {\"fill\": {\"color\": \"#C8D4E3\"}, \"line\": {\"color\": \"white\"}}, \"type\": \"table\"}]}, \"layout\": {\"annotationdefaults\": {\"arrowcolor\": \"#2a3f5f\", \"arrowhead\": 0, \"arrowwidth\": 1}, \"coloraxis\": {\"colorbar\": {\"outlinewidth\": 0, \"ticks\": \"\"}}, \"colorscale\": {\"diverging\": [[0, \"#8e0152\"], [0.1, \"#c51b7d\"], [0.2, \"#de77ae\"], [0.3, \"#f1b6da\"], [0.4, \"#fde0ef\"], [0.5, \"#f7f7f7\"], [0.6, \"#e6f5d0\"], [0.7, \"#b8e186\"], [0.8, \"#7fbc41\"], [0.9, \"#4d9221\"], [1, \"#276419\"]], \"sequential\": [[0.0, \"#0d0887\"], [0.1111111111111111, \"#46039f\"], [0.2222222222222222, \"#7201a8\"], [0.3333333333333333, \"#9c179e\"], [0.4444444444444444, \"#bd3786\"], [0.5555555555555556, \"#d8576b\"], [0.6666666666666666, \"#ed7953\"], [0.7777777777777778, \"#fb9f3a\"], [0.8888888888888888, \"#fdca26\"], [1.0, \"#f0f921\"]], \"sequentialminus\": [[0.0, \"#0d0887\"], [0.1111111111111111, \"#46039f\"], [0.2222222222222222, \"#7201a8\"], [0.3333333333333333, \"#9c179e\"], [0.4444444444444444, \"#bd3786\"], [0.5555555555555556, \"#d8576b\"], [0.6666666666666666, \"#ed7953\"], [0.7777777777777778, \"#fb9f3a\"], [0.8888888888888888, \"#fdca26\"], [1.0, \"#f0f921\"]]}, \"colorway\": [\"#636efa\", \"#EF553B\", \"#00cc96\", \"#ab63fa\", \"#FFA15A\", \"#19d3f3\", \"#FF6692\", \"#B6E880\", \"#FF97FF\", \"#FECB52\"], \"font\": {\"color\": \"#2a3f5f\"}, \"geo\": {\"bgcolor\": \"white\", \"lakecolor\": \"white\", \"landcolor\": \"#E5ECF6\", \"showlakes\": true, \"showland\": true, \"subunitcolor\": \"white\"}, \"hoverlabel\": {\"align\": \"left\"}, \"hovermode\": \"closest\", \"mapbox\": {\"style\": \"light\"}, \"paper_bgcolor\": \"white\", \"plot_bgcolor\": \"#E5ECF6\", \"polar\": {\"angularaxis\": {\"gridcolor\": \"white\", \"linecolor\": \"white\", \"ticks\": \"\"}, \"bgcolor\": \"#E5ECF6\", \"radialaxis\": {\"gridcolor\": \"white\", \"linecolor\": \"white\", \"ticks\": \"\"}}, \"scene\": {\"xaxis\": {\"backgroundcolor\": \"#E5ECF6\", \"gridcolor\": \"white\", \"gridwidth\": 2, \"linecolor\": \"white\", \"showbackground\": true, \"ticks\": \"\", \"zerolinecolor\": \"white\"}, \"yaxis\": {\"backgroundcolor\": \"#E5ECF6\", \"gridcolor\": \"white\", \"gridwidth\": 2, \"linecolor\": \"white\", \"showbackground\": true, \"ticks\": \"\", \"zerolinecolor\": \"white\"}, \"zaxis\": {\"backgroundcolor\": \"#E5ECF6\", \"gridcolor\": \"white\", \"gridwidth\": 2, \"linecolor\": \"white\", \"showbackground\": true, \"ticks\": \"\", \"zerolinecolor\": \"white\"}}, \"shapedefaults\": {\"line\": {\"color\": \"#2a3f5f\"}}, \"ternary\": {\"aaxis\": {\"gridcolor\": \"white\", \"linecolor\": \"white\", \"ticks\": \"\"}, \"baxis\": {\"gridcolor\": \"white\", \"linecolor\": \"white\", \"ticks\": \"\"}, \"bgcolor\": \"#E5ECF6\", \"caxis\": {\"gridcolor\": \"white\", \"linecolor\": \"white\", \"ticks\": \"\"}}, \"title\": {\"x\": 0.05}, \"xaxis\": {\"automargin\": true, \"gridcolor\": \"white\", \"linecolor\": \"white\", \"ticks\": \"\", \"title\": {\"standoff\": 15}, \"zerolinecolor\": \"white\", \"zerolinewidth\": 2}, \"yaxis\": {\"automargin\": true, \"gridcolor\": \"white\", \"linecolor\": \"white\", \"ticks\": \"\", \"title\": {\"standoff\": 15}, \"zerolinecolor\": \"white\", \"zerolinewidth\": 2}}}, \"updatemenus\": [{\"buttons\": [{\"args\": [{\"scene.annotations\": [{\"showarrow\": false, \"text\": \"O1\", \"x\": 1.2442, \"y\": 0.4899, \"yshift\": 15, \"z\": 0.7162}, {\"showarrow\": false, \"text\": \"O2\", \"x\": -1.2773, \"y\": -0.3827, \"yshift\": 15, \"z\": 0.7611}, {\"showarrow\": false, \"text\": \"O3\", \"x\": 0.4711, \"y\": -1.3736, \"yshift\": 15, \"z\": -0.5}, {\"showarrow\": false, \"text\": \"O4\", \"x\": -0.3603, \"y\": 1.0746, \"yshift\": 15, \"z\": -1.1014}, {\"showarrow\": false, \"text\": \"P5\", \"x\": 0.0, \"y\": 0.0, \"yshift\": 15, \"z\": 0.0}, {\"showarrow\": false, \"text\": \"H6\", \"x\": -1.2845, \"y\": 1.0454, \"yshift\": 15, \"z\": -1.3882}, {\"showarrow\": false, \"text\": \"P7\", \"x\": 4.1608, \"y\": -0.5382, \"yshift\": 15, \"z\": 2.8999}, {\"showarrow\": false, \"text\": \"O8\", \"x\": 5.3773, \"y\": -0.0449, \"yshift\": 15, \"z\": 3.6944}, {\"showarrow\": false, \"text\": \"O9\", \"x\": 2.8727, \"y\": -0.9593, \"yshift\": 15, \"z\": 3.6129}, {\"showarrow\": false, \"text\": \"O10\", \"x\": 4.6675, \"y\": -1.8863, \"yshift\": 15, \"z\": 2.3846}, {\"showarrow\": false, \"text\": \"O11\", \"x\": 3.8385, \"y\": 0.5694, \"yshift\": 15, \"z\": 1.8253}, {\"showarrow\": false, \"text\": \"H12\", \"x\": 2.9252, \"y\": 0.5279, \"yshift\": 15, \"z\": 1.4771}]}], \"label\": \"Elements\", \"method\": \"relayout\"}, {\"args\": [{\"scene.annotations\": [{\"showarrow\": false, \"text\": \"O1\", \"x\": 1.2442, \"y\": 0.4899, \"yshift\": 15, \"z\": 0.7162}, {\"showarrow\": false, \"text\": \"O2\", \"x\": -1.2773, \"y\": -0.3827, \"yshift\": 15, \"z\": 0.7611}, {\"showarrow\": false, \"text\": \"O3\", \"x\": 0.4711, \"y\": -1.3736, \"yshift\": 15, \"z\": -0.5}, {\"showarrow\": false, \"text\": \"O4\", \"x\": -0.3603, \"y\": 1.0746, \"yshift\": 15, \"z\": -1.1014}, {\"showarrow\": false, \"text\": \"P5\", \"x\": 0.0, \"y\": 0.0, \"yshift\": 15, \"z\": 0.0}, {\"showarrow\": false, \"text\": \"H6\", \"x\": -1.2845, \"y\": 1.0454, \"yshift\": 15, \"z\": -1.3882}, {\"showarrow\": false, \"text\": \"P7\", \"x\": 4.1608, \"y\": -0.5382, \"yshift\": 15, \"z\": 2.8999}, {\"showarrow\": false, \"text\": \"O8\", \"x\": 5.3773, \"y\": -0.0449, \"yshift\": 15, \"z\": 3.6944}, {\"showarrow\": false, \"text\": \"O9\", \"x\": 2.8727, \"y\": -0.9593, \"yshift\": 15, \"z\": 3.6129}, {\"showarrow\": false, \"text\": \"O10\", \"x\": 4.6675, \"y\": -1.8863, \"yshift\": 15, \"z\": 2.3846}, {\"showarrow\": false, \"text\": \"O11\", \"x\": 3.8385, \"y\": 0.5694, \"yshift\": 15, \"z\": 1.8253}, {\"showarrow\": false, \"text\": \"H12\", \"x\": 2.9252, \"y\": 0.5279, \"yshift\": 15, \"z\": 1.4771}, {\"font\": {\"color\": \"steelblue\"}, \"showarrow\": false, \"text\": \"1.517\", \"x\": 0.6221, \"y\": 0.24495, \"yshift\": 15, \"z\": 0.3581}, {\"font\": {\"color\": \"steelblue\"}, \"showarrow\": false, \"text\": \"1.535\", \"x\": -0.63865, \"y\": -0.19135, \"yshift\": 15, \"z\": 0.38055}, {\"font\": {\"color\": \"steelblue\"}, \"showarrow\": false, \"text\": \"1.536\", \"x\": 0.23555, \"y\": -0.6868, \"yshift\": 15, \"z\": -0.25}, {\"font\": {\"color\": \"steelblue\"}, \"showarrow\": false, \"text\": \"1.580\", \"x\": -0.18015, \"y\": 0.5373, \"yshift\": 15, \"z\": -0.5507}, {\"font\": {\"color\": \"steelblue\"}, \"showarrow\": false, \"text\": \"0.968\", \"x\": -0.8224, \"y\": 1.06, \"yshift\": 15, \"z\": -1.2448000000000001}, {\"font\": {\"color\": \"steelblue\"}, \"showarrow\": false, \"text\": \"1.534\", \"x\": 4.76905, \"y\": -0.29155000000000003, \"yshift\": 15, \"z\": 3.2971500000000002}, {\"font\": {\"color\": \"steelblue\"}, \"showarrow\": false, \"text\": \"1.531\", \"x\": 3.51675, \"y\": -0.74875, \"yshift\": 15, \"z\": 3.2564}, {\"font\": {\"color\": \"steelblue\"}, \"showarrow\": false, \"text\": \"1.530\", \"x\": 4.41415, \"y\": -1.21225, \"yshift\": 15, \"z\": 2.6422499999999998}, {\"font\": {\"color\": \"steelblue\"}, \"showarrow\": false, \"text\": \"1.577\", \"x\": 3.99965, \"y\": 0.015600000000000003, \"yshift\": 15, \"z\": 2.3626}, {\"font\": {\"color\": \"steelblue\"}, \"showarrow\": false, \"text\": \"0.978\", \"x\": 3.38185, \"y\": 0.5486500000000001, \"yshift\": 15, \"z\": 1.6512}, {\"font\": {\"color\": \"steelblue\"}, \"showarrow\": false, \"text\": 1.846, \"x\": 2.0846999999999998, \"y\": 0.5089, \"yshift\": 15, \"z\": 1.09665}]}], \"label\": \"Element & Bond Lengths\", \"method\": \"relayout\"}, {\"args\": [{\"scene.annotations\": [{\"showarrow\": false, \"text\": 0, \"x\": 1.2442, \"y\": 0.4899, \"yshift\": 15, \"z\": 0.7162}, {\"showarrow\": false, \"text\": 1, \"x\": -1.2773, \"y\": -0.3827, \"yshift\": 15, \"z\": 0.7611}, {\"showarrow\": false, \"text\": 2, \"x\": 0.4711, \"y\": -1.3736, \"yshift\": 15, \"z\": -0.5}, {\"showarrow\": false, \"text\": 3, \"x\": -0.3603, \"y\": 1.0746, \"yshift\": 15, \"z\": -1.1014}, {\"showarrow\": false, \"text\": 4, \"x\": 0.0, \"y\": 0.0, \"yshift\": 15, \"z\": 0.0}, {\"showarrow\": false, \"text\": 5, \"x\": -1.2845, \"y\": 1.0454, \"yshift\": 15, \"z\": -1.3882}, {\"showarrow\": false, \"text\": 6, \"x\": 4.1608, \"y\": -0.5382, \"yshift\": 15, \"z\": 2.8999}, {\"showarrow\": false, \"text\": 7, \"x\": 5.3773, \"y\": -0.0449, \"yshift\": 15, \"z\": 3.6944}, {\"showarrow\": false, \"text\": 8, \"x\": 2.8727, \"y\": -0.9593, \"yshift\": 15, \"z\": 3.6129}, {\"showarrow\": false, \"text\": 9, \"x\": 4.6675, \"y\": -1.8863, \"yshift\": 15, \"z\": 2.3846}, {\"showarrow\": false, \"text\": 10, \"x\": 3.8385, \"y\": 0.5694, \"yshift\": 15, \"z\": 1.8253}, {\"showarrow\": false, \"text\": 11, \"x\": 2.9252, \"y\": 0.5279, \"yshift\": 15, \"z\": 1.4771}]}], \"label\": \"Indices\", \"method\": \"relayout\"}, {\"args\": [{\"scene.annotations\": [{\"showarrow\": false, \"text\": 0, \"x\": 1.2442, \"y\": 0.4899, \"yshift\": 15, \"z\": 0.7162}, {\"showarrow\": false, \"text\": 1, \"x\": -1.2773, \"y\": -0.3827, \"yshift\": 15, \"z\": 0.7611}, {\"showarrow\": false, \"text\": 2, \"x\": 0.4711, \"y\": -1.3736, \"yshift\": 15, \"z\": -0.5}, {\"showarrow\": false, \"text\": 3, \"x\": -0.3603, \"y\": 1.0746, \"yshift\": 15, \"z\": -1.1014}, {\"showarrow\": false, \"text\": 4, \"x\": 0.0, \"y\": 0.0, \"yshift\": 15, \"z\": 0.0}, {\"showarrow\": false, \"text\": 5, \"x\": -1.2845, \"y\": 1.0454, \"yshift\": 15, \"z\": -1.3882}, {\"showarrow\": false, \"text\": 6, \"x\": 4.1608, \"y\": -0.5382, \"yshift\": 15, \"z\": 2.8999}, {\"showarrow\": false, \"text\": 7, \"x\": 5.3773, \"y\": -0.0449, \"yshift\": 15, \"z\": 3.6944}, {\"showarrow\": false, \"text\": 8, \"x\": 2.8727, \"y\": -0.9593, \"yshift\": 15, \"z\": 3.6129}, {\"showarrow\": false, \"text\": 9, \"x\": 4.6675, \"y\": -1.8863, \"yshift\": 15, \"z\": 2.3846}, {\"showarrow\": false, \"text\": 10, \"x\": 3.8385, \"y\": 0.5694, \"yshift\": 15, \"z\": 1.8253}, {\"showarrow\": false, \"text\": 11, \"x\": 2.9252, \"y\": 0.5279, \"yshift\": 15, \"z\": 1.4771}, {\"font\": {\"color\": \"steelblue\"}, \"showarrow\": false, \"text\": \"1.517\", \"x\": 0.6221, \"y\": 0.24495, \"yshift\": 15, \"z\": 0.3581}, {\"font\": {\"color\": \"steelblue\"}, \"showarrow\": false, \"text\": \"1.535\", \"x\": -0.63865, \"y\": -0.19135, \"yshift\": 15, \"z\": 0.38055}, {\"font\": {\"color\": \"steelblue\"}, \"showarrow\": false, \"text\": \"1.536\", \"x\": 0.23555, \"y\": -0.6868, \"yshift\": 15, \"z\": -0.25}, {\"font\": {\"color\": \"steelblue\"}, \"showarrow\": false, \"text\": \"1.580\", \"x\": -0.18015, \"y\": 0.5373, \"yshift\": 15, \"z\": -0.5507}, {\"font\": {\"color\": \"steelblue\"}, \"showarrow\": false, \"text\": \"0.968\", \"x\": -0.8224, \"y\": 1.06, \"yshift\": 15, \"z\": -1.2448000000000001}, {\"font\": {\"color\": \"steelblue\"}, \"showarrow\": false, \"text\": \"1.534\", \"x\": 4.76905, \"y\": -0.29155000000000003, \"yshift\": 15, \"z\": 3.2971500000000002}, {\"font\": {\"color\": \"steelblue\"}, \"showarrow\": false, \"text\": \"1.531\", \"x\": 3.51675, \"y\": -0.74875, \"yshift\": 15, \"z\": 3.2564}, {\"font\": {\"color\": \"steelblue\"}, \"showarrow\": false, \"text\": \"1.530\", \"x\": 4.41415, \"y\": -1.21225, \"yshift\": 15, \"z\": 2.6422499999999998}, {\"font\": {\"color\": \"steelblue\"}, \"showarrow\": false, \"text\": \"1.577\", \"x\": 3.99965, \"y\": 0.015600000000000003, \"yshift\": 15, \"z\": 2.3626}, {\"font\": {\"color\": \"steelblue\"}, \"showarrow\": false, \"text\": \"0.978\", \"x\": 3.38185, \"y\": 0.5486500000000001, \"yshift\": 15, \"z\": 1.6512}, {\"font\": {\"color\": \"steelblue\"}, \"showarrow\": false, \"text\": 1.846, \"x\": 2.0846999999999998, \"y\": 0.5089, \"yshift\": 15, \"z\": 1.09665}]}], \"label\": \"Indices & Bond Lengths\", \"method\": \"relayout\"}, {\"args\": [{\"scene.annotations\": [{\"font\": {\"color\": \"steelblue\"}, \"showarrow\": false, \"text\": \"1.517\", \"x\": 0.6221, \"y\": 0.24495, \"yshift\": 15, \"z\": 0.3581}, {\"font\": {\"color\": \"steelblue\"}, \"showarrow\": false, \"text\": \"1.535\", \"x\": -0.63865, \"y\": -0.19135, \"yshift\": 15, \"z\": 0.38055}, {\"font\": {\"color\": \"steelblue\"}, \"showarrow\": false, \"text\": \"1.536\", \"x\": 0.23555, \"y\": -0.6868, \"yshift\": 15, \"z\": -0.25}, {\"font\": {\"color\": \"steelblue\"}, \"showarrow\": false, \"text\": \"1.580\", \"x\": -0.18015, \"y\": 0.5373, \"yshift\": 15, \"z\": -0.5507}, {\"font\": {\"color\": \"steelblue\"}, \"showarrow\": false, \"text\": \"0.968\", \"x\": -0.8224, \"y\": 1.06, \"yshift\": 15, \"z\": -1.2448000000000001}, {\"font\": {\"color\": \"steelblue\"}, \"showarrow\": false, \"text\": \"1.534\", \"x\": 4.76905, \"y\": -0.29155000000000003, \"yshift\": 15, \"z\": 3.2971500000000002}, {\"font\": {\"color\": \"steelblue\"}, \"showarrow\": false, \"text\": \"1.531\", \"x\": 3.51675, \"y\": -0.74875, \"yshift\": 15, \"z\": 3.2564}, {\"font\": {\"color\": \"steelblue\"}, \"showarrow\": false, \"text\": \"1.530\", \"x\": 4.41415, \"y\": -1.21225, \"yshift\": 15, \"z\": 2.6422499999999998}, {\"font\": {\"color\": \"steelblue\"}, \"showarrow\": false, \"text\": \"1.577\", \"x\": 3.99965, \"y\": 0.015600000000000003, \"yshift\": 15, \"z\": 2.3626}, {\"font\": {\"color\": \"steelblue\"}, \"showarrow\": false, \"text\": \"0.978\", \"x\": 3.38185, \"y\": 0.5486500000000001, \"yshift\": 15, \"z\": 1.6512}, {\"font\": {\"color\": \"steelblue\"}, \"showarrow\": false, \"text\": 1.846, \"x\": 2.0846999999999998, \"y\": 0.5089, \"yshift\": 15, \"z\": 1.09665}]}], \"label\": \"Bond Lengths\", \"method\": \"relayout\"}, {\"args\": [{}], \"label\": \"Hide All\", \"method\": \"relayout\"}], \"direction\": \"down\", \"xanchor\": \"left\", \"yanchor\": \"top\"}]},                        {\"responsive\": true}                    ).then(function(){\n",
       "                            \n",
       "var gd = document.getElementById('a12b6328-b6ce-41df-848f-49be536459c5');\n",
       "var x = new MutationObserver(function (mutations, observer) {{\n",
       "        var display = window.getComputedStyle(gd).display;\n",
       "        if (!display || display === 'none') {{\n",
       "            console.log([gd, 'removed!']);\n",
       "            Plotly.purge(gd);\n",
       "            observer.disconnect();\n",
       "        }}\n",
       "}});\n",
       "\n",
       "// Listen for the removal of the full notebook cells\n",
       "var notebookContainer = gd.closest('#notebook-container');\n",
       "if (notebookContainer) {{\n",
       "    x.observe(notebookContainer, {childList: true});\n",
       "}}\n",
       "\n",
       "// Listen for the clearing of the current output cell\n",
       "var outputEl = gd.closest('.output');\n",
       "if (outputEl) {{\n",
       "    x.observe(outputEl, {childList: true});\n",
       "}}\n",
       "\n",
       "                        })                };                });            </script>        </div>"
      ]
     },
     "metadata": {},
     "output_type": "display_data"
    },
    {
     "data": {
      "application/vnd.plotly.v1+json": {
       "config": {
        "linkText": "Export to plot.ly",
        "plotlyServerURL": "https://plot.ly",
        "showLink": false
       },
       "data": [
        {
         "marker": {
          "color": [
           "white",
           "red",
           "red",
           "red",
           "red",
           "red",
           "red",
           "red",
           "red",
           "orange",
           "orange"
          ],
          "line": {
           "color": "lightgray",
           "width": 2
          },
          "opacity": 0.8,
          "size": [
           9.200000000000001,
           27.200000000000003,
           27.200000000000003,
           27.200000000000003,
           27.200000000000003,
           27.200000000000003,
           27.200000000000003,
           27.200000000000003,
           27.200000000000003,
           42,
           42
          ],
          "symbol": "circle"
         },
         "mode": "markers",
         "text": [
          "H1",
          "O1",
          "O2",
          "O3",
          "O4",
          "O5",
          "O6",
          "O7",
          "O8",
          "P1",
          "P2"
         ],
         "type": "scatter3d",
         "x": [
          1.4308,
          0.1652,
          0.1624,
          0.5348,
          -1.2871,
          1.9061,
          2.0717,
          0.4896,
          -0.196,
          0,
          1.1557
         ],
         "y": [
          -2.0272,
          1.5227,
          -0.7982,
          -0.6786,
          0.942,
          -2.7502,
          -3.1274,
          -4.5739,
          -2.2591,
          0,
          -3.2271
         ],
         "z": [
          -0.797,
          0.4269,
          1.39,
          -1.193,
          -0.0297,
          -0.274,
          2.2232,
          0.8882,
          1.1409,
          0,
          1.0297
         ]
        },
        {
         "hoverinfo": "none",
         "marker": {
          "color": "gray",
          "opacity": 0.1,
          "size": 3
         },
         "mode": "lines",
         "type": "scatter3d",
         "x": [
          1.4308,
          1.9061,
          null,
          1.4308,
          0.5348,
          null,
          1.9061,
          1.4308,
          null,
          1.9061,
          1.1557,
          null,
          0.1652,
          0,
          null,
          0,
          0.1652,
          null,
          0,
          0.5348,
          null,
          0,
          -1.2871,
          null,
          0,
          0.1624,
          null,
          0.1624,
          0,
          null,
          0.5348,
          0,
          null,
          0.5348,
          1.4308,
          null,
          -1.2871,
          0,
          null,
          1.1557,
          1.9061,
          null,
          1.1557,
          2.0717,
          null,
          1.1557,
          -0.196,
          null,
          1.1557,
          0.4896,
          null,
          2.0717,
          1.1557,
          null,
          0.4896,
          1.1557,
          null,
          -0.196,
          1.1557,
          null
         ],
         "y": [
          -2.0272,
          -2.7502,
          null,
          -2.0272,
          -0.6786,
          null,
          -2.7502,
          -2.0272,
          null,
          -2.7502,
          -3.2271,
          null,
          1.5227,
          0,
          null,
          0,
          1.5227,
          null,
          0,
          -0.6786,
          null,
          0,
          0.942,
          null,
          0,
          -0.7982,
          null,
          -0.7982,
          0,
          null,
          -0.6786,
          0,
          null,
          -0.6786,
          -2.0272,
          null,
          0.942,
          0,
          null,
          -3.2271,
          -2.7502,
          null,
          -3.2271,
          -3.1274,
          null,
          -3.2271,
          -2.2591,
          null,
          -3.2271,
          -4.5739,
          null,
          -3.1274,
          -3.2271,
          null,
          -4.5739,
          -3.2271,
          null,
          -2.2591,
          -3.2271,
          null
         ],
         "z": [
          -0.797,
          -0.274,
          null,
          -0.797,
          -1.193,
          null,
          -0.274,
          -0.797,
          null,
          -0.274,
          1.0297,
          null,
          0.4269,
          0,
          null,
          0,
          0.4269,
          null,
          0,
          -1.193,
          null,
          0,
          -0.0297,
          null,
          0,
          1.39,
          null,
          1.39,
          0,
          null,
          -1.193,
          0,
          null,
          -1.193,
          -0.797,
          null,
          -0.0297,
          0,
          null,
          1.0297,
          -0.274,
          null,
          1.0297,
          2.2232,
          null,
          1.0297,
          1.1409,
          null,
          1.0297,
          0.8882,
          null,
          2.2232,
          1.0297,
          null,
          0.8882,
          1.0297,
          null,
          1.1409,
          1.0297,
          null
         ]
        }
       ],
       "layout": {
        "margin": {
         "b": 0,
         "l": 0,
         "r": 0,
         "t": 0
        },
        "scene": {
         "annotations": [
          {
           "showarrow": false,
           "text": "H1",
           "x": 1.4308,
           "y": -2.0272,
           "yshift": 15,
           "z": -0.797
          },
          {
           "showarrow": false,
           "text": "O1",
           "x": 0.1652,
           "y": 1.5227,
           "yshift": 15,
           "z": 0.4269
          },
          {
           "showarrow": false,
           "text": "O2",
           "x": 0.1624,
           "y": -0.7982,
           "yshift": 15,
           "z": 1.39
          },
          {
           "showarrow": false,
           "text": "O3",
           "x": 0.5348,
           "y": -0.6786,
           "yshift": 15,
           "z": -1.193
          },
          {
           "showarrow": false,
           "text": "O4",
           "x": -1.2871,
           "y": 0.942,
           "yshift": 15,
           "z": -0.0297
          },
          {
           "showarrow": false,
           "text": "O5",
           "x": 1.9061,
           "y": -2.7502,
           "yshift": 15,
           "z": -0.274
          },
          {
           "showarrow": false,
           "text": "O6",
           "x": 2.0717,
           "y": -3.1274,
           "yshift": 15,
           "z": 2.2232
          },
          {
           "showarrow": false,
           "text": "O7",
           "x": 0.4896,
           "y": -4.5739,
           "yshift": 15,
           "z": 0.8882
          },
          {
           "showarrow": false,
           "text": "O8",
           "x": -0.196,
           "y": -2.2591,
           "yshift": 15,
           "z": 1.1409
          },
          {
           "showarrow": false,
           "text": "P1",
           "x": 0,
           "y": 0,
           "yshift": 15,
           "z": 0
          },
          {
           "showarrow": false,
           "text": "P2",
           "x": 1.1557,
           "y": -3.2271,
           "yshift": 15,
           "z": 1.0297
          }
         ],
         "xaxis": {
          "showbackground": true,
          "showgrid": true,
          "showticklabels": true,
          "title": {
           "font": {
            "color": "white"
           }
          },
          "zeroline": true
         },
         "yaxis": {
          "showbackground": true,
          "showgrid": true,
          "showticklabels": true,
          "title": {
           "font": {
            "color": "white"
           }
          },
          "zeroline": true
         },
         "zaxis": {
          "showbackground": true,
          "showgrid": true,
          "showticklabels": true,
          "title": {
           "font": {
            "color": "white"
           }
          },
          "zeroline": true
         }
        },
        "showlegend": false,
        "template": {
         "data": {
          "bar": [
           {
            "error_x": {
             "color": "#2a3f5f"
            },
            "error_y": {
             "color": "#2a3f5f"
            },
            "marker": {
             "line": {
              "color": "#E5ECF6",
              "width": 0.5
             }
            },
            "type": "bar"
           }
          ],
          "barpolar": [
           {
            "marker": {
             "line": {
              "color": "#E5ECF6",
              "width": 0.5
             }
            },
            "type": "barpolar"
           }
          ],
          "carpet": [
           {
            "aaxis": {
             "endlinecolor": "#2a3f5f",
             "gridcolor": "white",
             "linecolor": "white",
             "minorgridcolor": "white",
             "startlinecolor": "#2a3f5f"
            },
            "baxis": {
             "endlinecolor": "#2a3f5f",
             "gridcolor": "white",
             "linecolor": "white",
             "minorgridcolor": "white",
             "startlinecolor": "#2a3f5f"
            },
            "type": "carpet"
           }
          ],
          "choropleth": [
           {
            "colorbar": {
             "outlinewidth": 0,
             "ticks": ""
            },
            "type": "choropleth"
           }
          ],
          "contour": [
           {
            "colorbar": {
             "outlinewidth": 0,
             "ticks": ""
            },
            "colorscale": [
             [
              0,
              "#0d0887"
             ],
             [
              0.1111111111111111,
              "#46039f"
             ],
             [
              0.2222222222222222,
              "#7201a8"
             ],
             [
              0.3333333333333333,
              "#9c179e"
             ],
             [
              0.4444444444444444,
              "#bd3786"
             ],
             [
              0.5555555555555556,
              "#d8576b"
             ],
             [
              0.6666666666666666,
              "#ed7953"
             ],
             [
              0.7777777777777778,
              "#fb9f3a"
             ],
             [
              0.8888888888888888,
              "#fdca26"
             ],
             [
              1,
              "#f0f921"
             ]
            ],
            "type": "contour"
           }
          ],
          "contourcarpet": [
           {
            "colorbar": {
             "outlinewidth": 0,
             "ticks": ""
            },
            "type": "contourcarpet"
           }
          ],
          "heatmap": [
           {
            "colorbar": {
             "outlinewidth": 0,
             "ticks": ""
            },
            "colorscale": [
             [
              0,
              "#0d0887"
             ],
             [
              0.1111111111111111,
              "#46039f"
             ],
             [
              0.2222222222222222,
              "#7201a8"
             ],
             [
              0.3333333333333333,
              "#9c179e"
             ],
             [
              0.4444444444444444,
              "#bd3786"
             ],
             [
              0.5555555555555556,
              "#d8576b"
             ],
             [
              0.6666666666666666,
              "#ed7953"
             ],
             [
              0.7777777777777778,
              "#fb9f3a"
             ],
             [
              0.8888888888888888,
              "#fdca26"
             ],
             [
              1,
              "#f0f921"
             ]
            ],
            "type": "heatmap"
           }
          ],
          "heatmapgl": [
           {
            "colorbar": {
             "outlinewidth": 0,
             "ticks": ""
            },
            "colorscale": [
             [
              0,
              "#0d0887"
             ],
             [
              0.1111111111111111,
              "#46039f"
             ],
             [
              0.2222222222222222,
              "#7201a8"
             ],
             [
              0.3333333333333333,
              "#9c179e"
             ],
             [
              0.4444444444444444,
              "#bd3786"
             ],
             [
              0.5555555555555556,
              "#d8576b"
             ],
             [
              0.6666666666666666,
              "#ed7953"
             ],
             [
              0.7777777777777778,
              "#fb9f3a"
             ],
             [
              0.8888888888888888,
              "#fdca26"
             ],
             [
              1,
              "#f0f921"
             ]
            ],
            "type": "heatmapgl"
           }
          ],
          "histogram": [
           {
            "marker": {
             "colorbar": {
              "outlinewidth": 0,
              "ticks": ""
             }
            },
            "type": "histogram"
           }
          ],
          "histogram2d": [
           {
            "colorbar": {
             "outlinewidth": 0,
             "ticks": ""
            },
            "colorscale": [
             [
              0,
              "#0d0887"
             ],
             [
              0.1111111111111111,
              "#46039f"
             ],
             [
              0.2222222222222222,
              "#7201a8"
             ],
             [
              0.3333333333333333,
              "#9c179e"
             ],
             [
              0.4444444444444444,
              "#bd3786"
             ],
             [
              0.5555555555555556,
              "#d8576b"
             ],
             [
              0.6666666666666666,
              "#ed7953"
             ],
             [
              0.7777777777777778,
              "#fb9f3a"
             ],
             [
              0.8888888888888888,
              "#fdca26"
             ],
             [
              1,
              "#f0f921"
             ]
            ],
            "type": "histogram2d"
           }
          ],
          "histogram2dcontour": [
           {
            "colorbar": {
             "outlinewidth": 0,
             "ticks": ""
            },
            "colorscale": [
             [
              0,
              "#0d0887"
             ],
             [
              0.1111111111111111,
              "#46039f"
             ],
             [
              0.2222222222222222,
              "#7201a8"
             ],
             [
              0.3333333333333333,
              "#9c179e"
             ],
             [
              0.4444444444444444,
              "#bd3786"
             ],
             [
              0.5555555555555556,
              "#d8576b"
             ],
             [
              0.6666666666666666,
              "#ed7953"
             ],
             [
              0.7777777777777778,
              "#fb9f3a"
             ],
             [
              0.8888888888888888,
              "#fdca26"
             ],
             [
              1,
              "#f0f921"
             ]
            ],
            "type": "histogram2dcontour"
           }
          ],
          "mesh3d": [
           {
            "colorbar": {
             "outlinewidth": 0,
             "ticks": ""
            },
            "type": "mesh3d"
           }
          ],
          "parcoords": [
           {
            "line": {
             "colorbar": {
              "outlinewidth": 0,
              "ticks": ""
             }
            },
            "type": "parcoords"
           }
          ],
          "pie": [
           {
            "automargin": true,
            "type": "pie"
           }
          ],
          "scatter": [
           {
            "marker": {
             "colorbar": {
              "outlinewidth": 0,
              "ticks": ""
             }
            },
            "type": "scatter"
           }
          ],
          "scatter3d": [
           {
            "line": {
             "colorbar": {
              "outlinewidth": 0,
              "ticks": ""
             }
            },
            "marker": {
             "colorbar": {
              "outlinewidth": 0,
              "ticks": ""
             }
            },
            "type": "scatter3d"
           }
          ],
          "scattercarpet": [
           {
            "marker": {
             "colorbar": {
              "outlinewidth": 0,
              "ticks": ""
             }
            },
            "type": "scattercarpet"
           }
          ],
          "scattergeo": [
           {
            "marker": {
             "colorbar": {
              "outlinewidth": 0,
              "ticks": ""
             }
            },
            "type": "scattergeo"
           }
          ],
          "scattergl": [
           {
            "marker": {
             "colorbar": {
              "outlinewidth": 0,
              "ticks": ""
             }
            },
            "type": "scattergl"
           }
          ],
          "scattermapbox": [
           {
            "marker": {
             "colorbar": {
              "outlinewidth": 0,
              "ticks": ""
             }
            },
            "type": "scattermapbox"
           }
          ],
          "scatterpolar": [
           {
            "marker": {
             "colorbar": {
              "outlinewidth": 0,
              "ticks": ""
             }
            },
            "type": "scatterpolar"
           }
          ],
          "scatterpolargl": [
           {
            "marker": {
             "colorbar": {
              "outlinewidth": 0,
              "ticks": ""
             }
            },
            "type": "scatterpolargl"
           }
          ],
          "scatterternary": [
           {
            "marker": {
             "colorbar": {
              "outlinewidth": 0,
              "ticks": ""
             }
            },
            "type": "scatterternary"
           }
          ],
          "surface": [
           {
            "colorbar": {
             "outlinewidth": 0,
             "ticks": ""
            },
            "colorscale": [
             [
              0,
              "#0d0887"
             ],
             [
              0.1111111111111111,
              "#46039f"
             ],
             [
              0.2222222222222222,
              "#7201a8"
             ],
             [
              0.3333333333333333,
              "#9c179e"
             ],
             [
              0.4444444444444444,
              "#bd3786"
             ],
             [
              0.5555555555555556,
              "#d8576b"
             ],
             [
              0.6666666666666666,
              "#ed7953"
             ],
             [
              0.7777777777777778,
              "#fb9f3a"
             ],
             [
              0.8888888888888888,
              "#fdca26"
             ],
             [
              1,
              "#f0f921"
             ]
            ],
            "type": "surface"
           }
          ],
          "table": [
           {
            "cells": {
             "fill": {
              "color": "#EBF0F8"
             },
             "line": {
              "color": "white"
             }
            },
            "header": {
             "fill": {
              "color": "#C8D4E3"
             },
             "line": {
              "color": "white"
             }
            },
            "type": "table"
           }
          ]
         },
         "layout": {
          "annotationdefaults": {
           "arrowcolor": "#2a3f5f",
           "arrowhead": 0,
           "arrowwidth": 1
          },
          "coloraxis": {
           "colorbar": {
            "outlinewidth": 0,
            "ticks": ""
           }
          },
          "colorscale": {
           "diverging": [
            [
             0,
             "#8e0152"
            ],
            [
             0.1,
             "#c51b7d"
            ],
            [
             0.2,
             "#de77ae"
            ],
            [
             0.3,
             "#f1b6da"
            ],
            [
             0.4,
             "#fde0ef"
            ],
            [
             0.5,
             "#f7f7f7"
            ],
            [
             0.6,
             "#e6f5d0"
            ],
            [
             0.7,
             "#b8e186"
            ],
            [
             0.8,
             "#7fbc41"
            ],
            [
             0.9,
             "#4d9221"
            ],
            [
             1,
             "#276419"
            ]
           ],
           "sequential": [
            [
             0,
             "#0d0887"
            ],
            [
             0.1111111111111111,
             "#46039f"
            ],
            [
             0.2222222222222222,
             "#7201a8"
            ],
            [
             0.3333333333333333,
             "#9c179e"
            ],
            [
             0.4444444444444444,
             "#bd3786"
            ],
            [
             0.5555555555555556,
             "#d8576b"
            ],
            [
             0.6666666666666666,
             "#ed7953"
            ],
            [
             0.7777777777777778,
             "#fb9f3a"
            ],
            [
             0.8888888888888888,
             "#fdca26"
            ],
            [
             1,
             "#f0f921"
            ]
           ],
           "sequentialminus": [
            [
             0,
             "#0d0887"
            ],
            [
             0.1111111111111111,
             "#46039f"
            ],
            [
             0.2222222222222222,
             "#7201a8"
            ],
            [
             0.3333333333333333,
             "#9c179e"
            ],
            [
             0.4444444444444444,
             "#bd3786"
            ],
            [
             0.5555555555555556,
             "#d8576b"
            ],
            [
             0.6666666666666666,
             "#ed7953"
            ],
            [
             0.7777777777777778,
             "#fb9f3a"
            ],
            [
             0.8888888888888888,
             "#fdca26"
            ],
            [
             1,
             "#f0f921"
            ]
           ]
          },
          "colorway": [
           "#636efa",
           "#EF553B",
           "#00cc96",
           "#ab63fa",
           "#FFA15A",
           "#19d3f3",
           "#FF6692",
           "#B6E880",
           "#FF97FF",
           "#FECB52"
          ],
          "font": {
           "color": "#2a3f5f"
          },
          "geo": {
           "bgcolor": "white",
           "lakecolor": "white",
           "landcolor": "#E5ECF6",
           "showlakes": true,
           "showland": true,
           "subunitcolor": "white"
          },
          "hoverlabel": {
           "align": "left"
          },
          "hovermode": "closest",
          "mapbox": {
           "style": "light"
          },
          "paper_bgcolor": "white",
          "plot_bgcolor": "#E5ECF6",
          "polar": {
           "angularaxis": {
            "gridcolor": "white",
            "linecolor": "white",
            "ticks": ""
           },
           "bgcolor": "#E5ECF6",
           "radialaxis": {
            "gridcolor": "white",
            "linecolor": "white",
            "ticks": ""
           }
          },
          "scene": {
           "xaxis": {
            "backgroundcolor": "#E5ECF6",
            "gridcolor": "white",
            "gridwidth": 2,
            "linecolor": "white",
            "showbackground": true,
            "ticks": "",
            "zerolinecolor": "white"
           },
           "yaxis": {
            "backgroundcolor": "#E5ECF6",
            "gridcolor": "white",
            "gridwidth": 2,
            "linecolor": "white",
            "showbackground": true,
            "ticks": "",
            "zerolinecolor": "white"
           },
           "zaxis": {
            "backgroundcolor": "#E5ECF6",
            "gridcolor": "white",
            "gridwidth": 2,
            "linecolor": "white",
            "showbackground": true,
            "ticks": "",
            "zerolinecolor": "white"
           }
          },
          "shapedefaults": {
           "line": {
            "color": "#2a3f5f"
           }
          },
          "ternary": {
           "aaxis": {
            "gridcolor": "white",
            "linecolor": "white",
            "ticks": ""
           },
           "baxis": {
            "gridcolor": "white",
            "linecolor": "white",
            "ticks": ""
           },
           "bgcolor": "#E5ECF6",
           "caxis": {
            "gridcolor": "white",
            "linecolor": "white",
            "ticks": ""
           }
          },
          "title": {
           "x": 0.05
          },
          "xaxis": {
           "automargin": true,
           "gridcolor": "white",
           "linecolor": "white",
           "ticks": "",
           "title": {
            "standoff": 15
           },
           "zerolinecolor": "white",
           "zerolinewidth": 2
          },
          "yaxis": {
           "automargin": true,
           "gridcolor": "white",
           "linecolor": "white",
           "ticks": "",
           "title": {
            "standoff": 15
           },
           "zerolinecolor": "white",
           "zerolinewidth": 2
          }
         }
        },
        "updatemenus": [
         {
          "buttons": [
           {
            "args": [
             {
              "scene.annotations": [
               {
                "showarrow": false,
                "text": "H1",
                "x": 1.4308,
                "y": -2.0272,
                "yshift": 15,
                "z": -0.797
               },
               {
                "showarrow": false,
                "text": "O1",
                "x": 0.1652,
                "y": 1.5227,
                "yshift": 15,
                "z": 0.4269
               },
               {
                "showarrow": false,
                "text": "O2",
                "x": 0.1624,
                "y": -0.7982,
                "yshift": 15,
                "z": 1.39
               },
               {
                "showarrow": false,
                "text": "O3",
                "x": 0.5348,
                "y": -0.6786,
                "yshift": 15,
                "z": -1.193
               },
               {
                "showarrow": false,
                "text": "O4",
                "x": -1.2871,
                "y": 0.942,
                "yshift": 15,
                "z": -0.0297
               },
               {
                "showarrow": false,
                "text": "O5",
                "x": 1.9061,
                "y": -2.7502,
                "yshift": 15,
                "z": -0.274
               },
               {
                "showarrow": false,
                "text": "O6",
                "x": 2.0717,
                "y": -3.1274,
                "yshift": 15,
                "z": 2.2232
               },
               {
                "showarrow": false,
                "text": "O7",
                "x": 0.4896,
                "y": -4.5739,
                "yshift": 15,
                "z": 0.8882
               },
               {
                "showarrow": false,
                "text": "O8",
                "x": -0.196,
                "y": -2.2591,
                "yshift": 15,
                "z": 1.1409
               },
               {
                "showarrow": false,
                "text": "P1",
                "x": 0,
                "y": 0,
                "yshift": 15,
                "z": 0
               },
               {
                "showarrow": false,
                "text": "P2",
                "x": 1.1557,
                "y": -3.2271,
                "yshift": 15,
                "z": 1.0297
               }
              ]
             }
            ],
            "label": "Elements",
            "method": "relayout"
           },
           {
            "args": [
             {
              "scene.annotations": [
               {
                "showarrow": false,
                "text": "H1",
                "x": 1.4308,
                "y": -2.0272,
                "yshift": 15,
                "z": -0.797
               },
               {
                "showarrow": false,
                "text": "O1",
                "x": 0.1652,
                "y": 1.5227,
                "yshift": 15,
                "z": 0.4269
               },
               {
                "showarrow": false,
                "text": "O2",
                "x": 0.1624,
                "y": -0.7982,
                "yshift": 15,
                "z": 1.39
               },
               {
                "showarrow": false,
                "text": "O3",
                "x": 0.5348,
                "y": -0.6786,
                "yshift": 15,
                "z": -1.193
               },
               {
                "showarrow": false,
                "text": "O4",
                "x": -1.2871,
                "y": 0.942,
                "yshift": 15,
                "z": -0.0297
               },
               {
                "showarrow": false,
                "text": "O5",
                "x": 1.9061,
                "y": -2.7502,
                "yshift": 15,
                "z": -0.274
               },
               {
                "showarrow": false,
                "text": "O6",
                "x": 2.0717,
                "y": -3.1274,
                "yshift": 15,
                "z": 2.2232
               },
               {
                "showarrow": false,
                "text": "O7",
                "x": 0.4896,
                "y": -4.5739,
                "yshift": 15,
                "z": 0.8882
               },
               {
                "showarrow": false,
                "text": "O8",
                "x": -0.196,
                "y": -2.2591,
                "yshift": 15,
                "z": 1.1409
               },
               {
                "showarrow": false,
                "text": "P1",
                "x": 0,
                "y": 0,
                "yshift": 15,
                "z": 0
               },
               {
                "showarrow": false,
                "text": "P2",
                "x": 1.1557,
                "y": -3.2271,
                "yshift": 15,
                "z": 1.0297
               },
               {
                "font": {
                 "color": "steelblue"
                },
                "showarrow": false,
                "text": "1.011",
                "x": 1.66845,
                "y": -2.3887,
                "yshift": 15,
                "z": -0.5355000000000001
               },
               {
                "font": {
                 "color": "steelblue"
                },
                "showarrow": false,
                "text": "1.590",
                "x": 0.0826,
                "y": 0.76135,
                "yshift": 15,
                "z": 0.21345
               },
               {
                "font": {
                 "color": "steelblue"
                },
                "showarrow": false,
                "text": "1.611",
                "x": 0.0812,
                "y": -0.3991,
                "yshift": 15,
                "z": 0.695
               },
               {
                "font": {
                 "color": "steelblue"
                },
                "showarrow": false,
                "text": "1.473",
                "x": 0.2674,
                "y": -0.3393,
                "yshift": 15,
                "z": -0.5965
               },
               {
                "font": {
                 "color": "steelblue"
                },
                "showarrow": false,
                "text": "1.595",
                "x": -0.64355,
                "y": 0.471,
                "yshift": 15,
                "z": -0.01485
               },
               {
                "font": {
                 "color": "steelblue"
                },
                "showarrow": false,
                "text": "1.578",
                "x": 1.5309,
                "y": -2.98865,
                "yshift": 15,
                "z": 0.37785
               },
               {
                "font": {
                 "color": "steelblue"
                },
                "showarrow": false,
                "text": "1.508",
                "x": 1.6137,
                "y": -3.17725,
                "yshift": 15,
                "z": 1.62645
               },
               {
                "font": {
                 "color": "steelblue"
                },
                "showarrow": false,
                "text": "1.509",
                "x": 0.82265,
                "y": -3.9005,
                "yshift": 15,
                "z": 0.95895
               },
               {
                "font": {
                 "color": "steelblue"
                },
                "showarrow": false,
                "text": "1.666",
                "x": 0.47985,
                "y": -2.7431,
                "yshift": 15,
                "z": 1.0853000000000002
               },
               {
                "font": {
                 "color": "steelblue"
                },
                "showarrow": false,
                "text": 1.667,
                "x": 0.9828000000000001,
                "y": -1.3529,
                "yshift": 15,
                "z": -0.9950000000000001
               }
              ]
             }
            ],
            "label": "Element & Bond Lengths",
            "method": "relayout"
           },
           {
            "args": [
             {
              "scene.annotations": [
               {
                "showarrow": false,
                "text": 0,
                "x": 1.4308,
                "y": -2.0272,
                "yshift": 15,
                "z": -0.797
               },
               {
                "showarrow": false,
                "text": 1,
                "x": 0.1652,
                "y": 1.5227,
                "yshift": 15,
                "z": 0.4269
               },
               {
                "showarrow": false,
                "text": 2,
                "x": 0.1624,
                "y": -0.7982,
                "yshift": 15,
                "z": 1.39
               },
               {
                "showarrow": false,
                "text": 3,
                "x": 0.5348,
                "y": -0.6786,
                "yshift": 15,
                "z": -1.193
               },
               {
                "showarrow": false,
                "text": 4,
                "x": -1.2871,
                "y": 0.942,
                "yshift": 15,
                "z": -0.0297
               },
               {
                "showarrow": false,
                "text": 5,
                "x": 1.9061,
                "y": -2.7502,
                "yshift": 15,
                "z": -0.274
               },
               {
                "showarrow": false,
                "text": 6,
                "x": 2.0717,
                "y": -3.1274,
                "yshift": 15,
                "z": 2.2232
               },
               {
                "showarrow": false,
                "text": 7,
                "x": 0.4896,
                "y": -4.5739,
                "yshift": 15,
                "z": 0.8882
               },
               {
                "showarrow": false,
                "text": 8,
                "x": -0.196,
                "y": -2.2591,
                "yshift": 15,
                "z": 1.1409
               },
               {
                "showarrow": false,
                "text": 9,
                "x": 0,
                "y": 0,
                "yshift": 15,
                "z": 0
               },
               {
                "showarrow": false,
                "text": 10,
                "x": 1.1557,
                "y": -3.2271,
                "yshift": 15,
                "z": 1.0297
               }
              ]
             }
            ],
            "label": "Indices",
            "method": "relayout"
           },
           {
            "args": [
             {
              "scene.annotations": [
               {
                "showarrow": false,
                "text": 0,
                "x": 1.4308,
                "y": -2.0272,
                "yshift": 15,
                "z": -0.797
               },
               {
                "showarrow": false,
                "text": 1,
                "x": 0.1652,
                "y": 1.5227,
                "yshift": 15,
                "z": 0.4269
               },
               {
                "showarrow": false,
                "text": 2,
                "x": 0.1624,
                "y": -0.7982,
                "yshift": 15,
                "z": 1.39
               },
               {
                "showarrow": false,
                "text": 3,
                "x": 0.5348,
                "y": -0.6786,
                "yshift": 15,
                "z": -1.193
               },
               {
                "showarrow": false,
                "text": 4,
                "x": -1.2871,
                "y": 0.942,
                "yshift": 15,
                "z": -0.0297
               },
               {
                "showarrow": false,
                "text": 5,
                "x": 1.9061,
                "y": -2.7502,
                "yshift": 15,
                "z": -0.274
               },
               {
                "showarrow": false,
                "text": 6,
                "x": 2.0717,
                "y": -3.1274,
                "yshift": 15,
                "z": 2.2232
               },
               {
                "showarrow": false,
                "text": 7,
                "x": 0.4896,
                "y": -4.5739,
                "yshift": 15,
                "z": 0.8882
               },
               {
                "showarrow": false,
                "text": 8,
                "x": -0.196,
                "y": -2.2591,
                "yshift": 15,
                "z": 1.1409
               },
               {
                "showarrow": false,
                "text": 9,
                "x": 0,
                "y": 0,
                "yshift": 15,
                "z": 0
               },
               {
                "showarrow": false,
                "text": 10,
                "x": 1.1557,
                "y": -3.2271,
                "yshift": 15,
                "z": 1.0297
               },
               {
                "font": {
                 "color": "steelblue"
                },
                "showarrow": false,
                "text": "1.011",
                "x": 1.66845,
                "y": -2.3887,
                "yshift": 15,
                "z": -0.5355000000000001
               },
               {
                "font": {
                 "color": "steelblue"
                },
                "showarrow": false,
                "text": "1.590",
                "x": 0.0826,
                "y": 0.76135,
                "yshift": 15,
                "z": 0.21345
               },
               {
                "font": {
                 "color": "steelblue"
                },
                "showarrow": false,
                "text": "1.611",
                "x": 0.0812,
                "y": -0.3991,
                "yshift": 15,
                "z": 0.695
               },
               {
                "font": {
                 "color": "steelblue"
                },
                "showarrow": false,
                "text": "1.473",
                "x": 0.2674,
                "y": -0.3393,
                "yshift": 15,
                "z": -0.5965
               },
               {
                "font": {
                 "color": "steelblue"
                },
                "showarrow": false,
                "text": "1.595",
                "x": -0.64355,
                "y": 0.471,
                "yshift": 15,
                "z": -0.01485
               },
               {
                "font": {
                 "color": "steelblue"
                },
                "showarrow": false,
                "text": "1.578",
                "x": 1.5309,
                "y": -2.98865,
                "yshift": 15,
                "z": 0.37785
               },
               {
                "font": {
                 "color": "steelblue"
                },
                "showarrow": false,
                "text": "1.508",
                "x": 1.6137,
                "y": -3.17725,
                "yshift": 15,
                "z": 1.62645
               },
               {
                "font": {
                 "color": "steelblue"
                },
                "showarrow": false,
                "text": "1.509",
                "x": 0.82265,
                "y": -3.9005,
                "yshift": 15,
                "z": 0.95895
               },
               {
                "font": {
                 "color": "steelblue"
                },
                "showarrow": false,
                "text": "1.666",
                "x": 0.47985,
                "y": -2.7431,
                "yshift": 15,
                "z": 1.0853000000000002
               },
               {
                "font": {
                 "color": "steelblue"
                },
                "showarrow": false,
                "text": 1.667,
                "x": 0.9828000000000001,
                "y": -1.3529,
                "yshift": 15,
                "z": -0.9950000000000001
               }
              ]
             }
            ],
            "label": "Indices & Bond Lengths",
            "method": "relayout"
           },
           {
            "args": [
             {
              "scene.annotations": [
               {
                "font": {
                 "color": "steelblue"
                },
                "showarrow": false,
                "text": "1.011",
                "x": 1.66845,
                "y": -2.3887,
                "yshift": 15,
                "z": -0.5355000000000001
               },
               {
                "font": {
                 "color": "steelblue"
                },
                "showarrow": false,
                "text": "1.590",
                "x": 0.0826,
                "y": 0.76135,
                "yshift": 15,
                "z": 0.21345
               },
               {
                "font": {
                 "color": "steelblue"
                },
                "showarrow": false,
                "text": "1.611",
                "x": 0.0812,
                "y": -0.3991,
                "yshift": 15,
                "z": 0.695
               },
               {
                "font": {
                 "color": "steelblue"
                },
                "showarrow": false,
                "text": "1.473",
                "x": 0.2674,
                "y": -0.3393,
                "yshift": 15,
                "z": -0.5965
               },
               {
                "font": {
                 "color": "steelblue"
                },
                "showarrow": false,
                "text": "1.595",
                "x": -0.64355,
                "y": 0.471,
                "yshift": 15,
                "z": -0.01485
               },
               {
                "font": {
                 "color": "steelblue"
                },
                "showarrow": false,
                "text": "1.578",
                "x": 1.5309,
                "y": -2.98865,
                "yshift": 15,
                "z": 0.37785
               },
               {
                "font": {
                 "color": "steelblue"
                },
                "showarrow": false,
                "text": "1.508",
                "x": 1.6137,
                "y": -3.17725,
                "yshift": 15,
                "z": 1.62645
               },
               {
                "font": {
                 "color": "steelblue"
                },
                "showarrow": false,
                "text": "1.509",
                "x": 0.82265,
                "y": -3.9005,
                "yshift": 15,
                "z": 0.95895
               },
               {
                "font": {
                 "color": "steelblue"
                },
                "showarrow": false,
                "text": "1.666",
                "x": 0.47985,
                "y": -2.7431,
                "yshift": 15,
                "z": 1.0853000000000002
               },
               {
                "font": {
                 "color": "steelblue"
                },
                "showarrow": false,
                "text": 1.667,
                "x": 0.9828000000000001,
                "y": -1.3529,
                "yshift": 15,
                "z": -0.9950000000000001
               }
              ]
             }
            ],
            "label": "Bond Lengths",
            "method": "relayout"
           },
           {
            "args": [
             {}
            ],
            "label": "Hide All",
            "method": "relayout"
           }
          ],
          "direction": "down",
          "xanchor": "left",
          "yanchor": "top"
         }
        ]
       }
      },
      "text/html": [
       "<div>                            <div id=\"53d64f36-d60e-4d85-a7ef-e32f4b757c7b\" class=\"plotly-graph-div\" style=\"height:525px; width:100%;\"></div>            <script type=\"text/javascript\">                require([\"plotly\"], function(Plotly) {                    window.PLOTLYENV=window.PLOTLYENV || {};                                    if (document.getElementById(\"53d64f36-d60e-4d85-a7ef-e32f4b757c7b\")) {                    Plotly.newPlot(                        \"53d64f36-d60e-4d85-a7ef-e32f4b757c7b\",                        [{\"marker\": {\"color\": [\"white\", \"red\", \"red\", \"red\", \"red\", \"red\", \"red\", \"red\", \"red\", \"orange\", \"orange\"], \"line\": {\"color\": \"lightgray\", \"width\": 2}, \"opacity\": 0.8, \"size\": [9.200000000000001, 27.200000000000003, 27.200000000000003, 27.200000000000003, 27.200000000000003, 27.200000000000003, 27.200000000000003, 27.200000000000003, 27.200000000000003, 42.0, 42.0], \"symbol\": \"circle\"}, \"mode\": \"markers\", \"text\": [\"H1\", \"O1\", \"O2\", \"O3\", \"O4\", \"O5\", \"O6\", \"O7\", \"O8\", \"P1\", \"P2\"], \"type\": \"scatter3d\", \"x\": [1.4308, 0.1652, 0.1624, 0.5348, -1.2871, 1.9061, 2.0717, 0.4896, -0.196, 0.0, 1.1557], \"y\": [-2.0272, 1.5227, -0.7982, -0.6786, 0.942, -2.7502, -3.1274, -4.5739, -2.2591, 0.0, -3.2271], \"z\": [-0.797, 0.4269, 1.39, -1.193, -0.0297, -0.274, 2.2232, 0.8882, 1.1409, 0.0, 1.0297]}, {\"hoverinfo\": \"none\", \"marker\": {\"color\": \"gray\", \"opacity\": 0.1, \"size\": 3}, \"mode\": \"lines\", \"type\": \"scatter3d\", \"x\": [1.4308, 1.9061, null, 1.4308, 0.5348, null, 1.9061, 1.4308, null, 1.9061, 1.1557, null, 0.1652, 0.0, null, 0.0, 0.1652, null, 0.0, 0.5348, null, 0.0, -1.2871, null, 0.0, 0.1624, null, 0.1624, 0.0, null, 0.5348, 0.0, null, 0.5348, 1.4308, null, -1.2871, 0.0, null, 1.1557, 1.9061, null, 1.1557, 2.0717, null, 1.1557, -0.196, null, 1.1557, 0.4896, null, 2.0717, 1.1557, null, 0.4896, 1.1557, null, -0.196, 1.1557, null], \"y\": [-2.0272, -2.7502, null, -2.0272, -0.6786, null, -2.7502, -2.0272, null, -2.7502, -3.2271, null, 1.5227, 0.0, null, 0.0, 1.5227, null, 0.0, -0.6786, null, 0.0, 0.942, null, 0.0, -0.7982, null, -0.7982, 0.0, null, -0.6786, 0.0, null, -0.6786, -2.0272, null, 0.942, 0.0, null, -3.2271, -2.7502, null, -3.2271, -3.1274, null, -3.2271, -2.2591, null, -3.2271, -4.5739, null, -3.1274, -3.2271, null, -4.5739, -3.2271, null, -2.2591, -3.2271, null], \"z\": [-0.797, -0.274, null, -0.797, -1.193, null, -0.274, -0.797, null, -0.274, 1.0297, null, 0.4269, 0.0, null, 0.0, 0.4269, null, 0.0, -1.193, null, 0.0, -0.0297, null, 0.0, 1.39, null, 1.39, 0.0, null, -1.193, 0.0, null, -1.193, -0.797, null, -0.0297, 0.0, null, 1.0297, -0.274, null, 1.0297, 2.2232, null, 1.0297, 1.1409, null, 1.0297, 0.8882, null, 2.2232, 1.0297, null, 0.8882, 1.0297, null, 1.1409, 1.0297, null]}],                        {\"margin\": {\"b\": 0, \"l\": 0, \"r\": 0, \"t\": 0}, \"scene\": {\"annotations\": [{\"showarrow\": false, \"text\": \"H1\", \"x\": 1.4308, \"y\": -2.0272, \"yshift\": 15, \"z\": -0.797}, {\"showarrow\": false, \"text\": \"O1\", \"x\": 0.1652, \"y\": 1.5227, \"yshift\": 15, \"z\": 0.4269}, {\"showarrow\": false, \"text\": \"O2\", \"x\": 0.1624, \"y\": -0.7982, \"yshift\": 15, \"z\": 1.39}, {\"showarrow\": false, \"text\": \"O3\", \"x\": 0.5348, \"y\": -0.6786, \"yshift\": 15, \"z\": -1.193}, {\"showarrow\": false, \"text\": \"O4\", \"x\": -1.2871, \"y\": 0.942, \"yshift\": 15, \"z\": -0.0297}, {\"showarrow\": false, \"text\": \"O5\", \"x\": 1.9061, \"y\": -2.7502, \"yshift\": 15, \"z\": -0.274}, {\"showarrow\": false, \"text\": \"O6\", \"x\": 2.0717, \"y\": -3.1274, \"yshift\": 15, \"z\": 2.2232}, {\"showarrow\": false, \"text\": \"O7\", \"x\": 0.4896, \"y\": -4.5739, \"yshift\": 15, \"z\": 0.8882}, {\"showarrow\": false, \"text\": \"O8\", \"x\": -0.196, \"y\": -2.2591, \"yshift\": 15, \"z\": 1.1409}, {\"showarrow\": false, \"text\": \"P1\", \"x\": 0.0, \"y\": 0.0, \"yshift\": 15, \"z\": 0.0}, {\"showarrow\": false, \"text\": \"P2\", \"x\": 1.1557, \"y\": -3.2271, \"yshift\": 15, \"z\": 1.0297}], \"xaxis\": {\"showbackground\": true, \"showgrid\": true, \"showticklabels\": true, \"title\": {\"font\": {\"color\": \"white\"}}, \"zeroline\": true}, \"yaxis\": {\"showbackground\": true, \"showgrid\": true, \"showticklabels\": true, \"title\": {\"font\": {\"color\": \"white\"}}, \"zeroline\": true}, \"zaxis\": {\"showbackground\": true, \"showgrid\": true, \"showticklabels\": true, \"title\": {\"font\": {\"color\": \"white\"}}, \"zeroline\": true}}, \"showlegend\": false, \"template\": {\"data\": {\"bar\": [{\"error_x\": {\"color\": \"#2a3f5f\"}, \"error_y\": {\"color\": \"#2a3f5f\"}, \"marker\": {\"line\": {\"color\": \"#E5ECF6\", \"width\": 0.5}}, \"type\": \"bar\"}], \"barpolar\": [{\"marker\": {\"line\": {\"color\": \"#E5ECF6\", \"width\": 0.5}}, \"type\": \"barpolar\"}], \"carpet\": [{\"aaxis\": {\"endlinecolor\": \"#2a3f5f\", \"gridcolor\": \"white\", \"linecolor\": \"white\", \"minorgridcolor\": \"white\", \"startlinecolor\": \"#2a3f5f\"}, \"baxis\": {\"endlinecolor\": \"#2a3f5f\", \"gridcolor\": \"white\", \"linecolor\": \"white\", \"minorgridcolor\": \"white\", \"startlinecolor\": \"#2a3f5f\"}, \"type\": \"carpet\"}], \"choropleth\": [{\"colorbar\": {\"outlinewidth\": 0, \"ticks\": \"\"}, \"type\": \"choropleth\"}], \"contour\": [{\"colorbar\": {\"outlinewidth\": 0, \"ticks\": \"\"}, \"colorscale\": [[0.0, \"#0d0887\"], [0.1111111111111111, \"#46039f\"], [0.2222222222222222, \"#7201a8\"], [0.3333333333333333, \"#9c179e\"], [0.4444444444444444, \"#bd3786\"], [0.5555555555555556, \"#d8576b\"], [0.6666666666666666, \"#ed7953\"], [0.7777777777777778, \"#fb9f3a\"], [0.8888888888888888, \"#fdca26\"], [1.0, \"#f0f921\"]], \"type\": \"contour\"}], \"contourcarpet\": [{\"colorbar\": {\"outlinewidth\": 0, \"ticks\": \"\"}, \"type\": \"contourcarpet\"}], \"heatmap\": [{\"colorbar\": {\"outlinewidth\": 0, \"ticks\": \"\"}, \"colorscale\": [[0.0, \"#0d0887\"], [0.1111111111111111, \"#46039f\"], [0.2222222222222222, \"#7201a8\"], [0.3333333333333333, \"#9c179e\"], [0.4444444444444444, \"#bd3786\"], [0.5555555555555556, \"#d8576b\"], [0.6666666666666666, \"#ed7953\"], [0.7777777777777778, \"#fb9f3a\"], [0.8888888888888888, \"#fdca26\"], [1.0, \"#f0f921\"]], \"type\": \"heatmap\"}], \"heatmapgl\": [{\"colorbar\": {\"outlinewidth\": 0, \"ticks\": \"\"}, \"colorscale\": [[0.0, \"#0d0887\"], [0.1111111111111111, \"#46039f\"], [0.2222222222222222, \"#7201a8\"], [0.3333333333333333, \"#9c179e\"], [0.4444444444444444, \"#bd3786\"], [0.5555555555555556, \"#d8576b\"], [0.6666666666666666, \"#ed7953\"], [0.7777777777777778, \"#fb9f3a\"], [0.8888888888888888, \"#fdca26\"], [1.0, \"#f0f921\"]], \"type\": \"heatmapgl\"}], \"histogram\": [{\"marker\": {\"colorbar\": {\"outlinewidth\": 0, \"ticks\": \"\"}}, \"type\": \"histogram\"}], \"histogram2d\": [{\"colorbar\": {\"outlinewidth\": 0, \"ticks\": \"\"}, \"colorscale\": [[0.0, \"#0d0887\"], [0.1111111111111111, \"#46039f\"], [0.2222222222222222, \"#7201a8\"], [0.3333333333333333, \"#9c179e\"], [0.4444444444444444, \"#bd3786\"], [0.5555555555555556, \"#d8576b\"], [0.6666666666666666, \"#ed7953\"], [0.7777777777777778, \"#fb9f3a\"], [0.8888888888888888, \"#fdca26\"], [1.0, \"#f0f921\"]], \"type\": \"histogram2d\"}], \"histogram2dcontour\": [{\"colorbar\": {\"outlinewidth\": 0, \"ticks\": \"\"}, \"colorscale\": [[0.0, \"#0d0887\"], [0.1111111111111111, \"#46039f\"], [0.2222222222222222, \"#7201a8\"], [0.3333333333333333, \"#9c179e\"], [0.4444444444444444, \"#bd3786\"], [0.5555555555555556, \"#d8576b\"], [0.6666666666666666, \"#ed7953\"], [0.7777777777777778, \"#fb9f3a\"], [0.8888888888888888, \"#fdca26\"], [1.0, \"#f0f921\"]], \"type\": \"histogram2dcontour\"}], \"mesh3d\": [{\"colorbar\": {\"outlinewidth\": 0, \"ticks\": \"\"}, \"type\": \"mesh3d\"}], \"parcoords\": [{\"line\": {\"colorbar\": {\"outlinewidth\": 0, \"ticks\": \"\"}}, \"type\": \"parcoords\"}], \"pie\": [{\"automargin\": true, \"type\": \"pie\"}], \"scatter\": [{\"marker\": {\"colorbar\": {\"outlinewidth\": 0, \"ticks\": \"\"}}, \"type\": \"scatter\"}], \"scatter3d\": [{\"line\": {\"colorbar\": {\"outlinewidth\": 0, \"ticks\": \"\"}}, \"marker\": {\"colorbar\": {\"outlinewidth\": 0, \"ticks\": \"\"}}, \"type\": \"scatter3d\"}], \"scattercarpet\": [{\"marker\": {\"colorbar\": {\"outlinewidth\": 0, \"ticks\": \"\"}}, \"type\": \"scattercarpet\"}], \"scattergeo\": [{\"marker\": {\"colorbar\": {\"outlinewidth\": 0, \"ticks\": \"\"}}, \"type\": \"scattergeo\"}], \"scattergl\": [{\"marker\": {\"colorbar\": {\"outlinewidth\": 0, \"ticks\": \"\"}}, \"type\": \"scattergl\"}], \"scattermapbox\": [{\"marker\": {\"colorbar\": {\"outlinewidth\": 0, \"ticks\": \"\"}}, \"type\": \"scattermapbox\"}], \"scatterpolar\": [{\"marker\": {\"colorbar\": {\"outlinewidth\": 0, \"ticks\": \"\"}}, \"type\": \"scatterpolar\"}], \"scatterpolargl\": [{\"marker\": {\"colorbar\": {\"outlinewidth\": 0, \"ticks\": \"\"}}, \"type\": \"scatterpolargl\"}], \"scatterternary\": [{\"marker\": {\"colorbar\": {\"outlinewidth\": 0, \"ticks\": \"\"}}, \"type\": \"scatterternary\"}], \"surface\": [{\"colorbar\": {\"outlinewidth\": 0, \"ticks\": \"\"}, \"colorscale\": [[0.0, \"#0d0887\"], [0.1111111111111111, \"#46039f\"], [0.2222222222222222, \"#7201a8\"], [0.3333333333333333, \"#9c179e\"], [0.4444444444444444, \"#bd3786\"], [0.5555555555555556, \"#d8576b\"], [0.6666666666666666, \"#ed7953\"], [0.7777777777777778, \"#fb9f3a\"], [0.8888888888888888, \"#fdca26\"], [1.0, \"#f0f921\"]], \"type\": \"surface\"}], \"table\": [{\"cells\": {\"fill\": {\"color\": \"#EBF0F8\"}, \"line\": {\"color\": \"white\"}}, \"header\": {\"fill\": {\"color\": \"#C8D4E3\"}, \"line\": {\"color\": \"white\"}}, \"type\": \"table\"}]}, \"layout\": {\"annotationdefaults\": {\"arrowcolor\": \"#2a3f5f\", \"arrowhead\": 0, \"arrowwidth\": 1}, \"coloraxis\": {\"colorbar\": {\"outlinewidth\": 0, \"ticks\": \"\"}}, \"colorscale\": {\"diverging\": [[0, \"#8e0152\"], [0.1, \"#c51b7d\"], [0.2, \"#de77ae\"], [0.3, \"#f1b6da\"], [0.4, \"#fde0ef\"], [0.5, \"#f7f7f7\"], [0.6, \"#e6f5d0\"], [0.7, \"#b8e186\"], [0.8, \"#7fbc41\"], [0.9, \"#4d9221\"], [1, \"#276419\"]], \"sequential\": [[0.0, \"#0d0887\"], [0.1111111111111111, \"#46039f\"], [0.2222222222222222, \"#7201a8\"], [0.3333333333333333, \"#9c179e\"], [0.4444444444444444, \"#bd3786\"], [0.5555555555555556, \"#d8576b\"], [0.6666666666666666, \"#ed7953\"], [0.7777777777777778, \"#fb9f3a\"], [0.8888888888888888, \"#fdca26\"], [1.0, \"#f0f921\"]], \"sequentialminus\": [[0.0, \"#0d0887\"], [0.1111111111111111, \"#46039f\"], [0.2222222222222222, \"#7201a8\"], [0.3333333333333333, \"#9c179e\"], [0.4444444444444444, \"#bd3786\"], [0.5555555555555556, \"#d8576b\"], [0.6666666666666666, \"#ed7953\"], [0.7777777777777778, \"#fb9f3a\"], [0.8888888888888888, \"#fdca26\"], [1.0, \"#f0f921\"]]}, \"colorway\": [\"#636efa\", \"#EF553B\", \"#00cc96\", \"#ab63fa\", \"#FFA15A\", \"#19d3f3\", \"#FF6692\", \"#B6E880\", \"#FF97FF\", \"#FECB52\"], \"font\": {\"color\": \"#2a3f5f\"}, \"geo\": {\"bgcolor\": \"white\", \"lakecolor\": \"white\", \"landcolor\": \"#E5ECF6\", \"showlakes\": true, \"showland\": true, \"subunitcolor\": \"white\"}, \"hoverlabel\": {\"align\": \"left\"}, \"hovermode\": \"closest\", \"mapbox\": {\"style\": \"light\"}, \"paper_bgcolor\": \"white\", \"plot_bgcolor\": \"#E5ECF6\", \"polar\": {\"angularaxis\": {\"gridcolor\": \"white\", \"linecolor\": \"white\", \"ticks\": \"\"}, \"bgcolor\": \"#E5ECF6\", \"radialaxis\": {\"gridcolor\": \"white\", \"linecolor\": \"white\", \"ticks\": \"\"}}, \"scene\": {\"xaxis\": {\"backgroundcolor\": \"#E5ECF6\", \"gridcolor\": \"white\", \"gridwidth\": 2, \"linecolor\": \"white\", \"showbackground\": true, \"ticks\": \"\", \"zerolinecolor\": \"white\"}, \"yaxis\": {\"backgroundcolor\": \"#E5ECF6\", \"gridcolor\": \"white\", \"gridwidth\": 2, \"linecolor\": \"white\", \"showbackground\": true, \"ticks\": \"\", \"zerolinecolor\": \"white\"}, \"zaxis\": {\"backgroundcolor\": \"#E5ECF6\", \"gridcolor\": \"white\", \"gridwidth\": 2, \"linecolor\": \"white\", \"showbackground\": true, \"ticks\": \"\", \"zerolinecolor\": \"white\"}}, \"shapedefaults\": {\"line\": {\"color\": \"#2a3f5f\"}}, \"ternary\": {\"aaxis\": {\"gridcolor\": \"white\", \"linecolor\": \"white\", \"ticks\": \"\"}, \"baxis\": {\"gridcolor\": \"white\", \"linecolor\": \"white\", \"ticks\": \"\"}, \"bgcolor\": \"#E5ECF6\", \"caxis\": {\"gridcolor\": \"white\", \"linecolor\": \"white\", \"ticks\": \"\"}}, \"title\": {\"x\": 0.05}, \"xaxis\": {\"automargin\": true, \"gridcolor\": \"white\", \"linecolor\": \"white\", \"ticks\": \"\", \"title\": {\"standoff\": 15}, \"zerolinecolor\": \"white\", \"zerolinewidth\": 2}, \"yaxis\": {\"automargin\": true, \"gridcolor\": \"white\", \"linecolor\": \"white\", \"ticks\": \"\", \"title\": {\"standoff\": 15}, \"zerolinecolor\": \"white\", \"zerolinewidth\": 2}}}, \"updatemenus\": [{\"buttons\": [{\"args\": [{\"scene.annotations\": [{\"showarrow\": false, \"text\": \"H1\", \"x\": 1.4308, \"y\": -2.0272, \"yshift\": 15, \"z\": -0.797}, {\"showarrow\": false, \"text\": \"O1\", \"x\": 0.1652, \"y\": 1.5227, \"yshift\": 15, \"z\": 0.4269}, {\"showarrow\": false, \"text\": \"O2\", \"x\": 0.1624, \"y\": -0.7982, \"yshift\": 15, \"z\": 1.39}, {\"showarrow\": false, \"text\": \"O3\", \"x\": 0.5348, \"y\": -0.6786, \"yshift\": 15, \"z\": -1.193}, {\"showarrow\": false, \"text\": \"O4\", \"x\": -1.2871, \"y\": 0.942, \"yshift\": 15, \"z\": -0.0297}, {\"showarrow\": false, \"text\": \"O5\", \"x\": 1.9061, \"y\": -2.7502, \"yshift\": 15, \"z\": -0.274}, {\"showarrow\": false, \"text\": \"O6\", \"x\": 2.0717, \"y\": -3.1274, \"yshift\": 15, \"z\": 2.2232}, {\"showarrow\": false, \"text\": \"O7\", \"x\": 0.4896, \"y\": -4.5739, \"yshift\": 15, \"z\": 0.8882}, {\"showarrow\": false, \"text\": \"O8\", \"x\": -0.196, \"y\": -2.2591, \"yshift\": 15, \"z\": 1.1409}, {\"showarrow\": false, \"text\": \"P1\", \"x\": 0.0, \"y\": 0.0, \"yshift\": 15, \"z\": 0.0}, {\"showarrow\": false, \"text\": \"P2\", \"x\": 1.1557, \"y\": -3.2271, \"yshift\": 15, \"z\": 1.0297}]}], \"label\": \"Elements\", \"method\": \"relayout\"}, {\"args\": [{\"scene.annotations\": [{\"showarrow\": false, \"text\": \"H1\", \"x\": 1.4308, \"y\": -2.0272, \"yshift\": 15, \"z\": -0.797}, {\"showarrow\": false, \"text\": \"O1\", \"x\": 0.1652, \"y\": 1.5227, \"yshift\": 15, \"z\": 0.4269}, {\"showarrow\": false, \"text\": \"O2\", \"x\": 0.1624, \"y\": -0.7982, \"yshift\": 15, \"z\": 1.39}, {\"showarrow\": false, \"text\": \"O3\", \"x\": 0.5348, \"y\": -0.6786, \"yshift\": 15, \"z\": -1.193}, {\"showarrow\": false, \"text\": \"O4\", \"x\": -1.2871, \"y\": 0.942, \"yshift\": 15, \"z\": -0.0297}, {\"showarrow\": false, \"text\": \"O5\", \"x\": 1.9061, \"y\": -2.7502, \"yshift\": 15, \"z\": -0.274}, {\"showarrow\": false, \"text\": \"O6\", \"x\": 2.0717, \"y\": -3.1274, \"yshift\": 15, \"z\": 2.2232}, {\"showarrow\": false, \"text\": \"O7\", \"x\": 0.4896, \"y\": -4.5739, \"yshift\": 15, \"z\": 0.8882}, {\"showarrow\": false, \"text\": \"O8\", \"x\": -0.196, \"y\": -2.2591, \"yshift\": 15, \"z\": 1.1409}, {\"showarrow\": false, \"text\": \"P1\", \"x\": 0.0, \"y\": 0.0, \"yshift\": 15, \"z\": 0.0}, {\"showarrow\": false, \"text\": \"P2\", \"x\": 1.1557, \"y\": -3.2271, \"yshift\": 15, \"z\": 1.0297}, {\"font\": {\"color\": \"steelblue\"}, \"showarrow\": false, \"text\": \"1.011\", \"x\": 1.66845, \"y\": -2.3887, \"yshift\": 15, \"z\": -0.5355000000000001}, {\"font\": {\"color\": \"steelblue\"}, \"showarrow\": false, \"text\": \"1.590\", \"x\": 0.0826, \"y\": 0.76135, \"yshift\": 15, \"z\": 0.21345}, {\"font\": {\"color\": \"steelblue\"}, \"showarrow\": false, \"text\": \"1.611\", \"x\": 0.0812, \"y\": -0.3991, \"yshift\": 15, \"z\": 0.695}, {\"font\": {\"color\": \"steelblue\"}, \"showarrow\": false, \"text\": \"1.473\", \"x\": 0.2674, \"y\": -0.3393, \"yshift\": 15, \"z\": -0.5965}, {\"font\": {\"color\": \"steelblue\"}, \"showarrow\": false, \"text\": \"1.595\", \"x\": -0.64355, \"y\": 0.471, \"yshift\": 15, \"z\": -0.01485}, {\"font\": {\"color\": \"steelblue\"}, \"showarrow\": false, \"text\": \"1.578\", \"x\": 1.5309, \"y\": -2.98865, \"yshift\": 15, \"z\": 0.37785}, {\"font\": {\"color\": \"steelblue\"}, \"showarrow\": false, \"text\": \"1.508\", \"x\": 1.6137, \"y\": -3.17725, \"yshift\": 15, \"z\": 1.62645}, {\"font\": {\"color\": \"steelblue\"}, \"showarrow\": false, \"text\": \"1.509\", \"x\": 0.82265, \"y\": -3.9005, \"yshift\": 15, \"z\": 0.95895}, {\"font\": {\"color\": \"steelblue\"}, \"showarrow\": false, \"text\": \"1.666\", \"x\": 0.47985, \"y\": -2.7431, \"yshift\": 15, \"z\": 1.0853000000000002}, {\"font\": {\"color\": \"steelblue\"}, \"showarrow\": false, \"text\": 1.667, \"x\": 0.9828000000000001, \"y\": -1.3529, \"yshift\": 15, \"z\": -0.9950000000000001}]}], \"label\": \"Element & Bond Lengths\", \"method\": \"relayout\"}, {\"args\": [{\"scene.annotations\": [{\"showarrow\": false, \"text\": 0, \"x\": 1.4308, \"y\": -2.0272, \"yshift\": 15, \"z\": -0.797}, {\"showarrow\": false, \"text\": 1, \"x\": 0.1652, \"y\": 1.5227, \"yshift\": 15, \"z\": 0.4269}, {\"showarrow\": false, \"text\": 2, \"x\": 0.1624, \"y\": -0.7982, \"yshift\": 15, \"z\": 1.39}, {\"showarrow\": false, \"text\": 3, \"x\": 0.5348, \"y\": -0.6786, \"yshift\": 15, \"z\": -1.193}, {\"showarrow\": false, \"text\": 4, \"x\": -1.2871, \"y\": 0.942, \"yshift\": 15, \"z\": -0.0297}, {\"showarrow\": false, \"text\": 5, \"x\": 1.9061, \"y\": -2.7502, \"yshift\": 15, \"z\": -0.274}, {\"showarrow\": false, \"text\": 6, \"x\": 2.0717, \"y\": -3.1274, \"yshift\": 15, \"z\": 2.2232}, {\"showarrow\": false, \"text\": 7, \"x\": 0.4896, \"y\": -4.5739, \"yshift\": 15, \"z\": 0.8882}, {\"showarrow\": false, \"text\": 8, \"x\": -0.196, \"y\": -2.2591, \"yshift\": 15, \"z\": 1.1409}, {\"showarrow\": false, \"text\": 9, \"x\": 0.0, \"y\": 0.0, \"yshift\": 15, \"z\": 0.0}, {\"showarrow\": false, \"text\": 10, \"x\": 1.1557, \"y\": -3.2271, \"yshift\": 15, \"z\": 1.0297}]}], \"label\": \"Indices\", \"method\": \"relayout\"}, {\"args\": [{\"scene.annotations\": [{\"showarrow\": false, \"text\": 0, \"x\": 1.4308, \"y\": -2.0272, \"yshift\": 15, \"z\": -0.797}, {\"showarrow\": false, \"text\": 1, \"x\": 0.1652, \"y\": 1.5227, \"yshift\": 15, \"z\": 0.4269}, {\"showarrow\": false, \"text\": 2, \"x\": 0.1624, \"y\": -0.7982, \"yshift\": 15, \"z\": 1.39}, {\"showarrow\": false, \"text\": 3, \"x\": 0.5348, \"y\": -0.6786, \"yshift\": 15, \"z\": -1.193}, {\"showarrow\": false, \"text\": 4, \"x\": -1.2871, \"y\": 0.942, \"yshift\": 15, \"z\": -0.0297}, {\"showarrow\": false, \"text\": 5, \"x\": 1.9061, \"y\": -2.7502, \"yshift\": 15, \"z\": -0.274}, {\"showarrow\": false, \"text\": 6, \"x\": 2.0717, \"y\": -3.1274, \"yshift\": 15, \"z\": 2.2232}, {\"showarrow\": false, \"text\": 7, \"x\": 0.4896, \"y\": -4.5739, \"yshift\": 15, \"z\": 0.8882}, {\"showarrow\": false, \"text\": 8, \"x\": -0.196, \"y\": -2.2591, \"yshift\": 15, \"z\": 1.1409}, {\"showarrow\": false, \"text\": 9, \"x\": 0.0, \"y\": 0.0, \"yshift\": 15, \"z\": 0.0}, {\"showarrow\": false, \"text\": 10, \"x\": 1.1557, \"y\": -3.2271, \"yshift\": 15, \"z\": 1.0297}, {\"font\": {\"color\": \"steelblue\"}, \"showarrow\": false, \"text\": \"1.011\", \"x\": 1.66845, \"y\": -2.3887, \"yshift\": 15, \"z\": -0.5355000000000001}, {\"font\": {\"color\": \"steelblue\"}, \"showarrow\": false, \"text\": \"1.590\", \"x\": 0.0826, \"y\": 0.76135, \"yshift\": 15, \"z\": 0.21345}, {\"font\": {\"color\": \"steelblue\"}, \"showarrow\": false, \"text\": \"1.611\", \"x\": 0.0812, \"y\": -0.3991, \"yshift\": 15, \"z\": 0.695}, {\"font\": {\"color\": \"steelblue\"}, \"showarrow\": false, \"text\": \"1.473\", \"x\": 0.2674, \"y\": -0.3393, \"yshift\": 15, \"z\": -0.5965}, {\"font\": {\"color\": \"steelblue\"}, \"showarrow\": false, \"text\": \"1.595\", \"x\": -0.64355, \"y\": 0.471, \"yshift\": 15, \"z\": -0.01485}, {\"font\": {\"color\": \"steelblue\"}, \"showarrow\": false, \"text\": \"1.578\", \"x\": 1.5309, \"y\": -2.98865, \"yshift\": 15, \"z\": 0.37785}, {\"font\": {\"color\": \"steelblue\"}, \"showarrow\": false, \"text\": \"1.508\", \"x\": 1.6137, \"y\": -3.17725, \"yshift\": 15, \"z\": 1.62645}, {\"font\": {\"color\": \"steelblue\"}, \"showarrow\": false, \"text\": \"1.509\", \"x\": 0.82265, \"y\": -3.9005, \"yshift\": 15, \"z\": 0.95895}, {\"font\": {\"color\": \"steelblue\"}, \"showarrow\": false, \"text\": \"1.666\", \"x\": 0.47985, \"y\": -2.7431, \"yshift\": 15, \"z\": 1.0853000000000002}, {\"font\": {\"color\": \"steelblue\"}, \"showarrow\": false, \"text\": 1.667, \"x\": 0.9828000000000001, \"y\": -1.3529, \"yshift\": 15, \"z\": -0.9950000000000001}]}], \"label\": \"Indices & Bond Lengths\", \"method\": \"relayout\"}, {\"args\": [{\"scene.annotations\": [{\"font\": {\"color\": \"steelblue\"}, \"showarrow\": false, \"text\": \"1.011\", \"x\": 1.66845, \"y\": -2.3887, \"yshift\": 15, \"z\": -0.5355000000000001}, {\"font\": {\"color\": \"steelblue\"}, \"showarrow\": false, \"text\": \"1.590\", \"x\": 0.0826, \"y\": 0.76135, \"yshift\": 15, \"z\": 0.21345}, {\"font\": {\"color\": \"steelblue\"}, \"showarrow\": false, \"text\": \"1.611\", \"x\": 0.0812, \"y\": -0.3991, \"yshift\": 15, \"z\": 0.695}, {\"font\": {\"color\": \"steelblue\"}, \"showarrow\": false, \"text\": \"1.473\", \"x\": 0.2674, \"y\": -0.3393, \"yshift\": 15, \"z\": -0.5965}, {\"font\": {\"color\": \"steelblue\"}, \"showarrow\": false, \"text\": \"1.595\", \"x\": -0.64355, \"y\": 0.471, \"yshift\": 15, \"z\": -0.01485}, {\"font\": {\"color\": \"steelblue\"}, \"showarrow\": false, \"text\": \"1.578\", \"x\": 1.5309, \"y\": -2.98865, \"yshift\": 15, \"z\": 0.37785}, {\"font\": {\"color\": \"steelblue\"}, \"showarrow\": false, \"text\": \"1.508\", \"x\": 1.6137, \"y\": -3.17725, \"yshift\": 15, \"z\": 1.62645}, {\"font\": {\"color\": \"steelblue\"}, \"showarrow\": false, \"text\": \"1.509\", \"x\": 0.82265, \"y\": -3.9005, \"yshift\": 15, \"z\": 0.95895}, {\"font\": {\"color\": \"steelblue\"}, \"showarrow\": false, \"text\": \"1.666\", \"x\": 0.47985, \"y\": -2.7431, \"yshift\": 15, \"z\": 1.0853000000000002}, {\"font\": {\"color\": \"steelblue\"}, \"showarrow\": false, \"text\": 1.667, \"x\": 0.9828000000000001, \"y\": -1.3529, \"yshift\": 15, \"z\": -0.9950000000000001}]}], \"label\": \"Bond Lengths\", \"method\": \"relayout\"}, {\"args\": [{}], \"label\": \"Hide All\", \"method\": \"relayout\"}], \"direction\": \"down\", \"xanchor\": \"left\", \"yanchor\": \"top\"}]},                        {\"responsive\": true}                    ).then(function(){\n",
       "                            \n",
       "var gd = document.getElementById('53d64f36-d60e-4d85-a7ef-e32f4b757c7b');\n",
       "var x = new MutationObserver(function (mutations, observer) {{\n",
       "        var display = window.getComputedStyle(gd).display;\n",
       "        if (!display || display === 'none') {{\n",
       "            console.log([gd, 'removed!']);\n",
       "            Plotly.purge(gd);\n",
       "            observer.disconnect();\n",
       "        }}\n",
       "}});\n",
       "\n",
       "// Listen for the removal of the full notebook cells\n",
       "var notebookContainer = gd.closest('#notebook-container');\n",
       "if (notebookContainer) {{\n",
       "    x.observe(notebookContainer, {childList: true});\n",
       "}}\n",
       "\n",
       "// Listen for the clearing of the current output cell\n",
       "var outputEl = gd.closest('.output');\n",
       "if (outputEl) {{\n",
       "    x.observe(outputEl, {childList: true});\n",
       "}}\n",
       "\n",
       "                        })                };                });            </script>        </div>"
      ]
     },
     "metadata": {},
     "output_type": "display_data"
    },
    {
     "data": {
      "application/vnd.plotly.v1+json": {
       "config": {
        "linkText": "Export to plot.ly",
        "plotlyServerURL": "https://plot.ly",
        "showLink": false
       },
       "data": [
        {
         "marker": {
          "color": [
           "red",
           "red",
           "red",
           "red",
           "orange",
           "orange",
           "red",
           "red",
           "red",
           "red",
           "white"
          ],
          "line": {
           "color": "lightgray",
           "width": 2
          },
          "opacity": 0.8,
          "size": [
           27.200000000000003,
           27.200000000000003,
           27.200000000000003,
           27.200000000000003,
           42,
           42,
           27.200000000000003,
           27.200000000000003,
           27.200000000000003,
           27.200000000000003,
           9.200000000000001
          ],
          "symbol": "circle"
         },
         "mode": "markers",
         "text": [
          "O1",
          "O2",
          "O3",
          "O4",
          "P5",
          "P6",
          "O7",
          "O8",
          "O9",
          "O10",
          "H11"
         ],
         "type": "scatter3d",
         "x": [
          0.163906,
          0.275876,
          0.456722,
          -1.291854,
          0,
          1.155142,
          1.970807,
          1.997184,
          0.506429,
          -0.151052,
          1.507175
         ],
         "y": [
          1.513491,
          -0.844048,
          -0.640095,
          0.920948,
          0,
          -3.265485,
          -2.826521,
          -3.170678,
          -4.61299,
          -2.228108,
          -2.22261
         ],
         "z": [
          0.430397,
          1.349462,
          -1.228184,
          0.125181,
          0,
          1.082441,
          -0.194184,
          2.322265,
          0.971479,
          1.100702,
          -0.814863
         ]
        },
        {
         "hoverinfo": "none",
         "marker": {
          "color": "gray",
          "opacity": 0.1,
          "size": 3
         },
         "mode": "lines",
         "type": "scatter3d",
         "x": [
          0.163906,
          0,
          null,
          0,
          0.163906,
          null,
          0,
          0.456722,
          null,
          0,
          -1.291854,
          null,
          0,
          0.275876,
          null,
          0.275876,
          0,
          null,
          0.456722,
          1.507175,
          null,
          0.456722,
          0,
          null,
          -1.291854,
          0,
          null,
          1.155142,
          1.970807,
          null,
          1.155142,
          -0.151052,
          null,
          1.155142,
          1.997184,
          null,
          1.155142,
          0.506429,
          null,
          1.970807,
          1.155142,
          null,
          1.970807,
          1.507175,
          null,
          1.997184,
          1.155142,
          null,
          0.506429,
          1.155142,
          null,
          -0.151052,
          1.155142,
          null,
          1.507175,
          1.970807,
          null,
          1.507175,
          0.456722,
          null
         ],
         "y": [
          1.513491,
          0,
          null,
          0,
          1.513491,
          null,
          0,
          -0.640095,
          null,
          0,
          0.920948,
          null,
          0,
          -0.844048,
          null,
          -0.844048,
          0,
          null,
          -0.640095,
          -2.22261,
          null,
          -0.640095,
          0,
          null,
          0.920948,
          0,
          null,
          -3.265485,
          -2.826521,
          null,
          -3.265485,
          -2.228108,
          null,
          -3.265485,
          -3.170678,
          null,
          -3.265485,
          -4.61299,
          null,
          -2.826521,
          -3.265485,
          null,
          -2.826521,
          -2.22261,
          null,
          -3.170678,
          -3.265485,
          null,
          -4.61299,
          -3.265485,
          null,
          -2.228108,
          -3.265485,
          null,
          -2.22261,
          -2.826521,
          null,
          -2.22261,
          -0.640095,
          null
         ],
         "z": [
          0.430397,
          0,
          null,
          0,
          0.430397,
          null,
          0,
          -1.228184,
          null,
          0,
          0.125181,
          null,
          0,
          1.349462,
          null,
          1.349462,
          0,
          null,
          -1.228184,
          -0.814863,
          null,
          -1.228184,
          0,
          null,
          0.125181,
          0,
          null,
          1.082441,
          -0.194184,
          null,
          1.082441,
          1.100702,
          null,
          1.082441,
          2.322265,
          null,
          1.082441,
          0.971479,
          null,
          -0.194184,
          1.082441,
          null,
          -0.194184,
          -0.814863,
          null,
          2.322265,
          1.082441,
          null,
          0.971479,
          1.082441,
          null,
          1.100702,
          1.082441,
          null,
          -0.814863,
          -0.194184,
          null,
          -0.814863,
          -1.228184,
          null
         ]
        }
       ],
       "layout": {
        "margin": {
         "b": 0,
         "l": 0,
         "r": 0,
         "t": 0
        },
        "scene": {
         "annotations": [
          {
           "showarrow": false,
           "text": "O1",
           "x": 0.163906,
           "y": 1.513491,
           "yshift": 15,
           "z": 0.430397
          },
          {
           "showarrow": false,
           "text": "O2",
           "x": 0.275876,
           "y": -0.844048,
           "yshift": 15,
           "z": 1.349462
          },
          {
           "showarrow": false,
           "text": "O3",
           "x": 0.456722,
           "y": -0.640095,
           "yshift": 15,
           "z": -1.228184
          },
          {
           "showarrow": false,
           "text": "O4",
           "x": -1.291854,
           "y": 0.920948,
           "yshift": 15,
           "z": 0.125181
          },
          {
           "showarrow": false,
           "text": "P5",
           "x": 0,
           "y": 0,
           "yshift": 15,
           "z": 0
          },
          {
           "showarrow": false,
           "text": "P6",
           "x": 1.155142,
           "y": -3.265485,
           "yshift": 15,
           "z": 1.082441
          },
          {
           "showarrow": false,
           "text": "O7",
           "x": 1.970807,
           "y": -2.826521,
           "yshift": 15,
           "z": -0.194184
          },
          {
           "showarrow": false,
           "text": "O8",
           "x": 1.997184,
           "y": -3.170678,
           "yshift": 15,
           "z": 2.322265
          },
          {
           "showarrow": false,
           "text": "O9",
           "x": 0.506429,
           "y": -4.61299,
           "yshift": 15,
           "z": 0.971479
          },
          {
           "showarrow": false,
           "text": "O10",
           "x": -0.151052,
           "y": -2.228108,
           "yshift": 15,
           "z": 1.100702
          },
          {
           "showarrow": false,
           "text": "H11",
           "x": 1.507175,
           "y": -2.22261,
           "yshift": 15,
           "z": -0.814863
          }
         ],
         "xaxis": {
          "showbackground": true,
          "showgrid": true,
          "showticklabels": true,
          "title": {
           "font": {
            "color": "white"
           }
          },
          "zeroline": true
         },
         "yaxis": {
          "showbackground": true,
          "showgrid": true,
          "showticklabels": true,
          "title": {
           "font": {
            "color": "white"
           }
          },
          "zeroline": true
         },
         "zaxis": {
          "showbackground": true,
          "showgrid": true,
          "showticklabels": true,
          "title": {
           "font": {
            "color": "white"
           }
          },
          "zeroline": true
         }
        },
        "showlegend": false,
        "template": {
         "data": {
          "bar": [
           {
            "error_x": {
             "color": "#2a3f5f"
            },
            "error_y": {
             "color": "#2a3f5f"
            },
            "marker": {
             "line": {
              "color": "#E5ECF6",
              "width": 0.5
             }
            },
            "type": "bar"
           }
          ],
          "barpolar": [
           {
            "marker": {
             "line": {
              "color": "#E5ECF6",
              "width": 0.5
             }
            },
            "type": "barpolar"
           }
          ],
          "carpet": [
           {
            "aaxis": {
             "endlinecolor": "#2a3f5f",
             "gridcolor": "white",
             "linecolor": "white",
             "minorgridcolor": "white",
             "startlinecolor": "#2a3f5f"
            },
            "baxis": {
             "endlinecolor": "#2a3f5f",
             "gridcolor": "white",
             "linecolor": "white",
             "minorgridcolor": "white",
             "startlinecolor": "#2a3f5f"
            },
            "type": "carpet"
           }
          ],
          "choropleth": [
           {
            "colorbar": {
             "outlinewidth": 0,
             "ticks": ""
            },
            "type": "choropleth"
           }
          ],
          "contour": [
           {
            "colorbar": {
             "outlinewidth": 0,
             "ticks": ""
            },
            "colorscale": [
             [
              0,
              "#0d0887"
             ],
             [
              0.1111111111111111,
              "#46039f"
             ],
             [
              0.2222222222222222,
              "#7201a8"
             ],
             [
              0.3333333333333333,
              "#9c179e"
             ],
             [
              0.4444444444444444,
              "#bd3786"
             ],
             [
              0.5555555555555556,
              "#d8576b"
             ],
             [
              0.6666666666666666,
              "#ed7953"
             ],
             [
              0.7777777777777778,
              "#fb9f3a"
             ],
             [
              0.8888888888888888,
              "#fdca26"
             ],
             [
              1,
              "#f0f921"
             ]
            ],
            "type": "contour"
           }
          ],
          "contourcarpet": [
           {
            "colorbar": {
             "outlinewidth": 0,
             "ticks": ""
            },
            "type": "contourcarpet"
           }
          ],
          "heatmap": [
           {
            "colorbar": {
             "outlinewidth": 0,
             "ticks": ""
            },
            "colorscale": [
             [
              0,
              "#0d0887"
             ],
             [
              0.1111111111111111,
              "#46039f"
             ],
             [
              0.2222222222222222,
              "#7201a8"
             ],
             [
              0.3333333333333333,
              "#9c179e"
             ],
             [
              0.4444444444444444,
              "#bd3786"
             ],
             [
              0.5555555555555556,
              "#d8576b"
             ],
             [
              0.6666666666666666,
              "#ed7953"
             ],
             [
              0.7777777777777778,
              "#fb9f3a"
             ],
             [
              0.8888888888888888,
              "#fdca26"
             ],
             [
              1,
              "#f0f921"
             ]
            ],
            "type": "heatmap"
           }
          ],
          "heatmapgl": [
           {
            "colorbar": {
             "outlinewidth": 0,
             "ticks": ""
            },
            "colorscale": [
             [
              0,
              "#0d0887"
             ],
             [
              0.1111111111111111,
              "#46039f"
             ],
             [
              0.2222222222222222,
              "#7201a8"
             ],
             [
              0.3333333333333333,
              "#9c179e"
             ],
             [
              0.4444444444444444,
              "#bd3786"
             ],
             [
              0.5555555555555556,
              "#d8576b"
             ],
             [
              0.6666666666666666,
              "#ed7953"
             ],
             [
              0.7777777777777778,
              "#fb9f3a"
             ],
             [
              0.8888888888888888,
              "#fdca26"
             ],
             [
              1,
              "#f0f921"
             ]
            ],
            "type": "heatmapgl"
           }
          ],
          "histogram": [
           {
            "marker": {
             "colorbar": {
              "outlinewidth": 0,
              "ticks": ""
             }
            },
            "type": "histogram"
           }
          ],
          "histogram2d": [
           {
            "colorbar": {
             "outlinewidth": 0,
             "ticks": ""
            },
            "colorscale": [
             [
              0,
              "#0d0887"
             ],
             [
              0.1111111111111111,
              "#46039f"
             ],
             [
              0.2222222222222222,
              "#7201a8"
             ],
             [
              0.3333333333333333,
              "#9c179e"
             ],
             [
              0.4444444444444444,
              "#bd3786"
             ],
             [
              0.5555555555555556,
              "#d8576b"
             ],
             [
              0.6666666666666666,
              "#ed7953"
             ],
             [
              0.7777777777777778,
              "#fb9f3a"
             ],
             [
              0.8888888888888888,
              "#fdca26"
             ],
             [
              1,
              "#f0f921"
             ]
            ],
            "type": "histogram2d"
           }
          ],
          "histogram2dcontour": [
           {
            "colorbar": {
             "outlinewidth": 0,
             "ticks": ""
            },
            "colorscale": [
             [
              0,
              "#0d0887"
             ],
             [
              0.1111111111111111,
              "#46039f"
             ],
             [
              0.2222222222222222,
              "#7201a8"
             ],
             [
              0.3333333333333333,
              "#9c179e"
             ],
             [
              0.4444444444444444,
              "#bd3786"
             ],
             [
              0.5555555555555556,
              "#d8576b"
             ],
             [
              0.6666666666666666,
              "#ed7953"
             ],
             [
              0.7777777777777778,
              "#fb9f3a"
             ],
             [
              0.8888888888888888,
              "#fdca26"
             ],
             [
              1,
              "#f0f921"
             ]
            ],
            "type": "histogram2dcontour"
           }
          ],
          "mesh3d": [
           {
            "colorbar": {
             "outlinewidth": 0,
             "ticks": ""
            },
            "type": "mesh3d"
           }
          ],
          "parcoords": [
           {
            "line": {
             "colorbar": {
              "outlinewidth": 0,
              "ticks": ""
             }
            },
            "type": "parcoords"
           }
          ],
          "pie": [
           {
            "automargin": true,
            "type": "pie"
           }
          ],
          "scatter": [
           {
            "marker": {
             "colorbar": {
              "outlinewidth": 0,
              "ticks": ""
             }
            },
            "type": "scatter"
           }
          ],
          "scatter3d": [
           {
            "line": {
             "colorbar": {
              "outlinewidth": 0,
              "ticks": ""
             }
            },
            "marker": {
             "colorbar": {
              "outlinewidth": 0,
              "ticks": ""
             }
            },
            "type": "scatter3d"
           }
          ],
          "scattercarpet": [
           {
            "marker": {
             "colorbar": {
              "outlinewidth": 0,
              "ticks": ""
             }
            },
            "type": "scattercarpet"
           }
          ],
          "scattergeo": [
           {
            "marker": {
             "colorbar": {
              "outlinewidth": 0,
              "ticks": ""
             }
            },
            "type": "scattergeo"
           }
          ],
          "scattergl": [
           {
            "marker": {
             "colorbar": {
              "outlinewidth": 0,
              "ticks": ""
             }
            },
            "type": "scattergl"
           }
          ],
          "scattermapbox": [
           {
            "marker": {
             "colorbar": {
              "outlinewidth": 0,
              "ticks": ""
             }
            },
            "type": "scattermapbox"
           }
          ],
          "scatterpolar": [
           {
            "marker": {
             "colorbar": {
              "outlinewidth": 0,
              "ticks": ""
             }
            },
            "type": "scatterpolar"
           }
          ],
          "scatterpolargl": [
           {
            "marker": {
             "colorbar": {
              "outlinewidth": 0,
              "ticks": ""
             }
            },
            "type": "scatterpolargl"
           }
          ],
          "scatterternary": [
           {
            "marker": {
             "colorbar": {
              "outlinewidth": 0,
              "ticks": ""
             }
            },
            "type": "scatterternary"
           }
          ],
          "surface": [
           {
            "colorbar": {
             "outlinewidth": 0,
             "ticks": ""
            },
            "colorscale": [
             [
              0,
              "#0d0887"
             ],
             [
              0.1111111111111111,
              "#46039f"
             ],
             [
              0.2222222222222222,
              "#7201a8"
             ],
             [
              0.3333333333333333,
              "#9c179e"
             ],
             [
              0.4444444444444444,
              "#bd3786"
             ],
             [
              0.5555555555555556,
              "#d8576b"
             ],
             [
              0.6666666666666666,
              "#ed7953"
             ],
             [
              0.7777777777777778,
              "#fb9f3a"
             ],
             [
              0.8888888888888888,
              "#fdca26"
             ],
             [
              1,
              "#f0f921"
             ]
            ],
            "type": "surface"
           }
          ],
          "table": [
           {
            "cells": {
             "fill": {
              "color": "#EBF0F8"
             },
             "line": {
              "color": "white"
             }
            },
            "header": {
             "fill": {
              "color": "#C8D4E3"
             },
             "line": {
              "color": "white"
             }
            },
            "type": "table"
           }
          ]
         },
         "layout": {
          "annotationdefaults": {
           "arrowcolor": "#2a3f5f",
           "arrowhead": 0,
           "arrowwidth": 1
          },
          "coloraxis": {
           "colorbar": {
            "outlinewidth": 0,
            "ticks": ""
           }
          },
          "colorscale": {
           "diverging": [
            [
             0,
             "#8e0152"
            ],
            [
             0.1,
             "#c51b7d"
            ],
            [
             0.2,
             "#de77ae"
            ],
            [
             0.3,
             "#f1b6da"
            ],
            [
             0.4,
             "#fde0ef"
            ],
            [
             0.5,
             "#f7f7f7"
            ],
            [
             0.6,
             "#e6f5d0"
            ],
            [
             0.7,
             "#b8e186"
            ],
            [
             0.8,
             "#7fbc41"
            ],
            [
             0.9,
             "#4d9221"
            ],
            [
             1,
             "#276419"
            ]
           ],
           "sequential": [
            [
             0,
             "#0d0887"
            ],
            [
             0.1111111111111111,
             "#46039f"
            ],
            [
             0.2222222222222222,
             "#7201a8"
            ],
            [
             0.3333333333333333,
             "#9c179e"
            ],
            [
             0.4444444444444444,
             "#bd3786"
            ],
            [
             0.5555555555555556,
             "#d8576b"
            ],
            [
             0.6666666666666666,
             "#ed7953"
            ],
            [
             0.7777777777777778,
             "#fb9f3a"
            ],
            [
             0.8888888888888888,
             "#fdca26"
            ],
            [
             1,
             "#f0f921"
            ]
           ],
           "sequentialminus": [
            [
             0,
             "#0d0887"
            ],
            [
             0.1111111111111111,
             "#46039f"
            ],
            [
             0.2222222222222222,
             "#7201a8"
            ],
            [
             0.3333333333333333,
             "#9c179e"
            ],
            [
             0.4444444444444444,
             "#bd3786"
            ],
            [
             0.5555555555555556,
             "#d8576b"
            ],
            [
             0.6666666666666666,
             "#ed7953"
            ],
            [
             0.7777777777777778,
             "#fb9f3a"
            ],
            [
             0.8888888888888888,
             "#fdca26"
            ],
            [
             1,
             "#f0f921"
            ]
           ]
          },
          "colorway": [
           "#636efa",
           "#EF553B",
           "#00cc96",
           "#ab63fa",
           "#FFA15A",
           "#19d3f3",
           "#FF6692",
           "#B6E880",
           "#FF97FF",
           "#FECB52"
          ],
          "font": {
           "color": "#2a3f5f"
          },
          "geo": {
           "bgcolor": "white",
           "lakecolor": "white",
           "landcolor": "#E5ECF6",
           "showlakes": true,
           "showland": true,
           "subunitcolor": "white"
          },
          "hoverlabel": {
           "align": "left"
          },
          "hovermode": "closest",
          "mapbox": {
           "style": "light"
          },
          "paper_bgcolor": "white",
          "plot_bgcolor": "#E5ECF6",
          "polar": {
           "angularaxis": {
            "gridcolor": "white",
            "linecolor": "white",
            "ticks": ""
           },
           "bgcolor": "#E5ECF6",
           "radialaxis": {
            "gridcolor": "white",
            "linecolor": "white",
            "ticks": ""
           }
          },
          "scene": {
           "xaxis": {
            "backgroundcolor": "#E5ECF6",
            "gridcolor": "white",
            "gridwidth": 2,
            "linecolor": "white",
            "showbackground": true,
            "ticks": "",
            "zerolinecolor": "white"
           },
           "yaxis": {
            "backgroundcolor": "#E5ECF6",
            "gridcolor": "white",
            "gridwidth": 2,
            "linecolor": "white",
            "showbackground": true,
            "ticks": "",
            "zerolinecolor": "white"
           },
           "zaxis": {
            "backgroundcolor": "#E5ECF6",
            "gridcolor": "white",
            "gridwidth": 2,
            "linecolor": "white",
            "showbackground": true,
            "ticks": "",
            "zerolinecolor": "white"
           }
          },
          "shapedefaults": {
           "line": {
            "color": "#2a3f5f"
           }
          },
          "ternary": {
           "aaxis": {
            "gridcolor": "white",
            "linecolor": "white",
            "ticks": ""
           },
           "baxis": {
            "gridcolor": "white",
            "linecolor": "white",
            "ticks": ""
           },
           "bgcolor": "#E5ECF6",
           "caxis": {
            "gridcolor": "white",
            "linecolor": "white",
            "ticks": ""
           }
          },
          "title": {
           "x": 0.05
          },
          "xaxis": {
           "automargin": true,
           "gridcolor": "white",
           "linecolor": "white",
           "ticks": "",
           "title": {
            "standoff": 15
           },
           "zerolinecolor": "white",
           "zerolinewidth": 2
          },
          "yaxis": {
           "automargin": true,
           "gridcolor": "white",
           "linecolor": "white",
           "ticks": "",
           "title": {
            "standoff": 15
           },
           "zerolinecolor": "white",
           "zerolinewidth": 2
          }
         }
        },
        "updatemenus": [
         {
          "buttons": [
           {
            "args": [
             {
              "scene.annotations": [
               {
                "showarrow": false,
                "text": "O1",
                "x": 0.163906,
                "y": 1.513491,
                "yshift": 15,
                "z": 0.430397
               },
               {
                "showarrow": false,
                "text": "O2",
                "x": 0.275876,
                "y": -0.844048,
                "yshift": 15,
                "z": 1.349462
               },
               {
                "showarrow": false,
                "text": "O3",
                "x": 0.456722,
                "y": -0.640095,
                "yshift": 15,
                "z": -1.228184
               },
               {
                "showarrow": false,
                "text": "O4",
                "x": -1.291854,
                "y": 0.920948,
                "yshift": 15,
                "z": 0.125181
               },
               {
                "showarrow": false,
                "text": "P5",
                "x": 0,
                "y": 0,
                "yshift": 15,
                "z": 0
               },
               {
                "showarrow": false,
                "text": "P6",
                "x": 1.155142,
                "y": -3.265485,
                "yshift": 15,
                "z": 1.082441
               },
               {
                "showarrow": false,
                "text": "O7",
                "x": 1.970807,
                "y": -2.826521,
                "yshift": 15,
                "z": -0.194184
               },
               {
                "showarrow": false,
                "text": "O8",
                "x": 1.997184,
                "y": -3.170678,
                "yshift": 15,
                "z": 2.322265
               },
               {
                "showarrow": false,
                "text": "O9",
                "x": 0.506429,
                "y": -4.61299,
                "yshift": 15,
                "z": 0.971479
               },
               {
                "showarrow": false,
                "text": "O10",
                "x": -0.151052,
                "y": -2.228108,
                "yshift": 15,
                "z": 1.100702
               },
               {
                "showarrow": false,
                "text": "H11",
                "x": 1.507175,
                "y": -2.22261,
                "yshift": 15,
                "z": -0.814863
               }
              ]
             }
            ],
            "label": "Elements",
            "method": "relayout"
           },
           {
            "args": [
             {
              "scene.annotations": [
               {
                "showarrow": false,
                "text": "O1",
                "x": 0.163906,
                "y": 1.513491,
                "yshift": 15,
                "z": 0.430397
               },
               {
                "showarrow": false,
                "text": "O2",
                "x": 0.275876,
                "y": -0.844048,
                "yshift": 15,
                "z": 1.349462
               },
               {
                "showarrow": false,
                "text": "O3",
                "x": 0.456722,
                "y": -0.640095,
                "yshift": 15,
                "z": -1.228184
               },
               {
                "showarrow": false,
                "text": "O4",
                "x": -1.291854,
                "y": 0.920948,
                "yshift": 15,
                "z": 0.125181
               },
               {
                "showarrow": false,
                "text": "P5",
                "x": 0,
                "y": 0,
                "yshift": 15,
                "z": 0
               },
               {
                "showarrow": false,
                "text": "P6",
                "x": 1.155142,
                "y": -3.265485,
                "yshift": 15,
                "z": 1.082441
               },
               {
                "showarrow": false,
                "text": "O7",
                "x": 1.970807,
                "y": -2.826521,
                "yshift": 15,
                "z": -0.194184
               },
               {
                "showarrow": false,
                "text": "O8",
                "x": 1.997184,
                "y": -3.170678,
                "yshift": 15,
                "z": 2.322265
               },
               {
                "showarrow": false,
                "text": "O9",
                "x": 0.506429,
                "y": -4.61299,
                "yshift": 15,
                "z": 0.971479
               },
               {
                "showarrow": false,
                "text": "O10",
                "x": -0.151052,
                "y": -2.228108,
                "yshift": 15,
                "z": 1.100702
               },
               {
                "showarrow": false,
                "text": "H11",
                "x": 1.507175,
                "y": -2.22261,
                "yshift": 15,
                "z": -0.814863
               },
               {
                "font": {
                 "color": "steelblue"
                },
                "showarrow": false,
                "text": "1.582",
                "x": 0.081953,
                "y": 0.7567455,
                "yshift": 15,
                "z": 0.2151985
               },
               {
                "font": {
                 "color": "steelblue"
                },
                "showarrow": false,
                "text": "1.615",
                "x": 0.137938,
                "y": -0.422024,
                "yshift": 15,
                "z": 0.674731
               },
               {
                "font": {
                 "color": "steelblue"
                },
                "showarrow": false,
                "text": "1.458",
                "x": 0.228361,
                "y": -0.3200475,
                "yshift": 15,
                "z": -0.614092
               },
               {
                "font": {
                 "color": "steelblue"
                },
                "showarrow": false,
                "text": "1.591",
                "x": -0.645927,
                "y": 0.460474,
                "yshift": 15,
                "z": 0.0625905
               },
               {
                "font": {
                 "color": "steelblue"
                },
                "showarrow": false,
                "text": "1.577",
                "x": 1.5629745,
                "y": -3.046003,
                "yshift": 15,
                "z": 0.4441285
               },
               {
                "font": {
                 "color": "steelblue"
                },
                "showarrow": false,
                "text": "1.502",
                "x": 1.576163,
                "y": -3.2180815000000003,
                "yshift": 15,
                "z": 1.702353
               },
               {
                "font": {
                 "color": "steelblue"
                },
                "showarrow": false,
                "text": "1.500",
                "x": 0.8307855,
                "y": -3.9392375,
                "yshift": 15,
                "z": 1.0269599999999999
               },
               {
                "font": {
                 "color": "steelblue"
                },
                "showarrow": false,
                "text": "1.668",
                "x": 0.502045,
                "y": -2.7467965000000003,
                "yshift": 15,
                "z": 1.0915715000000001
               },
               {
                "font": {
                 "color": "steelblue"
                },
                "showarrow": false,
                "text": "0.982",
                "x": 1.738991,
                "y": -2.5245655,
                "yshift": 15,
                "z": -0.5045235
               },
               {
                "font": {
                 "color": "steelblue"
                },
                "showarrow": false,
                "text": 1.944,
                "x": 0.9819485,
                "y": -1.4313525,
                "yshift": 15,
                "z": -1.0215235
               }
              ]
             }
            ],
            "label": "Element & Bond Lengths",
            "method": "relayout"
           },
           {
            "args": [
             {
              "scene.annotations": [
               {
                "showarrow": false,
                "text": 0,
                "x": 0.163906,
                "y": 1.513491,
                "yshift": 15,
                "z": 0.430397
               },
               {
                "showarrow": false,
                "text": 1,
                "x": 0.275876,
                "y": -0.844048,
                "yshift": 15,
                "z": 1.349462
               },
               {
                "showarrow": false,
                "text": 2,
                "x": 0.456722,
                "y": -0.640095,
                "yshift": 15,
                "z": -1.228184
               },
               {
                "showarrow": false,
                "text": 3,
                "x": -1.291854,
                "y": 0.920948,
                "yshift": 15,
                "z": 0.125181
               },
               {
                "showarrow": false,
                "text": 4,
                "x": 0,
                "y": 0,
                "yshift": 15,
                "z": 0
               },
               {
                "showarrow": false,
                "text": 5,
                "x": 1.155142,
                "y": -3.265485,
                "yshift": 15,
                "z": 1.082441
               },
               {
                "showarrow": false,
                "text": 6,
                "x": 1.970807,
                "y": -2.826521,
                "yshift": 15,
                "z": -0.194184
               },
               {
                "showarrow": false,
                "text": 7,
                "x": 1.997184,
                "y": -3.170678,
                "yshift": 15,
                "z": 2.322265
               },
               {
                "showarrow": false,
                "text": 8,
                "x": 0.506429,
                "y": -4.61299,
                "yshift": 15,
                "z": 0.971479
               },
               {
                "showarrow": false,
                "text": 9,
                "x": -0.151052,
                "y": -2.228108,
                "yshift": 15,
                "z": 1.100702
               },
               {
                "showarrow": false,
                "text": 10,
                "x": 1.507175,
                "y": -2.22261,
                "yshift": 15,
                "z": -0.814863
               }
              ]
             }
            ],
            "label": "Indices",
            "method": "relayout"
           },
           {
            "args": [
             {
              "scene.annotations": [
               {
                "showarrow": false,
                "text": 0,
                "x": 0.163906,
                "y": 1.513491,
                "yshift": 15,
                "z": 0.430397
               },
               {
                "showarrow": false,
                "text": 1,
                "x": 0.275876,
                "y": -0.844048,
                "yshift": 15,
                "z": 1.349462
               },
               {
                "showarrow": false,
                "text": 2,
                "x": 0.456722,
                "y": -0.640095,
                "yshift": 15,
                "z": -1.228184
               },
               {
                "showarrow": false,
                "text": 3,
                "x": -1.291854,
                "y": 0.920948,
                "yshift": 15,
                "z": 0.125181
               },
               {
                "showarrow": false,
                "text": 4,
                "x": 0,
                "y": 0,
                "yshift": 15,
                "z": 0
               },
               {
                "showarrow": false,
                "text": 5,
                "x": 1.155142,
                "y": -3.265485,
                "yshift": 15,
                "z": 1.082441
               },
               {
                "showarrow": false,
                "text": 6,
                "x": 1.970807,
                "y": -2.826521,
                "yshift": 15,
                "z": -0.194184
               },
               {
                "showarrow": false,
                "text": 7,
                "x": 1.997184,
                "y": -3.170678,
                "yshift": 15,
                "z": 2.322265
               },
               {
                "showarrow": false,
                "text": 8,
                "x": 0.506429,
                "y": -4.61299,
                "yshift": 15,
                "z": 0.971479
               },
               {
                "showarrow": false,
                "text": 9,
                "x": -0.151052,
                "y": -2.228108,
                "yshift": 15,
                "z": 1.100702
               },
               {
                "showarrow": false,
                "text": 10,
                "x": 1.507175,
                "y": -2.22261,
                "yshift": 15,
                "z": -0.814863
               },
               {
                "font": {
                 "color": "steelblue"
                },
                "showarrow": false,
                "text": "1.582",
                "x": 0.081953,
                "y": 0.7567455,
                "yshift": 15,
                "z": 0.2151985
               },
               {
                "font": {
                 "color": "steelblue"
                },
                "showarrow": false,
                "text": "1.615",
                "x": 0.137938,
                "y": -0.422024,
                "yshift": 15,
                "z": 0.674731
               },
               {
                "font": {
                 "color": "steelblue"
                },
                "showarrow": false,
                "text": "1.458",
                "x": 0.228361,
                "y": -0.3200475,
                "yshift": 15,
                "z": -0.614092
               },
               {
                "font": {
                 "color": "steelblue"
                },
                "showarrow": false,
                "text": "1.591",
                "x": -0.645927,
                "y": 0.460474,
                "yshift": 15,
                "z": 0.0625905
               },
               {
                "font": {
                 "color": "steelblue"
                },
                "showarrow": false,
                "text": "1.577",
                "x": 1.5629745,
                "y": -3.046003,
                "yshift": 15,
                "z": 0.4441285
               },
               {
                "font": {
                 "color": "steelblue"
                },
                "showarrow": false,
                "text": "1.502",
                "x": 1.576163,
                "y": -3.2180815000000003,
                "yshift": 15,
                "z": 1.702353
               },
               {
                "font": {
                 "color": "steelblue"
                },
                "showarrow": false,
                "text": "1.500",
                "x": 0.8307855,
                "y": -3.9392375,
                "yshift": 15,
                "z": 1.0269599999999999
               },
               {
                "font": {
                 "color": "steelblue"
                },
                "showarrow": false,
                "text": "1.668",
                "x": 0.502045,
                "y": -2.7467965000000003,
                "yshift": 15,
                "z": 1.0915715000000001
               },
               {
                "font": {
                 "color": "steelblue"
                },
                "showarrow": false,
                "text": "0.982",
                "x": 1.738991,
                "y": -2.5245655,
                "yshift": 15,
                "z": -0.5045235
               },
               {
                "font": {
                 "color": "steelblue"
                },
                "showarrow": false,
                "text": 1.944,
                "x": 0.9819485,
                "y": -1.4313525,
                "yshift": 15,
                "z": -1.0215235
               }
              ]
             }
            ],
            "label": "Indices & Bond Lengths",
            "method": "relayout"
           },
           {
            "args": [
             {
              "scene.annotations": [
               {
                "font": {
                 "color": "steelblue"
                },
                "showarrow": false,
                "text": "1.582",
                "x": 0.081953,
                "y": 0.7567455,
                "yshift": 15,
                "z": 0.2151985
               },
               {
                "font": {
                 "color": "steelblue"
                },
                "showarrow": false,
                "text": "1.615",
                "x": 0.137938,
                "y": -0.422024,
                "yshift": 15,
                "z": 0.674731
               },
               {
                "font": {
                 "color": "steelblue"
                },
                "showarrow": false,
                "text": "1.458",
                "x": 0.228361,
                "y": -0.3200475,
                "yshift": 15,
                "z": -0.614092
               },
               {
                "font": {
                 "color": "steelblue"
                },
                "showarrow": false,
                "text": "1.591",
                "x": -0.645927,
                "y": 0.460474,
                "yshift": 15,
                "z": 0.0625905
               },
               {
                "font": {
                 "color": "steelblue"
                },
                "showarrow": false,
                "text": "1.577",
                "x": 1.5629745,
                "y": -3.046003,
                "yshift": 15,
                "z": 0.4441285
               },
               {
                "font": {
                 "color": "steelblue"
                },
                "showarrow": false,
                "text": "1.502",
                "x": 1.576163,
                "y": -3.2180815000000003,
                "yshift": 15,
                "z": 1.702353
               },
               {
                "font": {
                 "color": "steelblue"
                },
                "showarrow": false,
                "text": "1.500",
                "x": 0.8307855,
                "y": -3.9392375,
                "yshift": 15,
                "z": 1.0269599999999999
               },
               {
                "font": {
                 "color": "steelblue"
                },
                "showarrow": false,
                "text": "1.668",
                "x": 0.502045,
                "y": -2.7467965000000003,
                "yshift": 15,
                "z": 1.0915715000000001
               },
               {
                "font": {
                 "color": "steelblue"
                },
                "showarrow": false,
                "text": "0.982",
                "x": 1.738991,
                "y": -2.5245655,
                "yshift": 15,
                "z": -0.5045235
               },
               {
                "font": {
                 "color": "steelblue"
                },
                "showarrow": false,
                "text": 1.944,
                "x": 0.9819485,
                "y": -1.4313525,
                "yshift": 15,
                "z": -1.0215235
               }
              ]
             }
            ],
            "label": "Bond Lengths",
            "method": "relayout"
           },
           {
            "args": [
             {}
            ],
            "label": "Hide All",
            "method": "relayout"
           }
          ],
          "direction": "down",
          "xanchor": "left",
          "yanchor": "top"
         }
        ]
       }
      },
      "text/html": [
       "<div>                            <div id=\"233cbc2b-1c9e-484c-b165-9a5ca2bd6d17\" class=\"plotly-graph-div\" style=\"height:525px; width:100%;\"></div>            <script type=\"text/javascript\">                require([\"plotly\"], function(Plotly) {                    window.PLOTLYENV=window.PLOTLYENV || {};                                    if (document.getElementById(\"233cbc2b-1c9e-484c-b165-9a5ca2bd6d17\")) {                    Plotly.newPlot(                        \"233cbc2b-1c9e-484c-b165-9a5ca2bd6d17\",                        [{\"marker\": {\"color\": [\"red\", \"red\", \"red\", \"red\", \"orange\", \"orange\", \"red\", \"red\", \"red\", \"red\", \"white\"], \"line\": {\"color\": \"lightgray\", \"width\": 2}, \"opacity\": 0.8, \"size\": [27.200000000000003, 27.200000000000003, 27.200000000000003, 27.200000000000003, 42.0, 42.0, 27.200000000000003, 27.200000000000003, 27.200000000000003, 27.200000000000003, 9.200000000000001], \"symbol\": \"circle\"}, \"mode\": \"markers\", \"text\": [\"O1\", \"O2\", \"O3\", \"O4\", \"P5\", \"P6\", \"O7\", \"O8\", \"O9\", \"O10\", \"H11\"], \"type\": \"scatter3d\", \"x\": [0.163906, 0.275876, 0.456722, -1.291854, 0.0, 1.155142, 1.970807, 1.997184, 0.506429, -0.151052, 1.507175], \"y\": [1.513491, -0.844048, -0.640095, 0.920948, 0.0, -3.265485, -2.826521, -3.170678, -4.61299, -2.228108, -2.22261], \"z\": [0.430397, 1.349462, -1.228184, 0.125181, 0.0, 1.082441, -0.194184, 2.322265, 0.971479, 1.100702, -0.814863]}, {\"hoverinfo\": \"none\", \"marker\": {\"color\": \"gray\", \"opacity\": 0.1, \"size\": 3}, \"mode\": \"lines\", \"type\": \"scatter3d\", \"x\": [0.163906, 0.0, null, 0.0, 0.163906, null, 0.0, 0.456722, null, 0.0, -1.291854, null, 0.0, 0.275876, null, 0.275876, 0.0, null, 0.456722, 1.507175, null, 0.456722, 0.0, null, -1.291854, 0.0, null, 1.155142, 1.970807, null, 1.155142, -0.151052, null, 1.155142, 1.997184, null, 1.155142, 0.506429, null, 1.970807, 1.155142, null, 1.970807, 1.507175, null, 1.997184, 1.155142, null, 0.506429, 1.155142, null, -0.151052, 1.155142, null, 1.507175, 1.970807, null, 1.507175, 0.456722, null], \"y\": [1.513491, 0.0, null, 0.0, 1.513491, null, 0.0, -0.640095, null, 0.0, 0.920948, null, 0.0, -0.844048, null, -0.844048, 0.0, null, -0.640095, -2.22261, null, -0.640095, 0.0, null, 0.920948, 0.0, null, -3.265485, -2.826521, null, -3.265485, -2.228108, null, -3.265485, -3.170678, null, -3.265485, -4.61299, null, -2.826521, -3.265485, null, -2.826521, -2.22261, null, -3.170678, -3.265485, null, -4.61299, -3.265485, null, -2.228108, -3.265485, null, -2.22261, -2.826521, null, -2.22261, -0.640095, null], \"z\": [0.430397, 0.0, null, 0.0, 0.430397, null, 0.0, -1.228184, null, 0.0, 0.125181, null, 0.0, 1.349462, null, 1.349462, 0.0, null, -1.228184, -0.814863, null, -1.228184, 0.0, null, 0.125181, 0.0, null, 1.082441, -0.194184, null, 1.082441, 1.100702, null, 1.082441, 2.322265, null, 1.082441, 0.971479, null, -0.194184, 1.082441, null, -0.194184, -0.814863, null, 2.322265, 1.082441, null, 0.971479, 1.082441, null, 1.100702, 1.082441, null, -0.814863, -0.194184, null, -0.814863, -1.228184, null]}],                        {\"margin\": {\"b\": 0, \"l\": 0, \"r\": 0, \"t\": 0}, \"scene\": {\"annotations\": [{\"showarrow\": false, \"text\": \"O1\", \"x\": 0.163906, \"y\": 1.513491, \"yshift\": 15, \"z\": 0.430397}, {\"showarrow\": false, \"text\": \"O2\", \"x\": 0.275876, \"y\": -0.844048, \"yshift\": 15, \"z\": 1.349462}, {\"showarrow\": false, \"text\": \"O3\", \"x\": 0.456722, \"y\": -0.640095, \"yshift\": 15, \"z\": -1.228184}, {\"showarrow\": false, \"text\": \"O4\", \"x\": -1.291854, \"y\": 0.920948, \"yshift\": 15, \"z\": 0.125181}, {\"showarrow\": false, \"text\": \"P5\", \"x\": 0.0, \"y\": 0.0, \"yshift\": 15, \"z\": 0.0}, {\"showarrow\": false, \"text\": \"P6\", \"x\": 1.155142, \"y\": -3.265485, \"yshift\": 15, \"z\": 1.082441}, {\"showarrow\": false, \"text\": \"O7\", \"x\": 1.970807, \"y\": -2.826521, \"yshift\": 15, \"z\": -0.194184}, {\"showarrow\": false, \"text\": \"O8\", \"x\": 1.997184, \"y\": -3.170678, \"yshift\": 15, \"z\": 2.322265}, {\"showarrow\": false, \"text\": \"O9\", \"x\": 0.506429, \"y\": -4.61299, \"yshift\": 15, \"z\": 0.971479}, {\"showarrow\": false, \"text\": \"O10\", \"x\": -0.151052, \"y\": -2.228108, \"yshift\": 15, \"z\": 1.100702}, {\"showarrow\": false, \"text\": \"H11\", \"x\": 1.507175, \"y\": -2.22261, \"yshift\": 15, \"z\": -0.814863}], \"xaxis\": {\"showbackground\": true, \"showgrid\": true, \"showticklabels\": true, \"title\": {\"font\": {\"color\": \"white\"}}, \"zeroline\": true}, \"yaxis\": {\"showbackground\": true, \"showgrid\": true, \"showticklabels\": true, \"title\": {\"font\": {\"color\": \"white\"}}, \"zeroline\": true}, \"zaxis\": {\"showbackground\": true, \"showgrid\": true, \"showticklabels\": true, \"title\": {\"font\": {\"color\": \"white\"}}, \"zeroline\": true}}, \"showlegend\": false, \"template\": {\"data\": {\"bar\": [{\"error_x\": {\"color\": \"#2a3f5f\"}, \"error_y\": {\"color\": \"#2a3f5f\"}, \"marker\": {\"line\": {\"color\": \"#E5ECF6\", \"width\": 0.5}}, \"type\": \"bar\"}], \"barpolar\": [{\"marker\": {\"line\": {\"color\": \"#E5ECF6\", \"width\": 0.5}}, \"type\": \"barpolar\"}], \"carpet\": [{\"aaxis\": {\"endlinecolor\": \"#2a3f5f\", \"gridcolor\": \"white\", \"linecolor\": \"white\", \"minorgridcolor\": \"white\", \"startlinecolor\": \"#2a3f5f\"}, \"baxis\": {\"endlinecolor\": \"#2a3f5f\", \"gridcolor\": \"white\", \"linecolor\": \"white\", \"minorgridcolor\": \"white\", \"startlinecolor\": \"#2a3f5f\"}, \"type\": \"carpet\"}], \"choropleth\": [{\"colorbar\": {\"outlinewidth\": 0, \"ticks\": \"\"}, \"type\": \"choropleth\"}], \"contour\": [{\"colorbar\": {\"outlinewidth\": 0, \"ticks\": \"\"}, \"colorscale\": [[0.0, \"#0d0887\"], [0.1111111111111111, \"#46039f\"], [0.2222222222222222, \"#7201a8\"], [0.3333333333333333, \"#9c179e\"], [0.4444444444444444, \"#bd3786\"], [0.5555555555555556, \"#d8576b\"], [0.6666666666666666, \"#ed7953\"], [0.7777777777777778, \"#fb9f3a\"], [0.8888888888888888, \"#fdca26\"], [1.0, \"#f0f921\"]], \"type\": \"contour\"}], \"contourcarpet\": [{\"colorbar\": {\"outlinewidth\": 0, \"ticks\": \"\"}, \"type\": \"contourcarpet\"}], \"heatmap\": [{\"colorbar\": {\"outlinewidth\": 0, \"ticks\": \"\"}, \"colorscale\": [[0.0, \"#0d0887\"], [0.1111111111111111, \"#46039f\"], [0.2222222222222222, \"#7201a8\"], [0.3333333333333333, \"#9c179e\"], [0.4444444444444444, \"#bd3786\"], [0.5555555555555556, \"#d8576b\"], [0.6666666666666666, \"#ed7953\"], [0.7777777777777778, \"#fb9f3a\"], [0.8888888888888888, \"#fdca26\"], [1.0, \"#f0f921\"]], \"type\": \"heatmap\"}], \"heatmapgl\": [{\"colorbar\": {\"outlinewidth\": 0, \"ticks\": \"\"}, \"colorscale\": [[0.0, \"#0d0887\"], [0.1111111111111111, \"#46039f\"], [0.2222222222222222, \"#7201a8\"], [0.3333333333333333, \"#9c179e\"], [0.4444444444444444, \"#bd3786\"], [0.5555555555555556, \"#d8576b\"], [0.6666666666666666, \"#ed7953\"], [0.7777777777777778, \"#fb9f3a\"], [0.8888888888888888, \"#fdca26\"], [1.0, \"#f0f921\"]], \"type\": \"heatmapgl\"}], \"histogram\": [{\"marker\": {\"colorbar\": {\"outlinewidth\": 0, \"ticks\": \"\"}}, \"type\": \"histogram\"}], \"histogram2d\": [{\"colorbar\": {\"outlinewidth\": 0, \"ticks\": \"\"}, \"colorscale\": [[0.0, \"#0d0887\"], [0.1111111111111111, \"#46039f\"], [0.2222222222222222, \"#7201a8\"], [0.3333333333333333, \"#9c179e\"], [0.4444444444444444, \"#bd3786\"], [0.5555555555555556, \"#d8576b\"], [0.6666666666666666, \"#ed7953\"], [0.7777777777777778, \"#fb9f3a\"], [0.8888888888888888, \"#fdca26\"], [1.0, \"#f0f921\"]], \"type\": \"histogram2d\"}], \"histogram2dcontour\": [{\"colorbar\": {\"outlinewidth\": 0, \"ticks\": \"\"}, \"colorscale\": [[0.0, \"#0d0887\"], [0.1111111111111111, \"#46039f\"], [0.2222222222222222, \"#7201a8\"], [0.3333333333333333, \"#9c179e\"], [0.4444444444444444, \"#bd3786\"], [0.5555555555555556, \"#d8576b\"], [0.6666666666666666, \"#ed7953\"], [0.7777777777777778, \"#fb9f3a\"], [0.8888888888888888, \"#fdca26\"], [1.0, \"#f0f921\"]], \"type\": \"histogram2dcontour\"}], \"mesh3d\": [{\"colorbar\": {\"outlinewidth\": 0, \"ticks\": \"\"}, \"type\": \"mesh3d\"}], \"parcoords\": [{\"line\": {\"colorbar\": {\"outlinewidth\": 0, \"ticks\": \"\"}}, \"type\": \"parcoords\"}], \"pie\": [{\"automargin\": true, \"type\": \"pie\"}], \"scatter\": [{\"marker\": {\"colorbar\": {\"outlinewidth\": 0, \"ticks\": \"\"}}, \"type\": \"scatter\"}], \"scatter3d\": [{\"line\": {\"colorbar\": {\"outlinewidth\": 0, \"ticks\": \"\"}}, \"marker\": {\"colorbar\": {\"outlinewidth\": 0, \"ticks\": \"\"}}, \"type\": \"scatter3d\"}], \"scattercarpet\": [{\"marker\": {\"colorbar\": {\"outlinewidth\": 0, \"ticks\": \"\"}}, \"type\": \"scattercarpet\"}], \"scattergeo\": [{\"marker\": {\"colorbar\": {\"outlinewidth\": 0, \"ticks\": \"\"}}, \"type\": \"scattergeo\"}], \"scattergl\": [{\"marker\": {\"colorbar\": {\"outlinewidth\": 0, \"ticks\": \"\"}}, \"type\": \"scattergl\"}], \"scattermapbox\": [{\"marker\": {\"colorbar\": {\"outlinewidth\": 0, \"ticks\": \"\"}}, \"type\": \"scattermapbox\"}], \"scatterpolar\": [{\"marker\": {\"colorbar\": {\"outlinewidth\": 0, \"ticks\": \"\"}}, \"type\": \"scatterpolar\"}], \"scatterpolargl\": [{\"marker\": {\"colorbar\": {\"outlinewidth\": 0, \"ticks\": \"\"}}, \"type\": \"scatterpolargl\"}], \"scatterternary\": [{\"marker\": {\"colorbar\": {\"outlinewidth\": 0, \"ticks\": \"\"}}, \"type\": \"scatterternary\"}], \"surface\": [{\"colorbar\": {\"outlinewidth\": 0, \"ticks\": \"\"}, \"colorscale\": [[0.0, \"#0d0887\"], [0.1111111111111111, \"#46039f\"], [0.2222222222222222, \"#7201a8\"], [0.3333333333333333, \"#9c179e\"], [0.4444444444444444, \"#bd3786\"], [0.5555555555555556, \"#d8576b\"], [0.6666666666666666, \"#ed7953\"], [0.7777777777777778, \"#fb9f3a\"], [0.8888888888888888, \"#fdca26\"], [1.0, \"#f0f921\"]], \"type\": \"surface\"}], \"table\": [{\"cells\": {\"fill\": {\"color\": \"#EBF0F8\"}, \"line\": {\"color\": \"white\"}}, \"header\": {\"fill\": {\"color\": \"#C8D4E3\"}, \"line\": {\"color\": \"white\"}}, \"type\": \"table\"}]}, \"layout\": {\"annotationdefaults\": {\"arrowcolor\": \"#2a3f5f\", \"arrowhead\": 0, \"arrowwidth\": 1}, \"coloraxis\": {\"colorbar\": {\"outlinewidth\": 0, \"ticks\": \"\"}}, \"colorscale\": {\"diverging\": [[0, \"#8e0152\"], [0.1, \"#c51b7d\"], [0.2, \"#de77ae\"], [0.3, \"#f1b6da\"], [0.4, \"#fde0ef\"], [0.5, \"#f7f7f7\"], [0.6, \"#e6f5d0\"], [0.7, \"#b8e186\"], [0.8, \"#7fbc41\"], [0.9, \"#4d9221\"], [1, \"#276419\"]], \"sequential\": [[0.0, \"#0d0887\"], [0.1111111111111111, \"#46039f\"], [0.2222222222222222, \"#7201a8\"], [0.3333333333333333, \"#9c179e\"], [0.4444444444444444, \"#bd3786\"], [0.5555555555555556, \"#d8576b\"], [0.6666666666666666, \"#ed7953\"], [0.7777777777777778, \"#fb9f3a\"], [0.8888888888888888, \"#fdca26\"], [1.0, \"#f0f921\"]], \"sequentialminus\": [[0.0, \"#0d0887\"], [0.1111111111111111, \"#46039f\"], [0.2222222222222222, \"#7201a8\"], [0.3333333333333333, \"#9c179e\"], [0.4444444444444444, \"#bd3786\"], [0.5555555555555556, \"#d8576b\"], [0.6666666666666666, \"#ed7953\"], [0.7777777777777778, \"#fb9f3a\"], [0.8888888888888888, \"#fdca26\"], [1.0, \"#f0f921\"]]}, \"colorway\": [\"#636efa\", \"#EF553B\", \"#00cc96\", \"#ab63fa\", \"#FFA15A\", \"#19d3f3\", \"#FF6692\", \"#B6E880\", \"#FF97FF\", \"#FECB52\"], \"font\": {\"color\": \"#2a3f5f\"}, \"geo\": {\"bgcolor\": \"white\", \"lakecolor\": \"white\", \"landcolor\": \"#E5ECF6\", \"showlakes\": true, \"showland\": true, \"subunitcolor\": \"white\"}, \"hoverlabel\": {\"align\": \"left\"}, \"hovermode\": \"closest\", \"mapbox\": {\"style\": \"light\"}, \"paper_bgcolor\": \"white\", \"plot_bgcolor\": \"#E5ECF6\", \"polar\": {\"angularaxis\": {\"gridcolor\": \"white\", \"linecolor\": \"white\", \"ticks\": \"\"}, \"bgcolor\": \"#E5ECF6\", \"radialaxis\": {\"gridcolor\": \"white\", \"linecolor\": \"white\", \"ticks\": \"\"}}, \"scene\": {\"xaxis\": {\"backgroundcolor\": \"#E5ECF6\", \"gridcolor\": \"white\", \"gridwidth\": 2, \"linecolor\": \"white\", \"showbackground\": true, \"ticks\": \"\", \"zerolinecolor\": \"white\"}, \"yaxis\": {\"backgroundcolor\": \"#E5ECF6\", \"gridcolor\": \"white\", \"gridwidth\": 2, \"linecolor\": \"white\", \"showbackground\": true, \"ticks\": \"\", \"zerolinecolor\": \"white\"}, \"zaxis\": {\"backgroundcolor\": \"#E5ECF6\", \"gridcolor\": \"white\", \"gridwidth\": 2, \"linecolor\": \"white\", \"showbackground\": true, \"ticks\": \"\", \"zerolinecolor\": \"white\"}}, \"shapedefaults\": {\"line\": {\"color\": \"#2a3f5f\"}}, \"ternary\": {\"aaxis\": {\"gridcolor\": \"white\", \"linecolor\": \"white\", \"ticks\": \"\"}, \"baxis\": {\"gridcolor\": \"white\", \"linecolor\": \"white\", \"ticks\": \"\"}, \"bgcolor\": \"#E5ECF6\", \"caxis\": {\"gridcolor\": \"white\", \"linecolor\": \"white\", \"ticks\": \"\"}}, \"title\": {\"x\": 0.05}, \"xaxis\": {\"automargin\": true, \"gridcolor\": \"white\", \"linecolor\": \"white\", \"ticks\": \"\", \"title\": {\"standoff\": 15}, \"zerolinecolor\": \"white\", \"zerolinewidth\": 2}, \"yaxis\": {\"automargin\": true, \"gridcolor\": \"white\", \"linecolor\": \"white\", \"ticks\": \"\", \"title\": {\"standoff\": 15}, \"zerolinecolor\": \"white\", \"zerolinewidth\": 2}}}, \"updatemenus\": [{\"buttons\": [{\"args\": [{\"scene.annotations\": [{\"showarrow\": false, \"text\": \"O1\", \"x\": 0.163906, \"y\": 1.513491, \"yshift\": 15, \"z\": 0.430397}, {\"showarrow\": false, \"text\": \"O2\", \"x\": 0.275876, \"y\": -0.844048, \"yshift\": 15, \"z\": 1.349462}, {\"showarrow\": false, \"text\": \"O3\", \"x\": 0.456722, \"y\": -0.640095, \"yshift\": 15, \"z\": -1.228184}, {\"showarrow\": false, \"text\": \"O4\", \"x\": -1.291854, \"y\": 0.920948, \"yshift\": 15, \"z\": 0.125181}, {\"showarrow\": false, \"text\": \"P5\", \"x\": 0.0, \"y\": 0.0, \"yshift\": 15, \"z\": 0.0}, {\"showarrow\": false, \"text\": \"P6\", \"x\": 1.155142, \"y\": -3.265485, \"yshift\": 15, \"z\": 1.082441}, {\"showarrow\": false, \"text\": \"O7\", \"x\": 1.970807, \"y\": -2.826521, \"yshift\": 15, \"z\": -0.194184}, {\"showarrow\": false, \"text\": \"O8\", \"x\": 1.997184, \"y\": -3.170678, \"yshift\": 15, \"z\": 2.322265}, {\"showarrow\": false, \"text\": \"O9\", \"x\": 0.506429, \"y\": -4.61299, \"yshift\": 15, \"z\": 0.971479}, {\"showarrow\": false, \"text\": \"O10\", \"x\": -0.151052, \"y\": -2.228108, \"yshift\": 15, \"z\": 1.100702}, {\"showarrow\": false, \"text\": \"H11\", \"x\": 1.507175, \"y\": -2.22261, \"yshift\": 15, \"z\": -0.814863}]}], \"label\": \"Elements\", \"method\": \"relayout\"}, {\"args\": [{\"scene.annotations\": [{\"showarrow\": false, \"text\": \"O1\", \"x\": 0.163906, \"y\": 1.513491, \"yshift\": 15, \"z\": 0.430397}, {\"showarrow\": false, \"text\": \"O2\", \"x\": 0.275876, \"y\": -0.844048, \"yshift\": 15, \"z\": 1.349462}, {\"showarrow\": false, \"text\": \"O3\", \"x\": 0.456722, \"y\": -0.640095, \"yshift\": 15, \"z\": -1.228184}, {\"showarrow\": false, \"text\": \"O4\", \"x\": -1.291854, \"y\": 0.920948, \"yshift\": 15, \"z\": 0.125181}, {\"showarrow\": false, \"text\": \"P5\", \"x\": 0.0, \"y\": 0.0, \"yshift\": 15, \"z\": 0.0}, {\"showarrow\": false, \"text\": \"P6\", \"x\": 1.155142, \"y\": -3.265485, \"yshift\": 15, \"z\": 1.082441}, {\"showarrow\": false, \"text\": \"O7\", \"x\": 1.970807, \"y\": -2.826521, \"yshift\": 15, \"z\": -0.194184}, {\"showarrow\": false, \"text\": \"O8\", \"x\": 1.997184, \"y\": -3.170678, \"yshift\": 15, \"z\": 2.322265}, {\"showarrow\": false, \"text\": \"O9\", \"x\": 0.506429, \"y\": -4.61299, \"yshift\": 15, \"z\": 0.971479}, {\"showarrow\": false, \"text\": \"O10\", \"x\": -0.151052, \"y\": -2.228108, \"yshift\": 15, \"z\": 1.100702}, {\"showarrow\": false, \"text\": \"H11\", \"x\": 1.507175, \"y\": -2.22261, \"yshift\": 15, \"z\": -0.814863}, {\"font\": {\"color\": \"steelblue\"}, \"showarrow\": false, \"text\": \"1.582\", \"x\": 0.081953, \"y\": 0.7567455, \"yshift\": 15, \"z\": 0.2151985}, {\"font\": {\"color\": \"steelblue\"}, \"showarrow\": false, \"text\": \"1.615\", \"x\": 0.137938, \"y\": -0.422024, \"yshift\": 15, \"z\": 0.674731}, {\"font\": {\"color\": \"steelblue\"}, \"showarrow\": false, \"text\": \"1.458\", \"x\": 0.228361, \"y\": -0.3200475, \"yshift\": 15, \"z\": -0.614092}, {\"font\": {\"color\": \"steelblue\"}, \"showarrow\": false, \"text\": \"1.591\", \"x\": -0.645927, \"y\": 0.460474, \"yshift\": 15, \"z\": 0.0625905}, {\"font\": {\"color\": \"steelblue\"}, \"showarrow\": false, \"text\": \"1.577\", \"x\": 1.5629745, \"y\": -3.046003, \"yshift\": 15, \"z\": 0.4441285}, {\"font\": {\"color\": \"steelblue\"}, \"showarrow\": false, \"text\": \"1.502\", \"x\": 1.576163, \"y\": -3.2180815000000003, \"yshift\": 15, \"z\": 1.702353}, {\"font\": {\"color\": \"steelblue\"}, \"showarrow\": false, \"text\": \"1.500\", \"x\": 0.8307855, \"y\": -3.9392375, \"yshift\": 15, \"z\": 1.0269599999999999}, {\"font\": {\"color\": \"steelblue\"}, \"showarrow\": false, \"text\": \"1.668\", \"x\": 0.502045, \"y\": -2.7467965000000003, \"yshift\": 15, \"z\": 1.0915715000000001}, {\"font\": {\"color\": \"steelblue\"}, \"showarrow\": false, \"text\": \"0.982\", \"x\": 1.738991, \"y\": -2.5245655, \"yshift\": 15, \"z\": -0.5045235}, {\"font\": {\"color\": \"steelblue\"}, \"showarrow\": false, \"text\": 1.944, \"x\": 0.9819485, \"y\": -1.4313525, \"yshift\": 15, \"z\": -1.0215235}]}], \"label\": \"Element & Bond Lengths\", \"method\": \"relayout\"}, {\"args\": [{\"scene.annotations\": [{\"showarrow\": false, \"text\": 0, \"x\": 0.163906, \"y\": 1.513491, \"yshift\": 15, \"z\": 0.430397}, {\"showarrow\": false, \"text\": 1, \"x\": 0.275876, \"y\": -0.844048, \"yshift\": 15, \"z\": 1.349462}, {\"showarrow\": false, \"text\": 2, \"x\": 0.456722, \"y\": -0.640095, \"yshift\": 15, \"z\": -1.228184}, {\"showarrow\": false, \"text\": 3, \"x\": -1.291854, \"y\": 0.920948, \"yshift\": 15, \"z\": 0.125181}, {\"showarrow\": false, \"text\": 4, \"x\": 0.0, \"y\": 0.0, \"yshift\": 15, \"z\": 0.0}, {\"showarrow\": false, \"text\": 5, \"x\": 1.155142, \"y\": -3.265485, \"yshift\": 15, \"z\": 1.082441}, {\"showarrow\": false, \"text\": 6, \"x\": 1.970807, \"y\": -2.826521, \"yshift\": 15, \"z\": -0.194184}, {\"showarrow\": false, \"text\": 7, \"x\": 1.997184, \"y\": -3.170678, \"yshift\": 15, \"z\": 2.322265}, {\"showarrow\": false, \"text\": 8, \"x\": 0.506429, \"y\": -4.61299, \"yshift\": 15, \"z\": 0.971479}, {\"showarrow\": false, \"text\": 9, \"x\": -0.151052, \"y\": -2.228108, \"yshift\": 15, \"z\": 1.100702}, {\"showarrow\": false, \"text\": 10, \"x\": 1.507175, \"y\": -2.22261, \"yshift\": 15, \"z\": -0.814863}]}], \"label\": \"Indices\", \"method\": \"relayout\"}, {\"args\": [{\"scene.annotations\": [{\"showarrow\": false, \"text\": 0, \"x\": 0.163906, \"y\": 1.513491, \"yshift\": 15, \"z\": 0.430397}, {\"showarrow\": false, \"text\": 1, \"x\": 0.275876, \"y\": -0.844048, \"yshift\": 15, \"z\": 1.349462}, {\"showarrow\": false, \"text\": 2, \"x\": 0.456722, \"y\": -0.640095, \"yshift\": 15, \"z\": -1.228184}, {\"showarrow\": false, \"text\": 3, \"x\": -1.291854, \"y\": 0.920948, \"yshift\": 15, \"z\": 0.125181}, {\"showarrow\": false, \"text\": 4, \"x\": 0.0, \"y\": 0.0, \"yshift\": 15, \"z\": 0.0}, {\"showarrow\": false, \"text\": 5, \"x\": 1.155142, \"y\": -3.265485, \"yshift\": 15, \"z\": 1.082441}, {\"showarrow\": false, \"text\": 6, \"x\": 1.970807, \"y\": -2.826521, \"yshift\": 15, \"z\": -0.194184}, {\"showarrow\": false, \"text\": 7, \"x\": 1.997184, \"y\": -3.170678, \"yshift\": 15, \"z\": 2.322265}, {\"showarrow\": false, \"text\": 8, \"x\": 0.506429, \"y\": -4.61299, \"yshift\": 15, \"z\": 0.971479}, {\"showarrow\": false, \"text\": 9, \"x\": -0.151052, \"y\": -2.228108, \"yshift\": 15, \"z\": 1.100702}, {\"showarrow\": false, \"text\": 10, \"x\": 1.507175, \"y\": -2.22261, \"yshift\": 15, \"z\": -0.814863}, {\"font\": {\"color\": \"steelblue\"}, \"showarrow\": false, \"text\": \"1.582\", \"x\": 0.081953, \"y\": 0.7567455, \"yshift\": 15, \"z\": 0.2151985}, {\"font\": {\"color\": \"steelblue\"}, \"showarrow\": false, \"text\": \"1.615\", \"x\": 0.137938, \"y\": -0.422024, \"yshift\": 15, \"z\": 0.674731}, {\"font\": {\"color\": \"steelblue\"}, \"showarrow\": false, \"text\": \"1.458\", \"x\": 0.228361, \"y\": -0.3200475, \"yshift\": 15, \"z\": -0.614092}, {\"font\": {\"color\": \"steelblue\"}, \"showarrow\": false, \"text\": \"1.591\", \"x\": -0.645927, \"y\": 0.460474, \"yshift\": 15, \"z\": 0.0625905}, {\"font\": {\"color\": \"steelblue\"}, \"showarrow\": false, \"text\": \"1.577\", \"x\": 1.5629745, \"y\": -3.046003, \"yshift\": 15, \"z\": 0.4441285}, {\"font\": {\"color\": \"steelblue\"}, \"showarrow\": false, \"text\": \"1.502\", \"x\": 1.576163, \"y\": -3.2180815000000003, \"yshift\": 15, \"z\": 1.702353}, {\"font\": {\"color\": \"steelblue\"}, \"showarrow\": false, \"text\": \"1.500\", \"x\": 0.8307855, \"y\": -3.9392375, \"yshift\": 15, \"z\": 1.0269599999999999}, {\"font\": {\"color\": \"steelblue\"}, \"showarrow\": false, \"text\": \"1.668\", \"x\": 0.502045, \"y\": -2.7467965000000003, \"yshift\": 15, \"z\": 1.0915715000000001}, {\"font\": {\"color\": \"steelblue\"}, \"showarrow\": false, \"text\": \"0.982\", \"x\": 1.738991, \"y\": -2.5245655, \"yshift\": 15, \"z\": -0.5045235}, {\"font\": {\"color\": \"steelblue\"}, \"showarrow\": false, \"text\": 1.944, \"x\": 0.9819485, \"y\": -1.4313525, \"yshift\": 15, \"z\": -1.0215235}]}], \"label\": \"Indices & Bond Lengths\", \"method\": \"relayout\"}, {\"args\": [{\"scene.annotations\": [{\"font\": {\"color\": \"steelblue\"}, \"showarrow\": false, \"text\": \"1.582\", \"x\": 0.081953, \"y\": 0.7567455, \"yshift\": 15, \"z\": 0.2151985}, {\"font\": {\"color\": \"steelblue\"}, \"showarrow\": false, \"text\": \"1.615\", \"x\": 0.137938, \"y\": -0.422024, \"yshift\": 15, \"z\": 0.674731}, {\"font\": {\"color\": \"steelblue\"}, \"showarrow\": false, \"text\": \"1.458\", \"x\": 0.228361, \"y\": -0.3200475, \"yshift\": 15, \"z\": -0.614092}, {\"font\": {\"color\": \"steelblue\"}, \"showarrow\": false, \"text\": \"1.591\", \"x\": -0.645927, \"y\": 0.460474, \"yshift\": 15, \"z\": 0.0625905}, {\"font\": {\"color\": \"steelblue\"}, \"showarrow\": false, \"text\": \"1.577\", \"x\": 1.5629745, \"y\": -3.046003, \"yshift\": 15, \"z\": 0.4441285}, {\"font\": {\"color\": \"steelblue\"}, \"showarrow\": false, \"text\": \"1.502\", \"x\": 1.576163, \"y\": -3.2180815000000003, \"yshift\": 15, \"z\": 1.702353}, {\"font\": {\"color\": \"steelblue\"}, \"showarrow\": false, \"text\": \"1.500\", \"x\": 0.8307855, \"y\": -3.9392375, \"yshift\": 15, \"z\": 1.0269599999999999}, {\"font\": {\"color\": \"steelblue\"}, \"showarrow\": false, \"text\": \"1.668\", \"x\": 0.502045, \"y\": -2.7467965000000003, \"yshift\": 15, \"z\": 1.0915715000000001}, {\"font\": {\"color\": \"steelblue\"}, \"showarrow\": false, \"text\": \"0.982\", \"x\": 1.738991, \"y\": -2.5245655, \"yshift\": 15, \"z\": -0.5045235}, {\"font\": {\"color\": \"steelblue\"}, \"showarrow\": false, \"text\": 1.944, \"x\": 0.9819485, \"y\": -1.4313525, \"yshift\": 15, \"z\": -1.0215235}]}], \"label\": \"Bond Lengths\", \"method\": \"relayout\"}, {\"args\": [{}], \"label\": \"Hide All\", \"method\": \"relayout\"}], \"direction\": \"down\", \"xanchor\": \"left\", \"yanchor\": \"top\"}]},                        {\"responsive\": true}                    ).then(function(){\n",
       "                            \n",
       "var gd = document.getElementById('233cbc2b-1c9e-484c-b165-9a5ca2bd6d17');\n",
       "var x = new MutationObserver(function (mutations, observer) {{\n",
       "        var display = window.getComputedStyle(gd).display;\n",
       "        if (!display || display === 'none') {{\n",
       "            console.log([gd, 'removed!']);\n",
       "            Plotly.purge(gd);\n",
       "            observer.disconnect();\n",
       "        }}\n",
       "}});\n",
       "\n",
       "// Listen for the removal of the full notebook cells\n",
       "var notebookContainer = gd.closest('#notebook-container');\n",
       "if (notebookContainer) {{\n",
       "    x.observe(notebookContainer, {childList: true});\n",
       "}}\n",
       "\n",
       "// Listen for the clearing of the current output cell\n",
       "var outputEl = gd.closest('.output');\n",
       "if (outputEl) {{\n",
       "    x.observe(outputEl, {childList: true});\n",
       "}}\n",
       "\n",
       "                        })                };                });            </script>        </div>"
      ]
     },
     "metadata": {},
     "output_type": "display_data"
    }
   ],
   "source": [
    "path = '/home/rasin/Workspace/Project/Crystal/Data/cartesian_json/pos/*.json'\n",
    "\n",
    "for i in sorted(glob(path)):\n",
    "\n",
    "    mg = CrystalGraph()\n",
    "    mg.read_json(i)\n",
    "    fig = to_plotly_figure(mg)\n",
    "    iplot(fig)"
   ]
  },
  {
   "cell_type": "code",
   "execution_count": null,
   "metadata": {},
   "outputs": [],
   "source": [
    "path = '/home/rasin/Workspace/Project/Crystal/Data/cartesian_json/monomer/*.json'\n",
    "\n",
    "for i in sorted(glob(path)):\n",
    "\n",
    "    mg = CrystalGraph()\n",
    "    mg.read_json(i)\n",
    "    fig = to_plotly_figure(mg)\n",
    "    iplot(fig)"
   ]
  },
  {
   "cell_type": "code",
   "execution_count": null,
   "metadata": {},
   "outputs": [],
   "source": [
    "path = '/home/rasin/Workspace/Project/Crystal/Data/cartesian_json/neg/*.json'\n",
    "\n",
    "for i in sorted(glob(path)):\n",
    "\n",
    "    mg = CrystalGraph()\n",
    "    mg.read_json(i)\n",
    "    fig = to_plotly_figure(mg)\n",
    "    iplot(fig)"
   ]
  },
  {
   "cell_type": "code",
   "execution_count": null,
   "metadata": {},
   "outputs": [],
   "source": []
  }
 ],
 "metadata": {
  "kernelspec": {
   "display_name": "Python 3.6.10 64-bit ('deepchem': conda)",
   "language": "python",
   "name": "python361064bitdeepchemcondae22fa34d74bf4440a4ed22f95299f706"
  },
  "language_info": {
   "codemirror_mode": {
    "name": "ipython",
    "version": 3
   },
   "file_extension": ".py",
   "mimetype": "text/x-python",
   "name": "python",
   "nbconvert_exporter": "python",
   "pygments_lexer": "ipython3",
   "version": "3.6.12"
  }
 },
 "nbformat": 4,
 "nbformat_minor": 4
}
